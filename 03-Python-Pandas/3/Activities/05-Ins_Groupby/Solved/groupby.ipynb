{
 "cells": [
  {
   "cell_type": "markdown",
   "metadata": {},
   "source": [
    "### Import Libraries and Dependencies"
   ]
  },
  {
   "cell_type": "code",
   "execution_count": null,
   "metadata": {},
   "outputs": [],
   "source": [
    "import pandas as pd\n",
    "from pathlib import Path\n",
    "%matplotlib inline"
   ]
  },
  {
   "cell_type": "markdown",
   "metadata": {},
   "source": [
    "### Read in File and Clean Data"
   ]
  },
  {
   "cell_type": "code",
   "execution_count": null,
   "metadata": {},
   "outputs": [],
   "source": [
    "# Read CSV\n",
    "csv_path = Path('../Resources/crypto_data.csv')\n",
    "crypto_data = pd.read_csv(csv_path, index_col='data_date', parse_dates=True, infer_datetime_format=True)\n",
    "crypto_data\n",
    "\n",
    "# Drop all columns cryptocurrency and data_priceUsd\n",
    "crypto_data = crypto_data.drop(columns=['data_time','timestamp'])\n",
    "\n",
    "# Sort the dates in ascending order\n",
    "crypto_data = crypto_data.sort_index()\n",
    "\n",
    "# Drop missing values\n",
    "crypto_data = crypto_data.dropna()\n",
    "crypto_data.head()"
   ]
  },
  {
   "cell_type": "markdown",
   "metadata": {},
   "source": [
    "### Group DataFrame and perform `count` aggregation"
   ]
  },
  {
   "cell_type": "code",
   "execution_count": null,
   "metadata": {},
   "outputs": [],
   "source": [
    "# Group by crypto data by cryptocurrency and perform count\n",
    "crypto_data_grp = crypto_data.groupby('cryptocurrency').count()\n",
    "crypto_data_grp"
   ]
  },
  {
   "cell_type": "markdown",
   "metadata": {},
   "source": [
    "### Group DataFrame without aggregate function"
   ]
  },
  {
   "cell_type": "code",
   "execution_count": null,
   "metadata": {},
   "outputs": [],
   "source": [
    "# Group by crypto data by cryptocurrency\n",
    "crypto_data_grp = crypto_data.groupby('cryptocurrency')\n",
    "crypto_data_grp"
   ]
  },
  {
   "cell_type": "markdown",
   "metadata": {},
   "source": [
    "### Group DataFrame by `cryptocurrency` and calculate the average `data_priceUsd`"
   ]
  },
  {
   "cell_type": "code",
   "execution_count": null,
   "metadata": {},
   "outputs": [],
   "source": [
    "# Calculate average data_priceUsd for each crypto\n",
    "crypto_data_mean = crypto_data.groupby('cryptocurrency').mean()\n",
    "crypto_data_mean"
   ]
  },
  {
   "cell_type": "markdown",
   "metadata": {},
   "source": [
    "### Group by more than one column and calculate count"
   ]
  },
  {
   "cell_type": "code",
   "execution_count": null,
   "metadata": {},
   "outputs": [],
   "source": [
    "# Group by more than one column\n",
    "multi_group = crypto_data.groupby(['cryptocurrency','data_priceUsd'])['data_priceUsd'].count()\n",
    "multi_group"
   ]
  },
  {
   "cell_type": "markdown",
   "metadata": {},
   "source": [
    "### Group by more than one column, round price to two decimal places, and calculate count"
   ]
  },
  {
   "cell_type": "code",
   "execution_count": null,
   "metadata": {},
   "outputs": [],
   "source": [
    "# Group by more than one column after rounding to two decimal places\n",
    "rounded_crypto_data = crypto_data.round({'data_priceUsd': 2})\n",
    "\n",
    "multi_group = rounded_crypto_data.groupby(['cryptocurrency','data_priceUsd'])['data_priceUsd'].count()\n",
    "multi_group"
   ]
  },
  {
   "cell_type": "markdown",
   "metadata": {},
   "source": [
    "### Compare single column grouping to multicolumn grouping"
   ]
  },
  {
   "cell_type": "code",
   "execution_count": null,
   "metadata": {},
   "outputs": [],
   "source": [
    "# Compare one column group with multiple column group\n",
    "single_group = crypto_data.groupby('cryptocurrency')['data_priceUsd'].count()\n",
    "single_group"
   ]
  },
  {
   "cell_type": "markdown",
   "metadata": {},
   "source": [
    "### Plot grouped data to generate more than one line on the same chart"
   ]
  },
  {
   "cell_type": "code",
   "execution_count": null,
   "metadata": {},
   "outputs": [],
   "source": [
    "# Plot data_priceUsd for each crypto across time\n",
    "grouped_cryptos = crypto_data.groupby('cryptocurrency')['data_priceUsd'].plot(legend=True)\n",
    "grouped_cryptos"
   ]
  }
 ],
 "metadata": {
  "kernelspec": {
   "display_name": "Python 3",
   "language": "python",
   "name": "python3"
  },
  "language_info": {
   "codemirror_mode": {
    "name": "ipython",
    "version": 3
   },
   "file_extension": ".py",
   "mimetype": "text/x-python",
   "name": "python",
   "nbconvert_exporter": "python",
   "pygments_lexer": "ipython3",
   "version": "3.7.3"
  }
 },
 "nbformat": 4,
 "nbformat_minor": 4
}
