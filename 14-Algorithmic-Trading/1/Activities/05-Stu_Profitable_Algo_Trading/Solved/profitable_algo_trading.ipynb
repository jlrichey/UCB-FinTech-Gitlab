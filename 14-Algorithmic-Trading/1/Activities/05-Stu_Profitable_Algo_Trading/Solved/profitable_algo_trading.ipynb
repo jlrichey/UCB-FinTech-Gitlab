{
 "cells": [
  {
   "cell_type": "markdown",
   "metadata": {},
   "source": [
    "# Profitable Algorithmic Trading\n",
    "\n",
    "In this activity, you’ll determine the profitabiltiy of your previous algorithm: \n",
    "\n",
    "## Instructions:\n",
    "\n",
    "1. Using the data that the starter notebook supplies, run the code cells that import the required libraries.\n",
    "\n",
    "2. Run all the code that replicates the previous algorithm.\n",
    "\n",
    "3. Create a new variable called 'cumul_ret_buy_hold' and 'cumul_ret_algo' and plot them together.\n",
    "\n",
    "4. Calculate the total return for both strategies over the entire sample period.\n",
    "\n",
    "4. Annualize the returns for both strategies.\n",
    "\n",
    "## References:\n",
    "\n",
    "* [Pandas `cumprod` function documentation](https://pandas.pydata.org/pandas-docs/stable/reference/api/pandas.DataFrame.cumprod.html)\n",
    "\n",
    "* [Pandas `round` function documentation](https://pandas.pydata.org/docs/reference/api/pandas.DataFrame.round.html)\n"
   ]
  },
  {
   "cell_type": "code",
   "execution_count": 1,
   "metadata": {},
   "outputs": [
    {
     "data": {
      "application/javascript": "(function(root) {\n  function now() {\n    return new Date();\n  }\n\n  var force = true;\n  var py_version = '3.3.4'.replace('rc', '-rc.').replace('.dev', '-dev.');\n  var reloading = false;\n  var Bokeh = root.Bokeh;\n\n  if (typeof (root._bokeh_timeout) === \"undefined\" || force) {\n    root._bokeh_timeout = Date.now() + 5000;\n    root._bokeh_failed_load = false;\n  }\n\n  function run_callbacks() {\n    try {\n      root._bokeh_onload_callbacks.forEach(function(callback) {\n        if (callback != null)\n          callback();\n      });\n    } finally {\n      delete root._bokeh_onload_callbacks;\n    }\n    console.debug(\"Bokeh: all callbacks have finished\");\n  }\n\n  function load_libs(css_urls, js_urls, js_modules, js_exports, callback) {\n    if (css_urls == null) css_urls = [];\n    if (js_urls == null) js_urls = [];\n    if (js_modules == null) js_modules = [];\n    if (js_exports == null) js_exports = {};\n\n    root._bokeh_onload_callbacks.push(callback);\n\n    if (root._bokeh_is_loading > 0) {\n      console.debug(\"Bokeh: BokehJS is being loaded, scheduling callback at\", now());\n      return null;\n    }\n    if (js_urls.length === 0 && js_modules.length === 0 && Object.keys(js_exports).length === 0) {\n      run_callbacks();\n      return null;\n    }\n    if (!reloading) {\n      console.debug(\"Bokeh: BokehJS not loaded, scheduling load and callback at\", now());\n    }\n\n    function on_load() {\n      root._bokeh_is_loading--;\n      if (root._bokeh_is_loading === 0) {\n        console.debug(\"Bokeh: all BokehJS libraries/stylesheets loaded\");\n        run_callbacks()\n      }\n    }\n    window._bokeh_on_load = on_load\n\n    function on_error() {\n      console.error(\"failed to load \" + url);\n    }\n\n    var skip = [];\n    if (window.requirejs) {\n      window.requirejs.config({'packages': {}, 'paths': {'jspanel': 'https://cdn.jsdelivr.net/npm/jspanel4@4.12.0/dist/jspanel', 'jspanel-modal': 'https://cdn.jsdelivr.net/npm/jspanel4@4.12.0/dist/extensions/modal/jspanel.modal', 'jspanel-tooltip': 'https://cdn.jsdelivr.net/npm/jspanel4@4.12.0/dist/extensions/tooltip/jspanel.tooltip', 'jspanel-hint': 'https://cdn.jsdelivr.net/npm/jspanel4@4.12.0/dist/extensions/hint/jspanel.hint', 'jspanel-layout': 'https://cdn.jsdelivr.net/npm/jspanel4@4.12.0/dist/extensions/layout/jspanel.layout', 'jspanel-contextmenu': 'https://cdn.jsdelivr.net/npm/jspanel4@4.12.0/dist/extensions/contextmenu/jspanel.contextmenu', 'jspanel-dock': 'https://cdn.jsdelivr.net/npm/jspanel4@4.12.0/dist/extensions/dock/jspanel.dock', 'gridstack': 'https://cdn.jsdelivr.net/npm/gridstack@7.2.3/dist/gridstack-all', 'notyf': 'https://cdn.jsdelivr.net/npm/notyf@3/notyf.min'}, 'shim': {'jspanel': {'exports': 'jsPanel'}, 'gridstack': {'exports': 'GridStack'}}});\n      require([\"jspanel\"], function(jsPanel) {\n\twindow.jsPanel = jsPanel\n\ton_load()\n      })\n      require([\"jspanel-modal\"], function() {\n\ton_load()\n      })\n      require([\"jspanel-tooltip\"], function() {\n\ton_load()\n      })\n      require([\"jspanel-hint\"], function() {\n\ton_load()\n      })\n      require([\"jspanel-layout\"], function() {\n\ton_load()\n      })\n      require([\"jspanel-contextmenu\"], function() {\n\ton_load()\n      })\n      require([\"jspanel-dock\"], function() {\n\ton_load()\n      })\n      require([\"gridstack\"], function(GridStack) {\n\twindow.GridStack = GridStack\n\ton_load()\n      })\n      require([\"notyf\"], function() {\n\ton_load()\n      })\n      root._bokeh_is_loading = css_urls.length + 9;\n    } else {\n      root._bokeh_is_loading = css_urls.length + js_urls.length + js_modules.length + Object.keys(js_exports).length;\n    }\n\n    var existing_stylesheets = []\n    var links = document.getElementsByTagName('link')\n    for (var i = 0; i < links.length; i++) {\n      var link = links[i]\n      if (link.href != null) {\n\texisting_stylesheets.push(link.href)\n      }\n    }\n    for (var i = 0; i < css_urls.length; i++) {\n      var url = css_urls[i];\n      if (existing_stylesheets.indexOf(url) !== -1) {\n\ton_load()\n\tcontinue;\n      }\n      const element = document.createElement(\"link\");\n      element.onload = on_load;\n      element.onerror = on_error;\n      element.rel = \"stylesheet\";\n      element.type = \"text/css\";\n      element.href = url;\n      console.debug(\"Bokeh: injecting link tag for BokehJS stylesheet: \", url);\n      document.body.appendChild(element);\n    }    if (((window['jsPanel'] !== undefined) && (!(window['jsPanel'] instanceof HTMLElement))) || window.requirejs) {\n      var urls = ['https://cdn.holoviz.org/panel/1.3.8/dist/bundled/floatpanel/jspanel4@4.12.0/dist/jspanel.js', 'https://cdn.holoviz.org/panel/1.3.8/dist/bundled/floatpanel/jspanel4@4.12.0/dist/extensions/modal/jspanel.modal.js', 'https://cdn.holoviz.org/panel/1.3.8/dist/bundled/floatpanel/jspanel4@4.12.0/dist/extensions/tooltip/jspanel.tooltip.js', 'https://cdn.holoviz.org/panel/1.3.8/dist/bundled/floatpanel/jspanel4@4.12.0/dist/extensions/hint/jspanel.hint.js', 'https://cdn.holoviz.org/panel/1.3.8/dist/bundled/floatpanel/jspanel4@4.12.0/dist/extensions/layout/jspanel.layout.js', 'https://cdn.holoviz.org/panel/1.3.8/dist/bundled/floatpanel/jspanel4@4.12.0/dist/extensions/contextmenu/jspanel.contextmenu.js', 'https://cdn.holoviz.org/panel/1.3.8/dist/bundled/floatpanel/jspanel4@4.12.0/dist/extensions/dock/jspanel.dock.js'];\n      for (var i = 0; i < urls.length; i++) {\n        skip.push(urls[i])\n      }\n    }    if (((window['GridStack'] !== undefined) && (!(window['GridStack'] instanceof HTMLElement))) || window.requirejs) {\n      var urls = ['https://cdn.holoviz.org/panel/1.3.8/dist/bundled/gridstack/gridstack@7.2.3/dist/gridstack-all.js'];\n      for (var i = 0; i < urls.length; i++) {\n        skip.push(urls[i])\n      }\n    }    if (((window['Notyf'] !== undefined) && (!(window['Notyf'] instanceof HTMLElement))) || window.requirejs) {\n      var urls = ['https://cdn.holoviz.org/panel/1.3.8/dist/bundled/notificationarea/notyf@3/notyf.min.js'];\n      for (var i = 0; i < urls.length; i++) {\n        skip.push(urls[i])\n      }\n    }    var existing_scripts = []\n    var scripts = document.getElementsByTagName('script')\n    for (var i = 0; i < scripts.length; i++) {\n      var script = scripts[i]\n      if (script.src != null) {\n\texisting_scripts.push(script.src)\n      }\n    }\n    for (var i = 0; i < js_urls.length; i++) {\n      var url = js_urls[i];\n      if (skip.indexOf(url) !== -1 || existing_scripts.indexOf(url) !== -1) {\n\tif (!window.requirejs) {\n\t  on_load();\n\t}\n\tcontinue;\n      }\n      var element = document.createElement('script');\n      element.onload = on_load;\n      element.onerror = on_error;\n      element.async = false;\n      element.src = url;\n      console.debug(\"Bokeh: injecting script tag for BokehJS library: \", url);\n      document.head.appendChild(element);\n    }\n    for (var i = 0; i < js_modules.length; i++) {\n      var url = js_modules[i];\n      if (skip.indexOf(url) !== -1 || existing_scripts.indexOf(url) !== -1) {\n\tif (!window.requirejs) {\n\t  on_load();\n\t}\n\tcontinue;\n      }\n      var element = document.createElement('script');\n      element.onload = on_load;\n      element.onerror = on_error;\n      element.async = false;\n      element.src = url;\n      element.type = \"module\";\n      console.debug(\"Bokeh: injecting script tag for BokehJS library: \", url);\n      document.head.appendChild(element);\n    }\n    for (const name in js_exports) {\n      var url = js_exports[name];\n      if (skip.indexOf(url) >= 0 || root[name] != null) {\n\tif (!window.requirejs) {\n\t  on_load();\n\t}\n\tcontinue;\n      }\n      var element = document.createElement('script');\n      element.onerror = on_error;\n      element.async = false;\n      element.type = \"module\";\n      console.debug(\"Bokeh: injecting script tag for BokehJS library: \", url);\n      element.textContent = `\n      import ${name} from \"${url}\"\n      window.${name} = ${name}\n      window._bokeh_on_load()\n      `\n      document.head.appendChild(element);\n    }\n    if (!js_urls.length && !js_modules.length) {\n      on_load()\n    }\n  };\n\n  function inject_raw_css(css) {\n    const element = document.createElement(\"style\");\n    element.appendChild(document.createTextNode(css));\n    document.body.appendChild(element);\n  }\n\n  var js_urls = [\"https://cdn.bokeh.org/bokeh/release/bokeh-3.3.4.min.js\", \"https://cdn.bokeh.org/bokeh/release/bokeh-gl-3.3.4.min.js\", \"https://cdn.bokeh.org/bokeh/release/bokeh-widgets-3.3.4.min.js\", \"https://cdn.bokeh.org/bokeh/release/bokeh-tables-3.3.4.min.js\", \"https://cdn.holoviz.org/panel/1.3.8/dist/panel.min.js\"];\n  var js_modules = [];\n  var js_exports = {};\n  var css_urls = [];\n  var inline_js = [    function(Bokeh) {\n      Bokeh.set_log_level(\"info\");\n    },\nfunction(Bokeh) {} // ensure no trailing comma for IE\n  ];\n\n  function run_inline_js() {\n    if ((root.Bokeh !== undefined) || (force === true)) {\n      for (var i = 0; i < inline_js.length; i++) {\n\ttry {\n          inline_js[i].call(root, root.Bokeh);\n\t} catch(e) {\n\t  if (!reloading) {\n\t    throw e;\n\t  }\n\t}\n      }\n      // Cache old bokeh versions\n      if (Bokeh != undefined && !reloading) {\n\tvar NewBokeh = root.Bokeh;\n\tif (Bokeh.versions === undefined) {\n\t  Bokeh.versions = new Map();\n\t}\n\tif (NewBokeh.version !== Bokeh.version) {\n\t  Bokeh.versions.set(NewBokeh.version, NewBokeh)\n\t}\n\troot.Bokeh = Bokeh;\n      }} else if (Date.now() < root._bokeh_timeout) {\n      setTimeout(run_inline_js, 100);\n    } else if (!root._bokeh_failed_load) {\n      console.log(\"Bokeh: BokehJS failed to load within specified timeout.\");\n      root._bokeh_failed_load = true;\n    }\n    root._bokeh_is_initializing = false\n  }\n\n  function load_or_wait() {\n    // Implement a backoff loop that tries to ensure we do not load multiple\n    // versions of Bokeh and its dependencies at the same time.\n    // In recent versions we use the root._bokeh_is_initializing flag\n    // to determine whether there is an ongoing attempt to initialize\n    // bokeh, however for backward compatibility we also try to ensure\n    // that we do not start loading a newer (Panel>=1.0 and Bokeh>3) version\n    // before older versions are fully initialized.\n    if (root._bokeh_is_initializing && Date.now() > root._bokeh_timeout) {\n      root._bokeh_is_initializing = false;\n      root._bokeh_onload_callbacks = undefined;\n      console.log(\"Bokeh: BokehJS was loaded multiple times but one version failed to initialize.\");\n      load_or_wait();\n    } else if (root._bokeh_is_initializing || (typeof root._bokeh_is_initializing === \"undefined\" && root._bokeh_onload_callbacks !== undefined)) {\n      setTimeout(load_or_wait, 100);\n    } else {\n      root._bokeh_is_initializing = true\n      root._bokeh_onload_callbacks = []\n      var bokeh_loaded = Bokeh != null && (Bokeh.version === py_version || (Bokeh.versions !== undefined && Bokeh.versions.has(py_version)));\n      if (!reloading && !bokeh_loaded) {\n\troot.Bokeh = undefined;\n      }\n      load_libs(css_urls, js_urls, js_modules, js_exports, function() {\n\tconsole.debug(\"Bokeh: BokehJS plotting callback run at\", now());\n\trun_inline_js();\n      });\n    }\n  }\n  // Give older versions of the autoload script a head-start to ensure\n  // they initialize before we start loading newer version.\n  setTimeout(load_or_wait, 100)\n}(window));",
      "application/vnd.holoviews_load.v0+json": ""
     },
     "metadata": {},
     "output_type": "display_data"
    },
    {
     "data": {
      "application/javascript": "\nif ((window.PyViz === undefined) || (window.PyViz instanceof HTMLElement)) {\n  window.PyViz = {comms: {}, comm_status:{}, kernels:{}, receivers: {}, plot_index: []}\n}\n\n\n    function JupyterCommManager() {\n    }\n\n    JupyterCommManager.prototype.register_target = function(plot_id, comm_id, msg_handler) {\n      if (window.comm_manager || ((window.Jupyter !== undefined) && (Jupyter.notebook.kernel != null))) {\n        var comm_manager = window.comm_manager || Jupyter.notebook.kernel.comm_manager;\n        comm_manager.register_target(comm_id, function(comm) {\n          comm.on_msg(msg_handler);\n        });\n      } else if ((plot_id in window.PyViz.kernels) && (window.PyViz.kernels[plot_id])) {\n        window.PyViz.kernels[plot_id].registerCommTarget(comm_id, function(comm) {\n          comm.onMsg = msg_handler;\n        });\n      } else if (typeof google != 'undefined' && google.colab.kernel != null) {\n        google.colab.kernel.comms.registerTarget(comm_id, (comm) => {\n          var messages = comm.messages[Symbol.asyncIterator]();\n          function processIteratorResult(result) {\n            var message = result.value;\n            console.log(message)\n            var content = {data: message.data, comm_id};\n            var buffers = []\n            for (var buffer of message.buffers || []) {\n              buffers.push(new DataView(buffer))\n            }\n            var metadata = message.metadata || {};\n            var msg = {content, buffers, metadata}\n            msg_handler(msg);\n            return messages.next().then(processIteratorResult);\n          }\n          return messages.next().then(processIteratorResult);\n        })\n      }\n    }\n\n    JupyterCommManager.prototype.get_client_comm = function(plot_id, comm_id, msg_handler) {\n      if (comm_id in window.PyViz.comms) {\n        return window.PyViz.comms[comm_id];\n      } else if (window.comm_manager || ((window.Jupyter !== undefined) && (Jupyter.notebook.kernel != null))) {\n        var comm_manager = window.comm_manager || Jupyter.notebook.kernel.comm_manager;\n        var comm = comm_manager.new_comm(comm_id, {}, {}, {}, comm_id);\n        if (msg_handler) {\n          comm.on_msg(msg_handler);\n        }\n      } else if ((plot_id in window.PyViz.kernels) && (window.PyViz.kernels[plot_id])) {\n        var comm = window.PyViz.kernels[plot_id].connectToComm(comm_id);\n        comm.open();\n        if (msg_handler) {\n          comm.onMsg = msg_handler;\n        }\n      } else if (typeof google != 'undefined' && google.colab.kernel != null) {\n        var comm_promise = google.colab.kernel.comms.open(comm_id)\n        comm_promise.then((comm) => {\n          window.PyViz.comms[comm_id] = comm;\n          if (msg_handler) {\n            var messages = comm.messages[Symbol.asyncIterator]();\n            function processIteratorResult(result) {\n              var message = result.value;\n              var content = {data: message.data};\n              var metadata = message.metadata || {comm_id};\n              var msg = {content, metadata}\n              msg_handler(msg);\n              return messages.next().then(processIteratorResult);\n            }\n            return messages.next().then(processIteratorResult);\n          }\n        }) \n        var sendClosure = (data, metadata, buffers, disposeOnDone) => {\n          return comm_promise.then((comm) => {\n            comm.send(data, metadata, buffers, disposeOnDone);\n          });\n        };\n        var comm = {\n          send: sendClosure\n        };\n      }\n      window.PyViz.comms[comm_id] = comm;\n      return comm;\n    }\n    window.PyViz.comm_manager = new JupyterCommManager();\n    \n\n\nvar JS_MIME_TYPE = 'application/javascript';\nvar HTML_MIME_TYPE = 'text/html';\nvar EXEC_MIME_TYPE = 'application/vnd.holoviews_exec.v0+json';\nvar CLASS_NAME = 'output';\n\n/**\n * Render data to the DOM node\n */\nfunction render(props, node) {\n  var div = document.createElement(\"div\");\n  var script = document.createElement(\"script\");\n  node.appendChild(div);\n  node.appendChild(script);\n}\n\n/**\n * Handle when a new output is added\n */\nfunction handle_add_output(event, handle) {\n  var output_area = handle.output_area;\n  var output = handle.output;\n  if ((output.data == undefined) || (!output.data.hasOwnProperty(EXEC_MIME_TYPE))) {\n    return\n  }\n  var id = output.metadata[EXEC_MIME_TYPE][\"id\"];\n  var toinsert = output_area.element.find(\".\" + CLASS_NAME.split(' ')[0]);\n  if (id !== undefined) {\n    var nchildren = toinsert.length;\n    var html_node = toinsert[nchildren-1].children[0];\n    html_node.innerHTML = output.data[HTML_MIME_TYPE];\n    var scripts = [];\n    var nodelist = html_node.querySelectorAll(\"script\");\n    for (var i in nodelist) {\n      if (nodelist.hasOwnProperty(i)) {\n        scripts.push(nodelist[i])\n      }\n    }\n\n    scripts.forEach( function (oldScript) {\n      var newScript = document.createElement(\"script\");\n      var attrs = [];\n      var nodemap = oldScript.attributes;\n      for (var j in nodemap) {\n        if (nodemap.hasOwnProperty(j)) {\n          attrs.push(nodemap[j])\n        }\n      }\n      attrs.forEach(function(attr) { newScript.setAttribute(attr.name, attr.value) });\n      newScript.appendChild(document.createTextNode(oldScript.innerHTML));\n      oldScript.parentNode.replaceChild(newScript, oldScript);\n    });\n    if (JS_MIME_TYPE in output.data) {\n      toinsert[nchildren-1].children[1].textContent = output.data[JS_MIME_TYPE];\n    }\n    output_area._hv_plot_id = id;\n    if ((window.Bokeh !== undefined) && (id in Bokeh.index)) {\n      window.PyViz.plot_index[id] = Bokeh.index[id];\n    } else {\n      window.PyViz.plot_index[id] = null;\n    }\n  } else if (output.metadata[EXEC_MIME_TYPE][\"server_id\"] !== undefined) {\n    var bk_div = document.createElement(\"div\");\n    bk_div.innerHTML = output.data[HTML_MIME_TYPE];\n    var script_attrs = bk_div.children[0].attributes;\n    for (var i = 0; i < script_attrs.length; i++) {\n      toinsert[toinsert.length - 1].childNodes[1].setAttribute(script_attrs[i].name, script_attrs[i].value);\n    }\n    // store reference to server id on output_area\n    output_area._bokeh_server_id = output.metadata[EXEC_MIME_TYPE][\"server_id\"];\n  }\n}\n\n/**\n * Handle when an output is cleared or removed\n */\nfunction handle_clear_output(event, handle) {\n  var id = handle.cell.output_area._hv_plot_id;\n  var server_id = handle.cell.output_area._bokeh_server_id;\n  if (((id === undefined) || !(id in PyViz.plot_index)) && (server_id !== undefined)) { return; }\n  var comm = window.PyViz.comm_manager.get_client_comm(\"hv-extension-comm\", \"hv-extension-comm\", function () {});\n  if (server_id !== null) {\n    comm.send({event_type: 'server_delete', 'id': server_id});\n    return;\n  } else if (comm !== null) {\n    comm.send({event_type: 'delete', 'id': id});\n  }\n  delete PyViz.plot_index[id];\n  if ((window.Bokeh !== undefined) & (id in window.Bokeh.index)) {\n    var doc = window.Bokeh.index[id].model.document\n    doc.clear();\n    const i = window.Bokeh.documents.indexOf(doc);\n    if (i > -1) {\n      window.Bokeh.documents.splice(i, 1);\n    }\n  }\n}\n\n/**\n * Handle kernel restart event\n */\nfunction handle_kernel_cleanup(event, handle) {\n  delete PyViz.comms[\"hv-extension-comm\"];\n  window.PyViz.plot_index = {}\n}\n\n/**\n * Handle update_display_data messages\n */\nfunction handle_update_output(event, handle) {\n  handle_clear_output(event, {cell: {output_area: handle.output_area}})\n  handle_add_output(event, handle)\n}\n\nfunction register_renderer(events, OutputArea) {\n  function append_mime(data, metadata, element) {\n    // create a DOM node to render to\n    var toinsert = this.create_output_subarea(\n    metadata,\n    CLASS_NAME,\n    EXEC_MIME_TYPE\n    );\n    this.keyboard_manager.register_events(toinsert);\n    // Render to node\n    var props = {data: data, metadata: metadata[EXEC_MIME_TYPE]};\n    render(props, toinsert[0]);\n    element.append(toinsert);\n    return toinsert\n  }\n\n  events.on('output_added.OutputArea', handle_add_output);\n  events.on('output_updated.OutputArea', handle_update_output);\n  events.on('clear_output.CodeCell', handle_clear_output);\n  events.on('delete.Cell', handle_clear_output);\n  events.on('kernel_ready.Kernel', handle_kernel_cleanup);\n\n  OutputArea.prototype.register_mime_type(EXEC_MIME_TYPE, append_mime, {\n    safe: true,\n    index: 0\n  });\n}\n\nif (window.Jupyter !== undefined) {\n  try {\n    var events = require('base/js/events');\n    var OutputArea = require('notebook/js/outputarea').OutputArea;\n    if (OutputArea.prototype.mime_types().indexOf(EXEC_MIME_TYPE) == -1) {\n      register_renderer(events, OutputArea);\n    }\n  } catch(err) {\n  }\n}\n",
      "application/vnd.holoviews_load.v0+json": ""
     },
     "metadata": {},
     "output_type": "display_data"
    },
    {
     "data": {
      "text/html": [
       "<style>*[data-root-id],\n",
       "*[data-root-id] > * {\n",
       "  box-sizing: border-box;\n",
       "  font-family: var(--jp-ui-font-family);\n",
       "  font-size: var(--jp-ui-font-size1);\n",
       "  color: var(--vscode-editor-foreground, var(--jp-ui-font-color1));\n",
       "}\n",
       "\n",
       "/* Override VSCode background color */\n",
       ".cell-output-ipywidget-background:has(\n",
       "    > .cell-output-ipywidget-background > .lm-Widget > *[data-root-id]\n",
       "  ),\n",
       ".cell-output-ipywidget-background:has(> .lm-Widget > *[data-root-id]) {\n",
       "  background-color: transparent !important;\n",
       "}\n",
       "</style>"
      ]
     },
     "metadata": {},
     "output_type": "display_data"
    },
    {
     "data": {
      "application/vnd.holoviews_exec.v0+json": "",
      "text/html": [
       "<div id='p1002'>\n",
       "  <div id=\"f2e07d83-a7af-4e75-a493-ab3883ff2015\" data-root-id=\"p1002\" style=\"display: contents;\"></div>\n",
       "</div>\n",
       "<script type=\"application/javascript\">(function(root) {\n",
       "  var docs_json = {\"618e5b3a-873b-416d-bdeb-24efc4607b70\":{\"version\":\"3.3.4\",\"title\":\"Bokeh Application\",\"roots\":[{\"type\":\"object\",\"name\":\"panel.models.browser.BrowserInfo\",\"id\":\"p1002\"},{\"type\":\"object\",\"name\":\"panel.models.comm_manager.CommManager\",\"id\":\"p1003\",\"attributes\":{\"plot_id\":\"p1002\",\"comm_id\":\"abeaf093f3f441a5a64b4d9b2244156d\",\"client_comm_id\":\"b7a1b7f8450541788aec5c258fc1e911\"}}],\"defs\":[{\"type\":\"model\",\"name\":\"ReactiveHTML1\"},{\"type\":\"model\",\"name\":\"FlexBox1\",\"properties\":[{\"name\":\"align_content\",\"kind\":\"Any\",\"default\":\"flex-start\"},{\"name\":\"align_items\",\"kind\":\"Any\",\"default\":\"flex-start\"},{\"name\":\"flex_direction\",\"kind\":\"Any\",\"default\":\"row\"},{\"name\":\"flex_wrap\",\"kind\":\"Any\",\"default\":\"wrap\"},{\"name\":\"justify_content\",\"kind\":\"Any\",\"default\":\"flex-start\"}]},{\"type\":\"model\",\"name\":\"FloatPanel1\",\"properties\":[{\"name\":\"config\",\"kind\":\"Any\",\"default\":{\"type\":\"map\"}},{\"name\":\"contained\",\"kind\":\"Any\",\"default\":true},{\"name\":\"position\",\"kind\":\"Any\",\"default\":\"right-top\"},{\"name\":\"offsetx\",\"kind\":\"Any\",\"default\":null},{\"name\":\"offsety\",\"kind\":\"Any\",\"default\":null},{\"name\":\"theme\",\"kind\":\"Any\",\"default\":\"primary\"},{\"name\":\"status\",\"kind\":\"Any\",\"default\":\"normalized\"}]},{\"type\":\"model\",\"name\":\"GridStack1\",\"properties\":[{\"name\":\"mode\",\"kind\":\"Any\",\"default\":\"warn\"},{\"name\":\"ncols\",\"kind\":\"Any\",\"default\":null},{\"name\":\"nrows\",\"kind\":\"Any\",\"default\":null},{\"name\":\"allow_resize\",\"kind\":\"Any\",\"default\":true},{\"name\":\"allow_drag\",\"kind\":\"Any\",\"default\":true},{\"name\":\"state\",\"kind\":\"Any\",\"default\":[]}]},{\"type\":\"model\",\"name\":\"drag1\",\"properties\":[{\"name\":\"slider_width\",\"kind\":\"Any\",\"default\":5},{\"name\":\"slider_color\",\"kind\":\"Any\",\"default\":\"black\"},{\"name\":\"value\",\"kind\":\"Any\",\"default\":50}]},{\"type\":\"model\",\"name\":\"click1\",\"properties\":[{\"name\":\"terminal_output\",\"kind\":\"Any\",\"default\":\"\"},{\"name\":\"debug_name\",\"kind\":\"Any\",\"default\":\"\"},{\"name\":\"clears\",\"kind\":\"Any\",\"default\":0}]},{\"type\":\"model\",\"name\":\"copy_to_clipboard1\",\"properties\":[{\"name\":\"fill\",\"kind\":\"Any\",\"default\":\"none\"},{\"name\":\"value\",\"kind\":\"Any\",\"default\":null}]},{\"type\":\"model\",\"name\":\"FastWrapper1\",\"properties\":[{\"name\":\"object\",\"kind\":\"Any\",\"default\":null},{\"name\":\"style\",\"kind\":\"Any\",\"default\":null}]},{\"type\":\"model\",\"name\":\"NotificationAreaBase1\",\"properties\":[{\"name\":\"js_events\",\"kind\":\"Any\",\"default\":{\"type\":\"map\"}},{\"name\":\"position\",\"kind\":\"Any\",\"default\":\"bottom-right\"},{\"name\":\"_clear\",\"kind\":\"Any\",\"default\":0}]},{\"type\":\"model\",\"name\":\"NotificationArea1\",\"properties\":[{\"name\":\"js_events\",\"kind\":\"Any\",\"default\":{\"type\":\"map\"}},{\"name\":\"notifications\",\"kind\":\"Any\",\"default\":[]},{\"name\":\"position\",\"kind\":\"Any\",\"default\":\"bottom-right\"},{\"name\":\"_clear\",\"kind\":\"Any\",\"default\":0},{\"name\":\"types\",\"kind\":\"Any\",\"default\":[{\"type\":\"map\",\"entries\":[[\"type\",\"warning\"],[\"background\",\"#ffc107\"],[\"icon\",{\"type\":\"map\",\"entries\":[[\"className\",\"fas fa-exclamation-triangle\"],[\"tagName\",\"i\"],[\"color\",\"white\"]]}]]},{\"type\":\"map\",\"entries\":[[\"type\",\"info\"],[\"background\",\"#007bff\"],[\"icon\",{\"type\":\"map\",\"entries\":[[\"className\",\"fas fa-info-circle\"],[\"tagName\",\"i\"],[\"color\",\"white\"]]}]]}]}]},{\"type\":\"model\",\"name\":\"Notification\",\"properties\":[{\"name\":\"background\",\"kind\":\"Any\",\"default\":null},{\"name\":\"duration\",\"kind\":\"Any\",\"default\":3000},{\"name\":\"icon\",\"kind\":\"Any\",\"default\":null},{\"name\":\"message\",\"kind\":\"Any\",\"default\":\"\"},{\"name\":\"notification_type\",\"kind\":\"Any\",\"default\":null},{\"name\":\"_destroyed\",\"kind\":\"Any\",\"default\":false}]},{\"type\":\"model\",\"name\":\"TemplateActions1\",\"properties\":[{\"name\":\"open_modal\",\"kind\":\"Any\",\"default\":0},{\"name\":\"close_modal\",\"kind\":\"Any\",\"default\":0}]},{\"type\":\"model\",\"name\":\"BootstrapTemplateActions1\",\"properties\":[{\"name\":\"open_modal\",\"kind\":\"Any\",\"default\":0},{\"name\":\"close_modal\",\"kind\":\"Any\",\"default\":0}]},{\"type\":\"model\",\"name\":\"MaterialTemplateActions1\",\"properties\":[{\"name\":\"open_modal\",\"kind\":\"Any\",\"default\":0},{\"name\":\"close_modal\",\"kind\":\"Any\",\"default\":0}]}]}};\n",
       "  var render_items = [{\"docid\":\"618e5b3a-873b-416d-bdeb-24efc4607b70\",\"roots\":{\"p1002\":\"f2e07d83-a7af-4e75-a493-ab3883ff2015\"},\"root_ids\":[\"p1002\"]}];\n",
       "  var docs = Object.values(docs_json)\n",
       "  if (!docs) {\n",
       "    return\n",
       "  }\n",
       "  const py_version = docs[0].version.replace('rc', '-rc.').replace('.dev', '-dev.')\n",
       "  function embed_document(root) {\n",
       "    var Bokeh = get_bokeh(root)\n",
       "    Bokeh.embed.embed_items_notebook(docs_json, render_items);\n",
       "    for (const render_item of render_items) {\n",
       "      for (const root_id of render_item.root_ids) {\n",
       "\tconst id_el = document.getElementById(root_id)\n",
       "\tif (id_el.children.length && (id_el.children[0].className === 'bk-root')) {\n",
       "\t  const root_el = id_el.children[0]\n",
       "\t  root_el.id = root_el.id + '-rendered'\n",
       "\t}\n",
       "      }\n",
       "    }\n",
       "  }\n",
       "  function get_bokeh(root) {\n",
       "    if (root.Bokeh === undefined) {\n",
       "      return null\n",
       "    } else if (root.Bokeh.version !== py_version) {\n",
       "      if (root.Bokeh.versions === undefined || !root.Bokeh.versions.has(py_version)) {\n",
       "\treturn null\n",
       "      }\n",
       "      return root.Bokeh.versions.get(py_version);\n",
       "    } else if (root.Bokeh.version === py_version) {\n",
       "      return root.Bokeh\n",
       "    }\n",
       "    return null\n",
       "  }\n",
       "  function is_loaded(root) {\n",
       "    var Bokeh = get_bokeh(root)\n",
       "    return (Bokeh != null && Bokeh.Panel !== undefined)\n",
       "  }\n",
       "  if (is_loaded(root)) {\n",
       "    embed_document(root);\n",
       "  } else {\n",
       "    var attempts = 0;\n",
       "    var timer = setInterval(function(root) {\n",
       "      if (is_loaded(root)) {\n",
       "        clearInterval(timer);\n",
       "        embed_document(root);\n",
       "      } else if (document.readyState == \"complete\") {\n",
       "        attempts++;\n",
       "        if (attempts > 200) {\n",
       "          clearInterval(timer);\n",
       "\t  var Bokeh = get_bokeh(root)\n",
       "\t  if (Bokeh == null || Bokeh.Panel == null) {\n",
       "            console.warn(\"Panel: ERROR: Unable to run Panel code because Bokeh or Panel library is missing\");\n",
       "\t  } else {\n",
       "\t    console.warn(\"Panel: WARNING: Attempting to render but not all required libraries could be resolved.\")\n",
       "\t    embed_document(root)\n",
       "\t  }\n",
       "        }\n",
       "      }\n",
       "    }, 25, root)\n",
       "  }\n",
       "})(window);</script>"
      ]
     },
     "metadata": {
      "application/vnd.holoviews_exec.v0+json": {
       "id": "p1002"
      }
     },
     "output_type": "display_data"
    }
   ],
   "source": [
    "# Import required libraries\n",
    "import pandas as pd\n",
    "import numpy as np\n",
    "import warnings\n",
    "from pathlib import Path\n",
    "import hvplot.pandas\n",
    "warnings.filterwarnings('ignore')\n"
   ]
  },
  {
   "cell_type": "code",
   "execution_count": 2,
   "metadata": {},
   "outputs": [
    {
     "data": {
      "text/html": [
       "<div>\n",
       "<style scoped>\n",
       "    .dataframe tbody tr th:only-of-type {\n",
       "        vertical-align: middle;\n",
       "    }\n",
       "\n",
       "    .dataframe tbody tr th {\n",
       "        vertical-align: top;\n",
       "    }\n",
       "\n",
       "    .dataframe thead th {\n",
       "        text-align: right;\n",
       "    }\n",
       "</style>\n",
       "<table border=\"1\" class=\"dataframe\">\n",
       "  <thead>\n",
       "    <tr style=\"text-align: right;\">\n",
       "      <th></th>\n",
       "      <th>Close</th>\n",
       "    </tr>\n",
       "    <tr>\n",
       "      <th>Date</th>\n",
       "      <th></th>\n",
       "    </tr>\n",
       "  </thead>\n",
       "  <tbody>\n",
       "    <tr>\n",
       "      <th>2019-01-02 05:00:00+00:00</th>\n",
       "      <td>135.4100</td>\n",
       "    </tr>\n",
       "    <tr>\n",
       "      <th>2019-01-03 05:00:00+00:00</th>\n",
       "      <td>131.8902</td>\n",
       "    </tr>\n",
       "    <tr>\n",
       "      <th>2019-01-04 05:00:00+00:00</th>\n",
       "      <td>137.9400</td>\n",
       "    </tr>\n",
       "    <tr>\n",
       "      <th>2019-01-07 05:00:00+00:00</th>\n",
       "      <td>138.2300</td>\n",
       "    </tr>\n",
       "    <tr>\n",
       "      <th>2019-01-08 05:00:00+00:00</th>\n",
       "      <td>142.5843</td>\n",
       "    </tr>\n",
       "  </tbody>\n",
       "</table>\n",
       "</div>"
      ],
      "text/plain": [
       "                              Close\n",
       "Date                               \n",
       "2019-01-02 05:00:00+00:00  135.4100\n",
       "2019-01-03 05:00:00+00:00  131.8902\n",
       "2019-01-04 05:00:00+00:00  137.9400\n",
       "2019-01-07 05:00:00+00:00  138.2300\n",
       "2019-01-08 05:00:00+00:00  142.5843"
      ]
     },
     "execution_count": 2,
     "metadata": {},
     "output_type": "execute_result"
    }
   ],
   "source": [
    "# Read the vnq.csv file from the Resources folder into a Pandas DataFrame\n",
    "# Set the `Date` column as the DateTimeIndex\n",
    "fntk_df = pd.read_csv(\n",
    "    Path(\"../Resources/fntk3.csv\"), \n",
    "    index_col=\"Date\",\n",
    "    parse_dates=True, \n",
    "    infer_datetime_format=True\n",
    ")\n",
    "\n",
    "# Review the DataFrame\n",
    "fntk_df.head()"
   ]
  },
  {
   "cell_type": "code",
   "execution_count": 3,
   "metadata": {},
   "outputs": [
    {
     "data": {
      "text/html": [
       "<div>\n",
       "<style scoped>\n",
       "    .dataframe tbody tr th:only-of-type {\n",
       "        vertical-align: middle;\n",
       "    }\n",
       "\n",
       "    .dataframe tbody tr th {\n",
       "        vertical-align: top;\n",
       "    }\n",
       "\n",
       "    .dataframe thead th {\n",
       "        text-align: right;\n",
       "    }\n",
       "</style>\n",
       "<table border=\"1\" class=\"dataframe\">\n",
       "  <thead>\n",
       "    <tr style=\"text-align: right;\">\n",
       "      <th></th>\n",
       "      <th>Close</th>\n",
       "    </tr>\n",
       "    <tr>\n",
       "      <th>Date</th>\n",
       "      <th></th>\n",
       "    </tr>\n",
       "  </thead>\n",
       "  <tbody>\n",
       "    <tr>\n",
       "      <th>2019-01-02 05:00:00+00:00</th>\n",
       "      <td>135.4100</td>\n",
       "    </tr>\n",
       "    <tr>\n",
       "      <th>2019-01-03 05:00:00+00:00</th>\n",
       "      <td>131.8902</td>\n",
       "    </tr>\n",
       "    <tr>\n",
       "      <th>2019-01-04 05:00:00+00:00</th>\n",
       "      <td>137.9400</td>\n",
       "    </tr>\n",
       "    <tr>\n",
       "      <th>2019-01-07 05:00:00+00:00</th>\n",
       "      <td>138.2300</td>\n",
       "    </tr>\n",
       "    <tr>\n",
       "      <th>2019-01-08 05:00:00+00:00</th>\n",
       "      <td>142.5843</td>\n",
       "    </tr>\n",
       "  </tbody>\n",
       "</table>\n",
       "</div>"
      ],
      "text/plain": [
       "                              Close\n",
       "Date                               \n",
       "2019-01-02 05:00:00+00:00  135.4100\n",
       "2019-01-03 05:00:00+00:00  131.8902\n",
       "2019-01-04 05:00:00+00:00  137.9400\n",
       "2019-01-07 05:00:00+00:00  138.2300\n",
       "2019-01-08 05:00:00+00:00  142.5843"
      ]
     },
     "execution_count": 3,
     "metadata": {},
     "output_type": "execute_result"
    }
   ],
   "source": [
    "# Create a DataFrame filtering only the index and Close columns\n",
    "fntk_df = fntk_df.loc[:,[\"Close\"]]\n",
    "\n",
    "# Review the DataFrame\n",
    "fntk_df.head()"
   ]
  },
  {
   "cell_type": "code",
   "execution_count": 4,
   "metadata": {},
   "outputs": [
    {
     "data": {},
     "metadata": {},
     "output_type": "display_data"
    },
    {
     "data": {
      "application/vnd.holoviews_exec.v0+json": "",
      "text/html": [
       "<div id='p1004'>\n",
       "  <div id=\"b1b4655e-6759-482a-8c10-0d861669253e\" data-root-id=\"p1004\" style=\"display: contents;\"></div>\n",
       "</div>\n",
       "<script type=\"application/javascript\">(function(root) {\n",
       "  var docs_json = {\"ff80ab98-1874-4de2-964f-e0ec42a6ee1e\":{\"version\":\"3.3.4\",\"title\":\"Bokeh Application\",\"roots\":[{\"type\":\"object\",\"name\":\"Row\",\"id\":\"p1004\",\"attributes\":{\"name\":\"Row00938\",\"tags\":[\"embedded\"],\"stylesheets\":[\"\\n:host(.pn-loading.pn-arc):before, .pn-loading.pn-arc:before {\\n  background-image: url(\\\"data:image/svg+xml;base64,PHN2ZyB4bWxucz0iaHR0cDovL3d3dy53My5vcmcvMjAwMC9zdmciIHN0eWxlPSJtYXJnaW46IGF1dG87IGJhY2tncm91bmQ6IG5vbmU7IGRpc3BsYXk6IGJsb2NrOyBzaGFwZS1yZW5kZXJpbmc6IGF1dG87IiB2aWV3Qm94PSIwIDAgMTAwIDEwMCIgcHJlc2VydmVBc3BlY3RSYXRpbz0ieE1pZFlNaWQiPiAgPGNpcmNsZSBjeD0iNTAiIGN5PSI1MCIgZmlsbD0ibm9uZSIgc3Ryb2tlPSIjYzNjM2MzIiBzdHJva2Utd2lkdGg9IjEwIiByPSIzNSIgc3Ryb2tlLWRhc2hhcnJheT0iMTY0LjkzMzYxNDMxMzQ2NDE1IDU2Ljk3Nzg3MTQzNzgyMTM4Ij4gICAgPGFuaW1hdGVUcmFuc2Zvcm0gYXR0cmlidXRlTmFtZT0idHJhbnNmb3JtIiB0eXBlPSJyb3RhdGUiIHJlcGVhdENvdW50PSJpbmRlZmluaXRlIiBkdXI9IjFzIiB2YWx1ZXM9IjAgNTAgNTA7MzYwIDUwIDUwIiBrZXlUaW1lcz0iMDsxIj48L2FuaW1hdGVUcmFuc2Zvcm0+ICA8L2NpcmNsZT48L3N2Zz4=\\\");\\n  background-size: auto calc(min(50%, 400px));\\n}\",{\"type\":\"object\",\"name\":\"ImportedStyleSheet\",\"id\":\"p1007\",\"attributes\":{\"url\":\"https://cdn.holoviz.org/panel/1.3.8/dist/css/loading.css\"}},{\"type\":\"object\",\"name\":\"ImportedStyleSheet\",\"id\":\"p1075\",\"attributes\":{\"url\":\"https://cdn.holoviz.org/panel/1.3.8/dist/css/listpanel.css\"}},{\"type\":\"object\",\"name\":\"ImportedStyleSheet\",\"id\":\"p1005\",\"attributes\":{\"url\":\"https://cdn.holoviz.org/panel/1.3.8/dist/bundled/theme/default.css\"}},{\"type\":\"object\",\"name\":\"ImportedStyleSheet\",\"id\":\"p1006\",\"attributes\":{\"url\":\"https://cdn.holoviz.org/panel/1.3.8/dist/bundled/theme/native.css\"}}],\"min_width\":700,\"margin\":0,\"sizing_mode\":\"stretch_width\",\"align\":\"start\",\"children\":[{\"type\":\"object\",\"name\":\"Spacer\",\"id\":\"p1008\",\"attributes\":{\"name\":\"HSpacer00945\",\"stylesheets\":[\"\\n:host(.pn-loading.pn-arc):before, .pn-loading.pn-arc:before {\\n  background-image: url(\\\"data:image/svg+xml;base64,PHN2ZyB4bWxucz0iaHR0cDovL3d3dy53My5vcmcvMjAwMC9zdmciIHN0eWxlPSJtYXJnaW46IGF1dG87IGJhY2tncm91bmQ6IG5vbmU7IGRpc3BsYXk6IGJsb2NrOyBzaGFwZS1yZW5kZXJpbmc6IGF1dG87IiB2aWV3Qm94PSIwIDAgMTAwIDEwMCIgcHJlc2VydmVBc3BlY3RSYXRpbz0ieE1pZFlNaWQiPiAgPGNpcmNsZSBjeD0iNTAiIGN5PSI1MCIgZmlsbD0ibm9uZSIgc3Ryb2tlPSIjYzNjM2MzIiBzdHJva2Utd2lkdGg9IjEwIiByPSIzNSIgc3Ryb2tlLWRhc2hhcnJheT0iMTY0LjkzMzYxNDMxMzQ2NDE1IDU2Ljk3Nzg3MTQzNzgyMTM4Ij4gICAgPGFuaW1hdGVUcmFuc2Zvcm0gYXR0cmlidXRlTmFtZT0idHJhbnNmb3JtIiB0eXBlPSJyb3RhdGUiIHJlcGVhdENvdW50PSJpbmRlZmluaXRlIiBkdXI9IjFzIiB2YWx1ZXM9IjAgNTAgNTA7MzYwIDUwIDUwIiBrZXlUaW1lcz0iMDsxIj48L2FuaW1hdGVUcmFuc2Zvcm0+ICA8L2NpcmNsZT48L3N2Zz4=\\\");\\n  background-size: auto calc(min(50%, 400px));\\n}\",{\"id\":\"p1007\"},{\"id\":\"p1005\"},{\"id\":\"p1006\"}],\"margin\":0,\"sizing_mode\":\"stretch_width\",\"align\":\"start\"}},{\"type\":\"object\",\"name\":\"Figure\",\"id\":\"p1016\",\"attributes\":{\"width\":700,\"height\":300,\"margin\":[5,10],\"sizing_mode\":\"fixed\",\"align\":\"start\",\"x_range\":{\"type\":\"object\",\"name\":\"Range1d\",\"id\":\"p1009\",\"attributes\":{\"tags\":[[[\"Date\",\"Date\",null]],[]],\"start\":1546405200000.0,\"end\":1584590400000.0,\"reset_start\":1546405200000.0,\"reset_end\":1584590400000.0}},\"y_range\":{\"type\":\"object\",\"name\":\"Range1d\",\"id\":\"p1010\",\"attributes\":{\"tags\":[[[\"Close\",\"Close\",null]],{\"type\":\"map\",\"entries\":[[\"invert_yaxis\",false],[\"autorange\",false]]}],\"start\":122.74821999999999,\"end\":232.45198,\"reset_start\":122.74821999999999,\"reset_end\":232.45198}},\"x_scale\":{\"type\":\"object\",\"name\":\"LinearScale\",\"id\":\"p1026\"},\"y_scale\":{\"type\":\"object\",\"name\":\"LinearScale\",\"id\":\"p1027\"},\"title\":{\"type\":\"object\",\"name\":\"Title\",\"id\":\"p1019\",\"attributes\":{\"text_color\":\"black\",\"text_font_size\":\"12pt\"}},\"renderers\":[{\"type\":\"object\",\"name\":\"GlyphRenderer\",\"id\":\"p1068\",\"attributes\":{\"data_source\":{\"type\":\"object\",\"name\":\"ColumnDataSource\",\"id\":\"p1059\",\"attributes\":{\"selected\":{\"type\":\"object\",\"name\":\"Selection\",\"id\":\"p1060\",\"attributes\":{\"indices\":[],\"line_indices\":[]}},\"selection_policy\":{\"type\":\"object\",\"name\":\"UnionRenderers\",\"id\":\"p1061\"},\"data\":{\"type\":\"map\",\"entries\":[[\"Date\",{\"type\":\"ndarray\",\"array\":{\"type\":\"bytes\",\"data\":\"AAAI7M6AdkIAAMhRIYF2QgAAiLdzgXZCAADI6GqCdkIAAIhOvYJ2QgAASLQPg3ZCAAAIGmKDdkIAAMh/tIN2QgAACLGrhHZCAADIFv6EdkIAAIh8UIV2QgAASOKihXZCAAAISPWFdkIAAAjfPod2QgAAyESRh3ZCAACIquOHdkIAAEgQNoh2QgAAiEEtiXZCAABIp3+JdkIAAAgN0ol2QgAAyHIkinZCAACI2HaKdkIAAMgJbot2QgAAiG/Ai3ZCAABI1RKMdkIAAAg7ZYx2QgAAyKC3jHZCAAAI0q6NdkIAAMg3AY52QgAAiJ1TjnZCAABIA6aOdkIAAAhp+I52QgAACABCkHZCAADIZZSQdkIAAIjL5pB2QgAASDE5kXZCAACIYjCSdkIAAEjIgpJ2QgAACC7VknZCAADIkyeTdkIAAIj5eZN2QgAAyCpxlHZCAACIkMOUdkIAAEj2FZV2QgAACFxolXZCAADIwbqVdkIAACCErpZ2QgAA4OkAl3ZCAACgT1OXdkIAAGC1pZd2QgAAIBv4l3ZCAABgTO+YdkIAACCyQZl2QgAA4BeUmXZCAACgfeaZdkIAAGDjOJp2QgAAoBQwm3ZCAABgeoKbdkIAACDg1Jt2QgAA4EUnnHZCAACgq3mcdkIAAODccJ12QgAAoELDnXZCAABgqBWedkIAACAOaJ52QgAA4HO6nnZCAAAgpbGfdkIAAOAKBKB2QgAAoHBWoHZCAABg1qigdkIAACA8+6B2QgAAYG3yoXZCAAAg00SidkIAAOA4l6J2QgAAoJ7ponZCAACgNTOkdkIAAGCbhaR2QgAAIAHYpHZCAADgZiqldkIAAKDMfKV2QgAA4P1zpnZCAACgY8amdkIAAGDJGKd2QgAAIC9rp3ZCAADglL2ndkIAACDGtKh2QgAA4CsHqXZCAACgkVmpdkIAAGD3q6l2QgAAIF3+qXZCAABgjvWqdkIAACD0R6t2QgAA4Fmaq3ZCAACgv+yrdkIAAGAlP6x2QgAAoFY2rXZCAABgvIitdkIAACAi2612QgAA4IctrnZCAACg7X+udkIAAKCEya92QgAAYOobsHZCAAAgUG6wdkIAAOC1wLB2QgAAIOe3sXZCAADgTAqydkIAAKCyXLJ2QgAAYBivsnZCAAAgfgGzdkIAAGCv+LN2QgAAIBVLtHZCAADgep20dkIAAKDg77R2QgAAYEZCtXZCAACgdzm2dkIAAGDdi7Z2QgAAIEPetnZCAADgqDC3dkIAAKAOg7d2QgAA4D96uHZCAACgpcy4dkIAAGALH7l2QgAAIHFxuXZCAADg1sO5dkIAACAIu7p2QgAA4G0Nu3ZCAACg01+7dkIAACCfBLx2QgAAYND7vHZCAAAgNk69dkIAAOCboL12QgAAoAHzvXZCAABgZ0W+dkIAAKCYPL92QgAAYP6Ov3ZCAAAgZOG/dkIAAODJM8B2QgAAoC+GwHZCAADgYH3BdkIAAKDGz8F2QgAAYCwiwnZCAAAgknTCdkIAAOD3xsJ2QgAAICm+w3ZCAADgjhDEdkIAAKD0YsR2QgAAYFq1xHZCAAAgwAfFdkIAAGDx/sV2QgAAIFdRxnZCAADgvKPGdkIAAKAi9sZ2QgAAYIhIx3ZCAACguT/IdkIAAGAfksh2QgAAIIXkyHZCAADg6jbJdkIAAKBQicl2QgAA4IGAynZCAACg59LKdkIAAGBNJct2QgAAILN3y3ZCAADgGMrLdkIAACBKwcx2QgAA4K8TzXZCAACgFWbNdkIAAGB7uM12QgAAIOEKznZCAAAgeFTPdkIAAODdps92QgAAoEP5z3ZCAABgqUvQdkIAAKDaQtF2QgAAYECV0XZCAAAgpufRdkIAAOALOtJ2QgAAoHGM0nZCAADgooPTdkIAAKAI1tN2QgAAYG4o1HZCAAAg1HrUdkIAAOA5zdR2QgAAIGvE1XZCAADg0BbWdkIAAKA2adZ2QgAAYJy71nZCAAAgAg7XdkIAAGAzBdh2QgAAIJlX2HZCAADg/qnYdkIAAKBk/Nh2QgAAYMpO2XZCAACg+0XadkIAAGBhmNp2QgAAIMfq2nZCAADgLD3bdkIAAKCSj9t2QgAA4MOG3HZCAACgKdncdkIAAGCPK912QgAAIPV93XZCAADgWtDddkIAACCMx952QgAA4PEZ33ZCAACgV2zfdkIAAGC9vt92QgAAICMR4HZCAABgVAjhdkIAACC6WuF2QgAA4B+t4XZCAACghf/hdkIAAGDrUeJ2QgAAiItM43ZCAABI8Z7jdkIAAAhX8eN2QgAAyLxD5HZCAACIIpbkdkIAAMhTjeV2QgAAiLnf5XZCAABIHzLmdkIAAAiFhOZ2QgAAyOrW5nZCAAAIHM7ndkIAAMiBIOh2QgAAiOdy6HZCAABITcXodkIAAAizF+l2QgAASOQO6nZCAAAISmHqdkIAAMivs+p2QgAASHtY63ZCAACIrE/sdkIAAEgSoux2QgAACHj07HZCAADI3UbtdkIAAIhDme12QgAAyHSQ7nZCAACI2uLudkIAAEhANe92QgAACKaH73ZCAADIC9rvdkIAAAg90fB2QgAAyKIj8XZCAACICHbxdkIAAEhuyPF2QgAACNQa8nZCAABIBRLzdkIAAAhrZPN2QgAAiDYJ9HZCAABInFv0dkIAAIjNUvV2QgAASDOl9XZCAADI/kn2dkIAAIhknPZ2QgAAyJWT93ZCAACI++X3dkIAAEhhOPh2QgAACMeK+HZCAADILN34dkIAAAhe1Pl2QgAAyMMm+nZCAACIKXn6dkIAAEiPy/p2QgAACPUd+3ZCAAAIjGf8dkIAAMjxufx2QgAAiFcM/XZCAABIvV79dkIAAIjuVf52QgAASFSo/nZCAAAIuvr+dkIAAMgfTf92QgAAiIWf/3ZCAADItpYAd0IAAIgc6QB3QgAASII7AXdCAAAI6I0Bd0IAAMhN4AF3QgAACH/XAndCAADI5CkDd0IAAIhKfAN3QgAASLDOA3dCAAAIFiEEd0IAAAitagV3QgAAyBK9BXdCAACIeA8Gd0IAAEjeYQZ3QgAAiA9ZB3dCAABIdasHd0IAAAjb/Qd3QgAAyEBQCHdCAACIpqIId0IAAMjXmQl3QgAAiD3sCXdCAABIoz4Kd0IAAAgJkQp3QgAAyG7jCndCAAAgMdcLd0IAAOCWKQx3QgAAoPx7DHdCAABgYs4Md0IAACDIIA13QgAAYPkXDndCAAAgX2oOd0IAAODEvA53QgAAoCoPD3dC\"},\"shape\":[306],\"dtype\":\"float64\",\"order\":\"little\"}],[\"Close\",{\"type\":\"ndarray\",\"array\":{\"type\":\"bytes\",\"data\":\"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\"},\"shape\":[306],\"dtype\":\"float64\",\"order\":\"little\"}]]}}},\"view\":{\"type\":\"object\",\"name\":\"CDSView\",\"id\":\"p1069\",\"attributes\":{\"filter\":{\"type\":\"object\",\"name\":\"AllIndices\",\"id\":\"p1070\"}}},\"glyph\":{\"type\":\"object\",\"name\":\"Line\",\"id\":\"p1065\",\"attributes\":{\"tags\":[\"apply_ranges\"],\"x\":{\"type\":\"field\",\"field\":\"Date\"},\"y\":{\"type\":\"field\",\"field\":\"Close\"},\"line_color\":\"#30a2da\",\"line_width\":2}},\"selection_glyph\":{\"type\":\"object\",\"name\":\"Line\",\"id\":\"p1071\",\"attributes\":{\"tags\":[\"apply_ranges\"],\"x\":{\"type\":\"field\",\"field\":\"Date\"},\"y\":{\"type\":\"field\",\"field\":\"Close\"},\"line_color\":\"#30a2da\",\"line_width\":2}},\"nonselection_glyph\":{\"type\":\"object\",\"name\":\"Line\",\"id\":\"p1066\",\"attributes\":{\"tags\":[\"apply_ranges\"],\"x\":{\"type\":\"field\",\"field\":\"Date\"},\"y\":{\"type\":\"field\",\"field\":\"Close\"},\"line_color\":\"#30a2da\",\"line_alpha\":0.1,\"line_width\":2}},\"muted_glyph\":{\"type\":\"object\",\"name\":\"Line\",\"id\":\"p1067\",\"attributes\":{\"tags\":[\"apply_ranges\"],\"x\":{\"type\":\"field\",\"field\":\"Date\"},\"y\":{\"type\":\"field\",\"field\":\"Close\"},\"line_color\":\"#30a2da\",\"line_alpha\":0.2,\"line_width\":2}}}}],\"toolbar\":{\"type\":\"object\",\"name\":\"Toolbar\",\"id\":\"p1025\",\"attributes\":{\"tools\":[{\"type\":\"object\",\"name\":\"WheelZoomTool\",\"id\":\"p1014\",\"attributes\":{\"tags\":[\"hv_created\"],\"renderers\":\"auto\",\"zoom_together\":\"none\"}},{\"type\":\"object\",\"name\":\"HoverTool\",\"id\":\"p1015\",\"attributes\":{\"tags\":[\"hv_created\"],\"renderers\":[{\"id\":\"p1068\"}],\"tooltips\":[[\"Date\",\"@{Date}{%F %T}\"],[\"Close\",\"@{Close}\"]],\"formatters\":{\"type\":\"map\",\"entries\":[[\"@{Date}\",\"datetime\"]]}}},{\"type\":\"object\",\"name\":\"SaveTool\",\"id\":\"p1050\"},{\"type\":\"object\",\"name\":\"PanTool\",\"id\":\"p1051\"},{\"type\":\"object\",\"name\":\"BoxZoomTool\",\"id\":\"p1052\",\"attributes\":{\"overlay\":{\"type\":\"object\",\"name\":\"BoxAnnotation\",\"id\":\"p1053\",\"attributes\":{\"syncable\":false,\"level\":\"overlay\",\"visible\":false,\"left\":{\"type\":\"number\",\"value\":\"nan\"},\"right\":{\"type\":\"number\",\"value\":\"nan\"},\"top\":{\"type\":\"number\",\"value\":\"nan\"},\"bottom\":{\"type\":\"number\",\"value\":\"nan\"},\"left_units\":\"canvas\",\"right_units\":\"canvas\",\"top_units\":\"canvas\",\"bottom_units\":\"canvas\",\"line_color\":\"black\",\"line_alpha\":1.0,\"line_width\":2,\"line_dash\":[4,4],\"fill_color\":\"lightgrey\",\"fill_alpha\":0.5}}}},{\"type\":\"object\",\"name\":\"ResetTool\",\"id\":\"p1058\"}],\"active_drag\":{\"id\":\"p1051\"},\"active_scroll\":{\"id\":\"p1014\"}}},\"left\":[{\"type\":\"object\",\"name\":\"LinearAxis\",\"id\":\"p1045\",\"attributes\":{\"ticker\":{\"type\":\"object\",\"name\":\"BasicTicker\",\"id\":\"p1046\",\"attributes\":{\"mantissas\":[1,2,5]}},\"formatter\":{\"type\":\"object\",\"name\":\"BasicTickFormatter\",\"id\":\"p1047\"},\"axis_label\":\"Close\",\"major_label_policy\":{\"type\":\"object\",\"name\":\"AllLabels\",\"id\":\"p1048\"}}}],\"below\":[{\"type\":\"object\",\"name\":\"DatetimeAxis\",\"id\":\"p1028\",\"attributes\":{\"ticker\":{\"type\":\"object\",\"name\":\"DatetimeTicker\",\"id\":\"p1029\",\"attributes\":{\"num_minor_ticks\":5,\"tickers\":[{\"type\":\"object\",\"name\":\"AdaptiveTicker\",\"id\":\"p1030\",\"attributes\":{\"num_minor_ticks\":0,\"mantissas\":[1,2,5],\"max_interval\":500.0}},{\"type\":\"object\",\"name\":\"AdaptiveTicker\",\"id\":\"p1031\",\"attributes\":{\"num_minor_ticks\":0,\"base\":60,\"mantissas\":[1,2,5,10,15,20,30],\"min_interval\":1000.0,\"max_interval\":1800000.0}},{\"type\":\"object\",\"name\":\"AdaptiveTicker\",\"id\":\"p1032\",\"attributes\":{\"num_minor_ticks\":0,\"base\":24,\"mantissas\":[1,2,4,6,8,12],\"min_interval\":3600000.0,\"max_interval\":43200000.0}},{\"type\":\"object\",\"name\":\"DaysTicker\",\"id\":\"p1033\",\"attributes\":{\"days\":[1,2,3,4,5,6,7,8,9,10,11,12,13,14,15,16,17,18,19,20,21,22,23,24,25,26,27,28,29,30,31]}},{\"type\":\"object\",\"name\":\"DaysTicker\",\"id\":\"p1034\",\"attributes\":{\"days\":[1,4,7,10,13,16,19,22,25,28]}},{\"type\":\"object\",\"name\":\"DaysTicker\",\"id\":\"p1035\",\"attributes\":{\"days\":[1,8,15,22]}},{\"type\":\"object\",\"name\":\"DaysTicker\",\"id\":\"p1036\",\"attributes\":{\"days\":[1,15]}},{\"type\":\"object\",\"name\":\"MonthsTicker\",\"id\":\"p1037\",\"attributes\":{\"months\":[0,1,2,3,4,5,6,7,8,9,10,11]}},{\"type\":\"object\",\"name\":\"MonthsTicker\",\"id\":\"p1038\",\"attributes\":{\"months\":[0,2,4,6,8,10]}},{\"type\":\"object\",\"name\":\"MonthsTicker\",\"id\":\"p1039\",\"attributes\":{\"months\":[0,4,8]}},{\"type\":\"object\",\"name\":\"MonthsTicker\",\"id\":\"p1040\",\"attributes\":{\"months\":[0,6]}},{\"type\":\"object\",\"name\":\"YearsTicker\",\"id\":\"p1041\"}]}},\"formatter\":{\"type\":\"object\",\"name\":\"DatetimeTickFormatter\",\"id\":\"p1042\"},\"axis_label\":\"Date\",\"major_label_policy\":{\"type\":\"object\",\"name\":\"AllLabels\",\"id\":\"p1043\"}}}],\"center\":[{\"type\":\"object\",\"name\":\"Grid\",\"id\":\"p1044\",\"attributes\":{\"axis\":{\"id\":\"p1028\"},\"grid_line_color\":null}},{\"type\":\"object\",\"name\":\"Grid\",\"id\":\"p1049\",\"attributes\":{\"dimension\":1,\"axis\":{\"id\":\"p1045\"},\"grid_line_color\":null}}],\"min_border_top\":10,\"min_border_bottom\":10,\"min_border_left\":10,\"min_border_right\":10,\"output_backend\":\"webgl\"}},{\"type\":\"object\",\"name\":\"Spacer\",\"id\":\"p1073\",\"attributes\":{\"name\":\"HSpacer00946\",\"stylesheets\":[\"\\n:host(.pn-loading.pn-arc):before, .pn-loading.pn-arc:before {\\n  background-image: url(\\\"data:image/svg+xml;base64,PHN2ZyB4bWxucz0iaHR0cDovL3d3dy53My5vcmcvMjAwMC9zdmciIHN0eWxlPSJtYXJnaW46IGF1dG87IGJhY2tncm91bmQ6IG5vbmU7IGRpc3BsYXk6IGJsb2NrOyBzaGFwZS1yZW5kZXJpbmc6IGF1dG87IiB2aWV3Qm94PSIwIDAgMTAwIDEwMCIgcHJlc2VydmVBc3BlY3RSYXRpbz0ieE1pZFlNaWQiPiAgPGNpcmNsZSBjeD0iNTAiIGN5PSI1MCIgZmlsbD0ibm9uZSIgc3Ryb2tlPSIjYzNjM2MzIiBzdHJva2Utd2lkdGg9IjEwIiByPSIzNSIgc3Ryb2tlLWRhc2hhcnJheT0iMTY0LjkzMzYxNDMxMzQ2NDE1IDU2Ljk3Nzg3MTQzNzgyMTM4Ij4gICAgPGFuaW1hdGVUcmFuc2Zvcm0gYXR0cmlidXRlTmFtZT0idHJhbnNmb3JtIiB0eXBlPSJyb3RhdGUiIHJlcGVhdENvdW50PSJpbmRlZmluaXRlIiBkdXI9IjFzIiB2YWx1ZXM9IjAgNTAgNTA7MzYwIDUwIDUwIiBrZXlUaW1lcz0iMDsxIj48L2FuaW1hdGVUcmFuc2Zvcm0+ICA8L2NpcmNsZT48L3N2Zz4=\\\");\\n  background-size: auto calc(min(50%, 400px));\\n}\",{\"id\":\"p1007\"},{\"id\":\"p1005\"},{\"id\":\"p1006\"}],\"margin\":0,\"sizing_mode\":\"stretch_width\",\"align\":\"start\"}}]}}],\"defs\":[{\"type\":\"model\",\"name\":\"ReactiveHTML1\"},{\"type\":\"model\",\"name\":\"FlexBox1\",\"properties\":[{\"name\":\"align_content\",\"kind\":\"Any\",\"default\":\"flex-start\"},{\"name\":\"align_items\",\"kind\":\"Any\",\"default\":\"flex-start\"},{\"name\":\"flex_direction\",\"kind\":\"Any\",\"default\":\"row\"},{\"name\":\"flex_wrap\",\"kind\":\"Any\",\"default\":\"wrap\"},{\"name\":\"justify_content\",\"kind\":\"Any\",\"default\":\"flex-start\"}]},{\"type\":\"model\",\"name\":\"FloatPanel1\",\"properties\":[{\"name\":\"config\",\"kind\":\"Any\",\"default\":{\"type\":\"map\"}},{\"name\":\"contained\",\"kind\":\"Any\",\"default\":true},{\"name\":\"position\",\"kind\":\"Any\",\"default\":\"right-top\"},{\"name\":\"offsetx\",\"kind\":\"Any\",\"default\":null},{\"name\":\"offsety\",\"kind\":\"Any\",\"default\":null},{\"name\":\"theme\",\"kind\":\"Any\",\"default\":\"primary\"},{\"name\":\"status\",\"kind\":\"Any\",\"default\":\"normalized\"}]},{\"type\":\"model\",\"name\":\"GridStack1\",\"properties\":[{\"name\":\"mode\",\"kind\":\"Any\",\"default\":\"warn\"},{\"name\":\"ncols\",\"kind\":\"Any\",\"default\":null},{\"name\":\"nrows\",\"kind\":\"Any\",\"default\":null},{\"name\":\"allow_resize\",\"kind\":\"Any\",\"default\":true},{\"name\":\"allow_drag\",\"kind\":\"Any\",\"default\":true},{\"name\":\"state\",\"kind\":\"Any\",\"default\":[]}]},{\"type\":\"model\",\"name\":\"drag1\",\"properties\":[{\"name\":\"slider_width\",\"kind\":\"Any\",\"default\":5},{\"name\":\"slider_color\",\"kind\":\"Any\",\"default\":\"black\"},{\"name\":\"value\",\"kind\":\"Any\",\"default\":50}]},{\"type\":\"model\",\"name\":\"click1\",\"properties\":[{\"name\":\"terminal_output\",\"kind\":\"Any\",\"default\":\"\"},{\"name\":\"debug_name\",\"kind\":\"Any\",\"default\":\"\"},{\"name\":\"clears\",\"kind\":\"Any\",\"default\":0}]},{\"type\":\"model\",\"name\":\"copy_to_clipboard1\",\"properties\":[{\"name\":\"fill\",\"kind\":\"Any\",\"default\":\"none\"},{\"name\":\"value\",\"kind\":\"Any\",\"default\":null}]},{\"type\":\"model\",\"name\":\"FastWrapper1\",\"properties\":[{\"name\":\"object\",\"kind\":\"Any\",\"default\":null},{\"name\":\"style\",\"kind\":\"Any\",\"default\":null}]},{\"type\":\"model\",\"name\":\"NotificationAreaBase1\",\"properties\":[{\"name\":\"js_events\",\"kind\":\"Any\",\"default\":{\"type\":\"map\"}},{\"name\":\"position\",\"kind\":\"Any\",\"default\":\"bottom-right\"},{\"name\":\"_clear\",\"kind\":\"Any\",\"default\":0}]},{\"type\":\"model\",\"name\":\"NotificationArea1\",\"properties\":[{\"name\":\"js_events\",\"kind\":\"Any\",\"default\":{\"type\":\"map\"}},{\"name\":\"notifications\",\"kind\":\"Any\",\"default\":[]},{\"name\":\"position\",\"kind\":\"Any\",\"default\":\"bottom-right\"},{\"name\":\"_clear\",\"kind\":\"Any\",\"default\":0},{\"name\":\"types\",\"kind\":\"Any\",\"default\":[{\"type\":\"map\",\"entries\":[[\"type\",\"warning\"],[\"background\",\"#ffc107\"],[\"icon\",{\"type\":\"map\",\"entries\":[[\"className\",\"fas fa-exclamation-triangle\"],[\"tagName\",\"i\"],[\"color\",\"white\"]]}]]},{\"type\":\"map\",\"entries\":[[\"type\",\"info\"],[\"background\",\"#007bff\"],[\"icon\",{\"type\":\"map\",\"entries\":[[\"className\",\"fas fa-info-circle\"],[\"tagName\",\"i\"],[\"color\",\"white\"]]}]]}]}]},{\"type\":\"model\",\"name\":\"Notification\",\"properties\":[{\"name\":\"background\",\"kind\":\"Any\",\"default\":null},{\"name\":\"duration\",\"kind\":\"Any\",\"default\":3000},{\"name\":\"icon\",\"kind\":\"Any\",\"default\":null},{\"name\":\"message\",\"kind\":\"Any\",\"default\":\"\"},{\"name\":\"notification_type\",\"kind\":\"Any\",\"default\":null},{\"name\":\"_destroyed\",\"kind\":\"Any\",\"default\":false}]},{\"type\":\"model\",\"name\":\"TemplateActions1\",\"properties\":[{\"name\":\"open_modal\",\"kind\":\"Any\",\"default\":0},{\"name\":\"close_modal\",\"kind\":\"Any\",\"default\":0}]},{\"type\":\"model\",\"name\":\"BootstrapTemplateActions1\",\"properties\":[{\"name\":\"open_modal\",\"kind\":\"Any\",\"default\":0},{\"name\":\"close_modal\",\"kind\":\"Any\",\"default\":0}]},{\"type\":\"model\",\"name\":\"MaterialTemplateActions1\",\"properties\":[{\"name\":\"open_modal\",\"kind\":\"Any\",\"default\":0},{\"name\":\"close_modal\",\"kind\":\"Any\",\"default\":0}]}]}};\n",
       "  var render_items = [{\"docid\":\"ff80ab98-1874-4de2-964f-e0ec42a6ee1e\",\"roots\":{\"p1004\":\"b1b4655e-6759-482a-8c10-0d861669253e\"},\"root_ids\":[\"p1004\"]}];\n",
       "  var docs = Object.values(docs_json)\n",
       "  if (!docs) {\n",
       "    return\n",
       "  }\n",
       "  const py_version = docs[0].version.replace('rc', '-rc.').replace('.dev', '-dev.')\n",
       "  function embed_document(root) {\n",
       "    var Bokeh = get_bokeh(root)\n",
       "    Bokeh.embed.embed_items_notebook(docs_json, render_items);\n",
       "    for (const render_item of render_items) {\n",
       "      for (const root_id of render_item.root_ids) {\n",
       "\tconst id_el = document.getElementById(root_id)\n",
       "\tif (id_el.children.length && (id_el.children[0].className === 'bk-root')) {\n",
       "\t  const root_el = id_el.children[0]\n",
       "\t  root_el.id = root_el.id + '-rendered'\n",
       "\t}\n",
       "      }\n",
       "    }\n",
       "  }\n",
       "  function get_bokeh(root) {\n",
       "    if (root.Bokeh === undefined) {\n",
       "      return null\n",
       "    } else if (root.Bokeh.version !== py_version) {\n",
       "      if (root.Bokeh.versions === undefined || !root.Bokeh.versions.has(py_version)) {\n",
       "\treturn null\n",
       "      }\n",
       "      return root.Bokeh.versions.get(py_version);\n",
       "    } else if (root.Bokeh.version === py_version) {\n",
       "      return root.Bokeh\n",
       "    }\n",
       "    return null\n",
       "  }\n",
       "  function is_loaded(root) {\n",
       "    var Bokeh = get_bokeh(root)\n",
       "    return (Bokeh != null && Bokeh.Panel !== undefined)\n",
       "  }\n",
       "  if (is_loaded(root)) {\n",
       "    embed_document(root);\n",
       "  } else {\n",
       "    var attempts = 0;\n",
       "    var timer = setInterval(function(root) {\n",
       "      if (is_loaded(root)) {\n",
       "        clearInterval(timer);\n",
       "        embed_document(root);\n",
       "      } else if (document.readyState == \"complete\") {\n",
       "        attempts++;\n",
       "        if (attempts > 200) {\n",
       "          clearInterval(timer);\n",
       "\t  var Bokeh = get_bokeh(root)\n",
       "\t  if (Bokeh == null || Bokeh.Panel == null) {\n",
       "            console.warn(\"Panel: ERROR: Unable to run Panel code because Bokeh or Panel library is missing\");\n",
       "\t  } else {\n",
       "\t    console.warn(\"Panel: WARNING: Attempting to render but not all required libraries could be resolved.\")\n",
       "\t    embed_document(root)\n",
       "\t  }\n",
       "        }\n",
       "      }\n",
       "    }, 25, root)\n",
       "  }\n",
       "})(window);</script>"
      ],
      "text/plain": [
       ":Curve   [Date]   (Close)"
      ]
     },
     "execution_count": 4,
     "metadata": {
      "application/vnd.holoviews_exec.v0+json": {
       "id": "p1004"
      }
     },
     "output_type": "execute_result"
    }
   ],
   "source": [
    "# Use hvplot to visualize the DataFrame\n",
    "fntk_df.hvplot()"
   ]
  },
  {
   "cell_type": "code",
   "execution_count": 5,
   "metadata": {},
   "outputs": [
    {
     "data": {
      "text/html": [
       "<div>\n",
       "<style scoped>\n",
       "    .dataframe tbody tr th:only-of-type {\n",
       "        vertical-align: middle;\n",
       "    }\n",
       "\n",
       "    .dataframe tbody tr th {\n",
       "        vertical-align: top;\n",
       "    }\n",
       "\n",
       "    .dataframe thead th {\n",
       "        text-align: right;\n",
       "    }\n",
       "</style>\n",
       "<table border=\"1\" class=\"dataframe\">\n",
       "  <thead>\n",
       "    <tr style=\"text-align: right;\">\n",
       "      <th></th>\n",
       "      <th>Close</th>\n",
       "      <th>daily_returns</th>\n",
       "      <th>daily_returns_lagged</th>\n",
       "    </tr>\n",
       "    <tr>\n",
       "      <th>Date</th>\n",
       "      <th></th>\n",
       "      <th></th>\n",
       "      <th></th>\n",
       "    </tr>\n",
       "  </thead>\n",
       "  <tbody>\n",
       "    <tr>\n",
       "      <th>2019-01-02 05:00:00+00:00</th>\n",
       "      <td>135.4100</td>\n",
       "      <td>NaN</td>\n",
       "      <td>NaN</td>\n",
       "    </tr>\n",
       "    <tr>\n",
       "      <th>2019-01-03 05:00:00+00:00</th>\n",
       "      <td>131.8902</td>\n",
       "      <td>-0.025994</td>\n",
       "      <td>NaN</td>\n",
       "    </tr>\n",
       "    <tr>\n",
       "      <th>2019-01-04 05:00:00+00:00</th>\n",
       "      <td>137.9400</td>\n",
       "      <td>0.045870</td>\n",
       "      <td>-0.025994</td>\n",
       "    </tr>\n",
       "    <tr>\n",
       "      <th>2019-01-07 05:00:00+00:00</th>\n",
       "      <td>138.2300</td>\n",
       "      <td>0.002102</td>\n",
       "      <td>0.045870</td>\n",
       "    </tr>\n",
       "    <tr>\n",
       "      <th>2019-01-08 05:00:00+00:00</th>\n",
       "      <td>142.5843</td>\n",
       "      <td>0.031500</td>\n",
       "      <td>0.002102</td>\n",
       "    </tr>\n",
       "  </tbody>\n",
       "</table>\n",
       "</div>"
      ],
      "text/plain": [
       "                              Close  daily_returns  daily_returns_lagged\n",
       "Date                                                                    \n",
       "2019-01-02 05:00:00+00:00  135.4100            NaN                   NaN\n",
       "2019-01-03 05:00:00+00:00  131.8902      -0.025994                   NaN\n",
       "2019-01-04 05:00:00+00:00  137.9400       0.045870             -0.025994\n",
       "2019-01-07 05:00:00+00:00  138.2300       0.002102              0.045870\n",
       "2019-01-08 05:00:00+00:00  142.5843       0.031500              0.002102"
      ]
     },
     "execution_count": 5,
     "metadata": {},
     "output_type": "execute_result"
    }
   ],
   "source": [
    "# Use hvplot to visualize the DataFrame\n",
    "fntk_df['daily_returns'] = fntk_df['Close'].pct_change()\n",
    "fntk_df['daily_returns_lagged'] = fntk_df['daily_returns'].shift(1)\n",
    "fntk_df.head()"
   ]
  },
  {
   "cell_type": "code",
   "execution_count": 6,
   "metadata": {},
   "outputs": [
    {
     "data": {
      "text/html": [
       "<div>\n",
       "<style scoped>\n",
       "    .dataframe tbody tr th:only-of-type {\n",
       "        vertical-align: middle;\n",
       "    }\n",
       "\n",
       "    .dataframe tbody tr th {\n",
       "        vertical-align: top;\n",
       "    }\n",
       "\n",
       "    .dataframe thead th {\n",
       "        text-align: right;\n",
       "    }\n",
       "</style>\n",
       "<table border=\"1\" class=\"dataframe\">\n",
       "  <thead>\n",
       "    <tr style=\"text-align: right;\">\n",
       "      <th></th>\n",
       "      <th>Close</th>\n",
       "      <th>daily_returns</th>\n",
       "      <th>daily_returns_lagged</th>\n",
       "    </tr>\n",
       "    <tr>\n",
       "      <th>Date</th>\n",
       "      <th></th>\n",
       "      <th></th>\n",
       "      <th></th>\n",
       "    </tr>\n",
       "  </thead>\n",
       "  <tbody>\n",
       "    <tr>\n",
       "      <th>2019-01-02 05:00:00+00:00</th>\n",
       "      <td>135.4100</td>\n",
       "      <td>NaN</td>\n",
       "      <td>NaN</td>\n",
       "    </tr>\n",
       "    <tr>\n",
       "      <th>2019-01-03 05:00:00+00:00</th>\n",
       "      <td>131.8902</td>\n",
       "      <td>-0.025994</td>\n",
       "      <td>NaN</td>\n",
       "    </tr>\n",
       "    <tr>\n",
       "      <th>2019-01-04 05:00:00+00:00</th>\n",
       "      <td>137.9400</td>\n",
       "      <td>0.045870</td>\n",
       "      <td>-0.025994</td>\n",
       "    </tr>\n",
       "    <tr>\n",
       "      <th>2019-01-07 05:00:00+00:00</th>\n",
       "      <td>138.2300</td>\n",
       "      <td>0.002102</td>\n",
       "      <td>0.045870</td>\n",
       "    </tr>\n",
       "    <tr>\n",
       "      <th>2019-01-08 05:00:00+00:00</th>\n",
       "      <td>142.5843</td>\n",
       "      <td>0.031500</td>\n",
       "      <td>0.002102</td>\n",
       "    </tr>\n",
       "  </tbody>\n",
       "</table>\n",
       "</div>"
      ],
      "text/plain": [
       "                              Close  daily_returns  daily_returns_lagged\n",
       "Date                                                                    \n",
       "2019-01-02 05:00:00+00:00  135.4100            NaN                   NaN\n",
       "2019-01-03 05:00:00+00:00  131.8902      -0.025994                   NaN\n",
       "2019-01-04 05:00:00+00:00  137.9400       0.045870             -0.025994\n",
       "2019-01-07 05:00:00+00:00  138.2300       0.002102              0.045870\n",
       "2019-01-08 05:00:00+00:00  142.5843       0.031500              0.002102"
      ]
     },
     "execution_count": 6,
     "metadata": {},
     "output_type": "execute_result"
    }
   ],
   "source": [
    "# Use hvplot to visualize the DataFrame\n",
    "fntk_df['daily_returns'] = fntk_df['Close'].pct_change()\n",
    "fntk_df['daily_returns_lagged'] = fntk_df['daily_returns'].shift(1)\n",
    "fntk_df.head()# Use hvplot to visualize the DataFrame"
   ]
  },
  {
   "cell_type": "code",
   "execution_count": 7,
   "metadata": {},
   "outputs": [],
   "source": [
    "fntk_df['trade_type'] =np.where(fntk_df['daily_returns_lagged']<0,1,-1)\n",
    "fntk_df.dropna(inplace=True)"
   ]
  },
  {
   "cell_type": "markdown",
   "metadata": {},
   "source": [
    "## Calculate the Total Return for the Trading Period"
   ]
  },
  {
   "cell_type": "code",
   "execution_count": 8,
   "metadata": {},
   "outputs": [],
   "source": [
    "fntk_df['algorithm_returns']= fntk_df['daily_returns'] * fntk_df['trade_type']"
   ]
  },
  {
   "cell_type": "code",
   "execution_count": 9,
   "metadata": {},
   "outputs": [],
   "source": [
    "fntk_df['algorithm_cumulative_returns']=(fntk_df['algorithm_returns'] + 1).cumprod()"
   ]
  },
  {
   "cell_type": "code",
   "execution_count": 10,
   "metadata": {},
   "outputs": [
    {
     "data": {},
     "metadata": {},
     "output_type": "display_data"
    },
    {
     "data": {
      "application/vnd.holoviews_exec.v0+json": "",
      "text/html": [
       "<div id='p1079'>\n",
       "  <div id=\"fd28014d-4ee0-4d40-9419-ec00b7ff3bde\" data-root-id=\"p1079\" style=\"display: contents;\"></div>\n",
       "</div>\n",
       "<script type=\"application/javascript\">(function(root) {\n",
       "  var docs_json = {\"1708c1dc-acce-4fbd-987f-d209d47781d3\":{\"version\":\"3.3.4\",\"title\":\"Bokeh Application\",\"roots\":[{\"type\":\"object\",\"name\":\"Row\",\"id\":\"p1079\",\"attributes\":{\"name\":\"Row01046\",\"tags\":[\"embedded\"],\"stylesheets\":[\"\\n:host(.pn-loading.pn-arc):before, .pn-loading.pn-arc:before {\\n  background-image: url(\\\"data:image/svg+xml;base64,PHN2ZyB4bWxucz0iaHR0cDovL3d3dy53My5vcmcvMjAwMC9zdmciIHN0eWxlPSJtYXJnaW46IGF1dG87IGJhY2tncm91bmQ6IG5vbmU7IGRpc3BsYXk6IGJsb2NrOyBzaGFwZS1yZW5kZXJpbmc6IGF1dG87IiB2aWV3Qm94PSIwIDAgMTAwIDEwMCIgcHJlc2VydmVBc3BlY3RSYXRpbz0ieE1pZFlNaWQiPiAgPGNpcmNsZSBjeD0iNTAiIGN5PSI1MCIgZmlsbD0ibm9uZSIgc3Ryb2tlPSIjYzNjM2MzIiBzdHJva2Utd2lkdGg9IjEwIiByPSIzNSIgc3Ryb2tlLWRhc2hhcnJheT0iMTY0LjkzMzYxNDMxMzQ2NDE1IDU2Ljk3Nzg3MTQzNzgyMTM4Ij4gICAgPGFuaW1hdGVUcmFuc2Zvcm0gYXR0cmlidXRlTmFtZT0idHJhbnNmb3JtIiB0eXBlPSJyb3RhdGUiIHJlcGVhdENvdW50PSJpbmRlZmluaXRlIiBkdXI9IjFzIiB2YWx1ZXM9IjAgNTAgNTA7MzYwIDUwIDUwIiBrZXlUaW1lcz0iMDsxIj48L2FuaW1hdGVUcmFuc2Zvcm0+ICA8L2NpcmNsZT48L3N2Zz4=\\\");\\n  background-size: auto calc(min(50%, 400px));\\n}\",{\"type\":\"object\",\"name\":\"ImportedStyleSheet\",\"id\":\"p1082\",\"attributes\":{\"url\":\"https://cdn.holoviz.org/panel/1.3.8/dist/css/loading.css\"}},{\"type\":\"object\",\"name\":\"ImportedStyleSheet\",\"id\":\"p1150\",\"attributes\":{\"url\":\"https://cdn.holoviz.org/panel/1.3.8/dist/css/listpanel.css\"}},{\"type\":\"object\",\"name\":\"ImportedStyleSheet\",\"id\":\"p1080\",\"attributes\":{\"url\":\"https://cdn.holoviz.org/panel/1.3.8/dist/bundled/theme/default.css\"}},{\"type\":\"object\",\"name\":\"ImportedStyleSheet\",\"id\":\"p1081\",\"attributes\":{\"url\":\"https://cdn.holoviz.org/panel/1.3.8/dist/bundled/theme/native.css\"}}],\"min_width\":700,\"margin\":0,\"sizing_mode\":\"stretch_width\",\"align\":\"start\",\"children\":[{\"type\":\"object\",\"name\":\"Spacer\",\"id\":\"p1083\",\"attributes\":{\"name\":\"HSpacer01053\",\"stylesheets\":[\"\\n:host(.pn-loading.pn-arc):before, .pn-loading.pn-arc:before {\\n  background-image: url(\\\"data:image/svg+xml;base64,PHN2ZyB4bWxucz0iaHR0cDovL3d3dy53My5vcmcvMjAwMC9zdmciIHN0eWxlPSJtYXJnaW46IGF1dG87IGJhY2tncm91bmQ6IG5vbmU7IGRpc3BsYXk6IGJsb2NrOyBzaGFwZS1yZW5kZXJpbmc6IGF1dG87IiB2aWV3Qm94PSIwIDAgMTAwIDEwMCIgcHJlc2VydmVBc3BlY3RSYXRpbz0ieE1pZFlNaWQiPiAgPGNpcmNsZSBjeD0iNTAiIGN5PSI1MCIgZmlsbD0ibm9uZSIgc3Ryb2tlPSIjYzNjM2MzIiBzdHJva2Utd2lkdGg9IjEwIiByPSIzNSIgc3Ryb2tlLWRhc2hhcnJheT0iMTY0LjkzMzYxNDMxMzQ2NDE1IDU2Ljk3Nzg3MTQzNzgyMTM4Ij4gICAgPGFuaW1hdGVUcmFuc2Zvcm0gYXR0cmlidXRlTmFtZT0idHJhbnNmb3JtIiB0eXBlPSJyb3RhdGUiIHJlcGVhdENvdW50PSJpbmRlZmluaXRlIiBkdXI9IjFzIiB2YWx1ZXM9IjAgNTAgNTA7MzYwIDUwIDUwIiBrZXlUaW1lcz0iMDsxIj48L2FuaW1hdGVUcmFuc2Zvcm0+ICA8L2NpcmNsZT48L3N2Zz4=\\\");\\n  background-size: auto calc(min(50%, 400px));\\n}\",{\"id\":\"p1082\"},{\"id\":\"p1080\"},{\"id\":\"p1081\"}],\"margin\":0,\"sizing_mode\":\"stretch_width\",\"align\":\"start\"}},{\"type\":\"object\",\"name\":\"Figure\",\"id\":\"p1091\",\"attributes\":{\"width\":700,\"height\":300,\"margin\":[5,10],\"sizing_mode\":\"fixed\",\"align\":\"start\",\"x_range\":{\"type\":\"object\",\"name\":\"Range1d\",\"id\":\"p1084\",\"attributes\":{\"tags\":[[[\"Date\",\"Date\",null]],[]],\"start\":1546578000000.0,\"end\":1584590400000.0,\"reset_start\":1546578000000.0,\"reset_end\":1584590400000.0}},\"y_range\":{\"type\":\"object\",\"name\":\"Range1d\",\"id\":\"p1085\",\"attributes\":{\"tags\":[[[\"algorithm_cumulative_returns\",\"algorithm_cumulative_returns\",null]],{\"type\":\"map\",\"entries\":[[\"invert_yaxis\",false],[\"autorange\",false]]}],\"start\":0.683752031714827,\"end\":1.212310574374143,\"reset_start\":0.683752031714827,\"reset_end\":1.212310574374143}},\"x_scale\":{\"type\":\"object\",\"name\":\"LinearScale\",\"id\":\"p1101\"},\"y_scale\":{\"type\":\"object\",\"name\":\"LinearScale\",\"id\":\"p1102\"},\"title\":{\"type\":\"object\",\"name\":\"Title\",\"id\":\"p1094\",\"attributes\":{\"text\":\"algorithm_cumulative_returns\",\"text_color\":\"black\",\"text_font_size\":\"12pt\"}},\"renderers\":[{\"type\":\"object\",\"name\":\"GlyphRenderer\",\"id\":\"p1143\",\"attributes\":{\"data_source\":{\"type\":\"object\",\"name\":\"ColumnDataSource\",\"id\":\"p1134\",\"attributes\":{\"selected\":{\"type\":\"object\",\"name\":\"Selection\",\"id\":\"p1135\",\"attributes\":{\"indices\":[],\"line_indices\":[]}},\"selection_policy\":{\"type\":\"object\",\"name\":\"UnionRenderers\",\"id\":\"p1136\"},\"data\":{\"type\":\"map\",\"entries\":[[\"Date\",{\"type\":\"ndarray\",\"array\":{\"type\":\"bytes\",\"data\":\"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\"},\"shape\":[304],\"dtype\":\"float64\",\"order\":\"little\"}],[\"algorithm_cumulative_returns\",{\"type\":\"ndarray\",\"array\":{\"type\":\"bytes\",\"data\":\"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\"},\"shape\":[304],\"dtype\":\"float64\",\"order\":\"little\"}]]}}},\"view\":{\"type\":\"object\",\"name\":\"CDSView\",\"id\":\"p1144\",\"attributes\":{\"filter\":{\"type\":\"object\",\"name\":\"AllIndices\",\"id\":\"p1145\"}}},\"glyph\":{\"type\":\"object\",\"name\":\"Line\",\"id\":\"p1140\",\"attributes\":{\"tags\":[\"apply_ranges\"],\"x\":{\"type\":\"field\",\"field\":\"Date\"},\"y\":{\"type\":\"field\",\"field\":\"algorithm_cumulative_returns\"},\"line_color\":\"#30a2da\",\"line_width\":2}},\"selection_glyph\":{\"type\":\"object\",\"name\":\"Line\",\"id\":\"p1146\",\"attributes\":{\"tags\":[\"apply_ranges\"],\"x\":{\"type\":\"field\",\"field\":\"Date\"},\"y\":{\"type\":\"field\",\"field\":\"algorithm_cumulative_returns\"},\"line_color\":\"#30a2da\",\"line_width\":2}},\"nonselection_glyph\":{\"type\":\"object\",\"name\":\"Line\",\"id\":\"p1141\",\"attributes\":{\"tags\":[\"apply_ranges\"],\"x\":{\"type\":\"field\",\"field\":\"Date\"},\"y\":{\"type\":\"field\",\"field\":\"algorithm_cumulative_returns\"},\"line_color\":\"#30a2da\",\"line_alpha\":0.1,\"line_width\":2}},\"muted_glyph\":{\"type\":\"object\",\"name\":\"Line\",\"id\":\"p1142\",\"attributes\":{\"tags\":[\"apply_ranges\"],\"x\":{\"type\":\"field\",\"field\":\"Date\"},\"y\":{\"type\":\"field\",\"field\":\"algorithm_cumulative_returns\"},\"line_color\":\"#30a2da\",\"line_alpha\":0.2,\"line_width\":2}}}}],\"toolbar\":{\"type\":\"object\",\"name\":\"Toolbar\",\"id\":\"p1100\",\"attributes\":{\"tools\":[{\"type\":\"object\",\"name\":\"WheelZoomTool\",\"id\":\"p1089\",\"attributes\":{\"tags\":[\"hv_created\"],\"renderers\":\"auto\",\"zoom_together\":\"none\"}},{\"type\":\"object\",\"name\":\"HoverTool\",\"id\":\"p1090\",\"attributes\":{\"tags\":[\"hv_created\"],\"renderers\":[{\"id\":\"p1143\"}],\"tooltips\":[[\"Date\",\"@{Date}{%F %T}\"],[\"algorithm_cumulative_returns\",\"@{algorithm_cumulative_returns}\"]],\"formatters\":{\"type\":\"map\",\"entries\":[[\"@{Date}\",\"datetime\"]]}}},{\"type\":\"object\",\"name\":\"SaveTool\",\"id\":\"p1125\"},{\"type\":\"object\",\"name\":\"PanTool\",\"id\":\"p1126\"},{\"type\":\"object\",\"name\":\"BoxZoomTool\",\"id\":\"p1127\",\"attributes\":{\"overlay\":{\"type\":\"object\",\"name\":\"BoxAnnotation\",\"id\":\"p1128\",\"attributes\":{\"syncable\":false,\"level\":\"overlay\",\"visible\":false,\"left\":{\"type\":\"number\",\"value\":\"nan\"},\"right\":{\"type\":\"number\",\"value\":\"nan\"},\"top\":{\"type\":\"number\",\"value\":\"nan\"},\"bottom\":{\"type\":\"number\",\"value\":\"nan\"},\"left_units\":\"canvas\",\"right_units\":\"canvas\",\"top_units\":\"canvas\",\"bottom_units\":\"canvas\",\"line_color\":\"black\",\"line_alpha\":1.0,\"line_width\":2,\"line_dash\":[4,4],\"fill_color\":\"lightgrey\",\"fill_alpha\":0.5}}}},{\"type\":\"object\",\"name\":\"ResetTool\",\"id\":\"p1133\"}],\"active_drag\":{\"id\":\"p1126\"},\"active_scroll\":{\"id\":\"p1089\"}}},\"left\":[{\"type\":\"object\",\"name\":\"LinearAxis\",\"id\":\"p1120\",\"attributes\":{\"ticker\":{\"type\":\"object\",\"name\":\"BasicTicker\",\"id\":\"p1121\",\"attributes\":{\"mantissas\":[1,2,5]}},\"formatter\":{\"type\":\"object\",\"name\":\"BasicTickFormatter\",\"id\":\"p1122\"},\"axis_label\":\"\",\"major_label_policy\":{\"type\":\"object\",\"name\":\"AllLabels\",\"id\":\"p1123\"}}}],\"below\":[{\"type\":\"object\",\"name\":\"DatetimeAxis\",\"id\":\"p1103\",\"attributes\":{\"ticker\":{\"type\":\"object\",\"name\":\"DatetimeTicker\",\"id\":\"p1104\",\"attributes\":{\"num_minor_ticks\":5,\"tickers\":[{\"type\":\"object\",\"name\":\"AdaptiveTicker\",\"id\":\"p1105\",\"attributes\":{\"num_minor_ticks\":0,\"mantissas\":[1,2,5],\"max_interval\":500.0}},{\"type\":\"object\",\"name\":\"AdaptiveTicker\",\"id\":\"p1106\",\"attributes\":{\"num_minor_ticks\":0,\"base\":60,\"mantissas\":[1,2,5,10,15,20,30],\"min_interval\":1000.0,\"max_interval\":1800000.0}},{\"type\":\"object\",\"name\":\"AdaptiveTicker\",\"id\":\"p1107\",\"attributes\":{\"num_minor_ticks\":0,\"base\":24,\"mantissas\":[1,2,4,6,8,12],\"min_interval\":3600000.0,\"max_interval\":43200000.0}},{\"type\":\"object\",\"name\":\"DaysTicker\",\"id\":\"p1108\",\"attributes\":{\"days\":[1,2,3,4,5,6,7,8,9,10,11,12,13,14,15,16,17,18,19,20,21,22,23,24,25,26,27,28,29,30,31]}},{\"type\":\"object\",\"name\":\"DaysTicker\",\"id\":\"p1109\",\"attributes\":{\"days\":[1,4,7,10,13,16,19,22,25,28]}},{\"type\":\"object\",\"name\":\"DaysTicker\",\"id\":\"p1110\",\"attributes\":{\"days\":[1,8,15,22]}},{\"type\":\"object\",\"name\":\"DaysTicker\",\"id\":\"p1111\",\"attributes\":{\"days\":[1,15]}},{\"type\":\"object\",\"name\":\"MonthsTicker\",\"id\":\"p1112\",\"attributes\":{\"months\":[0,1,2,3,4,5,6,7,8,9,10,11]}},{\"type\":\"object\",\"name\":\"MonthsTicker\",\"id\":\"p1113\",\"attributes\":{\"months\":[0,2,4,6,8,10]}},{\"type\":\"object\",\"name\":\"MonthsTicker\",\"id\":\"p1114\",\"attributes\":{\"months\":[0,4,8]}},{\"type\":\"object\",\"name\":\"MonthsTicker\",\"id\":\"p1115\",\"attributes\":{\"months\":[0,6]}},{\"type\":\"object\",\"name\":\"YearsTicker\",\"id\":\"p1116\"}]}},\"formatter\":{\"type\":\"object\",\"name\":\"DatetimeTickFormatter\",\"id\":\"p1117\"},\"axis_label\":\"Date\",\"major_label_policy\":{\"type\":\"object\",\"name\":\"AllLabels\",\"id\":\"p1118\"}}}],\"center\":[{\"type\":\"object\",\"name\":\"Grid\",\"id\":\"p1119\",\"attributes\":{\"axis\":{\"id\":\"p1103\"},\"grid_line_color\":null}},{\"type\":\"object\",\"name\":\"Grid\",\"id\":\"p1124\",\"attributes\":{\"dimension\":1,\"axis\":{\"id\":\"p1120\"},\"grid_line_color\":null}}],\"min_border_top\":10,\"min_border_bottom\":10,\"min_border_left\":10,\"min_border_right\":10,\"output_backend\":\"webgl\"}},{\"type\":\"object\",\"name\":\"Spacer\",\"id\":\"p1148\",\"attributes\":{\"name\":\"HSpacer01054\",\"stylesheets\":[\"\\n:host(.pn-loading.pn-arc):before, .pn-loading.pn-arc:before {\\n  background-image: url(\\\"data:image/svg+xml;base64,PHN2ZyB4bWxucz0iaHR0cDovL3d3dy53My5vcmcvMjAwMC9zdmciIHN0eWxlPSJtYXJnaW46IGF1dG87IGJhY2tncm91bmQ6IG5vbmU7IGRpc3BsYXk6IGJsb2NrOyBzaGFwZS1yZW5kZXJpbmc6IGF1dG87IiB2aWV3Qm94PSIwIDAgMTAwIDEwMCIgcHJlc2VydmVBc3BlY3RSYXRpbz0ieE1pZFlNaWQiPiAgPGNpcmNsZSBjeD0iNTAiIGN5PSI1MCIgZmlsbD0ibm9uZSIgc3Ryb2tlPSIjYzNjM2MzIiBzdHJva2Utd2lkdGg9IjEwIiByPSIzNSIgc3Ryb2tlLWRhc2hhcnJheT0iMTY0LjkzMzYxNDMxMzQ2NDE1IDU2Ljk3Nzg3MTQzNzgyMTM4Ij4gICAgPGFuaW1hdGVUcmFuc2Zvcm0gYXR0cmlidXRlTmFtZT0idHJhbnNmb3JtIiB0eXBlPSJyb3RhdGUiIHJlcGVhdENvdW50PSJpbmRlZmluaXRlIiBkdXI9IjFzIiB2YWx1ZXM9IjAgNTAgNTA7MzYwIDUwIDUwIiBrZXlUaW1lcz0iMDsxIj48L2FuaW1hdGVUcmFuc2Zvcm0+ICA8L2NpcmNsZT48L3N2Zz4=\\\");\\n  background-size: auto calc(min(50%, 400px));\\n}\",{\"id\":\"p1082\"},{\"id\":\"p1080\"},{\"id\":\"p1081\"}],\"margin\":0,\"sizing_mode\":\"stretch_width\",\"align\":\"start\"}}]}}],\"defs\":[{\"type\":\"model\",\"name\":\"ReactiveHTML1\"},{\"type\":\"model\",\"name\":\"FlexBox1\",\"properties\":[{\"name\":\"align_content\",\"kind\":\"Any\",\"default\":\"flex-start\"},{\"name\":\"align_items\",\"kind\":\"Any\",\"default\":\"flex-start\"},{\"name\":\"flex_direction\",\"kind\":\"Any\",\"default\":\"row\"},{\"name\":\"flex_wrap\",\"kind\":\"Any\",\"default\":\"wrap\"},{\"name\":\"justify_content\",\"kind\":\"Any\",\"default\":\"flex-start\"}]},{\"type\":\"model\",\"name\":\"FloatPanel1\",\"properties\":[{\"name\":\"config\",\"kind\":\"Any\",\"default\":{\"type\":\"map\"}},{\"name\":\"contained\",\"kind\":\"Any\",\"default\":true},{\"name\":\"position\",\"kind\":\"Any\",\"default\":\"right-top\"},{\"name\":\"offsetx\",\"kind\":\"Any\",\"default\":null},{\"name\":\"offsety\",\"kind\":\"Any\",\"default\":null},{\"name\":\"theme\",\"kind\":\"Any\",\"default\":\"primary\"},{\"name\":\"status\",\"kind\":\"Any\",\"default\":\"normalized\"}]},{\"type\":\"model\",\"name\":\"GridStack1\",\"properties\":[{\"name\":\"mode\",\"kind\":\"Any\",\"default\":\"warn\"},{\"name\":\"ncols\",\"kind\":\"Any\",\"default\":null},{\"name\":\"nrows\",\"kind\":\"Any\",\"default\":null},{\"name\":\"allow_resize\",\"kind\":\"Any\",\"default\":true},{\"name\":\"allow_drag\",\"kind\":\"Any\",\"default\":true},{\"name\":\"state\",\"kind\":\"Any\",\"default\":[]}]},{\"type\":\"model\",\"name\":\"drag1\",\"properties\":[{\"name\":\"slider_width\",\"kind\":\"Any\",\"default\":5},{\"name\":\"slider_color\",\"kind\":\"Any\",\"default\":\"black\"},{\"name\":\"value\",\"kind\":\"Any\",\"default\":50}]},{\"type\":\"model\",\"name\":\"click1\",\"properties\":[{\"name\":\"terminal_output\",\"kind\":\"Any\",\"default\":\"\"},{\"name\":\"debug_name\",\"kind\":\"Any\",\"default\":\"\"},{\"name\":\"clears\",\"kind\":\"Any\",\"default\":0}]},{\"type\":\"model\",\"name\":\"copy_to_clipboard1\",\"properties\":[{\"name\":\"fill\",\"kind\":\"Any\",\"default\":\"none\"},{\"name\":\"value\",\"kind\":\"Any\",\"default\":null}]},{\"type\":\"model\",\"name\":\"FastWrapper1\",\"properties\":[{\"name\":\"object\",\"kind\":\"Any\",\"default\":null},{\"name\":\"style\",\"kind\":\"Any\",\"default\":null}]},{\"type\":\"model\",\"name\":\"NotificationAreaBase1\",\"properties\":[{\"name\":\"js_events\",\"kind\":\"Any\",\"default\":{\"type\":\"map\"}},{\"name\":\"position\",\"kind\":\"Any\",\"default\":\"bottom-right\"},{\"name\":\"_clear\",\"kind\":\"Any\",\"default\":0}]},{\"type\":\"model\",\"name\":\"NotificationArea1\",\"properties\":[{\"name\":\"js_events\",\"kind\":\"Any\",\"default\":{\"type\":\"map\"}},{\"name\":\"notifications\",\"kind\":\"Any\",\"default\":[]},{\"name\":\"position\",\"kind\":\"Any\",\"default\":\"bottom-right\"},{\"name\":\"_clear\",\"kind\":\"Any\",\"default\":0},{\"name\":\"types\",\"kind\":\"Any\",\"default\":[{\"type\":\"map\",\"entries\":[[\"type\",\"warning\"],[\"background\",\"#ffc107\"],[\"icon\",{\"type\":\"map\",\"entries\":[[\"className\",\"fas fa-exclamation-triangle\"],[\"tagName\",\"i\"],[\"color\",\"white\"]]}]]},{\"type\":\"map\",\"entries\":[[\"type\",\"info\"],[\"background\",\"#007bff\"],[\"icon\",{\"type\":\"map\",\"entries\":[[\"className\",\"fas fa-info-circle\"],[\"tagName\",\"i\"],[\"color\",\"white\"]]}]]}]}]},{\"type\":\"model\",\"name\":\"Notification\",\"properties\":[{\"name\":\"background\",\"kind\":\"Any\",\"default\":null},{\"name\":\"duration\",\"kind\":\"Any\",\"default\":3000},{\"name\":\"icon\",\"kind\":\"Any\",\"default\":null},{\"name\":\"message\",\"kind\":\"Any\",\"default\":\"\"},{\"name\":\"notification_type\",\"kind\":\"Any\",\"default\":null},{\"name\":\"_destroyed\",\"kind\":\"Any\",\"default\":false}]},{\"type\":\"model\",\"name\":\"TemplateActions1\",\"properties\":[{\"name\":\"open_modal\",\"kind\":\"Any\",\"default\":0},{\"name\":\"close_modal\",\"kind\":\"Any\",\"default\":0}]},{\"type\":\"model\",\"name\":\"BootstrapTemplateActions1\",\"properties\":[{\"name\":\"open_modal\",\"kind\":\"Any\",\"default\":0},{\"name\":\"close_modal\",\"kind\":\"Any\",\"default\":0}]},{\"type\":\"model\",\"name\":\"MaterialTemplateActions1\",\"properties\":[{\"name\":\"open_modal\",\"kind\":\"Any\",\"default\":0},{\"name\":\"close_modal\",\"kind\":\"Any\",\"default\":0}]}]}};\n",
       "  var render_items = [{\"docid\":\"1708c1dc-acce-4fbd-987f-d209d47781d3\",\"roots\":{\"p1079\":\"fd28014d-4ee0-4d40-9419-ec00b7ff3bde\"},\"root_ids\":[\"p1079\"]}];\n",
       "  var docs = Object.values(docs_json)\n",
       "  if (!docs) {\n",
       "    return\n",
       "  }\n",
       "  const py_version = docs[0].version.replace('rc', '-rc.').replace('.dev', '-dev.')\n",
       "  function embed_document(root) {\n",
       "    var Bokeh = get_bokeh(root)\n",
       "    Bokeh.embed.embed_items_notebook(docs_json, render_items);\n",
       "    for (const render_item of render_items) {\n",
       "      for (const root_id of render_item.root_ids) {\n",
       "\tconst id_el = document.getElementById(root_id)\n",
       "\tif (id_el.children.length && (id_el.children[0].className === 'bk-root')) {\n",
       "\t  const root_el = id_el.children[0]\n",
       "\t  root_el.id = root_el.id + '-rendered'\n",
       "\t}\n",
       "      }\n",
       "    }\n",
       "  }\n",
       "  function get_bokeh(root) {\n",
       "    if (root.Bokeh === undefined) {\n",
       "      return null\n",
       "    } else if (root.Bokeh.version !== py_version) {\n",
       "      if (root.Bokeh.versions === undefined || !root.Bokeh.versions.has(py_version)) {\n",
       "\treturn null\n",
       "      }\n",
       "      return root.Bokeh.versions.get(py_version);\n",
       "    } else if (root.Bokeh.version === py_version) {\n",
       "      return root.Bokeh\n",
       "    }\n",
       "    return null\n",
       "  }\n",
       "  function is_loaded(root) {\n",
       "    var Bokeh = get_bokeh(root)\n",
       "    return (Bokeh != null && Bokeh.Panel !== undefined)\n",
       "  }\n",
       "  if (is_loaded(root)) {\n",
       "    embed_document(root);\n",
       "  } else {\n",
       "    var attempts = 0;\n",
       "    var timer = setInterval(function(root) {\n",
       "      if (is_loaded(root)) {\n",
       "        clearInterval(timer);\n",
       "        embed_document(root);\n",
       "      } else if (document.readyState == \"complete\") {\n",
       "        attempts++;\n",
       "        if (attempts > 200) {\n",
       "          clearInterval(timer);\n",
       "\t  var Bokeh = get_bokeh(root)\n",
       "\t  if (Bokeh == null || Bokeh.Panel == null) {\n",
       "            console.warn(\"Panel: ERROR: Unable to run Panel code because Bokeh or Panel library is missing\");\n",
       "\t  } else {\n",
       "\t    console.warn(\"Panel: WARNING: Attempting to render but not all required libraries could be resolved.\")\n",
       "\t    embed_document(root)\n",
       "\t  }\n",
       "        }\n",
       "      }\n",
       "    }, 25, root)\n",
       "  }\n",
       "})(window);</script>"
      ],
      "text/plain": [
       ":Curve   [Date]   (algorithm_cumulative_returns)"
      ]
     },
     "execution_count": 10,
     "metadata": {
      "application/vnd.holoviews_exec.v0+json": {
       "id": "p1079"
      }
     },
     "output_type": "execute_result"
    }
   ],
   "source": [
    "fntk_df['algorithm_cumulative_returns'].hvplot()"
   ]
  },
  {
   "cell_type": "markdown",
   "metadata": {},
   "source": [
    "## Calculate the Cumulative Return for the Trading Period"
   ]
  },
  {
   "cell_type": "code",
   "execution_count": 11,
   "metadata": {},
   "outputs": [
    {
     "name": "stdout",
     "output_type": "stream",
     "text": [
      "The total_return of the trading strategy is 16.83%.\n"
     ]
    }
   ],
   "source": [
    "total_return = round((fntk_df['algorithm_cumulative_returns'][-1] - 1) * 100, 2)\n",
    "\n",
    "# Print the profit/loss metrics\n",
    "print(f\"The total_return of the trading strategy is {total_return}%.\")"
   ]
  },
  {
   "cell_type": "markdown",
   "metadata": {},
   "source": [
    "### Compare the algorithm's performance to a 'Buy and Hold' strategy"
   ]
  },
  {
   "cell_type": "code",
   "execution_count": 12,
   "metadata": {},
   "outputs": [],
   "source": [
    "fntk_df['buy_hold_cumulative_returns']=(fntk_df['daily_returns'] + 1).cumprod()"
   ]
  },
  {
   "cell_type": "code",
   "execution_count": 16,
   "metadata": {},
   "outputs": [
    {
     "name": "stdout",
     "output_type": "stream",
     "text": [
      "The total_return of the trading strategy is 16.03%.\n"
     ]
    }
   ],
   "source": [
    "total_return_algorithm = total_return_buy_hold = round((fntk_df['buy_hold_cumulative_returns'][-1] - 1) * 100, 2)\n",
    "\n",
    "print(f\"The total_return of the trading strategy is {total_return_buy_hold}%.\")"
   ]
  },
  {
   "cell_type": "code",
   "execution_count": 17,
   "metadata": {},
   "outputs": [
    {
     "data": {},
     "metadata": {},
     "output_type": "display_data"
    },
    {
     "data": {
      "application/vnd.holoviews_exec.v0+json": "",
      "text/html": [
       "<div id='p1250'>\n",
       "  <div id=\"b7e6e83b-8bf4-4fc2-b8d7-80becf68463d\" data-root-id=\"p1250\" style=\"display: contents;\"></div>\n",
       "</div>\n",
       "<script type=\"application/javascript\">(function(root) {\n",
       "  var docs_json = {\"537e253a-cb30-4f1b-b77c-41d2f983a784\":{\"version\":\"3.3.4\",\"title\":\"Bokeh Application\",\"roots\":[{\"type\":\"object\",\"name\":\"Row\",\"id\":\"p1250\",\"attributes\":{\"name\":\"Row01451\",\"tags\":[\"embedded\"],\"stylesheets\":[\"\\n:host(.pn-loading.pn-arc):before, .pn-loading.pn-arc:before {\\n  background-image: url(\\\"data:image/svg+xml;base64,PHN2ZyB4bWxucz0iaHR0cDovL3d3dy53My5vcmcvMjAwMC9zdmciIHN0eWxlPSJtYXJnaW46IGF1dG87IGJhY2tncm91bmQ6IG5vbmU7IGRpc3BsYXk6IGJsb2NrOyBzaGFwZS1yZW5kZXJpbmc6IGF1dG87IiB2aWV3Qm94PSIwIDAgMTAwIDEwMCIgcHJlc2VydmVBc3BlY3RSYXRpbz0ieE1pZFlNaWQiPiAgPGNpcmNsZSBjeD0iNTAiIGN5PSI1MCIgZmlsbD0ibm9uZSIgc3Ryb2tlPSIjYzNjM2MzIiBzdHJva2Utd2lkdGg9IjEwIiByPSIzNSIgc3Ryb2tlLWRhc2hhcnJheT0iMTY0LjkzMzYxNDMxMzQ2NDE1IDU2Ljk3Nzg3MTQzNzgyMTM4Ij4gICAgPGFuaW1hdGVUcmFuc2Zvcm0gYXR0cmlidXRlTmFtZT0idHJhbnNmb3JtIiB0eXBlPSJyb3RhdGUiIHJlcGVhdENvdW50PSJpbmRlZmluaXRlIiBkdXI9IjFzIiB2YWx1ZXM9IjAgNTAgNTA7MzYwIDUwIDUwIiBrZXlUaW1lcz0iMDsxIj48L2FuaW1hdGVUcmFuc2Zvcm0+ICA8L2NpcmNsZT48L3N2Zz4=\\\");\\n  background-size: auto calc(min(50%, 400px));\\n}\",{\"type\":\"object\",\"name\":\"ImportedStyleSheet\",\"id\":\"p1253\",\"attributes\":{\"url\":\"https://cdn.holoviz.org/panel/1.3.8/dist/css/loading.css\"}},{\"type\":\"object\",\"name\":\"ImportedStyleSheet\",\"id\":\"p1340\",\"attributes\":{\"url\":\"https://cdn.holoviz.org/panel/1.3.8/dist/css/listpanel.css\"}},{\"type\":\"object\",\"name\":\"ImportedStyleSheet\",\"id\":\"p1251\",\"attributes\":{\"url\":\"https://cdn.holoviz.org/panel/1.3.8/dist/bundled/theme/default.css\"}},{\"type\":\"object\",\"name\":\"ImportedStyleSheet\",\"id\":\"p1252\",\"attributes\":{\"url\":\"https://cdn.holoviz.org/panel/1.3.8/dist/bundled/theme/native.css\"}}],\"min_width\":700,\"margin\":0,\"sizing_mode\":\"stretch_width\",\"align\":\"start\",\"children\":[{\"type\":\"object\",\"name\":\"Spacer\",\"id\":\"p1254\",\"attributes\":{\"name\":\"HSpacer01457\",\"stylesheets\":[\"\\n:host(.pn-loading.pn-arc):before, .pn-loading.pn-arc:before {\\n  background-image: url(\\\"data:image/svg+xml;base64,PHN2ZyB4bWxucz0iaHR0cDovL3d3dy53My5vcmcvMjAwMC9zdmciIHN0eWxlPSJtYXJnaW46IGF1dG87IGJhY2tncm91bmQ6IG5vbmU7IGRpc3BsYXk6IGJsb2NrOyBzaGFwZS1yZW5kZXJpbmc6IGF1dG87IiB2aWV3Qm94PSIwIDAgMTAwIDEwMCIgcHJlc2VydmVBc3BlY3RSYXRpbz0ieE1pZFlNaWQiPiAgPGNpcmNsZSBjeD0iNTAiIGN5PSI1MCIgZmlsbD0ibm9uZSIgc3Ryb2tlPSIjYzNjM2MzIiBzdHJva2Utd2lkdGg9IjEwIiByPSIzNSIgc3Ryb2tlLWRhc2hhcnJheT0iMTY0LjkzMzYxNDMxMzQ2NDE1IDU2Ljk3Nzg3MTQzNzgyMTM4Ij4gICAgPGFuaW1hdGVUcmFuc2Zvcm0gYXR0cmlidXRlTmFtZT0idHJhbnNmb3JtIiB0eXBlPSJyb3RhdGUiIHJlcGVhdENvdW50PSJpbmRlZmluaXRlIiBkdXI9IjFzIiB2YWx1ZXM9IjAgNTAgNTA7MzYwIDUwIDUwIiBrZXlUaW1lcz0iMDsxIj48L2FuaW1hdGVUcmFuc2Zvcm0+ICA8L2NpcmNsZT48L3N2Zz4=\\\");\\n  background-size: auto calc(min(50%, 400px));\\n}\",{\"id\":\"p1253\"},{\"id\":\"p1251\"},{\"id\":\"p1252\"}],\"margin\":0,\"sizing_mode\":\"stretch_width\",\"align\":\"start\"}},{\"type\":\"object\",\"name\":\"Figure\",\"id\":\"p1265\",\"attributes\":{\"width\":700,\"height\":300,\"margin\":[5,10],\"sizing_mode\":\"fixed\",\"align\":\"start\",\"x_range\":{\"type\":\"object\",\"name\":\"Range1d\",\"id\":\"p1255\",\"attributes\":{\"tags\":[[[\"Date\",\"Date\",null]],[]],\"start\":1546578000000.0,\"end\":1584590400000.0,\"reset_start\":1546578000000.0,\"reset_end\":1584590400000.0}},\"y_range\":{\"type\":\"object\",\"name\":\"Range1d\",\"id\":\"p1256\",\"attributes\":{\"tags\":[[[\"buy_hold_cumulative_returns\",\"buy_hold_cumulative_returns\",null]],{\"type\":\"map\",\"entries\":[[\"invert_yaxis\",false],[\"autorange\",false]]}],\"start\":0.6312633528423507,\"end\":1.7896860419713823,\"reset_start\":0.6312633528423507,\"reset_end\":1.7896860419713823}},\"x_scale\":{\"type\":\"object\",\"name\":\"LinearScale\",\"id\":\"p1275\"},\"y_scale\":{\"type\":\"object\",\"name\":\"LinearScale\",\"id\":\"p1276\"},\"title\":{\"type\":\"object\",\"name\":\"Title\",\"id\":\"p1268\",\"attributes\":{\"text_color\":\"black\",\"text_font_size\":\"12pt\"}},\"renderers\":[{\"type\":\"object\",\"name\":\"GlyphRenderer\",\"id\":\"p1317\",\"attributes\":{\"name\":\"buy_hold_cumulative_returns\",\"data_source\":{\"type\":\"object\",\"name\":\"ColumnDataSource\",\"id\":\"p1308\",\"attributes\":{\"selected\":{\"type\":\"object\",\"name\":\"Selection\",\"id\":\"p1309\",\"attributes\":{\"indices\":[],\"line_indices\":[]}},\"selection_policy\":{\"type\":\"object\",\"name\":\"UnionRenderers\",\"id\":\"p1310\"},\"data\":{\"type\":\"map\",\"entries\":[[\"Date\",{\"type\":\"ndarray\",\"array\":{\"type\":\"bytes\",\"data\":\"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\"},\"shape\":[304],\"dtype\":\"float64\",\"order\":\"little\"}],[\"buy_hold_cumulative_returns\",{\"type\":\"ndarray\",\"array\":{\"type\":\"bytes\",\"data\":\"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\"},\"shape\":[304],\"dtype\":\"float64\",\"order\":\"little\"}]]}}},\"view\":{\"type\":\"object\",\"name\":\"CDSView\",\"id\":\"p1318\",\"attributes\":{\"filter\":{\"type\":\"object\",\"name\":\"AllIndices\",\"id\":\"p1319\"}}},\"glyph\":{\"type\":\"object\",\"name\":\"Line\",\"id\":\"p1314\",\"attributes\":{\"tags\":[\"apply_ranges\"],\"x\":{\"type\":\"field\",\"field\":\"Date\"},\"y\":{\"type\":\"field\",\"field\":\"buy_hold_cumulative_returns\"},\"line_color\":\"#30a2da\",\"line_width\":2}},\"selection_glyph\":{\"type\":\"object\",\"name\":\"Line\",\"id\":\"p1322\",\"attributes\":{\"tags\":[\"apply_ranges\"],\"x\":{\"type\":\"field\",\"field\":\"Date\"},\"y\":{\"type\":\"field\",\"field\":\"buy_hold_cumulative_returns\"},\"line_color\":\"#30a2da\",\"line_width\":2}},\"nonselection_glyph\":{\"type\":\"object\",\"name\":\"Line\",\"id\":\"p1315\",\"attributes\":{\"tags\":[\"apply_ranges\"],\"x\":{\"type\":\"field\",\"field\":\"Date\"},\"y\":{\"type\":\"field\",\"field\":\"buy_hold_cumulative_returns\"},\"line_color\":\"#30a2da\",\"line_alpha\":0.1,\"line_width\":2}},\"muted_glyph\":{\"type\":\"object\",\"name\":\"Line\",\"id\":\"p1316\",\"attributes\":{\"tags\":[\"apply_ranges\"],\"x\":{\"type\":\"field\",\"field\":\"Date\"},\"y\":{\"type\":\"field\",\"field\":\"buy_hold_cumulative_returns\"},\"line_color\":\"#30a2da\",\"line_alpha\":0.2,\"line_width\":2}}}},{\"type\":\"object\",\"name\":\"GlyphRenderer\",\"id\":\"p1332\",\"attributes\":{\"name\":\"algorithm_cumulative_returns\",\"data_source\":{\"type\":\"object\",\"name\":\"ColumnDataSource\",\"id\":\"p1323\",\"attributes\":{\"selected\":{\"type\":\"object\",\"name\":\"Selection\",\"id\":\"p1324\",\"attributes\":{\"indices\":[],\"line_indices\":[]}},\"selection_policy\":{\"type\":\"object\",\"name\":\"UnionRenderers\",\"id\":\"p1325\"},\"data\":{\"type\":\"map\",\"entries\":[[\"Date\",{\"type\":\"ndarray\",\"array\":{\"type\":\"bytes\",\"data\":\"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\"},\"shape\":[304],\"dtype\":\"float64\",\"order\":\"little\"}],[\"algorithm_cumulative_returns\",{\"type\":\"ndarray\",\"array\":{\"type\":\"bytes\",\"data\":\"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\"},\"shape\":[304],\"dtype\":\"float64\",\"order\":\"little\"}]]}}},\"view\":{\"type\":\"object\",\"name\":\"CDSView\",\"id\":\"p1333\",\"attributes\":{\"filter\":{\"type\":\"object\",\"name\":\"AllIndices\",\"id\":\"p1334\"}}},\"glyph\":{\"type\":\"object\",\"name\":\"Line\",\"id\":\"p1329\",\"attributes\":{\"tags\":[\"apply_ranges\"],\"x\":{\"type\":\"field\",\"field\":\"Date\"},\"y\":{\"type\":\"field\",\"field\":\"algorithm_cumulative_returns\"},\"line_color\":\"#fc4f30\",\"line_width\":2}},\"selection_glyph\":{\"type\":\"object\",\"name\":\"Line\",\"id\":\"p1336\",\"attributes\":{\"tags\":[\"apply_ranges\"],\"x\":{\"type\":\"field\",\"field\":\"Date\"},\"y\":{\"type\":\"field\",\"field\":\"algorithm_cumulative_returns\"},\"line_color\":\"#fc4f30\",\"line_width\":2}},\"nonselection_glyph\":{\"type\":\"object\",\"name\":\"Line\",\"id\":\"p1330\",\"attributes\":{\"tags\":[\"apply_ranges\"],\"x\":{\"type\":\"field\",\"field\":\"Date\"},\"y\":{\"type\":\"field\",\"field\":\"algorithm_cumulative_returns\"},\"line_color\":\"#fc4f30\",\"line_alpha\":0.1,\"line_width\":2}},\"muted_glyph\":{\"type\":\"object\",\"name\":\"Line\",\"id\":\"p1331\",\"attributes\":{\"tags\":[\"apply_ranges\"],\"x\":{\"type\":\"field\",\"field\":\"Date\"},\"y\":{\"type\":\"field\",\"field\":\"algorithm_cumulative_returns\"},\"line_color\":\"#fc4f30\",\"line_alpha\":0.2,\"line_width\":2}}}}],\"toolbar\":{\"type\":\"object\",\"name\":\"Toolbar\",\"id\":\"p1274\",\"attributes\":{\"tools\":[{\"type\":\"object\",\"name\":\"WheelZoomTool\",\"id\":\"p1260\",\"attributes\":{\"tags\":[\"hv_created\"],\"renderers\":\"auto\",\"zoom_together\":\"none\"}},{\"type\":\"object\",\"name\":\"HoverTool\",\"id\":\"p1261\",\"attributes\":{\"tags\":[\"hv_created\"],\"renderers\":[{\"id\":\"p1317\"}],\"tooltips\":[[\"Date\",\"@{Date}{%F %T}\"],[\"buy_hold_cumulative_returns\",\"@{buy_hold_cumulative_returns}\"]],\"formatters\":{\"type\":\"map\",\"entries\":[[\"@{Date}\",\"datetime\"]]}}},{\"type\":\"object\",\"name\":\"HoverTool\",\"id\":\"p1264\",\"attributes\":{\"tags\":[\"hv_created\"],\"renderers\":[{\"id\":\"p1332\"}],\"tooltips\":[[\"Date\",\"@{Date}{%F %T}\"],[\"algorithm_cumulative_returns\",\"@{algorithm_cumulative_returns}\"]],\"formatters\":{\"type\":\"map\",\"entries\":[[\"@{Date}\",\"datetime\"]]}}},{\"type\":\"object\",\"name\":\"SaveTool\",\"id\":\"p1299\"},{\"type\":\"object\",\"name\":\"PanTool\",\"id\":\"p1300\"},{\"type\":\"object\",\"name\":\"BoxZoomTool\",\"id\":\"p1301\",\"attributes\":{\"overlay\":{\"type\":\"object\",\"name\":\"BoxAnnotation\",\"id\":\"p1302\",\"attributes\":{\"syncable\":false,\"level\":\"overlay\",\"visible\":false,\"left\":{\"type\":\"number\",\"value\":\"nan\"},\"right\":{\"type\":\"number\",\"value\":\"nan\"},\"top\":{\"type\":\"number\",\"value\":\"nan\"},\"bottom\":{\"type\":\"number\",\"value\":\"nan\"},\"left_units\":\"canvas\",\"right_units\":\"canvas\",\"top_units\":\"canvas\",\"bottom_units\":\"canvas\",\"line_color\":\"black\",\"line_alpha\":1.0,\"line_width\":2,\"line_dash\":[4,4],\"fill_color\":\"lightgrey\",\"fill_alpha\":0.5}}}},{\"type\":\"object\",\"name\":\"ResetTool\",\"id\":\"p1307\"}],\"active_drag\":{\"id\":\"p1300\"},\"active_scroll\":{\"id\":\"p1260\"}}},\"left\":[{\"type\":\"object\",\"name\":\"LinearAxis\",\"id\":\"p1294\",\"attributes\":{\"ticker\":{\"type\":\"object\",\"name\":\"BasicTicker\",\"id\":\"p1295\",\"attributes\":{\"mantissas\":[1,2,5]}},\"formatter\":{\"type\":\"object\",\"name\":\"BasicTickFormatter\",\"id\":\"p1296\"},\"axis_label\":\"\",\"major_label_policy\":{\"type\":\"object\",\"name\":\"AllLabels\",\"id\":\"p1297\"}}}],\"below\":[{\"type\":\"object\",\"name\":\"DatetimeAxis\",\"id\":\"p1277\",\"attributes\":{\"ticker\":{\"type\":\"object\",\"name\":\"DatetimeTicker\",\"id\":\"p1278\",\"attributes\":{\"num_minor_ticks\":5,\"tickers\":[{\"type\":\"object\",\"name\":\"AdaptiveTicker\",\"id\":\"p1279\",\"attributes\":{\"num_minor_ticks\":0,\"mantissas\":[1,2,5],\"max_interval\":500.0}},{\"type\":\"object\",\"name\":\"AdaptiveTicker\",\"id\":\"p1280\",\"attributes\":{\"num_minor_ticks\":0,\"base\":60,\"mantissas\":[1,2,5,10,15,20,30],\"min_interval\":1000.0,\"max_interval\":1800000.0}},{\"type\":\"object\",\"name\":\"AdaptiveTicker\",\"id\":\"p1281\",\"attributes\":{\"num_minor_ticks\":0,\"base\":24,\"mantissas\":[1,2,4,6,8,12],\"min_interval\":3600000.0,\"max_interval\":43200000.0}},{\"type\":\"object\",\"name\":\"DaysTicker\",\"id\":\"p1282\",\"attributes\":{\"days\":[1,2,3,4,5,6,7,8,9,10,11,12,13,14,15,16,17,18,19,20,21,22,23,24,25,26,27,28,29,30,31]}},{\"type\":\"object\",\"name\":\"DaysTicker\",\"id\":\"p1283\",\"attributes\":{\"days\":[1,4,7,10,13,16,19,22,25,28]}},{\"type\":\"object\",\"name\":\"DaysTicker\",\"id\":\"p1284\",\"attributes\":{\"days\":[1,8,15,22]}},{\"type\":\"object\",\"name\":\"DaysTicker\",\"id\":\"p1285\",\"attributes\":{\"days\":[1,15]}},{\"type\":\"object\",\"name\":\"MonthsTicker\",\"id\":\"p1286\",\"attributes\":{\"months\":[0,1,2,3,4,5,6,7,8,9,10,11]}},{\"type\":\"object\",\"name\":\"MonthsTicker\",\"id\":\"p1287\",\"attributes\":{\"months\":[0,2,4,6,8,10]}},{\"type\":\"object\",\"name\":\"MonthsTicker\",\"id\":\"p1288\",\"attributes\":{\"months\":[0,4,8]}},{\"type\":\"object\",\"name\":\"MonthsTicker\",\"id\":\"p1289\",\"attributes\":{\"months\":[0,6]}},{\"type\":\"object\",\"name\":\"YearsTicker\",\"id\":\"p1290\"}]}},\"formatter\":{\"type\":\"object\",\"name\":\"DatetimeTickFormatter\",\"id\":\"p1291\"},\"axis_label\":\"Date\",\"major_label_policy\":{\"type\":\"object\",\"name\":\"AllLabels\",\"id\":\"p1292\"}}}],\"center\":[{\"type\":\"object\",\"name\":\"Grid\",\"id\":\"p1293\",\"attributes\":{\"axis\":{\"id\":\"p1277\"},\"grid_line_color\":null}},{\"type\":\"object\",\"name\":\"Grid\",\"id\":\"p1298\",\"attributes\":{\"dimension\":1,\"axis\":{\"id\":\"p1294\"},\"grid_line_color\":null}},{\"type\":\"object\",\"name\":\"Legend\",\"id\":\"p1320\",\"attributes\":{\"click_policy\":\"mute\",\"items\":[{\"type\":\"object\",\"name\":\"LegendItem\",\"id\":\"p1321\",\"attributes\":{\"label\":{\"type\":\"value\",\"value\":\"buy_hold_cumulative_returns\"},\"renderers\":[{\"id\":\"p1317\"}]}},{\"type\":\"object\",\"name\":\"LegendItem\",\"id\":\"p1335\",\"attributes\":{\"label\":{\"type\":\"value\",\"value\":\"algorithm_cumulative_returns\"},\"renderers\":[{\"id\":\"p1332\"}]}}]}}],\"min_border_top\":10,\"min_border_bottom\":10,\"min_border_left\":10,\"min_border_right\":10,\"output_backend\":\"webgl\"}},{\"type\":\"object\",\"name\":\"Spacer\",\"id\":\"p1338\",\"attributes\":{\"name\":\"HSpacer01458\",\"stylesheets\":[\"\\n:host(.pn-loading.pn-arc):before, .pn-loading.pn-arc:before {\\n  background-image: url(\\\"data:image/svg+xml;base64,PHN2ZyB4bWxucz0iaHR0cDovL3d3dy53My5vcmcvMjAwMC9zdmciIHN0eWxlPSJtYXJnaW46IGF1dG87IGJhY2tncm91bmQ6IG5vbmU7IGRpc3BsYXk6IGJsb2NrOyBzaGFwZS1yZW5kZXJpbmc6IGF1dG87IiB2aWV3Qm94PSIwIDAgMTAwIDEwMCIgcHJlc2VydmVBc3BlY3RSYXRpbz0ieE1pZFlNaWQiPiAgPGNpcmNsZSBjeD0iNTAiIGN5PSI1MCIgZmlsbD0ibm9uZSIgc3Ryb2tlPSIjYzNjM2MzIiBzdHJva2Utd2lkdGg9IjEwIiByPSIzNSIgc3Ryb2tlLWRhc2hhcnJheT0iMTY0LjkzMzYxNDMxMzQ2NDE1IDU2Ljk3Nzg3MTQzNzgyMTM4Ij4gICAgPGFuaW1hdGVUcmFuc2Zvcm0gYXR0cmlidXRlTmFtZT0idHJhbnNmb3JtIiB0eXBlPSJyb3RhdGUiIHJlcGVhdENvdW50PSJpbmRlZmluaXRlIiBkdXI9IjFzIiB2YWx1ZXM9IjAgNTAgNTA7MzYwIDUwIDUwIiBrZXlUaW1lcz0iMDsxIj48L2FuaW1hdGVUcmFuc2Zvcm0+ICA8L2NpcmNsZT48L3N2Zz4=\\\");\\n  background-size: auto calc(min(50%, 400px));\\n}\",{\"id\":\"p1253\"},{\"id\":\"p1251\"},{\"id\":\"p1252\"}],\"margin\":0,\"sizing_mode\":\"stretch_width\",\"align\":\"start\"}}]}}],\"defs\":[{\"type\":\"model\",\"name\":\"ReactiveHTML1\"},{\"type\":\"model\",\"name\":\"FlexBox1\",\"properties\":[{\"name\":\"align_content\",\"kind\":\"Any\",\"default\":\"flex-start\"},{\"name\":\"align_items\",\"kind\":\"Any\",\"default\":\"flex-start\"},{\"name\":\"flex_direction\",\"kind\":\"Any\",\"default\":\"row\"},{\"name\":\"flex_wrap\",\"kind\":\"Any\",\"default\":\"wrap\"},{\"name\":\"justify_content\",\"kind\":\"Any\",\"default\":\"flex-start\"}]},{\"type\":\"model\",\"name\":\"FloatPanel1\",\"properties\":[{\"name\":\"config\",\"kind\":\"Any\",\"default\":{\"type\":\"map\"}},{\"name\":\"contained\",\"kind\":\"Any\",\"default\":true},{\"name\":\"position\",\"kind\":\"Any\",\"default\":\"right-top\"},{\"name\":\"offsetx\",\"kind\":\"Any\",\"default\":null},{\"name\":\"offsety\",\"kind\":\"Any\",\"default\":null},{\"name\":\"theme\",\"kind\":\"Any\",\"default\":\"primary\"},{\"name\":\"status\",\"kind\":\"Any\",\"default\":\"normalized\"}]},{\"type\":\"model\",\"name\":\"GridStack1\",\"properties\":[{\"name\":\"mode\",\"kind\":\"Any\",\"default\":\"warn\"},{\"name\":\"ncols\",\"kind\":\"Any\",\"default\":null},{\"name\":\"nrows\",\"kind\":\"Any\",\"default\":null},{\"name\":\"allow_resize\",\"kind\":\"Any\",\"default\":true},{\"name\":\"allow_drag\",\"kind\":\"Any\",\"default\":true},{\"name\":\"state\",\"kind\":\"Any\",\"default\":[]}]},{\"type\":\"model\",\"name\":\"drag1\",\"properties\":[{\"name\":\"slider_width\",\"kind\":\"Any\",\"default\":5},{\"name\":\"slider_color\",\"kind\":\"Any\",\"default\":\"black\"},{\"name\":\"value\",\"kind\":\"Any\",\"default\":50}]},{\"type\":\"model\",\"name\":\"click1\",\"properties\":[{\"name\":\"terminal_output\",\"kind\":\"Any\",\"default\":\"\"},{\"name\":\"debug_name\",\"kind\":\"Any\",\"default\":\"\"},{\"name\":\"clears\",\"kind\":\"Any\",\"default\":0}]},{\"type\":\"model\",\"name\":\"copy_to_clipboard1\",\"properties\":[{\"name\":\"fill\",\"kind\":\"Any\",\"default\":\"none\"},{\"name\":\"value\",\"kind\":\"Any\",\"default\":null}]},{\"type\":\"model\",\"name\":\"FastWrapper1\",\"properties\":[{\"name\":\"object\",\"kind\":\"Any\",\"default\":null},{\"name\":\"style\",\"kind\":\"Any\",\"default\":null}]},{\"type\":\"model\",\"name\":\"NotificationAreaBase1\",\"properties\":[{\"name\":\"js_events\",\"kind\":\"Any\",\"default\":{\"type\":\"map\"}},{\"name\":\"position\",\"kind\":\"Any\",\"default\":\"bottom-right\"},{\"name\":\"_clear\",\"kind\":\"Any\",\"default\":0}]},{\"type\":\"model\",\"name\":\"NotificationArea1\",\"properties\":[{\"name\":\"js_events\",\"kind\":\"Any\",\"default\":{\"type\":\"map\"}},{\"name\":\"notifications\",\"kind\":\"Any\",\"default\":[]},{\"name\":\"position\",\"kind\":\"Any\",\"default\":\"bottom-right\"},{\"name\":\"_clear\",\"kind\":\"Any\",\"default\":0},{\"name\":\"types\",\"kind\":\"Any\",\"default\":[{\"type\":\"map\",\"entries\":[[\"type\",\"warning\"],[\"background\",\"#ffc107\"],[\"icon\",{\"type\":\"map\",\"entries\":[[\"className\",\"fas fa-exclamation-triangle\"],[\"tagName\",\"i\"],[\"color\",\"white\"]]}]]},{\"type\":\"map\",\"entries\":[[\"type\",\"info\"],[\"background\",\"#007bff\"],[\"icon\",{\"type\":\"map\",\"entries\":[[\"className\",\"fas fa-info-circle\"],[\"tagName\",\"i\"],[\"color\",\"white\"]]}]]}]}]},{\"type\":\"model\",\"name\":\"Notification\",\"properties\":[{\"name\":\"background\",\"kind\":\"Any\",\"default\":null},{\"name\":\"duration\",\"kind\":\"Any\",\"default\":3000},{\"name\":\"icon\",\"kind\":\"Any\",\"default\":null},{\"name\":\"message\",\"kind\":\"Any\",\"default\":\"\"},{\"name\":\"notification_type\",\"kind\":\"Any\",\"default\":null},{\"name\":\"_destroyed\",\"kind\":\"Any\",\"default\":false}]},{\"type\":\"model\",\"name\":\"TemplateActions1\",\"properties\":[{\"name\":\"open_modal\",\"kind\":\"Any\",\"default\":0},{\"name\":\"close_modal\",\"kind\":\"Any\",\"default\":0}]},{\"type\":\"model\",\"name\":\"BootstrapTemplateActions1\",\"properties\":[{\"name\":\"open_modal\",\"kind\":\"Any\",\"default\":0},{\"name\":\"close_modal\",\"kind\":\"Any\",\"default\":0}]},{\"type\":\"model\",\"name\":\"MaterialTemplateActions1\",\"properties\":[{\"name\":\"open_modal\",\"kind\":\"Any\",\"default\":0},{\"name\":\"close_modal\",\"kind\":\"Any\",\"default\":0}]}]}};\n",
       "  var render_items = [{\"docid\":\"537e253a-cb30-4f1b-b77c-41d2f983a784\",\"roots\":{\"p1250\":\"b7e6e83b-8bf4-4fc2-b8d7-80becf68463d\"},\"root_ids\":[\"p1250\"]}];\n",
       "  var docs = Object.values(docs_json)\n",
       "  if (!docs) {\n",
       "    return\n",
       "  }\n",
       "  const py_version = docs[0].version.replace('rc', '-rc.').replace('.dev', '-dev.')\n",
       "  function embed_document(root) {\n",
       "    var Bokeh = get_bokeh(root)\n",
       "    Bokeh.embed.embed_items_notebook(docs_json, render_items);\n",
       "    for (const render_item of render_items) {\n",
       "      for (const root_id of render_item.root_ids) {\n",
       "\tconst id_el = document.getElementById(root_id)\n",
       "\tif (id_el.children.length && (id_el.children[0].className === 'bk-root')) {\n",
       "\t  const root_el = id_el.children[0]\n",
       "\t  root_el.id = root_el.id + '-rendered'\n",
       "\t}\n",
       "      }\n",
       "    }\n",
       "  }\n",
       "  function get_bokeh(root) {\n",
       "    if (root.Bokeh === undefined) {\n",
       "      return null\n",
       "    } else if (root.Bokeh.version !== py_version) {\n",
       "      if (root.Bokeh.versions === undefined || !root.Bokeh.versions.has(py_version)) {\n",
       "\treturn null\n",
       "      }\n",
       "      return root.Bokeh.versions.get(py_version);\n",
       "    } else if (root.Bokeh.version === py_version) {\n",
       "      return root.Bokeh\n",
       "    }\n",
       "    return null\n",
       "  }\n",
       "  function is_loaded(root) {\n",
       "    var Bokeh = get_bokeh(root)\n",
       "    return (Bokeh != null && Bokeh.Panel !== undefined)\n",
       "  }\n",
       "  if (is_loaded(root)) {\n",
       "    embed_document(root);\n",
       "  } else {\n",
       "    var attempts = 0;\n",
       "    var timer = setInterval(function(root) {\n",
       "      if (is_loaded(root)) {\n",
       "        clearInterval(timer);\n",
       "        embed_document(root);\n",
       "      } else if (document.readyState == \"complete\") {\n",
       "        attempts++;\n",
       "        if (attempts > 200) {\n",
       "          clearInterval(timer);\n",
       "\t  var Bokeh = get_bokeh(root)\n",
       "\t  if (Bokeh == null || Bokeh.Panel == null) {\n",
       "            console.warn(\"Panel: ERROR: Unable to run Panel code because Bokeh or Panel library is missing\");\n",
       "\t  } else {\n",
       "\t    console.warn(\"Panel: WARNING: Attempting to render but not all required libraries could be resolved.\")\n",
       "\t    embed_document(root)\n",
       "\t  }\n",
       "        }\n",
       "      }\n",
       "    }, 25, root)\n",
       "  }\n",
       "})(window);</script>"
      ],
      "text/plain": [
       ":Overlay\n",
       "   .Curve.Buy_hold_cumulative_returns  :Curve   [Date]   (buy_hold_cumulative_returns)\n",
       "   .Curve.Algorithm_cumulative_returns :Curve   [Date]   (algorithm_cumulative_returns)"
      ]
     },
     "execution_count": 17,
     "metadata": {
      "application/vnd.holoviews_exec.v0+json": {
       "id": "p1250"
      }
     },
     "output_type": "execute_result"
    }
   ],
   "source": [
    "fntk_df['buy_hold_cumulative_returns'].hvplot() * fntk_df['algorithm_cumulative_returns'].hvplot()"
   ]
  },
  {
   "cell_type": "markdown",
   "metadata": {},
   "source": [
    "### Annualize the returns of both strategies"
   ]
  },
  {
   "cell_type": "code",
   "execution_count": 18,
   "metadata": {},
   "outputs": [
    {
     "name": "stdout",
     "output_type": "stream",
     "text": [
      "The annual_return of the trading strategy is 13.288026315789475%.\n"
     ]
    }
   ],
   "source": [
    "# Mutiply the total return with 252/numTrad_days\n",
    "numTrad_days = len(fntk_df)\n",
    "annual_return = 252/numTrad_days * total_return_algorithm \n",
    "print(f\"The annual_return of the trading strategy is {annual_return}%.\")"
   ]
  },
  {
   "cell_type": "code",
   "execution_count": 19,
   "metadata": {},
   "outputs": [
    {
     "name": "stdout",
     "output_type": "stream",
     "text": [
      "The annual_return of the trading strategy is 13.288026315789475%.\n"
     ]
    }
   ],
   "source": [
    "# Mutiply the total return with 252/numTrad_days\n",
    "numTrad_days = len(fntk_df)\n",
    "annual_return = 252/numTrad_days * total_return_buy_hold\n",
    "print(f\"The annual_return of the trading strategy is {annual_return}%.\")"
   ]
  },
  {
   "cell_type": "code",
   "execution_count": null,
   "metadata": {},
   "outputs": [],
   "source": []
  }
 ],
 "metadata": {
  "kernelspec": {
   "display_name": "Python 3",
   "language": "python",
   "name": "python3"
  },
  "language_info": {
   "codemirror_mode": {
    "name": "ipython",
    "version": 3
   },
   "file_extension": ".py",
   "mimetype": "text/x-python",
   "name": "python",
   "nbconvert_exporter": "python",
   "pygments_lexer": "ipython3",
   "version": "3.10.13"
  }
 },
 "nbformat": 4,
 "nbformat_minor": 4
}
