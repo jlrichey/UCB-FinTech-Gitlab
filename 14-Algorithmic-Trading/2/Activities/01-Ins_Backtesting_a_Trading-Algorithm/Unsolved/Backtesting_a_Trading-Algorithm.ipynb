{
 "cells": [
  {
   "cell_type": "markdown",
   "metadata": {},
   "source": [
    "# Steps to Backtest a Strategy/Algorithm\n",
    "\n",
    "Backtesting a trading strategy or algorithm involves simulating its performance against historical data to assess its effectiveness and profitability. Below are the steps involved in conducting a backtest:\n",
    "\n",
    "1. **Set Up Initial Investment:** Determine the initial capital that will be used to execute the trading strategy.\n",
    "\n",
    "2. **Set Up Volume of Shares:** Decide on the number of shares or volume that the strategy will trade with for each transaction.\n",
    "\n",
    "3. **Create Position Column:** Create a column in your dataset to track the position of the stock. This column will contain the number of shares that the strategy is holding at any given point in time.\n",
    "\n",
    "4. **Identify Entry/Exit Points:** Determine specific points in time when the strategy will buy or sell shares. This can be based on indicators, signals, or conditions defined by the strategy.\n",
    "\n",
    "5. **Calculate Portfolio Holdings:** Calculate the dollar value of the shares held in the portfolio at each timestamp. This is also known as the portfolio holdings.\n",
    "\n",
    "6. **Calculate Portfolio Cash:** Determine the amount of cash available in the portfolio after each transaction. This accounts for buying and selling shares and any associated transaction costs.\n",
    "\n",
    "7. **Track Portfolio Value:** Calculate the total value of the portfolio on a daily basis. This includes the combined value of the held stock and the available cash.\n",
    "\n",
    "8. **Calculate Portfolio Daily Returns:** Compute the daily returns of the portfolio based on changes in its value over time.\n",
    "\n",
    "9. **Calculate Cumulative Returns:** Aggregate the daily returns to calculate the cumulative returns of the portfolio. This provides an overall measure of the strategy's performance over the backtesting period.\n"
   ]
  },
  {
   "cell_type": "code",
   "execution_count": null,
   "metadata": {},
   "outputs": [],
   "source": [
    "# Import the required libraries and dependencies\n",
    "import numpy as np\n",
    "import pandas as pd\n",
    "import hvplot.pandas\n",
    "from pathlib import Path\n",
    "\n",
    "# Read the stock file to a dataframe\n",
    "# Set the date column as the DataTimeIndex\n",
    "aapl_df = pd.read_csv(\n",
    "    Path(\"../Resources/aapl.csv\"),\n",
    "    index_col=\"date\",\n",
    "    parse_dates=True,\n",
    "    infer_datetime_format=True)\n",
    "\n",
    "# Review the DataFrame\n",
    "aapl_df.head()\n"
   ]
  },
  {
   "cell_type": "code",
   "execution_count": null,
   "metadata": {},
   "outputs": [],
   "source": [
    "# Slice to just the `close` column\n"
   ]
  },
  {
   "cell_type": "code",
   "execution_count": null,
   "metadata": {},
   "outputs": [],
   "source": [
    "# Set the short window and long windows\n"
   ]
  },
  {
   "cell_type": "code",
   "execution_count": null,
   "metadata": {},
   "outputs": [],
   "source": [
    "# Generate the short and long moving averages (50 and 100 days, respectively)\n",
    "\n",
    "# Prepopulate the `Signal` for trading\n"
   ]
  },
  {
   "cell_type": "code",
   "execution_count": null,
   "metadata": {},
   "outputs": [],
   "source": [
    "# Generate the trading signal 0 or 1,\n",
    "# where 1 is when short-window (SMA50) is greater than the long (SMA 100)\n",
    "# and 0 otherwise\n"
   ]
  },
  {
   "cell_type": "code",
   "execution_count": null,
   "metadata": {},
   "outputs": [],
   "source": [
    "# Calculate the points in time when the Signal value changes\n",
    "# Identify trade entry (1) and exit (-1) points\n",
    "\n",
    "# Review the DataFrame\n"
   ]
  },
  {
   "cell_type": "code",
   "execution_count": null,
   "metadata": {},
   "outputs": [],
   "source": [
    "# Visualize exit position relative to close price\n",
    "\n",
    "\n",
    "# Visualize entry position relative to close price\n",
    "\n",
    "\n",
    "# Visualize close price for the investment\n",
    "\n",
    "\n",
    "# Visualize moving averages\n",
    "\n",
    "\n",
    "# Create the overlay plot\n",
    "\n",
    "\n",
    "# Show the plot with a title\n",
    "\n"
   ]
  },
  {
   "cell_type": "markdown",
   "metadata": {},
   "source": [
    "#### 1. **Set Up Initial Investment:** Determine the initial capital that will be used to execute the trading strategy.\n",
    "#### 2. **Set Up Volume of Shares:** Decide on the number of shares or volume that the strategy will trade with for each transaction.\n",
    "\n"
   ]
  },
  {
   "cell_type": "code",
   "execution_count": null,
   "metadata": {},
   "outputs": [],
   "source": [
    "# Set initial capital\n",
    "\n",
    "# Set the share size\n"
   ]
  },
  {
   "cell_type": "markdown",
   "metadata": {},
   "source": [
    "#### 3. **Create Position Column:** Create a column in your dataset to track the position of the stock. This column will contain the number of shares that the strategy is holding at any given point in time.\n"
   ]
  },
  {
   "cell_type": "code",
   "execution_count": null,
   "metadata": {},
   "outputs": [],
   "source": [
    "# Buy a 500 share position when the dual moving average crossover Signal equals 1\n",
    "# Otherwise, `Position` should be zero (sell)\n"
   ]
  },
  {
   "cell_type": "markdown",
   "metadata": {},
   "source": [
    "#### 4. **Identify Entry/Exit Points:** Determine specific points in time when the strategy will buy or sell shares. This can be based on indicators, signals, or conditions defined by the strategy.\n"
   ]
  },
  {
   "cell_type": "code",
   "execution_count": null,
   "metadata": {},
   "outputs": [],
   "source": [
    "# Determine the points in time where a 500 share position is bought or sold\n"
   ]
  },
  {
   "cell_type": "markdown",
   "metadata": {},
   "source": [
    "#### 5. **Calculate Portfolio Holdings:** Calculate the dollar value of the shares held in the portfolio at each timestamp. This is also known as the portfolio holdings.\n"
   ]
  },
  {
   "cell_type": "code",
   "execution_count": null,
   "metadata": {},
   "outputs": [],
   "source": [
    "# Multiply the close price by the number of shares held, or the Position\n"
   ]
  },
  {
   "cell_type": "markdown",
   "metadata": {},
   "source": [
    "#### 6. **Calculate Portfolio Cash:** Determine the amount of cash available in the portfolio after each transaction. This accounts for buying and selling shares and any associated transaction costs.\n"
   ]
  },
  {
   "cell_type": "code",
   "execution_count": null,
   "metadata": {},
   "outputs": [],
   "source": [
    "# Subtract the amount of either the cost or proceeds of the trade from the initial capital invested\n"
   ]
  },
  {
   "cell_type": "markdown",
   "metadata": {},
   "source": [
    "#### 7. **Track Portfolio Value:** Calculate the total value of the portfolio on a daily basis. This includes the combined value of the held stock and the available cash.\n"
   ]
  },
  {
   "cell_type": "code",
   "execution_count": null,
   "metadata": {},
   "outputs": [],
   "source": [
    "# Calculate the total portfolio value by adding the portfolio cash to the portfolio holdings (or investments)\n"
   ]
  },
  {
   "cell_type": "markdown",
   "metadata": {},
   "source": [
    "#### 8. **Calculate Portfolio Daily Returns:** Compute the daily returns of the portfolio based on changes in its value over time.\n"
   ]
  },
  {
   "cell_type": "code",
   "execution_count": null,
   "metadata": {},
   "outputs": [],
   "source": [
    "# Calculate the portfolio daily returns\n"
   ]
  },
  {
   "cell_type": "markdown",
   "metadata": {},
   "source": [
    "#### 9. **Calculate Cumulative Returns:** Aggregate the daily returns to calculate the cumulative returns of the portfolio. This provides an overall measure of the strategy's performance over the backtesting period.\n"
   ]
  },
  {
   "cell_type": "code",
   "execution_count": null,
   "metadata": {},
   "outputs": [],
   "source": [
    "# Calculate the portfolio cumulative returns\n"
   ]
  },
  {
   "cell_type": "code",
   "execution_count": null,
   "metadata": {},
   "outputs": [],
   "source": [
    "# Print the DataFrame\n"
   ]
  },
  {
   "cell_type": "code",
   "execution_count": null,
   "metadata": {},
   "outputs": [],
   "source": [
    "# Visualize exit position relative to total portfolio value\n",
    "\n",
    "\n",
    "# Visualize entry position relative to total portfolio value\n",
    "\n",
    "\n",
    "# Visualize the value of the total portfolio\n",
    "\n",
    "\n",
    "# Overlay the plots\n",
    "\n"
   ]
  },
  {
   "cell_type": "code",
   "execution_count": null,
   "metadata": {},
   "outputs": [],
   "source": []
  }
 ],
 "metadata": {
  "kernelspec": {
   "display_name": "Python 3",
   "language": "python",
   "name": "python3"
  },
  "language_info": {
   "codemirror_mode": {
    "name": "ipython",
    "version": 3
   },
   "file_extension": ".py",
   "mimetype": "text/x-python",
   "name": "python",
   "nbconvert_exporter": "python",
   "pygments_lexer": "ipython3",
   "version": "3.7.7"
  }
 },
 "nbformat": 4,
 "nbformat_minor": 4
}
