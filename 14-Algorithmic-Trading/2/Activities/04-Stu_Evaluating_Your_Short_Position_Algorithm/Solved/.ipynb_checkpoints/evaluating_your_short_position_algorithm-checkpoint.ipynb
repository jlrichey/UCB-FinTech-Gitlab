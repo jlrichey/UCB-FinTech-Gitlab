{
 "cells": [
  {
   "cell_type": "markdown",
   "metadata": {},
   "source": [
    "# Evaluating Your Short-Position Algorithm\n",
    "\n",
    "Recall that you backtested your short-position DMAC trading algorithm in the previous activity. Now, you’ll use the backtesting data to evaluate the risk/reward characteristics of both the trading algorithm portfolio and the per-trade behavior.\n",
    "\n",
    "\n",
    "## Instructions:\n",
    "\n",
    "When you calculate the profit/loss value for each trade, remember that the difference in the case of a short-position strategy is the inverse of that for a long-position strategy. That is, you calculate the profit/loss by using the value of the entry portfolio holding minus the value of the exit portfolio holding.\n",
    "\n",
    "Note that the starter notebook file already includes the algorithm and the backtesting steps that you completed in earlier activities. For this activity, you will run that initially provided code, then proceed to the evaluation section of the notebook file:\n",
    "\n",
    "1. Review the provided code. This includes the `import` statements for the required libraries, the creation of the Pandas DataFrame from the `vnq.csv` file in the `Resources` folder, the code that creates and visualizes the algorithm, and the code that backtests your short-position DMAC strategy.\n",
    "\n",
    "2. Initialize a portfolio evaluation DataFrame with an index set to `['Annualized Return', 'Cumulative Returns', 'Annual Volatility', 'Sharpe Ratio', 'Sortino Ratio']` and the columns set to `['Backtest']`.\n",
    "\n",
    "3. Calculate and assign the following portfolio evaluation metrics to the portfolio evaluation DataFrame:\n",
    "\n",
    "    * Annualized return\n",
    "\n",
    "    * Cumulative returns\n",
    "\n",
    "    * Annual volatility\n",
    "\n",
    "    * Sharpe ratio\n",
    "\n",
    "    * Sortino ratio\n",
    "\n",
    "4. Review the portfolio evaluation metrics, and then answer the following question: Would you advise a risk-averse investor to invest in a portfolio that uses this algorithm?\n",
    "\n",
    "5. Initialize a trade evaluation DataFrame with the columns set to `['Stock', 'Entry Date', 'Exit Date', 'Shares', 'Entry Share Price', 'Exit Share Price', 'Entry Portfolio Holding', 'Exit Portfolio Holding', 'Profit/Loss']`.\n",
    "\n",
    "6. Create the `for` loop to iterate through the backtested signals DataFrame, pulling the relevant entry and exit data values to calculate the per-trade profit/loss values and appending each record to the trade evaluation DataFrame.\n",
    "\n",
    "7. Answer the following question: Based on the trade evaluation metrics, has your opinion changed regarding the advisability of this portfolio for a risk-averse investor?\n"
   ]
  },
  {
   "cell_type": "markdown",
   "metadata": {},
   "source": [
    "## Step 1: Review the provided code. This includes the `import` statements for the required libraries, the creation of the Pandas DataFrame from the `vnq.csv` file in the `Resources` folder, the code that creates and visualizes the algorithm, and the code that backtests your short-position DMAC strategy."
   ]
  },
  {
   "cell_type": "code",
   "execution_count": null,
   "metadata": {},
   "outputs": [
    {
     "ename": "",
     "evalue": "",
     "output_type": "error",
     "traceback": [
      "\u001b[1;31mFailed to start the Kernel. \n",
      "\u001b[1;31mView Jupyter <a href='command:jupyter.viewOutput'>log</a> for further details."
     ]
    }
   ],
   "source": [
    "# Imports\n",
    "import numpy as np\n",
    "import pandas as pd\n",
    "import hvplot.pandas\n",
    "from pathlib import Path\n"
   ]
  },
  {
   "cell_type": "markdown",
   "metadata": {},
   "source": [
    "### Read the CSV file into Pandas DataFrame"
   ]
  },
  {
   "cell_type": "code",
   "execution_count": null,
   "metadata": {},
   "outputs": [
    {
     "ename": "",
     "evalue": "",
     "output_type": "error",
     "traceback": [
      "\u001b[1;31mFailed to start the Kernel. \n",
      "\u001b[1;31mView Jupyter <a href='command:jupyter.viewOutput'>log</a> for further details."
     ]
    }
   ],
   "source": [
    "# Read the vnq.csv file located in the Resources folder into a Pandas DataFrame\n",
    "# Set the Date column as the DateTimeIndex\n",
    "vnq_df = pd.read_csv(\n",
    "    Path(\"../Resources/vnq.csv\"),\n",
    "    index_col=\"Date\",\n",
    "    parse_dates=True, \n",
    "    infer_datetime_format=True\n",
    ")\n",
    "\n",
    "# Review the DataFrame\n",
    "vnq_df.head()"
   ]
  },
  {
   "cell_type": "markdown",
   "metadata": {},
   "source": [
    "### Generate a Dual Moving Average Crossover Trading Signal"
   ]
  },
  {
   "cell_type": "code",
   "execution_count": null,
   "metadata": {},
   "outputs": [
    {
     "ename": "",
     "evalue": "",
     "output_type": "error",
     "traceback": [
      "\u001b[1;31mFailed to start the Kernel. \n",
      "\u001b[1;31mView Jupyter <a href='command:jupyter.viewOutput'>log</a> for further details."
     ]
    }
   ],
   "source": [
    "# Filter the date index and close columns\n",
    "signals_df = vnq_df.loc[:,[\"Close\"]]\n",
    "\n",
    "# Set the short window and long window\n",
    "short_window = 50\n",
    "long_window = 100\n",
    "\n",
    "# Generate the short and long moving averages (50 and 100 days, respectively)\n",
    "signals_df['SMA50'] = signals_df['Close'].rolling(window=short_window).mean()\n",
    "signals_df['SMA100'] = signals_df['Close'].rolling(window=long_window).mean()\n",
    "signals_df['Signal'] = 0.0\n",
    "\n",
    "# Generate the trading signal 0 or 1,\n",
    "# where 1 is when the SMA50 is less than than the SMA100\n",
    "# where 0 is when the SMA50 is greater than the SMA100\n",
    "signals_df['Signal'][short_window:] = np.where(\n",
    "    signals_df['SMA50'][short_window:] < signals_df['SMA100'][short_window:], 1.0, 0.0\n",
    ")\n",
    "\n",
    "# Calculate the points in time at which a position should be taken, 1 or -1\n",
    "signals_df['Entry/Exit'] = signals_df['Signal'].diff()\n",
    "\n",
    "# Review the DataFrame\n",
    "signals_df.tail(10)"
   ]
  },
  {
   "cell_type": "markdown",
   "metadata": {},
   "source": [
    "### Plot Entry and Exit Points of Dual Moving Average Crossover Trading Strategy"
   ]
  },
  {
   "cell_type": "code",
   "execution_count": null,
   "metadata": {},
   "outputs": [
    {
     "ename": "",
     "evalue": "",
     "output_type": "error",
     "traceback": [
      "\u001b[1;31mFailed to start the Kernel. \n",
      "\u001b[1;31mView Jupyter <a href='command:jupyter.viewOutput'>log</a> for further details."
     ]
    }
   ],
   "source": [
    "# Visualize the entry positions relative to close price\n",
    "entry = signals_df[signals_df['Entry/Exit'] == 1.0]['Close'].hvplot.scatter(\n",
    "    color='purple',\n",
    "    marker='^',\n",
    "    legend=False,\n",
    "    ylabel='Price in $',\n",
    "    width=1000,\n",
    "    height=400)\n",
    "\n",
    "# Visualize the exit positions relative to close price\n",
    "exit = signals_df[signals_df['Entry/Exit'] == -1.0]['Close'].hvplot.scatter(\n",
    "    color='yellow',\n",
    "    marker='v',\n",
    "    legend=False,\n",
    "    ylabel='Price in $',\n",
    "    width=1000,\n",
    "    height=400)\n",
    "\n",
    "# Visualize the close price for the investment\n",
    "security_close = signals_df[['Close']].hvplot(\n",
    "    line_color='lightgray',\n",
    "    ylabel='Price in $',\n",
    "    width=1000,\n",
    "    height=400\n",
    ")\n",
    "\n",
    "# Visualize the moving averages\n",
    "moving_avgs = signals_df[['SMA50', 'SMA100']].hvplot(\n",
    "    ylabel='Price in $',\n",
    "    width=1000,\n",
    "    height=400\n",
    ")\n",
    "\n",
    "# Overlay the plots\n",
    "entry_exit_plot = security_close * moving_avgs * entry * exit\n",
    "entry_exit_plot.opts(\n",
    "    title=\"VNQ - Short-Position Dual Moving Average Trading Algorithm\"\n",
    ")"
   ]
  },
  {
   "cell_type": "markdown",
   "metadata": {},
   "source": [
    "### Backtest the Trading Strategy"
   ]
  },
  {
   "cell_type": "code",
   "execution_count": null,
   "metadata": {},
   "outputs": [
    {
     "ename": "",
     "evalue": "",
     "output_type": "error",
     "traceback": [
      "\u001b[1;31mFailed to start the Kernel. \n",
      "\u001b[1;31mView Jupyter <a href='command:jupyter.viewOutput'>log</a> for further details."
     ]
    }
   ],
   "source": [
    "# Set the initial capital\n",
    "initial_capital = float(100000)\n",
    "\n",
    "# Set the share size\n",
    "share_size = -500\n",
    "\n",
    "# Take a 500 share position where the dual moving average crossover is 1 (SMA50 is greater than SMA100)\n",
    "signals_df[\"Position\"] = share_size * signals_df[\"Signal\"]\n",
    "\n",
    "# Find the points in time where a 500 share position is bought or sold\n",
    "signals_df[\"Entry/Exit Position\"] = signals_df[\"Position\"].diff()\n",
    "\n",
    "# Multiply share price by entry/exit positions and get the cumulatively sum\n",
    "signals_df[\"Portfolio Holdings\"] = (\n",
    "    signals_df[\"Close\"] * signals_df[\"Entry/Exit Position\"].cumsum()\n",
    ")\n",
    "\n",
    "# Subtract the initial capital by the portfolio holdings to get the amount of liquid cash in the portfolio\n",
    "signals_df[\"Portfolio Cash\"] = (\n",
    "    initial_capital - (signals_df[\"Close\"] * signals_df[\"Entry/Exit Position\"]).cumsum()\n",
    ")\n",
    "\n",
    "# Get the total portfolio value by adding the cash amount by the portfolio holdings (or investments)\n",
    "signals_df[\"Portfolio Total\"] = (\n",
    "    signals_df[\"Portfolio Cash\"] + signals_df[\"Portfolio Holdings\"]\n",
    ")\n",
    "\n",
    "# Calculate the portfolio daily returns\n",
    "signals_df[\"Portfolio Daily Returns\"] = signals_df[\"Portfolio Total\"].pct_change()\n",
    "\n",
    "# Calculate the cumulative returns\n",
    "signals_df[\"Portfolio Cumulative Returns\"] = (\n",
    "    1 + signals_df[\"Portfolio Daily Returns\"]\n",
    ").cumprod() - 1\n",
    "\n",
    "# Print the DataFrame\n",
    "signals_df.head()"
   ]
  },
  {
   "cell_type": "markdown",
   "metadata": {},
   "source": [
    "### Plot Entry/Exit Points of Backtest Results"
   ]
  },
  {
   "cell_type": "code",
   "execution_count": null,
   "metadata": {},
   "outputs": [
    {
     "ename": "",
     "evalue": "",
     "output_type": "error",
     "traceback": [
      "\u001b[1;31mFailed to start the Kernel. \n",
      "\u001b[1;31mView Jupyter <a href='command:jupyter.viewOutput'>log</a> for further details."
     ]
    }
   ],
   "source": [
    "# Visualize exit positions relative to total portfolio value\n",
    "entry = signals_df[signals_df[\"Entry/Exit\"] == 1.0][\"Portfolio Total\"].hvplot.scatter(\n",
    "    color='purple',\n",
    "    marker='^',\n",
    "    legend=False, \n",
    "    ylabel=\"Total Portfolio Value\", \n",
    "    width=1000, \n",
    "    height=400\n",
    ")\n",
    "\n",
    "# Visualize entry positions relative to total portfolio value\n",
    "exit = signals_df[signals_df[\"Entry/Exit\"] == -1.0][\"Portfolio Total\"].hvplot.scatter(\n",
    "    color='yellow',\n",
    "    marker='v',\n",
    "    legend=False, \n",
    "    ylabel=\"Total Portfolio Value\", \n",
    "    width=1000, \n",
    "    height=400\n",
    ")\n",
    "\n",
    "# Visualize the total portoflio value for the investment\n",
    "total_portfolio_value = signals_df[['Portfolio Total']].hvplot(\n",
    "    line_color='lightgray',\n",
    "    ylabel='Total Portfolio Value',\n",
    "    width=1000,\n",
    "    height=400\n",
    ")\n",
    "\n",
    "# Overlay the plots\n",
    "portfolio_entry_exit_plot = total_portfolio_value * entry * exit\n",
    "portfolio_entry_exit_plot.opts(\n",
    "    title=\"VAQ Short-Position Algorithm - Total Portfolio Value\",\n",
    "    yformatter='%.0f'\n",
    ")"
   ]
  },
  {
   "cell_type": "markdown",
   "metadata": {},
   "source": [
    "---"
   ]
  },
  {
   "cell_type": "markdown",
   "metadata": {},
   "source": [
    "## Step 2: Initialize a portfolio evaluation DataFrame with an index set to `['Annualized Return', 'Cumulative Returns', 'Annual Volatility', 'Sharpe Ratio', 'Sortino Ratio']` and the columns set to `['Backtest']`."
   ]
  },
  {
   "cell_type": "markdown",
   "metadata": {},
   "source": [
    "### Prepare Portfolio Evaluation Metrics DataFrame"
   ]
  },
  {
   "cell_type": "code",
   "execution_count": null,
   "metadata": {},
   "outputs": [
    {
     "ename": "",
     "evalue": "",
     "output_type": "error",
     "traceback": [
      "\u001b[1;31mFailed to start the Kernel. \n",
      "\u001b[1;31mView Jupyter <a href='command:jupyter.viewOutput'>log</a> for further details."
     ]
    }
   ],
   "source": [
    "# Create the list of the metric names\n",
    "metrics = [\n",
    "    'Annualized Return',\n",
    "    'Cumulative Returns',\n",
    "    'Annual Volatility',\n",
    "    'Sharpe Ratio',\n",
    "    'Sortino Ratio'\n",
    "]\n",
    "\n",
    "# Create a list that holds the column name\n",
    "columns = ['Backtest']\n",
    "\n",
    "# Initialize the DataFrame with index set to evaluation metrics and columns \n",
    "portfolio_evaluation_df = pd.DataFrame(index=metrics, columns=columns)\n",
    "\n",
    "# Review the DataFrame\n",
    "portfolio_evaluation_df"
   ]
  },
  {
   "cell_type": "markdown",
   "metadata": {},
   "source": [
    "## Step 3: Calculate and assign the following portfolio evaluation metrics to the portfolio evaluation DataFrame:\n",
    "\n",
    "* Annualized return\n",
    "\n",
    "* Cumulative returns\n",
    "\n",
    "* Annual volatility\n",
    "\n",
    "* Sharpe ratio\n",
    "\n",
    "* Sortino ratio\n"
   ]
  },
  {
   "cell_type": "code",
   "execution_count": null,
   "metadata": {},
   "outputs": [
    {
     "ename": "",
     "evalue": "",
     "output_type": "error",
     "traceback": [
      "\u001b[1;31mFailed to start the Kernel. \n",
      "\u001b[1;31mView Jupyter <a href='command:jupyter.viewOutput'>log</a> for further details."
     ]
    }
   ],
   "source": [
    "# Calculate the Annualized return metric\n",
    "portfolio_evaluation_df.loc['Annualized Return'] = (\n",
    "    signals_df['Portfolio Daily Returns'].mean() * 252\n",
    ")"
   ]
  },
  {
   "cell_type": "code",
   "execution_count": null,
   "metadata": {},
   "outputs": [
    {
     "ename": "",
     "evalue": "",
     "output_type": "error",
     "traceback": [
      "\u001b[1;31mFailed to start the Kernel. \n",
      "\u001b[1;31mView Jupyter <a href='command:jupyter.viewOutput'>log</a> for further details."
     ]
    }
   ],
   "source": [
    "# Calculate the Cumulative returns metric\n",
    "portfolio_evaluation_df.loc['Cumulative Returns'] = signals_df['Portfolio Cumulative Returns'][-1]"
   ]
  },
  {
   "cell_type": "code",
   "execution_count": null,
   "metadata": {},
   "outputs": [
    {
     "ename": "",
     "evalue": "",
     "output_type": "error",
     "traceback": [
      "\u001b[1;31mFailed to start the Kernel. \n",
      "\u001b[1;31mView Jupyter <a href='command:jupyter.viewOutput'>log</a> for further details."
     ]
    }
   ],
   "source": [
    "# Calculate the Annual volatility metric\n",
    "portfolio_evaluation_df.loc['Annual Volatility'] = (\n",
    "    signals_df['Portfolio Daily Returns'].std() * np.sqrt(252)\n",
    ")"
   ]
  },
  {
   "cell_type": "code",
   "execution_count": null,
   "metadata": {},
   "outputs": [
    {
     "ename": "",
     "evalue": "",
     "output_type": "error",
     "traceback": [
      "\u001b[1;31mFailed to start the Kernel. \n",
      "\u001b[1;31mView Jupyter <a href='command:jupyter.viewOutput'>log</a> for further details."
     ]
    }
   ],
   "source": [
    "# Calculate the Sharpe ratio\n",
    "portfolio_evaluation_df.loc['Sharpe Ratio'] = (\n",
    "    signals_df['Portfolio Daily Returns'].mean() * 252) / (\n",
    "    signals_df['Portfolio Daily Returns'].std() * np.sqrt(252)\n",
    ")"
   ]
  },
  {
   "cell_type": "code",
   "execution_count": null,
   "metadata": {},
   "outputs": [
    {
     "ename": "",
     "evalue": "",
     "output_type": "error",
     "traceback": [
      "\u001b[1;31mFailed to start the Kernel. \n",
      "\u001b[1;31mView Jupyter <a href='command:jupyter.viewOutput'>log</a> for further details."
     ]
    }
   ],
   "source": [
    "# Calculate the Sortino ratio\n",
    "# Start by calculating the downside return values\n",
    "\n",
    "# Create a DataFrame that contains the Portfolio Daily Returns column\n",
    "sortino_ratio_df = signals_df[['Portfolio Daily Returns']].copy()\n",
    "\n",
    "# Create a column to hold downside return values\n",
    "sortino_ratio_df.loc[:,'Downside Returns'] = 0\n",
    "\n",
    "# Find Portfolio Daily Returns values less than 0, \n",
    "# square those values, and add them to the Downside Returns column\n",
    "sortino_ratio_df.loc[sortino_ratio_df['Portfolio Daily Returns'] < 0, \n",
    "                     'Downside Returns'] = sortino_ratio_df['Portfolio Daily Returns']**2\n",
    "\n",
    "# Calculate the annualized return value\n",
    "annualized_return = sortino_ratio_df['Portfolio Daily Returns'].mean() * 252\n",
    "\n",
    "# Calculate the annualized downside standard deviation value\n",
    "downside_standard_deviation = np.sqrt(sortino_ratio_df['Downside Returns'].mean()) * np.sqrt(252)\n",
    "\n",
    "# Divide the annualized return value by the downside standard deviation value\n",
    "sortino_ratio = annualized_return/downside_standard_deviation\n",
    "\n",
    "# Add the Sortino ratio to the evaluation DataFrame\n",
    "portfolio_evaluation_df.loc['Sortino Ratio'] = sortino_ratio\n"
   ]
  },
  {
   "cell_type": "code",
   "execution_count": null,
   "metadata": {},
   "outputs": [
    {
     "ename": "",
     "evalue": "",
     "output_type": "error",
     "traceback": [
      "\u001b[1;31mFailed to start the Kernel. \n",
      "\u001b[1;31mView Jupyter <a href='command:jupyter.viewOutput'>log</a> for further details."
     ]
    }
   ],
   "source": [
    "# Review the portfolio evaluation DataFrame\n",
    "portfolio_evaluation_df"
   ]
  },
  {
   "cell_type": "markdown",
   "metadata": {},
   "source": [
    "## Step 4: Answer the following question"
   ]
  },
  {
   "cell_type": "markdown",
   "metadata": {},
   "source": [
    "**Question:** Would you advise a risk-averse investor to invest in a portfolio that uses this algorithm?\n",
    "\n",
    "**Answer:** First, a risk-averse investor is unlikely to invest in a short-position strategy. Generally, the markets trend higher and taking a short position is counter to that thinking. That said, the metrics associated with annual volatility are relatively small at 0.0635. The downside volatility, or Sortino Ratio, is quite high at 0.53, but this is a strategy where that works is our favor. Given the information depicted in the portfolio evaluation DataFrame, and given the right market conditions, it would make sense for a risk-averse investor to make a small allocation to this trading strategy. \n"
   ]
  },
  {
   "cell_type": "markdown",
   "metadata": {},
   "source": [
    "## Step 5: Initialize a trade evaluation DataFrame with the columns set to `['Stock', 'Entry Date', 'Exit Date', 'Shares', 'Entry Share Price', 'Exit Share Price', 'Entry Portfolio Holding', 'Exit Portfolio Holding', 'Profit/Loss']`."
   ]
  },
  {
   "cell_type": "code",
   "execution_count": null,
   "metadata": {},
   "outputs": [
    {
     "ename": "",
     "evalue": "",
     "output_type": "error",
     "traceback": [
      "\u001b[1;31mFailed to start the Kernel. \n",
      "\u001b[1;31mView Jupyter <a href='command:jupyter.viewOutput'>log</a> for further details."
     ]
    }
   ],
   "source": [
    "# Initialize the trade evaluation DataFrame\n",
    "trade_evaluation_df = pd.DataFrame(\n",
    "    columns=[\n",
    "        'Stock', \n",
    "        'Entry Date', \n",
    "        'Exit Date', \n",
    "        'Shares', \n",
    "        'Entry Share Price', \n",
    "        'Exit Share Price', \n",
    "        'Entry Portfolio Holding', \n",
    "        'Exit Portfolio Holding', \n",
    "        'Profit/Loss']\n",
    ")\n"
   ]
  },
  {
   "cell_type": "markdown",
   "metadata": {},
   "source": [
    "## Step 6: Create the `for` loop to iterate through the backtested signals DataFrame, pulling the relevant entry and exit data values to calculate the per-trade profit/loss values and appending each record to the trade evaluation DataFrame."
   ]
  },
  {
   "cell_type": "code",
   "execution_count": null,
   "metadata": {},
   "outputs": [
    {
     "ename": "",
     "evalue": "",
     "output_type": "error",
     "traceback": [
      "\u001b[1;31mFailed to start the Kernel. \n",
      "\u001b[1;31mView Jupyter <a href='command:jupyter.viewOutput'>log</a> for further details."
     ]
    }
   ],
   "source": [
    "# Initialize the iterative variables\n",
    "entry_date = \"\"\n",
    "exit_date = \"\"\n",
    "entry_portfolio_holding = 0.0\n",
    "exit_portfolio_holding = 0.0\n",
    "share_size = 0\n",
    "entry_share_price = 0.0\n",
    "exit_share_price = 0.0\n",
    "\n",
    "# Loop through the signal DataFrame\n",
    "# If `Entry/Exit` is 1, set entry trade metrics\n",
    "# Else if `Entry/Exit` is -1, set exit trade metrics and calculate profit,\n",
    "# Then append the record to the trade evaluation DataFrame\n",
    "for index, row in signals_df.iterrows():\n",
    "    if row['Entry/Exit'] == 1:\n",
    "        entry_date = index\n",
    "        entry_portfolio_holding = abs(row['Portfolio Holdings'])\n",
    "        share_size = row['Entry/Exit Position']\n",
    "        entry_share_price = row['Close']\n",
    "\n",
    "    elif row['Entry/Exit'] == -1:\n",
    "        exit_date = index\n",
    "        exit_portfolio_holding = abs(row['Close'] * row['Entry/Exit Position'])\n",
    "        exit_share_price = row['Close']\n",
    "        profit_loss =  entry_portfolio_holding - exit_portfolio_holding\n",
    "        trade_evaluation_df = trade_evaluation_df.append(\n",
    "            {\n",
    "                'Stock': 'AAPL',\n",
    "                'Entry Date': entry_date,\n",
    "                'Exit Date': exit_date,\n",
    "                'Shares': share_size,\n",
    "                'Entry Share Price': entry_share_price,\n",
    "                'Exit Share Price': exit_share_price,\n",
    "                'Entry Portfolio Holding': entry_portfolio_holding,\n",
    "                'Exit Portfolio Holding': exit_portfolio_holding,\n",
    "                'Profit/Loss': profit_loss\n",
    "            },\n",
    "            ignore_index=True)\n",
    "\n",
    "# Review the DataFrame\n",
    "trade_evaluation_df"
   ]
  },
  {
   "cell_type": "markdown",
   "metadata": {},
   "source": [
    "## Step 7: Answer the following question:"
   ]
  },
  {
   "cell_type": "markdown",
   "metadata": {},
   "source": [
    "**Question:** Based on the trade evaluation metrics, has your opinion changed regarding the advisability of this portfolio for a risk-averse investor?\n",
    "\n",
    "**Answer:** Based on the trade evaluation metrics, this trading algorithm strategy produced mixed results. The first trade returned a small gain, but the second trade ended in a sizable loss of funds. However,in a down market, where short-position strategies are best implemented, the strategy performed well, returning over `$7,700` dollars. Given the correct market conditions, it could be suggested that the risk-averse investor make a small investment in this strategy, if only to add some downside protection to their portfolio. "
   ]
  },
  {
   "cell_type": "code",
   "execution_count": null,
   "metadata": {},
   "outputs": [
    {
     "ename": "",
     "evalue": "",
     "output_type": "error",
     "traceback": [
      "\u001b[1;31mFailed to start the Kernel. \n",
      "\u001b[1;31mView Jupyter <a href='command:jupyter.viewOutput'>log</a> for further details."
     ]
    }
   ],
   "source": []
  }
 ],
 "metadata": {
  "kernelspec": {
   "display_name": "Python 3",
   "language": "python",
   "name": "python3"
  },
  "language_info": {
   "codemirror_mode": {
    "name": "ipython",
    "version": 3
   },
   "file_extension": ".py",
   "mimetype": "text/x-python",
   "name": "python",
   "nbconvert_exporter": "python",
   "pygments_lexer": "ipython3",
   "version": "3.10.13"
  }
 },
 "nbformat": 4,
 "nbformat_minor": 4
}
