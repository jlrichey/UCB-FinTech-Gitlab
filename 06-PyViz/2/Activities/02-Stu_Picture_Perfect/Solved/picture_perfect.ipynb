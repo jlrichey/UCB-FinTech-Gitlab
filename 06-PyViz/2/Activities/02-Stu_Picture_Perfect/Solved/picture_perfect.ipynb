{
 "cells": [
  {
   "cell_type": "markdown",
   "metadata": {},
   "source": [
    "# Picture Perfect\n",
    "\n",
    "Still in your role as a data analyst for a video streaming service, you have now been asked by your manager to compare and contrast the revenue numbers by quarter for the various international regions.\n",
    "\n",
    "Be sure to consult the [HvPlot Customization](https://hvplot.holoviz.org/user_guide/Customization.html) page for additional opportunities of aesthetic improvement."
   ]
  },
  {
   "cell_type": "code",
   "execution_count": 27,
   "metadata": {},
   "outputs": [],
   "source": [
    "# Import the required libraries and dependencies\n",
    "import pandas as pd\n",
    "import hvplot.pandas\n",
    "from pathlib import Path\n",
    "from bokeh.models import NumeralTickFormatter"
   ]
  },
  {
   "cell_type": "markdown",
   "metadata": {},
   "source": [
    "## Step 1: Prepare the Regional Revenue DataFrame"
   ]
  },
  {
   "cell_type": "code",
   "execution_count": 21,
   "metadata": {},
   "outputs": [
    {
     "data": {
      "text/html": [
       "<div>\n",
       "<style scoped>\n",
       "    .dataframe tbody tr th:only-of-type {\n",
       "        vertical-align: middle;\n",
       "    }\n",
       "\n",
       "    .dataframe tbody tr th {\n",
       "        vertical-align: top;\n",
       "    }\n",
       "\n",
       "    .dataframe thead th {\n",
       "        text-align: right;\n",
       "    }\n",
       "</style>\n",
       "<table border=\"1\" class=\"dataframe\">\n",
       "  <thead>\n",
       "    <tr style=\"text-align: right;\">\n",
       "      <th></th>\n",
       "      <th>Area</th>\n",
       "      <th>Years</th>\n",
       "      <th>Revenue</th>\n",
       "    </tr>\n",
       "  </thead>\n",
       "  <tbody>\n",
       "    <tr>\n",
       "      <th>0</th>\n",
       "      <td>United States and Canada</td>\n",
       "      <td>Q1 - 2018</td>\n",
       "      <td>1976157000</td>\n",
       "    </tr>\n",
       "    <tr>\n",
       "      <th>1</th>\n",
       "      <td>Europe, Middle East and Africa</td>\n",
       "      <td>Q1 - 2018</td>\n",
       "      <td>886649000</td>\n",
       "    </tr>\n",
       "    <tr>\n",
       "      <th>2</th>\n",
       "      <td>Latin America</td>\n",
       "      <td>Q1 - 2018</td>\n",
       "      <td>540182000</td>\n",
       "    </tr>\n",
       "    <tr>\n",
       "      <th>3</th>\n",
       "      <td>Asia-Pacific</td>\n",
       "      <td>Q1 - 2018</td>\n",
       "      <td>199117000</td>\n",
       "    </tr>\n",
       "    <tr>\n",
       "      <th>4</th>\n",
       "      <td>United States and Canada</td>\n",
       "      <td>Q2 - 2018</td>\n",
       "      <td>2049546000</td>\n",
       "    </tr>\n",
       "  </tbody>\n",
       "</table>\n",
       "</div>"
      ],
      "text/plain": [
       "                             Area      Years     Revenue\n",
       "0        United States and Canada  Q1 - 2018  1976157000\n",
       "1  Europe, Middle East and Africa  Q1 - 2018   886649000\n",
       "2                   Latin America  Q1 - 2018   540182000\n",
       "3                    Asia-Pacific  Q1 - 2018   199117000\n",
       "4        United States and Canada  Q2 - 2018  2049546000"
      ]
     },
     "execution_count": 21,
     "metadata": {},
     "output_type": "execute_result"
    }
   ],
   "source": [
    "# Read in regional_revenue.csv file into a Pandas DataFrame\n",
    "regional_revenue_df = pd.read_csv(Path(\"../Resources/regional_revenue.csv\"))\n",
    "\n",
    "# Review the DataFrame\n",
    "regional_revenue_df.head()"
   ]
  },
  {
   "cell_type": "markdown",
   "metadata": {},
   "source": [
    "## Step 2: Create a plot that visualizes the growth in revenue for the United States and Canada"
   ]
  },
  {
   "cell_type": "code",
   "execution_count": 22,
   "metadata": {},
   "outputs": [
    {
     "data": {},
     "metadata": {},
     "output_type": "display_data"
    },
    {
     "data": {
      "application/vnd.holoviews_exec.v0+json": "",
      "text/html": [
       "<div id='2529'>\n",
       "  <div class=\"bk-root\" id=\"111b3124-76bc-4d5f-a5fd-56dd2547887e\" data-root-id=\"2529\"></div>\n",
       "</div>\n",
       "<script type=\"application/javascript\">(function(root) {\n",
       "  function embed_document(root) {\n",
       "    var docs_json = {\"d65bc1c6-4bc1-44c8-9ec2-9e958dcf5686\":{\"defs\":[{\"extends\":null,\"module\":null,\"name\":\"ReactiveHTML1\",\"overrides\":[],\"properties\":[]},{\"extends\":null,\"module\":null,\"name\":\"FlexBox1\",\"overrides\":[],\"properties\":[{\"default\":\"flex-start\",\"kind\":null,\"name\":\"align_content\"},{\"default\":\"flex-start\",\"kind\":null,\"name\":\"align_items\"},{\"default\":\"row\",\"kind\":null,\"name\":\"flex_direction\"},{\"default\":\"wrap\",\"kind\":null,\"name\":\"flex_wrap\"},{\"default\":\"flex-start\",\"kind\":null,\"name\":\"justify_content\"}]},{\"extends\":null,\"module\":null,\"name\":\"GridStack1\",\"overrides\":[],\"properties\":[{\"default\":\"warn\",\"kind\":null,\"name\":\"mode\"},{\"default\":null,\"kind\":null,\"name\":\"ncols\"},{\"default\":null,\"kind\":null,\"name\":\"nrows\"},{\"default\":true,\"kind\":null,\"name\":\"allow_resize\"},{\"default\":true,\"kind\":null,\"name\":\"allow_drag\"},{\"default\":[],\"kind\":null,\"name\":\"state\"}]},{\"extends\":null,\"module\":null,\"name\":\"click1\",\"overrides\":[],\"properties\":[{\"default\":\"\",\"kind\":null,\"name\":\"terminal_output\"},{\"default\":\"\",\"kind\":null,\"name\":\"debug_name\"},{\"default\":0,\"kind\":null,\"name\":\"clears\"}]},{\"extends\":null,\"module\":null,\"name\":\"NotificationAreaBase1\",\"overrides\":[],\"properties\":[{\"default\":\"bottom-right\",\"kind\":null,\"name\":\"position\"},{\"default\":0,\"kind\":null,\"name\":\"_clear\"}]},{\"extends\":null,\"module\":null,\"name\":\"NotificationArea1\",\"overrides\":[],\"properties\":[{\"default\":[],\"kind\":null,\"name\":\"notifications\"},{\"default\":\"bottom-right\",\"kind\":null,\"name\":\"position\"},{\"default\":0,\"kind\":null,\"name\":\"_clear\"},{\"default\":[{\"background\":\"#ffc107\",\"icon\":{\"className\":\"fas fa-exclamation-triangle\",\"color\":\"white\",\"tagName\":\"i\"},\"type\":\"warning\"},{\"background\":\"#007bff\",\"icon\":{\"className\":\"fas fa-info-circle\",\"color\":\"white\",\"tagName\":\"i\"},\"type\":\"info\"}],\"kind\":null,\"name\":\"types\"}]},{\"extends\":null,\"module\":null,\"name\":\"Notification\",\"overrides\":[],\"properties\":[{\"default\":null,\"kind\":null,\"name\":\"background\"},{\"default\":3000,\"kind\":null,\"name\":\"duration\"},{\"default\":null,\"kind\":null,\"name\":\"icon\"},{\"default\":\"\",\"kind\":null,\"name\":\"message\"},{\"default\":null,\"kind\":null,\"name\":\"notification_type\"},{\"default\":false,\"kind\":null,\"name\":\"_destroyed\"}]},{\"extends\":null,\"module\":null,\"name\":\"TemplateActions1\",\"overrides\":[],\"properties\":[{\"default\":0,\"kind\":null,\"name\":\"open_modal\"},{\"default\":0,\"kind\":null,\"name\":\"close_modal\"}]},{\"extends\":null,\"module\":null,\"name\":\"MaterialTemplateActions1\",\"overrides\":[],\"properties\":[{\"default\":0,\"kind\":null,\"name\":\"open_modal\"},{\"default\":0,\"kind\":null,\"name\":\"close_modal\"}]}],\"roots\":{\"references\":[{\"attributes\":{\"source\":{\"id\":\"2563\"}},\"id\":\"2570\",\"type\":\"CDSView\"},{\"attributes\":{\"tools\":[{\"id\":\"2533\"},{\"id\":\"2550\"},{\"id\":\"2551\"},{\"id\":\"2552\"},{\"id\":\"2553\"},{\"id\":\"2554\"}]},\"id\":\"2556\",\"type\":\"Toolbar\"},{\"attributes\":{\"axis_label\":\"\",\"coordinates\":null,\"formatter\":{\"id\":\"2576\"},\"group\":null,\"major_label_policy\":{\"id\":\"2577\"},\"ticker\":{\"id\":\"2547\"}},\"id\":\"2546\",\"type\":\"LinearAxis\"},{\"attributes\":{},\"id\":\"2577\",\"type\":\"AllLabels\"},{\"attributes\":{\"axis\":{\"id\":\"2546\"},\"coordinates\":null,\"dimension\":1,\"grid_line_color\":null,\"group\":null,\"ticker\":null},\"id\":\"2549\",\"type\":\"Grid\"},{\"attributes\":{\"coordinates\":null,\"group\":null,\"text\":\"Revenue\",\"text_color\":\"black\",\"text_font_size\":\"12pt\"},\"id\":\"2535\",\"type\":\"Title\"},{\"attributes\":{\"line_color\":\"#30a2da\",\"line_width\":2,\"x\":{\"field\":\"Years\"},\"y\":{\"field\":\"Revenue\"}},\"id\":\"2566\",\"type\":\"Line\"},{\"attributes\":{\"bottom_units\":\"screen\",\"coordinates\":null,\"fill_alpha\":0.5,\"fill_color\":\"lightgrey\",\"group\":null,\"left_units\":\"screen\",\"level\":\"overlay\",\"line_alpha\":1.0,\"line_color\":\"black\",\"line_dash\":[4,4],\"line_width\":2,\"right_units\":\"screen\",\"syncable\":false,\"top_units\":\"screen\"},\"id\":\"2555\",\"type\":\"BoxAnnotation\"},{\"attributes\":{\"below\":[{\"id\":\"2543\"}],\"center\":[{\"id\":\"2545\"},{\"id\":\"2549\"}],\"height\":300,\"left\":[{\"id\":\"2546\"}],\"margin\":[5,5,5,5],\"min_border_bottom\":10,\"min_border_left\":10,\"min_border_right\":10,\"min_border_top\":10,\"renderers\":[{\"id\":\"2569\"}],\"sizing_mode\":\"fixed\",\"title\":{\"id\":\"2535\"},\"toolbar\":{\"id\":\"2556\"},\"width\":700,\"x_range\":{\"id\":\"2531\"},\"x_scale\":{\"id\":\"2539\"},\"y_range\":{\"id\":\"2532\"},\"y_scale\":{\"id\":\"2541\"}},\"id\":\"2534\",\"subtype\":\"Figure\",\"type\":\"Plot\"},{\"attributes\":{},\"id\":\"2574\",\"type\":\"AllLabels\"},{\"attributes\":{\"children\":[{\"id\":\"2530\"},{\"id\":\"2534\"},{\"id\":\"2588\"}],\"margin\":[0,0,0,0],\"name\":\"Row02012\",\"tags\":[\"embedded\"]},\"id\":\"2529\",\"type\":\"Row\"},{\"attributes\":{\"line_color\":\"#30a2da\",\"line_width\":2,\"x\":{\"field\":\"Years\"},\"y\":{\"field\":\"Revenue\"}},\"id\":\"2571\",\"type\":\"Line\"},{\"attributes\":{},\"id\":\"2541\",\"type\":\"LinearScale\"},{\"attributes\":{\"data\":{\"Revenue\":[1976157000,2049546000,2094850000,2160979000,2256851000,2501199000,2621250000,2671908000,2702776000,2839670000],\"Years\":[\"Q1 - 2018\",\"Q2 - 2018\",\"Q3 - 2018\",\"Q4 - 2018\",\"Q1 - 2019\",\"Q2 - 2019\",\"Q3 - 2019\",\"Q4 - 2019\",\"Q1 - 2020\",\"Q2 - 2020\"]},\"selected\":{\"id\":\"2564\"},\"selection_policy\":{\"id\":\"2585\"}},\"id\":\"2563\",\"type\":\"ColumnDataSource\"},{\"attributes\":{\"callback\":null,\"renderers\":[{\"id\":\"2569\"}],\"tags\":[\"hv_created\"],\"tooltips\":[[\"Years\",\"@{Years}\"],[\"Revenue\",\"@{Revenue}\"]]},\"id\":\"2533\",\"type\":\"HoverTool\"},{\"attributes\":{},\"id\":\"2564\",\"type\":\"Selection\"},{\"attributes\":{\"line_alpha\":0.1,\"line_color\":\"#30a2da\",\"line_width\":2,\"x\":{\"field\":\"Years\"},\"y\":{\"field\":\"Revenue\"}},\"id\":\"2567\",\"type\":\"Line\"},{\"attributes\":{\"end\":2926021300.0,\"reset_end\":2926021300.0,\"reset_start\":1889805700.0,\"start\":1889805700.0,\"tags\":[[[\"Revenue\",\"Revenue\",null]]]},\"id\":\"2532\",\"type\":\"Range1d\"},{\"attributes\":{\"coordinates\":null,\"data_source\":{\"id\":\"2563\"},\"glyph\":{\"id\":\"2566\"},\"group\":null,\"hover_glyph\":null,\"muted_glyph\":{\"id\":\"2568\"},\"nonselection_glyph\":{\"id\":\"2567\"},\"selection_glyph\":{\"id\":\"2571\"},\"view\":{\"id\":\"2570\"}},\"id\":\"2569\",\"type\":\"GlyphRenderer\"},{\"attributes\":{},\"id\":\"2576\",\"type\":\"BasicTickFormatter\"},{\"attributes\":{},\"id\":\"2550\",\"type\":\"SaveTool\"},{\"attributes\":{},\"id\":\"2585\",\"type\":\"UnionRenderers\"},{\"attributes\":{\"margin\":[5,5,5,5],\"name\":\"HSpacer02016\",\"sizing_mode\":\"stretch_width\"},\"id\":\"2530\",\"type\":\"Spacer\"},{\"attributes\":{},\"id\":\"2551\",\"type\":\"PanTool\"},{\"attributes\":{},\"id\":\"2547\",\"type\":\"BasicTicker\"},{\"attributes\":{},\"id\":\"2554\",\"type\":\"ResetTool\"},{\"attributes\":{},\"id\":\"2552\",\"type\":\"WheelZoomTool\"},{\"attributes\":{\"line_alpha\":0.2,\"line_color\":\"#30a2da\",\"line_width\":2,\"x\":{\"field\":\"Years\"},\"y\":{\"field\":\"Revenue\"}},\"id\":\"2568\",\"type\":\"Line\"},{\"attributes\":{\"overlay\":{\"id\":\"2555\"}},\"id\":\"2553\",\"type\":\"BoxZoomTool\"},{\"attributes\":{\"factors\":[\"Q1 - 2018\",\"Q2 - 2018\",\"Q3 - 2018\",\"Q4 - 2018\",\"Q1 - 2019\",\"Q2 - 2019\",\"Q3 - 2019\",\"Q4 - 2019\",\"Q1 - 2020\",\"Q2 - 2020\"],\"tags\":[[[\"Years\",\"Years\",null]]]},\"id\":\"2531\",\"type\":\"FactorRange\"},{\"attributes\":{\"axis\":{\"id\":\"2543\"},\"coordinates\":null,\"grid_line_color\":null,\"group\":null,\"ticker\":null},\"id\":\"2545\",\"type\":\"Grid\"},{\"attributes\":{},\"id\":\"2573\",\"type\":\"CategoricalTickFormatter\"},{\"attributes\":{},\"id\":\"2539\",\"type\":\"CategoricalScale\"},{\"attributes\":{\"margin\":[5,5,5,5],\"name\":\"HSpacer02017\",\"sizing_mode\":\"stretch_width\"},\"id\":\"2588\",\"type\":\"Spacer\"},{\"attributes\":{},\"id\":\"2544\",\"type\":\"CategoricalTicker\"},{\"attributes\":{\"axis_label\":\"Years\",\"coordinates\":null,\"formatter\":{\"id\":\"2573\"},\"group\":null,\"major_label_policy\":{\"id\":\"2574\"},\"ticker\":{\"id\":\"2544\"}},\"id\":\"2543\",\"type\":\"CategoricalAxis\"}],\"root_ids\":[\"2529\"]},\"title\":\"Bokeh Application\",\"version\":\"2.4.3\"}};\n",
       "    var render_items = [{\"docid\":\"d65bc1c6-4bc1-44c8-9ec2-9e958dcf5686\",\"root_ids\":[\"2529\"],\"roots\":{\"2529\":\"111b3124-76bc-4d5f-a5fd-56dd2547887e\"}}];\n",
       "    root.Bokeh.embed.embed_items_notebook(docs_json, render_items);\n",
       "  }\n",
       "  if (root.Bokeh !== undefined && root.Bokeh.Panel !== undefined) {\n",
       "    embed_document(root);\n",
       "  } else {\n",
       "    var attempts = 0;\n",
       "    var timer = setInterval(function(root) {\n",
       "      if (root.Bokeh !== undefined && root.Bokeh.Panel !== undefined) {\n",
       "        clearInterval(timer);\n",
       "        embed_document(root);\n",
       "      } else if (document.readyState == \"complete\") {\n",
       "        attempts++;\n",
       "        if (attempts > 200) {\n",
       "          clearInterval(timer);\n",
       "          console.log(\"Bokeh: ERROR: Unable to run BokehJS code because BokehJS library is missing\");\n",
       "        }\n",
       "      }\n",
       "    }, 25, root)\n",
       "  }\n",
       "})(window);</script>"
      ],
      "text/plain": [
       ":Curve   [Years]   (Revenue)"
      ]
     },
     "execution_count": 22,
     "metadata": {
      "application/vnd.holoviews_exec.v0+json": {
       "id": "2529"
      }
     },
     "output_type": "execute_result"
    }
   ],
   "source": [
    "# Create a DataFrame that slices the subscriber data for the United States and Canada\n",
    "us_canada_revenue = regional_revenue_df.loc[regional_revenue_df['Area'] == 'United States and Canada']\n",
    "\n",
    "# Set the index of the DataFrame to Years\n",
    "us_canada_revenue = us_canada_revenue.set_index('Years')\n",
    "\n",
    "# Create a line plot of the US and Canada Revenue data\n",
    "us_canada_revenue['Revenue'].hvplot()\n"
   ]
  },
  {
   "cell_type": "markdown",
   "metadata": {},
   "source": [
    "## Step 3: Add x- and y-axis labels to your plot. Rotate the x-axis plot ticks 45 degrees."
   ]
  },
  {
   "cell_type": "code",
   "execution_count": 23,
   "metadata": {},
   "outputs": [
    {
     "data": {},
     "metadata": {},
     "output_type": "display_data"
    },
    {
     "data": {
      "application/vnd.holoviews_exec.v0+json": "",
      "text/html": [
       "<div id='2640'>\n",
       "  <div class=\"bk-root\" id=\"2b81b960-e3a4-4554-a76f-ffd4c6aaad7c\" data-root-id=\"2640\"></div>\n",
       "</div>\n",
       "<script type=\"application/javascript\">(function(root) {\n",
       "  function embed_document(root) {\n",
       "    var docs_json = {\"3f14fb8e-db25-4f00-a86f-ec593b966e61\":{\"defs\":[{\"extends\":null,\"module\":null,\"name\":\"ReactiveHTML1\",\"overrides\":[],\"properties\":[]},{\"extends\":null,\"module\":null,\"name\":\"FlexBox1\",\"overrides\":[],\"properties\":[{\"default\":\"flex-start\",\"kind\":null,\"name\":\"align_content\"},{\"default\":\"flex-start\",\"kind\":null,\"name\":\"align_items\"},{\"default\":\"row\",\"kind\":null,\"name\":\"flex_direction\"},{\"default\":\"wrap\",\"kind\":null,\"name\":\"flex_wrap\"},{\"default\":\"flex-start\",\"kind\":null,\"name\":\"justify_content\"}]},{\"extends\":null,\"module\":null,\"name\":\"GridStack1\",\"overrides\":[],\"properties\":[{\"default\":\"warn\",\"kind\":null,\"name\":\"mode\"},{\"default\":null,\"kind\":null,\"name\":\"ncols\"},{\"default\":null,\"kind\":null,\"name\":\"nrows\"},{\"default\":true,\"kind\":null,\"name\":\"allow_resize\"},{\"default\":true,\"kind\":null,\"name\":\"allow_drag\"},{\"default\":[],\"kind\":null,\"name\":\"state\"}]},{\"extends\":null,\"module\":null,\"name\":\"click1\",\"overrides\":[],\"properties\":[{\"default\":\"\",\"kind\":null,\"name\":\"terminal_output\"},{\"default\":\"\",\"kind\":null,\"name\":\"debug_name\"},{\"default\":0,\"kind\":null,\"name\":\"clears\"}]},{\"extends\":null,\"module\":null,\"name\":\"NotificationAreaBase1\",\"overrides\":[],\"properties\":[{\"default\":\"bottom-right\",\"kind\":null,\"name\":\"position\"},{\"default\":0,\"kind\":null,\"name\":\"_clear\"}]},{\"extends\":null,\"module\":null,\"name\":\"NotificationArea1\",\"overrides\":[],\"properties\":[{\"default\":[],\"kind\":null,\"name\":\"notifications\"},{\"default\":\"bottom-right\",\"kind\":null,\"name\":\"position\"},{\"default\":0,\"kind\":null,\"name\":\"_clear\"},{\"default\":[{\"background\":\"#ffc107\",\"icon\":{\"className\":\"fas fa-exclamation-triangle\",\"color\":\"white\",\"tagName\":\"i\"},\"type\":\"warning\"},{\"background\":\"#007bff\",\"icon\":{\"className\":\"fas fa-info-circle\",\"color\":\"white\",\"tagName\":\"i\"},\"type\":\"info\"}],\"kind\":null,\"name\":\"types\"}]},{\"extends\":null,\"module\":null,\"name\":\"Notification\",\"overrides\":[],\"properties\":[{\"default\":null,\"kind\":null,\"name\":\"background\"},{\"default\":3000,\"kind\":null,\"name\":\"duration\"},{\"default\":null,\"kind\":null,\"name\":\"icon\"},{\"default\":\"\",\"kind\":null,\"name\":\"message\"},{\"default\":null,\"kind\":null,\"name\":\"notification_type\"},{\"default\":false,\"kind\":null,\"name\":\"_destroyed\"}]},{\"extends\":null,\"module\":null,\"name\":\"TemplateActions1\",\"overrides\":[],\"properties\":[{\"default\":0,\"kind\":null,\"name\":\"open_modal\"},{\"default\":0,\"kind\":null,\"name\":\"close_modal\"}]},{\"extends\":null,\"module\":null,\"name\":\"MaterialTemplateActions1\",\"overrides\":[],\"properties\":[{\"default\":0,\"kind\":null,\"name\":\"open_modal\"},{\"default\":0,\"kind\":null,\"name\":\"close_modal\"}]}],\"roots\":{\"references\":[{\"attributes\":{\"axis\":{\"id\":\"2654\"},\"coordinates\":null,\"grid_line_color\":null,\"group\":null,\"ticker\":null},\"id\":\"2656\",\"type\":\"Grid\"},{\"attributes\":{},\"id\":\"2655\",\"type\":\"CategoricalTicker\"},{\"attributes\":{},\"id\":\"2685\",\"type\":\"AllLabels\"},{\"attributes\":{\"axis\":{\"id\":\"2657\"},\"coordinates\":null,\"dimension\":1,\"grid_line_color\":null,\"group\":null,\"ticker\":null},\"id\":\"2660\",\"type\":\"Grid\"},{\"attributes\":{\"below\":[{\"id\":\"2654\"}],\"center\":[{\"id\":\"2656\"},{\"id\":\"2660\"}],\"height\":300,\"left\":[{\"id\":\"2657\"}],\"margin\":[5,5,5,5],\"min_border_bottom\":10,\"min_border_left\":10,\"min_border_right\":10,\"min_border_top\":10,\"renderers\":[{\"id\":\"2680\"}],\"sizing_mode\":\"fixed\",\"title\":{\"id\":\"2646\"},\"toolbar\":{\"id\":\"2667\"},\"width\":700,\"x_range\":{\"id\":\"2642\"},\"x_scale\":{\"id\":\"2650\"},\"y_range\":{\"id\":\"2643\"},\"y_scale\":{\"id\":\"2652\"}},\"id\":\"2645\",\"subtype\":\"Figure\",\"type\":\"Plot\"},{\"attributes\":{},\"id\":\"2688\",\"type\":\"AllLabels\"},{\"attributes\":{},\"id\":\"2658\",\"type\":\"BasicTicker\"},{\"attributes\":{\"axis_label\":\"Revenue\",\"coordinates\":null,\"formatter\":{\"id\":\"2687\"},\"group\":null,\"major_label_policy\":{\"id\":\"2688\"},\"ticker\":{\"id\":\"2658\"}},\"id\":\"2657\",\"type\":\"LinearAxis\"},{\"attributes\":{},\"id\":\"2650\",\"type\":\"CategoricalScale\"},{\"attributes\":{\"factors\":[\"Q1 - 2018\",\"Q2 - 2018\",\"Q3 - 2018\",\"Q4 - 2018\",\"Q1 - 2019\",\"Q2 - 2019\",\"Q3 - 2019\",\"Q4 - 2019\",\"Q1 - 2020\",\"Q2 - 2020\"],\"tags\":[[[\"Years\",\"Years\",null]]]},\"id\":\"2642\",\"type\":\"FactorRange\"},{\"attributes\":{\"end\":2926021300.0,\"reset_end\":2926021300.0,\"reset_start\":1889805700.0,\"start\":1889805700.0,\"tags\":[[[\"Revenue\",\"Revenue\",null]]]},\"id\":\"2643\",\"type\":\"Range1d\"},{\"attributes\":{\"coordinates\":null,\"data_source\":{\"id\":\"2674\"},\"glyph\":{\"id\":\"2677\"},\"group\":null,\"hover_glyph\":null,\"muted_glyph\":{\"id\":\"2679\"},\"nonselection_glyph\":{\"id\":\"2678\"},\"selection_glyph\":{\"id\":\"2682\"},\"view\":{\"id\":\"2681\"}},\"id\":\"2680\",\"type\":\"GlyphRenderer\"},{\"attributes\":{\"callback\":null,\"renderers\":[{\"id\":\"2680\"}],\"tags\":[\"hv_created\"],\"tooltips\":[[\"Years\",\"@{Years}\"],[\"Revenue\",\"@{Revenue}\"]]},\"id\":\"2644\",\"type\":\"HoverTool\"},{\"attributes\":{\"line_alpha\":0.2,\"line_color\":\"#30a2da\",\"line_width\":2,\"x\":{\"field\":\"Years\"},\"y\":{\"field\":\"Revenue\"}},\"id\":\"2679\",\"type\":\"Line\"},{\"attributes\":{},\"id\":\"2687\",\"type\":\"BasicTickFormatter\"},{\"attributes\":{\"source\":{\"id\":\"2674\"}},\"id\":\"2681\",\"type\":\"CDSView\"},{\"attributes\":{},\"id\":\"2675\",\"type\":\"Selection\"},{\"attributes\":{},\"id\":\"2684\",\"type\":\"CategoricalTickFormatter\"},{\"attributes\":{\"tools\":[{\"id\":\"2644\"},{\"id\":\"2661\"},{\"id\":\"2662\"},{\"id\":\"2663\"},{\"id\":\"2664\"},{\"id\":\"2665\"}]},\"id\":\"2667\",\"type\":\"Toolbar\"},{\"attributes\":{\"line_alpha\":0.1,\"line_color\":\"#30a2da\",\"line_width\":2,\"x\":{\"field\":\"Years\"},\"y\":{\"field\":\"Revenue\"}},\"id\":\"2678\",\"type\":\"Line\"},{\"attributes\":{\"bottom_units\":\"screen\",\"coordinates\":null,\"fill_alpha\":0.5,\"fill_color\":\"lightgrey\",\"group\":null,\"left_units\":\"screen\",\"level\":\"overlay\",\"line_alpha\":1.0,\"line_color\":\"black\",\"line_dash\":[4,4],\"line_width\":2,\"right_units\":\"screen\",\"syncable\":false,\"top_units\":\"screen\"},\"id\":\"2666\",\"type\":\"BoxAnnotation\"},{\"attributes\":{},\"id\":\"2661\",\"type\":\"SaveTool\"},{\"attributes\":{},\"id\":\"2662\",\"type\":\"PanTool\"},{\"attributes\":{\"coordinates\":null,\"group\":null,\"text\":\"Revenue\",\"text_color\":\"black\",\"text_font_size\":\"12pt\"},\"id\":\"2646\",\"type\":\"Title\"},{\"attributes\":{},\"id\":\"2665\",\"type\":\"ResetTool\"},{\"attributes\":{},\"id\":\"2663\",\"type\":\"WheelZoomTool\"},{\"attributes\":{\"margin\":[5,5,5,5],\"name\":\"HSpacer02096\",\"sizing_mode\":\"stretch_width\"},\"id\":\"2641\",\"type\":\"Spacer\"},{\"attributes\":{\"line_color\":\"#30a2da\",\"line_width\":2,\"x\":{\"field\":\"Years\"},\"y\":{\"field\":\"Revenue\"}},\"id\":\"2677\",\"type\":\"Line\"},{\"attributes\":{},\"id\":\"2652\",\"type\":\"LinearScale\"},{\"attributes\":{\"overlay\":{\"id\":\"2666\"}},\"id\":\"2664\",\"type\":\"BoxZoomTool\"},{\"attributes\":{\"children\":[{\"id\":\"2641\"},{\"id\":\"2645\"},{\"id\":\"2699\"}],\"margin\":[0,0,0,0],\"name\":\"Row02092\",\"tags\":[\"embedded\"]},\"id\":\"2640\",\"type\":\"Row\"},{\"attributes\":{\"data\":{\"Revenue\":[1976157000,2049546000,2094850000,2160979000,2256851000,2501199000,2621250000,2671908000,2702776000,2839670000],\"Years\":[\"Q1 - 2018\",\"Q2 - 2018\",\"Q3 - 2018\",\"Q4 - 2018\",\"Q1 - 2019\",\"Q2 - 2019\",\"Q3 - 2019\",\"Q4 - 2019\",\"Q1 - 2020\",\"Q2 - 2020\"]},\"selected\":{\"id\":\"2675\"},\"selection_policy\":{\"id\":\"2696\"}},\"id\":\"2674\",\"type\":\"ColumnDataSource\"},{\"attributes\":{\"line_color\":\"#30a2da\",\"line_width\":2,\"x\":{\"field\":\"Years\"},\"y\":{\"field\":\"Revenue\"}},\"id\":\"2682\",\"type\":\"Line\"},{\"attributes\":{},\"id\":\"2696\",\"type\":\"UnionRenderers\"},{\"attributes\":{\"margin\":[5,5,5,5],\"name\":\"HSpacer02097\",\"sizing_mode\":\"stretch_width\"},\"id\":\"2699\",\"type\":\"Spacer\"},{\"attributes\":{\"axis_label\":\"Revenue Periods\",\"coordinates\":null,\"formatter\":{\"id\":\"2684\"},\"group\":null,\"major_label_orientation\":0.7853981633974483,\"major_label_policy\":{\"id\":\"2685\"},\"ticker\":{\"id\":\"2655\"}},\"id\":\"2654\",\"type\":\"CategoricalAxis\"}],\"root_ids\":[\"2640\"]},\"title\":\"Bokeh Application\",\"version\":\"2.4.3\"}};\n",
       "    var render_items = [{\"docid\":\"3f14fb8e-db25-4f00-a86f-ec593b966e61\",\"root_ids\":[\"2640\"],\"roots\":{\"2640\":\"2b81b960-e3a4-4554-a76f-ffd4c6aaad7c\"}}];\n",
       "    root.Bokeh.embed.embed_items_notebook(docs_json, render_items);\n",
       "  }\n",
       "  if (root.Bokeh !== undefined && root.Bokeh.Panel !== undefined) {\n",
       "    embed_document(root);\n",
       "  } else {\n",
       "    var attempts = 0;\n",
       "    var timer = setInterval(function(root) {\n",
       "      if (root.Bokeh !== undefined && root.Bokeh.Panel !== undefined) {\n",
       "        clearInterval(timer);\n",
       "        embed_document(root);\n",
       "      } else if (document.readyState == \"complete\") {\n",
       "        attempts++;\n",
       "        if (attempts > 200) {\n",
       "          clearInterval(timer);\n",
       "          console.log(\"Bokeh: ERROR: Unable to run BokehJS code because BokehJS library is missing\");\n",
       "        }\n",
       "      }\n",
       "    }, 25, root)\n",
       "  }\n",
       "})(window);</script>"
      ],
      "text/plain": [
       ":Curve   [Years]   (Revenue)"
      ]
     },
     "execution_count": 23,
     "metadata": {
      "application/vnd.holoviews_exec.v0+json": {
       "id": "2640"
      }
     },
     "output_type": "execute_result"
    }
   ],
   "source": [
    "# Rotate the x-axis ticks by 45 degrees and add x- and y-axis labels to the plot\n",
    "us_canada_revenue['Revenue'].hvplot(\n",
    "    xlabel=\"Revenue Periods\",\n",
    "    ylabel=\"Revenue\", \n",
    "    rot=45\n",
    ")"
   ]
  },
  {
   "cell_type": "markdown",
   "metadata": {},
   "source": [
    "## Step 4:  Add a title to the US and Canada revenue plot\n"
   ]
  },
  {
   "cell_type": "code",
   "execution_count": 24,
   "metadata": {},
   "outputs": [
    {
     "data": {},
     "metadata": {},
     "output_type": "display_data"
    },
    {
     "data": {
      "application/vnd.holoviews_exec.v0+json": "",
      "text/html": [
       "<div id='2751'>\n",
       "  <div class=\"bk-root\" id=\"b75db3d1-4c06-41ca-bac0-5c6745f31efc\" data-root-id=\"2751\"></div>\n",
       "</div>\n",
       "<script type=\"application/javascript\">(function(root) {\n",
       "  function embed_document(root) {\n",
       "    var docs_json = {\"5c932974-bbe7-483e-8819-133f6a53eb5d\":{\"defs\":[{\"extends\":null,\"module\":null,\"name\":\"ReactiveHTML1\",\"overrides\":[],\"properties\":[]},{\"extends\":null,\"module\":null,\"name\":\"FlexBox1\",\"overrides\":[],\"properties\":[{\"default\":\"flex-start\",\"kind\":null,\"name\":\"align_content\"},{\"default\":\"flex-start\",\"kind\":null,\"name\":\"align_items\"},{\"default\":\"row\",\"kind\":null,\"name\":\"flex_direction\"},{\"default\":\"wrap\",\"kind\":null,\"name\":\"flex_wrap\"},{\"default\":\"flex-start\",\"kind\":null,\"name\":\"justify_content\"}]},{\"extends\":null,\"module\":null,\"name\":\"GridStack1\",\"overrides\":[],\"properties\":[{\"default\":\"warn\",\"kind\":null,\"name\":\"mode\"},{\"default\":null,\"kind\":null,\"name\":\"ncols\"},{\"default\":null,\"kind\":null,\"name\":\"nrows\"},{\"default\":true,\"kind\":null,\"name\":\"allow_resize\"},{\"default\":true,\"kind\":null,\"name\":\"allow_drag\"},{\"default\":[],\"kind\":null,\"name\":\"state\"}]},{\"extends\":null,\"module\":null,\"name\":\"click1\",\"overrides\":[],\"properties\":[{\"default\":\"\",\"kind\":null,\"name\":\"terminal_output\"},{\"default\":\"\",\"kind\":null,\"name\":\"debug_name\"},{\"default\":0,\"kind\":null,\"name\":\"clears\"}]},{\"extends\":null,\"module\":null,\"name\":\"NotificationAreaBase1\",\"overrides\":[],\"properties\":[{\"default\":\"bottom-right\",\"kind\":null,\"name\":\"position\"},{\"default\":0,\"kind\":null,\"name\":\"_clear\"}]},{\"extends\":null,\"module\":null,\"name\":\"NotificationArea1\",\"overrides\":[],\"properties\":[{\"default\":[],\"kind\":null,\"name\":\"notifications\"},{\"default\":\"bottom-right\",\"kind\":null,\"name\":\"position\"},{\"default\":0,\"kind\":null,\"name\":\"_clear\"},{\"default\":[{\"background\":\"#ffc107\",\"icon\":{\"className\":\"fas fa-exclamation-triangle\",\"color\":\"white\",\"tagName\":\"i\"},\"type\":\"warning\"},{\"background\":\"#007bff\",\"icon\":{\"className\":\"fas fa-info-circle\",\"color\":\"white\",\"tagName\":\"i\"},\"type\":\"info\"}],\"kind\":null,\"name\":\"types\"}]},{\"extends\":null,\"module\":null,\"name\":\"Notification\",\"overrides\":[],\"properties\":[{\"default\":null,\"kind\":null,\"name\":\"background\"},{\"default\":3000,\"kind\":null,\"name\":\"duration\"},{\"default\":null,\"kind\":null,\"name\":\"icon\"},{\"default\":\"\",\"kind\":null,\"name\":\"message\"},{\"default\":null,\"kind\":null,\"name\":\"notification_type\"},{\"default\":false,\"kind\":null,\"name\":\"_destroyed\"}]},{\"extends\":null,\"module\":null,\"name\":\"TemplateActions1\",\"overrides\":[],\"properties\":[{\"default\":0,\"kind\":null,\"name\":\"open_modal\"},{\"default\":0,\"kind\":null,\"name\":\"close_modal\"}]},{\"extends\":null,\"module\":null,\"name\":\"MaterialTemplateActions1\",\"overrides\":[],\"properties\":[{\"default\":0,\"kind\":null,\"name\":\"open_modal\"},{\"default\":0,\"kind\":null,\"name\":\"close_modal\"}]}],\"roots\":{\"references\":[{\"attributes\":{},\"id\":\"2769\",\"type\":\"BasicTicker\"},{\"attributes\":{\"axis_label\":\"Revenue\",\"coordinates\":null,\"formatter\":{\"id\":\"2798\"},\"group\":null,\"major_label_policy\":{\"id\":\"2799\"},\"ticker\":{\"id\":\"2769\"}},\"id\":\"2768\",\"type\":\"LinearAxis\"},{\"attributes\":{\"axis\":{\"id\":\"2768\"},\"coordinates\":null,\"dimension\":1,\"grid_line_color\":null,\"group\":null,\"ticker\":null},\"id\":\"2771\",\"type\":\"Grid\"},{\"attributes\":{\"end\":2926021300.0,\"reset_end\":2926021300.0,\"reset_start\":1889805700.0,\"start\":1889805700.0,\"tags\":[[[\"Revenue\",\"Revenue\",null]]]},\"id\":\"2754\",\"type\":\"Range1d\"},{\"attributes\":{\"coordinates\":null,\"data_source\":{\"id\":\"2785\"},\"glyph\":{\"id\":\"2788\"},\"group\":null,\"hover_glyph\":null,\"muted_glyph\":{\"id\":\"2790\"},\"nonselection_glyph\":{\"id\":\"2789\"},\"selection_glyph\":{\"id\":\"2793\"},\"view\":{\"id\":\"2792\"}},\"id\":\"2791\",\"type\":\"GlyphRenderer\"},{\"attributes\":{\"callback\":null,\"renderers\":[{\"id\":\"2791\"}],\"tags\":[\"hv_created\"],\"tooltips\":[[\"Years\",\"@{Years}\"],[\"Revenue\",\"@{Revenue}\"]]},\"id\":\"2755\",\"type\":\"HoverTool\"},{\"attributes\":{},\"id\":\"2799\",\"type\":\"AllLabels\"},{\"attributes\":{},\"id\":\"2761\",\"type\":\"CategoricalScale\"},{\"attributes\":{},\"id\":\"2796\",\"type\":\"AllLabels\"},{\"attributes\":{\"below\":[{\"id\":\"2765\"}],\"center\":[{\"id\":\"2767\"},{\"id\":\"2771\"}],\"height\":300,\"left\":[{\"id\":\"2768\"}],\"margin\":[5,5,5,5],\"min_border_bottom\":10,\"min_border_left\":10,\"min_border_right\":10,\"min_border_top\":10,\"renderers\":[{\"id\":\"2791\"}],\"sizing_mode\":\"fixed\",\"title\":{\"id\":\"2757\"},\"toolbar\":{\"id\":\"2778\"},\"width\":700,\"x_range\":{\"id\":\"2753\"},\"x_scale\":{\"id\":\"2761\"},\"y_range\":{\"id\":\"2754\"},\"y_scale\":{\"id\":\"2763\"}},\"id\":\"2756\",\"subtype\":\"Figure\",\"type\":\"Plot\"},{\"attributes\":{\"line_alpha\":0.2,\"line_color\":\"#30a2da\",\"line_width\":2,\"x\":{\"field\":\"Years\"},\"y\":{\"field\":\"Revenue\"}},\"id\":\"2790\",\"type\":\"Line\"},{\"attributes\":{\"source\":{\"id\":\"2785\"}},\"id\":\"2792\",\"type\":\"CDSView\"},{\"attributes\":{},\"id\":\"2807\",\"type\":\"UnionRenderers\"},{\"attributes\":{},\"id\":\"2795\",\"type\":\"CategoricalTickFormatter\"},{\"attributes\":{\"tools\":[{\"id\":\"2755\"},{\"id\":\"2772\"},{\"id\":\"2773\"},{\"id\":\"2774\"},{\"id\":\"2775\"},{\"id\":\"2776\"}]},\"id\":\"2778\",\"type\":\"Toolbar\"},{\"attributes\":{\"children\":[{\"id\":\"2752\"},{\"id\":\"2756\"},{\"id\":\"2810\"}],\"margin\":[0,0,0,0],\"name\":\"Row02172\",\"tags\":[\"embedded\"]},\"id\":\"2751\",\"type\":\"Row\"},{\"attributes\":{\"line_alpha\":0.1,\"line_color\":\"#30a2da\",\"line_width\":2,\"x\":{\"field\":\"Years\"},\"y\":{\"field\":\"Revenue\"}},\"id\":\"2789\",\"type\":\"Line\"},{\"attributes\":{\"bottom_units\":\"screen\",\"coordinates\":null,\"fill_alpha\":0.5,\"fill_color\":\"lightgrey\",\"group\":null,\"left_units\":\"screen\",\"level\":\"overlay\",\"line_alpha\":1.0,\"line_color\":\"black\",\"line_dash\":[4,4],\"line_width\":2,\"right_units\":\"screen\",\"syncable\":false,\"top_units\":\"screen\"},\"id\":\"2777\",\"type\":\"BoxAnnotation\"},{\"attributes\":{},\"id\":\"2772\",\"type\":\"SaveTool\"},{\"attributes\":{},\"id\":\"2786\",\"type\":\"Selection\"},{\"attributes\":{},\"id\":\"2773\",\"type\":\"PanTool\"},{\"attributes\":{},\"id\":\"2776\",\"type\":\"ResetTool\"},{\"attributes\":{\"margin\":[5,5,5,5],\"name\":\"HSpacer02176\",\"sizing_mode\":\"stretch_width\"},\"id\":\"2752\",\"type\":\"Spacer\"},{\"attributes\":{},\"id\":\"2774\",\"type\":\"WheelZoomTool\"},{\"attributes\":{},\"id\":\"2798\",\"type\":\"BasicTickFormatter\"},{\"attributes\":{\"coordinates\":null,\"group\":null,\"text\":\"United States and Canada Revenue - Q1 2018 through Q2 2020\",\"text_color\":\"black\",\"text_font_size\":\"12pt\"},\"id\":\"2757\",\"type\":\"Title\"},{\"attributes\":{\"line_color\":\"#30a2da\",\"line_width\":2,\"x\":{\"field\":\"Years\"},\"y\":{\"field\":\"Revenue\"}},\"id\":\"2788\",\"type\":\"Line\"},{\"attributes\":{\"overlay\":{\"id\":\"2777\"}},\"id\":\"2775\",\"type\":\"BoxZoomTool\"},{\"attributes\":{\"line_color\":\"#30a2da\",\"line_width\":2,\"x\":{\"field\":\"Years\"},\"y\":{\"field\":\"Revenue\"}},\"id\":\"2793\",\"type\":\"Line\"},{\"attributes\":{\"data\":{\"Revenue\":[1976157000,2049546000,2094850000,2160979000,2256851000,2501199000,2621250000,2671908000,2702776000,2839670000],\"Years\":[\"Q1 - 2018\",\"Q2 - 2018\",\"Q3 - 2018\",\"Q4 - 2018\",\"Q1 - 2019\",\"Q2 - 2019\",\"Q3 - 2019\",\"Q4 - 2019\",\"Q1 - 2020\",\"Q2 - 2020\"]},\"selected\":{\"id\":\"2786\"},\"selection_policy\":{\"id\":\"2807\"}},\"id\":\"2785\",\"type\":\"ColumnDataSource\"},{\"attributes\":{\"axis_label\":\"Revenue Periods\",\"coordinates\":null,\"formatter\":{\"id\":\"2795\"},\"group\":null,\"major_label_orientation\":0.7853981633974483,\"major_label_policy\":{\"id\":\"2796\"},\"ticker\":{\"id\":\"2766\"}},\"id\":\"2765\",\"type\":\"CategoricalAxis\"},{\"attributes\":{\"margin\":[5,5,5,5],\"name\":\"HSpacer02177\",\"sizing_mode\":\"stretch_width\"},\"id\":\"2810\",\"type\":\"Spacer\"},{\"attributes\":{},\"id\":\"2766\",\"type\":\"CategoricalTicker\"},{\"attributes\":{\"axis\":{\"id\":\"2765\"},\"coordinates\":null,\"grid_line_color\":null,\"group\":null,\"ticker\":null},\"id\":\"2767\",\"type\":\"Grid\"},{\"attributes\":{},\"id\":\"2763\",\"type\":\"LinearScale\"},{\"attributes\":{\"factors\":[\"Q1 - 2018\",\"Q2 - 2018\",\"Q3 - 2018\",\"Q4 - 2018\",\"Q1 - 2019\",\"Q2 - 2019\",\"Q3 - 2019\",\"Q4 - 2019\",\"Q1 - 2020\",\"Q2 - 2020\"],\"tags\":[[[\"Years\",\"Years\",null]]]},\"id\":\"2753\",\"type\":\"FactorRange\"}],\"root_ids\":[\"2751\"]},\"title\":\"Bokeh Application\",\"version\":\"2.4.3\"}};\n",
       "    var render_items = [{\"docid\":\"5c932974-bbe7-483e-8819-133f6a53eb5d\",\"root_ids\":[\"2751\"],\"roots\":{\"2751\":\"b75db3d1-4c06-41ca-bac0-5c6745f31efc\"}}];\n",
       "    root.Bokeh.embed.embed_items_notebook(docs_json, render_items);\n",
       "  }\n",
       "  if (root.Bokeh !== undefined && root.Bokeh.Panel !== undefined) {\n",
       "    embed_document(root);\n",
       "  } else {\n",
       "    var attempts = 0;\n",
       "    var timer = setInterval(function(root) {\n",
       "      if (root.Bokeh !== undefined && root.Bokeh.Panel !== undefined) {\n",
       "        clearInterval(timer);\n",
       "        embed_document(root);\n",
       "      } else if (document.readyState == \"complete\") {\n",
       "        attempts++;\n",
       "        if (attempts > 200) {\n",
       "          clearInterval(timer);\n",
       "          console.log(\"Bokeh: ERROR: Unable to run BokehJS code because BokehJS library is missing\");\n",
       "        }\n",
       "      }\n",
       "    }, 25, root)\n",
       "  }\n",
       "})(window);</script>"
      ],
      "text/plain": [
       ":Curve   [Years]   (Revenue)"
      ]
     },
     "execution_count": 24,
     "metadata": {
      "application/vnd.holoviews_exec.v0+json": {
       "id": "2751"
      }
     },
     "output_type": "execute_result"
    }
   ],
   "source": [
    "# Add a title to your US and Canada revenue plot using the label parameter\n",
    "us_canada_revenue['Revenue'].hvplot(\n",
    "    xlabel=\"Revenue Periods\",\n",
    "    ylabel=\"Revenue\", \n",
    "    rot=45,\n",
    "    label=\"United States and Canada Revenue - Q1 2018 through Q2 2020\"\n",
    ")\n"
   ]
  },
  {
   "cell_type": "markdown",
   "metadata": {},
   "source": [
    "## Step 5: Use the yformatter option to format the y-axis values."
   ]
  },
  {
   "cell_type": "code",
   "execution_count": 30,
   "metadata": {},
   "outputs": [
    {
     "data": {},
     "metadata": {},
     "output_type": "display_data"
    },
    {
     "data": {
      "application/vnd.holoviews_exec.v0+json": "",
      "text/html": [
       "<div id='3079'>\n",
       "  <div class=\"bk-root\" id=\"1d0353a9-b5d5-454c-8cdb-1ec3dd51c967\" data-root-id=\"3079\"></div>\n",
       "</div>\n",
       "<script type=\"application/javascript\">(function(root) {\n",
       "  function embed_document(root) {\n",
       "    var docs_json = {\"56005143-37d4-4d48-8171-16383f397c3a\":{\"defs\":[{\"extends\":null,\"module\":null,\"name\":\"ReactiveHTML1\",\"overrides\":[],\"properties\":[]},{\"extends\":null,\"module\":null,\"name\":\"FlexBox1\",\"overrides\":[],\"properties\":[{\"default\":\"flex-start\",\"kind\":null,\"name\":\"align_content\"},{\"default\":\"flex-start\",\"kind\":null,\"name\":\"align_items\"},{\"default\":\"row\",\"kind\":null,\"name\":\"flex_direction\"},{\"default\":\"wrap\",\"kind\":null,\"name\":\"flex_wrap\"},{\"default\":\"flex-start\",\"kind\":null,\"name\":\"justify_content\"}]},{\"extends\":null,\"module\":null,\"name\":\"GridStack1\",\"overrides\":[],\"properties\":[{\"default\":\"warn\",\"kind\":null,\"name\":\"mode\"},{\"default\":null,\"kind\":null,\"name\":\"ncols\"},{\"default\":null,\"kind\":null,\"name\":\"nrows\"},{\"default\":true,\"kind\":null,\"name\":\"allow_resize\"},{\"default\":true,\"kind\":null,\"name\":\"allow_drag\"},{\"default\":[],\"kind\":null,\"name\":\"state\"}]},{\"extends\":null,\"module\":null,\"name\":\"click1\",\"overrides\":[],\"properties\":[{\"default\":\"\",\"kind\":null,\"name\":\"terminal_output\"},{\"default\":\"\",\"kind\":null,\"name\":\"debug_name\"},{\"default\":0,\"kind\":null,\"name\":\"clears\"}]},{\"extends\":null,\"module\":null,\"name\":\"NotificationAreaBase1\",\"overrides\":[],\"properties\":[{\"default\":\"bottom-right\",\"kind\":null,\"name\":\"position\"},{\"default\":0,\"kind\":null,\"name\":\"_clear\"}]},{\"extends\":null,\"module\":null,\"name\":\"NotificationArea1\",\"overrides\":[],\"properties\":[{\"default\":[],\"kind\":null,\"name\":\"notifications\"},{\"default\":\"bottom-right\",\"kind\":null,\"name\":\"position\"},{\"default\":0,\"kind\":null,\"name\":\"_clear\"},{\"default\":[{\"background\":\"#ffc107\",\"icon\":{\"className\":\"fas fa-exclamation-triangle\",\"color\":\"white\",\"tagName\":\"i\"},\"type\":\"warning\"},{\"background\":\"#007bff\",\"icon\":{\"className\":\"fas fa-info-circle\",\"color\":\"white\",\"tagName\":\"i\"},\"type\":\"info\"}],\"kind\":null,\"name\":\"types\"}]},{\"extends\":null,\"module\":null,\"name\":\"Notification\",\"overrides\":[],\"properties\":[{\"default\":null,\"kind\":null,\"name\":\"background\"},{\"default\":3000,\"kind\":null,\"name\":\"duration\"},{\"default\":null,\"kind\":null,\"name\":\"icon\"},{\"default\":\"\",\"kind\":null,\"name\":\"message\"},{\"default\":null,\"kind\":null,\"name\":\"notification_type\"},{\"default\":false,\"kind\":null,\"name\":\"_destroyed\"}]},{\"extends\":null,\"module\":null,\"name\":\"TemplateActions1\",\"overrides\":[],\"properties\":[{\"default\":0,\"kind\":null,\"name\":\"open_modal\"},{\"default\":0,\"kind\":null,\"name\":\"close_modal\"}]},{\"extends\":null,\"module\":null,\"name\":\"MaterialTemplateActions1\",\"overrides\":[],\"properties\":[{\"default\":0,\"kind\":null,\"name\":\"open_modal\"},{\"default\":0,\"kind\":null,\"name\":\"close_modal\"}]}],\"roots\":{\"references\":[{\"attributes\":{\"margin\":[5,5,5,5],\"name\":\"HSpacer02589\",\"sizing_mode\":\"stretch_width\"},\"id\":\"3080\",\"type\":\"Spacer\"},{\"attributes\":{\"bottom_units\":\"screen\",\"coordinates\":null,\"fill_alpha\":0.5,\"fill_color\":\"lightgrey\",\"group\":null,\"left_units\":\"screen\",\"level\":\"overlay\",\"line_alpha\":1.0,\"line_color\":\"black\",\"line_dash\":[4,4],\"line_width\":2,\"right_units\":\"screen\",\"syncable\":false,\"top_units\":\"screen\"},\"id\":\"3105\",\"type\":\"BoxAnnotation\"},{\"attributes\":{},\"id\":\"3097\",\"type\":\"BasicTicker\"},{\"attributes\":{},\"id\":\"3124\",\"type\":\"AllLabels\"},{\"attributes\":{\"axis_label\":\"Revenue\",\"coordinates\":null,\"formatter\":{\"id\":\"3078\"},\"group\":null,\"major_label_policy\":{\"id\":\"3127\"},\"ticker\":{\"id\":\"3097\"}},\"id\":\"3096\",\"type\":\"LinearAxis\"},{\"attributes\":{\"line_alpha\":0.2,\"line_color\":\"#30a2da\",\"line_width\":2,\"x\":{\"field\":\"Years\"},\"y\":{\"field\":\"Revenue\"}},\"id\":\"3118\",\"type\":\"Line\"},{\"attributes\":{\"children\":[{\"id\":\"3080\"},{\"id\":\"3084\"},{\"id\":\"3139\"}],\"margin\":[0,0,0,0],\"name\":\"Row02585\",\"tags\":[\"embedded\"]},\"id\":\"3079\",\"type\":\"Row\"},{\"attributes\":{\"axis\":{\"id\":\"3096\"},\"coordinates\":null,\"dimension\":1,\"grid_line_color\":null,\"group\":null,\"ticker\":null},\"id\":\"3099\",\"type\":\"Grid\"},{\"attributes\":{\"coordinates\":null,\"data_source\":{\"id\":\"3113\"},\"glyph\":{\"id\":\"3116\"},\"group\":null,\"hover_glyph\":null,\"muted_glyph\":{\"id\":\"3118\"},\"nonselection_glyph\":{\"id\":\"3117\"},\"selection_glyph\":{\"id\":\"3121\"},\"view\":{\"id\":\"3120\"}},\"id\":\"3119\",\"type\":\"GlyphRenderer\"},{\"attributes\":{\"end\":2926021300.0,\"reset_end\":2926021300.0,\"reset_start\":1889805700.0,\"start\":1889805700.0,\"tags\":[[[\"Revenue\",\"Revenue\",null]]]},\"id\":\"3082\",\"type\":\"Range1d\"},{\"attributes\":{\"callback\":null,\"renderers\":[{\"id\":\"3119\"}],\"tags\":[\"hv_created\"],\"tooltips\":[[\"Years\",\"@{Years}\"],[\"Revenue\",\"@{Revenue}\"]]},\"id\":\"3083\",\"type\":\"HoverTool\"},{\"attributes\":{},\"id\":\"3078\",\"type\":\"NumeralTickFormatter\"},{\"attributes\":{\"below\":[{\"id\":\"3093\"}],\"center\":[{\"id\":\"3095\"},{\"id\":\"3099\"}],\"height\":300,\"left\":[{\"id\":\"3096\"}],\"margin\":[5,5,5,5],\"min_border_bottom\":10,\"min_border_left\":10,\"min_border_right\":10,\"min_border_top\":10,\"renderers\":[{\"id\":\"3119\"}],\"sizing_mode\":\"fixed\",\"title\":{\"id\":\"3085\"},\"toolbar\":{\"id\":\"3106\"},\"width\":700,\"x_range\":{\"id\":\"3081\"},\"x_scale\":{\"id\":\"3089\"},\"y_range\":{\"id\":\"3082\"},\"y_scale\":{\"id\":\"3091\"}},\"id\":\"3084\",\"subtype\":\"Figure\",\"type\":\"Plot\"},{\"attributes\":{\"line_color\":\"#30a2da\",\"line_width\":2,\"x\":{\"field\":\"Years\"},\"y\":{\"field\":\"Revenue\"}},\"id\":\"3121\",\"type\":\"Line\"},{\"attributes\":{\"source\":{\"id\":\"3113\"}},\"id\":\"3120\",\"type\":\"CDSView\"},{\"attributes\":{\"line_color\":\"#30a2da\",\"line_width\":2,\"x\":{\"field\":\"Years\"},\"y\":{\"field\":\"Revenue\"}},\"id\":\"3116\",\"type\":\"Line\"},{\"attributes\":{},\"id\":\"3127\",\"type\":\"AllLabels\"},{\"attributes\":{},\"id\":\"3100\",\"type\":\"SaveTool\"},{\"attributes\":{},\"id\":\"3114\",\"type\":\"Selection\"},{\"attributes\":{\"line_alpha\":0.1,\"line_color\":\"#30a2da\",\"line_width\":2,\"x\":{\"field\":\"Years\"},\"y\":{\"field\":\"Revenue\"}},\"id\":\"3117\",\"type\":\"Line\"},{\"attributes\":{},\"id\":\"3101\",\"type\":\"PanTool\"},{\"attributes\":{\"coordinates\":null,\"group\":null,\"text\":\"United States and Canada Revenue - Q1 2018 through Q2 2020\",\"text_color\":\"black\",\"text_font_size\":\"12pt\"},\"id\":\"3085\",\"type\":\"Title\"},{\"attributes\":{},\"id\":\"3104\",\"type\":\"ResetTool\"},{\"attributes\":{},\"id\":\"3102\",\"type\":\"WheelZoomTool\"},{\"attributes\":{},\"id\":\"3123\",\"type\":\"CategoricalTickFormatter\"},{\"attributes\":{\"overlay\":{\"id\":\"3105\"}},\"id\":\"3103\",\"type\":\"BoxZoomTool\"},{\"attributes\":{},\"id\":\"3094\",\"type\":\"CategoricalTicker\"},{\"attributes\":{},\"id\":\"3136\",\"type\":\"UnionRenderers\"},{\"attributes\":{\"data\":{\"Revenue\":[1976157000,2049546000,2094850000,2160979000,2256851000,2501199000,2621250000,2671908000,2702776000,2839670000],\"Years\":[\"Q1 - 2018\",\"Q2 - 2018\",\"Q3 - 2018\",\"Q4 - 2018\",\"Q1 - 2019\",\"Q2 - 2019\",\"Q3 - 2019\",\"Q4 - 2019\",\"Q1 - 2020\",\"Q2 - 2020\"]},\"selected\":{\"id\":\"3114\"},\"selection_policy\":{\"id\":\"3136\"}},\"id\":\"3113\",\"type\":\"ColumnDataSource\"},{\"attributes\":{\"margin\":[5,5,5,5],\"name\":\"HSpacer02590\",\"sizing_mode\":\"stretch_width\"},\"id\":\"3139\",\"type\":\"Spacer\"},{\"attributes\":{},\"id\":\"3089\",\"type\":\"CategoricalScale\"},{\"attributes\":{\"axis_label\":\"Revenue Periods\",\"coordinates\":null,\"formatter\":{\"id\":\"3123\"},\"group\":null,\"major_label_orientation\":0.7853981633974483,\"major_label_policy\":{\"id\":\"3124\"},\"ticker\":{\"id\":\"3094\"}},\"id\":\"3093\",\"type\":\"CategoricalAxis\"},{\"attributes\":{\"tools\":[{\"id\":\"3083\"},{\"id\":\"3100\"},{\"id\":\"3101\"},{\"id\":\"3102\"},{\"id\":\"3103\"},{\"id\":\"3104\"}]},\"id\":\"3106\",\"type\":\"Toolbar\"},{\"attributes\":{\"axis\":{\"id\":\"3093\"},\"coordinates\":null,\"grid_line_color\":null,\"group\":null,\"ticker\":null},\"id\":\"3095\",\"type\":\"Grid\"},{\"attributes\":{},\"id\":\"3091\",\"type\":\"LinearScale\"},{\"attributes\":{\"factors\":[\"Q1 - 2018\",\"Q2 - 2018\",\"Q3 - 2018\",\"Q4 - 2018\",\"Q1 - 2019\",\"Q2 - 2019\",\"Q3 - 2019\",\"Q4 - 2019\",\"Q1 - 2020\",\"Q2 - 2020\"],\"tags\":[[[\"Years\",\"Years\",null]]]},\"id\":\"3081\",\"type\":\"FactorRange\"}],\"root_ids\":[\"3079\"]},\"title\":\"Bokeh Application\",\"version\":\"2.4.3\"}};\n",
       "    var render_items = [{\"docid\":\"56005143-37d4-4d48-8171-16383f397c3a\",\"root_ids\":[\"3079\"],\"roots\":{\"3079\":\"1d0353a9-b5d5-454c-8cdb-1ec3dd51c967\"}}];\n",
       "    root.Bokeh.embed.embed_items_notebook(docs_json, render_items);\n",
       "  }\n",
       "  if (root.Bokeh !== undefined && root.Bokeh.Panel !== undefined) {\n",
       "    embed_document(root);\n",
       "  } else {\n",
       "    var attempts = 0;\n",
       "    var timer = setInterval(function(root) {\n",
       "      if (root.Bokeh !== undefined && root.Bokeh.Panel !== undefined) {\n",
       "        clearInterval(timer);\n",
       "        embed_document(root);\n",
       "      } else if (document.readyState == \"complete\") {\n",
       "        attempts++;\n",
       "        if (attempts > 200) {\n",
       "          clearInterval(timer);\n",
       "          console.log(\"Bokeh: ERROR: Unable to run BokehJS code because BokehJS library is missing\");\n",
       "        }\n",
       "      }\n",
       "    }, 25, root)\n",
       "  }\n",
       "})(window);</script>"
      ],
      "text/plain": [
       ":Curve   [Years]   (Revenue)"
      ]
     },
     "execution_count": 30,
     "metadata": {
      "application/vnd.holoviews_exec.v0+json": {
       "id": "3079"
      }
     },
     "output_type": "execute_result"
    }
   ],
   "source": [
    "# Use the yformatter to adjust the y-axis values\n",
    "us_canada_revenue['Revenue'].hvplot(\n",
    "    xlabel='Revenue Periods',\n",
    "    ylabel='Revenue', \n",
    "    rot=45,\n",
    "    label='United States and Canada Revenue - Q1 2018 through Q2 2020'\n",
    ").opts(\n",
    "    yformatter='$ %.0f'\n",
    ").opts(\n",
    "    yformatter=NumeralTickFormatter(format='0,0')\n",
    ")"
   ]
  },
  {
   "cell_type": "markdown",
   "metadata": {},
   "source": [
    "## Step 6: Add a line_color of blue and hover_line_color of yellow to the plot."
   ]
  },
  {
   "cell_type": "code",
   "execution_count": 7,
   "metadata": {},
   "outputs": [
    {
     "data": {},
     "metadata": {},
     "output_type": "display_data"
    },
    {
     "data": {
      "application/vnd.holoviews_exec.v0+json": "",
      "text/html": [
       "<div id='1443'>\n",
       "  <div class=\"bk-root\" id=\"debfcb4b-0525-46ba-9f0c-6f3efa96b78a\" data-root-id=\"1443\"></div>\n",
       "</div>\n",
       "<script type=\"application/javascript\">(function(root) {\n",
       "  function embed_document(root) {\n",
       "    var docs_json = {\"335be928-5bb6-42f9-93d8-9946b0bc395c\":{\"defs\":[{\"extends\":null,\"module\":null,\"name\":\"ReactiveHTML1\",\"overrides\":[],\"properties\":[]},{\"extends\":null,\"module\":null,\"name\":\"FlexBox1\",\"overrides\":[],\"properties\":[{\"default\":\"flex-start\",\"kind\":null,\"name\":\"align_content\"},{\"default\":\"flex-start\",\"kind\":null,\"name\":\"align_items\"},{\"default\":\"row\",\"kind\":null,\"name\":\"flex_direction\"},{\"default\":\"wrap\",\"kind\":null,\"name\":\"flex_wrap\"},{\"default\":\"flex-start\",\"kind\":null,\"name\":\"justify_content\"}]},{\"extends\":null,\"module\":null,\"name\":\"GridStack1\",\"overrides\":[],\"properties\":[{\"default\":\"warn\",\"kind\":null,\"name\":\"mode\"},{\"default\":null,\"kind\":null,\"name\":\"ncols\"},{\"default\":null,\"kind\":null,\"name\":\"nrows\"},{\"default\":true,\"kind\":null,\"name\":\"allow_resize\"},{\"default\":true,\"kind\":null,\"name\":\"allow_drag\"},{\"default\":[],\"kind\":null,\"name\":\"state\"}]},{\"extends\":null,\"module\":null,\"name\":\"click1\",\"overrides\":[],\"properties\":[{\"default\":\"\",\"kind\":null,\"name\":\"terminal_output\"},{\"default\":\"\",\"kind\":null,\"name\":\"debug_name\"},{\"default\":0,\"kind\":null,\"name\":\"clears\"}]},{\"extends\":null,\"module\":null,\"name\":\"NotificationAreaBase1\",\"overrides\":[],\"properties\":[{\"default\":\"bottom-right\",\"kind\":null,\"name\":\"position\"},{\"default\":0,\"kind\":null,\"name\":\"_clear\"}]},{\"extends\":null,\"module\":null,\"name\":\"NotificationArea1\",\"overrides\":[],\"properties\":[{\"default\":[],\"kind\":null,\"name\":\"notifications\"},{\"default\":\"bottom-right\",\"kind\":null,\"name\":\"position\"},{\"default\":0,\"kind\":null,\"name\":\"_clear\"},{\"default\":[{\"background\":\"#ffc107\",\"icon\":{\"className\":\"fas fa-exclamation-triangle\",\"color\":\"white\",\"tagName\":\"i\"},\"type\":\"warning\"},{\"background\":\"#007bff\",\"icon\":{\"className\":\"fas fa-info-circle\",\"color\":\"white\",\"tagName\":\"i\"},\"type\":\"info\"}],\"kind\":null,\"name\":\"types\"}]},{\"extends\":null,\"module\":null,\"name\":\"Notification\",\"overrides\":[],\"properties\":[{\"default\":null,\"kind\":null,\"name\":\"background\"},{\"default\":3000,\"kind\":null,\"name\":\"duration\"},{\"default\":null,\"kind\":null,\"name\":\"icon\"},{\"default\":\"\",\"kind\":null,\"name\":\"message\"},{\"default\":null,\"kind\":null,\"name\":\"notification_type\"},{\"default\":false,\"kind\":null,\"name\":\"_destroyed\"}]},{\"extends\":null,\"module\":null,\"name\":\"TemplateActions1\",\"overrides\":[],\"properties\":[{\"default\":0,\"kind\":null,\"name\":\"open_modal\"},{\"default\":0,\"kind\":null,\"name\":\"close_modal\"}]},{\"extends\":null,\"module\":null,\"name\":\"MaterialTemplateActions1\",\"overrides\":[],\"properties\":[{\"default\":0,\"kind\":null,\"name\":\"open_modal\"},{\"default\":0,\"kind\":null,\"name\":\"close_modal\"}]}],\"roots\":{\"references\":[{\"attributes\":{\"line_color\":\"blue\",\"line_width\":2,\"x\":{\"field\":\"Years\"},\"y\":{\"field\":\"Revenue\"}},\"id\":\"1486\",\"type\":\"Line\"},{\"attributes\":{\"data\":{\"Revenue\":[1976157000,2049546000,2094850000,2160979000,2256851000,2501199000,2621250000,2671908000,2702776000,2839670000],\"Years\":[\"Q1 - 2018\",\"Q2 - 2018\",\"Q3 - 2018\",\"Q4 - 2018\",\"Q1 - 2019\",\"Q2 - 2019\",\"Q3 - 2019\",\"Q4 - 2019\",\"Q1 - 2020\",\"Q2 - 2020\"]},\"selected\":{\"id\":\"1478\"},\"selection_policy\":{\"id\":\"1502\"}},\"id\":\"1477\",\"type\":\"ColumnDataSource\"},{\"attributes\":{},\"id\":\"1468\",\"type\":\"ResetTool\"},{\"attributes\":{},\"id\":\"1453\",\"type\":\"CategoricalScale\"},{\"attributes\":{\"axis_label\":\"Revenue Periods\",\"coordinates\":null,\"formatter\":{\"id\":\"1489\"},\"group\":null,\"major_label_orientation\":0.7853981633974483,\"major_label_policy\":{\"id\":\"1490\"},\"ticker\":{\"id\":\"1458\"}},\"id\":\"1457\",\"type\":\"CategoricalAxis\"},{\"attributes\":{},\"id\":\"1455\",\"type\":\"LinearScale\"},{\"attributes\":{\"tools\":[{\"id\":\"1447\"},{\"id\":\"1464\"},{\"id\":\"1465\"},{\"id\":\"1466\"},{\"id\":\"1467\"},{\"id\":\"1468\"}]},\"id\":\"1470\",\"type\":\"Toolbar\"},{\"attributes\":{\"factors\":[\"Q1 - 2018\",\"Q2 - 2018\",\"Q3 - 2018\",\"Q4 - 2018\",\"Q1 - 2019\",\"Q2 - 2019\",\"Q3 - 2019\",\"Q4 - 2019\",\"Q1 - 2020\",\"Q2 - 2020\"],\"tags\":[[[\"Years\",\"Years\",null]]]},\"id\":\"1445\",\"type\":\"FactorRange\"},{\"attributes\":{},\"id\":\"1461\",\"type\":\"BasicTicker\"},{\"attributes\":{},\"id\":\"1502\",\"type\":\"UnionRenderers\"},{\"attributes\":{\"overlay\":{\"id\":\"1469\"}},\"id\":\"1467\",\"type\":\"BoxZoomTool\"},{\"attributes\":{},\"id\":\"1458\",\"type\":\"CategoricalTicker\"},{\"attributes\":{\"bottom_units\":\"screen\",\"coordinates\":null,\"fill_alpha\":0.5,\"fill_color\":\"lightgrey\",\"group\":null,\"left_units\":\"screen\",\"level\":\"overlay\",\"line_alpha\":1.0,\"line_color\":\"black\",\"line_dash\":[4,4],\"line_width\":2,\"right_units\":\"screen\",\"syncable\":false,\"top_units\":\"screen\"},\"id\":\"1469\",\"type\":\"BoxAnnotation\"},{\"attributes\":{},\"id\":\"1489\",\"type\":\"CategoricalTickFormatter\"},{\"attributes\":{\"axis_label\":\"Revenue\",\"coordinates\":null,\"formatter\":{\"id\":\"1487\"},\"group\":null,\"major_label_policy\":{\"id\":\"1493\"},\"ticker\":{\"id\":\"1461\"}},\"id\":\"1460\",\"type\":\"LinearAxis\"},{\"attributes\":{\"line_color\":\"blue\",\"line_width\":2,\"x\":{\"field\":\"Years\"},\"y\":{\"field\":\"Revenue\"}},\"id\":\"1480\",\"type\":\"Line\"},{\"attributes\":{\"axis\":{\"id\":\"1460\"},\"coordinates\":null,\"dimension\":1,\"grid_line_color\":null,\"group\":null,\"ticker\":null},\"id\":\"1463\",\"type\":\"Grid\"},{\"attributes\":{\"coordinates\":null,\"data_source\":{\"id\":\"1477\"},\"glyph\":{\"id\":\"1480\"},\"group\":null,\"hover_glyph\":{\"id\":\"1482\"},\"muted_glyph\":{\"id\":\"1483\"},\"nonselection_glyph\":{\"id\":\"1481\"},\"selection_glyph\":{\"id\":\"1486\"},\"view\":{\"id\":\"1485\"}},\"id\":\"1484\",\"type\":\"GlyphRenderer\"},{\"attributes\":{\"children\":[{\"id\":\"1444\"},{\"id\":\"1448\"},{\"id\":\"1505\"}],\"margin\":[0,0,0,0],\"name\":\"Row01193\",\"tags\":[\"embedded\"]},\"id\":\"1443\",\"type\":\"Row\"},{\"attributes\":{\"end\":2926021300.0,\"reset_end\":2926021300.0,\"reset_start\":1889805700.0,\"start\":1889805700.0,\"tags\":[[[\"Revenue\",\"Revenue\",null]]]},\"id\":\"1446\",\"type\":\"Range1d\"},{\"attributes\":{\"format\":\"%.0f\"},\"id\":\"1487\",\"type\":\"PrintfTickFormatter\"},{\"attributes\":{},\"id\":\"1478\",\"type\":\"Selection\"},{\"attributes\":{\"source\":{\"id\":\"1477\"}},\"id\":\"1485\",\"type\":\"CDSView\"},{\"attributes\":{\"line_alpha\":0.1,\"line_color\":\"blue\",\"line_width\":2,\"x\":{\"field\":\"Years\"},\"y\":{\"field\":\"Revenue\"}},\"id\":\"1481\",\"type\":\"Line\"},{\"attributes\":{\"below\":[{\"id\":\"1457\"}],\"center\":[{\"id\":\"1459\"},{\"id\":\"1463\"}],\"height\":300,\"left\":[{\"id\":\"1460\"}],\"margin\":[5,5,5,5],\"min_border_bottom\":10,\"min_border_left\":10,\"min_border_right\":10,\"min_border_top\":10,\"renderers\":[{\"id\":\"1484\"}],\"sizing_mode\":\"fixed\",\"title\":{\"id\":\"1449\"},\"toolbar\":{\"id\":\"1470\"},\"width\":700,\"x_range\":{\"id\":\"1445\"},\"x_scale\":{\"id\":\"1453\"},\"y_range\":{\"id\":\"1446\"},\"y_scale\":{\"id\":\"1455\"}},\"id\":\"1448\",\"subtype\":\"Figure\",\"type\":\"Plot\"},{\"attributes\":{\"line_color\":\"yellow\",\"line_width\":2,\"x\":{\"field\":\"Years\"},\"y\":{\"field\":\"Revenue\"}},\"id\":\"1482\",\"type\":\"Line\"},{\"attributes\":{\"callback\":null,\"renderers\":[{\"id\":\"1484\"}],\"tags\":[\"hv_created\"],\"tooltips\":[[\"Years\",\"@{Years}\"],[\"Revenue\",\"@{Revenue}\"]]},\"id\":\"1447\",\"type\":\"HoverTool\"},{\"attributes\":{},\"id\":\"1464\",\"type\":\"SaveTool\"},{\"attributes\":{},\"id\":\"1465\",\"type\":\"PanTool\"},{\"attributes\":{\"margin\":[5,5,5,5],\"name\":\"HSpacer01197\",\"sizing_mode\":\"stretch_width\"},\"id\":\"1444\",\"type\":\"Spacer\"},{\"attributes\":{\"coordinates\":null,\"group\":null,\"text\":\"United States and Canada Revenue - Q1 2018 through Q2 2020\",\"text_color\":\"black\",\"text_font_size\":\"12pt\"},\"id\":\"1449\",\"type\":\"Title\"},{\"attributes\":{},\"id\":\"1466\",\"type\":\"WheelZoomTool\"},{\"attributes\":{},\"id\":\"1493\",\"type\":\"AllLabels\"},{\"attributes\":{\"margin\":[5,5,5,5],\"name\":\"HSpacer01198\",\"sizing_mode\":\"stretch_width\"},\"id\":\"1505\",\"type\":\"Spacer\"},{\"attributes\":{},\"id\":\"1490\",\"type\":\"AllLabels\"},{\"attributes\":{\"line_alpha\":0.2,\"line_color\":\"blue\",\"line_width\":2,\"x\":{\"field\":\"Years\"},\"y\":{\"field\":\"Revenue\"}},\"id\":\"1483\",\"type\":\"Line\"},{\"attributes\":{\"axis\":{\"id\":\"1457\"},\"coordinates\":null,\"grid_line_color\":null,\"group\":null,\"ticker\":null},\"id\":\"1459\",\"type\":\"Grid\"}],\"root_ids\":[\"1443\"]},\"title\":\"Bokeh Application\",\"version\":\"2.4.3\"}};\n",
       "    var render_items = [{\"docid\":\"335be928-5bb6-42f9-93d8-9946b0bc395c\",\"root_ids\":[\"1443\"],\"roots\":{\"1443\":\"debfcb4b-0525-46ba-9f0c-6f3efa96b78a\"}}];\n",
       "    root.Bokeh.embed.embed_items_notebook(docs_json, render_items);\n",
       "  }\n",
       "  if (root.Bokeh !== undefined && root.Bokeh.Panel !== undefined) {\n",
       "    embed_document(root);\n",
       "  } else {\n",
       "    var attempts = 0;\n",
       "    var timer = setInterval(function(root) {\n",
       "      if (root.Bokeh !== undefined && root.Bokeh.Panel !== undefined) {\n",
       "        clearInterval(timer);\n",
       "        embed_document(root);\n",
       "      } else if (document.readyState == \"complete\") {\n",
       "        attempts++;\n",
       "        if (attempts > 200) {\n",
       "          clearInterval(timer);\n",
       "          console.log(\"Bokeh: ERROR: Unable to run BokehJS code because BokehJS library is missing\");\n",
       "        }\n",
       "      }\n",
       "    }, 25, root)\n",
       "  }\n",
       "})(window);</script>"
      ],
      "text/plain": [
       ":Curve   [Years]   (Revenue)"
      ]
     },
     "execution_count": 7,
     "metadata": {
      "application/vnd.holoviews_exec.v0+json": {
       "id": "1443"
      }
     },
     "output_type": "execute_result"
    }
   ],
   "source": [
    "# Add a line_color of blue and a hover_line_color of yellow\n",
    "us_canada_revenue['Revenue'].hvplot(\n",
    "    xlabel='Revenue Periods',\n",
    "    ylabel='Revenue', \n",
    "    rot=45,\n",
    "    label='United States and Canada Revenue - Q1 2018 through Q2 2020'\n",
    ").opts(\n",
    "    yformatter='%.0f', \n",
    "    line_color=\"blue\", \n",
    "    hover_line_color=\"yellow\"\n",
    ")"
   ]
  },
  {
   "cell_type": "markdown",
   "metadata": {},
   "source": [
    "## Step 7. Save the plot you just created to a variable so that it can eventually be utilized in an overlay plot."
   ]
  },
  {
   "cell_type": "code",
   "execution_count": 8,
   "metadata": {},
   "outputs": [
    {
     "data": {},
     "metadata": {},
     "output_type": "display_data"
    },
    {
     "data": {
      "application/vnd.holoviews_exec.v0+json": "",
      "text/html": [
       "<div id='1552'>\n",
       "  <div class=\"bk-root\" id=\"2ecf221b-03ec-4521-a319-fc0297ef4e29\" data-root-id=\"1552\"></div>\n",
       "</div>\n",
       "<script type=\"application/javascript\">(function(root) {\n",
       "  function embed_document(root) {\n",
       "    var docs_json = {\"2f0efd8b-0e64-4c66-8919-9072eac95325\":{\"defs\":[{\"extends\":null,\"module\":null,\"name\":\"ReactiveHTML1\",\"overrides\":[],\"properties\":[]},{\"extends\":null,\"module\":null,\"name\":\"FlexBox1\",\"overrides\":[],\"properties\":[{\"default\":\"flex-start\",\"kind\":null,\"name\":\"align_content\"},{\"default\":\"flex-start\",\"kind\":null,\"name\":\"align_items\"},{\"default\":\"row\",\"kind\":null,\"name\":\"flex_direction\"},{\"default\":\"wrap\",\"kind\":null,\"name\":\"flex_wrap\"},{\"default\":\"flex-start\",\"kind\":null,\"name\":\"justify_content\"}]},{\"extends\":null,\"module\":null,\"name\":\"GridStack1\",\"overrides\":[],\"properties\":[{\"default\":\"warn\",\"kind\":null,\"name\":\"mode\"},{\"default\":null,\"kind\":null,\"name\":\"ncols\"},{\"default\":null,\"kind\":null,\"name\":\"nrows\"},{\"default\":true,\"kind\":null,\"name\":\"allow_resize\"},{\"default\":true,\"kind\":null,\"name\":\"allow_drag\"},{\"default\":[],\"kind\":null,\"name\":\"state\"}]},{\"extends\":null,\"module\":null,\"name\":\"click1\",\"overrides\":[],\"properties\":[{\"default\":\"\",\"kind\":null,\"name\":\"terminal_output\"},{\"default\":\"\",\"kind\":null,\"name\":\"debug_name\"},{\"default\":0,\"kind\":null,\"name\":\"clears\"}]},{\"extends\":null,\"module\":null,\"name\":\"NotificationAreaBase1\",\"overrides\":[],\"properties\":[{\"default\":\"bottom-right\",\"kind\":null,\"name\":\"position\"},{\"default\":0,\"kind\":null,\"name\":\"_clear\"}]},{\"extends\":null,\"module\":null,\"name\":\"NotificationArea1\",\"overrides\":[],\"properties\":[{\"default\":[],\"kind\":null,\"name\":\"notifications\"},{\"default\":\"bottom-right\",\"kind\":null,\"name\":\"position\"},{\"default\":0,\"kind\":null,\"name\":\"_clear\"},{\"default\":[{\"background\":\"#ffc107\",\"icon\":{\"className\":\"fas fa-exclamation-triangle\",\"color\":\"white\",\"tagName\":\"i\"},\"type\":\"warning\"},{\"background\":\"#007bff\",\"icon\":{\"className\":\"fas fa-info-circle\",\"color\":\"white\",\"tagName\":\"i\"},\"type\":\"info\"}],\"kind\":null,\"name\":\"types\"}]},{\"extends\":null,\"module\":null,\"name\":\"Notification\",\"overrides\":[],\"properties\":[{\"default\":null,\"kind\":null,\"name\":\"background\"},{\"default\":3000,\"kind\":null,\"name\":\"duration\"},{\"default\":null,\"kind\":null,\"name\":\"icon\"},{\"default\":\"\",\"kind\":null,\"name\":\"message\"},{\"default\":null,\"kind\":null,\"name\":\"notification_type\"},{\"default\":false,\"kind\":null,\"name\":\"_destroyed\"}]},{\"extends\":null,\"module\":null,\"name\":\"TemplateActions1\",\"overrides\":[],\"properties\":[{\"default\":0,\"kind\":null,\"name\":\"open_modal\"},{\"default\":0,\"kind\":null,\"name\":\"close_modal\"}]},{\"extends\":null,\"module\":null,\"name\":\"MaterialTemplateActions1\",\"overrides\":[],\"properties\":[{\"default\":0,\"kind\":null,\"name\":\"open_modal\"},{\"default\":0,\"kind\":null,\"name\":\"close_modal\"}]}],\"roots\":{\"references\":[{\"attributes\":{\"bottom_units\":\"screen\",\"coordinates\":null,\"fill_alpha\":0.5,\"fill_color\":\"lightgrey\",\"group\":null,\"left_units\":\"screen\",\"level\":\"overlay\",\"line_alpha\":1.0,\"line_color\":\"black\",\"line_dash\":[4,4],\"line_width\":2,\"right_units\":\"screen\",\"syncable\":false,\"top_units\":\"screen\"},\"id\":\"1578\",\"type\":\"BoxAnnotation\"},{\"attributes\":{},\"id\":\"1573\",\"type\":\"SaveTool\"},{\"attributes\":{},\"id\":\"1574\",\"type\":\"PanTool\"},{\"attributes\":{},\"id\":\"1602\",\"type\":\"AllLabels\"},{\"attributes\":{\"coordinates\":null,\"group\":null,\"text\":\"United States and Canada Revenue - Q1 2018 through Q2 2020\",\"text_color\":\"black\",\"text_font_size\":\"12pt\"},\"id\":\"1558\",\"type\":\"Title\"},{\"attributes\":{},\"id\":\"1577\",\"type\":\"ResetTool\"},{\"attributes\":{},\"id\":\"1575\",\"type\":\"WheelZoomTool\"},{\"attributes\":{},\"id\":\"1611\",\"type\":\"UnionRenderers\"},{\"attributes\":{},\"id\":\"1587\",\"type\":\"Selection\"},{\"attributes\":{\"line_alpha\":0.1,\"line_color\":\"blue\",\"line_width\":2,\"x\":{\"field\":\"Years\"},\"y\":{\"field\":\"Revenue\"}},\"id\":\"1590\",\"type\":\"Line\"},{\"attributes\":{\"axis\":{\"id\":\"1566\"},\"coordinates\":null,\"grid_line_color\":null,\"group\":null,\"ticker\":null},\"id\":\"1568\",\"type\":\"Grid\"},{\"attributes\":{\"overlay\":{\"id\":\"1578\"}},\"id\":\"1576\",\"type\":\"BoxZoomTool\"},{\"attributes\":{\"line_color\":\"blue\",\"line_width\":2,\"x\":{\"field\":\"Years\"},\"y\":{\"field\":\"Revenue\"}},\"id\":\"1595\",\"type\":\"Line\"},{\"attributes\":{\"margin\":[5,5,5,5],\"name\":\"HSpacer01298\",\"sizing_mode\":\"stretch_width\"},\"id\":\"1614\",\"type\":\"Spacer\"},{\"attributes\":{},\"id\":\"1562\",\"type\":\"CategoricalScale\"},{\"attributes\":{\"axis_label\":\"Revenue Periods\",\"coordinates\":null,\"formatter\":{\"id\":\"1598\"},\"group\":null,\"major_label_orientation\":0.7853981633974483,\"major_label_policy\":{\"id\":\"1599\"},\"ticker\":{\"id\":\"1567\"}},\"id\":\"1566\",\"type\":\"CategoricalAxis\"},{\"attributes\":{\"data\":{\"Revenue\":[1976157000,2049546000,2094850000,2160979000,2256851000,2501199000,2621250000,2671908000,2702776000,2839670000],\"Years\":[\"Q1 - 2018\",\"Q2 - 2018\",\"Q3 - 2018\",\"Q4 - 2018\",\"Q1 - 2019\",\"Q2 - 2019\",\"Q3 - 2019\",\"Q4 - 2019\",\"Q1 - 2020\",\"Q2 - 2020\"]},\"selected\":{\"id\":\"1587\"},\"selection_policy\":{\"id\":\"1611\"}},\"id\":\"1586\",\"type\":\"ColumnDataSource\"},{\"attributes\":{\"coordinates\":null,\"data_source\":{\"id\":\"1586\"},\"glyph\":{\"id\":\"1589\"},\"group\":null,\"hover_glyph\":{\"id\":\"1591\"},\"muted_glyph\":{\"id\":\"1592\"},\"nonselection_glyph\":{\"id\":\"1590\"},\"selection_glyph\":{\"id\":\"1595\"},\"view\":{\"id\":\"1594\"}},\"id\":\"1593\",\"type\":\"GlyphRenderer\"},{\"attributes\":{\"line_alpha\":0.2,\"line_color\":\"blue\",\"line_width\":2,\"x\":{\"field\":\"Years\"},\"y\":{\"field\":\"Revenue\"}},\"id\":\"1592\",\"type\":\"Line\"},{\"attributes\":{\"line_color\":\"blue\",\"line_width\":2,\"x\":{\"field\":\"Years\"},\"y\":{\"field\":\"Revenue\"}},\"id\":\"1589\",\"type\":\"Line\"},{\"attributes\":{\"children\":[{\"id\":\"1553\"},{\"id\":\"1557\"},{\"id\":\"1614\"}],\"margin\":[0,0,0,0],\"name\":\"Row01293\",\"tags\":[\"embedded\"]},\"id\":\"1552\",\"type\":\"Row\"},{\"attributes\":{},\"id\":\"1564\",\"type\":\"LinearScale\"},{\"attributes\":{\"tools\":[{\"id\":\"1556\"},{\"id\":\"1573\"},{\"id\":\"1574\"},{\"id\":\"1575\"},{\"id\":\"1576\"},{\"id\":\"1577\"}]},\"id\":\"1579\",\"type\":\"Toolbar\"},{\"attributes\":{\"factors\":[\"Q1 - 2018\",\"Q2 - 2018\",\"Q3 - 2018\",\"Q4 - 2018\",\"Q1 - 2019\",\"Q2 - 2019\",\"Q3 - 2019\",\"Q4 - 2019\",\"Q1 - 2020\",\"Q2 - 2020\"],\"tags\":[[[\"Years\",\"Years\",null]]]},\"id\":\"1554\",\"type\":\"FactorRange\"},{\"attributes\":{},\"id\":\"1570\",\"type\":\"BasicTicker\"},{\"attributes\":{},\"id\":\"1567\",\"type\":\"CategoricalTicker\"},{\"attributes\":{},\"id\":\"1598\",\"type\":\"CategoricalTickFormatter\"},{\"attributes\":{\"axis_label\":\"Revenue\",\"coordinates\":null,\"formatter\":{\"id\":\"1596\"},\"group\":null,\"major_label_policy\":{\"id\":\"1602\"},\"ticker\":{\"id\":\"1570\"}},\"id\":\"1569\",\"type\":\"LinearAxis\"},{\"attributes\":{\"axis\":{\"id\":\"1569\"},\"coordinates\":null,\"dimension\":1,\"grid_line_color\":null,\"group\":null,\"ticker\":null},\"id\":\"1572\",\"type\":\"Grid\"},{\"attributes\":{\"margin\":[5,5,5,5],\"name\":\"HSpacer01297\",\"sizing_mode\":\"stretch_width\"},\"id\":\"1553\",\"type\":\"Spacer\"},{\"attributes\":{\"line_color\":\"yellow\",\"line_width\":2,\"x\":{\"field\":\"Years\"},\"y\":{\"field\":\"Revenue\"}},\"id\":\"1591\",\"type\":\"Line\"},{\"attributes\":{\"format\":\"%.0f\"},\"id\":\"1596\",\"type\":\"PrintfTickFormatter\"},{\"attributes\":{\"end\":2926021300.0,\"reset_end\":2926021300.0,\"reset_start\":1889805700.0,\"start\":1889805700.0,\"tags\":[[[\"Revenue\",\"Revenue\",null]]]},\"id\":\"1555\",\"type\":\"Range1d\"},{\"attributes\":{\"source\":{\"id\":\"1586\"}},\"id\":\"1594\",\"type\":\"CDSView\"},{\"attributes\":{},\"id\":\"1599\",\"type\":\"AllLabels\"},{\"attributes\":{\"below\":[{\"id\":\"1566\"}],\"center\":[{\"id\":\"1568\"},{\"id\":\"1572\"}],\"height\":300,\"left\":[{\"id\":\"1569\"}],\"margin\":[5,5,5,5],\"min_border_bottom\":10,\"min_border_left\":10,\"min_border_right\":10,\"min_border_top\":10,\"renderers\":[{\"id\":\"1593\"}],\"sizing_mode\":\"fixed\",\"title\":{\"id\":\"1558\"},\"toolbar\":{\"id\":\"1579\"},\"width\":700,\"x_range\":{\"id\":\"1554\"},\"x_scale\":{\"id\":\"1562\"},\"y_range\":{\"id\":\"1555\"},\"y_scale\":{\"id\":\"1564\"}},\"id\":\"1557\",\"subtype\":\"Figure\",\"type\":\"Plot\"},{\"attributes\":{\"callback\":null,\"renderers\":[{\"id\":\"1593\"}],\"tags\":[\"hv_created\"],\"tooltips\":[[\"Years\",\"@{Years}\"],[\"Revenue\",\"@{Revenue}\"]]},\"id\":\"1556\",\"type\":\"HoverTool\"}],\"root_ids\":[\"1552\"]},\"title\":\"Bokeh Application\",\"version\":\"2.4.3\"}};\n",
       "    var render_items = [{\"docid\":\"2f0efd8b-0e64-4c66-8919-9072eac95325\",\"root_ids\":[\"1552\"],\"roots\":{\"1552\":\"2ecf221b-03ec-4521-a319-fc0297ef4e29\"}}];\n",
       "    root.Bokeh.embed.embed_items_notebook(docs_json, render_items);\n",
       "  }\n",
       "  if (root.Bokeh !== undefined && root.Bokeh.Panel !== undefined) {\n",
       "    embed_document(root);\n",
       "  } else {\n",
       "    var attempts = 0;\n",
       "    var timer = setInterval(function(root) {\n",
       "      if (root.Bokeh !== undefined && root.Bokeh.Panel !== undefined) {\n",
       "        clearInterval(timer);\n",
       "        embed_document(root);\n",
       "      } else if (document.readyState == \"complete\") {\n",
       "        attempts++;\n",
       "        if (attempts > 200) {\n",
       "          clearInterval(timer);\n",
       "          console.log(\"Bokeh: ERROR: Unable to run BokehJS code because BokehJS library is missing\");\n",
       "        }\n",
       "      }\n",
       "    }, 25, root)\n",
       "  }\n",
       "})(window);</script>"
      ],
      "text/plain": [
       ":Curve   [Years]   (Revenue)"
      ]
     },
     "execution_count": 8,
     "metadata": {
      "application/vnd.holoviews_exec.v0+json": {
       "id": "1552"
      }
     },
     "output_type": "execute_result"
    }
   ],
   "source": [
    "# Save the US and Canada revenue plot to a variable\n",
    "us_canada_plot = us_canada_revenue['Revenue'].hvplot(\n",
    "    xlabel='Revenue Periods',\n",
    "    ylabel='Revenue', \n",
    "    rot=45,\n",
    "    label='United States and Canada Revenue - Q1 2018 through Q2 2020',\n",
    ").opts(\n",
    "    yformatter='%.0f', \n",
    "    line_color=\"blue\", \n",
    "    hover_line_color=\"yellow\"\n",
    ")  \n",
    "\n",
    "# Show the plot\n",
    "us_canada_plot"
   ]
  },
  {
   "cell_type": "markdown",
   "metadata": {},
   "source": [
    "## Step 8: Create a line plot that visualizes the growth in revenue for the Europe, Middle East and Africa region. Style it with the same options utilized in the first plot. However, make the line_color equal to orange. Be sure to save this plot to a variable as well."
   ]
  },
  {
   "cell_type": "code",
   "execution_count": 9,
   "metadata": {},
   "outputs": [],
   "source": [
    "# Create a DataFrame that slices the subscriber data for the Europe, Middle East and Africa\n",
    "emea_revenue = regional_revenue_df.loc[regional_revenue_df['Area'] == 'Europe, Middle East and Africa']\n",
    "\n",
    "# Set the index of the DataFrame to Years\n",
    "emea_revenue = emea_revenue.set_index('Years')\n"
   ]
  },
  {
   "cell_type": "code",
   "execution_count": 10,
   "metadata": {},
   "outputs": [
    {
     "data": {},
     "metadata": {},
     "output_type": "display_data"
    },
    {
     "data": {
      "application/vnd.holoviews_exec.v0+json": "",
      "text/html": [
       "<div id='1661'>\n",
       "  <div class=\"bk-root\" id=\"c4131429-b62b-4d0f-bb7b-ab7fb6cc458e\" data-root-id=\"1661\"></div>\n",
       "</div>\n",
       "<script type=\"application/javascript\">(function(root) {\n",
       "  function embed_document(root) {\n",
       "    var docs_json = {\"a521d483-ccaf-4ac7-9e16-dd7de47e3eff\":{\"defs\":[{\"extends\":null,\"module\":null,\"name\":\"ReactiveHTML1\",\"overrides\":[],\"properties\":[]},{\"extends\":null,\"module\":null,\"name\":\"FlexBox1\",\"overrides\":[],\"properties\":[{\"default\":\"flex-start\",\"kind\":null,\"name\":\"align_content\"},{\"default\":\"flex-start\",\"kind\":null,\"name\":\"align_items\"},{\"default\":\"row\",\"kind\":null,\"name\":\"flex_direction\"},{\"default\":\"wrap\",\"kind\":null,\"name\":\"flex_wrap\"},{\"default\":\"flex-start\",\"kind\":null,\"name\":\"justify_content\"}]},{\"extends\":null,\"module\":null,\"name\":\"GridStack1\",\"overrides\":[],\"properties\":[{\"default\":\"warn\",\"kind\":null,\"name\":\"mode\"},{\"default\":null,\"kind\":null,\"name\":\"ncols\"},{\"default\":null,\"kind\":null,\"name\":\"nrows\"},{\"default\":true,\"kind\":null,\"name\":\"allow_resize\"},{\"default\":true,\"kind\":null,\"name\":\"allow_drag\"},{\"default\":[],\"kind\":null,\"name\":\"state\"}]},{\"extends\":null,\"module\":null,\"name\":\"click1\",\"overrides\":[],\"properties\":[{\"default\":\"\",\"kind\":null,\"name\":\"terminal_output\"},{\"default\":\"\",\"kind\":null,\"name\":\"debug_name\"},{\"default\":0,\"kind\":null,\"name\":\"clears\"}]},{\"extends\":null,\"module\":null,\"name\":\"NotificationAreaBase1\",\"overrides\":[],\"properties\":[{\"default\":\"bottom-right\",\"kind\":null,\"name\":\"position\"},{\"default\":0,\"kind\":null,\"name\":\"_clear\"}]},{\"extends\":null,\"module\":null,\"name\":\"NotificationArea1\",\"overrides\":[],\"properties\":[{\"default\":[],\"kind\":null,\"name\":\"notifications\"},{\"default\":\"bottom-right\",\"kind\":null,\"name\":\"position\"},{\"default\":0,\"kind\":null,\"name\":\"_clear\"},{\"default\":[{\"background\":\"#ffc107\",\"icon\":{\"className\":\"fas fa-exclamation-triangle\",\"color\":\"white\",\"tagName\":\"i\"},\"type\":\"warning\"},{\"background\":\"#007bff\",\"icon\":{\"className\":\"fas fa-info-circle\",\"color\":\"white\",\"tagName\":\"i\"},\"type\":\"info\"}],\"kind\":null,\"name\":\"types\"}]},{\"extends\":null,\"module\":null,\"name\":\"Notification\",\"overrides\":[],\"properties\":[{\"default\":null,\"kind\":null,\"name\":\"background\"},{\"default\":3000,\"kind\":null,\"name\":\"duration\"},{\"default\":null,\"kind\":null,\"name\":\"icon\"},{\"default\":\"\",\"kind\":null,\"name\":\"message\"},{\"default\":null,\"kind\":null,\"name\":\"notification_type\"},{\"default\":false,\"kind\":null,\"name\":\"_destroyed\"}]},{\"extends\":null,\"module\":null,\"name\":\"TemplateActions1\",\"overrides\":[],\"properties\":[{\"default\":0,\"kind\":null,\"name\":\"open_modal\"},{\"default\":0,\"kind\":null,\"name\":\"close_modal\"}]},{\"extends\":null,\"module\":null,\"name\":\"MaterialTemplateActions1\",\"overrides\":[],\"properties\":[{\"default\":0,\"kind\":null,\"name\":\"open_modal\"},{\"default\":0,\"kind\":null,\"name\":\"close_modal\"}]}],\"roots\":{\"references\":[{\"attributes\":{\"axis\":{\"id\":\"1675\"},\"coordinates\":null,\"grid_line_color\":null,\"group\":null,\"ticker\":null},\"id\":\"1677\",\"type\":\"Grid\"},{\"attributes\":{\"factors\":[\"Q1 - 2018\",\"Q2 - 2018\",\"Q3 - 2018\",\"Q4 - 2018\",\"Q1 - 2019\",\"Q2 - 2019\",\"Q3 - 2019\",\"Q4 - 2019\",\"Q1 - 2020\",\"Q2 - 2020\"],\"tags\":[[[\"Years\",\"Years\",null]]]},\"id\":\"1663\",\"type\":\"FactorRange\"},{\"attributes\":{\"axis_label\":\"Revenue Periods\",\"coordinates\":null,\"formatter\":{\"id\":\"1707\"},\"group\":null,\"major_label_orientation\":0.7853981633974483,\"major_label_policy\":{\"id\":\"1708\"},\"ticker\":{\"id\":\"1676\"}},\"id\":\"1675\",\"type\":\"CategoricalAxis\"},{\"attributes\":{},\"id\":\"1679\",\"type\":\"BasicTicker\"},{\"attributes\":{},\"id\":\"1676\",\"type\":\"CategoricalTicker\"},{\"attributes\":{\"format\":\"%.0f\"},\"id\":\"1705\",\"type\":\"PrintfTickFormatter\"},{\"attributes\":{\"axis_label\":\"Revenue\",\"coordinates\":null,\"formatter\":{\"id\":\"1705\"},\"group\":null,\"major_label_policy\":{\"id\":\"1711\"},\"ticker\":{\"id\":\"1679\"}},\"id\":\"1678\",\"type\":\"LinearAxis\"},{\"attributes\":{},\"id\":\"1707\",\"type\":\"CategoricalTickFormatter\"},{\"attributes\":{},\"id\":\"1708\",\"type\":\"AllLabels\"},{\"attributes\":{\"line_color\":\"orange\",\"line_width\":2,\"x\":{\"field\":\"Years\"},\"y\":{\"field\":\"Revenue\"}},\"id\":\"1704\",\"type\":\"Line\"},{\"attributes\":{\"axis\":{\"id\":\"1678\"},\"coordinates\":null,\"dimension\":1,\"grid_line_color\":null,\"group\":null,\"ticker\":null},\"id\":\"1681\",\"type\":\"Grid\"},{\"attributes\":{\"end\":1993125800.0,\"reset_end\":1993125800.0,\"reset_start\":786060200.0,\"start\":786060200.0,\"tags\":[[[\"Revenue\",\"Revenue\",null]]]},\"id\":\"1664\",\"type\":\"Range1d\"},{\"attributes\":{\"coordinates\":null,\"data_source\":{\"id\":\"1695\"},\"glyph\":{\"id\":\"1698\"},\"group\":null,\"hover_glyph\":{\"id\":\"1700\"},\"muted_glyph\":{\"id\":\"1701\"},\"nonselection_glyph\":{\"id\":\"1699\"},\"selection_glyph\":{\"id\":\"1704\"},\"view\":{\"id\":\"1703\"}},\"id\":\"1702\",\"type\":\"GlyphRenderer\"},{\"attributes\":{\"callback\":null,\"renderers\":[{\"id\":\"1702\"}],\"tags\":[\"hv_created\"],\"tooltips\":[[\"Years\",\"@{Years}\"],[\"Revenue\",\"@{Revenue}\"]]},\"id\":\"1665\",\"type\":\"HoverTool\"},{\"attributes\":{\"below\":[{\"id\":\"1675\"}],\"center\":[{\"id\":\"1677\"},{\"id\":\"1681\"}],\"height\":300,\"left\":[{\"id\":\"1678\"}],\"margin\":[5,5,5,5],\"min_border_bottom\":10,\"min_border_left\":10,\"min_border_right\":10,\"min_border_top\":10,\"renderers\":[{\"id\":\"1702\"}],\"sizing_mode\":\"fixed\",\"title\":{\"id\":\"1667\"},\"toolbar\":{\"id\":\"1688\"},\"width\":700,\"x_range\":{\"id\":\"1663\"},\"x_scale\":{\"id\":\"1671\"},\"y_range\":{\"id\":\"1664\"},\"y_scale\":{\"id\":\"1673\"}},\"id\":\"1666\",\"subtype\":\"Figure\",\"type\":\"Plot\"},{\"attributes\":{\"children\":[{\"id\":\"1662\"},{\"id\":\"1666\"},{\"id\":\"1723\"}],\"margin\":[0,0,0,0],\"name\":\"Row01393\",\"tags\":[\"embedded\"]},\"id\":\"1661\",\"type\":\"Row\"},{\"attributes\":{\"source\":{\"id\":\"1695\"}},\"id\":\"1703\",\"type\":\"CDSView\"},{\"attributes\":{},\"id\":\"1711\",\"type\":\"AllLabels\"},{\"attributes\":{\"line_color\":\"yellow\",\"line_width\":2,\"x\":{\"field\":\"Years\"},\"y\":{\"field\":\"Revenue\"}},\"id\":\"1700\",\"type\":\"Line\"},{\"attributes\":{\"tools\":[{\"id\":\"1665\"},{\"id\":\"1682\"},{\"id\":\"1683\"},{\"id\":\"1684\"},{\"id\":\"1685\"},{\"id\":\"1686\"}]},\"id\":\"1688\",\"type\":\"Toolbar\"},{\"attributes\":{\"line_color\":\"orange\",\"line_width\":2,\"x\":{\"field\":\"Years\"},\"y\":{\"field\":\"Revenue\"}},\"id\":\"1698\",\"type\":\"Line\"},{\"attributes\":{\"bottom_units\":\"screen\",\"coordinates\":null,\"fill_alpha\":0.5,\"fill_color\":\"lightgrey\",\"group\":null,\"left_units\":\"screen\",\"level\":\"overlay\",\"line_alpha\":1.0,\"line_color\":\"black\",\"line_dash\":[4,4],\"line_width\":2,\"right_units\":\"screen\",\"syncable\":false,\"top_units\":\"screen\"},\"id\":\"1687\",\"type\":\"BoxAnnotation\"},{\"attributes\":{},\"id\":\"1682\",\"type\":\"SaveTool\"},{\"attributes\":{},\"id\":\"1683\",\"type\":\"PanTool\"},{\"attributes\":{\"coordinates\":null,\"group\":null,\"text\":\"Europe, Middle East and Africa - Q1 2018 through Q2 2020\",\"text_color\":\"black\",\"text_font_size\":\"12pt\"},\"id\":\"1667\",\"type\":\"Title\"},{\"attributes\":{\"margin\":[5,5,5,5],\"name\":\"HSpacer01397\",\"sizing_mode\":\"stretch_width\"},\"id\":\"1662\",\"type\":\"Spacer\"},{\"attributes\":{},\"id\":\"1686\",\"type\":\"ResetTool\"},{\"attributes\":{},\"id\":\"1684\",\"type\":\"WheelZoomTool\"},{\"attributes\":{},\"id\":\"1696\",\"type\":\"Selection\"},{\"attributes\":{},\"id\":\"1673\",\"type\":\"LinearScale\"},{\"attributes\":{\"line_alpha\":0.1,\"line_color\":\"orange\",\"line_width\":2,\"x\":{\"field\":\"Years\"},\"y\":{\"field\":\"Revenue\"}},\"id\":\"1699\",\"type\":\"Line\"},{\"attributes\":{\"overlay\":{\"id\":\"1687\"}},\"id\":\"1685\",\"type\":\"BoxZoomTool\"},{\"attributes\":{},\"id\":\"1720\",\"type\":\"UnionRenderers\"},{\"attributes\":{\"margin\":[5,5,5,5],\"name\":\"HSpacer01398\",\"sizing_mode\":\"stretch_width\"},\"id\":\"1723\",\"type\":\"Spacer\"},{\"attributes\":{\"line_alpha\":0.2,\"line_color\":\"orange\",\"line_width\":2,\"x\":{\"field\":\"Years\"},\"y\":{\"field\":\"Revenue\"}},\"id\":\"1701\",\"type\":\"Line\"},{\"attributes\":{\"data\":{\"Revenue\":[886649000,975497000,1004749000,1096812000,1233379000,1319087000,1428040000,1562561000,1723474000,1892537000],\"Years\":[\"Q1 - 2018\",\"Q2 - 2018\",\"Q3 - 2018\",\"Q4 - 2018\",\"Q1 - 2019\",\"Q2 - 2019\",\"Q3 - 2019\",\"Q4 - 2019\",\"Q1 - 2020\",\"Q2 - 2020\"]},\"selected\":{\"id\":\"1696\"},\"selection_policy\":{\"id\":\"1720\"}},\"id\":\"1695\",\"type\":\"ColumnDataSource\"},{\"attributes\":{},\"id\":\"1671\",\"type\":\"CategoricalScale\"}],\"root_ids\":[\"1661\"]},\"title\":\"Bokeh Application\",\"version\":\"2.4.3\"}};\n",
       "    var render_items = [{\"docid\":\"a521d483-ccaf-4ac7-9e16-dd7de47e3eff\",\"root_ids\":[\"1661\"],\"roots\":{\"1661\":\"c4131429-b62b-4d0f-bb7b-ab7fb6cc458e\"}}];\n",
       "    root.Bokeh.embed.embed_items_notebook(docs_json, render_items);\n",
       "  }\n",
       "  if (root.Bokeh !== undefined && root.Bokeh.Panel !== undefined) {\n",
       "    embed_document(root);\n",
       "  } else {\n",
       "    var attempts = 0;\n",
       "    var timer = setInterval(function(root) {\n",
       "      if (root.Bokeh !== undefined && root.Bokeh.Panel !== undefined) {\n",
       "        clearInterval(timer);\n",
       "        embed_document(root);\n",
       "      } else if (document.readyState == \"complete\") {\n",
       "        attempts++;\n",
       "        if (attempts > 200) {\n",
       "          clearInterval(timer);\n",
       "          console.log(\"Bokeh: ERROR: Unable to run BokehJS code because BokehJS library is missing\");\n",
       "        }\n",
       "      }\n",
       "    }, 25, root)\n",
       "  }\n",
       "})(window);</script>"
      ],
      "text/plain": [
       ":Curve   [Years]   (Revenue)"
      ]
     },
     "execution_count": 10,
     "metadata": {
      "application/vnd.holoviews_exec.v0+json": {
       "id": "1661"
      }
     },
     "output_type": "execute_result"
    }
   ],
   "source": [
    "# Create a styled line plot for the Europe, Middle East Africa region. \n",
    "# Make the line_color orange and be sure to set the plot equal to a variable. \n",
    "emea_plot = emea_revenue['Revenue'].hvplot(\n",
    "    xlabel='Revenue Periods',\n",
    "    ylabel='Revenue', \n",
    "    rot=45,\n",
    "    label='Europe, Middle East and Africa - Q1 2018 through Q2 2020'\n",
    ").opts(\n",
    "    yformatter='%.0f', \n",
    "    line_color=\"orange\", \n",
    "    hover_line_color=\"yellow\"\n",
    ")  \n",
    "\n",
    "# Show the plot\n",
    "emea_plot"
   ]
  },
  {
   "cell_type": "markdown",
   "metadata": {},
   "source": [
    "## Step 9: Create an overlay plot for the \"United States and Canada\" and the \"Europe, Middle East and Africa\" regions."
   ]
  },
  {
   "cell_type": "code",
   "execution_count": 11,
   "metadata": {},
   "outputs": [
    {
     "data": {},
     "metadata": {},
     "output_type": "display_data"
    },
    {
     "data": {
      "application/vnd.holoviews_exec.v0+json": "",
      "text/html": [
       "<div id='1770'>\n",
       "  <div class=\"bk-root\" id=\"1d5126be-0b67-4a60-a89d-4a17044f5e08\" data-root-id=\"1770\"></div>\n",
       "</div>\n",
       "<script type=\"application/javascript\">(function(root) {\n",
       "  function embed_document(root) {\n",
       "    var docs_json = {\"5d9422fa-60e9-45b0-a77d-348390076cff\":{\"defs\":[{\"extends\":null,\"module\":null,\"name\":\"ReactiveHTML1\",\"overrides\":[],\"properties\":[]},{\"extends\":null,\"module\":null,\"name\":\"FlexBox1\",\"overrides\":[],\"properties\":[{\"default\":\"flex-start\",\"kind\":null,\"name\":\"align_content\"},{\"default\":\"flex-start\",\"kind\":null,\"name\":\"align_items\"},{\"default\":\"row\",\"kind\":null,\"name\":\"flex_direction\"},{\"default\":\"wrap\",\"kind\":null,\"name\":\"flex_wrap\"},{\"default\":\"flex-start\",\"kind\":null,\"name\":\"justify_content\"}]},{\"extends\":null,\"module\":null,\"name\":\"GridStack1\",\"overrides\":[],\"properties\":[{\"default\":\"warn\",\"kind\":null,\"name\":\"mode\"},{\"default\":null,\"kind\":null,\"name\":\"ncols\"},{\"default\":null,\"kind\":null,\"name\":\"nrows\"},{\"default\":true,\"kind\":null,\"name\":\"allow_resize\"},{\"default\":true,\"kind\":null,\"name\":\"allow_drag\"},{\"default\":[],\"kind\":null,\"name\":\"state\"}]},{\"extends\":null,\"module\":null,\"name\":\"click1\",\"overrides\":[],\"properties\":[{\"default\":\"\",\"kind\":null,\"name\":\"terminal_output\"},{\"default\":\"\",\"kind\":null,\"name\":\"debug_name\"},{\"default\":0,\"kind\":null,\"name\":\"clears\"}]},{\"extends\":null,\"module\":null,\"name\":\"NotificationAreaBase1\",\"overrides\":[],\"properties\":[{\"default\":\"bottom-right\",\"kind\":null,\"name\":\"position\"},{\"default\":0,\"kind\":null,\"name\":\"_clear\"}]},{\"extends\":null,\"module\":null,\"name\":\"NotificationArea1\",\"overrides\":[],\"properties\":[{\"default\":[],\"kind\":null,\"name\":\"notifications\"},{\"default\":\"bottom-right\",\"kind\":null,\"name\":\"position\"},{\"default\":0,\"kind\":null,\"name\":\"_clear\"},{\"default\":[{\"background\":\"#ffc107\",\"icon\":{\"className\":\"fas fa-exclamation-triangle\",\"color\":\"white\",\"tagName\":\"i\"},\"type\":\"warning\"},{\"background\":\"#007bff\",\"icon\":{\"className\":\"fas fa-info-circle\",\"color\":\"white\",\"tagName\":\"i\"},\"type\":\"info\"}],\"kind\":null,\"name\":\"types\"}]},{\"extends\":null,\"module\":null,\"name\":\"Notification\",\"overrides\":[],\"properties\":[{\"default\":null,\"kind\":null,\"name\":\"background\"},{\"default\":3000,\"kind\":null,\"name\":\"duration\"},{\"default\":null,\"kind\":null,\"name\":\"icon\"},{\"default\":\"\",\"kind\":null,\"name\":\"message\"},{\"default\":null,\"kind\":null,\"name\":\"notification_type\"},{\"default\":false,\"kind\":null,\"name\":\"_destroyed\"}]},{\"extends\":null,\"module\":null,\"name\":\"TemplateActions1\",\"overrides\":[],\"properties\":[{\"default\":0,\"kind\":null,\"name\":\"open_modal\"},{\"default\":0,\"kind\":null,\"name\":\"close_modal\"}]},{\"extends\":null,\"module\":null,\"name\":\"MaterialTemplateActions1\",\"overrides\":[],\"properties\":[{\"default\":0,\"kind\":null,\"name\":\"open_modal\"},{\"default\":0,\"kind\":null,\"name\":\"close_modal\"}]}],\"roots\":{\"references\":[{\"attributes\":{\"axis\":{\"id\":\"1788\"},\"coordinates\":null,\"dimension\":1,\"grid_line_color\":null,\"group\":null,\"ticker\":null},\"id\":\"1791\",\"type\":\"Grid\"},{\"attributes\":{\"line_color\":\"yellow\",\"line_width\":2,\"x\":{\"field\":\"Years\"},\"y\":{\"field\":\"Revenue\"}},\"id\":\"1840\",\"type\":\"Line\"},{\"attributes\":{\"line_color\":\"orange\",\"line_width\":2,\"x\":{\"field\":\"Years\"},\"y\":{\"field\":\"Revenue\"}},\"id\":\"1838\",\"type\":\"Line\"},{\"attributes\":{\"format\":\"%.0f\"},\"id\":\"1805\",\"type\":\"PrintfTickFormatter\"},{\"attributes\":{\"line_color\":\"blue\",\"line_width\":2,\"x\":{\"field\":\"Years\"},\"y\":{\"field\":\"Revenue\"}},\"id\":\"1834\",\"type\":\"Line\"},{\"attributes\":{\"margin\":[5,5,5,5],\"name\":\"HSpacer01426\",\"sizing_mode\":\"stretch_width\"},\"id\":\"1771\",\"type\":\"Spacer\"},{\"attributes\":{\"source\":{\"id\":\"1814\"}},\"id\":\"1822\",\"type\":\"CDSView\"},{\"attributes\":{\"coordinates\":null,\"data_source\":{\"id\":\"1814\"},\"glyph\":{\"id\":\"1817\"},\"group\":null,\"hover_glyph\":{\"id\":\"1819\"},\"muted_glyph\":{\"id\":\"1820\"},\"nonselection_glyph\":{\"id\":\"1818\"},\"selection_glyph\":{\"id\":\"1834\"},\"view\":{\"id\":\"1822\"}},\"id\":\"1821\",\"type\":\"GlyphRenderer\"},{\"attributes\":{\"coordinates\":null,\"data_source\":{\"id\":\"1835\"},\"glyph\":{\"id\":\"1838\"},\"group\":null,\"hover_glyph\":{\"id\":\"1840\"},\"muted_glyph\":{\"id\":\"1841\"},\"nonselection_glyph\":{\"id\":\"1839\"},\"selection_glyph\":{\"id\":\"1856\"},\"view\":{\"id\":\"1843\"}},\"id\":\"1842\",\"type\":\"GlyphRenderer\"},{\"attributes\":{\"coordinates\":null,\"group\":null,\"text_color\":\"black\",\"text_font_size\":\"12pt\"},\"id\":\"1777\",\"type\":\"Title\"},{\"attributes\":{\"label\":{\"value\":\"United States and Canada Revenue - Q1 2018 through Q2 2020\"},\"renderers\":[{\"id\":\"1821\"}]},\"id\":\"1833\",\"type\":\"LegendItem\"},{\"attributes\":{\"data\":{\"Revenue\":[1976157000,2049546000,2094850000,2160979000,2256851000,2501199000,2621250000,2671908000,2702776000,2839670000],\"Years\":[\"Q1 - 2018\",\"Q2 - 2018\",\"Q3 - 2018\",\"Q4 - 2018\",\"Q1 - 2019\",\"Q2 - 2019\",\"Q3 - 2019\",\"Q4 - 2019\",\"Q1 - 2020\",\"Q2 - 2020\"]},\"selected\":{\"id\":\"1815\"},\"selection_policy\":{\"id\":\"1829\"}},\"id\":\"1814\",\"type\":\"ColumnDataSource\"},{\"attributes\":{\"line_alpha\":0.1,\"line_color\":\"blue\",\"line_width\":2,\"x\":{\"field\":\"Years\"},\"y\":{\"field\":\"Revenue\"}},\"id\":\"1818\",\"type\":\"Line\"},{\"attributes\":{},\"id\":\"1808\",\"type\":\"AllLabels\"},{\"attributes\":{\"source\":{\"id\":\"1835\"}},\"id\":\"1843\",\"type\":\"CDSView\"},{\"attributes\":{},\"id\":\"1792\",\"type\":\"SaveTool\"},{\"attributes\":{},\"id\":\"1811\",\"type\":\"AllLabels\"},{\"attributes\":{\"end\":3034972100.0,\"reset_end\":3034972100.0,\"reset_start\":691346900.0,\"start\":691346900.0,\"tags\":[[[\"Revenue\",\"Revenue\",null]]]},\"id\":\"1773\",\"type\":\"Range1d\"},{\"attributes\":{\"data\":{\"Revenue\":[886649000,975497000,1004749000,1096812000,1233379000,1319087000,1428040000,1562561000,1723474000,1892537000],\"Years\":[\"Q1 - 2018\",\"Q2 - 2018\",\"Q3 - 2018\",\"Q4 - 2018\",\"Q1 - 2019\",\"Q2 - 2019\",\"Q3 - 2019\",\"Q4 - 2019\",\"Q1 - 2020\",\"Q2 - 2020\"]},\"selected\":{\"id\":\"1836\"},\"selection_policy\":{\"id\":\"1852\"}},\"id\":\"1835\",\"type\":\"ColumnDataSource\"},{\"attributes\":{},\"id\":\"1793\",\"type\":\"PanTool\"},{\"attributes\":{\"factors\":[\"Q1 - 2018\",\"Q2 - 2018\",\"Q3 - 2018\",\"Q4 - 2018\",\"Q1 - 2019\",\"Q2 - 2019\",\"Q3 - 2019\",\"Q4 - 2019\",\"Q1 - 2020\",\"Q2 - 2020\"],\"tags\":[[[\"Years\",\"Years\",null]]]},\"id\":\"1772\",\"type\":\"FactorRange\"},{\"attributes\":{},\"id\":\"1796\",\"type\":\"ResetTool\"},{\"attributes\":{\"line_alpha\":0.2,\"line_color\":\"blue\",\"line_width\":2,\"x\":{\"field\":\"Years\"},\"y\":{\"field\":\"Revenue\"}},\"id\":\"1820\",\"type\":\"Line\"},{\"attributes\":{},\"id\":\"1794\",\"type\":\"WheelZoomTool\"},{\"attributes\":{\"click_policy\":\"mute\",\"coordinates\":null,\"group\":null,\"items\":[{\"id\":\"1833\"},{\"id\":\"1855\"}]},\"id\":\"1832\",\"type\":\"Legend\"},{\"attributes\":{\"axis\":{\"id\":\"1785\"},\"coordinates\":null,\"grid_line_color\":null,\"group\":null,\"ticker\":null},\"id\":\"1787\",\"type\":\"Grid\"},{\"attributes\":{\"line_color\":\"blue\",\"line_width\":2,\"x\":{\"field\":\"Years\"},\"y\":{\"field\":\"Revenue\"}},\"id\":\"1817\",\"type\":\"Line\"},{\"attributes\":{\"overlay\":{\"id\":\"1797\"}},\"id\":\"1795\",\"type\":\"BoxZoomTool\"},{\"attributes\":{},\"id\":\"1852\",\"type\":\"UnionRenderers\"},{\"attributes\":{\"callback\":null,\"renderers\":[{\"id\":\"1821\"},{\"id\":\"1842\"}],\"tags\":[\"hv_created\"],\"tooltips\":[[\"Years\",\"@{Years}\"],[\"Revenue\",\"@{Revenue}\"]]},\"id\":\"1774\",\"type\":\"HoverTool\"},{\"attributes\":{\"label\":{\"value\":\"Europe, Middle East and Africa - Q1 2018 through Q2 2020\"},\"renderers\":[{\"id\":\"1842\"}]},\"id\":\"1855\",\"type\":\"LegendItem\"},{\"attributes\":{},\"id\":\"1829\",\"type\":\"UnionRenderers\"},{\"attributes\":{\"below\":[{\"id\":\"1785\"}],\"center\":[{\"id\":\"1787\"},{\"id\":\"1791\"},{\"id\":\"1832\"}],\"height\":300,\"left\":[{\"id\":\"1788\"}],\"margin\":[5,5,5,5],\"min_border_bottom\":10,\"min_border_left\":10,\"min_border_right\":10,\"min_border_top\":10,\"renderers\":[{\"id\":\"1821\"},{\"id\":\"1842\"}],\"sizing_mode\":\"fixed\",\"title\":{\"id\":\"1777\"},\"toolbar\":{\"id\":\"1798\"},\"width\":700,\"x_range\":{\"id\":\"1772\"},\"x_scale\":{\"id\":\"1781\"},\"y_range\":{\"id\":\"1773\"},\"y_scale\":{\"id\":\"1783\"}},\"id\":\"1776\",\"subtype\":\"Figure\",\"type\":\"Plot\"},{\"attributes\":{\"line_alpha\":0.2,\"line_color\":\"orange\",\"line_width\":2,\"x\":{\"field\":\"Years\"},\"y\":{\"field\":\"Revenue\"}},\"id\":\"1841\",\"type\":\"Line\"},{\"attributes\":{},\"id\":\"1781\",\"type\":\"CategoricalScale\"},{\"attributes\":{\"line_color\":\"orange\",\"line_width\":2,\"x\":{\"field\":\"Years\"},\"y\":{\"field\":\"Revenue\"}},\"id\":\"1856\",\"type\":\"Line\"},{\"attributes\":{},\"id\":\"1807\",\"type\":\"CategoricalTickFormatter\"},{\"attributes\":{\"axis_label\":\"Revenue Periods\",\"coordinates\":null,\"formatter\":{\"id\":\"1807\"},\"group\":null,\"major_label_orientation\":0.7853981633974483,\"major_label_policy\":{\"id\":\"1808\"},\"ticker\":{\"id\":\"1786\"}},\"id\":\"1785\",\"type\":\"CategoricalAxis\"},{\"attributes\":{},\"id\":\"1836\",\"type\":\"Selection\"},{\"attributes\":{\"tools\":[{\"id\":\"1774\"},{\"id\":\"1792\"},{\"id\":\"1793\"},{\"id\":\"1794\"},{\"id\":\"1795\"},{\"id\":\"1796\"}]},\"id\":\"1798\",\"type\":\"Toolbar\"},{\"attributes\":{\"line_alpha\":0.1,\"line_color\":\"orange\",\"line_width\":2,\"x\":{\"field\":\"Years\"},\"y\":{\"field\":\"Revenue\"}},\"id\":\"1839\",\"type\":\"Line\"},{\"attributes\":{\"margin\":[5,5,5,5],\"name\":\"HSpacer01427\",\"sizing_mode\":\"stretch_width\"},\"id\":\"1868\",\"type\":\"Spacer\"},{\"attributes\":{},\"id\":\"1815\",\"type\":\"Selection\"},{\"attributes\":{\"children\":[{\"id\":\"1771\"},{\"id\":\"1776\"},{\"id\":\"1868\"}],\"margin\":[0,0,0,0],\"name\":\"Row01422\",\"tags\":[\"embedded\"]},\"id\":\"1770\",\"type\":\"Row\"},{\"attributes\":{},\"id\":\"1783\",\"type\":\"LinearScale\"},{\"attributes\":{\"bottom_units\":\"screen\",\"coordinates\":null,\"fill_alpha\":0.5,\"fill_color\":\"lightgrey\",\"group\":null,\"left_units\":\"screen\",\"level\":\"overlay\",\"line_alpha\":1.0,\"line_color\":\"black\",\"line_dash\":[4,4],\"line_width\":2,\"right_units\":\"screen\",\"syncable\":false,\"top_units\":\"screen\"},\"id\":\"1797\",\"type\":\"BoxAnnotation\"},{\"attributes\":{},\"id\":\"1789\",\"type\":\"BasicTicker\"},{\"attributes\":{},\"id\":\"1786\",\"type\":\"CategoricalTicker\"},{\"attributes\":{\"axis_label\":\"Revenue\",\"coordinates\":null,\"formatter\":{\"id\":\"1805\"},\"group\":null,\"major_label_policy\":{\"id\":\"1811\"},\"ticker\":{\"id\":\"1789\"}},\"id\":\"1788\",\"type\":\"LinearAxis\"},{\"attributes\":{\"line_color\":\"yellow\",\"line_width\":2,\"x\":{\"field\":\"Years\"},\"y\":{\"field\":\"Revenue\"}},\"id\":\"1819\",\"type\":\"Line\"}],\"root_ids\":[\"1770\"]},\"title\":\"Bokeh Application\",\"version\":\"2.4.3\"}};\n",
       "    var render_items = [{\"docid\":\"5d9422fa-60e9-45b0-a77d-348390076cff\",\"root_ids\":[\"1770\"],\"roots\":{\"1770\":\"1d5126be-0b67-4a60-a89d-4a17044f5e08\"}}];\n",
       "    root.Bokeh.embed.embed_items_notebook(docs_json, render_items);\n",
       "  }\n",
       "  if (root.Bokeh !== undefined && root.Bokeh.Panel !== undefined) {\n",
       "    embed_document(root);\n",
       "  } else {\n",
       "    var attempts = 0;\n",
       "    var timer = setInterval(function(root) {\n",
       "      if (root.Bokeh !== undefined && root.Bokeh.Panel !== undefined) {\n",
       "        clearInterval(timer);\n",
       "        embed_document(root);\n",
       "      } else if (document.readyState == \"complete\") {\n",
       "        attempts++;\n",
       "        if (attempts > 200) {\n",
       "          clearInterval(timer);\n",
       "          console.log(\"Bokeh: ERROR: Unable to run BokehJS code because BokehJS library is missing\");\n",
       "        }\n",
       "      }\n",
       "    }, 25, root)\n",
       "  }\n",
       "})(window);</script>"
      ],
      "text/plain": [
       ":Overlay\n",
       "   .Curve.United_States_and_Canada_Revenue_hyphen_minus_Q1_2018_through_Q2_2020    :Curve   [Years]   (Revenue)\n",
       "   .Curve.Europe_comma_Middle_East_and_Africa_hyphen_minus_Q1_2018_through_Q2_2020 :Curve   [Years]   (Revenue)"
      ]
     },
     "execution_count": 11,
     "metadata": {
      "application/vnd.holoviews_exec.v0+json": {
       "id": "1770"
      }
     },
     "output_type": "execute_result"
    }
   ],
   "source": [
    "# Create an overlay plot for the two visualizations\n",
    "us_canada_plot * emea_plot"
   ]
  },
  {
   "cell_type": "markdown",
   "metadata": {},
   "source": [
    "## Step 10: Add a title to the overlay plot. Additionally, adjust height, width and background color."
   ]
  },
  {
   "cell_type": "code",
   "execution_count": 12,
   "metadata": {},
   "outputs": [
    {
     "data": {},
     "metadata": {},
     "output_type": "display_data"
    },
    {
     "data": {
      "application/vnd.holoviews_exec.v0+json": "",
      "text/html": [
       "<div id='1925'>\n",
       "  <div class=\"bk-root\" id=\"1c9771f3-fc54-4319-8904-a5bf0ae869e1\" data-root-id=\"1925\"></div>\n",
       "</div>\n",
       "<script type=\"application/javascript\">(function(root) {\n",
       "  function embed_document(root) {\n",
       "    var docs_json = {\"a2c4a94d-d88a-48cd-a5d4-42f616fc413f\":{\"defs\":[{\"extends\":null,\"module\":null,\"name\":\"ReactiveHTML1\",\"overrides\":[],\"properties\":[]},{\"extends\":null,\"module\":null,\"name\":\"FlexBox1\",\"overrides\":[],\"properties\":[{\"default\":\"flex-start\",\"kind\":null,\"name\":\"align_content\"},{\"default\":\"flex-start\",\"kind\":null,\"name\":\"align_items\"},{\"default\":\"row\",\"kind\":null,\"name\":\"flex_direction\"},{\"default\":\"wrap\",\"kind\":null,\"name\":\"flex_wrap\"},{\"default\":\"flex-start\",\"kind\":null,\"name\":\"justify_content\"}]},{\"extends\":null,\"module\":null,\"name\":\"GridStack1\",\"overrides\":[],\"properties\":[{\"default\":\"warn\",\"kind\":null,\"name\":\"mode\"},{\"default\":null,\"kind\":null,\"name\":\"ncols\"},{\"default\":null,\"kind\":null,\"name\":\"nrows\"},{\"default\":true,\"kind\":null,\"name\":\"allow_resize\"},{\"default\":true,\"kind\":null,\"name\":\"allow_drag\"},{\"default\":[],\"kind\":null,\"name\":\"state\"}]},{\"extends\":null,\"module\":null,\"name\":\"click1\",\"overrides\":[],\"properties\":[{\"default\":\"\",\"kind\":null,\"name\":\"terminal_output\"},{\"default\":\"\",\"kind\":null,\"name\":\"debug_name\"},{\"default\":0,\"kind\":null,\"name\":\"clears\"}]},{\"extends\":null,\"module\":null,\"name\":\"NotificationAreaBase1\",\"overrides\":[],\"properties\":[{\"default\":\"bottom-right\",\"kind\":null,\"name\":\"position\"},{\"default\":0,\"kind\":null,\"name\":\"_clear\"}]},{\"extends\":null,\"module\":null,\"name\":\"NotificationArea1\",\"overrides\":[],\"properties\":[{\"default\":[],\"kind\":null,\"name\":\"notifications\"},{\"default\":\"bottom-right\",\"kind\":null,\"name\":\"position\"},{\"default\":0,\"kind\":null,\"name\":\"_clear\"},{\"default\":[{\"background\":\"#ffc107\",\"icon\":{\"className\":\"fas fa-exclamation-triangle\",\"color\":\"white\",\"tagName\":\"i\"},\"type\":\"warning\"},{\"background\":\"#007bff\",\"icon\":{\"className\":\"fas fa-info-circle\",\"color\":\"white\",\"tagName\":\"i\"},\"type\":\"info\"}],\"kind\":null,\"name\":\"types\"}]},{\"extends\":null,\"module\":null,\"name\":\"Notification\",\"overrides\":[],\"properties\":[{\"default\":null,\"kind\":null,\"name\":\"background\"},{\"default\":3000,\"kind\":null,\"name\":\"duration\"},{\"default\":null,\"kind\":null,\"name\":\"icon\"},{\"default\":\"\",\"kind\":null,\"name\":\"message\"},{\"default\":null,\"kind\":null,\"name\":\"notification_type\"},{\"default\":false,\"kind\":null,\"name\":\"_destroyed\"}]},{\"extends\":null,\"module\":null,\"name\":\"TemplateActions1\",\"overrides\":[],\"properties\":[{\"default\":0,\"kind\":null,\"name\":\"open_modal\"},{\"default\":0,\"kind\":null,\"name\":\"close_modal\"}]},{\"extends\":null,\"module\":null,\"name\":\"MaterialTemplateActions1\",\"overrides\":[],\"properties\":[{\"default\":0,\"kind\":null,\"name\":\"open_modal\"},{\"default\":0,\"kind\":null,\"name\":\"close_modal\"}]}],\"roots\":{\"references\":[{\"attributes\":{\"coordinates\":null,\"data_source\":{\"id\":\"1969\"},\"glyph\":{\"id\":\"1972\"},\"group\":null,\"hover_glyph\":{\"id\":\"1974\"},\"muted_glyph\":{\"id\":\"1975\"},\"nonselection_glyph\":{\"id\":\"1973\"},\"selection_glyph\":{\"id\":\"1989\"},\"view\":{\"id\":\"1977\"}},\"id\":\"1976\",\"type\":\"GlyphRenderer\"},{\"attributes\":{\"axis_label\":\"Revenue Periods\",\"coordinates\":null,\"formatter\":{\"id\":\"1962\"},\"group\":null,\"major_label_orientation\":0.7853981633974483,\"major_label_policy\":{\"id\":\"1963\"},\"ticker\":{\"id\":\"1941\"}},\"id\":\"1940\",\"type\":\"CategoricalAxis\"},{\"attributes\":{\"line_color\":\"yellow\",\"line_width\":2,\"x\":{\"field\":\"Years\"},\"y\":{\"field\":\"Revenue\"}},\"id\":\"1974\",\"type\":\"Line\"},{\"attributes\":{},\"id\":\"1962\",\"type\":\"CategoricalTickFormatter\"},{\"attributes\":{},\"id\":\"1970\",\"type\":\"Selection\"},{\"attributes\":{\"coordinates\":null,\"group\":null,\"text\":\"Revenue - US and Canada versus Europe, Middle East and Africa\",\"text_color\":\"black\",\"text_font_size\":\"12pt\"},\"id\":\"1932\",\"type\":\"Title\"},{\"attributes\":{\"coordinates\":null,\"data_source\":{\"id\":\"1990\"},\"glyph\":{\"id\":\"1993\"},\"group\":null,\"hover_glyph\":{\"id\":\"1995\"},\"muted_glyph\":{\"id\":\"1996\"},\"nonselection_glyph\":{\"id\":\"1994\"},\"selection_glyph\":{\"id\":\"2011\"},\"view\":{\"id\":\"1998\"}},\"id\":\"1997\",\"type\":\"GlyphRenderer\"},{\"attributes\":{\"line_color\":\"blue\",\"line_width\":2,\"x\":{\"field\":\"Years\"},\"y\":{\"field\":\"Revenue\"}},\"id\":\"1989\",\"type\":\"Line\"},{\"attributes\":{},\"id\":\"1941\",\"type\":\"CategoricalTicker\"},{\"attributes\":{},\"id\":\"2007\",\"type\":\"UnionRenderers\"},{\"attributes\":{},\"id\":\"1936\",\"type\":\"CategoricalScale\"},{\"attributes\":{\"overlay\":{\"id\":\"1952\"}},\"id\":\"1950\",\"type\":\"BoxZoomTool\"},{\"attributes\":{},\"id\":\"1991\",\"type\":\"Selection\"},{\"attributes\":{\"axis_label\":\"Revenue\",\"coordinates\":null,\"formatter\":{\"id\":\"1960\"},\"group\":null,\"major_label_policy\":{\"id\":\"1966\"},\"ticker\":{\"id\":\"1944\"}},\"id\":\"1943\",\"type\":\"LinearAxis\"},{\"attributes\":{\"background_fill_color\":\"lightgrey\",\"below\":[{\"id\":\"1940\"}],\"center\":[{\"id\":\"1942\"},{\"id\":\"1946\"},{\"id\":\"1987\"}],\"height\":500,\"left\":[{\"id\":\"1943\"}],\"margin\":[5,5,5,5],\"min_border_bottom\":10,\"min_border_left\":10,\"min_border_right\":10,\"min_border_top\":10,\"renderers\":[{\"id\":\"1976\"},{\"id\":\"1997\"}],\"sizing_mode\":\"fixed\",\"title\":{\"id\":\"1932\"},\"toolbar\":{\"id\":\"1953\"},\"width\":1000,\"x_range\":{\"id\":\"1927\"},\"x_scale\":{\"id\":\"1936\"},\"y_range\":{\"id\":\"1928\"},\"y_scale\":{\"id\":\"1938\"}},\"id\":\"1931\",\"subtype\":\"Figure\",\"type\":\"Plot\"},{\"attributes\":{\"axis\":{\"id\":\"1940\"},\"coordinates\":null,\"grid_line_color\":null,\"group\":null,\"ticker\":null},\"id\":\"1942\",\"type\":\"Grid\"},{\"attributes\":{\"axis\":{\"id\":\"1943\"},\"coordinates\":null,\"dimension\":1,\"grid_line_color\":null,\"group\":null,\"ticker\":null},\"id\":\"1946\",\"type\":\"Grid\"},{\"attributes\":{\"source\":{\"id\":\"1990\"}},\"id\":\"1998\",\"type\":\"CDSView\"},{\"attributes\":{\"tools\":[{\"id\":\"1929\"},{\"id\":\"1947\"},{\"id\":\"1948\"},{\"id\":\"1949\"},{\"id\":\"1950\"},{\"id\":\"1951\"}]},\"id\":\"1953\",\"type\":\"Toolbar\"},{\"attributes\":{\"source\":{\"id\":\"1969\"}},\"id\":\"1977\",\"type\":\"CDSView\"},{\"attributes\":{},\"id\":\"1951\",\"type\":\"ResetTool\"},{\"attributes\":{\"children\":[{\"id\":\"1926\"},{\"id\":\"1931\"},{\"id\":\"2023\"}],\"margin\":[0,0,0,0],\"name\":\"Row01517\",\"tags\":[\"embedded\"]},\"id\":\"1925\",\"type\":\"Row\"},{\"attributes\":{\"line_alpha\":0.1,\"line_color\":\"orange\",\"line_width\":2,\"x\":{\"field\":\"Years\"},\"y\":{\"field\":\"Revenue\"}},\"id\":\"1994\",\"type\":\"Line\"},{\"attributes\":{\"line_color\":\"orange\",\"line_width\":2,\"x\":{\"field\":\"Years\"},\"y\":{\"field\":\"Revenue\"}},\"id\":\"2011\",\"type\":\"Line\"},{\"attributes\":{\"line_color\":\"yellow\",\"line_width\":2,\"x\":{\"field\":\"Years\"},\"y\":{\"field\":\"Revenue\"}},\"id\":\"1995\",\"type\":\"Line\"},{\"attributes\":{\"margin\":[5,5,5,5],\"name\":\"HSpacer01521\",\"sizing_mode\":\"stretch_width\"},\"id\":\"1926\",\"type\":\"Spacer\"},{\"attributes\":{},\"id\":\"1944\",\"type\":\"BasicTicker\"},{\"attributes\":{\"end\":3034972100.0,\"reset_end\":3034972100.0,\"reset_start\":691346900.0,\"start\":691346900.0,\"tags\":[[[\"Revenue\",\"Revenue\",null]]]},\"id\":\"1928\",\"type\":\"Range1d\"},{\"attributes\":{},\"id\":\"1947\",\"type\":\"SaveTool\"},{\"attributes\":{\"line_alpha\":0.2,\"line_color\":\"blue\",\"line_width\":2,\"x\":{\"field\":\"Years\"},\"y\":{\"field\":\"Revenue\"}},\"id\":\"1975\",\"type\":\"Line\"},{\"attributes\":{},\"id\":\"1966\",\"type\":\"AllLabels\"},{\"attributes\":{},\"id\":\"1963\",\"type\":\"AllLabels\"},{\"attributes\":{\"line_alpha\":0.2,\"line_color\":\"orange\",\"line_width\":2,\"x\":{\"field\":\"Years\"},\"y\":{\"field\":\"Revenue\"}},\"id\":\"1996\",\"type\":\"Line\"},{\"attributes\":{},\"id\":\"1984\",\"type\":\"UnionRenderers\"},{\"attributes\":{\"data\":{\"Revenue\":[1976157000,2049546000,2094850000,2160979000,2256851000,2501199000,2621250000,2671908000,2702776000,2839670000],\"Years\":[\"Q1 - 2018\",\"Q2 - 2018\",\"Q3 - 2018\",\"Q4 - 2018\",\"Q1 - 2019\",\"Q2 - 2019\",\"Q3 - 2019\",\"Q4 - 2019\",\"Q1 - 2020\",\"Q2 - 2020\"]},\"selected\":{\"id\":\"1970\"},\"selection_policy\":{\"id\":\"1984\"}},\"id\":\"1969\",\"type\":\"ColumnDataSource\"},{\"attributes\":{\"data\":{\"Revenue\":[886649000,975497000,1004749000,1096812000,1233379000,1319087000,1428040000,1562561000,1723474000,1892537000],\"Years\":[\"Q1 - 2018\",\"Q2 - 2018\",\"Q3 - 2018\",\"Q4 - 2018\",\"Q1 - 2019\",\"Q2 - 2019\",\"Q3 - 2019\",\"Q4 - 2019\",\"Q1 - 2020\",\"Q2 - 2020\"]},\"selected\":{\"id\":\"1991\"},\"selection_policy\":{\"id\":\"2007\"}},\"id\":\"1990\",\"type\":\"ColumnDataSource\"},{\"attributes\":{\"line_color\":\"orange\",\"line_width\":2,\"x\":{\"field\":\"Years\"},\"y\":{\"field\":\"Revenue\"}},\"id\":\"1993\",\"type\":\"Line\"},{\"attributes\":{},\"id\":\"1948\",\"type\":\"PanTool\"},{\"attributes\":{},\"id\":\"1938\",\"type\":\"LinearScale\"},{\"attributes\":{\"line_color\":\"blue\",\"line_width\":2,\"x\":{\"field\":\"Years\"},\"y\":{\"field\":\"Revenue\"}},\"id\":\"1972\",\"type\":\"Line\"},{\"attributes\":{\"margin\":[5,5,5,5],\"name\":\"HSpacer01522\",\"sizing_mode\":\"stretch_width\"},\"id\":\"2023\",\"type\":\"Spacer\"},{\"attributes\":{\"callback\":null,\"renderers\":[{\"id\":\"1976\"},{\"id\":\"1997\"}],\"tags\":[\"hv_created\"],\"tooltips\":[[\"Years\",\"@{Years}\"],[\"Revenue\",\"@{Revenue}\"]]},\"id\":\"1929\",\"type\":\"HoverTool\"},{\"attributes\":{},\"id\":\"1949\",\"type\":\"WheelZoomTool\"},{\"attributes\":{\"label\":{\"value\":\"Europe, Middle East and Africa - Q1 2018 through Q2 2020\"},\"renderers\":[{\"id\":\"1997\"}]},\"id\":\"2010\",\"type\":\"LegendItem\"},{\"attributes\":{\"factors\":[\"Q1 - 2018\",\"Q2 - 2018\",\"Q3 - 2018\",\"Q4 - 2018\",\"Q1 - 2019\",\"Q2 - 2019\",\"Q3 - 2019\",\"Q4 - 2019\",\"Q1 - 2020\",\"Q2 - 2020\"],\"tags\":[[[\"Years\",\"Years\",null]]]},\"id\":\"1927\",\"type\":\"FactorRange\"},{\"attributes\":{\"click_policy\":\"mute\",\"coordinates\":null,\"group\":null,\"items\":[{\"id\":\"1988\"},{\"id\":\"2010\"}]},\"id\":\"1987\",\"type\":\"Legend\"},{\"attributes\":{\"bottom_units\":\"screen\",\"coordinates\":null,\"fill_alpha\":0.5,\"fill_color\":\"lightgrey\",\"group\":null,\"left_units\":\"screen\",\"level\":\"overlay\",\"line_alpha\":1.0,\"line_color\":\"black\",\"line_dash\":[4,4],\"line_width\":2,\"right_units\":\"screen\",\"syncable\":false,\"top_units\":\"screen\"},\"id\":\"1952\",\"type\":\"BoxAnnotation\"},{\"attributes\":{\"line_alpha\":0.1,\"line_color\":\"blue\",\"line_width\":2,\"x\":{\"field\":\"Years\"},\"y\":{\"field\":\"Revenue\"}},\"id\":\"1973\",\"type\":\"Line\"},{\"attributes\":{\"format\":\"%.0f\"},\"id\":\"1960\",\"type\":\"PrintfTickFormatter\"},{\"attributes\":{\"label\":{\"value\":\"United States and Canada Revenue - Q1 2018 through Q2 2020\"},\"renderers\":[{\"id\":\"1976\"}]},\"id\":\"1988\",\"type\":\"LegendItem\"}],\"root_ids\":[\"1925\"]},\"title\":\"Bokeh Application\",\"version\":\"2.4.3\"}};\n",
       "    var render_items = [{\"docid\":\"a2c4a94d-d88a-48cd-a5d4-42f616fc413f\",\"root_ids\":[\"1925\"],\"roots\":{\"1925\":\"1c9771f3-fc54-4319-8904-a5bf0ae869e1\"}}];\n",
       "    root.Bokeh.embed.embed_items_notebook(docs_json, render_items);\n",
       "  }\n",
       "  if (root.Bokeh !== undefined && root.Bokeh.Panel !== undefined) {\n",
       "    embed_document(root);\n",
       "  } else {\n",
       "    var attempts = 0;\n",
       "    var timer = setInterval(function(root) {\n",
       "      if (root.Bokeh !== undefined && root.Bokeh.Panel !== undefined) {\n",
       "        clearInterval(timer);\n",
       "        embed_document(root);\n",
       "      } else if (document.readyState == \"complete\") {\n",
       "        attempts++;\n",
       "        if (attempts > 200) {\n",
       "          clearInterval(timer);\n",
       "          console.log(\"Bokeh: ERROR: Unable to run BokehJS code because BokehJS library is missing\");\n",
       "        }\n",
       "      }\n",
       "    }, 25, root)\n",
       "  }\n",
       "})(window);</script>"
      ],
      "text/plain": [
       ":Overlay\n",
       "   .Curve.United_States_and_Canada_Revenue_hyphen_minus_Q1_2018_through_Q2_2020    :Curve   [Years]   (Revenue)\n",
       "   .Curve.Europe_comma_Middle_East_and_Africa_hyphen_minus_Q1_2018_through_Q2_2020 :Curve   [Years]   (Revenue)"
      ]
     },
     "execution_count": 12,
     "metadata": {
      "application/vnd.holoviews_exec.v0+json": {
       "id": "1925"
      }
     },
     "output_type": "execute_result"
    }
   ],
   "source": [
    "# Adjust the title, height, width and background color of the overlay plot\n",
    "(us_canada_plot * emea_plot).opts(\n",
    "    title=\"Revenue - US and Canada versus Europe, Middle East and Africa\",\n",
    "    bgcolor=\"lightgrey\", \n",
    "    height=500,\n",
    "    width=1000,\n",
    ")"
   ]
  },
  {
   "cell_type": "markdown",
   "metadata": {},
   "source": [
    "## Step 11: Bonus - Create line plots for the Latin America and Asia Pacific Regions"
   ]
  },
  {
   "cell_type": "code",
   "execution_count": 13,
   "metadata": {},
   "outputs": [],
   "source": [
    "# Create a DataFrame that slices the subscriber data for the Asia-Pacific region\n",
    "ap_revenue = regional_revenue_df.loc[regional_revenue_df['Area'] == 'Asia-Pacific']\n",
    "\n",
    "# Set the index of the DataFrame to Years\n",
    "ap_revenue = ap_revenue.set_index('Years')"
   ]
  },
  {
   "cell_type": "code",
   "execution_count": 14,
   "metadata": {},
   "outputs": [
    {
     "data": {},
     "metadata": {},
     "output_type": "display_data"
    },
    {
     "data": {
      "application/vnd.holoviews_exec.v0+json": "",
      "text/html": [
       "<div id='2080'>\n",
       "  <div class=\"bk-root\" id=\"063326b9-acf1-4598-86bf-b86f8c042537\" data-root-id=\"2080\"></div>\n",
       "</div>\n",
       "<script type=\"application/javascript\">(function(root) {\n",
       "  function embed_document(root) {\n",
       "    var docs_json = {\"c28b715b-b8d5-4b2a-9170-17b79bf02095\":{\"defs\":[{\"extends\":null,\"module\":null,\"name\":\"ReactiveHTML1\",\"overrides\":[],\"properties\":[]},{\"extends\":null,\"module\":null,\"name\":\"FlexBox1\",\"overrides\":[],\"properties\":[{\"default\":\"flex-start\",\"kind\":null,\"name\":\"align_content\"},{\"default\":\"flex-start\",\"kind\":null,\"name\":\"align_items\"},{\"default\":\"row\",\"kind\":null,\"name\":\"flex_direction\"},{\"default\":\"wrap\",\"kind\":null,\"name\":\"flex_wrap\"},{\"default\":\"flex-start\",\"kind\":null,\"name\":\"justify_content\"}]},{\"extends\":null,\"module\":null,\"name\":\"GridStack1\",\"overrides\":[],\"properties\":[{\"default\":\"warn\",\"kind\":null,\"name\":\"mode\"},{\"default\":null,\"kind\":null,\"name\":\"ncols\"},{\"default\":null,\"kind\":null,\"name\":\"nrows\"},{\"default\":true,\"kind\":null,\"name\":\"allow_resize\"},{\"default\":true,\"kind\":null,\"name\":\"allow_drag\"},{\"default\":[],\"kind\":null,\"name\":\"state\"}]},{\"extends\":null,\"module\":null,\"name\":\"click1\",\"overrides\":[],\"properties\":[{\"default\":\"\",\"kind\":null,\"name\":\"terminal_output\"},{\"default\":\"\",\"kind\":null,\"name\":\"debug_name\"},{\"default\":0,\"kind\":null,\"name\":\"clears\"}]},{\"extends\":null,\"module\":null,\"name\":\"NotificationAreaBase1\",\"overrides\":[],\"properties\":[{\"default\":\"bottom-right\",\"kind\":null,\"name\":\"position\"},{\"default\":0,\"kind\":null,\"name\":\"_clear\"}]},{\"extends\":null,\"module\":null,\"name\":\"NotificationArea1\",\"overrides\":[],\"properties\":[{\"default\":[],\"kind\":null,\"name\":\"notifications\"},{\"default\":\"bottom-right\",\"kind\":null,\"name\":\"position\"},{\"default\":0,\"kind\":null,\"name\":\"_clear\"},{\"default\":[{\"background\":\"#ffc107\",\"icon\":{\"className\":\"fas fa-exclamation-triangle\",\"color\":\"white\",\"tagName\":\"i\"},\"type\":\"warning\"},{\"background\":\"#007bff\",\"icon\":{\"className\":\"fas fa-info-circle\",\"color\":\"white\",\"tagName\":\"i\"},\"type\":\"info\"}],\"kind\":null,\"name\":\"types\"}]},{\"extends\":null,\"module\":null,\"name\":\"Notification\",\"overrides\":[],\"properties\":[{\"default\":null,\"kind\":null,\"name\":\"background\"},{\"default\":3000,\"kind\":null,\"name\":\"duration\"},{\"default\":null,\"kind\":null,\"name\":\"icon\"},{\"default\":\"\",\"kind\":null,\"name\":\"message\"},{\"default\":null,\"kind\":null,\"name\":\"notification_type\"},{\"default\":false,\"kind\":null,\"name\":\"_destroyed\"}]},{\"extends\":null,\"module\":null,\"name\":\"TemplateActions1\",\"overrides\":[],\"properties\":[{\"default\":0,\"kind\":null,\"name\":\"open_modal\"},{\"default\":0,\"kind\":null,\"name\":\"close_modal\"}]},{\"extends\":null,\"module\":null,\"name\":\"MaterialTemplateActions1\",\"overrides\":[],\"properties\":[{\"default\":0,\"kind\":null,\"name\":\"open_modal\"},{\"default\":0,\"kind\":null,\"name\":\"close_modal\"}]}],\"roots\":{\"references\":[{\"attributes\":{\"end\":606142300.0,\"reset_end\":606142300.0,\"reset_start\":162114700.0,\"start\":162114700.0,\"tags\":[[[\"Revenue\",\"Revenue\",null]]]},\"id\":\"2083\",\"type\":\"Range1d\"},{\"attributes\":{\"line_color\":\"purple\",\"line_width\":2,\"x\":{\"field\":\"Years\"},\"y\":{\"field\":\"Revenue\"}},\"id\":\"2123\",\"type\":\"Line\"},{\"attributes\":{\"callback\":null,\"renderers\":[{\"id\":\"2121\"}],\"tags\":[\"hv_created\"],\"tooltips\":[[\"Years\",\"@{Years}\"],[\"Revenue\",\"@{Revenue}\"]]},\"id\":\"2084\",\"type\":\"HoverTool\"},{\"attributes\":{\"coordinates\":null,\"data_source\":{\"id\":\"2114\"},\"glyph\":{\"id\":\"2117\"},\"group\":null,\"hover_glyph\":{\"id\":\"2119\"},\"muted_glyph\":{\"id\":\"2120\"},\"nonselection_glyph\":{\"id\":\"2118\"},\"selection_glyph\":{\"id\":\"2123\"},\"view\":{\"id\":\"2122\"}},\"id\":\"2121\",\"type\":\"GlyphRenderer\"},{\"attributes\":{\"below\":[{\"id\":\"2094\"}],\"center\":[{\"id\":\"2096\"},{\"id\":\"2100\"}],\"height\":300,\"left\":[{\"id\":\"2097\"}],\"margin\":[5,5,5,5],\"min_border_bottom\":10,\"min_border_left\":10,\"min_border_right\":10,\"min_border_top\":10,\"renderers\":[{\"id\":\"2121\"}],\"sizing_mode\":\"fixed\",\"title\":{\"id\":\"2086\"},\"toolbar\":{\"id\":\"2107\"},\"width\":700,\"x_range\":{\"id\":\"2082\"},\"x_scale\":{\"id\":\"2090\"},\"y_range\":{\"id\":\"2083\"},\"y_scale\":{\"id\":\"2092\"}},\"id\":\"2085\",\"subtype\":\"Figure\",\"type\":\"Plot\"},{\"attributes\":{\"source\":{\"id\":\"2114\"}},\"id\":\"2122\",\"type\":\"CDSView\"},{\"attributes\":{\"line_alpha\":0.2,\"line_color\":\"purple\",\"line_width\":2,\"x\":{\"field\":\"Years\"},\"y\":{\"field\":\"Revenue\"}},\"id\":\"2120\",\"type\":\"Line\"},{\"attributes\":{\"line_color\":\"yellow\",\"line_width\":2,\"x\":{\"field\":\"Years\"},\"y\":{\"field\":\"Revenue\"}},\"id\":\"2119\",\"type\":\"Line\"},{\"attributes\":{\"bottom_units\":\"screen\",\"coordinates\":null,\"fill_alpha\":0.5,\"fill_color\":\"lightgrey\",\"group\":null,\"left_units\":\"screen\",\"level\":\"overlay\",\"line_alpha\":1.0,\"line_color\":\"black\",\"line_dash\":[4,4],\"line_width\":2,\"right_units\":\"screen\",\"syncable\":false,\"top_units\":\"screen\"},\"id\":\"2106\",\"type\":\"BoxAnnotation\"},{\"attributes\":{},\"id\":\"2101\",\"type\":\"SaveTool\"},{\"attributes\":{},\"id\":\"2127\",\"type\":\"AllLabels\"},{\"attributes\":{},\"id\":\"2102\",\"type\":\"PanTool\"},{\"attributes\":{},\"id\":\"2130\",\"type\":\"AllLabels\"},{\"attributes\":{\"coordinates\":null,\"group\":null,\"text\":\"Asia-Pacific - Q1 2018 through Q2 2020\",\"text_color\":\"black\",\"text_font_size\":\"12pt\"},\"id\":\"2086\",\"type\":\"Title\"},{\"attributes\":{},\"id\":\"2105\",\"type\":\"ResetTool\"},{\"attributes\":{},\"id\":\"2103\",\"type\":\"WheelZoomTool\"},{\"attributes\":{},\"id\":\"2115\",\"type\":\"Selection\"},{\"attributes\":{\"line_color\":\"purple\",\"line_width\":2,\"x\":{\"field\":\"Years\"},\"y\":{\"field\":\"Revenue\"}},\"id\":\"2117\",\"type\":\"Line\"},{\"attributes\":{\"axis\":{\"id\":\"2094\"},\"coordinates\":null,\"grid_line_color\":null,\"group\":null,\"ticker\":null},\"id\":\"2096\",\"type\":\"Grid\"},{\"attributes\":{\"line_alpha\":0.1,\"line_color\":\"purple\",\"line_width\":2,\"x\":{\"field\":\"Years\"},\"y\":{\"field\":\"Revenue\"}},\"id\":\"2118\",\"type\":\"Line\"},{\"attributes\":{\"overlay\":{\"id\":\"2106\"}},\"id\":\"2104\",\"type\":\"BoxZoomTool\"},{\"attributes\":{\"data\":{\"Revenue\":[199117000,221252000,248691000,276756000,319602000,349494000,382304000,418121000,483660000,569140000],\"Years\":[\"Q1 - 2018\",\"Q2 - 2018\",\"Q3 - 2018\",\"Q4 - 2018\",\"Q1 - 2019\",\"Q2 - 2019\",\"Q3 - 2019\",\"Q4 - 2019\",\"Q1 - 2020\",\"Q2 - 2020\"]},\"selected\":{\"id\":\"2115\"},\"selection_policy\":{\"id\":\"2139\"}},\"id\":\"2114\",\"type\":\"ColumnDataSource\"},{\"attributes\":{},\"id\":\"2139\",\"type\":\"UnionRenderers\"},{\"attributes\":{},\"id\":\"2090\",\"type\":\"CategoricalScale\"},{\"attributes\":{\"axis_label\":\"Revenue Periods\",\"coordinates\":null,\"formatter\":{\"id\":\"2126\"},\"group\":null,\"major_label_orientation\":0.7853981633974483,\"major_label_policy\":{\"id\":\"2127\"},\"ticker\":{\"id\":\"2095\"}},\"id\":\"2094\",\"type\":\"CategoricalAxis\"},{\"attributes\":{\"margin\":[5,5,5,5],\"name\":\"HSpacer01657\",\"sizing_mode\":\"stretch_width\"},\"id\":\"2142\",\"type\":\"Spacer\"},{\"attributes\":{\"tools\":[{\"id\":\"2084\"},{\"id\":\"2101\"},{\"id\":\"2102\"},{\"id\":\"2103\"},{\"id\":\"2104\"},{\"id\":\"2105\"}]},\"id\":\"2107\",\"type\":\"Toolbar\"},{\"attributes\":{},\"id\":\"2092\",\"type\":\"LinearScale\"},{\"attributes\":{\"factors\":[\"Q1 - 2018\",\"Q2 - 2018\",\"Q3 - 2018\",\"Q4 - 2018\",\"Q1 - 2019\",\"Q2 - 2019\",\"Q3 - 2019\",\"Q4 - 2019\",\"Q1 - 2020\",\"Q2 - 2020\"],\"tags\":[[[\"Years\",\"Years\",null]]]},\"id\":\"2082\",\"type\":\"FactorRange\"},{\"attributes\":{},\"id\":\"2098\",\"type\":\"BasicTicker\"},{\"attributes\":{},\"id\":\"2095\",\"type\":\"CategoricalTicker\"},{\"attributes\":{},\"id\":\"2126\",\"type\":\"CategoricalTickFormatter\"},{\"attributes\":{\"axis_label\":\"Revenue\",\"coordinates\":null,\"formatter\":{\"id\":\"2124\"},\"group\":null,\"major_label_policy\":{\"id\":\"2130\"},\"ticker\":{\"id\":\"2098\"}},\"id\":\"2097\",\"type\":\"LinearAxis\"},{\"attributes\":{\"margin\":[5,5,5,5],\"name\":\"HSpacer01656\",\"sizing_mode\":\"stretch_width\"},\"id\":\"2081\",\"type\":\"Spacer\"},{\"attributes\":{\"children\":[{\"id\":\"2081\"},{\"id\":\"2085\"},{\"id\":\"2142\"}],\"margin\":[0,0,0,0],\"name\":\"Row01652\",\"tags\":[\"embedded\"]},\"id\":\"2080\",\"type\":\"Row\"},{\"attributes\":{\"axis\":{\"id\":\"2097\"},\"coordinates\":null,\"dimension\":1,\"grid_line_color\":null,\"group\":null,\"ticker\":null},\"id\":\"2100\",\"type\":\"Grid\"},{\"attributes\":{\"format\":\"%.0f\"},\"id\":\"2124\",\"type\":\"PrintfTickFormatter\"}],\"root_ids\":[\"2080\"]},\"title\":\"Bokeh Application\",\"version\":\"2.4.3\"}};\n",
       "    var render_items = [{\"docid\":\"c28b715b-b8d5-4b2a-9170-17b79bf02095\",\"root_ids\":[\"2080\"],\"roots\":{\"2080\":\"063326b9-acf1-4598-86bf-b86f8c042537\"}}];\n",
       "    root.Bokeh.embed.embed_items_notebook(docs_json, render_items);\n",
       "  }\n",
       "  if (root.Bokeh !== undefined && root.Bokeh.Panel !== undefined) {\n",
       "    embed_document(root);\n",
       "  } else {\n",
       "    var attempts = 0;\n",
       "    var timer = setInterval(function(root) {\n",
       "      if (root.Bokeh !== undefined && root.Bokeh.Panel !== undefined) {\n",
       "        clearInterval(timer);\n",
       "        embed_document(root);\n",
       "      } else if (document.readyState == \"complete\") {\n",
       "        attempts++;\n",
       "        if (attempts > 200) {\n",
       "          clearInterval(timer);\n",
       "          console.log(\"Bokeh: ERROR: Unable to run BokehJS code because BokehJS library is missing\");\n",
       "        }\n",
       "      }\n",
       "    }, 25, root)\n",
       "  }\n",
       "})(window);</script>"
      ],
      "text/plain": [
       ":Curve   [Years]   (Revenue)"
      ]
     },
     "execution_count": 14,
     "metadata": {
      "application/vnd.holoviews_exec.v0+json": {
       "id": "2080"
      }
     },
     "output_type": "execute_result"
    }
   ],
   "source": [
    "# Create a styled line plot for the Asia-Pacific region. \n",
    "# Make the line_color orange and be sure to set the plot equal to a variable. \n",
    "ap_plot = ap_revenue['Revenue'].hvplot(\n",
    "    xlabel='Revenue Periods',\n",
    "    ylabel='Revenue', \n",
    "    rot=45,\n",
    "    label='Asia-Pacific - Q1 2018 through Q2 2020',\n",
    ").opts(\n",
    "    yformatter='%.0f', \n",
    "    line_color=\"purple\", \n",
    "    hover_line_color=\"yellow\"\n",
    ")  \n",
    "\n",
    "# Show the plot\n",
    "ap_plot"
   ]
  },
  {
   "cell_type": "code",
   "execution_count": 15,
   "metadata": {},
   "outputs": [],
   "source": [
    "# Create a DataFrame that slices the subscriber data for the Latin America region\n",
    "lam_revenue = regional_revenue_df.loc[regional_revenue_df['Area'] == 'Latin America']\n",
    "\n",
    "# Set the index of the DataFrame to Years\n",
    "lam_revenue = lam_revenue.set_index('Years')"
   ]
  },
  {
   "cell_type": "code",
   "execution_count": 16,
   "metadata": {},
   "outputs": [
    {
     "data": {},
     "metadata": {},
     "output_type": "display_data"
    },
    {
     "data": {
      "application/vnd.holoviews_exec.v0+json": "",
      "text/html": [
       "<div id='2189'>\n",
       "  <div class=\"bk-root\" id=\"47da0c62-99d9-403d-8a92-ce2bb8632a94\" data-root-id=\"2189\"></div>\n",
       "</div>\n",
       "<script type=\"application/javascript\">(function(root) {\n",
       "  function embed_document(root) {\n",
       "    var docs_json = {\"cd0ed90b-0217-436c-943e-1c6b919d3c14\":{\"defs\":[{\"extends\":null,\"module\":null,\"name\":\"ReactiveHTML1\",\"overrides\":[],\"properties\":[]},{\"extends\":null,\"module\":null,\"name\":\"FlexBox1\",\"overrides\":[],\"properties\":[{\"default\":\"flex-start\",\"kind\":null,\"name\":\"align_content\"},{\"default\":\"flex-start\",\"kind\":null,\"name\":\"align_items\"},{\"default\":\"row\",\"kind\":null,\"name\":\"flex_direction\"},{\"default\":\"wrap\",\"kind\":null,\"name\":\"flex_wrap\"},{\"default\":\"flex-start\",\"kind\":null,\"name\":\"justify_content\"}]},{\"extends\":null,\"module\":null,\"name\":\"GridStack1\",\"overrides\":[],\"properties\":[{\"default\":\"warn\",\"kind\":null,\"name\":\"mode\"},{\"default\":null,\"kind\":null,\"name\":\"ncols\"},{\"default\":null,\"kind\":null,\"name\":\"nrows\"},{\"default\":true,\"kind\":null,\"name\":\"allow_resize\"},{\"default\":true,\"kind\":null,\"name\":\"allow_drag\"},{\"default\":[],\"kind\":null,\"name\":\"state\"}]},{\"extends\":null,\"module\":null,\"name\":\"click1\",\"overrides\":[],\"properties\":[{\"default\":\"\",\"kind\":null,\"name\":\"terminal_output\"},{\"default\":\"\",\"kind\":null,\"name\":\"debug_name\"},{\"default\":0,\"kind\":null,\"name\":\"clears\"}]},{\"extends\":null,\"module\":null,\"name\":\"NotificationAreaBase1\",\"overrides\":[],\"properties\":[{\"default\":\"bottom-right\",\"kind\":null,\"name\":\"position\"},{\"default\":0,\"kind\":null,\"name\":\"_clear\"}]},{\"extends\":null,\"module\":null,\"name\":\"NotificationArea1\",\"overrides\":[],\"properties\":[{\"default\":[],\"kind\":null,\"name\":\"notifications\"},{\"default\":\"bottom-right\",\"kind\":null,\"name\":\"position\"},{\"default\":0,\"kind\":null,\"name\":\"_clear\"},{\"default\":[{\"background\":\"#ffc107\",\"icon\":{\"className\":\"fas fa-exclamation-triangle\",\"color\":\"white\",\"tagName\":\"i\"},\"type\":\"warning\"},{\"background\":\"#007bff\",\"icon\":{\"className\":\"fas fa-info-circle\",\"color\":\"white\",\"tagName\":\"i\"},\"type\":\"info\"}],\"kind\":null,\"name\":\"types\"}]},{\"extends\":null,\"module\":null,\"name\":\"Notification\",\"overrides\":[],\"properties\":[{\"default\":null,\"kind\":null,\"name\":\"background\"},{\"default\":3000,\"kind\":null,\"name\":\"duration\"},{\"default\":null,\"kind\":null,\"name\":\"icon\"},{\"default\":\"\",\"kind\":null,\"name\":\"message\"},{\"default\":null,\"kind\":null,\"name\":\"notification_type\"},{\"default\":false,\"kind\":null,\"name\":\"_destroyed\"}]},{\"extends\":null,\"module\":null,\"name\":\"TemplateActions1\",\"overrides\":[],\"properties\":[{\"default\":0,\"kind\":null,\"name\":\"open_modal\"},{\"default\":0,\"kind\":null,\"name\":\"close_modal\"}]},{\"extends\":null,\"module\":null,\"name\":\"MaterialTemplateActions1\",\"overrides\":[],\"properties\":[{\"default\":0,\"kind\":null,\"name\":\"open_modal\"},{\"default\":0,\"kind\":null,\"name\":\"close_modal\"}]}],\"roots\":{\"references\":[{\"attributes\":{\"axis\":{\"id\":\"2206\"},\"coordinates\":null,\"dimension\":1,\"grid_line_color\":null,\"group\":null,\"ticker\":null},\"id\":\"2209\",\"type\":\"Grid\"},{\"attributes\":{},\"id\":\"2207\",\"type\":\"BasicTicker\"},{\"attributes\":{},\"id\":\"2235\",\"type\":\"CategoricalTickFormatter\"},{\"attributes\":{\"end\":818780100.0,\"reset_end\":818780100.0,\"reset_start\":514854900.0,\"start\":514854900.0,\"tags\":[[[\"Revenue\",\"Revenue\",null]]]},\"id\":\"2192\",\"type\":\"Range1d\"},{\"attributes\":{\"line_color\":\"fuchsia\",\"line_width\":2,\"x\":{\"field\":\"Years\"},\"y\":{\"field\":\"Revenue\"}},\"id\":\"2232\",\"type\":\"Line\"},{\"attributes\":{\"format\":\"%.0f\"},\"id\":\"2233\",\"type\":\"PrintfTickFormatter\"},{\"attributes\":{\"callback\":null,\"renderers\":[{\"id\":\"2230\"}],\"tags\":[\"hv_created\"],\"tooltips\":[[\"Years\",\"@{Years}\"],[\"Revenue\",\"@{Revenue}\"]]},\"id\":\"2193\",\"type\":\"HoverTool\"},{\"attributes\":{\"below\":[{\"id\":\"2203\"}],\"center\":[{\"id\":\"2205\"},{\"id\":\"2209\"}],\"height\":300,\"left\":[{\"id\":\"2206\"}],\"margin\":[5,5,5,5],\"min_border_bottom\":10,\"min_border_left\":10,\"min_border_right\":10,\"min_border_top\":10,\"renderers\":[{\"id\":\"2230\"}],\"sizing_mode\":\"fixed\",\"title\":{\"id\":\"2195\"},\"toolbar\":{\"id\":\"2216\"},\"width\":700,\"x_range\":{\"id\":\"2191\"},\"x_scale\":{\"id\":\"2199\"},\"y_range\":{\"id\":\"2192\"},\"y_scale\":{\"id\":\"2201\"}},\"id\":\"2194\",\"subtype\":\"Figure\",\"type\":\"Plot\"},{\"attributes\":{\"coordinates\":null,\"data_source\":{\"id\":\"2223\"},\"glyph\":{\"id\":\"2226\"},\"group\":null,\"hover_glyph\":{\"id\":\"2228\"},\"muted_glyph\":{\"id\":\"2229\"},\"nonselection_glyph\":{\"id\":\"2227\"},\"selection_glyph\":{\"id\":\"2232\"},\"view\":{\"id\":\"2231\"}},\"id\":\"2230\",\"type\":\"GlyphRenderer\"},{\"attributes\":{\"source\":{\"id\":\"2223\"}},\"id\":\"2231\",\"type\":\"CDSView\"},{\"attributes\":{\"line_alpha\":0.2,\"line_color\":\"fuchsia\",\"line_width\":2,\"x\":{\"field\":\"Years\"},\"y\":{\"field\":\"Revenue\"}},\"id\":\"2229\",\"type\":\"Line\"},{\"attributes\":{\"tools\":[{\"id\":\"2193\"},{\"id\":\"2210\"},{\"id\":\"2211\"},{\"id\":\"2212\"},{\"id\":\"2213\"},{\"id\":\"2214\"}]},\"id\":\"2216\",\"type\":\"Toolbar\"},{\"attributes\":{},\"id\":\"2236\",\"type\":\"AllLabels\"},{\"attributes\":{\"bottom_units\":\"screen\",\"coordinates\":null,\"fill_alpha\":0.5,\"fill_color\":\"lightgrey\",\"group\":null,\"left_units\":\"screen\",\"level\":\"overlay\",\"line_alpha\":1.0,\"line_color\":\"black\",\"line_dash\":[4,4],\"line_width\":2,\"right_units\":\"screen\",\"syncable\":false,\"top_units\":\"screen\"},\"id\":\"2215\",\"type\":\"BoxAnnotation\"},{\"attributes\":{\"line_color\":\"yellow\",\"line_width\":2,\"x\":{\"field\":\"Years\"},\"y\":{\"field\":\"Revenue\"}},\"id\":\"2228\",\"type\":\"Line\"},{\"attributes\":{},\"id\":\"2210\",\"type\":\"SaveTool\"},{\"attributes\":{},\"id\":\"2211\",\"type\":\"PanTool\"},{\"attributes\":{},\"id\":\"2239\",\"type\":\"AllLabels\"},{\"attributes\":{\"coordinates\":null,\"group\":null,\"text\":\"Latin America - Q1 2018 through Q2 2020\",\"text_color\":\"black\",\"text_font_size\":\"12pt\"},\"id\":\"2195\",\"type\":\"Title\"},{\"attributes\":{\"margin\":[5,5,5,5],\"name\":\"HSpacer01756\",\"sizing_mode\":\"stretch_width\"},\"id\":\"2190\",\"type\":\"Spacer\"},{\"attributes\":{},\"id\":\"2214\",\"type\":\"ResetTool\"},{\"attributes\":{},\"id\":\"2212\",\"type\":\"WheelZoomTool\"},{\"attributes\":{},\"id\":\"2224\",\"type\":\"Selection\"},{\"attributes\":{\"axis\":{\"id\":\"2203\"},\"coordinates\":null,\"grid_line_color\":null,\"group\":null,\"ticker\":null},\"id\":\"2205\",\"type\":\"Grid\"},{\"attributes\":{\"overlay\":{\"id\":\"2215\"}},\"id\":\"2213\",\"type\":\"BoxZoomTool\"},{\"attributes\":{\"data\":{\"Revenue\":[540182000,568071000,562307000,567137000,630472000,677136000,741434000,746392000,793453000,785368000],\"Years\":[\"Q1 - 2018\",\"Q2 - 2018\",\"Q3 - 2018\",\"Q4 - 2018\",\"Q1 - 2019\",\"Q2 - 2019\",\"Q3 - 2019\",\"Q4 - 2019\",\"Q1 - 2020\",\"Q2 - 2020\"]},\"selected\":{\"id\":\"2224\"},\"selection_policy\":{\"id\":\"2248\"}},\"id\":\"2223\",\"type\":\"ColumnDataSource\"},{\"attributes\":{},\"id\":\"2248\",\"type\":\"UnionRenderers\"},{\"attributes\":{},\"id\":\"2199\",\"type\":\"CategoricalScale\"},{\"attributes\":{\"axis_label\":\"Revenue Periods\",\"coordinates\":null,\"formatter\":{\"id\":\"2235\"},\"group\":null,\"major_label_orientation\":0.7853981633974483,\"major_label_policy\":{\"id\":\"2236\"},\"ticker\":{\"id\":\"2204\"}},\"id\":\"2203\",\"type\":\"CategoricalAxis\"},{\"attributes\":{\"line_color\":\"fuchsia\",\"line_width\":2,\"x\":{\"field\":\"Years\"},\"y\":{\"field\":\"Revenue\"}},\"id\":\"2226\",\"type\":\"Line\"},{\"attributes\":{\"children\":[{\"id\":\"2190\"},{\"id\":\"2194\"},{\"id\":\"2251\"}],\"margin\":[0,0,0,0],\"name\":\"Row01752\",\"tags\":[\"embedded\"]},\"id\":\"2189\",\"type\":\"Row\"},{\"attributes\":{},\"id\":\"2201\",\"type\":\"LinearScale\"},{\"attributes\":{\"factors\":[\"Q1 - 2018\",\"Q2 - 2018\",\"Q3 - 2018\",\"Q4 - 2018\",\"Q1 - 2019\",\"Q2 - 2019\",\"Q3 - 2019\",\"Q4 - 2019\",\"Q1 - 2020\",\"Q2 - 2020\"],\"tags\":[[[\"Years\",\"Years\",null]]]},\"id\":\"2191\",\"type\":\"FactorRange\"},{\"attributes\":{},\"id\":\"2204\",\"type\":\"CategoricalTicker\"},{\"attributes\":{\"margin\":[5,5,5,5],\"name\":\"HSpacer01757\",\"sizing_mode\":\"stretch_width\"},\"id\":\"2251\",\"type\":\"Spacer\"},{\"attributes\":{\"axis_label\":\"Revenue\",\"coordinates\":null,\"formatter\":{\"id\":\"2233\"},\"group\":null,\"major_label_policy\":{\"id\":\"2239\"},\"ticker\":{\"id\":\"2207\"}},\"id\":\"2206\",\"type\":\"LinearAxis\"},{\"attributes\":{\"line_alpha\":0.1,\"line_color\":\"fuchsia\",\"line_width\":2,\"x\":{\"field\":\"Years\"},\"y\":{\"field\":\"Revenue\"}},\"id\":\"2227\",\"type\":\"Line\"}],\"root_ids\":[\"2189\"]},\"title\":\"Bokeh Application\",\"version\":\"2.4.3\"}};\n",
       "    var render_items = [{\"docid\":\"cd0ed90b-0217-436c-943e-1c6b919d3c14\",\"root_ids\":[\"2189\"],\"roots\":{\"2189\":\"47da0c62-99d9-403d-8a92-ce2bb8632a94\"}}];\n",
       "    root.Bokeh.embed.embed_items_notebook(docs_json, render_items);\n",
       "  }\n",
       "  if (root.Bokeh !== undefined && root.Bokeh.Panel !== undefined) {\n",
       "    embed_document(root);\n",
       "  } else {\n",
       "    var attempts = 0;\n",
       "    var timer = setInterval(function(root) {\n",
       "      if (root.Bokeh !== undefined && root.Bokeh.Panel !== undefined) {\n",
       "        clearInterval(timer);\n",
       "        embed_document(root);\n",
       "      } else if (document.readyState == \"complete\") {\n",
       "        attempts++;\n",
       "        if (attempts > 200) {\n",
       "          clearInterval(timer);\n",
       "          console.log(\"Bokeh: ERROR: Unable to run BokehJS code because BokehJS library is missing\");\n",
       "        }\n",
       "      }\n",
       "    }, 25, root)\n",
       "  }\n",
       "})(window);</script>"
      ],
      "text/plain": [
       ":Curve   [Years]   (Revenue)"
      ]
     },
     "execution_count": 16,
     "metadata": {
      "application/vnd.holoviews_exec.v0+json": {
       "id": "2189"
      }
     },
     "output_type": "execute_result"
    }
   ],
   "source": [
    "# Create a styled line plot for the Latin America region. \n",
    "# Make the line_color orange and be sure to set the plot equal to a variable. \n",
    "lam_plot = lam_revenue['Revenue'].hvplot(\n",
    "    xlabel='Revenue Periods',\n",
    "    ylabel='Revenue', \n",
    "    rot=45,\n",
    "    label='Latin America - Q1 2018 through Q2 2020',\n",
    ").opts(\n",
    "    yformatter='%.0f', \n",
    "    line_color=\"fuchsia\", \n",
    "    hover_line_color=\"yellow\"\n",
    ")  \n",
    "\n",
    "# Show the plot\n",
    "lam_plot"
   ]
  },
  {
   "cell_type": "code",
   "execution_count": 17,
   "metadata": {},
   "outputs": [
    {
     "data": {},
     "metadata": {},
     "output_type": "display_data"
    },
    {
     "data": {
      "application/vnd.holoviews_exec.v0+json": "",
      "text/html": [
       "<div id='2298'>\n",
       "  <div class=\"bk-root\" id=\"cf05565a-4ed6-472d-9114-61b50b83efb9\" data-root-id=\"2298\"></div>\n",
       "</div>\n",
       "<script type=\"application/javascript\">(function(root) {\n",
       "  function embed_document(root) {\n",
       "    var docs_json = {\"e5b2b0ea-7ded-4c03-9c94-86a3b74873c1\":{\"defs\":[{\"extends\":null,\"module\":null,\"name\":\"ReactiveHTML1\",\"overrides\":[],\"properties\":[]},{\"extends\":null,\"module\":null,\"name\":\"FlexBox1\",\"overrides\":[],\"properties\":[{\"default\":\"flex-start\",\"kind\":null,\"name\":\"align_content\"},{\"default\":\"flex-start\",\"kind\":null,\"name\":\"align_items\"},{\"default\":\"row\",\"kind\":null,\"name\":\"flex_direction\"},{\"default\":\"wrap\",\"kind\":null,\"name\":\"flex_wrap\"},{\"default\":\"flex-start\",\"kind\":null,\"name\":\"justify_content\"}]},{\"extends\":null,\"module\":null,\"name\":\"GridStack1\",\"overrides\":[],\"properties\":[{\"default\":\"warn\",\"kind\":null,\"name\":\"mode\"},{\"default\":null,\"kind\":null,\"name\":\"ncols\"},{\"default\":null,\"kind\":null,\"name\":\"nrows\"},{\"default\":true,\"kind\":null,\"name\":\"allow_resize\"},{\"default\":true,\"kind\":null,\"name\":\"allow_drag\"},{\"default\":[],\"kind\":null,\"name\":\"state\"}]},{\"extends\":null,\"module\":null,\"name\":\"click1\",\"overrides\":[],\"properties\":[{\"default\":\"\",\"kind\":null,\"name\":\"terminal_output\"},{\"default\":\"\",\"kind\":null,\"name\":\"debug_name\"},{\"default\":0,\"kind\":null,\"name\":\"clears\"}]},{\"extends\":null,\"module\":null,\"name\":\"NotificationAreaBase1\",\"overrides\":[],\"properties\":[{\"default\":\"bottom-right\",\"kind\":null,\"name\":\"position\"},{\"default\":0,\"kind\":null,\"name\":\"_clear\"}]},{\"extends\":null,\"module\":null,\"name\":\"NotificationArea1\",\"overrides\":[],\"properties\":[{\"default\":[],\"kind\":null,\"name\":\"notifications\"},{\"default\":\"bottom-right\",\"kind\":null,\"name\":\"position\"},{\"default\":0,\"kind\":null,\"name\":\"_clear\"},{\"default\":[{\"background\":\"#ffc107\",\"icon\":{\"className\":\"fas fa-exclamation-triangle\",\"color\":\"white\",\"tagName\":\"i\"},\"type\":\"warning\"},{\"background\":\"#007bff\",\"icon\":{\"className\":\"fas fa-info-circle\",\"color\":\"white\",\"tagName\":\"i\"},\"type\":\"info\"}],\"kind\":null,\"name\":\"types\"}]},{\"extends\":null,\"module\":null,\"name\":\"Notification\",\"overrides\":[],\"properties\":[{\"default\":null,\"kind\":null,\"name\":\"background\"},{\"default\":3000,\"kind\":null,\"name\":\"duration\"},{\"default\":null,\"kind\":null,\"name\":\"icon\"},{\"default\":\"\",\"kind\":null,\"name\":\"message\"},{\"default\":null,\"kind\":null,\"name\":\"notification_type\"},{\"default\":false,\"kind\":null,\"name\":\"_destroyed\"}]},{\"extends\":null,\"module\":null,\"name\":\"TemplateActions1\",\"overrides\":[],\"properties\":[{\"default\":0,\"kind\":null,\"name\":\"open_modal\"},{\"default\":0,\"kind\":null,\"name\":\"close_modal\"}]},{\"extends\":null,\"module\":null,\"name\":\"MaterialTemplateActions1\",\"overrides\":[],\"properties\":[{\"default\":0,\"kind\":null,\"name\":\"open_modal\"},{\"default\":0,\"kind\":null,\"name\":\"close_modal\"}]}],\"roots\":{\"references\":[{\"attributes\":{\"coordinates\":null,\"data_source\":{\"id\":\"2387\"},\"glyph\":{\"id\":\"2390\"},\"group\":null,\"hover_glyph\":{\"id\":\"2392\"},\"muted_glyph\":{\"id\":\"2393\"},\"nonselection_glyph\":{\"id\":\"2391\"},\"selection_glyph\":{\"id\":\"2410\"},\"view\":{\"id\":\"2395\"}},\"id\":\"2394\",\"type\":\"GlyphRenderer\"},{\"attributes\":{\"click_policy\":\"mute\",\"coordinates\":null,\"group\":null,\"items\":[{\"id\":\"2363\"},{\"id\":\"2385\"},{\"id\":\"2409\"},{\"id\":\"2435\"}]},\"id\":\"2362\",\"type\":\"Legend\"},{\"attributes\":{\"coordinates\":null,\"data_source\":{\"id\":\"2411\"},\"glyph\":{\"id\":\"2414\"},\"group\":null,\"hover_glyph\":{\"id\":\"2416\"},\"muted_glyph\":{\"id\":\"2417\"},\"nonselection_glyph\":{\"id\":\"2415\"},\"selection_glyph\":{\"id\":\"2436\"},\"view\":{\"id\":\"2419\"}},\"id\":\"2418\",\"type\":\"GlyphRenderer\"},{\"attributes\":{\"line_alpha\":0.1,\"line_color\":\"blue\",\"line_width\":2,\"x\":{\"field\":\"Years\"},\"y\":{\"field\":\"Revenue\"}},\"id\":\"2348\",\"type\":\"Line\"},{\"attributes\":{\"label\":{\"value\":\"United States and Canada Revenue - Q1 2018 through Q2 2020\"},\"renderers\":[{\"id\":\"2351\"}]},\"id\":\"2363\",\"type\":\"LegendItem\"},{\"attributes\":{\"line_color\":\"purple\",\"line_width\":2,\"x\":{\"field\":\"Years\"},\"y\":{\"field\":\"Revenue\"}},\"id\":\"2410\",\"type\":\"Line\"},{\"attributes\":{},\"id\":\"2326\",\"type\":\"ResetTool\"},{\"attributes\":{\"line_color\":\"orange\",\"line_width\":2,\"x\":{\"field\":\"Years\"},\"y\":{\"field\":\"Revenue\"}},\"id\":\"2386\",\"type\":\"Line\"},{\"attributes\":{\"line_color\":\"blue\",\"line_width\":2,\"x\":{\"field\":\"Years\"},\"y\":{\"field\":\"Revenue\"}},\"id\":\"2364\",\"type\":\"Line\"},{\"attributes\":{\"line_color\":\"blue\",\"line_width\":2,\"x\":{\"field\":\"Years\"},\"y\":{\"field\":\"Revenue\"}},\"id\":\"2347\",\"type\":\"Line\"},{\"attributes\":{\"line_alpha\":0.2,\"line_color\":\"orange\",\"line_width\":2,\"x\":{\"field\":\"Years\"},\"y\":{\"field\":\"Revenue\"}},\"id\":\"2371\",\"type\":\"Line\"},{\"attributes\":{\"line_color\":\"yellow\",\"line_width\":2,\"x\":{\"field\":\"Years\"},\"y\":{\"field\":\"Revenue\"}},\"id\":\"2416\",\"type\":\"Line\"},{\"attributes\":{\"background_fill_color\":\"lightgrey\",\"below\":[{\"id\":\"2315\"}],\"center\":[{\"id\":\"2317\"},{\"id\":\"2321\"},{\"id\":\"2362\"}],\"height\":500,\"left\":[{\"id\":\"2318\"}],\"margin\":[5,5,5,5],\"min_border_bottom\":10,\"min_border_left\":10,\"min_border_right\":10,\"min_border_top\":10,\"renderers\":[{\"id\":\"2351\"},{\"id\":\"2372\"},{\"id\":\"2394\"},{\"id\":\"2418\"}],\"sizing_mode\":\"fixed\",\"title\":{\"id\":\"2307\"},\"toolbar\":{\"id\":\"2328\"},\"width\":1000,\"x_range\":{\"id\":\"2300\"},\"x_scale\":{\"id\":\"2311\"},\"y_range\":{\"id\":\"2301\"},\"y_scale\":{\"id\":\"2313\"}},\"id\":\"2306\",\"subtype\":\"Figure\",\"type\":\"Plot\"},{\"attributes\":{\"line_color\":\"yellow\",\"line_width\":2,\"x\":{\"field\":\"Years\"},\"y\":{\"field\":\"Revenue\"}},\"id\":\"2392\",\"type\":\"Line\"},{\"attributes\":{\"coordinates\":null,\"data_source\":{\"id\":\"2344\"},\"glyph\":{\"id\":\"2347\"},\"group\":null,\"hover_glyph\":{\"id\":\"2349\"},\"muted_glyph\":{\"id\":\"2350\"},\"nonselection_glyph\":{\"id\":\"2348\"},\"selection_glyph\":{\"id\":\"2364\"},\"view\":{\"id\":\"2352\"}},\"id\":\"2351\",\"type\":\"GlyphRenderer\"},{\"attributes\":{\"line_alpha\":0.2,\"line_color\":\"blue\",\"line_width\":2,\"x\":{\"field\":\"Years\"},\"y\":{\"field\":\"Revenue\"}},\"id\":\"2350\",\"type\":\"Line\"},{\"attributes\":{},\"id\":\"2337\",\"type\":\"CategoricalTickFormatter\"},{\"attributes\":{\"end\":3103725300.0,\"reset_end\":3103725300.0,\"reset_start\":-64938300.0,\"start\":-64938300.0,\"tags\":[[[\"Revenue\",\"Revenue\",null]]]},\"id\":\"2301\",\"type\":\"Range1d\"},{\"attributes\":{\"source\":{\"id\":\"2365\"}},\"id\":\"2373\",\"type\":\"CDSView\"},{\"attributes\":{\"source\":{\"id\":\"2411\"}},\"id\":\"2419\",\"type\":\"CDSView\"},{\"attributes\":{\"source\":{\"id\":\"2387\"}},\"id\":\"2395\",\"type\":\"CDSView\"},{\"attributes\":{\"line_color\":\"purple\",\"line_width\":2,\"x\":{\"field\":\"Years\"},\"y\":{\"field\":\"Revenue\"}},\"id\":\"2390\",\"type\":\"Line\"},{\"attributes\":{\"format\":\"%.0f\"},\"id\":\"2335\",\"type\":\"PrintfTickFormatter\"},{\"attributes\":{},\"id\":\"2366\",\"type\":\"Selection\"},{\"attributes\":{\"margin\":[5,5,5,5],\"name\":\"HSpacer01861\",\"sizing_mode\":\"stretch_width\"},\"id\":\"2299\",\"type\":\"Spacer\"},{\"attributes\":{\"line_alpha\":0.2,\"line_color\":\"fuchsia\",\"line_width\":2,\"x\":{\"field\":\"Years\"},\"y\":{\"field\":\"Revenue\"}},\"id\":\"2417\",\"type\":\"Line\"},{\"attributes\":{\"line_alpha\":0.2,\"line_color\":\"purple\",\"line_width\":2,\"x\":{\"field\":\"Years\"},\"y\":{\"field\":\"Revenue\"}},\"id\":\"2393\",\"type\":\"Line\"},{\"attributes\":{\"coordinates\":null,\"data_source\":{\"id\":\"2365\"},\"glyph\":{\"id\":\"2368\"},\"group\":null,\"hover_glyph\":{\"id\":\"2370\"},\"muted_glyph\":{\"id\":\"2371\"},\"nonselection_glyph\":{\"id\":\"2369\"},\"selection_glyph\":{\"id\":\"2386\"},\"view\":{\"id\":\"2373\"}},\"id\":\"2372\",\"type\":\"GlyphRenderer\"},{\"attributes\":{\"line_alpha\":0.1,\"line_color\":\"purple\",\"line_width\":2,\"x\":{\"field\":\"Years\"},\"y\":{\"field\":\"Revenue\"}},\"id\":\"2391\",\"type\":\"Line\"},{\"attributes\":{\"data\":{\"Revenue\":[540182000,568071000,562307000,567137000,630472000,677136000,741434000,746392000,793453000,785368000],\"Years\":[\"Q1 - 2018\",\"Q2 - 2018\",\"Q3 - 2018\",\"Q4 - 2018\",\"Q1 - 2019\",\"Q2 - 2019\",\"Q3 - 2019\",\"Q4 - 2019\",\"Q1 - 2020\",\"Q2 - 2020\"]},\"selected\":{\"id\":\"2412\"},\"selection_policy\":{\"id\":\"2432\"}},\"id\":\"2411\",\"type\":\"ColumnDataSource\"},{\"attributes\":{},\"id\":\"2313\",\"type\":\"LinearScale\"},{\"attributes\":{\"label\":{\"value\":\"Latin America - Q1 2018 through Q2 2020\"},\"renderers\":[{\"id\":\"2418\"}]},\"id\":\"2435\",\"type\":\"LegendItem\"},{\"attributes\":{\"line_alpha\":0.1,\"line_color\":\"fuchsia\",\"line_width\":2,\"x\":{\"field\":\"Years\"},\"y\":{\"field\":\"Revenue\"}},\"id\":\"2415\",\"type\":\"Line\"},{\"attributes\":{\"line_color\":\"yellow\",\"line_width\":2,\"x\":{\"field\":\"Years\"},\"y\":{\"field\":\"Revenue\"}},\"id\":\"2370\",\"type\":\"Line\"},{\"attributes\":{},\"id\":\"2311\",\"type\":\"CategoricalScale\"},{\"attributes\":{\"line_alpha\":0.1,\"line_color\":\"orange\",\"line_width\":2,\"x\":{\"field\":\"Years\"},\"y\":{\"field\":\"Revenue\"}},\"id\":\"2369\",\"type\":\"Line\"},{\"attributes\":{},\"id\":\"2319\",\"type\":\"BasicTicker\"},{\"attributes\":{\"callback\":null,\"renderers\":[{\"id\":\"2351\"},{\"id\":\"2372\"},{\"id\":\"2394\"},{\"id\":\"2418\"}],\"tags\":[\"hv_created\"],\"tooltips\":[[\"Years\",\"@{Years}\"],[\"Revenue\",\"@{Revenue}\"]]},\"id\":\"2302\",\"type\":\"HoverTool\"},{\"attributes\":{\"margin\":[5,5,5,5],\"name\":\"HSpacer01862\",\"sizing_mode\":\"stretch_width\"},\"id\":\"2452\",\"type\":\"Spacer\"},{\"attributes\":{\"axis_label\":\"Revenue Periods\",\"coordinates\":null,\"formatter\":{\"id\":\"2337\"},\"group\":null,\"major_label_orientation\":0.7853981633974483,\"major_label_policy\":{\"id\":\"2338\"},\"ticker\":{\"id\":\"2316\"}},\"id\":\"2315\",\"type\":\"CategoricalAxis\"},{\"attributes\":{},\"id\":\"2388\",\"type\":\"Selection\"},{\"attributes\":{\"data\":{\"Revenue\":[886649000,975497000,1004749000,1096812000,1233379000,1319087000,1428040000,1562561000,1723474000,1892537000],\"Years\":[\"Q1 - 2018\",\"Q2 - 2018\",\"Q3 - 2018\",\"Q4 - 2018\",\"Q1 - 2019\",\"Q2 - 2019\",\"Q3 - 2019\",\"Q4 - 2019\",\"Q1 - 2020\",\"Q2 - 2020\"]},\"selected\":{\"id\":\"2366\"},\"selection_policy\":{\"id\":\"2382\"}},\"id\":\"2365\",\"type\":\"ColumnDataSource\"},{\"attributes\":{\"coordinates\":null,\"group\":null,\"text\":\"Regional Revenue Growth - Q1 2018 through Q2 2020\",\"text_color\":\"black\",\"text_font_size\":\"12pt\"},\"id\":\"2307\",\"type\":\"Title\"},{\"attributes\":{\"line_color\":\"fuchsia\",\"line_width\":2,\"x\":{\"field\":\"Years\"},\"y\":{\"field\":\"Revenue\"}},\"id\":\"2414\",\"type\":\"Line\"},{\"attributes\":{},\"id\":\"2324\",\"type\":\"WheelZoomTool\"},{\"attributes\":{},\"id\":\"2341\",\"type\":\"AllLabels\"},{\"attributes\":{},\"id\":\"2412\",\"type\":\"Selection\"},{\"attributes\":{},\"id\":\"2322\",\"type\":\"SaveTool\"},{\"attributes\":{\"source\":{\"id\":\"2344\"}},\"id\":\"2352\",\"type\":\"CDSView\"},{\"attributes\":{\"bottom_units\":\"screen\",\"coordinates\":null,\"fill_alpha\":0.5,\"fill_color\":\"lightgrey\",\"group\":null,\"left_units\":\"screen\",\"level\":\"overlay\",\"line_alpha\":1.0,\"line_color\":\"black\",\"line_dash\":[4,4],\"line_width\":2,\"right_units\":\"screen\",\"syncable\":false,\"top_units\":\"screen\"},\"id\":\"2327\",\"type\":\"BoxAnnotation\"},{\"attributes\":{},\"id\":\"2382\",\"type\":\"UnionRenderers\"},{\"attributes\":{\"line_color\":\"orange\",\"line_width\":2,\"x\":{\"field\":\"Years\"},\"y\":{\"field\":\"Revenue\"}},\"id\":\"2368\",\"type\":\"Line\"},{\"attributes\":{\"line_color\":\"yellow\",\"line_width\":2,\"x\":{\"field\":\"Years\"},\"y\":{\"field\":\"Revenue\"}},\"id\":\"2349\",\"type\":\"Line\"},{\"attributes\":{},\"id\":\"2323\",\"type\":\"PanTool\"},{\"attributes\":{},\"id\":\"2345\",\"type\":\"Selection\"},{\"attributes\":{\"axis\":{\"id\":\"2315\"},\"coordinates\":null,\"grid_line_color\":null,\"group\":null,\"ticker\":null},\"id\":\"2317\",\"type\":\"Grid\"},{\"attributes\":{\"overlay\":{\"id\":\"2327\"}},\"id\":\"2325\",\"type\":\"BoxZoomTool\"},{\"attributes\":{},\"id\":\"2338\",\"type\":\"AllLabels\"},{\"attributes\":{\"data\":{\"Revenue\":[199117000,221252000,248691000,276756000,319602000,349494000,382304000,418121000,483660000,569140000],\"Years\":[\"Q1 - 2018\",\"Q2 - 2018\",\"Q3 - 2018\",\"Q4 - 2018\",\"Q1 - 2019\",\"Q2 - 2019\",\"Q3 - 2019\",\"Q4 - 2019\",\"Q1 - 2020\",\"Q2 - 2020\"]},\"selected\":{\"id\":\"2388\"},\"selection_policy\":{\"id\":\"2406\"}},\"id\":\"2387\",\"type\":\"ColumnDataSource\"},{\"attributes\":{\"axis\":{\"id\":\"2318\"},\"coordinates\":null,\"dimension\":1,\"grid_line_color\":null,\"group\":null,\"ticker\":null},\"id\":\"2321\",\"type\":\"Grid\"},{\"attributes\":{\"children\":[{\"id\":\"2299\"},{\"id\":\"2306\"},{\"id\":\"2452\"}],\"margin\":[0,0,0,0],\"name\":\"Row01857\",\"tags\":[\"embedded\"]},\"id\":\"2298\",\"type\":\"Row\"},{\"attributes\":{\"factors\":[\"Q1 - 2018\",\"Q2 - 2018\",\"Q3 - 2018\",\"Q4 - 2018\",\"Q1 - 2019\",\"Q2 - 2019\",\"Q3 - 2019\",\"Q4 - 2019\",\"Q1 - 2020\",\"Q2 - 2020\"],\"tags\":[[[\"Years\",\"Years\",null]]]},\"id\":\"2300\",\"type\":\"FactorRange\"},{\"attributes\":{},\"id\":\"2316\",\"type\":\"CategoricalTicker\"},{\"attributes\":{},\"id\":\"2432\",\"type\":\"UnionRenderers\"},{\"attributes\":{\"tools\":[{\"id\":\"2302\"},{\"id\":\"2322\"},{\"id\":\"2323\"},{\"id\":\"2324\"},{\"id\":\"2325\"},{\"id\":\"2326\"}]},\"id\":\"2328\",\"type\":\"Toolbar\"},{\"attributes\":{\"line_color\":\"fuchsia\",\"line_width\":2,\"x\":{\"field\":\"Years\"},\"y\":{\"field\":\"Revenue\"}},\"id\":\"2436\",\"type\":\"Line\"},{\"attributes\":{\"label\":{\"value\":\"Europe, Middle East and Africa - Q1 2018 through Q2 2020\"},\"renderers\":[{\"id\":\"2372\"}]},\"id\":\"2385\",\"type\":\"LegendItem\"},{\"attributes\":{\"data\":{\"Revenue\":[1976157000,2049546000,2094850000,2160979000,2256851000,2501199000,2621250000,2671908000,2702776000,2839670000],\"Years\":[\"Q1 - 2018\",\"Q2 - 2018\",\"Q3 - 2018\",\"Q4 - 2018\",\"Q1 - 2019\",\"Q2 - 2019\",\"Q3 - 2019\",\"Q4 - 2019\",\"Q1 - 2020\",\"Q2 - 2020\"]},\"selected\":{\"id\":\"2345\"},\"selection_policy\":{\"id\":\"2359\"}},\"id\":\"2344\",\"type\":\"ColumnDataSource\"},{\"attributes\":{},\"id\":\"2406\",\"type\":\"UnionRenderers\"},{\"attributes\":{\"axis_label\":\"Revenue\",\"coordinates\":null,\"formatter\":{\"id\":\"2335\"},\"group\":null,\"major_label_policy\":{\"id\":\"2341\"},\"ticker\":{\"id\":\"2319\"}},\"id\":\"2318\",\"type\":\"LinearAxis\"},{\"attributes\":{},\"id\":\"2359\",\"type\":\"UnionRenderers\"},{\"attributes\":{\"label\":{\"value\":\"Asia-Pacific - Q1 2018 through Q2 2020\"},\"renderers\":[{\"id\":\"2394\"}]},\"id\":\"2409\",\"type\":\"LegendItem\"}],\"root_ids\":[\"2298\"]},\"title\":\"Bokeh Application\",\"version\":\"2.4.3\"}};\n",
       "    var render_items = [{\"docid\":\"e5b2b0ea-7ded-4c03-9c94-86a3b74873c1\",\"root_ids\":[\"2298\"],\"roots\":{\"2298\":\"cf05565a-4ed6-472d-9114-61b50b83efb9\"}}];\n",
       "    root.Bokeh.embed.embed_items_notebook(docs_json, render_items);\n",
       "  }\n",
       "  if (root.Bokeh !== undefined && root.Bokeh.Panel !== undefined) {\n",
       "    embed_document(root);\n",
       "  } else {\n",
       "    var attempts = 0;\n",
       "    var timer = setInterval(function(root) {\n",
       "      if (root.Bokeh !== undefined && root.Bokeh.Panel !== undefined) {\n",
       "        clearInterval(timer);\n",
       "        embed_document(root);\n",
       "      } else if (document.readyState == \"complete\") {\n",
       "        attempts++;\n",
       "        if (attempts > 200) {\n",
       "          clearInterval(timer);\n",
       "          console.log(\"Bokeh: ERROR: Unable to run BokehJS code because BokehJS library is missing\");\n",
       "        }\n",
       "      }\n",
       "    }, 25, root)\n",
       "  }\n",
       "})(window);</script>"
      ],
      "text/plain": [
       ":Overlay\n",
       "   .Curve.United_States_and_Canada_Revenue_hyphen_minus_Q1_2018_through_Q2_2020    :Curve   [Years]   (Revenue)\n",
       "   .Curve.Europe_comma_Middle_East_and_Africa_hyphen_minus_Q1_2018_through_Q2_2020 :Curve   [Years]   (Revenue)\n",
       "   .Curve.Asia_hyphen_minus_Pacific_hyphen_minus_Q1_2018_through_Q2_2020           :Curve   [Years]   (Revenue)\n",
       "   .Curve.Latin_America_hyphen_minus_Q1_2018_through_Q2_2020                       :Curve   [Years]   (Revenue)"
      ]
     },
     "execution_count": 17,
     "metadata": {
      "application/vnd.holoviews_exec.v0+json": {
       "id": "2298"
      }
     },
     "output_type": "execute_result"
    }
   ],
   "source": [
    "# Create a compose plot for all four regions\n",
    "(us_canada_plot * emea_plot * ap_plot * lam_plot).opts(\n",
    "    title=\"Regional Revenue Growth - Q1 2018 through Q2 2020\",\n",
    "    bgcolor=\"lightgrey\", \n",
    "    height=500,\n",
    "    width=1000,\n",
    ")"
   ]
  },
  {
   "cell_type": "code",
   "execution_count": null,
   "metadata": {},
   "outputs": [],
   "source": []
  }
 ],
 "metadata": {
  "kernelspec": {
   "display_name": "Python [conda env:dev_ASU]",
   "language": "python",
   "name": "conda-env-dev_ASU-py"
  },
  "language_info": {
   "codemirror_mode": {
    "name": "ipython",
    "version": 3
   },
   "file_extension": ".py",
   "mimetype": "text/x-python",
   "name": "python",
   "nbconvert_exporter": "python",
   "pygments_lexer": "ipython3",
   "version": "3.7.13"
  }
 },
 "nbformat": 4,
 "nbformat_minor": 4
}
