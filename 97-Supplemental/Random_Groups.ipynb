{
 "cells": [
  {
   "cell_type": "code",
   "execution_count": 1,
   "id": "7559f472-cd09-409f-938e-c7ac68f1872c",
   "metadata": {},
   "outputs": [
    {
     "data": {
      "text/plain": [
       "['Heloisa',\n",
       " 'Ravi',\n",
       " 'Aditya',\n",
       " 'Kayla',\n",
       " 'Alexander',\n",
       " 'Lulu',\n",
       " 'Antonio',\n",
       " 'Gabriel',\n",
       " 'Krish',\n",
       " 'Wilson',\n",
       " 'Jack',\n",
       " 'Kimberly',\n",
       " 'German']"
      ]
     },
     "execution_count": 1,
     "metadata": {},
     "output_type": "execute_result"
    }
   ],
   "source": [
    "import random\n",
    "\n",
    "# List of students\n",
    "students = ['Heloisa', 'Ravi', 'Aditya', 'Kayla', 'Alexander', \n",
    "            'Lulu', 'Antonio', 'Gabriel', 'Krish', 'Wilson',\n",
    "            'Jack', 'Kimberly', 'German']\n",
    "\n",
    "\n",
    "students"
   ]
  },
  {
   "cell_type": "code",
   "execution_count": 2,
   "id": "c5ec8569-e6e1-4b76-8e18-415a3eb4c1f0",
   "metadata": {},
   "outputs": [
    {
     "name": "stdout",
     "output_type": "stream",
     "text": [
      "Group 1: Antonio, Jack, Ravi, Krish\n",
      "Group 2: Gabriel, Kimberly, Heloisa\n",
      "Group 3: Aditya, Alexander, Lulu\n",
      "Group 4: German, Kayla, Wilson\n"
     ]
    }
   ],
   "source": [
    "# Number of students per group\n",
    "students_per_group = 3\n",
    "\n",
    "# Shuffle the list of students randomly\n",
    "random.shuffle(students)\n",
    "\n",
    "# Calculate the number of groups\n",
    "num_groups = len(students) // students_per_group\n",
    "\n",
    "# Initialize an empty list to store the groups\n",
    "groups = [[] for _ in range(num_groups)]\n",
    "\n",
    "# Assign students to groups\n",
    "for i, student in enumerate(students):\n",
    "    group_index = i % num_groups\n",
    "    groups[group_index].append(student)\n",
    "\n",
    "# Print the groups\n",
    "for i, group in enumerate(groups, start=1):\n",
    "    print(f\"Group {i}: {', '.join(group)}\")"
   ]
  },
  {
   "cell_type": "code",
   "execution_count": null,
   "id": "32c84d75-6486-45c8-8178-d74cbdb2ca9b",
   "metadata": {},
   "outputs": [],
   "source": []
  },
  {
   "cell_type": "code",
   "execution_count": null,
   "id": "75f9e357",
   "metadata": {},
   "outputs": [],
   "source": []
  }
 ],
 "metadata": {
  "kernelspec": {
   "display_name": "Python 3 (ipykernel)",
   "language": "python",
   "name": "python3"
  },
  "language_info": {
   "codemirror_mode": {
    "name": "ipython",
    "version": 3
   },
   "file_extension": ".py",
   "mimetype": "text/x-python",
   "name": "python",
   "nbconvert_exporter": "python",
   "pygments_lexer": "ipython3",
   "version": "3.10.13"
  }
 },
 "nbformat": 4,
 "nbformat_minor": 5
}
