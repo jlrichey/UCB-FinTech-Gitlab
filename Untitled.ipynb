{
 "cells": [
  {
   "cell_type": "code",
   "execution_count": 1,
   "id": "013467b1-ecdd-4b10-8c8b-991a3c6f3332",
   "metadata": {},
   "outputs": [],
   "source": [
    "# Imports\n",
    "from dataclasses import dataclass\n",
    "from datetime import datetime\n",
    "from typing import Any\n"
   ]
  },
  {
   "cell_type": "code",
   "execution_count": 2,
   "id": "defe98e2-ae0e-44cb-a570-f452f05e0337",
   "metadata": {},
   "outputs": [],
   "source": [
    "# Creating the Block data class\n",
    "@dataclass\n",
    "class Block:\n",
    "    data: Any\n",
    "    creator_id: int\n",
    "    timestamp: str = datetime.now().strftime(\"%H:%M:%S\")"
   ]
  },
  {
   "cell_type": "code",
   "execution_count": 3,
   "id": "4b565d6d-c4c5-4e58-8b50-7d9056cbfbe7",
   "metadata": {},
   "outputs": [],
   "source": [
    "# Creating a new block\n",
    "new_block = Block(data=\"My First Block!\", creator_id=42)"
   ]
  },
  {
   "cell_type": "code",
   "execution_count": 4,
   "id": "ec4599c7-a1f5-40ce-bcf8-055fcecd0aa6",
   "metadata": {},
   "outputs": [
    {
     "name": "stdout",
     "output_type": "stream",
     "text": [
      "Block(data='My First Block!', creator_id=42, timestamp='21:23:48')\n"
     ]
    }
   ],
   "source": [
    "# Print the new block\n",
    "print(new_block)"
   ]
  },
  {
   "cell_type": "code",
   "execution_count": null,
   "id": "a76b0911-7c3e-4663-9313-4c1ad0c0696a",
   "metadata": {},
   "outputs": [],
   "source": []
  }
 ],
 "metadata": {
  "kernelspec": {
   "display_name": "Python 3 (ipykernel)",
   "language": "python",
   "name": "python3"
  },
  "language_info": {
   "codemirror_mode": {
    "name": "ipython",
    "version": 3
   },
   "file_extension": ".py",
   "mimetype": "text/x-python",
   "name": "python",
   "nbconvert_exporter": "python",
   "pygments_lexer": "ipython3",
   "version": "3.10.13"
  }
 },
 "nbformat": 4,
 "nbformat_minor": 5
}
