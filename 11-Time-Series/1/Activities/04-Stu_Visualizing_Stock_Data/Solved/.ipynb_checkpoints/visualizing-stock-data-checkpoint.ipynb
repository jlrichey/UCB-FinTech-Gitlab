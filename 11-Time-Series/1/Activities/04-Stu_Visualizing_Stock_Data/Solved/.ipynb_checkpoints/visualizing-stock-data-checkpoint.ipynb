{
 "cells": [
  {
   "cell_type": "markdown",
   "metadata": {},
   "source": [
    "# Visualizing Stock Data\n",
    "\n",
    "In this activity, you'll convert a date column to `datetime` and perform slicing functions on various dates.\n",
    "\n",
    "Instructions\n",
    "\n",
    "In this activity, you’ll use the Tesla stock data that you used in the previous activity. The first part of the starter Jupyter notebook recalls the data preparation and time zone setting. Review the initial section, and then continue with the following steps:\n",
    "\n",
    "1. Set the “time” column as the DataFrame index.\n",
    "\n",
    "2. Plot the closing prices of the TSLA stock.\n",
    "\n",
    "3. Using the `loc` function, zoom in to 2020 to inspect the TSLA closing prices.\n",
    "\n",
    "4. Using the `loc` function, plot the closing prices from August and September 2020.\n",
    "\n",
    "5. Using the `loc` function, plot the closing prices from August 22 and September 5, 2020.\n",
    "\n",
    "\n",
    "\n",
    "References\n",
    "\n",
    "[Pandas.to_datetime](https://pandas.pydata.org/pandas-docs/stable/reference/api/pandas.to_datetime.html)\n",
    "\n",
    "[Pandas DataTimeIndex](https://pandas.pydata.org/docs/reference/api/pandas.DatetimeIndex.html)\n",
    "\n",
    "[Pandas loc function](https://pandas.pydata.org/pandas-docs/stable/reference/api/pandas.DataFrame.loc.html)\n"
   ]
  },
  {
   "cell_type": "code",
   "execution_count": null,
   "metadata": {},
   "outputs": [],
   "source": [
    "# Import the required libraries and dependencies\n",
    "import pandas as pd\n",
    "from path import Path"
   ]
  },
  {
   "cell_type": "markdown",
   "metadata": {},
   "source": [
    "## Data Preparation\n",
    "\n",
    "This section summarizes the steps completed in the \"Inspecting Time Zones in Stock Data\" activity. "
   ]
  },
  {
   "cell_type": "code",
   "execution_count": null,
   "metadata": {},
   "outputs": [],
   "source": [
    "# Read the data from the tsla_historical.csv file into a Pandas DataFrame\n",
    "df_tsla = pd.read_csv(\n",
    "    Path(\"../Resources/tsla_historical.csv\")\n",
    ")"
   ]
  },
  {
   "cell_type": "code",
   "execution_count": null,
   "metadata": {},
   "outputs": [],
   "source": [
    "# Display the first five rows of the DataFrame\n",
    "df_tsla.head()"
   ]
  },
  {
   "cell_type": "code",
   "execution_count": null,
   "metadata": {},
   "outputs": [],
   "source": [
    "# Inspect the DataFrame's data types using the info function\n",
    "df_tsla.info()"
   ]
  },
  {
   "cell_type": "code",
   "execution_count": null,
   "metadata": {},
   "outputs": [],
   "source": [
    "# Transform the time column to a datetime data type\n",
    "df_tsla[\"time\"] = pd.to_datetime(\n",
    "    df_tsla[\"time\"],\n",
    "    infer_datetime_format = True,\n",
    "    utc = True    \n",
    ")"
   ]
  },
  {
   "cell_type": "code",
   "execution_count": null,
   "metadata": {},
   "outputs": [],
   "source": [
    "# Display the first five rows of the DataFrame to confirm\n",
    "# changes to the time column\n",
    "df_tsla.head()"
   ]
  },
  {
   "cell_type": "code",
   "execution_count": null,
   "metadata": {},
   "outputs": [],
   "source": [
    "# Use the info function to confirm the change in data type \n",
    "# for the time column\n",
    "df_tsla.info()"
   ]
  },
  {
   "cell_type": "markdown",
   "metadata": {},
   "source": [
    "## Step 1: Set the “time” column as the DataFrame index."
   ]
  },
  {
   "cell_type": "code",
   "execution_count": null,
   "metadata": {},
   "outputs": [],
   "source": [
    "# Set the time column as DataFrame index\n",
    "df_tsla = df_tsla.set_index(\"time\")\n",
    "\n",
    "# Display the first five rows of the DataFrame\n",
    "df_tsla.head()"
   ]
  },
  {
   "cell_type": "markdown",
   "metadata": {},
   "source": [
    "## Step 2: Plot the closing prices of the TSLA stock."
   ]
  },
  {
   "cell_type": "code",
   "execution_count": null,
   "metadata": {},
   "outputs": [],
   "source": [
    "# Plot the closing price of TSLA\n",
    "df_tsla[\"close\"].plot(\n",
    "    title=\"Historial TSLA Closing Prices\", \n",
    "    figsize=[20, 10]\n",
    ")"
   ]
  },
  {
   "cell_type": "markdown",
   "metadata": {},
   "source": [
    "## Step 3: Using the `loc` function, zoom in to 2020 to inspect the TSLA closing prices."
   ]
  },
  {
   "cell_type": "code",
   "execution_count": null,
   "metadata": {},
   "outputs": [],
   "source": [
    "# Select and plot the TSLA closing prices from 2020\n",
    "df_tsla.loc[\"2020\"].plot()"
   ]
  },
  {
   "cell_type": "code",
   "execution_count": null,
   "metadata": {},
   "outputs": [],
   "source": [
    "# Select and plot the TSLA closing prices from 2020 using DatetimeIndex attributes\n",
    "df_tsla.loc[df_tsla.index.year == 2020].plot()"
   ]
  },
  {
   "cell_type": "markdown",
   "metadata": {},
   "source": [
    "## Step 4: Using the `loc` function, plot the closing prices from August and September 2020."
   ]
  },
  {
   "cell_type": "code",
   "execution_count": null,
   "metadata": {},
   "outputs": [],
   "source": [
    "# Select and plot the TSLA closing prices from August and September 2020\n",
    "df_tsla.loc[\"2020-08\" : \"2020-09\"].plot()"
   ]
  },
  {
   "cell_type": "markdown",
   "metadata": {},
   "source": [
    "## Step 5: Using the `loc` function, plot the closing prices from August 22 and September 5, 2020."
   ]
  },
  {
   "cell_type": "code",
   "execution_count": null,
   "metadata": {},
   "outputs": [],
   "source": [
    "# Select and plot the TSLA closing prices from August 22 to September 5, 2020\n",
    "df_tsla.loc[\"2020-08-22\" : \"2020-09-05\"].plot()"
   ]
  },
  {
   "cell_type": "code",
   "execution_count": null,
   "metadata": {},
   "outputs": [],
   "source": []
  }
 ],
 "metadata": {
  "kernelspec": {
   "display_name": "Python 3",
   "language": "python",
   "name": "python3"
  },
  "language_info": {
   "codemirror_mode": {
    "name": "ipython",
    "version": 3
   },
   "file_extension": ".py",
   "mimetype": "text/x-python",
   "name": "python",
   "nbconvert_exporter": "python",
   "pygments_lexer": "ipython3",
   "version": "3.10.13"
  }
 },
 "nbformat": 4,
 "nbformat_minor": 4
}
