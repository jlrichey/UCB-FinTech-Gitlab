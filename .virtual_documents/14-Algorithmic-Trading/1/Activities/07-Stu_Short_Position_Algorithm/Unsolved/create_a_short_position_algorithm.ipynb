


# Import the required libraries
import numpy as np
import pandas as pd
import hvplot.pandas
from pathlib import Path








# Read the vnq.csv file from the Resources folder into a Pandas DataFrame
# Set the `Date` column as the DateTimeIndex
vnq_df = pd.read_csv(("../Resources/vnq.csv"), index_col="Date", parse_dates=True, infer_datetime_format=True)

# Review the DataFrame
vnq_df






# Create a DataFrame filtering only the index and Close columns
signals_df = vnq_df.loc[:,["Close"]]

# Review the DataFrame
signals_df.head()



# Use hvplot to visualize the DataFrame
signals_df.hvplot()





# Set the short_window (50) and long window (100) variables
short_window = 50
long_window = 100







# Generate the short and long moving averages (50 and 100 days, respectively)
signals_df['SMA50'] = signals_df["Close"].rolling(window=short_window).mean()
signals_df['SMA100'] = signals_df["Close"].rolling(window=long_window).mean()

# Review the DataFrame
display(signals_df.head())
display(signals_df.tail())






# Initialize the new Signal column to hold the trading signal
signals_df['Signal'] = 0.0






# Generate the trading signal 0 or 1,
# where 1 is the short-window (SMA50) is less than the long-window (SMA100)
signals_df["Signal"][short_window:] = np.where(
    signals_df["SMA50"][short_window:] > signals_df["SMA100"][short_window:], 1.0, 0.0
)

# Review the DataFrame
signals_df.tail(10)





# Calculate the points in time at which a position should be taken, 1 or -1
signals_df['Entry/Exit'] = signals_df["Signal"].diff()

# Review the DataFrame
signals_df








# Visualize entry positions relative to close price
entry = signals_df[signals_df["Entry/Exit"] == 1.0]["Close"].hvplot.scatter(
    color="purple",
    marker="^",
    size=200,
    legend=False,
    ylabel="Price in $",
    width=1000,
    height=400)

entry


# Visualize exit positions relative to close price
exit = signals_df[signals_df["Entry/Exit"] == -1.0]["Close"].hvplot.scatter(
    color="yellow",
    marker="v",
    size=200,
    legend=False,
    ylabel="Price in $",
    width=1000,
    height=400)

exit


# Plot the entry and exit points
entry_exit_plot = entry * exit
entry_exit_plot.opts()





# Visualize Close price for the investment
security_close = signals_df[["Close"]].hvplot(
    line_color="lightgray",
    ylabel="Price in $",
    width=1000,
    height=400)

# Visualize the SMA50 and SMA 100 moving averages
moving_avgs = signals_df[["SMA50", "SMA100"]].hvplot(
    ylabel="Price in $",
    width=1000,
    height=400)



# Plot the security_close and moving_avgs
security_close_moving_avgs = security_close * moving_avgs
security_close_moving_avgs.opts(title = "Security Close and Moving Averages")





# Overlay all four plots in a single visualization
entry_exit_plot = security_close_moving_avgs * entry_exit_plot
entry_exit_plot.opts()



