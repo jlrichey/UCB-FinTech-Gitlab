





# Import required libraries
import pandas as pd
import numpy as np
from pathlib import Path
import hvplot.pandas


# Read the vnq.csv file from the Resources folder into a Pandas DataFrame
# Set the `Date` column as the DateTimeIndex
fntk_df = pd.read_csv(
    Path("../Resources/fntk3.csv"), 
    index_col="Date",
    parse_dates=True, 
    infer_datetime_format=True
)

# Review the DataFrame
fntk_df.head()


# Create a DataFrame filtering only the index and Close columns
# YOUR CODE HERE

# Review the DataFrame
# YOUR CODE HERE


# Use hvplot to visualize the DataFrame
# YOUR CODE HERE


# Use hvplot to visualize the DataFrame
# YOUR CODE HERE


# Create a table that shows the correlation between 'daily_returns' and 'daily_returns_lagged'
# YOUR CODE HERE


# Create a trading signal based on the lagged returns
# YOUR CODE HERE


# Review the DataFrame
# YOUR CODE HERE
