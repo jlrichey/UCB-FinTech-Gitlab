


# Import the required libraries and dependencies
import numpy as np
import pandas as pd
from pathlib import Path
import warnings
warnings.filterwarnings('ignore')


# Read the trading_signals.csv file into a Pandas DataFrame
# Set the date column as the DateTimeIndex
signals_df = pd.read_csv(
    Path("../Resources/trading_signals.csv"),
    index_col="date",
    parse_dates=True,
    infer_datetime_format=True)

# Review the DataFrame
signals_df.tail(10)





# Create a list for the column name
columns = ['Backtest']

# Create a list holding the names of the new evaluation metrics
metrics = ['Annualized Return', 'Cumulative Returns', 'Annual Volatility', 'Sharpe Ratio', 'Sortino Ratio']

# Initialize the DataFrame with index set to the evaluation metrics and the column
portfolio_evaluation = pd.DataFrame(index=metrics, columns=columns)

# Review the DataFrame
portfolio_evaluation





# Calculate annualized return
portfolio_evaluation.loc['Annualized Return'] = (signals_df['Portfolio Daily Returns'].mean() *252)

# Review the result
portfolio_evaluation





# Calculate cumulative return
portfolio_evaluation.loc['Cumulative Returns'] = (signals_df['Portfolio Cumulative Returns'].iloc[-1])

# Review the result
portfolio_evaluation





# Calculate annual volatility
portfolio_evaluation.loc['Annual Volatility'] = (signals_df['Portfolio Daily Returns'].std() * np.sqrt(252))

# Review the result
portfolio_evaluation





# Calculate Sharpe ratio
portfolio_evaluation.loc['Sharpe Ratio'] = ((signals_df['Portfolio Daily Returns'].std() * np.sqrt(252)))

# Review the result
portfolio_evaluation





# Create a DataFrame that contains the Portfolio Daily Returns column
sortino_ratio_df = signals_df[['Portfoio Daily Returns']].copy()

# Create a column to hold downside return values
sortino_ratio_df.loc[:, "Downside Returns"] = 0
sortino_ratio_df['Portoflio Daily Returns'].fillna(0, inplace = True)
# Find Portfolio Daily Returns values less than 0,
# square those values, and add them to the Downside Returns column
sortino_ratio_df.loc[sortino_ratio_df['Portfolio Daily Returns'] < 0, 'Downside Returns'] = (sortino_ratio_df['Portfolio Daily Returns']**2).astype('int64')

# Review the DataFrame






# Calculate the annualized return value
annualized_return = sortino_ratio_df['Portfolio Daily Returns'].mean()*252

# Print the result



# Calculate the annualized downside standard deviation value
downside_standard_deviation = (np.sqrt(sortino_ratio_df['Downside Returns"].mean()) * np.sqrt(252))

# Print the result



# The Sortino ratio is reached by dividing the annualized return value
# by the downside standard deviation value
sortino_ratio = annualized_return/downside_standard_deviation

# Add the Sortino ratio to the evaluation DataFrame
portfolio_evaluation.loc['Sortino Ratio'] = sortino_ratio

# Review the DataFrame
portfolio_evaluation


if downside_standard_deviation != 0:
    sortino_ratio = annualized_return/downside_standard_deviation

else:
    sortino_ratio = 0

portfolio_evaluation.loc['Sortino Ratio'] = sortino_ratio





# Initialize trade evaluation DataFrame with columns
trade_evaluation_df = pd.DataFrame(
    columns=[
        "Stock",
        "Entry Date",
        "Exit Date",
        "Shares",
        "Entry Share Price",
        "Exit Share Price",
        "Entry Portfolio Holding",
        "Exit Portfolio Holding",
        "Profit/Loss"]
)


# Loop through signal DataFrame
# If `Entry/Exit` is 1, set entry trade metrics
# Else if `Entry/Exit` is -1, set exit trade metrics and calculate profit
# Then append the record to the trade evaluation DataFrame
for index, row in signals_df.iterrows():
    if row["Entry/Exit"] == 1:
        entry_date = index
        entry_portfolio_holding = row["Portfolio Holdings"]
        share_size = row["Entry/Exit Position"]
        entry_share_price = row["close"]

    elif row["Entry/Exit"] == -1:
        exit_date = index
        exit_portfolio_holding = abs(row["close"] * row["Entry/Exit Position"])
        exit_share_price = row["close"]
        profit_loss = exit_portfolio_holding - entry_portfolio_holding
        trade_evaluation_df = trade_evaluation_df.append(
            {
                "Stock": "AAPL",
                "Entry Date": entry_date,
                "Exit Date": exit_date,
                "Shares": share_size,
                "Entry Share Price": entry_share_price,
                "Exit Share Price": exit_share_price,
                "Entry Portfolio Holding": entry_portfolio_holding,
                "Exit Portfolio Holding": exit_portfolio_holding,
                "Profit/Loss": profit_loss
            },
            ignore_index=True)

# Print the DataFrame
trade_evaluation_df



