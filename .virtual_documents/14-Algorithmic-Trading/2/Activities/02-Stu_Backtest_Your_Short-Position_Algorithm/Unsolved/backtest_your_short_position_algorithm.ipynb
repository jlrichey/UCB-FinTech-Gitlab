





# Imports
import numpy as np
import pandas as pd
import hvplot.pandas
from pathlib import Path





# Read the vnq.csv file located in the Resources folder into a Pandas DataFrame
# Set the Date column as the DateTimeIndex
vnq_df = pd.read_csv(
    Path("../Resources/vnq.csv"),
    index_col="Date",
    parse_dates=True, 
    infer_datetime_format=True
)

# Review the DataFrame
vnq_df.head()





# Filter the Date index and close columns
signals_df = vnq_df.loc[:,["Close"]]

# Set the short window and long window
short_window = 50
long_window = 100

# Generate the short and long moving averages (50 and 100 days, respectively)
signals_df['SMA50'] = signals_df['Close'].rolling(window=short_window).mean()
signals_df['SMA100'] = signals_df['Close'].rolling(window=long_window).mean()
signals_df['Signal'] = 0.0

# Generate the trading signal 0 or 1,
# where 1 is when the SMA50 is less than than the SMA100
# where 0 is when the SMA50 is greater than the SMA100
signals_df['Signal'][short_window:] = np.where(
    signals_df['SMA50'][short_window:] < signals_df['SMA100'][short_window:], 1.0, 0.0
)

# Calculate the points in time at which a position should be taken, 1 or -1
signals_df['Entry/Exit'] = signals_df['Signal'].diff()

# Review the DataFrame
signals_df.tail(10)





# Visualize entry positions relative to close price
entry = signals_df[signals_df['Entry/Exit'] == 1.0]['Close'].hvplot.scatter(
    color='purple',
    marker='^',
    legend=False,
    ylabel='Price in $',
    width=1000,
    height=400)

# Visualize exit positions relative to close price
exit = signals_df[signals_df['Entry/Exit'] == -1.0]['Close'].hvplot.scatter(
    color='orange',
    marker='v',
    legend=False,
    ylabel='Price in $',
    width=1000,
    height=400)

# Visualize the close price for the investment
security_close = signals_df[['Close']].hvplot(
    line_color='lightgray',
    ylabel='Price in $',
    width=1000,
    height=400)

# Visualize the moving averages
moving_avgs = signals_df[['SMA50', 'SMA100']].hvplot(
    ylabel='Price in $',
    width=1000,
    height=400)

# Overlay the plots
entry_exit_plot = security_close * moving_avgs * entry * exit
entry_exit_plot.opts(
    title="VNQ - Short-Position Dual Moving Average Trading Algorithm"
)





# Set the initial_capital to 100000
initial_capital = float(100000)






# Set the share_size to -500
# In a short-position strategy, shares are sold before they are bought 
share_size = -500






# Create a column named "Position" by multiplying the share_size by the Signal
# Sell a position (-500 shares) when the dual moving average crossover Signal equals 1 (SMA50 is less than SMA100)
# Buy a position (500 shares) when the dual moving average crossover Signal equals 0 (SMA50 is greater than SMA100)
signals_df["Position"] = share_size * signals_df['Signal']

# Review the DataFrame
signals_df






# Find the points in time where a 500 share position is bought or sold
signals_df["Entry/Exit Position"] = signals_df['Position'].diff()

# Review the DataFrame
signals_df






# Create a Portfolio Holdings column by multiplying the Close price by the Position
signals_df["Portfolio Holdings"] = signals_df['Close'] * signals_df['Position']

# Review the DataFrame
signals_df






# To calculate Portfolio Cash, subtract the cumulative sum of the trade cost/proceeds from the initial_capital
# The trade cost proceeds are calculated by multiplying the Close price by Entry/Exit Position
signals_df["Portfolio Cash"] = initial_capital - (signals_df['Close'] * signals_df['Entry/Exit Position']).cumsum() 
signals_df.tail()






# Calculate the Portfolio Total value by adding Portfolio Cash and Portfolio Holdings 
signals_df["Portfolio Total"] = signals_df['Portfolio Cash'] + signals_df['Portfolio Holdings']
signals_df.tail()

# Review the DataFrame
# YOUR CODE HERE






# Calculate the Portfolio Daily Returns based on the Portfolio Total
signals_df["Portfolio Daily Returns"] = signals_df['Portfolio Total'].pct_change()
signals_df.tail()

# Review the DataFrame
# YOUR CODE HERE






# Calculate the Portfolio Cumulative Returns based on the Portfolio Daily Returns
signals_df["Portfolio Cumulative Returns"] = (1 + signals_df['Portfolio Daily Returns']).cumprod() - 1
signals_df.tail()

# Review the DataFrame
# YOUR CODE HERE






# Visualize the entry positions relative to the Portfolio Total
entry = signals_df[signals_df['Entry/Exit'] == 1.0]['Portfolio Total'].hvplot.scatter(
    color='purple',
    marker='^',
    ylabel='Total Portfolio Value',
    width=1000,
    height=400
)

# Visualize the exit positions relative to the Portfolio Total
exit = signals_df[signals_df['Entry/Exit'] == -1.0]['Portfolio Total'].hvplot.scatter(
    color='yellow',
    marker='v',
    legend=False,
    ylabel='Total Portfolio Value',
    width=1000,
    height=400
)

# Visualize Portfolio Total for the investment
total_portfolio_value = signals_df['Portfolio Total'].hvplot(
    line_color='lightgray',
    ylabel='Total Portfolio Value',
    xlabel='Date',
    width=1000,
    height=400
)

# Overlay the entry, exit and total_portfolio_value plots
portfolio_entry_exit_plot = total_portfolio_value * entry * exit
portfolio_entry_exit_plot.opts(
    title="Apple Algorithm - Total Portfolio Value",
    yformatter='%.0f'
)





test = signals_df["Close"]
test.hvplot()








# Visualize Portfolio Total for the investment
total_portfolio_value = signals_df['Close'].hvplot(
    line_color='lightgray',
    ylabel='Total Portfolio Value',
    xlabel='Date',
    width=1000,
    height=400
)


total_portfolio_value



