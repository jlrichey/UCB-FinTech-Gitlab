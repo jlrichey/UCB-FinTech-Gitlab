# Imports
from dataclasses import dataclass
from datetime import datetime
from typing import Any



# Creating the Block data class
@dataclass
class Block:
    data: Any
    creator_id: int
    timestamp: str = datetime.now().strftime("%H:%M:%S")


# Creating a new block
new_block = Block(data="My First Block!", creator_id=42)


# Print the new block
print(new_block)



