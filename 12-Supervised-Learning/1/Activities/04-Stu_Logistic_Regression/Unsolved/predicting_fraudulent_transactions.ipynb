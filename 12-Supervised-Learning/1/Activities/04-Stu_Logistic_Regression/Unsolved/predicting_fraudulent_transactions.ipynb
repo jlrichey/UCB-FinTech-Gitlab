{
  "cells": [
    {
      "cell_type": "markdown",
<<<<<<< HEAD
=======
      "metadata": {},
>>>>>>> 9298c049c0c888209e5ec588a39286457264b00e
      "source": [
        "# Predicting Fraudulent Transactions\n",
        "\n",
        "You’ll try logistic regression on the real-world problem of fraud detection and find out how it fares.\n",
        "\n",
        "## Instructions:\n",
        "\n",
        "The instructions for this activity are divided into the following stages:\n",
        "\n",
        "1. Prepare the data\n",
        "\n",
        "2. Split the data into training and testing sets\n",
        "\n",
        "3. Model and fit the data into a logistic regression\n",
        "\n",
        "4. Predict the testing labels \n",
        "\n",
        "5. Calculate the performance metrics\n",
        "\n",
        "#### Prepare the Data\n",
        "\n",
        "1. Load the `transaction_fraud_data.csv` file from the `Resources` folder into a Pandas DataFrame. Set the “id” column as the index.\n",
        "\n",
        "2. Note that you want to predict the `fraud` variable. Answer the following question: Using `value_counts`, how many fraudulent transactions exist in this dataset?\n",
        "\n",
        "#### Split the Data into Training and Testing Sets\n",
        "\n",
        "1. Using the `transaction_fraud_data` DataFrame, separate the data into training and testing data. Start by defining the `target` (the “fraud” column) and the `features` of the data (all the columns except “fraud”).\n",
        "\n",
        "2. Split the features and target data into `training_features`, `testing_features`, `training_targets`, and `testing_targets` datasets by using the `train_test_split` function.\n",
        "\n",
        "#### Model and Fit the Data to a Logistic Regression\n",
        "\n",
        "1. Declare a `LogisticRegression` model.\n",
        "\n",
        "2. Fit the training data to the model, and save the model.\n",
        "\n",
        "#### Predict the Testing Labels\n",
        "\n",
        "1. Make predictions about fraud by using the testing dataset, and save those predictions.\n",
        "\n",
        "#### Calculate the Performance Metrics\n",
        "\n",
        "1. Calculate the accuracy score by evaluating `testing_targets` vs. `testing_predictions`. \n",
        "2. Answer the following question: For this dataset, how well did the model predict the actually fraudulent transactions?\n",
        "\n",
        "\n",
        "## Resources:\n",
        "\n",
        "Following are links to modules from the scikit learn library that will be utilized:\n",
        "\n",
        "[Logistic Regression](https://scikit-learn.org/stable/modules/generated/sklearn.linear_model.LogisticRegression.html)\n",
        "\n",
        "[train_test_split](https://scikit-learn.org/stable/modules/generated/sklearn.model_selection.train_test_split.html)\n",
        "\n",
        "[accuracy score](https://scikit-learn.org/stable/modules/generated/sklearn.metrics.accuracy_score.html)\n",
        "\n",
        "[classifiction report](https://scikit-learn.org/stable/modules/generated/sklearn.metrics.classification_report.html)\n"
<<<<<<< HEAD
      ],
      "metadata": {}
    },
    {
      "cell_type": "code",
=======
      ]
    },
    {
      "cell_type": "code",
      "execution_count": 1,
      "metadata": {},
      "outputs": [],
>>>>>>> 9298c049c0c888209e5ec588a39286457264b00e
      "source": [
        "# Import the required modules\n",
        "import pandas as pd\n",
        "from pathlib import Path\n",
        "from sklearn.model_selection import train_test_split\n",
        "import matplotlib.pyplot as plt\n",
        "from sklearn.metrics import accuracy_score, classification_report\n",
        "from sklearn.linear_model import LogisticRegression\n"
<<<<<<< HEAD
      ],
      "outputs": [],
      "execution_count": 1,
      "metadata": {}
    },
    {
      "cell_type": "markdown",
      "source": [
        "# Prepare the Data"
      ],
      "metadata": {}
    },
    {
      "cell_type": "markdown",
      "source": [
        "### Step 1: Load the `transaction_fraud_data.csv` file from the `Resources` folder into a Pandas DataFrame. Set the “id” column as the index."
      ],
      "metadata": {}
    },
    {
      "cell_type": "code",
      "source": [
        "# Read in the transaction_fraud_data.csv file into a PandasDataFrame.\n",
        "transaction_fraud_data = # YOUR CODE HERE\n",
        "\n",
        "# Review the DataFrame\n",
        "# YOUR CODE HERE\n"
      ],
      "outputs": [
        {
          "output_type": "execute_result",
          "execution_count": 2,
          "data": {
            "text/html": "<div>\n<style scoped>\n    .dataframe tbody tr th:only-of-type {\n        vertical-align: middle;\n    }\n\n    .dataframe tbody tr th {\n        vertical-align: top;\n    }\n\n    .dataframe thead th {\n        text-align: right;\n    }\n</style>\n<table border=\"1\" class=\"dataframe\">\n  <thead>\n    <tr style=\"text-align: right;\">\n      <th></th>\n      <th>Z_0</th>\n      <th>Z_1</th>\n      <th>Z_2</th>\n      <th>Z_3</th>\n      <th>Z_4</th>\n      <th>Z_5</th>\n      <th>Z_6</th>\n      <th>Z_7</th>\n      <th>Z_8</th>\n      <th>Z_9</th>\n      <th>fraud</th>\n    </tr>\n    <tr>\n      <th>id</th>\n      <th></th>\n      <th></th>\n      <th></th>\n      <th></th>\n      <th></th>\n      <th></th>\n      <th></th>\n      <th></th>\n      <th></th>\n      <th></th>\n      <th></th>\n    </tr>\n  </thead>\n  <tbody>\n    <tr>\n      <th>0</th>\n      <td>-2.346302</td>\n      <td>-1.026583</td>\n      <td>-10.363716</td>\n      <td>-8.054260</td>\n      <td>7.519907</td>\n      <td>1.860217</td>\n      <td>9.056866</td>\n      <td>0.392113</td>\n      <td>-12.937505</td>\n      <td>-0.801264</td>\n      <td>0</td>\n    </tr>\n    <tr>\n      <th>1</th>\n      <td>-3.296776</td>\n      <td>-8.487700</td>\n      <td>9.175655</td>\n      <td>1.097409</td>\n      <td>-1.766353</td>\n      <td>-2.293392</td>\n      <td>-2.247549</td>\n      <td>-0.041269</td>\n      <td>8.216953</td>\n      <td>8.883102</td>\n      <td>0</td>\n    </tr>\n    <tr>\n      <th>2</th>\n      <td>12.839610</td>\n      <td>4.475612</td>\n      <td>-5.213528</td>\n      <td>-5.722660</td>\n      <td>-4.073390</td>\n      <td>-5.661766</td>\n      <td>5.967037</td>\n      <td>-9.826743</td>\n      <td>-17.443248</td>\n      <td>5.266470</td>\n      <td>0</td>\n    </tr>\n    <tr>\n      <th>3</th>\n      <td>13.237325</td>\n      <td>13.605183</td>\n      <td>-5.958039</td>\n      <td>4.392244</td>\n      <td>4.763587</td>\n      <td>3.781628</td>\n      <td>-2.722725</td>\n      <td>-5.814775</td>\n      <td>11.236515</td>\n      <td>2.582494</td>\n      <td>0</td>\n    </tr>\n    <tr>\n      <th>4</th>\n      <td>4.161311</td>\n      <td>2.520646</td>\n      <td>7.171650</td>\n      <td>1.301273</td>\n      <td>-5.408190</td>\n      <td>4.651314</td>\n      <td>9.639546</td>\n      <td>4.648132</td>\n      <td>3.928619</td>\n      <td>2.358164</td>\n      <td>0</td>\n    </tr>\n  </tbody>\n</table>\n</div>",
            "text/plain": "          Z_0        Z_1        Z_2       Z_3       Z_4       Z_5       Z_6  \\\nid                                                                            \n0   -2.346302  -1.026583 -10.363716 -8.054260  7.519907  1.860217  9.056866   \n1   -3.296776  -8.487700   9.175655  1.097409 -1.766353 -2.293392 -2.247549   \n2   12.839610   4.475612  -5.213528 -5.722660 -4.073390 -5.661766  5.967037   \n3   13.237325  13.605183  -5.958039  4.392244  4.763587  3.781628 -2.722725   \n4    4.161311   2.520646   7.171650  1.301273 -5.408190  4.651314  9.639546   \n\n         Z_7        Z_8       Z_9  fraud  \nid                                        \n0   0.392113 -12.937505 -0.801264      0  \n1  -0.041269   8.216953  8.883102      0  \n2  -9.826743 -17.443248  5.266470      0  \n3  -5.814775  11.236515  2.582494      0  \n4   4.648132   3.928619  2.358164      0  "
          },
          "metadata": {}
        }
      ],
      "execution_count": 2,
      "metadata": {}
    },
    {
      "cell_type": "markdown",
=======
      ]
    },
    {
      "cell_type": "markdown",
      "metadata": {},
      "source": [
        "# Prepare the Data"
      ]
    },
    {
      "cell_type": "markdown",
      "metadata": {},
      "source": [
        "### Step 1: Load the `transaction_fraud_data.csv` file from the `Resources` folder into a Pandas DataFrame. Set the “id” column as the index."
      ]
    },
    {
      "cell_type": "code",
      "execution_count": 5,
      "metadata": {},
      "outputs": [
        {
          "data": {
            "text/html": [
              "<div>\n",
              "<style scoped>\n",
              "    .dataframe tbody tr th:only-of-type {\n",
              "        vertical-align: middle;\n",
              "    }\n",
              "\n",
              "    .dataframe tbody tr th {\n",
              "        vertical-align: top;\n",
              "    }\n",
              "\n",
              "    .dataframe thead th {\n",
              "        text-align: right;\n",
              "    }\n",
              "</style>\n",
              "<table border=\"1\" class=\"dataframe\">\n",
              "  <thead>\n",
              "    <tr style=\"text-align: right;\">\n",
              "      <th></th>\n",
              "      <th>Z_0</th>\n",
              "      <th>Z_1</th>\n",
              "      <th>Z_2</th>\n",
              "      <th>Z_3</th>\n",
              "      <th>Z_4</th>\n",
              "      <th>Z_5</th>\n",
              "      <th>Z_6</th>\n",
              "      <th>Z_7</th>\n",
              "      <th>Z_8</th>\n",
              "      <th>Z_9</th>\n",
              "      <th>fraud</th>\n",
              "    </tr>\n",
              "    <tr>\n",
              "      <th>id</th>\n",
              "      <th></th>\n",
              "      <th></th>\n",
              "      <th></th>\n",
              "      <th></th>\n",
              "      <th></th>\n",
              "      <th></th>\n",
              "      <th></th>\n",
              "      <th></th>\n",
              "      <th></th>\n",
              "      <th></th>\n",
              "      <th></th>\n",
              "    </tr>\n",
              "  </thead>\n",
              "  <tbody>\n",
              "    <tr>\n",
              "      <th>0</th>\n",
              "      <td>-2.346302</td>\n",
              "      <td>-1.026583</td>\n",
              "      <td>-10.363716</td>\n",
              "      <td>-8.054260</td>\n",
              "      <td>7.519907</td>\n",
              "      <td>1.860217</td>\n",
              "      <td>9.056866</td>\n",
              "      <td>0.392113</td>\n",
              "      <td>-12.937505</td>\n",
              "      <td>-0.801264</td>\n",
              "      <td>0</td>\n",
              "    </tr>\n",
              "    <tr>\n",
              "      <th>1</th>\n",
              "      <td>-3.296776</td>\n",
              "      <td>-8.487700</td>\n",
              "      <td>9.175655</td>\n",
              "      <td>1.097409</td>\n",
              "      <td>-1.766353</td>\n",
              "      <td>-2.293392</td>\n",
              "      <td>-2.247549</td>\n",
              "      <td>-0.041269</td>\n",
              "      <td>8.216953</td>\n",
              "      <td>8.883102</td>\n",
              "      <td>0</td>\n",
              "    </tr>\n",
              "    <tr>\n",
              "      <th>2</th>\n",
              "      <td>12.839610</td>\n",
              "      <td>4.475612</td>\n",
              "      <td>-5.213528</td>\n",
              "      <td>-5.722660</td>\n",
              "      <td>-4.073390</td>\n",
              "      <td>-5.661766</td>\n",
              "      <td>5.967037</td>\n",
              "      <td>-9.826743</td>\n",
              "      <td>-17.443248</td>\n",
              "      <td>5.266470</td>\n",
              "      <td>0</td>\n",
              "    </tr>\n",
              "    <tr>\n",
              "      <th>3</th>\n",
              "      <td>13.237325</td>\n",
              "      <td>13.605183</td>\n",
              "      <td>-5.958039</td>\n",
              "      <td>4.392244</td>\n",
              "      <td>4.763587</td>\n",
              "      <td>3.781628</td>\n",
              "      <td>-2.722725</td>\n",
              "      <td>-5.814775</td>\n",
              "      <td>11.236515</td>\n",
              "      <td>2.582494</td>\n",
              "      <td>0</td>\n",
              "    </tr>\n",
              "    <tr>\n",
              "      <th>4</th>\n",
              "      <td>4.161311</td>\n",
              "      <td>2.520646</td>\n",
              "      <td>7.171650</td>\n",
              "      <td>1.301273</td>\n",
              "      <td>-5.408190</td>\n",
              "      <td>4.651314</td>\n",
              "      <td>9.639546</td>\n",
              "      <td>4.648132</td>\n",
              "      <td>3.928619</td>\n",
              "      <td>2.358164</td>\n",
              "      <td>0</td>\n",
              "    </tr>\n",
              "  </tbody>\n",
              "</table>\n",
              "</div>"
            ],
            "text/plain": [
              "          Z_0        Z_1        Z_2       Z_3       Z_4       Z_5       Z_6  \\\n",
              "id                                                                            \n",
              "0   -2.346302  -1.026583 -10.363716 -8.054260  7.519907  1.860217  9.056866   \n",
              "1   -3.296776  -8.487700   9.175655  1.097409 -1.766353 -2.293392 -2.247549   \n",
              "2   12.839610   4.475612  -5.213528 -5.722660 -4.073390 -5.661766  5.967037   \n",
              "3   13.237325  13.605183  -5.958039  4.392244  4.763587  3.781628 -2.722725   \n",
              "4    4.161311   2.520646   7.171650  1.301273 -5.408190  4.651314  9.639546   \n",
              "\n",
              "         Z_7        Z_8       Z_9  fraud  \n",
              "id                                        \n",
              "0   0.392113 -12.937505 -0.801264      0  \n",
              "1  -0.041269   8.216953  8.883102      0  \n",
              "2  -9.826743 -17.443248  5.266470      0  \n",
              "3  -5.814775  11.236515  2.582494      0  \n",
              "4   4.648132   3.928619  2.358164      0  "
            ]
          },
          "execution_count": 5,
          "metadata": {},
          "output_type": "execute_result"
        }
      ],
      "source": [
        "# Read in the transaction_fraud_data.csv file into a PandasDataFrame.\n",
        "transaction_fraud_data = pd.read_csv(\n",
        "    Path(\"../Resources/transaction_fraud_data.csv\"), \n",
        "    index_col=\"id\"\n",
        ")\n",
        "\n",
        "# Review the DataFrame\n",
        "transaction_fraud_data.head()"
      ]
    },
    {
      "cell_type": "markdown",
      "metadata": {},
>>>>>>> 9298c049c0c888209e5ec588a39286457264b00e
      "source": [
        "### Step 2: Answer the following question:\n",
        "\n",
        "Note that you want to predict the `fraud` variable. Answer the following question: Using `value_counts`, how many fraudulent transactions exist in this dataset?"
<<<<<<< HEAD
      ],
      "metadata": {}
    },
    {
      "cell_type": "code",
=======
      ]
    },
    {
      "cell_type": "code",
      "execution_count": 4,
      "metadata": {},
      "outputs": [
        {
          "data": {
            "text/plain": [
              "fraud\n",
              "0    993\n",
              "1      7\n",
              "Name: count, dtype: int64"
            ]
          },
          "execution_count": 4,
          "metadata": {},
          "output_type": "execute_result"
        }
      ],
>>>>>>> 9298c049c0c888209e5ec588a39286457264b00e
      "source": [
        "# The  column 'fraud' is the thing you want to predict. \n",
        "# Class 0 indicates no-fraud trasactions and class 1 indicates fraudulent transactions\n",
        "# Using value_counts, how many fraudulent transactions are in this dataset?\n",
<<<<<<< HEAD
        "# YOUR CODE HERE\n"
      ],
      "outputs": [
        {
          "output_type": "execute_result",
          "execution_count": 3,
          "data": {
            "text/plain": "0    993\n1      7\nName: fraud, dtype: int64"
          },
          "metadata": {}
        }
      ],
      "execution_count": 3,
      "metadata": {}
    },
    {
      "cell_type": "markdown",
      "source": [
        "# Split the data into training and testing sets"
      ],
      "metadata": {}
    },
    {
      "cell_type": "markdown",
      "source": [
        "### Step 1: Using the `transaction_fraud_data` DataFrame, separate the data into training and testing data. Start by defining the `target` (the “fraud” column) and the `features` of the data (all the columns except “fraud”)."
      ],
      "metadata": {}
    },
    {
      "cell_type": "code",
      "source": [
        "# The target column should be the binary `fraud` column.\n",
        "target = # YOUR CODE HERE\n",
        "\n",
        "\n",
        "# The features column should be all of the features. \n",
        "features = # YOUR CODE HERE\n"
      ],
      "outputs": [],
      "execution_count": 4,
      "metadata": {}
    },
    {
      "cell_type": "markdown",
      "source": [
        "### Step 2: Split the features and target data into `training_features`, `testing_features`, `training_targets`, and `testing_targets` datasets by using the `train_test_split` function."
      ],
      "metadata": {}
    },
    {
      "cell_type": "code",
      "source": [
        "# Split the dataset using the train_test_split function\n",
        "training_features, testing_features, training_targets, testing_targets = # YOUR CODE HERE\n"
      ],
      "outputs": [],
      "execution_count": 5,
      "metadata": {}
    },
    {
      "cell_type": "markdown",
      "source": [
        "# Model and Fit the Data to a Logistic Regression"
      ],
      "metadata": {}
    },
    {
      "cell_type": "markdown",
      "source": [
        "### Step 1: Declare a `LogisticRegression` model."
      ],
      "metadata": {}
    },
    {
      "cell_type": "code",
      "source": [
        "# Declare a logistic regression model.\n",
        "# Apply a random_state of 7 to the model\n",
        "logistic_regression_model = # YOUR CODE HERE\n"
      ],
      "outputs": [],
      "execution_count": 6,
      "metadata": {}
    },
    {
      "cell_type": "markdown",
      "source": [
        "### Step 2: Fit the training data to the model, and save the model."
      ],
      "metadata": {}
    },
    {
      "cell_type": "code",
      "source": [
        "# Fit and save the logistic regression model using the training data\n",
        "lr_model = # YOUR CODE HERE\n"
      ],
      "outputs": [],
      "execution_count": 7,
      "metadata": {}
    },
    {
      "cell_type": "markdown",
      "source": [
        "# Predict the Testing Labels"
      ],
      "metadata": {}
    },
    {
      "cell_type": "markdown",
      "source": [
        "### Step 1: Make predictions about fraud by using the testing dataset, and save those predictions."
      ],
      "metadata": {}
    },
    {
      "cell_type": "code",
      "source": [
        "# Make and save testing predictions with the saved logistic regression model using the test data\n",
        "testing_predictions = # YOUR CODE HERE\n",
        "\n",
        "# Review the predictions\n",
        "# YOUR CODE HERE\n"
      ],
      "outputs": [
        {
          "output_type": "execute_result",
          "execution_count": 8,
          "data": {
            "text/plain": "array([0, 0, 0, 0, 0, 0, 0, 0, 0, 0, 0, 0, 0, 0, 0, 0, 0, 0, 0, 0, 0, 0,\n       0, 0, 0, 0, 0, 0, 0, 0, 0, 0, 0, 0, 0, 0, 0, 0, 0, 0, 0, 0, 0, 0,\n       0, 0, 0, 0, 0, 0, 0, 0, 0, 0, 0, 0, 0, 0, 0, 0, 0, 0, 0, 0, 0, 0,\n       0, 0, 0, 0, 0, 0, 0, 0, 0, 0, 0, 0, 0, 0, 0, 0, 0, 0, 0, 0, 0, 0,\n       0, 0, 0, 0, 0, 0, 0, 0, 0, 0, 0, 0, 0, 0, 0, 0, 0, 0, 0, 0, 0, 0,\n       0, 0, 0, 0, 0, 0, 0, 0, 0, 0, 0, 0, 0, 0, 0, 0, 0, 0, 0, 0, 0, 0,\n       0, 0, 0, 0, 0, 0, 0, 0, 0, 0, 0, 0, 0, 0, 0, 0, 0, 0, 0, 0, 0, 0,\n       0, 0, 0, 0, 0, 0, 0, 0, 0, 0, 0, 0, 0, 0, 0, 0, 0, 0, 0, 0, 0, 0,\n       0, 0, 0, 0, 0, 0, 0, 0, 0, 0, 0, 0, 0, 0, 0, 0, 0, 0, 0, 0, 0, 0,\n       0, 0, 0, 0, 0, 0, 0, 0, 0, 0, 0, 0, 0, 0, 0, 0, 0, 0, 0, 0, 0, 0,\n       0, 0, 0, 0, 0, 0, 0, 0, 0, 0, 0, 0, 0, 0, 0, 0, 0, 0, 0, 0, 0, 0,\n       0, 0, 0, 0, 0, 0, 0, 0])"
          },
          "metadata": {}
        }
      ],
      "execution_count": 8,
      "metadata": {}
    },
    {
      "cell_type": "markdown",
      "source": [
        "# Calculate the Performance Metrics"
      ],
      "metadata": {}
    },
    {
      "cell_type": "markdown",
      "source": [
        "### Step 1: Calculate the accuracy score by evaluating `testing_targets` vs. `testing_predictions`."
      ],
      "metadata": {}
    },
    {
      "cell_type": "code",
      "source": [
        "# Display the accuracy score for the test dataset.\n",
        "# YOUR CODE HERE\n"
      ],
      "outputs": [
        {
          "output_type": "execute_result",
          "execution_count": 9,
          "data": {
            "text/plain": "0.996"
          },
          "metadata": {}
        }
      ],
      "execution_count": 9,
      "metadata": {}
    },
    {
      "cell_type": "markdown",
      "source": [
        "### Step 2: Answer the following question"
      ],
      "metadata": {}
    },
    {
      "cell_type": "markdown",
=======
        "transaction_fraud_data.fraud.value_counts()\n"
      ]
    },
    {
      "cell_type": "markdown",
      "metadata": {},
      "source": [
        "# Split the data into training and testing sets"
      ]
    },
    {
      "cell_type": "markdown",
      "metadata": {},
      "source": [
        "### Step 1: Using the `transaction_fraud_data` DataFrame, separate the data into training and testing data. Start by defining the `target` (the “fraud” column) and the `features` of the data (all the columns except “fraud”)."
      ]
    },
    {
      "cell_type": "code",
      "execution_count": 8,
      "metadata": {},
      "outputs": [
        {
          "data": {
            "text/html": [
              "<div>\n",
              "<style scoped>\n",
              "    .dataframe tbody tr th:only-of-type {\n",
              "        vertical-align: middle;\n",
              "    }\n",
              "\n",
              "    .dataframe tbody tr th {\n",
              "        vertical-align: top;\n",
              "    }\n",
              "\n",
              "    .dataframe thead th {\n",
              "        text-align: right;\n",
              "    }\n",
              "</style>\n",
              "<table border=\"1\" class=\"dataframe\">\n",
              "  <thead>\n",
              "    <tr style=\"text-align: right;\">\n",
              "      <th></th>\n",
              "      <th>Z_0</th>\n",
              "      <th>Z_1</th>\n",
              "      <th>Z_2</th>\n",
              "      <th>Z_3</th>\n",
              "      <th>Z_4</th>\n",
              "      <th>Z_5</th>\n",
              "      <th>Z_6</th>\n",
              "      <th>Z_7</th>\n",
              "      <th>Z_8</th>\n",
              "      <th>Z_9</th>\n",
              "    </tr>\n",
              "    <tr>\n",
              "      <th>id</th>\n",
              "      <th></th>\n",
              "      <th></th>\n",
              "      <th></th>\n",
              "      <th></th>\n",
              "      <th></th>\n",
              "      <th></th>\n",
              "      <th></th>\n",
              "      <th></th>\n",
              "      <th></th>\n",
              "      <th></th>\n",
              "    </tr>\n",
              "  </thead>\n",
              "  <tbody>\n",
              "    <tr>\n",
              "      <th>0</th>\n",
              "      <td>-2.346302</td>\n",
              "      <td>-1.026583</td>\n",
              "      <td>-10.363716</td>\n",
              "      <td>-8.054260</td>\n",
              "      <td>7.519907</td>\n",
              "      <td>1.860217</td>\n",
              "      <td>9.056866</td>\n",
              "      <td>0.392113</td>\n",
              "      <td>-12.937505</td>\n",
              "      <td>-0.801264</td>\n",
              "    </tr>\n",
              "    <tr>\n",
              "      <th>1</th>\n",
              "      <td>-3.296776</td>\n",
              "      <td>-8.487700</td>\n",
              "      <td>9.175655</td>\n",
              "      <td>1.097409</td>\n",
              "      <td>-1.766353</td>\n",
              "      <td>-2.293392</td>\n",
              "      <td>-2.247549</td>\n",
              "      <td>-0.041269</td>\n",
              "      <td>8.216953</td>\n",
              "      <td>8.883102</td>\n",
              "    </tr>\n",
              "    <tr>\n",
              "      <th>2</th>\n",
              "      <td>12.839610</td>\n",
              "      <td>4.475612</td>\n",
              "      <td>-5.213528</td>\n",
              "      <td>-5.722660</td>\n",
              "      <td>-4.073390</td>\n",
              "      <td>-5.661766</td>\n",
              "      <td>5.967037</td>\n",
              "      <td>-9.826743</td>\n",
              "      <td>-17.443248</td>\n",
              "      <td>5.266470</td>\n",
              "    </tr>\n",
              "    <tr>\n",
              "      <th>3</th>\n",
              "      <td>13.237325</td>\n",
              "      <td>13.605183</td>\n",
              "      <td>-5.958039</td>\n",
              "      <td>4.392244</td>\n",
              "      <td>4.763587</td>\n",
              "      <td>3.781628</td>\n",
              "      <td>-2.722725</td>\n",
              "      <td>-5.814775</td>\n",
              "      <td>11.236515</td>\n",
              "      <td>2.582494</td>\n",
              "    </tr>\n",
              "    <tr>\n",
              "      <th>4</th>\n",
              "      <td>4.161311</td>\n",
              "      <td>2.520646</td>\n",
              "      <td>7.171650</td>\n",
              "      <td>1.301273</td>\n",
              "      <td>-5.408190</td>\n",
              "      <td>4.651314</td>\n",
              "      <td>9.639546</td>\n",
              "      <td>4.648132</td>\n",
              "      <td>3.928619</td>\n",
              "      <td>2.358164</td>\n",
              "    </tr>\n",
              "    <tr>\n",
              "      <th>...</th>\n",
              "      <td>...</td>\n",
              "      <td>...</td>\n",
              "      <td>...</td>\n",
              "      <td>...</td>\n",
              "      <td>...</td>\n",
              "      <td>...</td>\n",
              "      <td>...</td>\n",
              "      <td>...</td>\n",
              "      <td>...</td>\n",
              "      <td>...</td>\n",
              "    </tr>\n",
              "    <tr>\n",
              "      <th>995</th>\n",
              "      <td>4.934022</td>\n",
              "      <td>4.443195</td>\n",
              "      <td>1.388734</td>\n",
              "      <td>2.278806</td>\n",
              "      <td>-21.147607</td>\n",
              "      <td>-0.368845</td>\n",
              "      <td>2.628414</td>\n",
              "      <td>-1.351398</td>\n",
              "      <td>5.148549</td>\n",
              "      <td>4.619609</td>\n",
              "    </tr>\n",
              "    <tr>\n",
              "      <th>996</th>\n",
              "      <td>-4.910172</td>\n",
              "      <td>-10.815344</td>\n",
              "      <td>-10.595855</td>\n",
              "      <td>5.884628</td>\n",
              "      <td>0.528660</td>\n",
              "      <td>0.830482</td>\n",
              "      <td>-13.764331</td>\n",
              "      <td>13.836068</td>\n",
              "      <td>7.353338</td>\n",
              "      <td>10.938554</td>\n",
              "    </tr>\n",
              "    <tr>\n",
              "      <th>997</th>\n",
              "      <td>11.623010</td>\n",
              "      <td>6.322765</td>\n",
              "      <td>-3.407261</td>\n",
              "      <td>-7.983187</td>\n",
              "      <td>-22.384596</td>\n",
              "      <td>5.291396</td>\n",
              "      <td>-6.293332</td>\n",
              "      <td>-1.309196</td>\n",
              "      <td>-1.836557</td>\n",
              "      <td>-3.473290</td>\n",
              "    </tr>\n",
              "    <tr>\n",
              "      <th>998</th>\n",
              "      <td>-7.030572</td>\n",
              "      <td>7.131075</td>\n",
              "      <td>-6.298506</td>\n",
              "      <td>-2.606031</td>\n",
              "      <td>0.484820</td>\n",
              "      <td>0.139240</td>\n",
              "      <td>4.640984</td>\n",
              "      <td>-11.869494</td>\n",
              "      <td>3.227287</td>\n",
              "      <td>-5.899874</td>\n",
              "    </tr>\n",
              "    <tr>\n",
              "      <th>999</th>\n",
              "      <td>-4.146064</td>\n",
              "      <td>8.996318</td>\n",
              "      <td>-10.690600</td>\n",
              "      <td>2.464448</td>\n",
              "      <td>9.081273</td>\n",
              "      <td>-4.438147</td>\n",
              "      <td>2.497193</td>\n",
              "      <td>5.493373</td>\n",
              "      <td>-10.313484</td>\n",
              "      <td>1.392497</td>\n",
              "    </tr>\n",
              "  </tbody>\n",
              "</table>\n",
              "<p>1000 rows × 10 columns</p>\n",
              "</div>"
            ],
            "text/plain": [
              "           Z_0        Z_1        Z_2       Z_3        Z_4       Z_5  \\\n",
              "id                                                                    \n",
              "0    -2.346302  -1.026583 -10.363716 -8.054260   7.519907  1.860217   \n",
              "1    -3.296776  -8.487700   9.175655  1.097409  -1.766353 -2.293392   \n",
              "2    12.839610   4.475612  -5.213528 -5.722660  -4.073390 -5.661766   \n",
              "3    13.237325  13.605183  -5.958039  4.392244   4.763587  3.781628   \n",
              "4     4.161311   2.520646   7.171650  1.301273  -5.408190  4.651314   \n",
              "..         ...        ...        ...       ...        ...       ...   \n",
              "995   4.934022   4.443195   1.388734  2.278806 -21.147607 -0.368845   \n",
              "996  -4.910172 -10.815344 -10.595855  5.884628   0.528660  0.830482   \n",
              "997  11.623010   6.322765  -3.407261 -7.983187 -22.384596  5.291396   \n",
              "998  -7.030572   7.131075  -6.298506 -2.606031   0.484820  0.139240   \n",
              "999  -4.146064   8.996318 -10.690600  2.464448   9.081273 -4.438147   \n",
              "\n",
              "           Z_6        Z_7        Z_8        Z_9  \n",
              "id                                               \n",
              "0     9.056866   0.392113 -12.937505  -0.801264  \n",
              "1    -2.247549  -0.041269   8.216953   8.883102  \n",
              "2     5.967037  -9.826743 -17.443248   5.266470  \n",
              "3    -2.722725  -5.814775  11.236515   2.582494  \n",
              "4     9.639546   4.648132   3.928619   2.358164  \n",
              "..         ...        ...        ...        ...  \n",
              "995   2.628414  -1.351398   5.148549   4.619609  \n",
              "996 -13.764331  13.836068   7.353338  10.938554  \n",
              "997  -6.293332  -1.309196  -1.836557  -3.473290  \n",
              "998   4.640984 -11.869494   3.227287  -5.899874  \n",
              "999   2.497193   5.493373 -10.313484   1.392497  \n",
              "\n",
              "[1000 rows x 10 columns]"
            ]
          },
          "execution_count": 8,
          "metadata": {},
          "output_type": "execute_result"
        }
      ],
      "source": [
        "# The target column should be the binary `fraud` column.\n",
        "target = transaction_fraud_data.fraud\n",
        "target\n",
        "\n",
        "# The features column should be all of the features. \n",
        "features = transaction_fraud_data.drop(columns=\"fraud\")\n",
        "features\n"
      ]
    },
    {
      "cell_type": "markdown",
      "metadata": {},
      "source": [
        "### Step 2: Split the features and target data into `training_features`, `testing_features`, `training_targets`, and `testing_targets` datasets by using the `train_test_split` function."
      ]
    },
    {
      "cell_type": "code",
      "execution_count": 9,
      "metadata": {},
      "outputs": [],
      "source": [
        "# Split the dataset using the train_test_split function\n",
        "training_features, testing_features, training_targets, testing_targets = train_test_split(features,target)\n",
        "\n"
      ]
    },
    {
      "cell_type": "markdown",
      "metadata": {},
      "source": [
        "# Model and Fit the Data to a Logistic Regression"
      ]
    },
    {
      "cell_type": "markdown",
      "metadata": {},
      "source": [
        "### Step 1: Declare a `LogisticRegression` model."
      ]
    },
    {
      "cell_type": "code",
      "execution_count": 10,
      "metadata": {},
      "outputs": [],
      "source": [
        "# Declare a logistic regression model.\n",
        "# Apply a random_state of 7 to the model\n",
        "logistic_regression_model = LogisticRegression(random_state=7)\n"
      ]
    },
    {
      "cell_type": "markdown",
      "metadata": {},
      "source": [
        "### Step 2: Fit the training data to the model, and save the model."
      ]
    },
    {
      "cell_type": "code",
      "execution_count": 11,
      "metadata": {},
      "outputs": [
        {
          "data": {
            "text/html": [
              "<style>#sk-container-id-1 {color: black;}#sk-container-id-1 pre{padding: 0;}#sk-container-id-1 div.sk-toggleable {background-color: white;}#sk-container-id-1 label.sk-toggleable__label {cursor: pointer;display: block;width: 100%;margin-bottom: 0;padding: 0.3em;box-sizing: border-box;text-align: center;}#sk-container-id-1 label.sk-toggleable__label-arrow:before {content: \"▸\";float: left;margin-right: 0.25em;color: #696969;}#sk-container-id-1 label.sk-toggleable__label-arrow:hover:before {color: black;}#sk-container-id-1 div.sk-estimator:hover label.sk-toggleable__label-arrow:before {color: black;}#sk-container-id-1 div.sk-toggleable__content {max-height: 0;max-width: 0;overflow: hidden;text-align: left;background-color: #f0f8ff;}#sk-container-id-1 div.sk-toggleable__content pre {margin: 0.2em;color: black;border-radius: 0.25em;background-color: #f0f8ff;}#sk-container-id-1 input.sk-toggleable__control:checked~div.sk-toggleable__content {max-height: 200px;max-width: 100%;overflow: auto;}#sk-container-id-1 input.sk-toggleable__control:checked~label.sk-toggleable__label-arrow:before {content: \"▾\";}#sk-container-id-1 div.sk-estimator input.sk-toggleable__control:checked~label.sk-toggleable__label {background-color: #d4ebff;}#sk-container-id-1 div.sk-label input.sk-toggleable__control:checked~label.sk-toggleable__label {background-color: #d4ebff;}#sk-container-id-1 input.sk-hidden--visually {border: 0;clip: rect(1px 1px 1px 1px);clip: rect(1px, 1px, 1px, 1px);height: 1px;margin: -1px;overflow: hidden;padding: 0;position: absolute;width: 1px;}#sk-container-id-1 div.sk-estimator {font-family: monospace;background-color: #f0f8ff;border: 1px dotted black;border-radius: 0.25em;box-sizing: border-box;margin-bottom: 0.5em;}#sk-container-id-1 div.sk-estimator:hover {background-color: #d4ebff;}#sk-container-id-1 div.sk-parallel-item::after {content: \"\";width: 100%;border-bottom: 1px solid gray;flex-grow: 1;}#sk-container-id-1 div.sk-label:hover label.sk-toggleable__label {background-color: #d4ebff;}#sk-container-id-1 div.sk-serial::before {content: \"\";position: absolute;border-left: 1px solid gray;box-sizing: border-box;top: 0;bottom: 0;left: 50%;z-index: 0;}#sk-container-id-1 div.sk-serial {display: flex;flex-direction: column;align-items: center;background-color: white;padding-right: 0.2em;padding-left: 0.2em;position: relative;}#sk-container-id-1 div.sk-item {position: relative;z-index: 1;}#sk-container-id-1 div.sk-parallel {display: flex;align-items: stretch;justify-content: center;background-color: white;position: relative;}#sk-container-id-1 div.sk-item::before, #sk-container-id-1 div.sk-parallel-item::before {content: \"\";position: absolute;border-left: 1px solid gray;box-sizing: border-box;top: 0;bottom: 0;left: 50%;z-index: -1;}#sk-container-id-1 div.sk-parallel-item {display: flex;flex-direction: column;z-index: 1;position: relative;background-color: white;}#sk-container-id-1 div.sk-parallel-item:first-child::after {align-self: flex-end;width: 50%;}#sk-container-id-1 div.sk-parallel-item:last-child::after {align-self: flex-start;width: 50%;}#sk-container-id-1 div.sk-parallel-item:only-child::after {width: 0;}#sk-container-id-1 div.sk-dashed-wrapped {border: 1px dashed gray;margin: 0 0.4em 0.5em 0.4em;box-sizing: border-box;padding-bottom: 0.4em;background-color: white;}#sk-container-id-1 div.sk-label label {font-family: monospace;font-weight: bold;display: inline-block;line-height: 1.2em;}#sk-container-id-1 div.sk-label-container {text-align: center;}#sk-container-id-1 div.sk-container {/* jupyter's `normalize.less` sets `[hidden] { display: none; }` but bootstrap.min.css set `[hidden] { display: none !important; }` so we also need the `!important` here to be able to override the default hidden behavior on the sphinx rendered scikit-learn.org. See: https://github.com/scikit-learn/scikit-learn/issues/21755 */display: inline-block !important;position: relative;}#sk-container-id-1 div.sk-text-repr-fallback {display: none;}</style><div id=\"sk-container-id-1\" class=\"sk-top-container\"><div class=\"sk-text-repr-fallback\"><pre>LogisticRegression(random_state=7)</pre><b>In a Jupyter environment, please rerun this cell to show the HTML representation or trust the notebook. <br />On GitHub, the HTML representation is unable to render, please try loading this page with nbviewer.org.</b></div><div class=\"sk-container\" hidden><div class=\"sk-item\"><div class=\"sk-estimator sk-toggleable\"><input class=\"sk-toggleable__control sk-hidden--visually\" id=\"sk-estimator-id-1\" type=\"checkbox\" checked><label for=\"sk-estimator-id-1\" class=\"sk-toggleable__label sk-toggleable__label-arrow\">LogisticRegression</label><div class=\"sk-toggleable__content\"><pre>LogisticRegression(random_state=7)</pre></div></div></div></div></div>"
            ],
            "text/plain": [
              "LogisticRegression(random_state=7)"
            ]
          },
          "execution_count": 11,
          "metadata": {},
          "output_type": "execute_result"
        }
      ],
      "source": [
        "# Fit and save the logistic regression model using the training data\n",
        "lr_model = logistic_regression_model.fit(training_features, training_targets)\n",
        "lr_model"
      ]
    },
    {
      "cell_type": "markdown",
      "metadata": {},
      "source": [
        "# Predict the Testing Labels"
      ]
    },
    {
      "cell_type": "markdown",
      "metadata": {},
      "source": [
        "### Step 1: Make predictions about fraud by using the testing dataset, and save those predictions."
      ]
    },
    {
      "cell_type": "code",
      "execution_count": 12,
      "metadata": {},
      "outputs": [
        {
          "data": {
            "text/plain": [
              "array([0, 0, 0, 0, 0, 0, 0, 0, 0, 0, 0, 0, 0, 0, 0, 0, 0, 0, 0, 0, 0, 0,\n",
              "       0, 0, 0, 0, 0, 0, 0, 0, 0, 0, 0, 0, 0, 0, 0, 0, 0, 0, 0, 0, 0, 0,\n",
              "       0, 0, 0, 0, 0, 0, 0, 0, 0, 0, 0, 0, 0, 0, 0, 0, 0, 0, 0, 0, 0, 0,\n",
              "       0, 0, 0, 0, 0, 0, 0, 0, 0, 0, 0, 0, 0, 0, 0, 0, 0, 0, 0, 0, 0, 0,\n",
              "       0, 0, 0, 0, 0, 0, 0, 0, 0, 0, 0, 0, 0, 0, 0, 0, 0, 0, 0, 0, 0, 0,\n",
              "       0, 0, 0, 0, 0, 0, 0, 0, 0, 0, 0, 0, 0, 0, 0, 0, 0, 0, 0, 0, 0, 0,\n",
              "       0, 0, 0, 0, 0, 0, 0, 0, 0, 0, 0, 0, 0, 0, 0, 0, 0, 0, 0, 0, 0, 0,\n",
              "       0, 0, 0, 0, 0, 0, 0, 0, 0, 0, 0, 0, 0, 0, 0, 0, 0, 0, 0, 0, 0, 0,\n",
              "       0, 0, 0, 0, 0, 0, 0, 0, 0, 0, 0, 0, 0, 0, 0, 0, 0, 0, 0, 0, 0, 0,\n",
              "       0, 0, 0, 0, 0, 0, 0, 0, 0, 0, 0, 0, 0, 0, 0, 0, 0, 0, 0, 0, 0, 0,\n",
              "       0, 0, 0, 0, 0, 0, 0, 0, 0, 0, 0, 0, 0, 0, 0, 0, 0, 0, 0, 0, 0, 0,\n",
              "       0, 0, 0, 0, 0, 0, 0, 0], dtype=int64)"
            ]
          },
          "execution_count": 12,
          "metadata": {},
          "output_type": "execute_result"
        }
      ],
      "source": [
        "# Make and save testing predictions with the saved logistic regression model using the test data\n",
        "testing_predictions = lr_model.predict(testing_features)\n",
        "\n",
        "# Review the predictions\n",
        "testing_predictions\n"
      ]
    },
    {
      "cell_type": "markdown",
      "metadata": {},
      "source": [
        "# Calculate the Performance Metrics"
      ]
    },
    {
      "cell_type": "markdown",
      "metadata": {},
      "source": [
        "### Step 1: Calculate the accuracy score by evaluating `testing_targets` vs. `testing_predictions`."
      ]
    },
    {
      "cell_type": "code",
      "execution_count": 13,
      "metadata": {},
      "outputs": [
        {
          "data": {
            "text/plain": [
              "1.0"
            ]
          },
          "execution_count": 13,
          "metadata": {},
          "output_type": "execute_result"
        }
      ],
      "source": [
        "# Display the accuracy score for the test dataset.\n",
        "accuracy_score(testing_targets, testing_predictions)\n"
      ]
    },
    {
      "cell_type": "markdown",
      "metadata": {},
      "source": [
        "### Step 2: Answer the following question"
      ]
    },
    {
      "cell_type": "markdown",
      "metadata": {},
>>>>>>> 9298c049c0c888209e5ec588a39286457264b00e
      "source": [
        "**Question:**: For this dataset, how well did the model predict the actual fraudulent transactions?\n",
        "\n",
        "**Answer:**: # YOUR ANSWER HERE "
<<<<<<< HEAD
      ],
      "metadata": {}
    },
    {
      "cell_type": "code",
      "source": [],
      "outputs": [],
      "execution_count": null,
      "metadata": {}
=======
      ]
    },
    {
      "cell_type": "code",
      "execution_count": null,
      "metadata": {},
      "outputs": [],
      "source": []
>>>>>>> 9298c049c0c888209e5ec588a39286457264b00e
    }
  ],
  "metadata": {
    "kernelspec": {
      "display_name": "Python 3",
      "language": "python",
      "name": "python3"
    },
    "language_info": {
      "codemirror_mode": {
        "name": "ipython",
        "version": 3
      },
      "file_extension": ".py",
      "mimetype": "text/x-python",
      "name": "python",
      "nbconvert_exporter": "python",
      "pygments_lexer": "ipython3",
<<<<<<< HEAD
      "version": "3.7.7"
=======
      "version": "3.10.13"
>>>>>>> 9298c049c0c888209e5ec588a39286457264b00e
    },
    "nteract": {
      "version": "0.28.0"
    }
  },
  "nbformat": 4,
  "nbformat_minor": 4
<<<<<<< HEAD
}
=======
}
>>>>>>> 9298c049c0c888209e5ec588a39286457264b00e
