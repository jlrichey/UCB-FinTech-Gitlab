{
 "cells": [
  {
   "cell_type": "markdown",
   "metadata": {},
   "source": [
    "# Instructor Do: Intro to the ROC Curve and AUC\n",
    "\n",
    "In this activity, students will learn how to measure the performance of a binary classification model by fetching metrics from Keras, as well as plotting and interpreting the ROC curve and AUC."
   ]
  },
  {
   "cell_type": "code",
   "execution_count": 73,
   "metadata": {},
   "outputs": [],
   "source": [
    "# Initial imports\n",
    "import pandas as pd\n",
    "import numpy as np\n",
    "import matplotlib.pyplot as plt\n",
    "import tensorflow as tf\n",
    "from pathlib import Path\n",
    "\n",
    "%matplotlib inline"
   ]
  },
  {
   "cell_type": "markdown",
   "metadata": {},
   "source": [
    "## The Dataset\n",
    "\n",
    "The data provided for this demo contains anonymous information about `284807` credit card transactions made by European credit cardholders in September 2013.\n",
    "\n",
    "The dataset is going to be used to create a binary classification model using a deep neural network to detect fraudulent transactions. It contains nine numerical variables, which are the result of PCA transformation to protect the confidentiality of credit cardholders. Only the transaction amount can be seen as is.\n",
    "\n",
    "This dataset is an abstract of the file shared by the [Machine Learning Group](http://mlg.ulb.ac.be) of the Université Libre de Bruxelles (ULB)."
   ]
  },
  {
   "cell_type": "code",
   "execution_count": 74,
   "metadata": {},
   "outputs": [
    {
     "data": {
      "text/html": [
       "<div>\n",
       "<style scoped>\n",
       "    .dataframe tbody tr th:only-of-type {\n",
       "        vertical-align: middle;\n",
       "    }\n",
       "\n",
       "    .dataframe tbody tr th {\n",
       "        vertical-align: top;\n",
       "    }\n",
       "\n",
       "    .dataframe thead th {\n",
       "        text-align: right;\n",
       "    }\n",
       "</style>\n",
       "<table border=\"1\" class=\"dataframe\">\n",
       "  <thead>\n",
       "    <tr style=\"text-align: right;\">\n",
       "      <th></th>\n",
       "      <th>V1</th>\n",
       "      <th>V2</th>\n",
       "      <th>V3</th>\n",
       "      <th>V4</th>\n",
       "      <th>V5</th>\n",
       "      <th>V6</th>\n",
       "      <th>V7</th>\n",
       "      <th>V8</th>\n",
       "      <th>V9</th>\n",
       "      <th>Amount</th>\n",
       "      <th>Class</th>\n",
       "    </tr>\n",
       "  </thead>\n",
       "  <tbody>\n",
       "    <tr>\n",
       "      <th>0</th>\n",
       "      <td>-1.359807</td>\n",
       "      <td>-0.072781</td>\n",
       "      <td>2.536347</td>\n",
       "      <td>1.378155</td>\n",
       "      <td>-0.338321</td>\n",
       "      <td>0.462388</td>\n",
       "      <td>0.239599</td>\n",
       "      <td>0.098698</td>\n",
       "      <td>0.363787</td>\n",
       "      <td>149.62</td>\n",
       "      <td>0</td>\n",
       "    </tr>\n",
       "    <tr>\n",
       "      <th>1</th>\n",
       "      <td>1.191857</td>\n",
       "      <td>0.266151</td>\n",
       "      <td>0.166480</td>\n",
       "      <td>0.448154</td>\n",
       "      <td>0.060018</td>\n",
       "      <td>-0.082361</td>\n",
       "      <td>-0.078803</td>\n",
       "      <td>0.085102</td>\n",
       "      <td>-0.255425</td>\n",
       "      <td>2.69</td>\n",
       "      <td>0</td>\n",
       "    </tr>\n",
       "    <tr>\n",
       "      <th>2</th>\n",
       "      <td>-1.358354</td>\n",
       "      <td>-1.340163</td>\n",
       "      <td>1.773209</td>\n",
       "      <td>0.379780</td>\n",
       "      <td>-0.503198</td>\n",
       "      <td>1.800499</td>\n",
       "      <td>0.791461</td>\n",
       "      <td>0.247676</td>\n",
       "      <td>-1.514654</td>\n",
       "      <td>378.66</td>\n",
       "      <td>0</td>\n",
       "    </tr>\n",
       "    <tr>\n",
       "      <th>3</th>\n",
       "      <td>-0.966272</td>\n",
       "      <td>-0.185226</td>\n",
       "      <td>1.792993</td>\n",
       "      <td>-0.863291</td>\n",
       "      <td>-0.010309</td>\n",
       "      <td>1.247203</td>\n",
       "      <td>0.237609</td>\n",
       "      <td>0.377436</td>\n",
       "      <td>-1.387024</td>\n",
       "      <td>123.50</td>\n",
       "      <td>0</td>\n",
       "    </tr>\n",
       "    <tr>\n",
       "      <th>4</th>\n",
       "      <td>-1.158233</td>\n",
       "      <td>0.877737</td>\n",
       "      <td>1.548718</td>\n",
       "      <td>0.403034</td>\n",
       "      <td>-0.407193</td>\n",
       "      <td>0.095921</td>\n",
       "      <td>0.592941</td>\n",
       "      <td>-0.270533</td>\n",
       "      <td>0.817739</td>\n",
       "      <td>69.99</td>\n",
       "      <td>0</td>\n",
       "    </tr>\n",
       "  </tbody>\n",
       "</table>\n",
       "</div>"
      ],
      "text/plain": [
       "         V1        V2        V3        V4        V5        V6        V7  \\\n",
       "0 -1.359807 -0.072781  2.536347  1.378155 -0.338321  0.462388  0.239599   \n",
       "1  1.191857  0.266151  0.166480  0.448154  0.060018 -0.082361 -0.078803   \n",
       "2 -1.358354 -1.340163  1.773209  0.379780 -0.503198  1.800499  0.791461   \n",
       "3 -0.966272 -0.185226  1.792993 -0.863291 -0.010309  1.247203  0.237609   \n",
       "4 -1.158233  0.877737  1.548718  0.403034 -0.407193  0.095921  0.592941   \n",
       "\n",
       "         V8        V9  Amount  Class  \n",
       "0  0.098698  0.363787  149.62      0  \n",
       "1  0.085102 -0.255425    2.69      0  \n",
       "2  0.247676 -1.514654  378.66      0  \n",
       "3  0.377436 -1.387024  123.50      0  \n",
       "4 -0.270533  0.817739   69.99      0  "
      ]
     },
     "execution_count": 74,
     "metadata": {},
     "output_type": "execute_result"
    }
   ],
   "source": [
    "# Import the dataset\n",
    "file_path = Path(\"../Resources/transactions.csv\")\n",
    "transactions_df = pd.read_csv(file_path)\n",
    "transactions_df.head()"
   ]
  },
  {
   "cell_type": "markdown",
   "metadata": {},
   "source": [
    "## Data Preprocessing"
   ]
  },
  {
   "cell_type": "code",
   "execution_count": 75,
   "metadata": {},
   "outputs": [],
   "source": [
    "# Creating the X and y sets\n",
    "X = transactions_df.iloc[:, 0:10].values\n",
    "y = transactions_df[\"Class\"].values"
   ]
  },
  {
   "cell_type": "code",
   "execution_count": 76,
   "metadata": {},
   "outputs": [],
   "source": [
    "# Creating training, validation, and testing sets\n",
    "from sklearn.model_selection import train_test_split\n",
    "\n",
    "X_train, X_test, y_train, y_test = train_test_split(X, y, random_state=78)\n",
    "\n",
    "X_train, X_val, y_train, y_val = train_test_split(X_train, y_train, random_state=78)"
   ]
  },
  {
   "cell_type": "code",
   "execution_count": 77,
   "metadata": {},
   "outputs": [],
   "source": [
    "# Import the StandardScaler from sklearn\n",
    "from sklearn.preprocessing import StandardScaler\n",
    "\n",
    "# Scale the data\n",
    "scaler = StandardScaler().fit(X_train)\n",
    "X_train = scaler.transform(X_train)"
   ]
  },
  {
   "cell_type": "markdown",
   "metadata": {},
   "source": [
    "## Build and Train the Deep Learning Model"
   ]
  },
  {
   "cell_type": "markdown",
   "metadata": {},
   "source": [
    " ### Importing the Keras Modules"
   ]
  },
  {
   "cell_type": "code",
   "execution_count": 78,
   "metadata": {},
   "outputs": [],
   "source": [
    "# Import Keras modules for model creation\n",
    "from tensorflow.keras.models import Sequential\n",
    "from tensorflow.keras.layers import Dense"
   ]
  },
  {
   "cell_type": "markdown",
   "metadata": {},
   "source": [
    " ### Setting Up the Model"
   ]
  },
  {
   "cell_type": "code",
   "execution_count": 79,
   "metadata": {},
   "outputs": [],
   "source": [
    "# Model set-up\n",
    "number_input_features = 10\n",
    "hidden_nodes_layer1 = 15\n",
    "hidden_nodes_layer2 = 5"
   ]
  },
  {
   "cell_type": "markdown",
   "metadata": {},
   "source": [
    " ### Defining the Model's Structure"
   ]
  },
  {
   "cell_type": "code",
   "execution_count": 80,
   "metadata": {},
   "outputs": [
    {
     "name": "stderr",
     "output_type": "stream",
     "text": [
      "c:\\Users\\pablo\\anaconda3\\envs\\dev\\lib\\site-packages\\keras\\src\\layers\\core\\dense.py:85: UserWarning: Do not pass an `input_shape`/`input_dim` argument to a layer. When using Sequential models, prefer using an `Input(shape)` object as the first layer in the model instead.\n",
      "  super().__init__(activity_regularizer=activity_regularizer, **kwargs)\n"
     ]
    }
   ],
   "source": [
    "# Define the LSTM RNN model\n",
    "model = Sequential()\n",
    "\n",
    "# Layer 1\n",
    "model.add(\n",
    "    Dense(units=hidden_nodes_layer1, input_dim=number_input_features, activation=\"relu\")\n",
    ")\n",
    "\n",
    "# Layer 2\n",
    "model.add(Dense(units=hidden_nodes_layer2, activation=\"relu\"))\n",
    "\n",
    "# Output layer\n",
    "model.add(Dense(1, activation=\"sigmoid\"))"
   ]
  },
  {
   "cell_type": "markdown",
   "metadata": {},
   "source": [
    " ### Compiling the Model"
   ]
  },
  {
   "cell_type": "code",
   "execution_count": 81,
   "metadata": {},
   "outputs": [],
   "source": [
    "# Compile the model\n",
    "model.compile(\n",
    "    loss=\"binary_crossentropy\",\n",
    "    optimizer=\"adam\",\n",
    "    metrics=[\n",
    "        \"accuracy\",\n",
    "        tf.keras.metrics.TruePositives(name=\"tp\"),\n",
    "        tf.keras.metrics.TrueNegatives(name=\"tn\"),\n",
    "        tf.keras.metrics.FalsePositives(name=\"fp\"),\n",
    "        tf.keras.metrics.FalseNegatives(name=\"fn\"),\n",
    "        tf.keras.metrics.Precision(name=\"precision\"),\n",
    "        tf.keras.metrics.Recall(name=\"recall\"),\n",
    "        tf.keras.metrics.AUC(name=\"auc\"),\n",
    "    ],\n",
    ")"
   ]
  },
  {
   "cell_type": "code",
   "execution_count": 82,
   "metadata": {},
   "outputs": [
    {
     "data": {
      "text/html": [
       "<pre style=\"white-space:pre;overflow-x:auto;line-height:normal;font-family:Menlo,'DejaVu Sans Mono',consolas,'Courier New',monospace\"><span style=\"font-weight: bold\">Model: \"sequential_2\"</span>\n",
       "</pre>\n"
      ],
      "text/plain": [
       "\u001b[1mModel: \"sequential_2\"\u001b[0m\n"
      ]
     },
     "metadata": {},
     "output_type": "display_data"
    },
    {
     "data": {
      "text/html": [
       "<pre style=\"white-space:pre;overflow-x:auto;line-height:normal;font-family:Menlo,'DejaVu Sans Mono',consolas,'Courier New',monospace\">┏━━━━━━━━━━━━━━━━━━━━━━━━━━━━━━━━━┳━━━━━━━━━━━━━━━━━━━━━━━━┳━━━━━━━━━━━━━━━┓\n",
       "┃<span style=\"font-weight: bold\"> Layer (type)                    </span>┃<span style=\"font-weight: bold\"> Output Shape           </span>┃<span style=\"font-weight: bold\">       Param # </span>┃\n",
       "┡━━━━━━━━━━━━━━━━━━━━━━━━━━━━━━━━━╇━━━━━━━━━━━━━━━━━━━━━━━━╇━━━━━━━━━━━━━━━┩\n",
       "│ dense_6 (<span style=\"color: #0087ff; text-decoration-color: #0087ff\">Dense</span>)                 │ (<span style=\"color: #00d7ff; text-decoration-color: #00d7ff\">None</span>, <span style=\"color: #00af00; text-decoration-color: #00af00\">15</span>)             │           <span style=\"color: #00af00; text-decoration-color: #00af00\">165</span> │\n",
       "├─────────────────────────────────┼────────────────────────┼───────────────┤\n",
       "│ dense_7 (<span style=\"color: #0087ff; text-decoration-color: #0087ff\">Dense</span>)                 │ (<span style=\"color: #00d7ff; text-decoration-color: #00d7ff\">None</span>, <span style=\"color: #00af00; text-decoration-color: #00af00\">5</span>)              │            <span style=\"color: #00af00; text-decoration-color: #00af00\">80</span> │\n",
       "├─────────────────────────────────┼────────────────────────┼───────────────┤\n",
       "│ dense_8 (<span style=\"color: #0087ff; text-decoration-color: #0087ff\">Dense</span>)                 │ (<span style=\"color: #00d7ff; text-decoration-color: #00d7ff\">None</span>, <span style=\"color: #00af00; text-decoration-color: #00af00\">1</span>)              │             <span style=\"color: #00af00; text-decoration-color: #00af00\">6</span> │\n",
       "└─────────────────────────────────┴────────────────────────┴───────────────┘\n",
       "</pre>\n"
      ],
      "text/plain": [
       "┏━━━━━━━━━━━━━━━━━━━━━━━━━━━━━━━━━┳━━━━━━━━━━━━━━━━━━━━━━━━┳━━━━━━━━━━━━━━━┓\n",
       "┃\u001b[1m \u001b[0m\u001b[1mLayer (type)                   \u001b[0m\u001b[1m \u001b[0m┃\u001b[1m \u001b[0m\u001b[1mOutput Shape          \u001b[0m\u001b[1m \u001b[0m┃\u001b[1m \u001b[0m\u001b[1m      Param #\u001b[0m\u001b[1m \u001b[0m┃\n",
       "┡━━━━━━━━━━━━━━━━━━━━━━━━━━━━━━━━━╇━━━━━━━━━━━━━━━━━━━━━━━━╇━━━━━━━━━━━━━━━┩\n",
       "│ dense_6 (\u001b[38;5;33mDense\u001b[0m)                 │ (\u001b[38;5;45mNone\u001b[0m, \u001b[38;5;34m15\u001b[0m)             │           \u001b[38;5;34m165\u001b[0m │\n",
       "├─────────────────────────────────┼────────────────────────┼───────────────┤\n",
       "│ dense_7 (\u001b[38;5;33mDense\u001b[0m)                 │ (\u001b[38;5;45mNone\u001b[0m, \u001b[38;5;34m5\u001b[0m)              │            \u001b[38;5;34m80\u001b[0m │\n",
       "├─────────────────────────────────┼────────────────────────┼───────────────┤\n",
       "│ dense_8 (\u001b[38;5;33mDense\u001b[0m)                 │ (\u001b[38;5;45mNone\u001b[0m, \u001b[38;5;34m1\u001b[0m)              │             \u001b[38;5;34m6\u001b[0m │\n",
       "└─────────────────────────────────┴────────────────────────┴───────────────┘\n"
      ]
     },
     "metadata": {},
     "output_type": "display_data"
    },
    {
     "data": {
      "text/html": [
       "<pre style=\"white-space:pre;overflow-x:auto;line-height:normal;font-family:Menlo,'DejaVu Sans Mono',consolas,'Courier New',monospace\"><span style=\"font-weight: bold\"> Total params: </span><span style=\"color: #00af00; text-decoration-color: #00af00\">251</span> (1004.00 B)\n",
       "</pre>\n"
      ],
      "text/plain": [
       "\u001b[1m Total params: \u001b[0m\u001b[38;5;34m251\u001b[0m (1004.00 B)\n"
      ]
     },
     "metadata": {},
     "output_type": "display_data"
    },
    {
     "data": {
      "text/html": [
       "<pre style=\"white-space:pre;overflow-x:auto;line-height:normal;font-family:Menlo,'DejaVu Sans Mono',consolas,'Courier New',monospace\"><span style=\"font-weight: bold\"> Trainable params: </span><span style=\"color: #00af00; text-decoration-color: #00af00\">251</span> (1004.00 B)\n",
       "</pre>\n"
      ],
      "text/plain": [
       "\u001b[1m Trainable params: \u001b[0m\u001b[38;5;34m251\u001b[0m (1004.00 B)\n"
      ]
     },
     "metadata": {},
     "output_type": "display_data"
    },
    {
     "data": {
      "text/html": [
       "<pre style=\"white-space:pre;overflow-x:auto;line-height:normal;font-family:Menlo,'DejaVu Sans Mono',consolas,'Courier New',monospace\"><span style=\"font-weight: bold\"> Non-trainable params: </span><span style=\"color: #00af00; text-decoration-color: #00af00\">0</span> (0.00 B)\n",
       "</pre>\n"
      ],
      "text/plain": [
       "\u001b[1m Non-trainable params: \u001b[0m\u001b[38;5;34m0\u001b[0m (0.00 B)\n"
      ]
     },
     "metadata": {},
     "output_type": "display_data"
    }
   ],
   "source": [
    "# Summarize the model\n",
    "model.summary()"
   ]
  },
  {
   "cell_type": "markdown",
   "metadata": {},
   "source": [
    " ### Training the Model"
   ]
  },
  {
   "cell_type": "code",
   "execution_count": 83,
   "metadata": {},
   "outputs": [
    {
     "name": "stdout",
     "output_type": "stream",
     "text": [
      "Epoch 1/50\n"
     ]
    },
    {
     "name": "stdout",
     "output_type": "stream",
     "text": [
      "\u001b[1m161/161\u001b[0m \u001b[32m━━━━━━━━━━━━━━━━━━━━\u001b[0m\u001b[37m\u001b[0m \u001b[1m1s\u001b[0m 3ms/step - accuracy: 0.9571 - auc: 0.2138 - fn: 129.5123 - fp: 1904.7346 - loss: 0.4232 - precision: 9.3013e-04 - recall: 0.0193 - tn: 79447.8984 - tp: 1.8457 - val_accuracy: 0.9949 - val_auc: 0.4551 - val_fn: 104.0000 - val_fp: 171.0000 - val_loss: 0.1154 - val_precision: 0.0058 - val_recall: 0.0095 - val_tn: 53126.0000 - val_tp: 1.0000\n",
      "Epoch 2/50\n",
      "\u001b[1m161/161\u001b[0m \u001b[32m━━━━━━━━━━━━━━━━━━━━\u001b[0m\u001b[37m\u001b[0m \u001b[1m0s\u001b[0m 816us/step - accuracy: 0.9986 - auc: 0.2874 - fn: 126.2654 - fp: 0.0000e+00 - loss: 0.0582 - precision: 0.0000e+00 - recall: 0.0000e+00 - tn: 81357.7188 - tp: 0.0000e+00 - val_accuracy: 0.9975 - val_auc: 0.5250 - val_fn: 105.0000 - val_fp: 31.0000 - val_loss: 0.1221 - val_precision: 0.0000e+00 - val_recall: 0.0000e+00 - val_tn: 53266.0000 - val_tp: 0.0000e+00\n",
      "Epoch 3/50\n",
      "\u001b[1m161/161\u001b[0m \u001b[32m━━━━━━━━━━━━━━━━━━━━\u001b[0m\u001b[37m\u001b[0m \u001b[1m0s\u001b[0m 792us/step - accuracy: 0.9985 - auc: 0.5894 - fn: 125.6235 - fp: 0.0000e+00 - loss: 0.0208 - precision: 0.0000e+00 - recall: 0.0000e+00 - tn: 81358.3672 - tp: 0.0000e+00 - val_accuracy: 0.9973 - val_auc: 0.6105 - val_fn: 103.0000 - val_fp: 42.0000 - val_loss: 0.1386 - val_precision: 0.0455 - val_recall: 0.0190 - val_tn: 53255.0000 - val_tp: 2.0000\n",
      "Epoch 4/50\n",
      "\u001b[1m161/161\u001b[0m \u001b[32m━━━━━━━━━━━━━━━━━━━━\u001b[0m\u001b[37m\u001b[0m \u001b[1m0s\u001b[0m 780us/step - accuracy: 0.9986 - auc: 0.7630 - fn: 124.6543 - fp: 0.5370 - loss: 0.0121 - precision: 0.1115 - recall: 0.0019 - tn: 81358.3438 - tp: 0.4506 - val_accuracy: 0.9969 - val_auc: 0.6472 - val_fn: 97.0000 - val_fp: 69.0000 - val_loss: 0.1489 - val_precision: 0.1039 - val_recall: 0.0762 - val_tn: 53228.0000 - val_tp: 8.0000\n",
      "Epoch 5/50\n",
      "\u001b[1m161/161\u001b[0m \u001b[32m━━━━━━━━━━━━━━━━━━━━\u001b[0m\u001b[37m\u001b[0m \u001b[1m0s\u001b[0m 789us/step - accuracy: 0.9986 - auc: 0.8212 - fn: 101.2160 - fp: 10.7037 - loss: 0.0092 - precision: 0.5377 - recall: 0.1368 - tn: 81349.7188 - tp: 22.3457 - val_accuracy: 0.9970 - val_auc: 0.6800 - val_fn: 80.0000 - val_fp: 81.0000 - val_loss: 0.1561 - val_precision: 0.2358 - val_recall: 0.2381 - val_tn: 53216.0000 - val_tp: 25.0000\n",
      "Epoch 6/50\n",
      "\u001b[1m161/161\u001b[0m \u001b[32m━━━━━━━━━━━━━━━━━━━━\u001b[0m\u001b[37m\u001b[0m \u001b[1m0s\u001b[0m 784us/step - accuracy: 0.9989 - auc: 0.8693 - fn: 80.5062 - fp: 11.5679 - loss: 0.0073 - precision: 0.8271 - recall: 0.3984 - tn: 81334.5234 - tp: 57.3889 - val_accuracy: 0.9970 - val_auc: 0.7016 - val_fn: 78.0000 - val_fp: 83.0000 - val_loss: 0.1564 - val_precision: 0.2455 - val_recall: 0.2571 - val_tn: 53214.0000 - val_tp: 27.0000\n",
      "Epoch 7/50\n",
      "\u001b[1m161/161\u001b[0m \u001b[32m━━━━━━━━━━━━━━━━━━━━\u001b[0m\u001b[37m\u001b[0m \u001b[1m0s\u001b[0m 784us/step - accuracy: 0.9989 - auc: 0.9026 - fn: 69.9383 - fp: 16.3642 - loss: 0.0061 - precision: 0.7872 - recall: 0.4488 - tn: 81339.4297 - tp: 58.2531 - val_accuracy: 0.9967 - val_auc: 0.7204 - val_fn: 71.0000 - val_fp: 106.0000 - val_loss: 0.1573 - val_precision: 0.2429 - val_recall: 0.3238 - val_tn: 53191.0000 - val_tp: 34.0000\n",
      "Epoch 8/50\n",
      "\u001b[1m161/161\u001b[0m \u001b[32m━━━━━━━━━━━━━━━━━━━━\u001b[0m\u001b[37m\u001b[0m \u001b[1m0s\u001b[0m 786us/step - accuracy: 0.9990 - auc: 0.9090 - fn: 66.8580 - fp: 12.6790 - loss: 0.0056 - precision: 0.8386 - recall: 0.4928 - tn: 81340.9219 - tp: 63.5309 - val_accuracy: 0.9966 - val_auc: 0.7323 - val_fn: 69.0000 - val_fp: 115.0000 - val_loss: 0.1531 - val_precision: 0.2384 - val_recall: 0.3429 - val_tn: 53182.0000 - val_tp: 36.0000\n",
      "Epoch 9/50\n",
      "\u001b[1m161/161\u001b[0m \u001b[32m━━━━━━━━━━━━━━━━━━━━\u001b[0m\u001b[37m\u001b[0m \u001b[1m0s\u001b[0m 788us/step - accuracy: 0.9991 - auc: 0.8995 - fn: 66.5247 - fp: 12.2346 - loss: 0.0051 - precision: 0.8593 - recall: 0.5069 - tn: 81340.0078 - tp: 65.2222 - val_accuracy: 0.9962 - val_auc: 0.7465 - val_fn: 63.0000 - val_fp: 142.0000 - val_loss: 0.1490 - val_precision: 0.2283 - val_recall: 0.4000 - val_tn: 53155.0000 - val_tp: 42.0000\n",
      "Epoch 10/50\n",
      "\u001b[1m161/161\u001b[0m \u001b[32m━━━━━━━━━━━━━━━━━━━━\u001b[0m\u001b[37m\u001b[0m \u001b[1m0s\u001b[0m 805us/step - accuracy: 0.9990 - auc: 0.9122 - fn: 66.1173 - fp: 11.1975 - loss: 0.0051 - precision: 0.8536 - recall: 0.5034 - tn: 81338.7188 - tp: 67.9506 - val_accuracy: 0.9957 - val_auc: 0.7564 - val_fn: 62.0000 - val_fp: 168.0000 - val_loss: 0.1441 - val_precision: 0.2038 - val_recall: 0.4095 - val_tn: 53129.0000 - val_tp: 43.0000\n",
      "Epoch 11/50\n",
      "\u001b[1m161/161\u001b[0m \u001b[32m━━━━━━━━━━━━━━━━━━━━\u001b[0m\u001b[37m\u001b[0m \u001b[1m0s\u001b[0m 797us/step - accuracy: 0.9991 - auc: 0.9033 - fn: 58.7531 - fp: 14.5802 - loss: 0.0047 - precision: 0.8323 - recall: 0.5599 - tn: 81334.2344 - tp: 76.4198 - val_accuracy: 0.9954 - val_auc: 0.7571 - val_fn: 61.0000 - val_fp: 184.0000 - val_loss: 0.1391 - val_precision: 0.1930 - val_recall: 0.4190 - val_tn: 53113.0000 - val_tp: 44.0000\n",
      "Epoch 12/50\n",
      "\u001b[1m161/161\u001b[0m \u001b[32m━━━━━━━━━━━━━━━━━━━━\u001b[0m\u001b[37m\u001b[0m \u001b[1m0s\u001b[0m 805us/step - accuracy: 0.9992 - auc: 0.8758 - fn: 57.4444 - fp: 8.8457 - loss: 0.0044 - precision: 0.8592 - recall: 0.5074 - tn: 81351.4375 - tp: 66.2593 - val_accuracy: 0.9946 - val_auc: 0.7575 - val_fn: 58.0000 - val_fp: 233.0000 - val_loss: 0.1362 - val_precision: 0.1679 - val_recall: 0.4476 - val_tn: 53064.0000 - val_tp: 47.0000\n",
      "Epoch 13/50\n",
      "\u001b[1m161/161\u001b[0m \u001b[32m━━━━━━━━━━━━━━━━━━━━\u001b[0m\u001b[37m\u001b[0m \u001b[1m0s\u001b[0m 785us/step - accuracy: 0.9993 - auc: 0.9057 - fn: 46.0864 - fp: 12.2593 - loss: 0.0042 - precision: 0.8458 - recall: 0.6636 - tn: 81348.2891 - tp: 77.3519 - val_accuracy: 0.9945 - val_auc: 0.7575 - val_fn: 57.0000 - val_fp: 235.0000 - val_loss: 0.1318 - val_precision: 0.1696 - val_recall: 0.4571 - val_tn: 53062.0000 - val_tp: 48.0000\n",
      "Epoch 14/50\n",
      "\u001b[1m161/161\u001b[0m \u001b[32m━━━━━━━━━━━━━━━━━━━━\u001b[0m\u001b[37m\u001b[0m \u001b[1m0s\u001b[0m 793us/step - accuracy: 0.9993 - auc: 0.9253 - fn: 49.0062 - fp: 10.9877 - loss: 0.0039 - precision: 0.8910 - recall: 0.6563 - tn: 81342.1250 - tp: 81.8704 - val_accuracy: 0.9933 - val_auc: 0.7617 - val_fn: 57.0000 - val_fp: 300.0000 - val_loss: 0.1287 - val_precision: 0.1379 - val_recall: 0.4571 - val_tn: 52997.0000 - val_tp: 48.0000\n",
      "Epoch 15/50\n",
      "\u001b[1m161/161\u001b[0m \u001b[32m━━━━━━━━━━━━━━━━━━━━\u001b[0m\u001b[37m\u001b[0m \u001b[1m0s\u001b[0m 801us/step - accuracy: 0.9993 - auc: 0.9278 - fn: 46.5926 - fp: 13.4753 - loss: 0.0038 - precision: 0.8762 - recall: 0.6767 - tn: 81337.5469 - tp: 86.3704 - val_accuracy: 0.9940 - val_auc: 0.7575 - val_fn: 57.0000 - val_fp: 264.0000 - val_loss: 0.1230 - val_precision: 0.1538 - val_recall: 0.4571 - val_tn: 53033.0000 - val_tp: 48.0000\n",
      "Epoch 16/50\n",
      "\u001b[1m161/161\u001b[0m \u001b[32m━━━━━━━━━━━━━━━━━━━━\u001b[0m\u001b[37m\u001b[0m \u001b[1m0s\u001b[0m 798us/step - accuracy: 0.9992 - auc: 0.9027 - fn: 53.3333 - fp: 11.4444 - loss: 0.0043 - precision: 0.8813 - recall: 0.5704 - tn: 81340.0312 - tp: 79.1790 - val_accuracy: 0.9934 - val_auc: 0.7611 - val_fn: 58.0000 - val_fp: 293.0000 - val_loss: 0.1151 - val_precision: 0.1382 - val_recall: 0.4476 - val_tn: 53004.0000 - val_tp: 47.0000\n",
      "Epoch 17/50\n",
      "\u001b[1m161/161\u001b[0m \u001b[32m━━━━━━━━━━━━━━━━━━━━\u001b[0m\u001b[37m\u001b[0m \u001b[1m0s\u001b[0m 806us/step - accuracy: 0.9992 - auc: 0.9125 - fn: 53.6173 - fp: 11.3333 - loss: 0.0042 - precision: 0.8824 - recall: 0.6170 - tn: 81336.4531 - tp: 82.5802 - val_accuracy: 0.9928 - val_auc: 0.7658 - val_fn: 57.0000 - val_fp: 326.0000 - val_loss: 0.1132 - val_precision: 0.1283 - val_recall: 0.4571 - val_tn: 52971.0000 - val_tp: 48.0000\n",
      "Epoch 18/50\n",
      "\u001b[1m161/161\u001b[0m \u001b[32m━━━━━━━━━━━━━━━━━━━━\u001b[0m\u001b[37m\u001b[0m \u001b[1m0s\u001b[0m 782us/step - accuracy: 0.9993 - auc: 0.9122 - fn: 47.8148 - fp: 11.9198 - loss: 0.0037 - precision: 0.8630 - recall: 0.6617 - tn: 81345.0234 - tp: 79.2284 - val_accuracy: 0.9919 - val_auc: 0.7777 - val_fn: 56.0000 - val_fp: 378.0000 - val_loss: 0.1058 - val_precision: 0.1148 - val_recall: 0.4667 - val_tn: 52919.0000 - val_tp: 49.0000\n",
      "Epoch 19/50\n",
      "\u001b[1m161/161\u001b[0m \u001b[32m━━━━━━━━━━━━━━━━━━━━\u001b[0m\u001b[37m\u001b[0m \u001b[1m0s\u001b[0m 780us/step - accuracy: 0.9993 - auc: 0.9150 - fn: 51.2099 - fp: 9.5679 - loss: 0.0042 - precision: 0.9165 - recall: 0.6470 - tn: 81338.8906 - tp: 84.3210 - val_accuracy: 0.9919 - val_auc: 0.7828 - val_fn: 58.0000 - val_fp: 372.0000 - val_loss: 0.1015 - val_precision: 0.1122 - val_recall: 0.4476 - val_tn: 52925.0000 - val_tp: 47.0000\n",
      "Epoch 20/50\n",
      "\u001b[1m161/161\u001b[0m \u001b[32m━━━━━━━━━━━━━━━━━━━━\u001b[0m\u001b[37m\u001b[0m \u001b[1m0s\u001b[0m 793us/step - accuracy: 0.9992 - auc: 0.9151 - fn: 52.7346 - fp: 11.2778 - loss: 0.0042 - precision: 0.8958 - recall: 0.6060 - tn: 81335.8984 - tp: 84.0802 - val_accuracy: 0.9910 - val_auc: 0.7883 - val_fn: 53.0000 - val_fp: 430.0000 - val_loss: 0.1001 - val_precision: 0.1079 - val_recall: 0.4952 - val_tn: 52867.0000 - val_tp: 52.0000\n",
      "Epoch 21/50\n",
      "\u001b[1m161/161\u001b[0m \u001b[32m━━━━━━━━━━━━━━━━━━━━\u001b[0m\u001b[37m\u001b[0m \u001b[1m0s\u001b[0m 793us/step - accuracy: 0.9993 - auc: 0.9129 - fn: 48.5432 - fp: 10.6852 - loss: 0.0036 - precision: 0.8863 - recall: 0.6311 - tn: 81343.8750 - tp: 80.8827 - val_accuracy: 0.9903 - val_auc: 0.7918 - val_fn: 51.0000 - val_fp: 465.0000 - val_loss: 0.0956 - val_precision: 0.1040 - val_recall: 0.5143 - val_tn: 52832.0000 - val_tp: 54.0000\n",
      "Epoch 22/50\n",
      "\u001b[1m161/161\u001b[0m \u001b[32m━━━━━━━━━━━━━━━━━━━━\u001b[0m\u001b[37m\u001b[0m \u001b[1m0s\u001b[0m 801us/step - accuracy: 0.9992 - auc: 0.8926 - fn: 52.8148 - fp: 9.9198 - loss: 0.0048 - precision: 0.9061 - recall: 0.5929 - tn: 81335.9766 - tp: 85.2778 - val_accuracy: 0.9900 - val_auc: 0.7921 - val_fn: 50.0000 - val_fp: 484.0000 - val_loss: 0.0969 - val_precision: 0.1020 - val_recall: 0.5238 - val_tn: 52813.0000 - val_tp: 55.0000\n",
      "Epoch 23/50\n",
      "\u001b[1m161/161\u001b[0m \u001b[32m━━━━━━━━━━━━━━━━━━━━\u001b[0m\u001b[37m\u001b[0m \u001b[1m0s\u001b[0m 799us/step - accuracy: 0.9992 - auc: 0.9097 - fn: 49.8457 - fp: 11.0556 - loss: 0.0040 - precision: 0.8622 - recall: 0.6010 - tn: 81346.2266 - tp: 76.8580 - val_accuracy: 0.9887 - val_auc: 0.7955 - val_fn: 49.0000 - val_fp: 556.0000 - val_loss: 0.0932 - val_precision: 0.0915 - val_recall: 0.5333 - val_tn: 52741.0000 - val_tp: 56.0000\n",
      "Epoch 24/50\n",
      "\u001b[1m161/161\u001b[0m \u001b[32m━━━━━━━━━━━━━━━━━━━━\u001b[0m\u001b[37m\u001b[0m \u001b[1m0s\u001b[0m 777us/step - accuracy: 0.9992 - auc: 0.8917 - fn: 50.1728 - fp: 14.6049 - loss: 0.0041 - precision: 0.8475 - recall: 0.5877 - tn: 81341.6875 - tp: 77.5185 - val_accuracy: 0.9868 - val_auc: 0.7992 - val_fn: 46.0000 - val_fp: 658.0000 - val_loss: 0.0923 - val_precision: 0.0823 - val_recall: 0.5619 - val_tn: 52639.0000 - val_tp: 59.0000\n",
      "Epoch 25/50\n",
      "\u001b[1m161/161\u001b[0m \u001b[32m━━━━━━━━━━━━━━━━━━━━\u001b[0m\u001b[37m\u001b[0m \u001b[1m0s\u001b[0m 779us/step - accuracy: 0.9992 - auc: 0.9270 - fn: 51.5802 - fp: 13.3889 - loss: 0.0042 - precision: 0.8617 - recall: 0.6287 - tn: 81335.3281 - tp: 83.6914 - val_accuracy: 0.9875 - val_auc: 0.7990 - val_fn: 48.0000 - val_fp: 620.0000 - val_loss: 0.0886 - val_precision: 0.0842 - val_recall: 0.5429 - val_tn: 52677.0000 - val_tp: 57.0000\n",
      "Epoch 26/50\n",
      "\u001b[1m161/161\u001b[0m \u001b[32m━━━━━━━━━━━━━━━━━━━━\u001b[0m\u001b[37m\u001b[0m \u001b[1m0s\u001b[0m 789us/step - accuracy: 0.9992 - auc: 0.9036 - fn: 51.9753 - fp: 11.5432 - loss: 0.0040 - precision: 0.8646 - recall: 0.5723 - tn: 81341.8828 - tp: 78.5864 - val_accuracy: 0.9852 - val_auc: 0.7976 - val_fn: 46.0000 - val_fp: 742.0000 - val_loss: 0.0879 - val_precision: 0.0737 - val_recall: 0.5619 - val_tn: 52555.0000 - val_tp: 59.0000\n",
      "Epoch 27/50\n",
      "\u001b[1m161/161\u001b[0m \u001b[32m━━━━━━━━━━━━━━━━━━━━\u001b[0m\u001b[37m\u001b[0m \u001b[1m0s\u001b[0m 784us/step - accuracy: 0.9994 - auc: 0.9384 - fn: 43.8333 - fp: 9.4259 - loss: 0.0031 - precision: 0.9187 - recall: 0.6884 - tn: 81343.4844 - tp: 87.2469 - val_accuracy: 0.9842 - val_auc: 0.8058 - val_fn: 45.0000 - val_fp: 801.0000 - val_loss: 0.0903 - val_precision: 0.0697 - val_recall: 0.5714 - val_tn: 52496.0000 - val_tp: 60.0000\n",
      "Epoch 28/50\n",
      "\u001b[1m161/161\u001b[0m \u001b[32m━━━━━━━━━━━━━━━━━━━━\u001b[0m\u001b[37m\u001b[0m \u001b[1m0s\u001b[0m 802us/step - accuracy: 0.9993 - auc: 0.9396 - fn: 46.7037 - fp: 12.5802 - loss: 0.0033 - precision: 0.8604 - recall: 0.6429 - tn: 81341.8672 - tp: 82.8395 - val_accuracy: 0.9845 - val_auc: 0.7976 - val_fn: 46.0000 - val_fp: 781.0000 - val_loss: 0.0903 - val_precision: 0.0702 - val_recall: 0.5619 - val_tn: 52516.0000 - val_tp: 59.0000\n",
      "Epoch 29/50\n",
      "\u001b[1m161/161\u001b[0m \u001b[32m━━━━━━━━━━━━━━━━━━━━\u001b[0m\u001b[37m\u001b[0m \u001b[1m0s\u001b[0m 813us/step - accuracy: 0.9994 - auc: 0.9301 - fn: 45.0802 - fp: 8.0062 - loss: 0.0033 - precision: 0.9076 - recall: 0.6582 - tn: 81343.6328 - tp: 87.2654 - val_accuracy: 0.9837 - val_auc: 0.8056 - val_fn: 46.0000 - val_fp: 824.0000 - val_loss: 0.0903 - val_precision: 0.0668 - val_recall: 0.5619 - val_tn: 52473.0000 - val_tp: 59.0000\n",
      "Epoch 30/50\n",
      "\u001b[1m161/161\u001b[0m \u001b[32m━━━━━━━━━━━━━━━━━━━━\u001b[0m\u001b[37m\u001b[0m \u001b[1m0s\u001b[0m 806us/step - accuracy: 0.9992 - auc: 0.9076 - fn: 57.1914 - fp: 13.2901 - loss: 0.0041 - precision: 0.8405 - recall: 0.5780 - tn: 81337.2188 - tp: 76.2901 - val_accuracy: 0.9831 - val_auc: 0.8065 - val_fn: 45.0000 - val_fp: 855.0000 - val_loss: 0.0921 - val_precision: 0.0656 - val_recall: 0.5714 - val_tn: 52442.0000 - val_tp: 60.0000\n",
      "Epoch 31/50\n",
      "\u001b[1m161/161\u001b[0m \u001b[32m━━━━━━━━━━━━━━━━━━━━\u001b[0m\u001b[37m\u001b[0m \u001b[1m0s\u001b[0m 819us/step - accuracy: 0.9992 - auc: 0.9234 - fn: 49.0494 - fp: 11.6296 - loss: 0.0039 - precision: 0.8782 - recall: 0.6377 - tn: 81337.8359 - tp: 85.4753 - val_accuracy: 0.9811 - val_auc: 0.8064 - val_fn: 45.0000 - val_fp: 966.0000 - val_loss: 0.0957 - val_precision: 0.0585 - val_recall: 0.5714 - val_tn: 52331.0000 - val_tp: 60.0000\n",
      "Epoch 32/50\n",
      "\u001b[1m161/161\u001b[0m \u001b[32m━━━━━━━━━━━━━━━━━━━━\u001b[0m\u001b[37m\u001b[0m \u001b[1m0s\u001b[0m 834us/step - accuracy: 0.9992 - auc: 0.9204 - fn: 49.8086 - fp: 14.3519 - loss: 0.0040 - precision: 0.8495 - recall: 0.6601 - tn: 81332.1328 - tp: 87.6975 - val_accuracy: 0.9801 - val_auc: 0.8055 - val_fn: 43.0000 - val_fp: 1019.0000 - val_loss: 0.0953 - val_precision: 0.0574 - val_recall: 0.5905 - val_tn: 52278.0000 - val_tp: 62.0000\n",
      "Epoch 33/50\n",
      "\u001b[1m161/161\u001b[0m \u001b[32m━━━━━━━━━━━━━━━━━━━━\u001b[0m\u001b[37m\u001b[0m \u001b[1m0s\u001b[0m 810us/step - accuracy: 0.9994 - auc: 0.9384 - fn: 44.9568 - fp: 9.2037 - loss: 0.0034 - precision: 0.9164 - recall: 0.6671 - tn: 81341.3984 - tp: 88.4321 - val_accuracy: 0.9817 - val_auc: 0.8066 - val_fn: 47.0000 - val_fp: 931.0000 - val_loss: 0.0942 - val_precision: 0.0586 - val_recall: 0.5524 - val_tn: 52366.0000 - val_tp: 58.0000\n",
      "Epoch 34/50\n",
      "\u001b[1m161/161\u001b[0m \u001b[32m━━━━━━━━━━━━━━━━━━━━\u001b[0m\u001b[37m\u001b[0m \u001b[1m0s\u001b[0m 825us/step - accuracy: 0.9993 - auc: 0.9392 - fn: 52.1852 - fp: 8.5247 - loss: 0.0035 - precision: 0.9202 - recall: 0.6547 - tn: 81333.7734 - tp: 89.5062 - val_accuracy: 0.9806 - val_auc: 0.8069 - val_fn: 44.0000 - val_fp: 991.0000 - val_loss: 0.0980 - val_precision: 0.0580 - val_recall: 0.5810 - val_tn: 52306.0000 - val_tp: 61.0000\n",
      "Epoch 35/50\n",
      "\u001b[1m161/161\u001b[0m \u001b[32m━━━━━━━━━━━━━━━━━━━━\u001b[0m\u001b[37m\u001b[0m \u001b[1m0s\u001b[0m 814us/step - accuracy: 0.9993 - auc: 0.9385 - fn: 46.6173 - fp: 10.1914 - loss: 0.0035 - precision: 0.8839 - recall: 0.6213 - tn: 81342.8047 - tp: 84.3765 - val_accuracy: 0.9768 - val_auc: 0.8220 - val_fn: 41.0000 - val_fp: 1197.0000 - val_loss: 0.1028 - val_precision: 0.0508 - val_recall: 0.6095 - val_tn: 52100.0000 - val_tp: 64.0000\n",
      "Epoch 36/50\n",
      "\u001b[1m161/161\u001b[0m \u001b[32m━━━━━━━━━━━━━━━━━━━━\u001b[0m\u001b[37m\u001b[0m \u001b[1m0s\u001b[0m 785us/step - accuracy: 0.9993 - auc: 0.9304 - fn: 47.0309 - fp: 9.9815 - loss: 0.0036 - precision: 0.8761 - recall: 0.6391 - tn: 81336.1953 - tp: 90.7778 - val_accuracy: 0.9765 - val_auc: 0.8181 - val_fn: 41.0000 - val_fp: 1212.0000 - val_loss: 0.1038 - val_precision: 0.0502 - val_recall: 0.6095 - val_tn: 52085.0000 - val_tp: 64.0000\n",
      "Epoch 37/50\n",
      "\u001b[1m161/161\u001b[0m \u001b[32m━━━━━━━━━━━━━━━━━━━━\u001b[0m\u001b[37m\u001b[0m \u001b[1m0s\u001b[0m 826us/step - accuracy: 0.9992 - auc: 0.9392 - fn: 48.9074 - fp: 13.1420 - loss: 0.0036 - precision: 0.8638 - recall: 0.6344 - tn: 81338.2188 - tp: 83.7222 - val_accuracy: 0.9747 - val_auc: 0.8255 - val_fn: 42.0000 - val_fp: 1307.0000 - val_loss: 0.1073 - val_precision: 0.0460 - val_recall: 0.6000 - val_tn: 51990.0000 - val_tp: 63.0000\n",
      "Epoch 38/50\n",
      "\u001b[1m161/161\u001b[0m \u001b[32m━━━━━━━━━━━━━━━━━━━━\u001b[0m\u001b[37m\u001b[0m \u001b[1m0s\u001b[0m 803us/step - accuracy: 0.9993 - auc: 0.9322 - fn: 45.0370 - fp: 12.9198 - loss: 0.0033 - precision: 0.8669 - recall: 0.6751 - tn: 81338.8750 - tp: 87.1543 - val_accuracy: 0.9787 - val_auc: 0.8157 - val_fn: 43.0000 - val_fp: 1093.0000 - val_loss: 0.1030 - val_precision: 0.0537 - val_recall: 0.5905 - val_tn: 52204.0000 - val_tp: 62.0000\n",
      "Epoch 39/50\n",
      "\u001b[1m161/161\u001b[0m \u001b[32m━━━━━━━━━━━━━━━━━━━━\u001b[0m\u001b[37m\u001b[0m \u001b[1m0s\u001b[0m 800us/step - accuracy: 0.9994 - auc: 0.9450 - fn: 41.9630 - fp: 10.9321 - loss: 0.0029 - precision: 0.8834 - recall: 0.6955 - tn: 81345.9219 - tp: 85.1728 - val_accuracy: 0.9782 - val_auc: 0.8161 - val_fn: 43.0000 - val_fp: 1119.0000 - val_loss: 0.1041 - val_precision: 0.0525 - val_recall: 0.5905 - val_tn: 52178.0000 - val_tp: 62.0000\n",
      "Epoch 40/50\n",
      "\u001b[1m161/161\u001b[0m \u001b[32m━━━━━━━━━━━━━━━━━━━━\u001b[0m\u001b[37m\u001b[0m \u001b[1m0s\u001b[0m 798us/step - accuracy: 0.9992 - auc: 0.9150 - fn: 48.1790 - fp: 10.1728 - loss: 0.0040 - precision: 0.8987 - recall: 0.6145 - tn: 81339.6875 - tp: 85.9506 - val_accuracy: 0.9781 - val_auc: 0.8157 - val_fn: 44.0000 - val_fp: 1124.0000 - val_loss: 0.1030 - val_precision: 0.0515 - val_recall: 0.5810 - val_tn: 52173.0000 - val_tp: 61.0000\n",
      "Epoch 41/50\n",
      "\u001b[1m161/161\u001b[0m \u001b[32m━━━━━━━━━━━━━━━━━━━━\u001b[0m\u001b[37m\u001b[0m \u001b[1m0s\u001b[0m 779us/step - accuracy: 0.9992 - auc: 0.9281 - fn: 47.5988 - fp: 12.2222 - loss: 0.0038 - precision: 0.8824 - recall: 0.6184 - tn: 81342.1016 - tp: 82.0617 - val_accuracy: 0.9746 - val_auc: 0.8314 - val_fn: 42.0000 - val_fp: 1317.0000 - val_loss: 0.1092 - val_precision: 0.0457 - val_recall: 0.6000 - val_tn: 51980.0000 - val_tp: 63.0000\n",
      "Epoch 42/50\n",
      "\u001b[1m161/161\u001b[0m \u001b[32m━━━━━━━━━━━━━━━━━━━━\u001b[0m\u001b[37m\u001b[0m \u001b[1m0s\u001b[0m 824us/step - accuracy: 0.9993 - auc: 0.9334 - fn: 46.6420 - fp: 11.4383 - loss: 0.0035 - precision: 0.8887 - recall: 0.6461 - tn: 81340.6953 - tp: 85.2099 - val_accuracy: 0.9769 - val_auc: 0.8246 - val_fn: 42.0000 - val_fp: 1189.0000 - val_loss: 0.1075 - val_precision: 0.0503 - val_recall: 0.6000 - val_tn: 52108.0000 - val_tp: 63.0000\n",
      "Epoch 43/50\n",
      "\u001b[1m161/161\u001b[0m \u001b[32m━━━━━━━━━━━━━━━━━━━━\u001b[0m\u001b[37m\u001b[0m \u001b[1m0s\u001b[0m 820us/step - accuracy: 0.9993 - auc: 0.9370 - fn: 44.5062 - fp: 11.7654 - loss: 0.0033 - precision: 0.8795 - recall: 0.6826 - tn: 81337.7109 - tp: 90.0062 - val_accuracy: 0.9774 - val_auc: 0.8208 - val_fn: 41.0000 - val_fp: 1167.0000 - val_loss: 0.1062 - val_precision: 0.0520 - val_recall: 0.6095 - val_tn: 52130.0000 - val_tp: 64.0000\n",
      "Epoch 44/50\n",
      "\u001b[1m161/161\u001b[0m \u001b[32m━━━━━━━━━━━━━━━━━━━━\u001b[0m\u001b[37m\u001b[0m \u001b[1m0s\u001b[0m 778us/step - accuracy: 0.9993 - auc: 0.9322 - fn: 49.0123 - fp: 11.9383 - loss: 0.0034 - precision: 0.8672 - recall: 0.6479 - tn: 81336.2734 - tp: 86.7654 - val_accuracy: 0.9781 - val_auc: 0.8172 - val_fn: 43.0000 - val_fp: 1127.0000 - val_loss: 0.1060 - val_precision: 0.0521 - val_recall: 0.5905 - val_tn: 52170.0000 - val_tp: 62.0000\n",
      "Epoch 45/50\n",
      "\u001b[1m161/161\u001b[0m \u001b[32m━━━━━━━━━━━━━━━━━━━━\u001b[0m\u001b[37m\u001b[0m \u001b[1m0s\u001b[0m 820us/step - accuracy: 0.9993 - auc: 0.9380 - fn: 47.3148 - fp: 10.1605 - loss: 0.0033 - precision: 0.9109 - recall: 0.6623 - tn: 81338.7109 - tp: 87.8025 - val_accuracy: 0.9774 - val_auc: 0.8166 - val_fn: 44.0000 - val_fp: 1163.0000 - val_loss: 0.1078 - val_precision: 0.0498 - val_recall: 0.5810 - val_tn: 52134.0000 - val_tp: 61.0000\n",
      "Epoch 46/50\n",
      "\u001b[1m161/161\u001b[0m \u001b[32m━━━━━━━━━━━━━━━━━━━━\u001b[0m\u001b[37m\u001b[0m \u001b[1m0s\u001b[0m 792us/step - accuracy: 0.9993 - auc: 0.9440 - fn: 48.6790 - fp: 12.3642 - loss: 0.0033 - precision: 0.8799 - recall: 0.6458 - tn: 81336.2109 - tp: 86.7346 - val_accuracy: 0.9797 - val_auc: 0.8140 - val_fn: 46.0000 - val_fp: 1036.0000 - val_loss: 0.1061 - val_precision: 0.0539 - val_recall: 0.5619 - val_tn: 52261.0000 - val_tp: 59.0000\n",
      "Epoch 47/50\n",
      "\u001b[1m161/161\u001b[0m \u001b[32m━━━━━━━━━━━━━━━━━━━━\u001b[0m\u001b[37m\u001b[0m \u001b[1m0s\u001b[0m 793us/step - accuracy: 0.9993 - auc: 0.9421 - fn: 44.0988 - fp: 8.8951 - loss: 0.0032 - precision: 0.9180 - recall: 0.6776 - tn: 81340.0391 - tp: 90.9568 - val_accuracy: 0.9783 - val_auc: 0.8171 - val_fn: 44.0000 - val_fp: 1114.0000 - val_loss: 0.1062 - val_precision: 0.0519 - val_recall: 0.5810 - val_tn: 52183.0000 - val_tp: 61.0000\n",
      "Epoch 48/50\n",
      "\u001b[1m161/161\u001b[0m \u001b[32m━━━━━━━━━━━━━━━━━━━━\u001b[0m\u001b[37m\u001b[0m \u001b[1m0s\u001b[0m 771us/step - accuracy: 0.9994 - auc: 0.9399 - fn: 43.8086 - fp: 9.7840 - loss: 0.0029 - precision: 0.9179 - recall: 0.6590 - tn: 81343.3281 - tp: 87.0679 - val_accuracy: 0.9784 - val_auc: 0.8219 - val_fn: 44.0000 - val_fp: 1109.0000 - val_loss: 0.1053 - val_precision: 0.0521 - val_recall: 0.5810 - val_tn: 52188.0000 - val_tp: 61.0000\n",
      "Epoch 49/50\n",
      "\u001b[1m161/161\u001b[0m \u001b[32m━━━━━━━━━━━━━━━━━━━━\u001b[0m\u001b[37m\u001b[0m \u001b[1m0s\u001b[0m 796us/step - accuracy: 0.9993 - auc: 0.9350 - fn: 45.7531 - fp: 11.2963 - loss: 0.0035 - precision: 0.9035 - recall: 0.6625 - tn: 81336.8906 - tp: 90.0494 - val_accuracy: 0.9785 - val_auc: 0.8181 - val_fn: 44.0000 - val_fp: 1106.0000 - val_loss: 0.1088 - val_precision: 0.0523 - val_recall: 0.5810 - val_tn: 52191.0000 - val_tp: 61.0000\n",
      "Epoch 50/50\n",
      "\u001b[1m161/161\u001b[0m \u001b[32m━━━━━━━━━━━━━━━━━━━━\u001b[0m\u001b[37m\u001b[0m \u001b[1m0s\u001b[0m 995us/step - accuracy: 0.9993 - auc: 0.9351 - fn: 48.3210 - fp: 10.6543 - loss: 0.0032 - precision: 0.8884 - recall: 0.6443 - tn: 81340.3125 - tp: 84.7037 - val_accuracy: 0.9800 - val_auc: 0.8107 - val_fn: 45.0000 - val_fp: 1025.0000 - val_loss: 0.1078 - val_precision: 0.0553 - val_recall: 0.5714 - val_tn: 52272.0000 - val_tp: 60.0000\n"
     ]
    }
   ],
   "source": [
    "# Training the model\n",
    "batch_size = 1000\n",
    "epochs = 50\n",
    "training_history = model.fit(\n",
    "    X_train,\n",
    "    y_train,\n",
    "    validation_data=(X_val, y_val),\n",
    "    epochs=epochs,\n",
    "    batch_size=batch_size,\n",
    "    verbose=1,\n",
    ")"
   ]
  },
  {
   "cell_type": "markdown",
   "metadata": {},
   "source": [
    "### Model Performance"
   ]
  },
  {
   "cell_type": "markdown",
   "metadata": {},
   "source": [
    "#### Checking Training History"
   ]
  },
  {
   "cell_type": "code",
   "execution_count": 84,
   "metadata": {},
   "outputs": [
    {
     "data": {
      "text/plain": [
       "<Axes: title={'center': 'Loss'}, xlabel='Epoch'>"
      ]
     },
     "execution_count": 84,
     "metadata": {},
     "output_type": "execute_result"
    },
    {
     "data": {
      "image/png": "[encoded data removed]",
      "text/plain": [
       "<Figure size 640x480 with 1 Axes>"
      ]
     },
     "metadata": {},
     "output_type": "display_data"
    }
   ],
   "source": [
    "# Plotting loss\n",
    "loss_df = pd.DataFrame(\n",
    "    {\n",
    "        \"Epoch\": range(1, epochs + 1),\n",
    "        \"Train\": training_history.history[\"loss\"],\n",
    "        \"Val\": training_history.history[\"val_loss\"],\n",
    "    }\n",
    ")\n",
    "loss_df.set_index(\"Epoch\", inplace=True)\n",
    "loss_df.plot(title=\"Loss\")"
   ]
  },
  {
   "cell_type": "code",
   "execution_count": 85,
   "metadata": {},
   "outputs": [
    {
     "data": {
      "text/plain": [
       "<Axes: title={'center': 'Accuracy'}, xlabel='Epoch'>"
      ]
     },
     "execution_count": 85,
     "metadata": {},
     "output_type": "execute_result"
    },
    {
     "data": {
      "image/png": "[encoded data removed]",
      "text/plain": [
       "<Figure size 640x480 with 1 Axes>"
      ]
     },
     "metadata": {},
     "output_type": "display_data"
    }
   ],
   "source": [
    "# Plotting accuracy\n",
    "accuracy_df = pd.DataFrame(\n",
    "    {\n",
    "        \"Epoch\": range(1, epochs + 1),\n",
    "        \"Train\": training_history.history[\"accuracy\"],\n",
    "        \"Val\": training_history.history[\"val_accuracy\"],\n",
    "    }\n",
    ")\n",
    "accuracy_df.set_index(\"Epoch\", inplace=True)\n",
    "accuracy_df.plot(title=\"Accuracy\")"
   ]
  },
  {
   "cell_type": "code",
   "execution_count": 86,
   "metadata": {},
   "outputs": [
    {
     "data": {
      "text/plain": [
       "<Axes: title={'center': 'AUC'}, xlabel='Epoch'>"
      ]
     },
     "execution_count": 86,
     "metadata": {},
     "output_type": "execute_result"
    },
    {
     "data": {
      "image/png": "[encoded data removed]",
      "text/plain": [
       "<Figure size 640x480 with 1 Axes>"
      ]
     },
     "metadata": {},
     "output_type": "display_data"
    }
   ],
   "source": [
    "# Plotting AUC\n",
    "auc_df = pd.DataFrame(\n",
    "    {\n",
    "        \"Epoch\": range(1, epochs + 1),\n",
    "        \"Train\": training_history.history[\"auc\"],\n",
    "        \"Val\": training_history.history[\"val_auc\"],\n",
    "    }\n",
    ")\n",
    "auc_df.set_index(\"Epoch\", inplace=True)\n",
    "auc_df.plot(title=\"AUC\")"
   ]
  },
  {
   "cell_type": "markdown",
   "metadata": {},
   "source": [
    "#### Plotting the ROC Curve"
   ]
  },
  {
   "cell_type": "code",
   "execution_count": 87,
   "metadata": {},
   "outputs": [],
   "source": [
    "# Import the roc_curve and auc metrics from sklearn\n",
    "from sklearn.metrics import roc_curve, auc"
   ]
  },
  {
   "cell_type": "code",
   "execution_count": 88,
   "metadata": {},
   "outputs": [
    {
     "name": "stdout",
     "output_type": "stream",
     "text": [
      "\u001b[1m161/161\u001b[0m \u001b[32m━━━━━━━━━━━━━━━━━━━━\u001b[0m\u001b[37m\u001b[0m \u001b[1m0s\u001b[0m 488us/step\n",
      "\u001b[1m72/72\u001b[0m \u001b[32m━━━━━━━━━━━━━━━━━━━━\u001b[0m\u001b[37m\u001b[0m \u001b[1m0s\u001b[0m 388us/step\n"
     ]
    }
   ],
   "source": [
    "# Making predictions to feed the roc_curve module\n",
    "train_predictions = model.predict(X_train, batch_size=1000)\n",
    "test_predictions = model.predict(X_test, batch_size=1000)"
   ]
  },
  {
   "cell_type": "code",
   "execution_count": 89,
   "metadata": {},
   "outputs": [],
   "source": [
    "# Calculate the ROC curve and AUC for the training set\n",
    "fpr_train, tpr_train, thresholds_train = roc_curve(y_train, train_predictions)\n",
    "auc_train = auc(fpr_train, tpr_train)\n",
    "auc_train = round(auc_train, 4)\n",
    "\n",
    "# Calculate the ROC curve and AUC for the testing set\n",
    "fpr_test, tpr_test, thresholds_test = roc_curve(y_test, test_predictions)\n",
    "auc_test = auc(fpr_test, tpr_test)\n",
    "auc_test = round(auc_test, 4)"
   ]
  },
  {
   "cell_type": "code",
   "execution_count": 90,
   "metadata": {},
   "outputs": [],
   "source": [
    "# Create a DataFrame with the fpr and tpr results\n",
    "roc_df_train = pd.DataFrame({\"FPR Train\": fpr_train, \"TPR Train\": tpr_train,})\n",
    "\n",
    "roc_df_test = pd.DataFrame({\"FPR Test\": fpr_test, \"TPR Test\": tpr_test,})"
   ]
  },
  {
   "cell_type": "code",
   "execution_count": 91,
   "metadata": {},
   "outputs": [
    {
     "data": {
      "text/plain": [
       "<Axes: title={'center': 'Test ROC Curve (AUC=0.7773)'}, xlabel='FPR Test'>"
      ]
     },
     "execution_count": 91,
     "metadata": {},
     "output_type": "execute_result"
    },
    {
     "data": {
      "image/png": "[encoded data removed]",
      "text/plain": [
       "<Figure size 640x480 with 1 Axes>"
      ]
     },
     "metadata": {},
     "output_type": "display_data"
    },
    {
     "data": {
      "image/png": "[encoded data removed]",
      "text/plain": [
       "<Figure size 640x480 with 1 Axes>"
      ]
     },
     "metadata": {},
     "output_type": "display_data"
    }
   ],
   "source": [
    "# Plotting the ROC Curves\n",
    "roc_df_train.plot(\n",
    "    x=\"FPR Train\",\n",
    "    y=\"TPR Train\",\n",
    "    xlim=([-0.05, 1.05]),\n",
    "    title=f\"Train ROC Curve (AUC={auc_train})\",\n",
    ")\n",
    "\n",
    "roc_df_test.plot(\n",
    "    x=\"FPR Test\",\n",
    "    y=\"TPR Test\",\n",
    "    color=\"red\",\n",
    "    style=\"--\",\n",
    "    xlim=([-0.05, 1.05]),\n",
    "    title=f\"Test ROC Curve (AUC={auc_test})\",\n",
    ")"
   ]
  },
  {
   "cell_type": "markdown",
   "metadata": {},
   "source": [
    "#### Evaluate the Model"
   ]
  },
  {
   "cell_type": "code",
   "execution_count": 92,
   "metadata": {},
   "outputs": [
    {
     "name": "stdout",
     "output_type": "stream",
     "text": [
      "2226/2226 - 1s - 415us/step - accuracy: 0.9799 - auc: 0.8216 - fn: 57.0000 - fp: 1373.0000 - loss: 0.1131 - precision: 0.0505 - recall: 0.5615 - tn: 69699.0000 - tp: 73.0000\n"
     ]
    },
    {
     "data": {
      "text/plain": [
       "{'loss': 0.11313201487064362, 'compile_metrics': 0.9799162745475769}"
      ]
     },
     "metadata": {},
     "output_type": "display_data"
    }
   ],
   "source": [
    "# Evaluate the model\n",
    "scores = model.evaluate(X_test, y_test, verbose=2)\n",
    "\n",
    "# Define metrics dictionary\n",
    "metrics = {k: v for k, v in zip(model.metrics_names, scores)}\n",
    "\n",
    "# Display evaluation metrics results\n",
    "display(metrics)"
   ]
  },
  {
   "cell_type": "markdown",
   "metadata": {},
   "source": [
    "#### Confusion Matrix"
   ]
  },
  {
   "cell_type": "code",
   "execution_count": 93,
   "metadata": {},
   "outputs": [],
   "source": [
    "# # Define the confusion matrix data\n",
    "# cm_df = pd.DataFrame(\n",
    "#     {\n",
    "#         \"Positive (1)\": [f\"TP={metrics['tp']}\", f\"FP={metrics['fn']}\"],\n",
    "#         \"Negative (0)\": [f\"FN={metrics['fp']}\", f\"TN={metrics['tn']}\"],\n",
    "#     },\n",
    "#     index=[\"Positive(1)\", \"Negative(0)\"],\n",
    "# )\n",
    "# cm_df.index.name = \"Actual\"\n",
    "# cm_df.columns.name = \"Predicted\"\n",
    "\n",
    "# # Show the confusion matrix\n",
    "# cm_df"
   ]
  },
  {
   "cell_type": "code",
   "execution_count": 94,
   "metadata": {},
   "outputs": [],
   "source": [
    "# # Evaluate the model\n",
    "# scores = model.evaluate(X_test, y_test, verbose=2)\n",
    "\n",
    "# # Define metrics dictionary\n",
    "# metrics = {k: v for k, v in zip(model.metrics_names, scores)}\n",
    "\n",
    "# # Display evaluation metrics results\n",
    "# display(metrics)\n",
    "\n",
    "# # Show the confusion matrix\n",
    "# cm_df = pd.DataFrame(\n",
    "#     {\n",
    "#         \"Accuracy\": [f\"{metrics['accuracy']:.2f}\"],  # Adjust the key if needed\n",
    "#         \"Loss\": [f\"{metrics['loss']:.2f}\"],\n",
    "#     },\n",
    "#     index=[\"Metrics\"],\n",
    "# )\n",
    "# cm_df.index.name = \"Evaluation\"\n",
    "# cm_df.columns.name = \"Metrics\"\n",
    "\n",
    "# # Show the confusion matrix\n",
    "# cm_df\n"
   ]
  },
  {
   "cell_type": "markdown",
   "metadata": {},
   "source": [
    "#### Classification Report"
   ]
  },
  {
   "cell_type": "code",
   "execution_count": 95,
   "metadata": {},
   "outputs": [
    {
     "name": "stdout",
     "output_type": "stream",
     "text": [
      "\u001b[1m   1/2226\u001b[0m \u001b[37m━━━━━━━━━━━━━━━━━━━━\u001b[0m \u001b[1m25s\u001b[0m 12ms/step"
     ]
    },
    {
     "name": "stdout",
     "output_type": "stream",
     "text": [
      "\u001b[1m2226/2226\u001b[0m \u001b[32m━━━━━━━━━━━━━━━━━━━━\u001b[0m\u001b[37m\u001b[0m \u001b[1m1s\u001b[0m 344us/step\n",
      "              precision    recall  f1-score   support\n",
      "\n",
      "           0       0.98      1.00      0.99     69756\n",
      "           1       0.56      0.05      0.09      1446\n",
      "\n",
      "    accuracy                           0.98     71202\n",
      "   macro avg       0.77      0.52      0.54     71202\n",
      "weighted avg       0.97      0.98      0.97     71202\n",
      "\n"
     ]
    }
   ],
   "source": [
    "# Import the classification_report method from sklearn\n",
    "from sklearn.metrics import classification_report\n",
    "\n",
    "# Predict classes using testing data\n",
    "y_predict_classes = (model.predict(X_test) > 0.5).astype(\"int32\")\n",
    "\n",
    "# Display classification report\n",
    "print(classification_report(y_predict_classes, y_test))"
   ]
  },
  {
   "cell_type": "code",
   "execution_count": null,
   "metadata": {},
   "outputs": [],
   "source": []
  }
 ],
 "metadata": {
  "file_extension": ".py",
  "kernelspec": {
   "display_name": "Python 3 (ipykernel)",
   "language": "python",
   "name": "python3"
  },
  "language_info": {
   "codemirror_mode": {
    "name": "ipython",
    "version": 3
   },
   "file_extension": ".py",
   "mimetype": "text/x-python",
   "name": "python",
   "nbconvert_exporter": "python",
   "pygments_lexer": "ipython3",
   "version": "3.10.13"
  },
  "mimetype": "text/x-python",
  "name": "python",
  "npconvert_exporter": "python",
  "pygments_lexer": "ipython3",
  "version": 3
 },
 "nbformat": 4,
 "nbformat_minor": 4
}
