{
 "cells": [
  {
   "cell_type": "markdown",
   "metadata": {},
   "source": [
    "# Instructor Do: Intro to the ROC Curve and AUC\n",
    "\n",
    "In this activity, students will learn how to measure the performance of a binary classification model by fetching metrics from Keras, as well as plotting and interpreting the ROC curve and AUC."
   ]
  },
  {
   "cell_type": "code",
   "execution_count": 27,
   "metadata": {},
   "outputs": [],
   "source": [
    "# Initial imports\n",
    "import pandas as pd\n",
    "import numpy as np\n",
    "import matplotlib.pyplot as plt\n",
    "import tensorflow as tf\n",
    "from pathlib import Path\n",
    "\n",
    "%matplotlib inline"
   ]
  },
  {
   "cell_type": "markdown",
   "metadata": {},
   "source": [
    "## The Dataset\n",
    "\n",
    "The data provided for this demo contains anonymous information about `284807` credit card transactions made by European credit cardholders in September 2013.\n",
    "\n",
    "The dataset is going to be used to create a binary classification model using a deep neural network to detect fraudulent transactions. It contains nine numerical variables, which are the result of PCA transformation to protect the confidentiality of credit cardholders. Only the transaction amount can be seen as is.\n",
    "\n",
    "This dataset is an abstract of the file shared by the [Machine Learning Group](http://mlg.ulb.ac.be) of the Université Libre de Bruxelles (ULB)."
   ]
  },
  {
   "cell_type": "code",
   "execution_count": 28,
   "metadata": {},
   "outputs": [
    {
     "data": {
      "text/html": [
       "<div>\n",
       "<style scoped>\n",
       "    .dataframe tbody tr th:only-of-type {\n",
       "        vertical-align: middle;\n",
       "    }\n",
       "\n",
       "    .dataframe tbody tr th {\n",
       "        vertical-align: top;\n",
       "    }\n",
       "\n",
       "    .dataframe thead th {\n",
       "        text-align: right;\n",
       "    }\n",
       "</style>\n",
       "<table border=\"1\" class=\"dataframe\">\n",
       "  <thead>\n",
       "    <tr style=\"text-align: right;\">\n",
       "      <th></th>\n",
       "      <th>V1</th>\n",
       "      <th>V2</th>\n",
       "      <th>V3</th>\n",
       "      <th>V4</th>\n",
       "      <th>V5</th>\n",
       "      <th>V6</th>\n",
       "      <th>V7</th>\n",
       "      <th>V8</th>\n",
       "      <th>V9</th>\n",
       "      <th>Amount</th>\n",
       "      <th>Class</th>\n",
       "    </tr>\n",
       "  </thead>\n",
       "  <tbody>\n",
       "    <tr>\n",
       "      <th>0</th>\n",
       "      <td>-1.359807</td>\n",
       "      <td>-0.072781</td>\n",
       "      <td>2.536347</td>\n",
       "      <td>1.378155</td>\n",
       "      <td>-0.338321</td>\n",
       "      <td>0.462388</td>\n",
       "      <td>0.239599</td>\n",
       "      <td>0.098698</td>\n",
       "      <td>0.363787</td>\n",
       "      <td>149.62</td>\n",
       "      <td>0</td>\n",
       "    </tr>\n",
       "    <tr>\n",
       "      <th>1</th>\n",
       "      <td>1.191857</td>\n",
       "      <td>0.266151</td>\n",
       "      <td>0.166480</td>\n",
       "      <td>0.448154</td>\n",
       "      <td>0.060018</td>\n",
       "      <td>-0.082361</td>\n",
       "      <td>-0.078803</td>\n",
       "      <td>0.085102</td>\n",
       "      <td>-0.255425</td>\n",
       "      <td>2.69</td>\n",
       "      <td>0</td>\n",
       "    </tr>\n",
       "    <tr>\n",
       "      <th>2</th>\n",
       "      <td>-1.358354</td>\n",
       "      <td>-1.340163</td>\n",
       "      <td>1.773209</td>\n",
       "      <td>0.379780</td>\n",
       "      <td>-0.503198</td>\n",
       "      <td>1.800499</td>\n",
       "      <td>0.791461</td>\n",
       "      <td>0.247676</td>\n",
       "      <td>-1.514654</td>\n",
       "      <td>378.66</td>\n",
       "      <td>0</td>\n",
       "    </tr>\n",
       "    <tr>\n",
       "      <th>3</th>\n",
       "      <td>-0.966272</td>\n",
       "      <td>-0.185226</td>\n",
       "      <td>1.792993</td>\n",
       "      <td>-0.863291</td>\n",
       "      <td>-0.010309</td>\n",
       "      <td>1.247203</td>\n",
       "      <td>0.237609</td>\n",
       "      <td>0.377436</td>\n",
       "      <td>-1.387024</td>\n",
       "      <td>123.50</td>\n",
       "      <td>0</td>\n",
       "    </tr>\n",
       "    <tr>\n",
       "      <th>4</th>\n",
       "      <td>-1.158233</td>\n",
       "      <td>0.877737</td>\n",
       "      <td>1.548718</td>\n",
       "      <td>0.403034</td>\n",
       "      <td>-0.407193</td>\n",
       "      <td>0.095921</td>\n",
       "      <td>0.592941</td>\n",
       "      <td>-0.270533</td>\n",
       "      <td>0.817739</td>\n",
       "      <td>69.99</td>\n",
       "      <td>0</td>\n",
       "    </tr>\n",
       "  </tbody>\n",
       "</table>\n",
       "</div>"
      ],
      "text/plain": [
       "         V1        V2        V3        V4        V5        V6        V7  \\\n",
       "0 -1.359807 -0.072781  2.536347  1.378155 -0.338321  0.462388  0.239599   \n",
       "1  1.191857  0.266151  0.166480  0.448154  0.060018 -0.082361 -0.078803   \n",
       "2 -1.358354 -1.340163  1.773209  0.379780 -0.503198  1.800499  0.791461   \n",
       "3 -0.966272 -0.185226  1.792993 -0.863291 -0.010309  1.247203  0.237609   \n",
       "4 -1.158233  0.877737  1.548718  0.403034 -0.407193  0.095921  0.592941   \n",
       "\n",
       "         V8        V9  Amount  Class  \n",
       "0  0.098698  0.363787  149.62      0  \n",
       "1  0.085102 -0.255425    2.69      0  \n",
       "2  0.247676 -1.514654  378.66      0  \n",
       "3  0.377436 -1.387024  123.50      0  \n",
       "4 -0.270533  0.817739   69.99      0  "
      ]
     },
     "execution_count": 28,
     "metadata": {},
     "output_type": "execute_result"
    }
   ],
   "source": [
    "# Import the dataset\n",
    "file_path = Path(\"../Resources/transactions.csv\")\n",
    "transactions_df = pd.read_csv(file_path)\n",
    "transactions_df.head()\n",
    "# transactions_df.info()"
   ]
  },
  {
   "cell_type": "markdown",
   "metadata": {},
   "source": [
    "## Data Preprocessing"
   ]
  },
  {
   "cell_type": "code",
   "execution_count": 29,
   "metadata": {},
   "outputs": [],
   "source": [
    "# Creating the X and y sets\n",
    "X = transactions_df.iloc[:, 0:10].values\n",
    "y = transactions_df[\"Class\"].values"
   ]
  },
  {
   "cell_type": "code",
   "execution_count": 30,
   "metadata": {},
   "outputs": [],
   "source": [
    "# Creating training, validation, and testing sets\n",
    "from sklearn.model_selection import train_test_split\n",
    "\n",
    "X_train, X_test, y_train, y_test = train_test_split(X, y, random_state=78)\n",
    "\n",
    "X_train, X_val, y_train, y_val = train_test_split(X_train, y_train, random_state=78)"
   ]
  },
  {
   "cell_type": "code",
   "execution_count": 31,
   "metadata": {},
   "outputs": [],
   "source": [
    "# Import the StandardScaler from sklearn\n",
    "from sklearn.preprocessing import StandardScaler\n",
    "\n",
    "# Scale the data\n",
    "scaler = StandardScaler().fit(X_train)\n",
    "X_train = scaler.transform(X_train)"
   ]
  },
  {
   "cell_type": "markdown",
   "metadata": {},
   "source": [
    "## Build and Train the Deep Learning Model"
   ]
  },
  {
   "cell_type": "markdown",
   "metadata": {},
   "source": [
    " ### Importing the Keras Modules"
   ]
  },
  {
   "cell_type": "code",
   "execution_count": 32,
   "metadata": {},
   "outputs": [],
   "source": [
    "# Import Keras modules for model creation\n",
    "from tensorflow.keras.models import Sequential\n",
    "from tensorflow.keras.layers import Dense"
   ]
  },
  {
   "cell_type": "markdown",
   "metadata": {},
   "source": [
    " ### Setting Up the Model"
   ]
  },
  {
   "cell_type": "code",
   "execution_count": 33,
   "metadata": {},
   "outputs": [],
   "source": [
    "# Model set-up\n",
    "number_input_features = 10\n",
    "hidden_nodes_layer1 = 15\n",
    "hidden_nodes_layer2 = 5"
   ]
  },
  {
   "cell_type": "markdown",
   "metadata": {},
   "source": [
    " ### Defining the Model's Structure"
   ]
  },
  {
   "cell_type": "code",
   "execution_count": 34,
   "metadata": {},
   "outputs": [
    {
     "name": "stderr",
     "output_type": "stream",
     "text": [
      "c:\\Users\\pablo\\anaconda3\\envs\\dev\\lib\\site-packages\\keras\\src\\layers\\core\\dense.py:85: UserWarning: Do not pass an `input_shape`/`input_dim` argument to a layer. When using Sequential models, prefer using an `Input(shape)` object as the first layer in the model instead.\n",
      "  super().__init__(activity_regularizer=activity_regularizer, **kwargs)\n"
     ]
    }
   ],
   "source": [
    "# Define the LSTM RNN model\n",
    "model = Sequential()\n",
    "\n",
    "# Layer 1\n",
    "model.add(\n",
    "    Dense(units=hidden_nodes_layer1, input_dim=number_input_features, activation=\"relu\")\n",
    ")\n",
    "\n",
    "# Layer 2\n",
    "model.add(Dense(units=hidden_nodes_layer2, activation=\"relu\"))\n",
    "\n",
    "# Output layer\n",
    "model.add(Dense(1, activation=\"sigmoid\"))"
   ]
  },
  {
   "cell_type": "markdown",
   "metadata": {},
   "source": [
    " ### Compiling the Model"
   ]
  },
  {
   "cell_type": "code",
   "execution_count": 35,
   "metadata": {},
   "outputs": [],
   "source": [
    "# Compile the model\n",
    "model.compile(\n",
    "    loss=\"binary_crossentropy\",\n",
    "    optimizer=\"adam\",\n",
    "    metrics=[\n",
    "        \"accuracy\",\n",
    "        tf.keras.metrics.TruePositives(name=\"tp\"),\n",
    "        tf.keras.metrics.TrueNegatives(name=\"tn\"),\n",
    "        tf.keras.metrics.FalsePositives(name=\"fp\"),\n",
    "        tf.keras.metrics.FalseNegatives(name=\"fn\"),\n",
    "        tf.keras.metrics.Precision(name=\"precision\"),\n",
    "        tf.keras.metrics.Recall(name=\"recall\"),\n",
    "        tf.keras.metrics.AUC(name=\"auc\"),\n",
    "    ],\n",
    ")"
   ]
  },
  {
   "cell_type": "code",
   "execution_count": 36,
   "metadata": {},
   "outputs": [
    {
     "data": {
      "text/html": [
       "<pre style=\"white-space:pre;overflow-x:auto;line-height:normal;font-family:Menlo,'DejaVu Sans Mono',consolas,'Courier New',monospace\"><span style=\"font-weight: bold\">Model: \"sequential_2\"</span>\n",
       "</pre>\n"
      ],
      "text/plain": [
       "\u001b[1mModel: \"sequential_2\"\u001b[0m\n"
      ]
     },
     "metadata": {},
     "output_type": "display_data"
    },
    {
     "data": {
      "text/html": [
       "<pre style=\"white-space:pre;overflow-x:auto;line-height:normal;font-family:Menlo,'DejaVu Sans Mono',consolas,'Courier New',monospace\">┏━━━━━━━━━━━━━━━━━━━━━━━━━━━━━━━━━┳━━━━━━━━━━━━━━━━━━━━━━━━┳━━━━━━━━━━━━━━━┓\n",
       "┃<span style=\"font-weight: bold\"> Layer (type)                    </span>┃<span style=\"font-weight: bold\"> Output Shape           </span>┃<span style=\"font-weight: bold\">       Param # </span>┃\n",
       "┡━━━━━━━━━━━━━━━━━━━━━━━━━━━━━━━━━╇━━━━━━━━━━━━━━━━━━━━━━━━╇━━━━━━━━━━━━━━━┩\n",
       "│ dense_6 (<span style=\"color: #0087ff; text-decoration-color: #0087ff\">Dense</span>)                 │ (<span style=\"color: #00d7ff; text-decoration-color: #00d7ff\">None</span>, <span style=\"color: #00af00; text-decoration-color: #00af00\">15</span>)             │           <span style=\"color: #00af00; text-decoration-color: #00af00\">165</span> │\n",
       "├─────────────────────────────────┼────────────────────────┼───────────────┤\n",
       "│ dense_7 (<span style=\"color: #0087ff; text-decoration-color: #0087ff\">Dense</span>)                 │ (<span style=\"color: #00d7ff; text-decoration-color: #00d7ff\">None</span>, <span style=\"color: #00af00; text-decoration-color: #00af00\">5</span>)              │            <span style=\"color: #00af00; text-decoration-color: #00af00\">80</span> │\n",
       "├─────────────────────────────────┼────────────────────────┼───────────────┤\n",
       "│ dense_8 (<span style=\"color: #0087ff; text-decoration-color: #0087ff\">Dense</span>)                 │ (<span style=\"color: #00d7ff; text-decoration-color: #00d7ff\">None</span>, <span style=\"color: #00af00; text-decoration-color: #00af00\">1</span>)              │             <span style=\"color: #00af00; text-decoration-color: #00af00\">6</span> │\n",
       "└─────────────────────────────────┴────────────────────────┴───────────────┘\n",
       "</pre>\n"
      ],
      "text/plain": [
       "┏━━━━━━━━━━━━━━━━━━━━━━━━━━━━━━━━━┳━━━━━━━━━━━━━━━━━━━━━━━━┳━━━━━━━━━━━━━━━┓\n",
       "┃\u001b[1m \u001b[0m\u001b[1mLayer (type)                   \u001b[0m\u001b[1m \u001b[0m┃\u001b[1m \u001b[0m\u001b[1mOutput Shape          \u001b[0m\u001b[1m \u001b[0m┃\u001b[1m \u001b[0m\u001b[1m      Param #\u001b[0m\u001b[1m \u001b[0m┃\n",
       "┡━━━━━━━━━━━━━━━━━━━━━━━━━━━━━━━━━╇━━━━━━━━━━━━━━━━━━━━━━━━╇━━━━━━━━━━━━━━━┩\n",
       "│ dense_6 (\u001b[38;5;33mDense\u001b[0m)                 │ (\u001b[38;5;45mNone\u001b[0m, \u001b[38;5;34m15\u001b[0m)             │           \u001b[38;5;34m165\u001b[0m │\n",
       "├─────────────────────────────────┼────────────────────────┼───────────────┤\n",
       "│ dense_7 (\u001b[38;5;33mDense\u001b[0m)                 │ (\u001b[38;5;45mNone\u001b[0m, \u001b[38;5;34m5\u001b[0m)              │            \u001b[38;5;34m80\u001b[0m │\n",
       "├─────────────────────────────────┼────────────────────────┼───────────────┤\n",
       "│ dense_8 (\u001b[38;5;33mDense\u001b[0m)                 │ (\u001b[38;5;45mNone\u001b[0m, \u001b[38;5;34m1\u001b[0m)              │             \u001b[38;5;34m6\u001b[0m │\n",
       "└─────────────────────────────────┴────────────────────────┴───────────────┘\n"
      ]
     },
     "metadata": {},
     "output_type": "display_data"
    },
    {
     "data": {
      "text/html": [
       "<pre style=\"white-space:pre;overflow-x:auto;line-height:normal;font-family:Menlo,'DejaVu Sans Mono',consolas,'Courier New',monospace\"><span style=\"font-weight: bold\"> Total params: </span><span style=\"color: #00af00; text-decoration-color: #00af00\">251</span> (1004.00 B)\n",
       "</pre>\n"
      ],
      "text/plain": [
       "\u001b[1m Total params: \u001b[0m\u001b[38;5;34m251\u001b[0m (1004.00 B)\n"
      ]
     },
     "metadata": {},
     "output_type": "display_data"
    },
    {
     "data": {
      "text/html": [
       "<pre style=\"white-space:pre;overflow-x:auto;line-height:normal;font-family:Menlo,'DejaVu Sans Mono',consolas,'Courier New',monospace\"><span style=\"font-weight: bold\"> Trainable params: </span><span style=\"color: #00af00; text-decoration-color: #00af00\">251</span> (1004.00 B)\n",
       "</pre>\n"
      ],
      "text/plain": [
       "\u001b[1m Trainable params: \u001b[0m\u001b[38;5;34m251\u001b[0m (1004.00 B)\n"
      ]
     },
     "metadata": {},
     "output_type": "display_data"
    },
    {
     "data": {
      "text/html": [
       "<pre style=\"white-space:pre;overflow-x:auto;line-height:normal;font-family:Menlo,'DejaVu Sans Mono',consolas,'Courier New',monospace\"><span style=\"font-weight: bold\"> Non-trainable params: </span><span style=\"color: #00af00; text-decoration-color: #00af00\">0</span> (0.00 B)\n",
       "</pre>\n"
      ],
      "text/plain": [
       "\u001b[1m Non-trainable params: \u001b[0m\u001b[38;5;34m0\u001b[0m (0.00 B)\n"
      ]
     },
     "metadata": {},
     "output_type": "display_data"
    }
   ],
   "source": [
    "# Summarize the model\n",
    "model.summary()"
   ]
  },
  {
   "cell_type": "markdown",
   "metadata": {},
   "source": [
    " ### Training the Model"
   ]
  },
  {
   "cell_type": "code",
   "execution_count": 37,
   "metadata": {},
   "outputs": [],
   "source": [
    "# Training the model\n",
    "batch_size = 1000\n",
    "epochs = 50\n"
   ]
  },
  {
   "cell_type": "code",
   "execution_count": 39,
   "metadata": {},
   "outputs": [
    {
     "name": "stdout",
     "output_type": "stream",
     "text": [
      "Epoch 1/50\n",
      "\u001b[1m161/161\u001b[0m \u001b[32m━━━━━━━━━━━━━━━━━━━━\u001b[0m\u001b[37m\u001b[0m \u001b[1m1s\u001b[0m 3ms/step - accuracy: 0.5425 - auc: 0.5618 - fn: 82.6111 - fp: 27957.8203 - loss: 0.7214 - precision: 0.0020 - recall: 0.5278 - tn: 53390.8945 - tp: 52.6605 - val_accuracy: 0.9980 - val_auc: 0.4144 - val_fn: 105.0000 - val_fp: 2.0000 - val_loss: 0.1271 - val_precision: 0.0000e+00 - val_recall: 0.0000e+00 - val_tn: 53295.0000 - val_tp: 0.0000e+00\n",
      "Epoch 2/50\n",
      "\u001b[1m161/161\u001b[0m \u001b[32m━━━━━━━━━━━━━━━━━━━━\u001b[0m\u001b[37m\u001b[0m \u001b[1m0s\u001b[0m 900us/step - accuracy: 0.9984 - auc: 0.1310 - fn: 133.3395 - fp: 0.8889 - loss: 0.1946 - precision: 0.0000e+00 - recall: 0.0000e+00 - tn: 81349.7578 - tp: 0.0000e+00 - val_accuracy: 0.9980 - val_auc: 0.4606 - val_fn: 105.0000 - val_fp: 0.0000e+00 - val_loss: 0.1509 - val_precision: 0.0000e+00 - val_recall: 0.0000e+00 - val_tn: 53297.0000 - val_tp: 0.0000e+00\n",
      "Epoch 3/50\n",
      "\u001b[1m161/161\u001b[0m \u001b[32m━━━━━━━━━━━━━━━━━━━━\u001b[0m\u001b[37m\u001b[0m \u001b[1m0s\u001b[0m 896us/step - accuracy: 0.9984 - auc: 0.2988 - fn: 134.1605 - fp: 0.0000e+00 - loss: 0.0348 - precision: 0.0000e+00 - recall: 0.0000e+00 - tn: 81349.8281 - tp: 0.0000e+00 - val_accuracy: 0.9981 - val_auc: 0.5919 - val_fn: 104.0000 - val_fp: 0.0000e+00 - val_loss: 0.1836 - val_precision: 1.0000 - val_recall: 0.0095 - val_tn: 53297.0000 - val_tp: 1.0000\n",
      "Epoch 4/50\n",
      "\u001b[1m161/161\u001b[0m \u001b[32m━━━━━━━━━━━━━━━━━━━━\u001b[0m\u001b[37m\u001b[0m \u001b[1m0s\u001b[0m 958us/step - accuracy: 0.9986 - auc: 0.7064 - fn: 121.1111 - fp: 0.5864 - loss: 0.0144 - precision: 0.5187 - recall: 0.0146 - tn: 81359.2500 - tp: 3.0370 - val_accuracy: 0.9982 - val_auc: 0.6336 - val_fn: 94.0000 - val_fp: 2.0000 - val_loss: 0.2073 - val_precision: 0.8462 - val_recall: 0.1048 - val_tn: 53295.0000 - val_tp: 11.0000\n",
      "Epoch 5/50\n",
      "\u001b[1m161/161\u001b[0m \u001b[32m━━━━━━━━━━━━━━━━━━━━\u001b[0m\u001b[37m\u001b[0m \u001b[1m0s\u001b[0m 878us/step - accuracy: 0.9987 - auc: 0.8113 - fn: 97.6111 - fp: 8.1605 - loss: 0.0100 - precision: 0.7727 - recall: 0.2225 - tn: 81348.0859 - tp: 30.1296 - val_accuracy: 0.9982 - val_auc: 0.6411 - val_fn: 91.0000 - val_fp: 3.0000 - val_loss: 0.2225 - val_precision: 0.8235 - val_recall: 0.1333 - val_tn: 53294.0000 - val_tp: 14.0000\n",
      "Epoch 6/50\n",
      "\u001b[1m161/161\u001b[0m \u001b[32m━━━━━━━━━━━━━━━━━━━━\u001b[0m\u001b[37m\u001b[0m \u001b[1m0s\u001b[0m 905us/step - accuracy: 0.9987 - auc: 0.8350 - fn: 88.6728 - fp: 10.2407 - loss: 0.0090 - precision: 0.8244 - recall: 0.3703 - tn: 81333.5234 - tp: 51.5494 - val_accuracy: 0.9983 - val_auc: 0.6536 - val_fn: 88.0000 - val_fp: 4.0000 - val_loss: 0.2283 - val_precision: 0.8095 - val_recall: 0.1619 - val_tn: 53293.0000 - val_tp: 17.0000\n",
      "Epoch 7/50\n",
      "\u001b[1m161/161\u001b[0m \u001b[32m━━━━━━━━━━━━━━━━━━━━\u001b[0m\u001b[37m\u001b[0m \u001b[1m0s\u001b[0m 886us/step - accuracy: 0.9988 - auc: 0.8637 - fn: 80.5432 - fp: 10.2654 - loss: 0.0073 - precision: 0.8280 - recall: 0.3685 - tn: 81342.1406 - tp: 51.0370 - val_accuracy: 0.9983 - val_auc: 0.6741 - val_fn: 85.0000 - val_fp: 4.0000 - val_loss: 0.2318 - val_precision: 0.8333 - val_recall: 0.1905 - val_tn: 53293.0000 - val_tp: 20.0000\n",
      "Epoch 8/50\n",
      "\u001b[1m161/161\u001b[0m \u001b[32m━━━━━━━━━━━━━━━━━━━━\u001b[0m\u001b[37m\u001b[0m \u001b[1m0s\u001b[0m 941us/step - accuracy: 0.9989 - auc: 0.8841 - fn: 75.1914 - fp: 7.6914 - loss: 0.0069 - precision: 0.8939 - recall: 0.4303 - tn: 81339.1719 - tp: 61.9321 - val_accuracy: 0.9984 - val_auc: 0.6990 - val_fn: 82.0000 - val_fp: 4.0000 - val_loss: 0.2324 - val_precision: 0.8519 - val_recall: 0.2190 - val_tn: 53293.0000 - val_tp: 23.0000\n",
      "Epoch 9/50\n",
      "\u001b[1m161/161\u001b[0m \u001b[32m━━━━━━━━━━━━━━━━━━━━\u001b[0m\u001b[37m\u001b[0m \u001b[1m0s\u001b[0m 886us/step - accuracy: 0.9991 - auc: 0.8866 - fn: 67.0556 - fp: 8.0247 - loss: 0.0055 - precision: 0.9089 - recall: 0.4983 - tn: 81344.7656 - tp: 64.1420 - val_accuracy: 0.9985 - val_auc: 0.7187 - val_fn: 76.0000 - val_fp: 5.0000 - val_loss: 0.2227 - val_precision: 0.8529 - val_recall: 0.2762 - val_tn: 53292.0000 - val_tp: 29.0000\n",
      "Epoch 10/50\n",
      "\u001b[1m161/161\u001b[0m \u001b[32m━━━━━━━━━━━━━━━━━━━━\u001b[0m\u001b[37m\u001b[0m \u001b[1m0s\u001b[0m 879us/step - accuracy: 0.9991 - auc: 0.8796 - fn: 64.6173 - fp: 10.7346 - loss: 0.0055 - precision: 0.8772 - recall: 0.5003 - tn: 81341.0859 - tp: 67.5494 - val_accuracy: 0.9986 - val_auc: 0.7238 - val_fn: 71.0000 - val_fp: 5.0000 - val_loss: 0.2134 - val_precision: 0.8718 - val_recall: 0.3238 - val_tn: 53292.0000 - val_tp: 34.0000\n",
      "Epoch 11/50\n",
      "\u001b[1m161/161\u001b[0m \u001b[32m━━━━━━━━━━━━━━━━━━━━\u001b[0m\u001b[37m\u001b[0m \u001b[1m0s\u001b[0m 1ms/step - accuracy: 0.9991 - auc: 0.9030 - fn: 61.1667 - fp: 12.7654 - loss: 0.0049 - precision: 0.8553 - recall: 0.5659 - tn: 81335.5703 - tp: 74.4815 - val_accuracy: 0.9986 - val_auc: 0.7238 - val_fn: 70.0000 - val_fp: 6.0000 - val_loss: 0.1984 - val_precision: 0.8537 - val_recall: 0.3333 - val_tn: 53291.0000 - val_tp: 35.0000\n",
      "Epoch 12/50\n",
      "\u001b[1m161/161\u001b[0m \u001b[32m━━━━━━━━━━━━━━━━━━━━\u001b[0m\u001b[37m\u001b[0m \u001b[1m0s\u001b[0m 856us/step - accuracy: 0.9993 - auc: 0.9220 - fn: 49.7840 - fp: 14.0185 - loss: 0.0041 - precision: 0.8147 - recall: 0.6336 - tn: 81350.5391 - tp: 69.6481 - val_accuracy: 0.9986 - val_auc: 0.7283 - val_fn: 69.0000 - val_fp: 6.0000 - val_loss: 0.1799 - val_precision: 0.8571 - val_recall: 0.3429 - val_tn: 53291.0000 - val_tp: 36.0000\n",
      "Epoch 13/50\n",
      "\u001b[1m161/161\u001b[0m \u001b[32m━━━━━━━━━━━━━━━━━━━━\u001b[0m\u001b[37m\u001b[0m \u001b[1m0s\u001b[0m 878us/step - accuracy: 0.9991 - auc: 0.9089 - fn: 57.4074 - fp: 14.2901 - loss: 0.0048 - precision: 0.8052 - recall: 0.5135 - tn: 81341.9688 - tp: 70.3210 - val_accuracy: 0.9986 - val_auc: 0.7282 - val_fn: 67.0000 - val_fp: 8.0000 - val_loss: 0.1677 - val_precision: 0.8261 - val_recall: 0.3619 - val_tn: 53289.0000 - val_tp: 38.0000\n",
      "Epoch 14/50\n",
      "\u001b[1m161/161\u001b[0m \u001b[32m━━━━━━━━━━━━━━━━━━━━\u001b[0m\u001b[37m\u001b[0m \u001b[1m0s\u001b[0m 880us/step - accuracy: 0.9991 - auc: 0.9185 - fn: 52.4136 - fp: 15.7160 - loss: 0.0044 - precision: 0.8468 - recall: 0.5840 - tn: 81340.8594 - tp: 75.0000 - val_accuracy: 0.9986 - val_auc: 0.7325 - val_fn: 65.0000 - val_fp: 10.0000 - val_loss: 0.1583 - val_precision: 0.8000 - val_recall: 0.3810 - val_tn: 53287.0000 - val_tp: 40.0000\n",
      "Epoch 15/50\n",
      "\u001b[1m161/161\u001b[0m \u001b[32m━━━━━━━━━━━━━━━━━━━━\u001b[0m\u001b[37m\u001b[0m \u001b[1m0s\u001b[0m 867us/step - accuracy: 0.9993 - auc: 0.9162 - fn: 48.5062 - fp: 13.1667 - loss: 0.0039 - precision: 0.8548 - recall: 0.6146 - tn: 81344.0156 - tp: 78.2963 - val_accuracy: 0.9986 - val_auc: 0.7322 - val_fn: 65.0000 - val_fp: 11.0000 - val_loss: 0.1459 - val_precision: 0.7843 - val_recall: 0.3810 - val_tn: 53286.0000 - val_tp: 40.0000\n",
      "Epoch 16/50\n",
      "\u001b[1m161/161\u001b[0m \u001b[32m━━━━━━━━━━━━━━━━━━━━\u001b[0m\u001b[37m\u001b[0m \u001b[1m0s\u001b[0m 875us/step - accuracy: 0.9991 - auc: 0.9048 - fn: 57.4074 - fp: 15.2037 - loss: 0.0049 - precision: 0.8366 - recall: 0.5656 - tn: 81335.3203 - tp: 76.0556 - val_accuracy: 0.9986 - val_auc: 0.7362 - val_fn: 63.0000 - val_fp: 11.0000 - val_loss: 0.1343 - val_precision: 0.7925 - val_recall: 0.4000 - val_tn: 53286.0000 - val_tp: 42.0000\n",
      "Epoch 17/50\n",
      "\u001b[1m161/161\u001b[0m \u001b[32m━━━━━━━━━━━━━━━━━━━━\u001b[0m\u001b[37m\u001b[0m \u001b[1m0s\u001b[0m 852us/step - accuracy: 0.9993 - auc: 0.9467 - fn: 48.9691 - fp: 10.6790 - loss: 0.0034 - precision: 0.9000 - recall: 0.6093 - tn: 81345.4531 - tp: 78.8889 - val_accuracy: 0.9987 - val_auc: 0.7399 - val_fn: 61.0000 - val_fp: 11.0000 - val_loss: 0.1209 - val_precision: 0.8000 - val_recall: 0.4190 - val_tn: 53286.0000 - val_tp: 44.0000\n",
      "Epoch 18/50\n",
      "\u001b[1m161/161\u001b[0m \u001b[32m━━━━━━━━━━━━━━━━━━━━\u001b[0m\u001b[37m\u001b[0m \u001b[1m0s\u001b[0m 826us/step - accuracy: 0.9992 - auc: 0.9385 - fn: 50.7469 - fp: 14.8086 - loss: 0.0039 - precision: 0.8310 - recall: 0.5996 - tn: 81343.5469 - tp: 74.8889 - val_accuracy: 0.9986 - val_auc: 0.7439 - val_fn: 61.0000 - val_fp: 13.0000 - val_loss: 0.1128 - val_precision: 0.7719 - val_recall: 0.4190 - val_tn: 53284.0000 - val_tp: 44.0000\n",
      "Epoch 19/50\n",
      "\u001b[1m161/161\u001b[0m \u001b[32m━━━━━━━━━━━━━━━━━━━━\u001b[0m\u001b[37m\u001b[0m \u001b[1m0s\u001b[0m 861us/step - accuracy: 0.9992 - auc: 0.9364 - fn: 50.0309 - fp: 15.6358 - loss: 0.0038 - precision: 0.8263 - recall: 0.6293 - tn: 81336.9922 - tp: 81.3272 - val_accuracy: 0.9986 - val_auc: 0.7479 - val_fn: 61.0000 - val_fp: 13.0000 - val_loss: 0.1048 - val_precision: 0.7719 - val_recall: 0.4190 - val_tn: 53284.0000 - val_tp: 44.0000\n",
      "Epoch 20/50\n",
      "\u001b[1m161/161\u001b[0m \u001b[32m━━━━━━━━━━━━━━━━━━━━\u001b[0m\u001b[37m\u001b[0m \u001b[1m0s\u001b[0m 872us/step - accuracy: 0.9992 - auc: 0.9408 - fn: 47.3395 - fp: 16.6605 - loss: 0.0035 - precision: 0.8064 - recall: 0.6068 - tn: 81341.4922 - tp: 78.4938 - val_accuracy: 0.9986 - val_auc: 0.7464 - val_fn: 61.0000 - val_fp: 15.0000 - val_loss: 0.0955 - val_precision: 0.7458 - val_recall: 0.4190 - val_tn: 53282.0000 - val_tp: 44.0000\n",
      "Epoch 21/50\n",
      "\u001b[1m161/161\u001b[0m \u001b[32m━━━━━━━━━━━━━━━━━━━━\u001b[0m\u001b[37m\u001b[0m \u001b[1m0s\u001b[0m 869us/step - accuracy: 0.9991 - auc: 0.9226 - fn: 56.1358 - fp: 13.4691 - loss: 0.0042 - precision: 0.8550 - recall: 0.5330 - tn: 81339.8906 - tp: 74.4938 - val_accuracy: 0.9985 - val_auc: 0.7547 - val_fn: 61.0000 - val_fp: 18.0000 - val_loss: 0.0912 - val_precision: 0.7097 - val_recall: 0.4190 - val_tn: 53279.0000 - val_tp: 44.0000\n",
      "Epoch 22/50\n",
      "\u001b[1m161/161\u001b[0m \u001b[32m━━━━━━━━━━━━━━━━━━━━\u001b[0m\u001b[37m\u001b[0m \u001b[1m0s\u001b[0m 884us/step - accuracy: 0.9992 - auc: 0.9277 - fn: 52.2469 - fp: 11.1852 - loss: 0.0038 - precision: 0.9002 - recall: 0.6163 - tn: 81337.9297 - tp: 82.6235 - val_accuracy: 0.9985 - val_auc: 0.7541 - val_fn: 60.0000 - val_fp: 18.0000 - val_loss: 0.0906 - val_precision: 0.7143 - val_recall: 0.4286 - val_tn: 53279.0000 - val_tp: 45.0000\n",
      "Epoch 23/50\n",
      "\u001b[1m161/161\u001b[0m \u001b[32m━━━━━━━━━━━━━━━━━━━━\u001b[0m\u001b[37m\u001b[0m \u001b[1m0s\u001b[0m 861us/step - accuracy: 0.9993 - auc: 0.9177 - fn: 49.5185 - fp: 9.3889 - loss: 0.0037 - precision: 0.9207 - recall: 0.6463 - tn: 81338.3359 - tp: 86.7407 - val_accuracy: 0.9984 - val_auc: 0.7662 - val_fn: 59.0000 - val_fp: 27.0000 - val_loss: 0.0847 - val_precision: 0.6301 - val_recall: 0.4381 - val_tn: 53270.0000 - val_tp: 46.0000\n",
      "Epoch 24/50\n",
      "\u001b[1m161/161\u001b[0m \u001b[32m━━━━━━━━━━━━━━━━━━━━\u001b[0m\u001b[37m\u001b[0m \u001b[1m0s\u001b[0m 883us/step - accuracy: 0.9992 - auc: 0.9223 - fn: 52.6049 - fp: 12.0000 - loss: 0.0039 - precision: 0.8548 - recall: 0.6054 - tn: 81341.1875 - tp: 78.1914 - val_accuracy: 0.9983 - val_auc: 0.7697 - val_fn: 59.0000 - val_fp: 33.0000 - val_loss: 0.0801 - val_precision: 0.5823 - val_recall: 0.4381 - val_tn: 53264.0000 - val_tp: 46.0000\n",
      "Epoch 25/50\n",
      "\u001b[1m161/161\u001b[0m \u001b[32m━━━━━━━━━━━━━━━━━━━━\u001b[0m\u001b[37m\u001b[0m \u001b[1m0s\u001b[0m 863us/step - accuracy: 0.9992 - auc: 0.9257 - fn: 50.0062 - fp: 12.3827 - loss: 0.0040 - precision: 0.8572 - recall: 0.6168 - tn: 81339.4141 - tp: 82.1852 - val_accuracy: 0.9982 - val_auc: 0.7728 - val_fn: 58.0000 - val_fp: 40.0000 - val_loss: 0.0755 - val_precision: 0.5402 - val_recall: 0.4476 - val_tn: 53257.0000 - val_tp: 47.0000\n",
      "Epoch 26/50\n",
      "\u001b[1m161/161\u001b[0m \u001b[32m━━━━━━━━━━━━━━━━━━━━\u001b[0m\u001b[37m\u001b[0m \u001b[1m0s\u001b[0m 876us/step - accuracy: 0.9991 - auc: 0.9286 - fn: 51.3086 - fp: 10.2160 - loss: 0.0040 - precision: 0.8834 - recall: 0.6225 - tn: 81335.7500 - tp: 86.7160 - val_accuracy: 0.9983 - val_auc: 0.7636 - val_fn: 60.0000 - val_fp: 32.0000 - val_loss: 0.0749 - val_precision: 0.5844 - val_recall: 0.4286 - val_tn: 53265.0000 - val_tp: 45.0000\n",
      "Epoch 27/50\n",
      "\u001b[1m161/161\u001b[0m \u001b[32m━━━━━━━━━━━━━━━━━━━━\u001b[0m\u001b[37m\u001b[0m \u001b[1m0s\u001b[0m 871us/step - accuracy: 0.9993 - auc: 0.9276 - fn: 48.8765 - fp: 9.5370 - loss: 0.0034 - precision: 0.8999 - recall: 0.6136 - tn: 81344.9844 - tp: 80.5864 - val_accuracy: 0.9982 - val_auc: 0.7709 - val_fn: 58.0000 - val_fp: 40.0000 - val_loss: 0.0715 - val_precision: 0.5402 - val_recall: 0.4476 - val_tn: 53257.0000 - val_tp: 47.0000\n",
      "Epoch 28/50\n",
      "\u001b[1m161/161\u001b[0m \u001b[32m━━━━━━━━━━━━━━━━━━━━\u001b[0m\u001b[37m\u001b[0m \u001b[1m0s\u001b[0m 892us/step - accuracy: 0.9992 - auc: 0.9214 - fn: 53.1667 - fp: 10.1914 - loss: 0.0041 - precision: 0.9097 - recall: 0.6326 - tn: 81332.1797 - tp: 88.4506 - val_accuracy: 0.9981 - val_auc: 0.7709 - val_fn: 59.0000 - val_fp: 43.0000 - val_loss: 0.0717 - val_precision: 0.5169 - val_recall: 0.4381 - val_tn: 53254.0000 - val_tp: 46.0000\n",
      "Epoch 29/50\n",
      "\u001b[1m161/161\u001b[0m \u001b[32m━━━━━━━━━━━━━━━━━━━━\u001b[0m\u001b[37m\u001b[0m \u001b[1m0s\u001b[0m 901us/step - accuracy: 0.9992 - auc: 0.9361 - fn: 50.5123 - fp: 10.7099 - loss: 0.0039 - precision: 0.8880 - recall: 0.6097 - tn: 81340.6328 - tp: 82.1296 - val_accuracy: 0.9979 - val_auc: 0.7732 - val_fn: 58.0000 - val_fp: 56.0000 - val_loss: 0.0695 - val_precision: 0.4563 - val_recall: 0.4476 - val_tn: 53241.0000 - val_tp: 47.0000\n",
      "Epoch 30/50\n",
      "\u001b[1m161/161\u001b[0m \u001b[32m━━━━━━━━━━━━━━━━━━━━\u001b[0m\u001b[37m\u001b[0m \u001b[1m0s\u001b[0m 916us/step - accuracy: 0.9992 - auc: 0.9275 - fn: 49.0432 - fp: 12.9753 - loss: 0.0038 - precision: 0.8631 - recall: 0.6471 - tn: 81336.8438 - tp: 85.1235 - val_accuracy: 0.9977 - val_auc: 0.7723 - val_fn: 58.0000 - val_fp: 64.0000 - val_loss: 0.0685 - val_precision: 0.4234 - val_recall: 0.4476 - val_tn: 53233.0000 - val_tp: 47.0000\n",
      "Epoch 31/50\n",
      "\u001b[1m161/161\u001b[0m \u001b[32m━━━━━━━━━━━━━━━━━━━━\u001b[0m\u001b[37m\u001b[0m \u001b[1m0s\u001b[0m 873us/step - accuracy: 0.9993 - auc: 0.9240 - fn: 46.5988 - fp: 10.6420 - loss: 0.0032 - precision: 0.8780 - recall: 0.6163 - tn: 81345.8203 - tp: 80.9259 - val_accuracy: 0.9978 - val_auc: 0.7757 - val_fn: 58.0000 - val_fp: 62.0000 - val_loss: 0.0665 - val_precision: 0.4312 - val_recall: 0.4476 - val_tn: 53235.0000 - val_tp: 47.0000\n",
      "Epoch 32/50\n",
      "\u001b[1m161/161\u001b[0m \u001b[32m━━━━━━━━━━━━━━━━━━━━\u001b[0m\u001b[37m\u001b[0m \u001b[1m0s\u001b[0m 873us/step - accuracy: 0.9994 - auc: 0.9468 - fn: 38.5926 - fp: 10.0000 - loss: 0.0029 - precision: 0.8901 - recall: 0.6897 - tn: 81352.0547 - tp: 83.3395 - val_accuracy: 0.9974 - val_auc: 0.7841 - val_fn: 57.0000 - val_fp: 82.0000 - val_loss: 0.0647 - val_precision: 0.3692 - val_recall: 0.4571 - val_tn: 53215.0000 - val_tp: 48.0000\n",
      "Epoch 33/50\n",
      "\u001b[1m161/161\u001b[0m \u001b[32m━━━━━━━━━━━━━━━━━━━━\u001b[0m\u001b[37m\u001b[0m \u001b[1m0s\u001b[0m 882us/step - accuracy: 0.9993 - auc: 0.9171 - fn: 48.3272 - fp: 11.7222 - loss: 0.0038 - precision: 0.8954 - recall: 0.6459 - tn: 81337.7578 - tp: 86.1790 - val_accuracy: 0.9970 - val_auc: 0.7878 - val_fn: 57.0000 - val_fp: 102.0000 - val_loss: 0.0621 - val_precision: 0.3200 - val_recall: 0.4571 - val_tn: 53195.0000 - val_tp: 48.0000\n",
      "Epoch 34/50\n",
      "\u001b[1m161/161\u001b[0m \u001b[32m━━━━━━━━━━━━━━━━━━━━\u001b[0m\u001b[37m\u001b[0m \u001b[1m0s\u001b[0m 855us/step - accuracy: 0.9992 - auc: 0.9131 - fn: 47.9012 - fp: 11.3889 - loss: 0.0039 - precision: 0.8661 - recall: 0.6255 - tn: 81342.1016 - tp: 82.5988 - val_accuracy: 0.9971 - val_auc: 0.7894 - val_fn: 57.0000 - val_fp: 98.0000 - val_loss: 0.0662 - val_precision: 0.3288 - val_recall: 0.4571 - val_tn: 53199.0000 - val_tp: 48.0000\n",
      "Epoch 35/50\n",
      "\u001b[1m161/161\u001b[0m \u001b[32m━━━━━━━━━━━━━━━━━━━━\u001b[0m\u001b[37m\u001b[0m \u001b[1m0s\u001b[0m 855us/step - accuracy: 0.9994 - auc: 0.9404 - fn: 41.8025 - fp: 9.6358 - loss: 0.0030 - precision: 0.8975 - recall: 0.6901 - tn: 81347.5547 - tp: 84.9938 - val_accuracy: 0.9972 - val_auc: 0.7865 - val_fn: 58.0000 - val_fp: 94.0000 - val_loss: 0.0618 - val_precision: 0.3333 - val_recall: 0.4476 - val_tn: 53203.0000 - val_tp: 47.0000\n",
      "Epoch 36/50\n",
      "\u001b[1m161/161\u001b[0m \u001b[32m━━━━━━━━━━━━━━━━━━━━\u001b[0m\u001b[37m\u001b[0m \u001b[1m0s\u001b[0m 874us/step - accuracy: 0.9992 - auc: 0.9174 - fn: 49.9321 - fp: 8.7531 - loss: 0.0036 - precision: 0.9204 - recall: 0.5917 - tn: 81342.4219 - tp: 82.8827 - val_accuracy: 0.9970 - val_auc: 0.7872 - val_fn: 57.0000 - val_fp: 102.0000 - val_loss: 0.0608 - val_precision: 0.3200 - val_recall: 0.4571 - val_tn: 53195.0000 - val_tp: 48.0000\n",
      "Epoch 37/50\n",
      "\u001b[1m161/161\u001b[0m \u001b[32m━━━━━━━━━━━━━━━━━━━━\u001b[0m\u001b[37m\u001b[0m \u001b[1m0s\u001b[0m 870us/step - accuracy: 0.9993 - auc: 0.9254 - fn: 46.0556 - fp: 9.7284 - loss: 0.0035 - precision: 0.9018 - recall: 0.6391 - tn: 81347.0703 - tp: 81.1358 - val_accuracy: 0.9966 - val_auc: 0.7878 - val_fn: 57.0000 - val_fp: 125.0000 - val_loss: 0.0606 - val_precision: 0.2775 - val_recall: 0.4571 - val_tn: 53172.0000 - val_tp: 48.0000\n",
      "Epoch 38/50\n",
      "\u001b[1m161/161\u001b[0m \u001b[32m━━━━━━━━━━━━━━━━━━━━\u001b[0m\u001b[37m\u001b[0m \u001b[1m0s\u001b[0m 875us/step - accuracy: 0.9993 - auc: 0.9304 - fn: 49.2778 - fp: 9.8457 - loss: 0.0036 - precision: 0.8905 - recall: 0.5814 - tn: 81349.4141 - tp: 75.4506 - val_accuracy: 0.9969 - val_auc: 0.7897 - val_fn: 57.0000 - val_fp: 108.0000 - val_loss: 0.0637 - val_precision: 0.3077 - val_recall: 0.4571 - val_tn: 53189.0000 - val_tp: 48.0000\n",
      "Epoch 39/50\n",
      "\u001b[1m161/161\u001b[0m \u001b[32m━━━━━━━━━━━━━━━━━━━━\u001b[0m\u001b[37m\u001b[0m \u001b[1m0s\u001b[0m 865us/step - accuracy: 0.9993 - auc: 0.9260 - fn: 44.2407 - fp: 10.3765 - loss: 0.0037 - precision: 0.8945 - recall: 0.6578 - tn: 81338.3672 - tp: 91.0000 - val_accuracy: 0.9968 - val_auc: 0.7898 - val_fn: 57.0000 - val_fp: 113.0000 - val_loss: 0.0625 - val_precision: 0.2981 - val_recall: 0.4571 - val_tn: 53184.0000 - val_tp: 48.0000\n",
      "Epoch 40/50\n",
      "\u001b[1m161/161\u001b[0m \u001b[32m━━━━━━━━━━━━━━━━━━━━\u001b[0m\u001b[37m\u001b[0m \u001b[1m0s\u001b[0m 900us/step - accuracy: 0.9993 - auc: 0.9435 - fn: 45.7531 - fp: 11.4198 - loss: 0.0032 - precision: 0.8861 - recall: 0.6772 - tn: 81335.5156 - tp: 91.2963 - val_accuracy: 0.9967 - val_auc: 0.7890 - val_fn: 57.0000 - val_fp: 119.0000 - val_loss: 0.0626 - val_precision: 0.2874 - val_recall: 0.4571 - val_tn: 53178.0000 - val_tp: 48.0000\n",
      "Epoch 41/50\n",
      "\u001b[1m161/161\u001b[0m \u001b[32m━━━━━━━━━━━━━━━━━━━━\u001b[0m\u001b[37m\u001b[0m \u001b[1m0s\u001b[0m 878us/step - accuracy: 0.9994 - auc: 0.9273 - fn: 44.5185 - fp: 9.3765 - loss: 0.0031 - precision: 0.9071 - recall: 0.6762 - tn: 81345.9297 - tp: 84.1605 - val_accuracy: 0.9962 - val_auc: 0.7886 - val_fn: 56.0000 - val_fp: 147.0000 - val_loss: 0.0652 - val_precision: 0.2500 - val_recall: 0.4667 - val_tn: 53150.0000 - val_tp: 49.0000\n",
      "Epoch 42/50\n",
      "\u001b[1m161/161\u001b[0m \u001b[32m━━━━━━━━━━━━━━━━━━━━\u001b[0m\u001b[37m\u001b[0m \u001b[1m0s\u001b[0m 876us/step - accuracy: 0.9993 - auc: 0.9408 - fn: 45.0247 - fp: 10.8272 - loss: 0.0032 - precision: 0.8907 - recall: 0.6722 - tn: 81340.5703 - tp: 87.5679 - val_accuracy: 0.9964 - val_auc: 0.7894 - val_fn: 57.0000 - val_fp: 136.0000 - val_loss: 0.0673 - val_precision: 0.2609 - val_recall: 0.4571 - val_tn: 53161.0000 - val_tp: 48.0000\n",
      "Epoch 43/50\n",
      "\u001b[1m161/161\u001b[0m \u001b[32m━━━━━━━━━━━━━━━━━━━━\u001b[0m\u001b[37m\u001b[0m \u001b[1m0s\u001b[0m 861us/step - accuracy: 0.9993 - auc: 0.9245 - fn: 48.2840 - fp: 9.8210 - loss: 0.0037 - precision: 0.8983 - recall: 0.6578 - tn: 81338.2422 - tp: 87.6420 - val_accuracy: 0.9963 - val_auc: 0.7893 - val_fn: 57.0000 - val_fp: 140.0000 - val_loss: 0.0683 - val_precision: 0.2553 - val_recall: 0.4571 - val_tn: 53157.0000 - val_tp: 48.0000\n",
      "Epoch 44/50\n",
      "\u001b[1m161/161\u001b[0m \u001b[32m━━━━━━━━━━━━━━━━━━━━\u001b[0m\u001b[37m\u001b[0m \u001b[1m0s\u001b[0m 1ms/step - accuracy: 0.9994 - auc: 0.9238 - fn: 41.7284 - fp: 8.3827 - loss: 0.0033 - precision: 0.9321 - recall: 0.6858 - tn: 81348.9922 - tp: 84.8827 - val_accuracy: 0.9960 - val_auc: 0.7888 - val_fn: 57.0000 - val_fp: 154.0000 - val_loss: 0.0701 - val_precision: 0.2376 - val_recall: 0.4571 - val_tn: 53143.0000 - val_tp: 48.0000\n",
      "Epoch 45/50\n",
      "\u001b[1m161/161\u001b[0m \u001b[32m━━━━━━━━━━━━━━━━━━━━\u001b[0m\u001b[37m\u001b[0m \u001b[1m0s\u001b[0m 943us/step - accuracy: 0.9992 - auc: 0.9389 - fn: 47.3951 - fp: 9.7901 - loss: 0.0037 - precision: 0.8717 - recall: 0.6187 - tn: 81344.5156 - tp: 82.2901 - val_accuracy: 0.9962 - val_auc: 0.7837 - val_fn: 57.0000 - val_fp: 145.0000 - val_loss: 0.0711 - val_precision: 0.2487 - val_recall: 0.4571 - val_tn: 53152.0000 - val_tp: 48.0000\n",
      "Epoch 46/50\n",
      "\u001b[1m161/161\u001b[0m \u001b[32m━━━━━━━━━━━━━━━━━━━━\u001b[0m\u001b[37m\u001b[0m \u001b[1m0s\u001b[0m 873us/step - accuracy: 0.9992 - auc: 0.9218 - fn: 48.2901 - fp: 9.9815 - loss: 0.0041 - precision: 0.8906 - recall: 0.6498 - tn: 81333.3438 - tp: 92.3704 - val_accuracy: 0.9963 - val_auc: 0.7825 - val_fn: 58.0000 - val_fp: 141.0000 - val_loss: 0.0699 - val_precision: 0.2500 - val_recall: 0.4476 - val_tn: 53156.0000 - val_tp: 47.0000\n",
      "Epoch 47/50\n",
      "\u001b[1m161/161\u001b[0m \u001b[32m━━━━━━━━━━━━━━━━━━━━\u001b[0m\u001b[37m\u001b[0m \u001b[1m0s\u001b[0m 885us/step - accuracy: 0.9993 - auc: 0.9159 - fn: 47.3333 - fp: 11.8148 - loss: 0.0035 - precision: 0.8562 - recall: 0.6205 - tn: 81346.1406 - tp: 78.6975 - val_accuracy: 0.9960 - val_auc: 0.7756 - val_fn: 58.0000 - val_fp: 153.0000 - val_loss: 0.0753 - val_precision: 0.2350 - val_recall: 0.4476 - val_tn: 53144.0000 - val_tp: 47.0000\n",
      "Epoch 48/50\n",
      "\u001b[1m161/161\u001b[0m \u001b[32m━━━━━━━━━━━━━━━━━━━━\u001b[0m\u001b[37m\u001b[0m \u001b[1m0s\u001b[0m 880us/step - accuracy: 0.9993 - auc: 0.9320 - fn: 46.0062 - fp: 10.3395 - loss: 0.0033 - precision: 0.8829 - recall: 0.6183 - tn: 81343.1328 - tp: 84.5062 - val_accuracy: 0.9956 - val_auc: 0.7792 - val_fn: 58.0000 - val_fp: 175.0000 - val_loss: 0.0752 - val_precision: 0.2117 - val_recall: 0.4476 - val_tn: 53122.0000 - val_tp: 47.0000\n",
      "Epoch 49/50\n",
      "\u001b[1m161/161\u001b[0m \u001b[32m━━━━━━━━━━━━━━━━━━━━\u001b[0m\u001b[37m\u001b[0m \u001b[1m0s\u001b[0m 876us/step - accuracy: 0.9993 - auc: 0.9346 - fn: 43.8457 - fp: 11.6420 - loss: 0.0032 - precision: 0.8873 - recall: 0.6733 - tn: 81340.7109 - tp: 87.7901 - val_accuracy: 0.9953 - val_auc: 0.7780 - val_fn: 57.0000 - val_fp: 196.0000 - val_loss: 0.0739 - val_precision: 0.1967 - val_recall: 0.4571 - val_tn: 53101.0000 - val_tp: 48.0000\n",
      "Epoch 50/50\n",
      "\u001b[1m161/161\u001b[0m \u001b[32m━━━━━━━━━━━━━━━━━━━━\u001b[0m\u001b[37m\u001b[0m \u001b[1m0s\u001b[0m 913us/step - accuracy: 0.9993 - auc: 0.9501 - fn: 42.5988 - fp: 10.5679 - loss: 0.0033 - precision: 0.8822 - recall: 0.6488 - tn: 81344.1328 - tp: 86.6914 - val_accuracy: 0.9954 - val_auc: 0.7805 - val_fn: 58.0000 - val_fp: 190.0000 - val_loss: 0.0728 - val_precision: 0.1983 - val_recall: 0.4476 - val_tn: 53107.0000 - val_tp: 47.0000\n"
     ]
    }
   ],
   "source": [
    "training_history = model.fit(\n",
    "    X_train,\n",
    "    y_train,\n",
    "    validation_data=(X_val, y_val),\n",
    "    epochs=epochs,\n",
    "    batch_size=batch_size,\n",
    "    verbose=1\n",
    ")"
   ]
  },
  {
   "cell_type": "markdown",
   "metadata": {},
   "source": [
    "### Model Performance"
   ]
  },
  {
   "cell_type": "markdown",
   "metadata": {},
   "source": [
    "#### Checking Training History"
   ]
  },
  {
   "cell_type": "code",
   "execution_count": 40,
   "metadata": {},
   "outputs": [
    {
     "data": {
      "text/plain": [
       "<Axes: title={'center': 'Loss'}, xlabel='Epoch'>"
      ]
     },
     "execution_count": 40,
     "metadata": {},
     "output_type": "execute_result"
    },
    {
     "data": {
      "image/png": "[encoded data removed]",
      "text/plain": [
       "<Figure size 640x480 with 1 Axes>"
      ]
     },
     "metadata": {},
     "output_type": "display_data"
    }
   ],
   "source": [
    "# Plotting loss\n",
    "loss_df = pd.DataFrame(\n",
    "    {\n",
    "        \"Epoch\": range(1, epochs + 1),\n",
    "        \"Train\": training_history.history[\"loss\"],\n",
    "        \"Val\": training_history.history[\"val_loss\"],\n",
    "    }\n",
    ")\n",
    "loss_df.set_index(\"Epoch\", inplace=True)\n",
    "loss_df.plot(title=\"Loss\")"
   ]
  },
  {
   "cell_type": "code",
   "execution_count": 41,
   "metadata": {},
   "outputs": [
    {
     "data": {
      "text/plain": [
       "<Axes: title={'center': 'Accuracy'}, xlabel='Epoch'>"
      ]
     },
     "execution_count": 41,
     "metadata": {},
     "output_type": "execute_result"
    },
    {
     "data": {
      "image/png": "[encoded data removed]",
      "text/plain": [
       "<Figure size 640x480 with 1 Axes>"
      ]
     },
     "metadata": {},
     "output_type": "display_data"
    }
   ],
   "source": [
    "# Plotting accuracy\n",
    "accuracy_df = pd.DataFrame(\n",
    "    {\n",
    "        \"Epoch\": range(1, epochs + 1),\n",
    "        \"Train\": training_history.history[\"accuracy\"],\n",
    "        \"Val\": training_history.history[\"val_accuracy\"],\n",
    "    }\n",
    ")\n",
    "accuracy_df.set_index(\"Epoch\", inplace=True)\n",
    "accuracy_df.plot(title=\"Accuracy\")"
   ]
  },
  {
   "cell_type": "code",
   "execution_count": 42,
   "metadata": {},
   "outputs": [
    {
     "data": {
      "text/plain": [
       "<Axes: title={'center': 'AUC'}, xlabel='Epoch'>"
      ]
     },
     "execution_count": 42,
     "metadata": {},
     "output_type": "execute_result"
    },
    {
     "data": {
      "image/png": "[encoded data removed]",
      "text/plain": [
       "<Figure size 640x480 with 1 Axes>"
      ]
     },
     "metadata": {},
     "output_type": "display_data"
    }
   ],
   "source": [
    "# Plotting AUC\n",
    "auc_df = pd.DataFrame(\n",
    "    {\n",
    "        \"Epoch\": range(1, epochs + 1),\n",
    "        \"Train\": training_history.history[\"auc\"],\n",
    "        \"Val\": training_history.history[\"val_auc\"],\n",
    "    }\n",
    ")\n",
    "auc_df.set_index(\"Epoch\", inplace=True)\n",
    "auc_df.plot(title=\"AUC\")"
   ]
  },
  {
   "cell_type": "markdown",
   "metadata": {},
   "source": [
    "#### Plotting the ROC Curve"
   ]
  },
  {
   "cell_type": "code",
   "execution_count": 43,
   "metadata": {},
   "outputs": [],
   "source": [
    "# Import the roc_curve and auc metrics from sklearn\n",
    "from sklearn.metrics import roc_curve, auc"
   ]
  },
  {
   "cell_type": "code",
   "execution_count": 44,
   "metadata": {},
   "outputs": [
    {
     "name": "stdout",
     "output_type": "stream",
     "text": [
      "\u001b[1m161/161\u001b[0m \u001b[32m━━━━━━━━━━━━━━━━━━━━\u001b[0m\u001b[37m\u001b[0m \u001b[1m0s\u001b[0m 554us/step\n",
      "\u001b[1m72/72\u001b[0m \u001b[32m━━━━━━━━━━━━━━━━━━━━\u001b[0m\u001b[37m\u001b[0m \u001b[1m0s\u001b[0m 420us/step\n",
      "[[2.8660997e-05]\n",
      " [4.0590203e-05]\n",
      " [8.2041894e-04]\n",
      " ...\n",
      " [9.2463270e-05]\n",
      " [2.1939259e-05]\n",
      " [7.7820602e-07]]\n",
      "[[1.6010746e-02]\n",
      " [6.9932496e-17]\n",
      " [2.8986668e-05]\n",
      " ...\n",
      " [6.3338049e-08]\n",
      " [0.0000000e+00]\n",
      " [7.6408428e-03]]\n"
     ]
    }
   ],
   "source": [
    "# Making predictions to feed the roc_curve module\n",
    "train_predictions= model.predict(X_train, batch_size=1000)\n",
    "test_predictions = model.predict(X_test, batch_size=1000)\n",
    "\n",
    "print(train_predictions)\n",
    "print(test_predictions)"
   ]
  },
  {
   "cell_type": "code",
   "execution_count": 47,
   "metadata": {},
   "outputs": [],
   "source": [
    "# Calculate the ROC curve and AUC for the training set\n",
    "fpr_train, tpr_train, threasold_train = roc_curve(y_train, train_predictions)\n",
    "# Calculate the ROC curve and AUC for the testing set\n",
    "auc_train = auc(fpr_train, tpr_train)\n",
    "auc_train \n",
    "\n",
    "fpr_test, tpr_test, thresholds_test = roc_curve(y_test, test_predictions)\n",
    "auc_test = auc(fpr_test, tpr_test)\n",
    "auc_test = round(auc_test, 4)"
   ]
  },
  {
   "cell_type": "code",
   "execution_count": 49,
   "metadata": {},
   "outputs": [
    {
     "data": {
      "text/html": [
       "<div>\n",
       "<style scoped>\n",
       "    .dataframe tbody tr th:only-of-type {\n",
       "        vertical-align: middle;\n",
       "    }\n",
       "\n",
       "    .dataframe tbody tr th {\n",
       "        vertical-align: top;\n",
       "    }\n",
       "\n",
       "    .dataframe thead th {\n",
       "        text-align: right;\n",
       "    }\n",
       "</style>\n",
       "<table border=\"1\" class=\"dataframe\">\n",
       "  <thead>\n",
       "    <tr style=\"text-align: right;\">\n",
       "      <th></th>\n",
       "      <th>FPR Train</th>\n",
       "      <th>TPR Train</th>\n",
       "    </tr>\n",
       "  </thead>\n",
       "  <tbody>\n",
       "    <tr>\n",
       "      <th>0</th>\n",
       "      <td>0.000000</td>\n",
       "      <td>0.000000</td>\n",
       "    </tr>\n",
       "    <tr>\n",
       "      <th>1</th>\n",
       "      <td>0.000000</td>\n",
       "      <td>0.003891</td>\n",
       "    </tr>\n",
       "    <tr>\n",
       "      <th>2</th>\n",
       "      <td>0.000000</td>\n",
       "      <td>0.023346</td>\n",
       "    </tr>\n",
       "    <tr>\n",
       "      <th>3</th>\n",
       "      <td>0.000000</td>\n",
       "      <td>0.031128</td>\n",
       "    </tr>\n",
       "    <tr>\n",
       "      <th>4</th>\n",
       "      <td>0.000000</td>\n",
       "      <td>0.229572</td>\n",
       "    </tr>\n",
       "    <tr>\n",
       "      <th>...</th>\n",
       "      <td>...</td>\n",
       "      <td>...</td>\n",
       "    </tr>\n",
       "    <tr>\n",
       "      <th>6877</th>\n",
       "      <td>0.992191</td>\n",
       "      <td>1.000000</td>\n",
       "    </tr>\n",
       "    <tr>\n",
       "      <th>6878</th>\n",
       "      <td>0.992204</td>\n",
       "      <td>1.000000</td>\n",
       "    </tr>\n",
       "    <tr>\n",
       "      <th>6879</th>\n",
       "      <td>0.994336</td>\n",
       "      <td>1.000000</td>\n",
       "    </tr>\n",
       "    <tr>\n",
       "      <th>6880</th>\n",
       "      <td>0.994348</td>\n",
       "      <td>1.000000</td>\n",
       "    </tr>\n",
       "    <tr>\n",
       "      <th>6881</th>\n",
       "      <td>1.000000</td>\n",
       "      <td>1.000000</td>\n",
       "    </tr>\n",
       "  </tbody>\n",
       "</table>\n",
       "<p>6882 rows × 2 columns</p>\n",
       "</div>"
      ],
      "text/plain": [
       "      FPR Train  TPR Train\n",
       "0      0.000000   0.000000\n",
       "1      0.000000   0.003891\n",
       "2      0.000000   0.023346\n",
       "3      0.000000   0.031128\n",
       "4      0.000000   0.229572\n",
       "...         ...        ...\n",
       "6877   0.992191   1.000000\n",
       "6878   0.992204   1.000000\n",
       "6879   0.994336   1.000000\n",
       "6880   0.994348   1.000000\n",
       "6881   1.000000   1.000000\n",
       "\n",
       "[6882 rows x 2 columns]"
      ]
     },
     "execution_count": 49,
     "metadata": {},
     "output_type": "execute_result"
    }
   ],
   "source": [
    "# Create a DataFrame with the fpr and tpr results\n",
    "roc_df_train = pd.DataFrame({\"FPR Train\": fpr_train, \"TPR Train\": tpr_train,})\n",
    "\n",
    "roc_df_test = pd.DataFrame({\"FPR Test\": fpr_test, \"TPR Test\": tpr_test,})\n",
    "roc_df_train\n"
   ]
  },
  {
   "cell_type": "code",
   "execution_count": 50,
   "metadata": {},
   "outputs": [
    {
     "data": {
      "text/plain": [
       "<Axes: title={'center': 'Test ROC Curve (AUC=0.7227)'}, xlabel='FPR Test'>"
      ]
     },
     "execution_count": 50,
     "metadata": {},
     "output_type": "execute_result"
    },
    {
     "data": {
      "image/png": "[encoded data removed]",
      "text/plain": [
       "<Figure size 640x480 with 1 Axes>"
      ]
     },
     "metadata": {},
     "output_type": "display_data"
    },
    {
     "data": {
      "image/png": "[encoded data removed]",
      "text/plain": [
       "<Figure size 640x480 with 1 Axes>"
      ]
     },
     "metadata": {},
     "output_type": "display_data"
    }
   ],
   "source": [
    "# Plotting the ROC Curves\n",
    "roc_df_train.plot(\n",
    "    x=\"FPR Train\",\n",
    "    y=\"TPR Train\",\n",
    "    xlim=([-0.05, 1.05]),\n",
    "    title=f\"Train ROC Curve (AUC={auc_train})\",\n",
    ")\n",
    "\n",
    "roc_df_test.plot(\n",
    "    x=\"FPR Test\",\n",
    "    y=\"TPR Test\",\n",
    "    color=\"red\",\n",
    "    style=\"--\",\n",
    "    xlim=([-0.05, 1.05]),\n",
    "    title=f\"Test ROC Curve (AUC={auc_test})\",\n",
    ")\n"
   ]
  },
  {
   "cell_type": "markdown",
   "metadata": {},
   "source": [
    "#### Evaluate the Model"
   ]
  },
  {
   "cell_type": "code",
   "execution_count": null,
   "metadata": {},
   "outputs": [],
   "source": [
    "# Evaluate the model\n",
    "\n",
    "# Define metrics dictionary\n",
    "\n",
    "# Display evaluation metrics results\n"
   ]
  },
  {
   "cell_type": "markdown",
   "metadata": {},
   "source": [
    "#### Classification Report"
   ]
  },
  {
   "cell_type": "code",
   "execution_count": null,
   "metadata": {},
   "outputs": [],
   "source": [
    "# Import the classification_report method from sklearn\n",
    "from sklearn.metrics import classification_report\n",
    "\n",
    "# Predict classes using testing data\n",
    "\n",
    "# Display classification report\n"
   ]
  }
 ],
 "metadata": {
  "file_extension": ".py",
  "kernelspec": {
   "display_name": "Python 3",
   "language": "python",
   "name": "python3"
  },
  "language_info": {
   "codemirror_mode": {
    "name": "ipython",
    "version": 3
   },
   "file_extension": ".py",
   "mimetype": "text/x-python",
   "name": "python",
   "nbconvert_exporter": "python",
   "pygments_lexer": "ipython3",
   "version": "3.10.13"
  },
  "mimetype": "text/x-python",
  "name": "python",
  "npconvert_exporter": "python",
  "pygments_lexer": "ipython3",
  "version": 3
 },
 "nbformat": 4,
 "nbformat_minor": 4
}
