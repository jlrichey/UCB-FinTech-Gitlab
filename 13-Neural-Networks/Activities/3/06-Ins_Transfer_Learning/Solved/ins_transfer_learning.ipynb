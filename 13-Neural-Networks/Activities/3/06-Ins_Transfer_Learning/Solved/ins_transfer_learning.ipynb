{
 "cells": [
  {
   "cell_type": "markdown",
   "id": "c310c97c",
   "metadata": {},
   "source": [
    "# Intro to Transfer Learning"
   ]
  },
  {
   "cell_type": "markdown",
   "id": "7d6cf32b",
   "metadata": {},
   "source": [
    "## Import Packages"
   ]
  },
  {
   "cell_type": "code",
   "execution_count": 1,
   "id": "88c45e9b",
   "metadata": {},
   "outputs": [],
   "source": [
    "import pandas as pd\n",
    "import numpy as np"
   ]
  },
  {
   "cell_type": "code",
   "execution_count": 2,
   "id": "95063f84",
   "metadata": {},
   "outputs": [],
   "source": [
    "from keras.models import Sequential, Model\n",
    "from keras.layers import Dense, Activation, Dropout\n",
    "from sklearn.preprocessing import StandardScaler\n"
   ]
  },
  {
   "cell_type": "markdown",
   "id": "3d83cdbf",
   "metadata": {},
   "source": [
    "## Prepare the Data"
   ]
  },
  {
   "cell_type": "code",
   "execution_count": 3,
   "id": "747b19d0",
   "metadata": {},
   "outputs": [
    {
     "data": {
      "text/html": [
       "<div>\n",
       "<style scoped>\n",
       "    .dataframe tbody tr th:only-of-type {\n",
       "        vertical-align: middle;\n",
       "    }\n",
       "\n",
       "    .dataframe tbody tr th {\n",
       "        vertical-align: top;\n",
       "    }\n",
       "\n",
       "    .dataframe thead th {\n",
       "        text-align: right;\n",
       "    }\n",
       "</style>\n",
       "<table border=\"1\" class=\"dataframe\">\n",
       "  <thead>\n",
       "    <tr style=\"text-align: right;\">\n",
       "      <th></th>\n",
       "      <th>EPS</th>\n",
       "      <th>forecasted_eps</th>\n",
       "      <th>noOfEsts</th>\n",
       "      <th>after_total_returns</th>\n",
       "      <th>before_total_returns</th>\n",
       "    </tr>\n",
       "  </thead>\n",
       "  <tbody>\n",
       "    <tr>\n",
       "      <th>0</th>\n",
       "      <td>2.01</td>\n",
       "      <td>1.67</td>\n",
       "      <td>11</td>\n",
       "      <td>0.051444</td>\n",
       "      <td>0.018585</td>\n",
       "    </tr>\n",
       "    <tr>\n",
       "      <th>1</th>\n",
       "      <td>0.17</td>\n",
       "      <td>0.19</td>\n",
       "      <td>6</td>\n",
       "      <td>0.112955</td>\n",
       "      <td>-0.000510</td>\n",
       "    </tr>\n",
       "    <tr>\n",
       "      <th>2</th>\n",
       "      <td>-0.07</td>\n",
       "      <td>0.14</td>\n",
       "      <td>4</td>\n",
       "      <td>0.077167</td>\n",
       "      <td>-0.046104</td>\n",
       "    </tr>\n",
       "    <tr>\n",
       "      <th>3</th>\n",
       "      <td>0.48</td>\n",
       "      <td>0.51</td>\n",
       "      <td>8</td>\n",
       "      <td>-0.006130</td>\n",
       "      <td>-0.004899</td>\n",
       "    </tr>\n",
       "    <tr>\n",
       "      <th>4</th>\n",
       "      <td>-0.24</td>\n",
       "      <td>-0.27</td>\n",
       "      <td>9</td>\n",
       "      <td>0.089762</td>\n",
       "      <td>-0.025466</td>\n",
       "    </tr>\n",
       "    <tr>\n",
       "      <th>...</th>\n",
       "      <td>...</td>\n",
       "      <td>...</td>\n",
       "      <td>...</td>\n",
       "      <td>...</td>\n",
       "      <td>...</td>\n",
       "    </tr>\n",
       "    <tr>\n",
       "      <th>16834</th>\n",
       "      <td>2.16</td>\n",
       "      <td>0.22</td>\n",
       "      <td>1</td>\n",
       "      <td>-0.011062</td>\n",
       "      <td>-0.041509</td>\n",
       "    </tr>\n",
       "    <tr>\n",
       "      <th>16835</th>\n",
       "      <td>-0.16</td>\n",
       "      <td>-0.20</td>\n",
       "      <td>3</td>\n",
       "      <td>0.322034</td>\n",
       "      <td>-0.040698</td>\n",
       "    </tr>\n",
       "    <tr>\n",
       "      <th>16836</th>\n",
       "      <td>-0.16</td>\n",
       "      <td>-0.15</td>\n",
       "      <td>7</td>\n",
       "      <td>0.101928</td>\n",
       "      <td>0.073204</td>\n",
       "    </tr>\n",
       "    <tr>\n",
       "      <th>16837</th>\n",
       "      <td>-2.58</td>\n",
       "      <td>-3.45</td>\n",
       "      <td>1</td>\n",
       "      <td>0.099432</td>\n",
       "      <td>0.091058</td>\n",
       "    </tr>\n",
       "    <tr>\n",
       "      <th>16838</th>\n",
       "      <td>-0.42</td>\n",
       "      <td>-0.40</td>\n",
       "      <td>3</td>\n",
       "      <td>-0.095618</td>\n",
       "      <td>-0.106033</td>\n",
       "    </tr>\n",
       "  </tbody>\n",
       "</table>\n",
       "<p>16839 rows × 5 columns</p>\n",
       "</div>"
      ],
      "text/plain": [
       "        EPS  forecasted_eps  noOfEsts  after_total_returns  \\\n",
       "0      2.01            1.67        11             0.051444   \n",
       "1      0.17            0.19         6             0.112955   \n",
       "2     -0.07            0.14         4             0.077167   \n",
       "3      0.48            0.51         8            -0.006130   \n",
       "4     -0.24           -0.27         9             0.089762   \n",
       "...     ...             ...       ...                  ...   \n",
       "16834  2.16            0.22         1            -0.011062   \n",
       "16835 -0.16           -0.20         3             0.322034   \n",
       "16836 -0.16           -0.15         7             0.101928   \n",
       "16837 -2.58           -3.45         1             0.099432   \n",
       "16838 -0.42           -0.40         3            -0.095618   \n",
       "\n",
       "       before_total_returns  \n",
       "0                  0.018585  \n",
       "1                 -0.000510  \n",
       "2                 -0.046104  \n",
       "3                 -0.004899  \n",
       "4                 -0.025466  \n",
       "...                     ...  \n",
       "16834             -0.041509  \n",
       "16835             -0.040698  \n",
       "16836              0.073204  \n",
       "16837              0.091058  \n",
       "16838             -0.106033  \n",
       "\n",
       "[16839 rows x 5 columns]"
      ]
     },
     "execution_count": 3,
     "metadata": {},
     "output_type": "execute_result"
    }
   ],
   "source": [
    "df = pd.read_csv('../Resources/meet_or_beat_US.csv')\n",
    "df"
   ]
  },
  {
   "cell_type": "code",
   "execution_count": 4,
   "id": "8cdd6e53",
   "metadata": {},
   "outputs": [],
   "source": [
    "X = df[['EPS','forecasted_eps','noOfEsts','before_total_returns']]\n",
    "y = df[['after_total_returns']]"
   ]
  },
  {
   "cell_type": "code",
   "execution_count": 5,
   "id": "8c5b87b7",
   "metadata": {},
   "outputs": [],
   "source": [
    "# Split into training and testing windows\n",
    "from sklearn.model_selection import train_test_split\n",
    "X_train, X_test, y_train, y_test = train_test_split(X, y, random_state=1)"
   ]
  },
  {
   "cell_type": "code",
   "execution_count": 6,
   "id": "a095b90f",
   "metadata": {},
   "outputs": [],
   "source": [
    "# Create the StandardScaler instance\n",
    "X_scaler = StandardScaler()\n",
    "\n",
    "# Fit the scaler to the features training dataset\n",
    "X_scaler.fit(X_train)\n",
    "\n",
    "# Scale both the training and testing data from the features dataset\n",
    "X_train_scaled = X_scaler.transform(X_train)\n",
    "X_test_scaled = X_scaler.transform(X_test)"
   ]
  },
  {
   "cell_type": "markdown",
   "id": "124174d9",
   "metadata": {},
   "source": [
    "## Build a Model"
   ]
  },
  {
   "cell_type": "code",
   "execution_count": 7,
   "id": "dddd8154",
   "metadata": {},
   "outputs": [
    {
     "name": "stderr",
     "output_type": "stream",
     "text": [
      "c:\\Users\\pablo\\anaconda3\\envs\\dev\\lib\\site-packages\\keras\\src\\layers\\core\\dense.py:85: UserWarning: Do not pass an `input_shape`/`input_dim` argument to a layer. When using Sequential models, prefer using an `Input(shape)` object as the first layer in the model instead.\n",
      "  super().__init__(activity_regularizer=activity_regularizer, **kwargs)\n",
      "c:\\Users\\pablo\\anaconda3\\envs\\dev\\lib\\site-packages\\keras\\src\\layers\\regularization\\dropout.py:42: UserWarning: Do not pass an `input_shape`/`input_dim` argument to a layer. When using Sequential models, prefer using an `Input(shape)` object as the first layer in the model instead.\n",
      "  super().__init__(**kwargs)\n"
     ]
    }
   ],
   "source": [
    "# Define the the number of inputs to the model\n",
    "number_inputs = 4\n",
    "\n",
    "# Define the number of hidden nodes for the first hidden layer\n",
    "hidden_nodes_layer1 = 64\n",
    "\n",
    "# Define the number of hidden nodes for the second hidden layer\n",
    "hidden_nodes_layer2 = 32\n",
    "\n",
    "# Create the Sequential model instance\n",
    "nn = Sequential()\n",
    "\n",
    "# Add the first Dense layer specifying the number of inputs, the number of hidden nodes, and the activation function\n",
    "nn.add(Dense(units=hidden_nodes_layer1, input_dim=number_inputs, activation=\"relu\"))\n",
    "\n",
    "# Add the second Dense layer specifying the number of hidden nodes and the activation function\n",
    "nn.add(Dense(units=hidden_nodes_layer2, activation=\"relu\"))\n",
    "\n",
    "nn.add(Dropout(.2,input_shape=(hidden_nodes_layer2,)))\n",
    "\n",
    "# Add the second Dense layer specifying the number of hidden nodes and the activation function\n",
    "nn.add(Dense(units=24, activation=\"relu\"))\n",
    "\n",
    "nn.add(Dropout(.2,input_shape=(24,)))\n",
    "\n",
    "# Add the second Dense layer specifying the number of hidden nodes and the activation function\n",
    "nn.add(Dense(units=12, activation=\"relu\"))\n",
    "\n",
    "# Add the output layer to the model specifying the number of output neurons and activation function\n",
    "nn.add(Dense(1))"
   ]
  },
  {
   "cell_type": "code",
   "execution_count": 8,
   "id": "6fdc99c9",
   "metadata": {},
   "outputs": [
    {
     "data": {
      "text/html": [
       "<pre style=\"white-space:pre;overflow-x:auto;line-height:normal;font-family:Menlo,'DejaVu Sans Mono',consolas,'Courier New',monospace\"><span style=\"font-weight: bold\">Model: \"sequential\"</span>\n",
       "</pre>\n"
      ],
      "text/plain": [
       "\u001b[1mModel: \"sequential\"\u001b[0m\n"
      ]
     },
     "metadata": {},
     "output_type": "display_data"
    },
    {
     "data": {
      "text/html": [
       "<pre style=\"white-space:pre;overflow-x:auto;line-height:normal;font-family:Menlo,'DejaVu Sans Mono',consolas,'Courier New',monospace\">┏━━━━━━━━━━━━━━━━━━━━━━━━━━━━━━━━━┳━━━━━━━━━━━━━━━━━━━━━━━━┳━━━━━━━━━━━━━━━┓\n",
       "┃<span style=\"font-weight: bold\"> Layer (type)                    </span>┃<span style=\"font-weight: bold\"> Output Shape           </span>┃<span style=\"font-weight: bold\">       Param # </span>┃\n",
       "┡━━━━━━━━━━━━━━━━━━━━━━━━━━━━━━━━━╇━━━━━━━━━━━━━━━━━━━━━━━━╇━━━━━━━━━━━━━━━┩\n",
       "│ dense (<span style=\"color: #0087ff; text-decoration-color: #0087ff\">Dense</span>)                   │ (<span style=\"color: #00d7ff; text-decoration-color: #00d7ff\">None</span>, <span style=\"color: #00af00; text-decoration-color: #00af00\">64</span>)             │           <span style=\"color: #00af00; text-decoration-color: #00af00\">320</span> │\n",
       "├─────────────────────────────────┼────────────────────────┼───────────────┤\n",
       "│ dense_1 (<span style=\"color: #0087ff; text-decoration-color: #0087ff\">Dense</span>)                 │ (<span style=\"color: #00d7ff; text-decoration-color: #00d7ff\">None</span>, <span style=\"color: #00af00; text-decoration-color: #00af00\">32</span>)             │         <span style=\"color: #00af00; text-decoration-color: #00af00\">2,080</span> │\n",
       "├─────────────────────────────────┼────────────────────────┼───────────────┤\n",
       "│ dropout (<span style=\"color: #0087ff; text-decoration-color: #0087ff\">Dropout</span>)               │ (<span style=\"color: #00d7ff; text-decoration-color: #00d7ff\">None</span>, <span style=\"color: #00af00; text-decoration-color: #00af00\">32</span>)             │             <span style=\"color: #00af00; text-decoration-color: #00af00\">0</span> │\n",
       "├─────────────────────────────────┼────────────────────────┼───────────────┤\n",
       "│ dense_2 (<span style=\"color: #0087ff; text-decoration-color: #0087ff\">Dense</span>)                 │ (<span style=\"color: #00d7ff; text-decoration-color: #00d7ff\">None</span>, <span style=\"color: #00af00; text-decoration-color: #00af00\">24</span>)             │           <span style=\"color: #00af00; text-decoration-color: #00af00\">792</span> │\n",
       "├─────────────────────────────────┼────────────────────────┼───────────────┤\n",
       "│ dropout_1 (<span style=\"color: #0087ff; text-decoration-color: #0087ff\">Dropout</span>)             │ (<span style=\"color: #00d7ff; text-decoration-color: #00d7ff\">None</span>, <span style=\"color: #00af00; text-decoration-color: #00af00\">24</span>)             │             <span style=\"color: #00af00; text-decoration-color: #00af00\">0</span> │\n",
       "├─────────────────────────────────┼────────────────────────┼───────────────┤\n",
       "│ dense_3 (<span style=\"color: #0087ff; text-decoration-color: #0087ff\">Dense</span>)                 │ (<span style=\"color: #00d7ff; text-decoration-color: #00d7ff\">None</span>, <span style=\"color: #00af00; text-decoration-color: #00af00\">12</span>)             │           <span style=\"color: #00af00; text-decoration-color: #00af00\">300</span> │\n",
       "├─────────────────────────────────┼────────────────────────┼───────────────┤\n",
       "│ dense_4 (<span style=\"color: #0087ff; text-decoration-color: #0087ff\">Dense</span>)                 │ (<span style=\"color: #00d7ff; text-decoration-color: #00d7ff\">None</span>, <span style=\"color: #00af00; text-decoration-color: #00af00\">1</span>)              │            <span style=\"color: #00af00; text-decoration-color: #00af00\">13</span> │\n",
       "└─────────────────────────────────┴────────────────────────┴───────────────┘\n",
       "</pre>\n"
      ],
      "text/plain": [
       "┏━━━━━━━━━━━━━━━━━━━━━━━━━━━━━━━━━┳━━━━━━━━━━━━━━━━━━━━━━━━┳━━━━━━━━━━━━━━━┓\n",
       "┃\u001b[1m \u001b[0m\u001b[1mLayer (type)                   \u001b[0m\u001b[1m \u001b[0m┃\u001b[1m \u001b[0m\u001b[1mOutput Shape          \u001b[0m\u001b[1m \u001b[0m┃\u001b[1m \u001b[0m\u001b[1m      Param #\u001b[0m\u001b[1m \u001b[0m┃\n",
       "┡━━━━━━━━━━━━━━━━━━━━━━━━━━━━━━━━━╇━━━━━━━━━━━━━━━━━━━━━━━━╇━━━━━━━━━━━━━━━┩\n",
       "│ dense (\u001b[38;5;33mDense\u001b[0m)                   │ (\u001b[38;5;45mNone\u001b[0m, \u001b[38;5;34m64\u001b[0m)             │           \u001b[38;5;34m320\u001b[0m │\n",
       "├─────────────────────────────────┼────────────────────────┼───────────────┤\n",
       "│ dense_1 (\u001b[38;5;33mDense\u001b[0m)                 │ (\u001b[38;5;45mNone\u001b[0m, \u001b[38;5;34m32\u001b[0m)             │         \u001b[38;5;34m2,080\u001b[0m │\n",
       "├─────────────────────────────────┼────────────────────────┼───────────────┤\n",
       "│ dropout (\u001b[38;5;33mDropout\u001b[0m)               │ (\u001b[38;5;45mNone\u001b[0m, \u001b[38;5;34m32\u001b[0m)             │             \u001b[38;5;34m0\u001b[0m │\n",
       "├─────────────────────────────────┼────────────────────────┼───────────────┤\n",
       "│ dense_2 (\u001b[38;5;33mDense\u001b[0m)                 │ (\u001b[38;5;45mNone\u001b[0m, \u001b[38;5;34m24\u001b[0m)             │           \u001b[38;5;34m792\u001b[0m │\n",
       "├─────────────────────────────────┼────────────────────────┼───────────────┤\n",
       "│ dropout_1 (\u001b[38;5;33mDropout\u001b[0m)             │ (\u001b[38;5;45mNone\u001b[0m, \u001b[38;5;34m24\u001b[0m)             │             \u001b[38;5;34m0\u001b[0m │\n",
       "├─────────────────────────────────┼────────────────────────┼───────────────┤\n",
       "│ dense_3 (\u001b[38;5;33mDense\u001b[0m)                 │ (\u001b[38;5;45mNone\u001b[0m, \u001b[38;5;34m12\u001b[0m)             │           \u001b[38;5;34m300\u001b[0m │\n",
       "├─────────────────────────────────┼────────────────────────┼───────────────┤\n",
       "│ dense_4 (\u001b[38;5;33mDense\u001b[0m)                 │ (\u001b[38;5;45mNone\u001b[0m, \u001b[38;5;34m1\u001b[0m)              │            \u001b[38;5;34m13\u001b[0m │\n",
       "└─────────────────────────────────┴────────────────────────┴───────────────┘\n"
      ]
     },
     "metadata": {},
     "output_type": "display_data"
    },
    {
     "data": {
      "text/html": [
       "<pre style=\"white-space:pre;overflow-x:auto;line-height:normal;font-family:Menlo,'DejaVu Sans Mono',consolas,'Courier New',monospace\"><span style=\"font-weight: bold\"> Total params: </span><span style=\"color: #00af00; text-decoration-color: #00af00\">3,505</span> (13.69 KB)\n",
       "</pre>\n"
      ],
      "text/plain": [
       "\u001b[1m Total params: \u001b[0m\u001b[38;5;34m3,505\u001b[0m (13.69 KB)\n"
      ]
     },
     "metadata": {},
     "output_type": "display_data"
    },
    {
     "data": {
      "text/html": [
       "<pre style=\"white-space:pre;overflow-x:auto;line-height:normal;font-family:Menlo,'DejaVu Sans Mono',consolas,'Courier New',monospace\"><span style=\"font-weight: bold\"> Trainable params: </span><span style=\"color: #00af00; text-decoration-color: #00af00\">3,505</span> (13.69 KB)\n",
       "</pre>\n"
      ],
      "text/plain": [
       "\u001b[1m Trainable params: \u001b[0m\u001b[38;5;34m3,505\u001b[0m (13.69 KB)\n"
      ]
     },
     "metadata": {},
     "output_type": "display_data"
    },
    {
     "data": {
      "text/html": [
       "<pre style=\"white-space:pre;overflow-x:auto;line-height:normal;font-family:Menlo,'DejaVu Sans Mono',consolas,'Courier New',monospace\"><span style=\"font-weight: bold\"> Non-trainable params: </span><span style=\"color: #00af00; text-decoration-color: #00af00\">0</span> (0.00 B)\n",
       "</pre>\n"
      ],
      "text/plain": [
       "\u001b[1m Non-trainable params: \u001b[0m\u001b[38;5;34m0\u001b[0m (0.00 B)\n"
      ]
     },
     "metadata": {},
     "output_type": "display_data"
    }
   ],
   "source": [
    "# Summarise the structure of the model\n",
    "nn.summary()"
   ]
  },
  {
   "cell_type": "code",
   "execution_count": 9,
   "id": "b5e096d1",
   "metadata": {},
   "outputs": [],
   "source": [
    "# Compile the Sequential model\n",
    "nn.compile(loss=\"mean_squared_error\", optimizer=\"adam\", metrics=[\"accuracy\"])"
   ]
  },
  {
   "cell_type": "code",
   "execution_count": 10,
   "id": "eff13c13",
   "metadata": {},
   "outputs": [
    {
     "name": "stdout",
     "output_type": "stream",
     "text": [
      "Epoch 1/20\n"
     ]
    },
    {
     "name": "stdout",
     "output_type": "stream",
     "text": [
      "\u001b[1m127/127\u001b[0m \u001b[32m━━━━━━━━━━━━━━━━━━━━\u001b[0m\u001b[37m\u001b[0m \u001b[1m1s\u001b[0m 660us/step - accuracy: 0.0085 - loss: 0.0178\n",
      "Epoch 2/20\n",
      "\u001b[1m127/127\u001b[0m \u001b[32m━━━━━━━━━━━━━━━━━━━━\u001b[0m\u001b[37m\u001b[0m \u001b[1m0s\u001b[0m 538us/step - accuracy: 0.0089 - loss: 0.0194 \n",
      "Epoch 3/20\n",
      "\u001b[1m127/127\u001b[0m \u001b[32m━━━━━━━━━━━━━━━━━━━━\u001b[0m\u001b[37m\u001b[0m \u001b[1m0s\u001b[0m 578us/step - accuracy: 0.0080 - loss: 0.0127\n",
      "Epoch 4/20\n",
      "\u001b[1m127/127\u001b[0m \u001b[32m━━━━━━━━━━━━━━━━━━━━\u001b[0m\u001b[37m\u001b[0m \u001b[1m0s\u001b[0m 550us/step - accuracy: 0.0081 - loss: 0.0128\n",
      "Epoch 5/20\n",
      "\u001b[1m127/127\u001b[0m \u001b[32m━━━━━━━━━━━━━━━━━━━━\u001b[0m\u001b[37m\u001b[0m \u001b[1m0s\u001b[0m 529us/step - accuracy: 0.0079 - loss: 0.0130 \n",
      "Epoch 6/20\n",
      "\u001b[1m127/127\u001b[0m \u001b[32m━━━━━━━━━━━━━━━━━━━━\u001b[0m\u001b[37m\u001b[0m \u001b[1m0s\u001b[0m 550us/step - accuracy: 0.0076 - loss: 0.0124 \n",
      "Epoch 7/20\n",
      "\u001b[1m127/127\u001b[0m \u001b[32m━━━━━━━━━━━━━━━━━━━━\u001b[0m\u001b[37m\u001b[0m \u001b[1m0s\u001b[0m 538us/step - accuracy: 0.0094 - loss: 0.0151 \n",
      "Epoch 8/20\n",
      "\u001b[1m127/127\u001b[0m \u001b[32m━━━━━━━━━━━━━━━━━━━━\u001b[0m\u001b[37m\u001b[0m \u001b[1m0s\u001b[0m 524us/step - accuracy: 0.0082 - loss: 0.0109 \n",
      "Epoch 9/20\n",
      "\u001b[1m127/127\u001b[0m \u001b[32m━━━━━━━━━━━━━━━━━━━━\u001b[0m\u001b[37m\u001b[0m \u001b[1m0s\u001b[0m 516us/step - accuracy: 0.0071 - loss: 0.0102\n",
      "Epoch 10/20\n",
      "\u001b[1m127/127\u001b[0m \u001b[32m━━━━━━━━━━━━━━━━━━━━\u001b[0m\u001b[37m\u001b[0m \u001b[1m0s\u001b[0m 515us/step - accuracy: 0.0077 - loss: 0.0117 \n",
      "Epoch 11/20\n",
      "\u001b[1m127/127\u001b[0m \u001b[32m━━━━━━━━━━━━━━━━━━━━\u001b[0m\u001b[37m\u001b[0m \u001b[1m0s\u001b[0m 532us/step - accuracy: 0.0075 - loss: 0.0196\n",
      "Epoch 12/20\n",
      "\u001b[1m127/127\u001b[0m \u001b[32m━━━━━━━━━━━━━━━━━━━━\u001b[0m\u001b[37m\u001b[0m \u001b[1m0s\u001b[0m 517us/step - accuracy: 0.0074 - loss: 0.0140 \n",
      "Epoch 13/20\n",
      "\u001b[1m127/127\u001b[0m \u001b[32m━━━━━━━━━━━━━━━━━━━━\u001b[0m\u001b[37m\u001b[0m \u001b[1m0s\u001b[0m 527us/step - accuracy: 0.0086 - loss: 0.0119\n",
      "Epoch 14/20\n",
      "\u001b[1m127/127\u001b[0m \u001b[32m━━━━━━━━━━━━━━━━━━━━\u001b[0m\u001b[37m\u001b[0m \u001b[1m0s\u001b[0m 527us/step - accuracy: 0.0073 - loss: 0.0132 \n",
      "Epoch 15/20\n",
      "\u001b[1m127/127\u001b[0m \u001b[32m━━━━━━━━━━━━━━━━━━━━\u001b[0m\u001b[37m\u001b[0m \u001b[1m0s\u001b[0m 505us/step - accuracy: 0.0076 - loss: 0.0115 \n",
      "Epoch 16/20\n",
      "\u001b[1m127/127\u001b[0m \u001b[32m━━━━━━━━━━━━━━━━━━━━\u001b[0m\u001b[37m\u001b[0m \u001b[1m0s\u001b[0m 529us/step - accuracy: 0.0085 - loss: 0.0165 \n",
      "Epoch 17/20\n",
      "\u001b[1m127/127\u001b[0m \u001b[32m━━━━━━━━━━━━━━━━━━━━\u001b[0m\u001b[37m\u001b[0m \u001b[1m0s\u001b[0m 520us/step - accuracy: 0.0073 - loss: 0.0144 \n",
      "Epoch 18/20\n",
      "\u001b[1m127/127\u001b[0m \u001b[32m━━━━━━━━━━━━━━━━━━━━\u001b[0m\u001b[37m\u001b[0m \u001b[1m0s\u001b[0m 521us/step - accuracy: 0.0087 - loss: 0.0140 \n",
      "Epoch 19/20\n",
      "\u001b[1m127/127\u001b[0m \u001b[32m━━━━━━━━━━━━━━━━━━━━\u001b[0m\u001b[37m\u001b[0m \u001b[1m0s\u001b[0m 536us/step - accuracy: 0.0093 - loss: 0.0152\n",
      "Epoch 20/20\n",
      "\u001b[1m127/127\u001b[0m \u001b[32m━━━━━━━━━━━━━━━━━━━━\u001b[0m\u001b[37m\u001b[0m \u001b[1m0s\u001b[0m 525us/step - accuracy: 0.0070 - loss: 0.0209\n"
     ]
    },
    {
     "data": {
      "text/plain": [
       "<keras.src.callbacks.history.History at 0x1e33e067d60>"
      ]
     },
     "execution_count": 10,
     "metadata": {},
     "output_type": "execute_result"
    }
   ],
   "source": [
    "# Fit the model\n",
    "nn.fit(X_train_scaled,y_train, \n",
    "                    epochs=20,\n",
    "                    batch_size=100,\n",
    "                    shuffle=True)"
   ]
  },
  {
   "cell_type": "code",
   "execution_count": 11,
   "id": "3e38a71f",
   "metadata": {},
   "outputs": [
    {
     "name": "stdout",
     "output_type": "stream",
     "text": [
      "132/132 - 0s - 791us/step - accuracy: 0.0057 - loss: 0.0094\n",
      "Loss: 0.009356185793876648, Accuracy: 0.0057007125578820705\n"
     ]
    }
   ],
   "source": [
    "# Evaluate the model loss and accuracy metrics using the evaluate method and the test data\n",
    "model_loss, model_accuracy = nn.evaluate(X_test_scaled, y_test, verbose=2)\n",
    "\n",
    "# Display the evaluation results\n",
    "print(f\"Loss: {model_loss}, Accuracy: {model_accuracy}\")"
   ]
  },
  {
   "cell_type": "markdown",
   "id": "1ab6a286",
   "metadata": {},
   "source": [
    "## Save the Model and its Weights"
   ]
  },
  {
   "cell_type": "code",
   "execution_count": 12,
   "id": "27cfae4a",
   "metadata": {},
   "outputs": [],
   "source": [
    "# Save model as JSON\n",
    "nn_json = nn.to_json()\n",
    "\n",
    "file_path = (\"../Resources/model.json\")\n",
    "with open(file_path, \"w\") as json_file:\n",
    "    json_file.write(nn_json)"
   ]
  },
  {
   "cell_type": "code",
   "execution_count": 13,
   "id": "ef504dd3",
   "metadata": {},
   "outputs": [
    {
     "ename": "ValueError",
     "evalue": "The filename must end in `.weights.h5`. Received: filepath=../Resources/model.h5",
     "output_type": "error",
     "traceback": [
      "\u001b[1;31m---------------------------------------------------------------------------\u001b[0m",
      "\u001b[1;31mValueError\u001b[0m                                Traceback (most recent call last)",
      "Cell \u001b[1;32mIn[13], line 3\u001b[0m\n\u001b[0;32m      1\u001b[0m \u001b[38;5;66;03m# Save weights\u001b[39;00m\n\u001b[0;32m      2\u001b[0m file_path \u001b[38;5;241m=\u001b[39m \u001b[38;5;124m\"\u001b[39m\u001b[38;5;124m../Resources/model.h5\u001b[39m\u001b[38;5;124m\"\u001b[39m\n\u001b[1;32m----> 3\u001b[0m \u001b[43mnn\u001b[49m\u001b[38;5;241;43m.\u001b[39;49m\u001b[43msave_weights\u001b[49m\u001b[43m(\u001b[49m\u001b[43mfile_path\u001b[49m\u001b[43m)\u001b[49m\n",
      "File \u001b[1;32mc:\\Users\\pablo\\anaconda3\\envs\\dev\\lib\\site-packages\\keras\\src\\utils\\traceback_utils.py:123\u001b[0m, in \u001b[0;36mfilter_traceback.<locals>.error_handler\u001b[1;34m(*args, **kwargs)\u001b[0m\n\u001b[0;32m    120\u001b[0m     filtered_tb \u001b[38;5;241m=\u001b[39m _process_traceback_frames(e\u001b[38;5;241m.\u001b[39m__traceback__)\n\u001b[0;32m    121\u001b[0m     \u001b[38;5;66;03m# To get the full stack trace, call:\u001b[39;00m\n\u001b[0;32m    122\u001b[0m     \u001b[38;5;66;03m# `keras.config.disable_traceback_filtering()`\u001b[39;00m\n\u001b[1;32m--> 123\u001b[0m     \u001b[38;5;28;01mraise\u001b[39;00m e\u001b[38;5;241m.\u001b[39mwith_traceback(filtered_tb) \u001b[38;5;28;01mfrom\u001b[39;00m \u001b[38;5;28;01mNone\u001b[39;00m\n\u001b[0;32m    124\u001b[0m \u001b[38;5;28;01mfinally\u001b[39;00m:\n\u001b[0;32m    125\u001b[0m     \u001b[38;5;28;01mdel\u001b[39;00m filtered_tb\n",
      "File \u001b[1;32mc:\\Users\\pablo\\anaconda3\\envs\\dev\\lib\\site-packages\\keras\\src\\models\\model.py:319\u001b[0m, in \u001b[0;36mModel.save_weights\u001b[1;34m(self, filepath, overwrite)\u001b[0m\n\u001b[0;32m    309\u001b[0m \u001b[38;5;250m\u001b[39m\u001b[38;5;124;03m\"\"\"Saves all layer weights to a `.weights.h5` file.\u001b[39;00m\n\u001b[0;32m    310\u001b[0m \n\u001b[0;32m    311\u001b[0m \u001b[38;5;124;03mArgs:\u001b[39;00m\n\u001b[1;32m   (...)\u001b[0m\n\u001b[0;32m    316\u001b[0m \u001b[38;5;124;03m        via an interactive prompt.\u001b[39;00m\n\u001b[0;32m    317\u001b[0m \u001b[38;5;124;03m\"\"\"\u001b[39;00m\n\u001b[0;32m    318\u001b[0m \u001b[38;5;28;01mif\u001b[39;00m \u001b[38;5;129;01mnot\u001b[39;00m \u001b[38;5;28mstr\u001b[39m(filepath)\u001b[38;5;241m.\u001b[39mendswith(\u001b[38;5;124m\"\u001b[39m\u001b[38;5;124m.weights.h5\u001b[39m\u001b[38;5;124m\"\u001b[39m):\n\u001b[1;32m--> 319\u001b[0m     \u001b[38;5;28;01mraise\u001b[39;00m \u001b[38;5;167;01mValueError\u001b[39;00m(\n\u001b[0;32m    320\u001b[0m         \u001b[38;5;124m\"\u001b[39m\u001b[38;5;124mThe filename must end in `.weights.h5`. \u001b[39m\u001b[38;5;124m\"\u001b[39m\n\u001b[0;32m    321\u001b[0m         \u001b[38;5;124mf\u001b[39m\u001b[38;5;124m\"\u001b[39m\u001b[38;5;124mReceived: filepath=\u001b[39m\u001b[38;5;132;01m{\u001b[39;00mfilepath\u001b[38;5;132;01m}\u001b[39;00m\u001b[38;5;124m\"\u001b[39m\n\u001b[0;32m    322\u001b[0m     )\n\u001b[0;32m    323\u001b[0m \u001b[38;5;28;01mtry\u001b[39;00m:\n\u001b[0;32m    324\u001b[0m     exists \u001b[38;5;241m=\u001b[39m os\u001b[38;5;241m.\u001b[39mpath\u001b[38;5;241m.\u001b[39mexists(filepath)\n",
      "\u001b[1;31mValueError\u001b[0m: The filename must end in `.weights.h5`. Received: filepath=../Resources/model.h5"
     ]
    }
   ],
   "source": [
    "# Save weights\n",
    "file_path = \"../Resources/model.h5\"\n",
    "nn.save_weights(file_path)"
   ]
  },
  {
   "cell_type": "markdown",
   "id": "ca0b66b8",
   "metadata": {},
   "source": [
    "## Read in the Model with Weights"
   ]
  },
  {
   "cell_type": "code",
   "execution_count": null,
   "id": "8f604dbc",
   "metadata": {},
   "outputs": [],
   "source": [
    "#Imports\n",
    "from tensorflow.keras.models import model_from_json\n",
    "\n",
    "# load json and create model\n",
    "file_path = (\"../Resources/model.json\")\n",
    "with open(\"../Resources/model.json\", \"r\") as json_file:\n",
    "    model_json = json_file.read()\n",
    "loaded_model = model_from_json(model_json)\n",
    "\n",
    "# load weights into new model\n",
    "file_path = \"../Resources/model.h5\"\n",
    "loaded_model.load_weights(file_path)"
   ]
  },
  {
   "cell_type": "code",
   "execution_count": null,
   "id": "280e85eb",
   "metadata": {
    "scrolled": true
   },
   "outputs": [
    {
     "data": {
      "text/plain": [
       "[<keras.layers.core.dense.Dense at 0x28a625fd0>,\n",
       " <keras.layers.core.dense.Dense at 0x28a632250>,\n",
       " <keras.layers.core.dropout.Dropout at 0x28a639fa0>,\n",
       " <keras.layers.core.dense.Dense at 0x28a647850>,\n",
       " <keras.layers.core.dropout.Dropout at 0x28a64e490>,\n",
       " <keras.layers.core.dense.Dense at 0x28a6473a0>,\n",
       " <keras.layers.core.dense.Dense at 0x28a653c40>]"
      ]
     },
     "execution_count": 15,
     "metadata": {},
     "output_type": "execute_result"
    }
   ],
   "source": [
    "# The `layers` attribute stores the various layers in the model as a list\n",
    "loaded_model.layers"
   ]
  },
  {
   "cell_type": "markdown",
   "id": "e494b33c",
   "metadata": {},
   "source": [
    "## Read in New Data and Work with Previously Saved Model"
   ]
  },
  {
   "cell_type": "code",
   "execution_count": null,
   "id": "1dec06a2",
   "metadata": {},
   "outputs": [
    {
     "data": {
      "text/html": [
       "<div>\n",
       "<style scoped>\n",
       "    .dataframe tbody tr th:only-of-type {\n",
       "        vertical-align: middle;\n",
       "    }\n",
       "\n",
       "    .dataframe tbody tr th {\n",
       "        vertical-align: top;\n",
       "    }\n",
       "\n",
       "    .dataframe thead th {\n",
       "        text-align: right;\n",
       "    }\n",
       "</style>\n",
       "<table border=\"1\" class=\"dataframe\">\n",
       "  <thead>\n",
       "    <tr style=\"text-align: right;\">\n",
       "      <th></th>\n",
       "      <th>EPS</th>\n",
       "      <th>forecasted_eps</th>\n",
       "      <th>noOfEsts</th>\n",
       "      <th>before_total_returns</th>\n",
       "    </tr>\n",
       "  </thead>\n",
       "  <tbody>\n",
       "    <tr>\n",
       "      <th>0</th>\n",
       "      <td>3.83</td>\n",
       "      <td>3.72</td>\n",
       "      <td>11</td>\n",
       "      <td>-0.088042</td>\n",
       "    </tr>\n",
       "    <tr>\n",
       "      <th>1</th>\n",
       "      <td>-2.14</td>\n",
       "      <td>-2.12</td>\n",
       "      <td>1</td>\n",
       "      <td>-0.108000</td>\n",
       "    </tr>\n",
       "    <tr>\n",
       "      <th>2</th>\n",
       "      <td>0.58</td>\n",
       "      <td>0.41</td>\n",
       "      <td>10</td>\n",
       "      <td>-0.218316</td>\n",
       "    </tr>\n",
       "    <tr>\n",
       "      <th>3</th>\n",
       "      <td>0.11</td>\n",
       "      <td>0.05</td>\n",
       "      <td>2</td>\n",
       "      <td>0.044483</td>\n",
       "    </tr>\n",
       "    <tr>\n",
       "      <th>4</th>\n",
       "      <td>-0.01</td>\n",
       "      <td>0.01</td>\n",
       "      <td>1</td>\n",
       "      <td>-0.238274</td>\n",
       "    </tr>\n",
       "  </tbody>\n",
       "</table>\n",
       "</div>"
      ],
      "text/plain": [
       "    EPS  forecasted_eps  noOfEsts  before_total_returns\n",
       "0  3.83            3.72        11             -0.088042\n",
       "1 -2.14           -2.12         1             -0.108000\n",
       "2  0.58            0.41        10             -0.218316\n",
       "3  0.11            0.05         2              0.044483\n",
       "4 -0.01            0.01         1             -0.238274"
      ]
     },
     "execution_count": 16,
     "metadata": {},
     "output_type": "execute_result"
    }
   ],
   "source": [
    "# Load in some new data\n",
    "X = pd.read_csv('../Resources/meet_or_beat_US_new_data.csv')\n",
    "X.head()"
   ]
  },
  {
   "cell_type": "code",
   "execution_count": null,
   "id": "546a86c3",
   "metadata": {},
   "outputs": [
    {
     "name": "stderr",
     "output_type": "stream",
     "text": [
      "2022-03-15 21:09:37.255695: I tensorflow/core/grappler/optimizers/custom_graph_optimizer_registry.cc:113] Plugin optimizer for device_type GPU is enabled.\n"
     ]
    },
    {
     "data": {
      "text/plain": [
       "array([[0.02625941],\n",
       "       [0.03529102],\n",
       "       [0.0274414 ],\n",
       "       ...,\n",
       "       [0.0176152 ],\n",
       "       [0.02758233],\n",
       "       [0.01421257]], dtype=float32)"
      ]
     },
     "execution_count": 17,
     "metadata": {},
     "output_type": "execute_result"
    }
   ],
   "source": [
    "new_predictions = loaded_model.predict(X)\n",
    "new_predictions"
   ]
  },
  {
   "cell_type": "code",
   "execution_count": null,
   "id": "6ad02224",
   "metadata": {},
   "outputs": [
    {
     "data": {
      "text/html": [
       "<div>\n",
       "<style scoped>\n",
       "    .dataframe tbody tr th:only-of-type {\n",
       "        vertical-align: middle;\n",
       "    }\n",
       "\n",
       "    .dataframe tbody tr th {\n",
       "        vertical-align: top;\n",
       "    }\n",
       "\n",
       "    .dataframe thead th {\n",
       "        text-align: right;\n",
       "    }\n",
       "</style>\n",
       "<table border=\"1\" class=\"dataframe\">\n",
       "  <thead>\n",
       "    <tr style=\"text-align: right;\">\n",
       "      <th></th>\n",
       "      <th>EPS</th>\n",
       "      <th>forecasted_eps</th>\n",
       "      <th>noOfEsts</th>\n",
       "      <th>after_total_returns</th>\n",
       "      <th>before_total_returns</th>\n",
       "    </tr>\n",
       "  </thead>\n",
       "  <tbody>\n",
       "    <tr>\n",
       "      <th>0</th>\n",
       "      <td>0.02</td>\n",
       "      <td>0.11</td>\n",
       "      <td>1</td>\n",
       "      <td>-0.065574</td>\n",
       "      <td>0.026369</td>\n",
       "    </tr>\n",
       "    <tr>\n",
       "      <th>1</th>\n",
       "      <td>0.07</td>\n",
       "      <td>0.01</td>\n",
       "      <td>1</td>\n",
       "      <td>-0.079787</td>\n",
       "      <td>0.233333</td>\n",
       "    </tr>\n",
       "    <tr>\n",
       "      <th>2</th>\n",
       "      <td>0.25</td>\n",
       "      <td>0.19</td>\n",
       "      <td>2</td>\n",
       "      <td>0.057402</td>\n",
       "      <td>0.001473</td>\n",
       "    </tr>\n",
       "    <tr>\n",
       "      <th>3</th>\n",
       "      <td>0.08</td>\n",
       "      <td>0.03</td>\n",
       "      <td>1</td>\n",
       "      <td>0.008572</td>\n",
       "      <td>0.217857</td>\n",
       "    </tr>\n",
       "    <tr>\n",
       "      <th>4</th>\n",
       "      <td>-0.18</td>\n",
       "      <td>-0.14</td>\n",
       "      <td>1</td>\n",
       "      <td>0.080547</td>\n",
       "      <td>-0.002414</td>\n",
       "    </tr>\n",
       "  </tbody>\n",
       "</table>\n",
       "</div>"
      ],
      "text/plain": [
       "    EPS  forecasted_eps  noOfEsts  after_total_returns  before_total_returns\n",
       "0  0.02            0.11         1            -0.065574              0.026369\n",
       "1  0.07            0.01         1            -0.079787              0.233333\n",
       "2  0.25            0.19         2             0.057402              0.001473\n",
       "3  0.08            0.03         1             0.008572              0.217857\n",
       "4 -0.18           -0.14         1             0.080547             -0.002414"
      ]
     },
     "execution_count": 18,
     "metadata": {},
     "output_type": "execute_result"
    }
   ],
   "source": [
    "new_data = pd.read_csv('../Resources/meet_or_beat_AU.csv')\n",
    "new_data.head()"
   ]
  },
  {
   "cell_type": "code",
   "execution_count": null,
   "id": "0ea6f869",
   "metadata": {},
   "outputs": [],
   "source": [
    "# Split into training and testing windows\n",
    "from sklearn.model_selection import train_test_split\n",
    "\n",
    "y_var = 'after_total_returns'\n",
    "x_vars = list(new_data.columns)\n",
    "x_vars.remove(y_var)\n",
    "\n",
    "X_train, X_test, y_train, y_test = train_test_split(new_data[x_vars], new_data[y_var], random_state=1)\n",
    "\n",
    "# Create the StandardScaler instance\n",
    "X_scaler = StandardScaler()\n",
    "\n",
    "# Fit the scaler to the features training dataset\n",
    "X_scaler.fit(X_train)\n",
    "\n",
    "# Scale both the training and testing data from the features dataset\n",
    "X_train_scaled = X_scaler.transform(X_train)\n",
    "X_test_scaled = X_scaler.transform(X_test)"
   ]
  },
  {
   "cell_type": "markdown",
   "id": "72dfed42",
   "metadata": {},
   "source": [
    "## Freeze Layers"
   ]
  },
  {
   "cell_type": "code",
   "execution_count": null,
   "id": "78a4645c",
   "metadata": {},
   "outputs": [],
   "source": [
    "# Freeze the existing layers of the loaded model\n",
    "for layer in loaded_model.layers[0:-1]:\n",
    "    layer.trainable = False"
   ]
  },
  {
   "cell_type": "code",
   "execution_count": null,
   "id": "3114e5f6",
   "metadata": {},
   "outputs": [
    {
     "name": "stdout",
     "output_type": "stream",
     "text": [
      "Model: \"sequential\"\n",
      "_________________________________________________________________\n",
      " Layer (type)                Output Shape              Param #   \n",
      "=================================================================\n",
      " dense (Dense)               (None, 64)                320       \n",
      "                                                                 \n",
      " dense_1 (Dense)             (None, 32)                2080      \n",
      "                                                                 \n",
      " dropout (Dropout)           (None, 32)                0         \n",
      "                                                                 \n",
      " dense_2 (Dense)             (None, 24)                792       \n",
      "                                                                 \n",
      " dropout_1 (Dropout)         (None, 24)                0         \n",
      "                                                                 \n",
      " dense_3 (Dense)             (None, 12)                300       \n",
      "                                                                 \n",
      " dense_4 (Dense)             (None, 1)                 13        \n",
      "                                                                 \n",
      "=================================================================\n",
      "Total params: 3,505\n",
      "Trainable params: 13\n",
      "Non-trainable params: 3,492\n",
      "_________________________________________________________________\n"
     ]
    }
   ],
   "source": [
    "loaded_model.summary()"
   ]
  },
  {
   "cell_type": "markdown",
   "id": "c4811f29",
   "metadata": {},
   "source": [
    "## Add New Layers to Existing Model"
   ]
  },
  {
   "cell_type": "code",
   "execution_count": null,
   "id": "10bbe5fa",
   "metadata": {},
   "outputs": [],
   "source": [
    "# Create a new DNN to hold the old one\n",
    "transfer_model = Sequential()\n",
    "# Go through each layer, skipping the last layer\n",
    "for layer in loaded_model.layers[:-1]: \n",
    "    transfer_model.add(layer)"
   ]
  },
  {
   "cell_type": "code",
   "execution_count": null,
   "id": "987a365a",
   "metadata": {},
   "outputs": [
    {
     "name": "stdout",
     "output_type": "stream",
     "text": [
      "Model: \"sequential_1\"\n",
      "_________________________________________________________________\n",
      " Layer (type)                Output Shape              Param #   \n",
      "=================================================================\n",
      " dense (Dense)               (None, 64)                320       \n",
      "                                                                 \n",
      " dense_1 (Dense)             (None, 32)                2080      \n",
      "                                                                 \n",
      " dropout (Dropout)           (None, 32)                0         \n",
      "                                                                 \n",
      " dense_2 (Dense)             (None, 24)                792       \n",
      "                                                                 \n",
      " dropout_1 (Dropout)         (None, 24)                0         \n",
      "                                                                 \n",
      " dense_3 (Dense)             (None, 12)                300       \n",
      "                                                                 \n",
      "=================================================================\n",
      "Total params: 3,492\n",
      "Trainable params: 0\n",
      "Non-trainable params: 3,492\n",
      "_________________________________________________________________\n"
     ]
    }
   ],
   "source": [
    "transfer_model.summary()"
   ]
  },
  {
   "cell_type": "code",
   "execution_count": null,
   "id": "166934d8",
   "metadata": {},
   "outputs": [],
   "source": [
    "# Add an additional layer\n",
    "transfer_model.add(Dense(10, activation=\"relu\"))\n",
    "# Add the final output layer\n",
    "transfer_model.add(Dense(1))"
   ]
  },
  {
   "cell_type": "code",
   "execution_count": null,
   "id": "98afd678",
   "metadata": {
    "scrolled": false
   },
   "outputs": [
    {
     "name": "stdout",
     "output_type": "stream",
     "text": [
      "Model: \"sequential_1\"\n",
      "_________________________________________________________________\n",
      " Layer (type)                Output Shape              Param #   \n",
      "=================================================================\n",
      " dense (Dense)               (None, 64)                320       \n",
      "                                                                 \n",
      " dense_1 (Dense)             (None, 32)                2080      \n",
      "                                                                 \n",
      " dropout (Dropout)           (None, 32)                0         \n",
      "                                                                 \n",
      " dense_2 (Dense)             (None, 24)                792       \n",
      "                                                                 \n",
      " dropout_1 (Dropout)         (None, 24)                0         \n",
      "                                                                 \n",
      " dense_3 (Dense)             (None, 12)                300       \n",
      "                                                                 \n",
      " dense_5 (Dense)             (None, 10)                130       \n",
      "                                                                 \n",
      " dense_6 (Dense)             (None, 1)                 11        \n",
      "                                                                 \n",
      "=================================================================\n",
      "Total params: 3,633\n",
      "Trainable params: 141\n",
      "Non-trainable params: 3,492\n",
      "_________________________________________________________________\n"
     ]
    }
   ],
   "source": [
    "transfer_model.summary()"
   ]
  },
  {
   "cell_type": "markdown",
   "id": "244936d5",
   "metadata": {},
   "source": [
    "## Fit the Revised Model"
   ]
  },
  {
   "cell_type": "code",
   "execution_count": null,
   "id": "6d281104",
   "metadata": {},
   "outputs": [],
   "source": [
    "# Compile the Sequential model\n",
    "transfer_model.compile(loss=\"mean_absolute_error\", optimizer=\"adam\", metrics=[\"accuracy\"])"
   ]
  },
  {
   "cell_type": "code",
   "execution_count": null,
   "id": "873a7427",
   "metadata": {},
   "outputs": [
    {
     "name": "stdout",
     "output_type": "stream",
     "text": [
      "Epoch 1/20\n",
      "22/41 [===============>..............] - ETA: 0s - loss: 0.0640 - accuracy: 0.0027  "
     ]
    },
    {
     "name": "stderr",
     "output_type": "stream",
     "text": [
      "2022-03-15 21:09:37.571670: I tensorflow/core/grappler/optimizers/custom_graph_optimizer_registry.cc:113] Plugin optimizer for device_type GPU is enabled.\n"
     ]
    },
    {
     "name": "stdout",
     "output_type": "stream",
     "text": [
      "41/41 [==============================] - 0s 5ms/step - loss: 0.0637 - accuracy: 0.0049\n",
      "Epoch 2/20\n",
      "41/41 [==============================] - 0s 5ms/step - loss: 0.0629 - accuracy: 0.0049\n",
      "Epoch 3/20\n",
      "41/41 [==============================] - 0s 5ms/step - loss: 0.0624 - accuracy: 0.0049\n",
      "Epoch 4/20\n",
      "41/41 [==============================] - 0s 5ms/step - loss: 0.0623 - accuracy: 0.0049\n",
      "Epoch 5/20\n",
      "41/41 [==============================] - 0s 5ms/step - loss: 0.0623 - accuracy: 0.0049\n",
      "Epoch 6/20\n",
      "41/41 [==============================] - 0s 5ms/step - loss: 0.0628 - accuracy: 0.0049\n",
      "Epoch 7/20\n",
      "41/41 [==============================] - 0s 5ms/step - loss: 0.0628 - accuracy: 0.0049\n",
      "Epoch 8/20\n",
      "41/41 [==============================] - 0s 5ms/step - loss: 0.0628 - accuracy: 0.0049\n",
      "Epoch 9/20\n",
      "41/41 [==============================] - 0s 5ms/step - loss: 0.0623 - accuracy: 0.0049\n",
      "Epoch 10/20\n",
      "41/41 [==============================] - 0s 5ms/step - loss: 0.0622 - accuracy: 0.0049\n",
      "Epoch 11/20\n",
      "41/41 [==============================] - 0s 5ms/step - loss: 0.0624 - accuracy: 0.0049\n",
      "Epoch 12/20\n",
      "41/41 [==============================] - 0s 5ms/step - loss: 0.0624 - accuracy: 0.0049\n",
      "Epoch 13/20\n",
      "41/41 [==============================] - 0s 5ms/step - loss: 0.0621 - accuracy: 0.0049\n",
      "Epoch 14/20\n",
      "41/41 [==============================] - 0s 5ms/step - loss: 0.0621 - accuracy: 0.0049\n",
      "Epoch 15/20\n",
      "41/41 [==============================] - 0s 5ms/step - loss: 0.0623 - accuracy: 0.0049\n",
      "Epoch 16/20\n",
      "41/41 [==============================] - 0s 5ms/step - loss: 0.0622 - accuracy: 0.0049\n",
      "Epoch 17/20\n",
      "41/41 [==============================] - 0s 5ms/step - loss: 0.0623 - accuracy: 0.0049\n",
      "Epoch 18/20\n",
      "41/41 [==============================] - 0s 5ms/step - loss: 0.0622 - accuracy: 0.0049\n",
      "Epoch 19/20\n",
      "41/41 [==============================] - 0s 5ms/step - loss: 0.0621 - accuracy: 0.0049\n",
      "Epoch 20/20\n",
      "41/41 [==============================] - 0s 5ms/step - loss: 0.0621 - accuracy: 0.0049\n"
     ]
    },
    {
     "data": {
      "text/plain": [
       "<keras.callbacks.History at 0x28a6c6670>"
      ]
     },
     "execution_count": 27,
     "metadata": {},
     "output_type": "execute_result"
    }
   ],
   "source": [
    "# Fit the model\n",
    "transfer_model.fit(X_train_scaled,y_train, \n",
    "                    epochs=20,\n",
    "                    batch_size=100,\n",
    "                    shuffle=True)"
   ]
  },
  {
   "cell_type": "code",
   "execution_count": null,
   "id": "298b8730",
   "metadata": {},
   "outputs": [
    {
     "name": "stdout",
     "output_type": "stream",
     "text": [
      "43/43 - 0s - loss: 0.0086 - accuracy: 0.0073 - 185ms/epoch - 4ms/step\n",
      "Loss: 0.008577074855566025, Accuracy: 0.007342143915593624\n"
     ]
    },
    {
     "name": "stderr",
     "output_type": "stream",
     "text": [
      "2022-03-15 21:09:41.721737: I tensorflow/core/grappler/optimizers/custom_graph_optimizer_registry.cc:113] Plugin optimizer for device_type GPU is enabled.\n"
     ]
    }
   ],
   "source": [
    "# Evaluate the model loss and accuracy metrics using the evaluate method and the test data\n",
    "model_loss, model_accuracy = nn.evaluate(X_test_scaled, y_test, verbose=2)\n",
    "\n",
    "# Display the evaluation results\n",
    "print(f\"Loss: {model_loss}, Accuracy: {model_accuracy}\")"
   ]
  },
  {
   "cell_type": "code",
   "execution_count": null,
   "id": "b2f475b6",
   "metadata": {},
   "outputs": [],
   "source": []
  }
 ],
 "metadata": {
  "kernelspec": {
   "display_name": "Python 3 (ipykernel)",
   "language": "python",
   "name": "python3"
  },
  "language_info": {
   "codemirror_mode": {
    "name": "ipython",
    "version": 3
   },
   "file_extension": ".py",
   "mimetype": "text/x-python",
   "name": "python",
   "nbconvert_exporter": "python",
   "pygments_lexer": "ipython3",
   "version": "3.10.13"
  }
 },
 "nbformat": 4,
 "nbformat_minor": 5
}
