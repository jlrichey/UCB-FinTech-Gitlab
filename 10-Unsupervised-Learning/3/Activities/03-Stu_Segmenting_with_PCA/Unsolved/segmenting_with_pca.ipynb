{
 "cells": [
  {
   "cell_type": "markdown",
   "metadata": {},
   "source": [
    "# Segmenting with PCA\n",
    "\n",
    "In this activity, you will use your knowledge of PCA to reduce the dimensionality of the the customers DataFrame you used before, and then compare that result to the segmentation of the data using all of the factors."
   ]
  },
  {
   "cell_type": "code",
   "execution_count": 1,
   "metadata": {},
   "outputs": [
    {
     "data": {
      "application/javascript": "(function(root) {\n  function now() {\n    return new Date();\n  }\n\n  var force = true;\n  var py_version = '3.3.4'.replace('rc', '-rc.').replace('.dev', '-dev.');\n  var reloading = false;\n  var Bokeh = root.Bokeh;\n\n  if (typeof (root._bokeh_timeout) === \"undefined\" || force) {\n    root._bokeh_timeout = Date.now() + 5000;\n    root._bokeh_failed_load = false;\n  }\n\n  function run_callbacks() {\n    try {\n      root._bokeh_onload_callbacks.forEach(function(callback) {\n        if (callback != null)\n          callback();\n      });\n    } finally {\n      delete root._bokeh_onload_callbacks;\n    }\n    console.debug(\"Bokeh: all callbacks have finished\");\n  }\n\n  function load_libs(css_urls, js_urls, js_modules, js_exports, callback) {\n    if (css_urls == null) css_urls = [];\n    if (js_urls == null) js_urls = [];\n    if (js_modules == null) js_modules = [];\n    if (js_exports == null) js_exports = {};\n\n    root._bokeh_onload_callbacks.push(callback);\n\n    if (root._bokeh_is_loading > 0) {\n      console.debug(\"Bokeh: BokehJS is being loaded, scheduling callback at\", now());\n      return null;\n    }\n    if (js_urls.length === 0 && js_modules.length === 0 && Object.keys(js_exports).length === 0) {\n      run_callbacks();\n      return null;\n    }\n    if (!reloading) {\n      console.debug(\"Bokeh: BokehJS not loaded, scheduling load and callback at\", now());\n    }\n\n    function on_load() {\n      root._bokeh_is_loading--;\n      if (root._bokeh_is_loading === 0) {\n        console.debug(\"Bokeh: all BokehJS libraries/stylesheets loaded\");\n        run_callbacks()\n      }\n    }\n    window._bokeh_on_load = on_load\n\n    function on_error() {\n      console.error(\"failed to load \" + url);\n    }\n\n    var skip = [];\n    if (window.requirejs) {\n      window.requirejs.config({'packages': {}, 'paths': {'jspanel': 'https://cdn.jsdelivr.net/npm/jspanel4@4.12.0/dist/jspanel', 'jspanel-modal': 'https://cdn.jsdelivr.net/npm/jspanel4@4.12.0/dist/extensions/modal/jspanel.modal', 'jspanel-tooltip': 'https://cdn.jsdelivr.net/npm/jspanel4@4.12.0/dist/extensions/tooltip/jspanel.tooltip', 'jspanel-hint': 'https://cdn.jsdelivr.net/npm/jspanel4@4.12.0/dist/extensions/hint/jspanel.hint', 'jspanel-layout': 'https://cdn.jsdelivr.net/npm/jspanel4@4.12.0/dist/extensions/layout/jspanel.layout', 'jspanel-contextmenu': 'https://cdn.jsdelivr.net/npm/jspanel4@4.12.0/dist/extensions/contextmenu/jspanel.contextmenu', 'jspanel-dock': 'https://cdn.jsdelivr.net/npm/jspanel4@4.12.0/dist/extensions/dock/jspanel.dock', 'gridstack': 'https://cdn.jsdelivr.net/npm/gridstack@7.2.3/dist/gridstack-all', 'notyf': 'https://cdn.jsdelivr.net/npm/notyf@3/notyf.min'}, 'shim': {'jspanel': {'exports': 'jsPanel'}, 'gridstack': {'exports': 'GridStack'}}});\n      require([\"jspanel\"], function(jsPanel) {\n\twindow.jsPanel = jsPanel\n\ton_load()\n      })\n      require([\"jspanel-modal\"], function() {\n\ton_load()\n      })\n      require([\"jspanel-tooltip\"], function() {\n\ton_load()\n      })\n      require([\"jspanel-hint\"], function() {\n\ton_load()\n      })\n      require([\"jspanel-layout\"], function() {\n\ton_load()\n      })\n      require([\"jspanel-contextmenu\"], function() {\n\ton_load()\n      })\n      require([\"jspanel-dock\"], function() {\n\ton_load()\n      })\n      require([\"gridstack\"], function(GridStack) {\n\twindow.GridStack = GridStack\n\ton_load()\n      })\n      require([\"notyf\"], function() {\n\ton_load()\n      })\n      root._bokeh_is_loading = css_urls.length + 9;\n    } else {\n      root._bokeh_is_loading = css_urls.length + js_urls.length + js_modules.length + Object.keys(js_exports).length;\n    }\n\n    var existing_stylesheets = []\n    var links = document.getElementsByTagName('link')\n    for (var i = 0; i < links.length; i++) {\n      var link = links[i]\n      if (link.href != null) {\n\texisting_stylesheets.push(link.href)\n      }\n    }\n    for (var i = 0; i < css_urls.length; i++) {\n      var url = css_urls[i];\n      if (existing_stylesheets.indexOf(url) !== -1) {\n\ton_load()\n\tcontinue;\n      }\n      const element = document.createElement(\"link\");\n      element.onload = on_load;\n      element.onerror = on_error;\n      element.rel = \"stylesheet\";\n      element.type = \"text/css\";\n      element.href = url;\n      console.debug(\"Bokeh: injecting link tag for BokehJS stylesheet: \", url);\n      document.body.appendChild(element);\n    }    if (((window['jsPanel'] !== undefined) && (!(window['jsPanel'] instanceof HTMLElement))) || window.requirejs) {\n      var urls = ['https://cdn.holoviz.org/panel/1.3.8/dist/bundled/floatpanel/jspanel4@4.12.0/dist/jspanel.js', 'https://cdn.holoviz.org/panel/1.3.8/dist/bundled/floatpanel/jspanel4@4.12.0/dist/extensions/modal/jspanel.modal.js', 'https://cdn.holoviz.org/panel/1.3.8/dist/bundled/floatpanel/jspanel4@4.12.0/dist/extensions/tooltip/jspanel.tooltip.js', 'https://cdn.holoviz.org/panel/1.3.8/dist/bundled/floatpanel/jspanel4@4.12.0/dist/extensions/hint/jspanel.hint.js', 'https://cdn.holoviz.org/panel/1.3.8/dist/bundled/floatpanel/jspanel4@4.12.0/dist/extensions/layout/jspanel.layout.js', 'https://cdn.holoviz.org/panel/1.3.8/dist/bundled/floatpanel/jspanel4@4.12.0/dist/extensions/contextmenu/jspanel.contextmenu.js', 'https://cdn.holoviz.org/panel/1.3.8/dist/bundled/floatpanel/jspanel4@4.12.0/dist/extensions/dock/jspanel.dock.js'];\n      for (var i = 0; i < urls.length; i++) {\n        skip.push(urls[i])\n      }\n    }    if (((window['GridStack'] !== undefined) && (!(window['GridStack'] instanceof HTMLElement))) || window.requirejs) {\n      var urls = ['https://cdn.holoviz.org/panel/1.3.8/dist/bundled/gridstack/gridstack@7.2.3/dist/gridstack-all.js'];\n      for (var i = 0; i < urls.length; i++) {\n        skip.push(urls[i])\n      }\n    }    if (((window['Notyf'] !== undefined) && (!(window['Notyf'] instanceof HTMLElement))) || window.requirejs) {\n      var urls = ['https://cdn.holoviz.org/panel/1.3.8/dist/bundled/notificationarea/notyf@3/notyf.min.js'];\n      for (var i = 0; i < urls.length; i++) {\n        skip.push(urls[i])\n      }\n    }    var existing_scripts = []\n    var scripts = document.getElementsByTagName('script')\n    for (var i = 0; i < scripts.length; i++) {\n      var script = scripts[i]\n      if (script.src != null) {\n\texisting_scripts.push(script.src)\n      }\n    }\n    for (var i = 0; i < js_urls.length; i++) {\n      var url = js_urls[i];\n      if (skip.indexOf(url) !== -1 || existing_scripts.indexOf(url) !== -1) {\n\tif (!window.requirejs) {\n\t  on_load();\n\t}\n\tcontinue;\n      }\n      var element = document.createElement('script');\n      element.onload = on_load;\n      element.onerror = on_error;\n      element.async = false;\n      element.src = url;\n      console.debug(\"Bokeh: injecting script tag for BokehJS library: \", url);\n      document.head.appendChild(element);\n    }\n    for (var i = 0; i < js_modules.length; i++) {\n      var url = js_modules[i];\n      if (skip.indexOf(url) !== -1 || existing_scripts.indexOf(url) !== -1) {\n\tif (!window.requirejs) {\n\t  on_load();\n\t}\n\tcontinue;\n      }\n      var element = document.createElement('script');\n      element.onload = on_load;\n      element.onerror = on_error;\n      element.async = false;\n      element.src = url;\n      element.type = \"module\";\n      console.debug(\"Bokeh: injecting script tag for BokehJS library: \", url);\n      document.head.appendChild(element);\n    }\n    for (const name in js_exports) {\n      var url = js_exports[name];\n      if (skip.indexOf(url) >= 0 || root[name] != null) {\n\tif (!window.requirejs) {\n\t  on_load();\n\t}\n\tcontinue;\n      }\n      var element = document.createElement('script');\n      element.onerror = on_error;\n      element.async = false;\n      element.type = \"module\";\n      console.debug(\"Bokeh: injecting script tag for BokehJS library: \", url);\n      element.textContent = `\n      import ${name} from \"${url}\"\n      window.${name} = ${name}\n      window._bokeh_on_load()\n      `\n      document.head.appendChild(element);\n    }\n    if (!js_urls.length && !js_modules.length) {\n      on_load()\n    }\n  };\n\n  function inject_raw_css(css) {\n    const element = document.createElement(\"style\");\n    element.appendChild(document.createTextNode(css));\n    document.body.appendChild(element);\n  }\n\n  var js_urls = [\"https://cdn.bokeh.org/bokeh/release/bokeh-3.3.4.min.js\", \"https://cdn.bokeh.org/bokeh/release/bokeh-gl-3.3.4.min.js\", \"https://cdn.bokeh.org/bokeh/release/bokeh-widgets-3.3.4.min.js\", \"https://cdn.bokeh.org/bokeh/release/bokeh-tables-3.3.4.min.js\", \"https://cdn.holoviz.org/panel/1.3.8/dist/panel.min.js\"];\n  var js_modules = [];\n  var js_exports = {};\n  var css_urls = [];\n  var inline_js = [    function(Bokeh) {\n      Bokeh.set_log_level(\"info\");\n    },\nfunction(Bokeh) {} // ensure no trailing comma for IE\n  ];\n\n  function run_inline_js() {\n    if ((root.Bokeh !== undefined) || (force === true)) {\n      for (var i = 0; i < inline_js.length; i++) {\n\ttry {\n          inline_js[i].call(root, root.Bokeh);\n\t} catch(e) {\n\t  if (!reloading) {\n\t    throw e;\n\t  }\n\t}\n      }\n      // Cache old bokeh versions\n      if (Bokeh != undefined && !reloading) {\n\tvar NewBokeh = root.Bokeh;\n\tif (Bokeh.versions === undefined) {\n\t  Bokeh.versions = new Map();\n\t}\n\tif (NewBokeh.version !== Bokeh.version) {\n\t  Bokeh.versions.set(NewBokeh.version, NewBokeh)\n\t}\n\troot.Bokeh = Bokeh;\n      }} else if (Date.now() < root._bokeh_timeout) {\n      setTimeout(run_inline_js, 100);\n    } else if (!root._bokeh_failed_load) {\n      console.log(\"Bokeh: BokehJS failed to load within specified timeout.\");\n      root._bokeh_failed_load = true;\n    }\n    root._bokeh_is_initializing = false\n  }\n\n  function load_or_wait() {\n    // Implement a backoff loop that tries to ensure we do not load multiple\n    // versions of Bokeh and its dependencies at the same time.\n    // In recent versions we use the root._bokeh_is_initializing flag\n    // to determine whether there is an ongoing attempt to initialize\n    // bokeh, however for backward compatibility we also try to ensure\n    // that we do not start loading a newer (Panel>=1.0 and Bokeh>3) version\n    // before older versions are fully initialized.\n    if (root._bokeh_is_initializing && Date.now() > root._bokeh_timeout) {\n      root._bokeh_is_initializing = false;\n      root._bokeh_onload_callbacks = undefined;\n      console.log(\"Bokeh: BokehJS was loaded multiple times but one version failed to initialize.\");\n      load_or_wait();\n    } else if (root._bokeh_is_initializing || (typeof root._bokeh_is_initializing === \"undefined\" && root._bokeh_onload_callbacks !== undefined)) {\n      setTimeout(load_or_wait, 100);\n    } else {\n      root._bokeh_is_initializing = true\n      root._bokeh_onload_callbacks = []\n      var bokeh_loaded = Bokeh != null && (Bokeh.version === py_version || (Bokeh.versions !== undefined && Bokeh.versions.has(py_version)));\n      if (!reloading && !bokeh_loaded) {\n\troot.Bokeh = undefined;\n      }\n      load_libs(css_urls, js_urls, js_modules, js_exports, function() {\n\tconsole.debug(\"Bokeh: BokehJS plotting callback run at\", now());\n\trun_inline_js();\n      });\n    }\n  }\n  // Give older versions of the autoload script a head-start to ensure\n  // they initialize before we start loading newer version.\n  setTimeout(load_or_wait, 100)\n}(window));",
      "application/vnd.holoviews_load.v0+json": ""
     },
     "metadata": {},
     "output_type": "display_data"
    },
    {
     "data": {
      "application/javascript": "\nif ((window.PyViz === undefined) || (window.PyViz instanceof HTMLElement)) {\n  window.PyViz = {comms: {}, comm_status:{}, kernels:{}, receivers: {}, plot_index: []}\n}\n\n\n    function JupyterCommManager() {\n    }\n\n    JupyterCommManager.prototype.register_target = function(plot_id, comm_id, msg_handler) {\n      if (window.comm_manager || ((window.Jupyter !== undefined) && (Jupyter.notebook.kernel != null))) {\n        var comm_manager = window.comm_manager || Jupyter.notebook.kernel.comm_manager;\n        comm_manager.register_target(comm_id, function(comm) {\n          comm.on_msg(msg_handler);\n        });\n      } else if ((plot_id in window.PyViz.kernels) && (window.PyViz.kernels[plot_id])) {\n        window.PyViz.kernels[plot_id].registerCommTarget(comm_id, function(comm) {\n          comm.onMsg = msg_handler;\n        });\n      } else if (typeof google != 'undefined' && google.colab.kernel != null) {\n        google.colab.kernel.comms.registerTarget(comm_id, (comm) => {\n          var messages = comm.messages[Symbol.asyncIterator]();\n          function processIteratorResult(result) {\n            var message = result.value;\n            console.log(message)\n            var content = {data: message.data, comm_id};\n            var buffers = []\n            for (var buffer of message.buffers || []) {\n              buffers.push(new DataView(buffer))\n            }\n            var metadata = message.metadata || {};\n            var msg = {content, buffers, metadata}\n            msg_handler(msg);\n            return messages.next().then(processIteratorResult);\n          }\n          return messages.next().then(processIteratorResult);\n        })\n      }\n    }\n\n    JupyterCommManager.prototype.get_client_comm = function(plot_id, comm_id, msg_handler) {\n      if (comm_id in window.PyViz.comms) {\n        return window.PyViz.comms[comm_id];\n      } else if (window.comm_manager || ((window.Jupyter !== undefined) && (Jupyter.notebook.kernel != null))) {\n        var comm_manager = window.comm_manager || Jupyter.notebook.kernel.comm_manager;\n        var comm = comm_manager.new_comm(comm_id, {}, {}, {}, comm_id);\n        if (msg_handler) {\n          comm.on_msg(msg_handler);\n        }\n      } else if ((plot_id in window.PyViz.kernels) && (window.PyViz.kernels[plot_id])) {\n        var comm = window.PyViz.kernels[plot_id].connectToComm(comm_id);\n        comm.open();\n        if (msg_handler) {\n          comm.onMsg = msg_handler;\n        }\n      } else if (typeof google != 'undefined' && google.colab.kernel != null) {\n        var comm_promise = google.colab.kernel.comms.open(comm_id)\n        comm_promise.then((comm) => {\n          window.PyViz.comms[comm_id] = comm;\n          if (msg_handler) {\n            var messages = comm.messages[Symbol.asyncIterator]();\n            function processIteratorResult(result) {\n              var message = result.value;\n              var content = {data: message.data};\n              var metadata = message.metadata || {comm_id};\n              var msg = {content, metadata}\n              msg_handler(msg);\n              return messages.next().then(processIteratorResult);\n            }\n            return messages.next().then(processIteratorResult);\n          }\n        }) \n        var sendClosure = (data, metadata, buffers, disposeOnDone) => {\n          return comm_promise.then((comm) => {\n            comm.send(data, metadata, buffers, disposeOnDone);\n          });\n        };\n        var comm = {\n          send: sendClosure\n        };\n      }\n      window.PyViz.comms[comm_id] = comm;\n      return comm;\n    }\n    window.PyViz.comm_manager = new JupyterCommManager();\n    \n\n\nvar JS_MIME_TYPE = 'application/javascript';\nvar HTML_MIME_TYPE = 'text/html';\nvar EXEC_MIME_TYPE = 'application/vnd.holoviews_exec.v0+json';\nvar CLASS_NAME = 'output';\n\n/**\n * Render data to the DOM node\n */\nfunction render(props, node) {\n  var div = document.createElement(\"div\");\n  var script = document.createElement(\"script\");\n  node.appendChild(div);\n  node.appendChild(script);\n}\n\n/**\n * Handle when a new output is added\n */\nfunction handle_add_output(event, handle) {\n  var output_area = handle.output_area;\n  var output = handle.output;\n  if ((output.data == undefined) || (!output.data.hasOwnProperty(EXEC_MIME_TYPE))) {\n    return\n  }\n  var id = output.metadata[EXEC_MIME_TYPE][\"id\"];\n  var toinsert = output_area.element.find(\".\" + CLASS_NAME.split(' ')[0]);\n  if (id !== undefined) {\n    var nchildren = toinsert.length;\n    var html_node = toinsert[nchildren-1].children[0];\n    html_node.innerHTML = output.data[HTML_MIME_TYPE];\n    var scripts = [];\n    var nodelist = html_node.querySelectorAll(\"script\");\n    for (var i in nodelist) {\n      if (nodelist.hasOwnProperty(i)) {\n        scripts.push(nodelist[i])\n      }\n    }\n\n    scripts.forEach( function (oldScript) {\n      var newScript = document.createElement(\"script\");\n      var attrs = [];\n      var nodemap = oldScript.attributes;\n      for (var j in nodemap) {\n        if (nodemap.hasOwnProperty(j)) {\n          attrs.push(nodemap[j])\n        }\n      }\n      attrs.forEach(function(attr) { newScript.setAttribute(attr.name, attr.value) });\n      newScript.appendChild(document.createTextNode(oldScript.innerHTML));\n      oldScript.parentNode.replaceChild(newScript, oldScript);\n    });\n    if (JS_MIME_TYPE in output.data) {\n      toinsert[nchildren-1].children[1].textContent = output.data[JS_MIME_TYPE];\n    }\n    output_area._hv_plot_id = id;\n    if ((window.Bokeh !== undefined) && (id in Bokeh.index)) {\n      window.PyViz.plot_index[id] = Bokeh.index[id];\n    } else {\n      window.PyViz.plot_index[id] = null;\n    }\n  } else if (output.metadata[EXEC_MIME_TYPE][\"server_id\"] !== undefined) {\n    var bk_div = document.createElement(\"div\");\n    bk_div.innerHTML = output.data[HTML_MIME_TYPE];\n    var script_attrs = bk_div.children[0].attributes;\n    for (var i = 0; i < script_attrs.length; i++) {\n      toinsert[toinsert.length - 1].childNodes[1].setAttribute(script_attrs[i].name, script_attrs[i].value);\n    }\n    // store reference to server id on output_area\n    output_area._bokeh_server_id = output.metadata[EXEC_MIME_TYPE][\"server_id\"];\n  }\n}\n\n/**\n * Handle when an output is cleared or removed\n */\nfunction handle_clear_output(event, handle) {\n  var id = handle.cell.output_area._hv_plot_id;\n  var server_id = handle.cell.output_area._bokeh_server_id;\n  if (((id === undefined) || !(id in PyViz.plot_index)) && (server_id !== undefined)) { return; }\n  var comm = window.PyViz.comm_manager.get_client_comm(\"hv-extension-comm\", \"hv-extension-comm\", function () {});\n  if (server_id !== null) {\n    comm.send({event_type: 'server_delete', 'id': server_id});\n    return;\n  } else if (comm !== null) {\n    comm.send({event_type: 'delete', 'id': id});\n  }\n  delete PyViz.plot_index[id];\n  if ((window.Bokeh !== undefined) & (id in window.Bokeh.index)) {\n    var doc = window.Bokeh.index[id].model.document\n    doc.clear();\n    const i = window.Bokeh.documents.indexOf(doc);\n    if (i > -1) {\n      window.Bokeh.documents.splice(i, 1);\n    }\n  }\n}\n\n/**\n * Handle kernel restart event\n */\nfunction handle_kernel_cleanup(event, handle) {\n  delete PyViz.comms[\"hv-extension-comm\"];\n  window.PyViz.plot_index = {}\n}\n\n/**\n * Handle update_display_data messages\n */\nfunction handle_update_output(event, handle) {\n  handle_clear_output(event, {cell: {output_area: handle.output_area}})\n  handle_add_output(event, handle)\n}\n\nfunction register_renderer(events, OutputArea) {\n  function append_mime(data, metadata, element) {\n    // create a DOM node to render to\n    var toinsert = this.create_output_subarea(\n    metadata,\n    CLASS_NAME,\n    EXEC_MIME_TYPE\n    );\n    this.keyboard_manager.register_events(toinsert);\n    // Render to node\n    var props = {data: data, metadata: metadata[EXEC_MIME_TYPE]};\n    render(props, toinsert[0]);\n    element.append(toinsert);\n    return toinsert\n  }\n\n  events.on('output_added.OutputArea', handle_add_output);\n  events.on('output_updated.OutputArea', handle_update_output);\n  events.on('clear_output.CodeCell', handle_clear_output);\n  events.on('delete.Cell', handle_clear_output);\n  events.on('kernel_ready.Kernel', handle_kernel_cleanup);\n\n  OutputArea.prototype.register_mime_type(EXEC_MIME_TYPE, append_mime, {\n    safe: true,\n    index: 0\n  });\n}\n\nif (window.Jupyter !== undefined) {\n  try {\n    var events = require('base/js/events');\n    var OutputArea = require('notebook/js/outputarea').OutputArea;\n    if (OutputArea.prototype.mime_types().indexOf(EXEC_MIME_TYPE) == -1) {\n      register_renderer(events, OutputArea);\n    }\n  } catch(err) {\n  }\n}\n",
      "application/vnd.holoviews_load.v0+json": ""
     },
     "metadata": {},
     "output_type": "display_data"
    },
    {
     "data": {
      "text/html": [
       "<style>*[data-root-id],\n",
       "*[data-root-id] > * {\n",
       "  box-sizing: border-box;\n",
       "  font-family: var(--jp-ui-font-family);\n",
       "  font-size: var(--jp-ui-font-size1);\n",
       "  color: var(--vscode-editor-foreground, var(--jp-ui-font-color1));\n",
       "}\n",
       "\n",
       "/* Override VSCode background color */\n",
       ".cell-output-ipywidget-background:has(\n",
       "    > .cell-output-ipywidget-background > .lm-Widget > *[data-root-id]\n",
       "  ),\n",
       ".cell-output-ipywidget-background:has(> .lm-Widget > *[data-root-id]) {\n",
       "  background-color: transparent !important;\n",
       "}\n",
       "</style>"
      ]
     },
     "metadata": {},
     "output_type": "display_data"
    },
    {
     "data": {
      "application/vnd.holoviews_exec.v0+json": "",
      "text/html": [
       "<div id='p1002'>\n",
       "  <div id=\"df0f0f10-f1db-44e1-9ca1-437b0e708db5\" data-root-id=\"p1002\" style=\"display: contents;\"></div>\n",
       "</div>\n",
       "<script type=\"application/javascript\">(function(root) {\n",
       "  var docs_json = {\"f11d2b23-654f-4716-8dac-6e3661422a4c\":{\"version\":\"3.3.4\",\"title\":\"Bokeh Application\",\"roots\":[{\"type\":\"object\",\"name\":\"panel.models.browser.BrowserInfo\",\"id\":\"p1002\"},{\"type\":\"object\",\"name\":\"panel.models.comm_manager.CommManager\",\"id\":\"p1003\",\"attributes\":{\"plot_id\":\"p1002\",\"comm_id\":\"51fd63115eb143e29c1da4595e690cfc\",\"client_comm_id\":\"a25134ab3b024c7eaea13013b77d0ff5\"}}],\"defs\":[{\"type\":\"model\",\"name\":\"ReactiveHTML1\"},{\"type\":\"model\",\"name\":\"FlexBox1\",\"properties\":[{\"name\":\"align_content\",\"kind\":\"Any\",\"default\":\"flex-start\"},{\"name\":\"align_items\",\"kind\":\"Any\",\"default\":\"flex-start\"},{\"name\":\"flex_direction\",\"kind\":\"Any\",\"default\":\"row\"},{\"name\":\"flex_wrap\",\"kind\":\"Any\",\"default\":\"wrap\"},{\"name\":\"justify_content\",\"kind\":\"Any\",\"default\":\"flex-start\"}]},{\"type\":\"model\",\"name\":\"FloatPanel1\",\"properties\":[{\"name\":\"config\",\"kind\":\"Any\",\"default\":{\"type\":\"map\"}},{\"name\":\"contained\",\"kind\":\"Any\",\"default\":true},{\"name\":\"position\",\"kind\":\"Any\",\"default\":\"right-top\"},{\"name\":\"offsetx\",\"kind\":\"Any\",\"default\":null},{\"name\":\"offsety\",\"kind\":\"Any\",\"default\":null},{\"name\":\"theme\",\"kind\":\"Any\",\"default\":\"primary\"},{\"name\":\"status\",\"kind\":\"Any\",\"default\":\"normalized\"}]},{\"type\":\"model\",\"name\":\"GridStack1\",\"properties\":[{\"name\":\"mode\",\"kind\":\"Any\",\"default\":\"warn\"},{\"name\":\"ncols\",\"kind\":\"Any\",\"default\":null},{\"name\":\"nrows\",\"kind\":\"Any\",\"default\":null},{\"name\":\"allow_resize\",\"kind\":\"Any\",\"default\":true},{\"name\":\"allow_drag\",\"kind\":\"Any\",\"default\":true},{\"name\":\"state\",\"kind\":\"Any\",\"default\":[]}]},{\"type\":\"model\",\"name\":\"drag1\",\"properties\":[{\"name\":\"slider_width\",\"kind\":\"Any\",\"default\":5},{\"name\":\"slider_color\",\"kind\":\"Any\",\"default\":\"black\"},{\"name\":\"value\",\"kind\":\"Any\",\"default\":50}]},{\"type\":\"model\",\"name\":\"click1\",\"properties\":[{\"name\":\"terminal_output\",\"kind\":\"Any\",\"default\":\"\"},{\"name\":\"debug_name\",\"kind\":\"Any\",\"default\":\"\"},{\"name\":\"clears\",\"kind\":\"Any\",\"default\":0}]},{\"type\":\"model\",\"name\":\"copy_to_clipboard1\",\"properties\":[{\"name\":\"fill\",\"kind\":\"Any\",\"default\":\"none\"},{\"name\":\"value\",\"kind\":\"Any\",\"default\":null}]},{\"type\":\"model\",\"name\":\"FastWrapper1\",\"properties\":[{\"name\":\"object\",\"kind\":\"Any\",\"default\":null},{\"name\":\"style\",\"kind\":\"Any\",\"default\":null}]},{\"type\":\"model\",\"name\":\"NotificationAreaBase1\",\"properties\":[{\"name\":\"js_events\",\"kind\":\"Any\",\"default\":{\"type\":\"map\"}},{\"name\":\"position\",\"kind\":\"Any\",\"default\":\"bottom-right\"},{\"name\":\"_clear\",\"kind\":\"Any\",\"default\":0}]},{\"type\":\"model\",\"name\":\"NotificationArea1\",\"properties\":[{\"name\":\"js_events\",\"kind\":\"Any\",\"default\":{\"type\":\"map\"}},{\"name\":\"notifications\",\"kind\":\"Any\",\"default\":[]},{\"name\":\"position\",\"kind\":\"Any\",\"default\":\"bottom-right\"},{\"name\":\"_clear\",\"kind\":\"Any\",\"default\":0},{\"name\":\"types\",\"kind\":\"Any\",\"default\":[{\"type\":\"map\",\"entries\":[[\"type\",\"warning\"],[\"background\",\"#ffc107\"],[\"icon\",{\"type\":\"map\",\"entries\":[[\"className\",\"fas fa-exclamation-triangle\"],[\"tagName\",\"i\"],[\"color\",\"white\"]]}]]},{\"type\":\"map\",\"entries\":[[\"type\",\"info\"],[\"background\",\"#007bff\"],[\"icon\",{\"type\":\"map\",\"entries\":[[\"className\",\"fas fa-info-circle\"],[\"tagName\",\"i\"],[\"color\",\"white\"]]}]]}]}]},{\"type\":\"model\",\"name\":\"Notification\",\"properties\":[{\"name\":\"background\",\"kind\":\"Any\",\"default\":null},{\"name\":\"duration\",\"kind\":\"Any\",\"default\":3000},{\"name\":\"icon\",\"kind\":\"Any\",\"default\":null},{\"name\":\"message\",\"kind\":\"Any\",\"default\":\"\"},{\"name\":\"notification_type\",\"kind\":\"Any\",\"default\":null},{\"name\":\"_destroyed\",\"kind\":\"Any\",\"default\":false}]},{\"type\":\"model\",\"name\":\"TemplateActions1\",\"properties\":[{\"name\":\"open_modal\",\"kind\":\"Any\",\"default\":0},{\"name\":\"close_modal\",\"kind\":\"Any\",\"default\":0}]},{\"type\":\"model\",\"name\":\"BootstrapTemplateActions1\",\"properties\":[{\"name\":\"open_modal\",\"kind\":\"Any\",\"default\":0},{\"name\":\"close_modal\",\"kind\":\"Any\",\"default\":0}]},{\"type\":\"model\",\"name\":\"MaterialTemplateActions1\",\"properties\":[{\"name\":\"open_modal\",\"kind\":\"Any\",\"default\":0},{\"name\":\"close_modal\",\"kind\":\"Any\",\"default\":0}]}]}};\n",
       "  var render_items = [{\"docid\":\"f11d2b23-654f-4716-8dac-6e3661422a4c\",\"roots\":{\"p1002\":\"df0f0f10-f1db-44e1-9ca1-437b0e708db5\"},\"root_ids\":[\"p1002\"]}];\n",
       "  var docs = Object.values(docs_json)\n",
       "  if (!docs) {\n",
       "    return\n",
       "  }\n",
       "  const py_version = docs[0].version.replace('rc', '-rc.').replace('.dev', '-dev.')\n",
       "  function embed_document(root) {\n",
       "    var Bokeh = get_bokeh(root)\n",
       "    Bokeh.embed.embed_items_notebook(docs_json, render_items);\n",
       "    for (const render_item of render_items) {\n",
       "      for (const root_id of render_item.root_ids) {\n",
       "\tconst id_el = document.getElementById(root_id)\n",
       "\tif (id_el.children.length && (id_el.children[0].className === 'bk-root')) {\n",
       "\t  const root_el = id_el.children[0]\n",
       "\t  root_el.id = root_el.id + '-rendered'\n",
       "\t}\n",
       "      }\n",
       "    }\n",
       "  }\n",
       "  function get_bokeh(root) {\n",
       "    if (root.Bokeh === undefined) {\n",
       "      return null\n",
       "    } else if (root.Bokeh.version !== py_version) {\n",
       "      if (root.Bokeh.versions === undefined || !root.Bokeh.versions.has(py_version)) {\n",
       "\treturn null\n",
       "      }\n",
       "      return root.Bokeh.versions.get(py_version);\n",
       "    } else if (root.Bokeh.version === py_version) {\n",
       "      return root.Bokeh\n",
       "    }\n",
       "    return null\n",
       "  }\n",
       "  function is_loaded(root) {\n",
       "    var Bokeh = get_bokeh(root)\n",
       "    return (Bokeh != null && Bokeh.Panel !== undefined)\n",
       "  }\n",
       "  if (is_loaded(root)) {\n",
       "    embed_document(root);\n",
       "  } else {\n",
       "    var attempts = 0;\n",
       "    var timer = setInterval(function(root) {\n",
       "      if (is_loaded(root)) {\n",
       "        clearInterval(timer);\n",
       "        embed_document(root);\n",
       "      } else if (document.readyState == \"complete\") {\n",
       "        attempts++;\n",
       "        if (attempts > 200) {\n",
       "          clearInterval(timer);\n",
       "\t  var Bokeh = get_bokeh(root)\n",
       "\t  if (Bokeh == null || Bokeh.Panel == null) {\n",
       "            console.warn(\"Panel: ERROR: Unable to run Panel code because Bokeh or Panel library is missing\");\n",
       "\t  } else {\n",
       "\t    console.warn(\"Panel: WARNING: Attempting to render but not all required libraries could be resolved.\")\n",
       "\t    embed_document(root)\n",
       "\t  }\n",
       "        }\n",
       "      }\n",
       "    }, 25, root)\n",
       "  }\n",
       "})(window);</script>"
      ]
     },
     "metadata": {
      "application/vnd.holoviews_exec.v0+json": {
       "id": "p1002"
      }
     },
     "output_type": "display_data"
    }
   ],
   "source": [
    "# Import the modules\n",
    "import pandas as pd\n",
    "import hvplot.pandas\n",
    "from pathlib import Path\n",
    "from sklearn.cluster import KMeans"
   ]
  },
  {
   "cell_type": "markdown",
   "metadata": {},
   "source": [
    "## Read in the CSV file and prepare the Pandas DataFrame"
   ]
  },
  {
   "cell_type": "code",
   "execution_count": 2,
   "metadata": {},
   "outputs": [
    {
     "data": {
      "text/html": [
       "<div>\n",
       "<style scoped>\n",
       "    .dataframe tbody tr th:only-of-type {\n",
       "        vertical-align: middle;\n",
       "    }\n",
       "\n",
       "    .dataframe tbody tr th {\n",
       "        vertical-align: top;\n",
       "    }\n",
       "\n",
       "    .dataframe thead th {\n",
       "        text-align: right;\n",
       "    }\n",
       "</style>\n",
       "<table border=\"1\" class=\"dataframe\">\n",
       "  <thead>\n",
       "    <tr style=\"text-align: right;\">\n",
       "      <th></th>\n",
       "      <th>feature_1</th>\n",
       "      <th>feature_2</th>\n",
       "      <th>feature_3</th>\n",
       "      <th>feature_4</th>\n",
       "      <th>feature_5</th>\n",
       "      <th>feature_6</th>\n",
       "      <th>feature_7</th>\n",
       "      <th>feature_8</th>\n",
       "      <th>feature_9</th>\n",
       "      <th>feature_10</th>\n",
       "    </tr>\n",
       "  </thead>\n",
       "  <tbody>\n",
       "    <tr>\n",
       "      <th>0</th>\n",
       "      <td>1.148534</td>\n",
       "      <td>4.606077</td>\n",
       "      <td>2.699069</td>\n",
       "      <td>-2.661824</td>\n",
       "      <td>1.526433</td>\n",
       "      <td>1.236671</td>\n",
       "      <td>0.211421</td>\n",
       "      <td>1.482896</td>\n",
       "      <td>-4.445627</td>\n",
       "      <td>-1.936831</td>\n",
       "    </tr>\n",
       "    <tr>\n",
       "      <th>1</th>\n",
       "      <td>-1.149410</td>\n",
       "      <td>-1.650549</td>\n",
       "      <td>2.530167</td>\n",
       "      <td>-3.227088</td>\n",
       "      <td>0.572138</td>\n",
       "      <td>4.162600</td>\n",
       "      <td>-0.291679</td>\n",
       "      <td>-1.237575</td>\n",
       "      <td>3.604765</td>\n",
       "      <td>-1.635689</td>\n",
       "    </tr>\n",
       "    <tr>\n",
       "      <th>2</th>\n",
       "      <td>0.332427</td>\n",
       "      <td>-0.887985</td>\n",
       "      <td>-0.309216</td>\n",
       "      <td>0.399891</td>\n",
       "      <td>0.828492</td>\n",
       "      <td>3.641945</td>\n",
       "      <td>-0.916946</td>\n",
       "      <td>-1.978024</td>\n",
       "      <td>1.056772</td>\n",
       "      <td>-1.882747</td>\n",
       "    </tr>\n",
       "    <tr>\n",
       "      <th>3</th>\n",
       "      <td>2.245599</td>\n",
       "      <td>3.826309</td>\n",
       "      <td>0.264039</td>\n",
       "      <td>0.095471</td>\n",
       "      <td>1.984380</td>\n",
       "      <td>0.373991</td>\n",
       "      <td>-0.280279</td>\n",
       "      <td>1.602786</td>\n",
       "      <td>-5.993331</td>\n",
       "      <td>-2.258925</td>\n",
       "    </tr>\n",
       "    <tr>\n",
       "      <th>4</th>\n",
       "      <td>0.705503</td>\n",
       "      <td>-1.312329</td>\n",
       "      <td>0.895406</td>\n",
       "      <td>-0.405408</td>\n",
       "      <td>1.116187</td>\n",
       "      <td>3.699562</td>\n",
       "      <td>-1.427985</td>\n",
       "      <td>-1.494409</td>\n",
       "      <td>1.156908</td>\n",
       "      <td>-1.434964</td>\n",
       "    </tr>\n",
       "  </tbody>\n",
       "</table>\n",
       "</div>"
      ],
      "text/plain": [
       "   feature_1  feature_2  feature_3  feature_4  feature_5  feature_6  \\\n",
       "0   1.148534   4.606077   2.699069  -2.661824   1.526433   1.236671   \n",
       "1  -1.149410  -1.650549   2.530167  -3.227088   0.572138   4.162600   \n",
       "2   0.332427  -0.887985  -0.309216   0.399891   0.828492   3.641945   \n",
       "3   2.245599   3.826309   0.264039   0.095471   1.984380   0.373991   \n",
       "4   0.705503  -1.312329   0.895406  -0.405408   1.116187   3.699562   \n",
       "\n",
       "   feature_7  feature_8  feature_9  feature_10  \n",
       "0   0.211421   1.482896  -4.445627   -1.936831  \n",
       "1  -0.291679  -1.237575   3.604765   -1.635689  \n",
       "2  -0.916946  -1.978024   1.056772   -1.882747  \n",
       "3  -0.280279   1.602786  -5.993331   -2.258925  \n",
       "4  -1.427985  -1.494409   1.156908   -1.434964  "
      ]
     },
     "execution_count": 2,
     "metadata": {},
     "output_type": "execute_result"
    }
   ],
   "source": [
    "# Read the csv file into a pandas DataFrame\n",
    "customers_transformed_df = pd.read_csv(\n",
    "    Path(\"../Resources/customers.csv\")\n",
    ")\n",
    "\n",
    "# Review the DataFrame\n",
    "customers_transformed_df.head()"
   ]
  },
  {
   "cell_type": "markdown",
   "metadata": {},
   "source": [
    "## Part 1: Use PCA to reduce the dimensionality of the transformed customers DataFrame to 2 principal components"
   ]
  },
  {
   "cell_type": "markdown",
   "metadata": {},
   "source": [
    "### Step 1: Import the PCA module from SKLearn"
   ]
  },
  {
   "cell_type": "code",
   "execution_count": 4,
   "metadata": {},
   "outputs": [],
   "source": [
    "# Import the PCA module\n",
    "from sklearn.decomposition import PCA"
   ]
  },
  {
   "cell_type": "markdown",
   "metadata": {},
   "source": [
    "### Step 2: Instantiate the instace of the PCA model declaring the number of principal components as 2"
   ]
  },
  {
   "cell_type": "code",
   "execution_count": 26,
   "metadata": {},
   "outputs": [],
   "source": [
    "# Instantiate the PCA instance and declare the number of PCA variables\n",
    "pca = PCA(n_components=2)"
   ]
  },
  {
   "cell_type": "markdown",
   "metadata": {},
   "source": [
    "### Step 3: Using the `fit_transform` function from PCA, fit the PCA model to the `customers_transformed_df` DataFrame. Review the first 5 rows of list data."
   ]
  },
  {
   "cell_type": "code",
   "execution_count": 27,
   "metadata": {},
   "outputs": [
    {
     "data": {
      "text/plain": [
       "array([[-4.72382358, -0.60489964],\n",
       "       [ 5.85571568, -1.98331135],\n",
       "       [ 2.43063042, -3.15456594],\n",
       "       [-6.96050326, -1.35772617],\n",
       "       [ 2.47746793, -3.29412896]])"
      ]
     },
     "execution_count": 27,
     "metadata": {},
     "output_type": "execute_result"
    }
   ],
   "source": [
    "# Fit the PCA model on the transformed credit card DataFrame\n",
    "customer_pca = pca.fit_transform(customers_transformed_df)\n",
    "\n",
    "# Review the first 5 rows of the array of list data\n",
    "customer_pca[:5]"
   ]
  },
  {
   "cell_type": "markdown",
   "metadata": {},
   "source": [
    "### Step 4: Using the `explained_variance_ratio_` function from PCA, calculate the percentage of the total variance that is captured by the two PCA variables.  "
   ]
  },
  {
   "cell_type": "code",
   "execution_count": 28,
   "metadata": {},
   "outputs": [
    {
     "data": {
      "text/plain": [
       "array([0.55083554, 0.30256389])"
      ]
     },
     "execution_count": 28,
     "metadata": {},
     "output_type": "execute_result"
    }
   ],
   "source": [
    "# Calculate the PCA explained variance ratio\n",
    "pca.explained_variance_ratio_"
   ]
  },
  {
   "cell_type": "markdown",
   "metadata": {},
   "source": [
    "**Question:** What is the explained variance ratio captured by the two PCA variables?\n",
    "    \n",
    "**Answer:** YOUR ANSWER HERE"
   ]
  },
  {
   "cell_type": "markdown",
   "metadata": {},
   "source": [
    "### Step 5: Using the `customer_pca` data, create a Pandas DataFrame called `customers_pca_df`. The columns of the DataFrame should be called \"PCA1\" and \"PCA2\"."
   ]
  },
  {
   "cell_type": "code",
   "execution_count": 8,
   "metadata": {},
   "outputs": [
    {
     "data": {
      "text/html": [
       "<div>\n",
       "<style scoped>\n",
       "    .dataframe tbody tr th:only-of-type {\n",
       "        vertical-align: middle;\n",
       "    }\n",
       "\n",
       "    .dataframe tbody tr th {\n",
       "        vertical-align: top;\n",
       "    }\n",
       "\n",
       "    .dataframe thead th {\n",
       "        text-align: right;\n",
       "    }\n",
       "</style>\n",
       "<table border=\"1\" class=\"dataframe\">\n",
       "  <thead>\n",
       "    <tr style=\"text-align: right;\">\n",
       "      <th></th>\n",
       "      <th>PCA1</th>\n",
       "      <th>PCA2</th>\n",
       "    </tr>\n",
       "  </thead>\n",
       "  <tbody>\n",
       "    <tr>\n",
       "      <th>0</th>\n",
       "      <td>-4.723824</td>\n",
       "      <td>-0.604900</td>\n",
       "    </tr>\n",
       "    <tr>\n",
       "      <th>1</th>\n",
       "      <td>5.855716</td>\n",
       "      <td>-1.983311</td>\n",
       "    </tr>\n",
       "    <tr>\n",
       "      <th>2</th>\n",
       "      <td>2.430630</td>\n",
       "      <td>-3.154566</td>\n",
       "    </tr>\n",
       "    <tr>\n",
       "      <th>3</th>\n",
       "      <td>-6.960503</td>\n",
       "      <td>-1.357726</td>\n",
       "    </tr>\n",
       "    <tr>\n",
       "      <th>4</th>\n",
       "      <td>2.477468</td>\n",
       "      <td>-3.294129</td>\n",
       "    </tr>\n",
       "    <tr>\n",
       "      <th>...</th>\n",
       "      <td>...</td>\n",
       "      <td>...</td>\n",
       "    </tr>\n",
       "    <tr>\n",
       "      <th>995</th>\n",
       "      <td>-5.043771</td>\n",
       "      <td>0.359059</td>\n",
       "    </tr>\n",
       "    <tr>\n",
       "      <th>996</th>\n",
       "      <td>7.543447</td>\n",
       "      <td>-4.106911</td>\n",
       "    </tr>\n",
       "    <tr>\n",
       "      <th>997</th>\n",
       "      <td>-3.465547</td>\n",
       "      <td>0.338280</td>\n",
       "    </tr>\n",
       "    <tr>\n",
       "      <th>998</th>\n",
       "      <td>10.652567</td>\n",
       "      <td>-1.156630</td>\n",
       "    </tr>\n",
       "    <tr>\n",
       "      <th>999</th>\n",
       "      <td>13.965548</td>\n",
       "      <td>-2.920961</td>\n",
       "    </tr>\n",
       "  </tbody>\n",
       "</table>\n",
       "<p>1000 rows × 2 columns</p>\n",
       "</div>"
      ],
      "text/plain": [
       "          PCA1      PCA2\n",
       "0    -4.723824 -0.604900\n",
       "1     5.855716 -1.983311\n",
       "2     2.430630 -3.154566\n",
       "3    -6.960503 -1.357726\n",
       "4     2.477468 -3.294129\n",
       "..         ...       ...\n",
       "995  -5.043771  0.359059\n",
       "996   7.543447 -4.106911\n",
       "997  -3.465547  0.338280\n",
       "998  10.652567 -1.156630\n",
       "999  13.965548 -2.920961\n",
       "\n",
       "[1000 rows x 2 columns]"
      ]
     },
     "execution_count": 8,
     "metadata": {},
     "output_type": "execute_result"
    }
   ],
   "source": [
    "# Create the PCA DataFrame\n",
    "customer_pca_df = pd.DataFrame(customer_pca, columns=[\"PCA1\", \"PCA2\"])\n",
    "\n",
    "# Review the PCA DataFrame\n",
    "customer_pca_df "
   ]
  },
  {
   "cell_type": "markdown",
   "metadata": {},
   "source": [
    "## Identify weight relations for each feature across each new PCA created"
   ]
  },
  {
   "cell_type": "code",
   "execution_count": 9,
   "metadata": {},
   "outputs": [
    {
     "data": {
      "text/html": [
       "<div>\n",
       "<style scoped>\n",
       "    .dataframe tbody tr th:only-of-type {\n",
       "        vertical-align: middle;\n",
       "    }\n",
       "\n",
       "    .dataframe tbody tr th {\n",
       "        vertical-align: top;\n",
       "    }\n",
       "\n",
       "    .dataframe thead th {\n",
       "        text-align: right;\n",
       "    }\n",
       "</style>\n",
       "<table border=\"1\" class=\"dataframe\">\n",
       "  <thead>\n",
       "    <tr style=\"text-align: right;\">\n",
       "      <th></th>\n",
       "      <th>feature_1</th>\n",
       "      <th>feature_2</th>\n",
       "      <th>feature_3</th>\n",
       "      <th>feature_4</th>\n",
       "      <th>feature_5</th>\n",
       "      <th>feature_6</th>\n",
       "      <th>feature_7</th>\n",
       "      <th>feature_8</th>\n",
       "      <th>feature_9</th>\n",
       "      <th>feature_10</th>\n",
       "    </tr>\n",
       "  </thead>\n",
       "  <tbody>\n",
       "    <tr>\n",
       "      <th>PCA1</th>\n",
       "      <td>0.340915</td>\n",
       "      <td>0.329057</td>\n",
       "      <td>0.030257</td>\n",
       "      <td>0.185070</td>\n",
       "      <td>0.161058</td>\n",
       "      <td>0.285823</td>\n",
       "      <td>0.095942</td>\n",
       "      <td>0.283924</td>\n",
       "      <td>0.736551</td>\n",
       "      <td>0.019298</td>\n",
       "    </tr>\n",
       "    <tr>\n",
       "      <th>PCA2</th>\n",
       "      <td>0.306228</td>\n",
       "      <td>0.164556</td>\n",
       "      <td>0.021689</td>\n",
       "      <td>0.105105</td>\n",
       "      <td>0.337265</td>\n",
       "      <td>0.661727</td>\n",
       "      <td>0.320866</td>\n",
       "      <td>0.194579</td>\n",
       "      <td>0.132907</td>\n",
       "      <td>0.396887</td>\n",
       "    </tr>\n",
       "  </tbody>\n",
       "</table>\n",
       "</div>"
      ],
      "text/plain": [
       "      feature_1  feature_2  feature_3  feature_4  feature_5  feature_6  \\\n",
       "PCA1   0.340915   0.329057   0.030257   0.185070   0.161058   0.285823   \n",
       "PCA2   0.306228   0.164556   0.021689   0.105105   0.337265   0.661727   \n",
       "\n",
       "      feature_7  feature_8  feature_9  feature_10  \n",
       "PCA1   0.095942   0.283924   0.736551    0.019298  \n",
       "PCA2   0.320866   0.194579   0.132907    0.396887  "
      ]
     },
     "execution_count": 9,
     "metadata": {},
     "output_type": "execute_result"
    }
   ],
   "source": [
    "import numpy as np\n",
    "\n",
    "#Get the absolute values of the PCA Components\n",
    "pca_components_abs = np.abs(pca.components_)\n",
    "pca_components_abs\n",
    "#create a datafram that represent the weights of each columns in each principal component\n",
    "pca_weights_df = pd.DataFrame(pca_components_abs, columns=customers_transformed_df.columns, index = ['PCA1','PCA2'])\n",
    "pca_weights_df"
   ]
  },
  {
   "cell_type": "code",
   "execution_count": 10,
   "metadata": {},
   "outputs": [
    {
     "data": {},
     "metadata": {},
     "output_type": "display_data"
    },
    {
     "data": {
      "application/vnd.holoviews_exec.v0+json": "",
      "text/html": [
       "<div id='p1004'>\n",
       "  <div id=\"bcc1be34-d6c4-4373-a9d0-f7a1913ff2cb\" data-root-id=\"p1004\" style=\"display: contents;\"></div>\n",
       "</div>\n",
       "<script type=\"application/javascript\">(function(root) {\n",
       "  var docs_json = {\"22fe578f-7ba6-45af-ac42-848918bbfde8\":{\"version\":\"3.3.4\",\"title\":\"Bokeh Application\",\"roots\":[{\"type\":\"object\",\"name\":\"Row\",\"id\":\"p1004\",\"attributes\":{\"name\":\"Row00909\",\"tags\":[\"embedded\"],\"stylesheets\":[\"\\n:host(.pn-loading.pn-arc):before, .pn-loading.pn-arc:before {\\n  background-image: url(\\\"data:image/svg+xml;base64,PHN2ZyB4bWxucz0iaHR0cDovL3d3dy53My5vcmcvMjAwMC9zdmciIHN0eWxlPSJtYXJnaW46IGF1dG87IGJhY2tncm91bmQ6IG5vbmU7IGRpc3BsYXk6IGJsb2NrOyBzaGFwZS1yZW5kZXJpbmc6IGF1dG87IiB2aWV3Qm94PSIwIDAgMTAwIDEwMCIgcHJlc2VydmVBc3BlY3RSYXRpbz0ieE1pZFlNaWQiPiAgPGNpcmNsZSBjeD0iNTAiIGN5PSI1MCIgZmlsbD0ibm9uZSIgc3Ryb2tlPSIjYzNjM2MzIiBzdHJva2Utd2lkdGg9IjEwIiByPSIzNSIgc3Ryb2tlLWRhc2hhcnJheT0iMTY0LjkzMzYxNDMxMzQ2NDE1IDU2Ljk3Nzg3MTQzNzgyMTM4Ij4gICAgPGFuaW1hdGVUcmFuc2Zvcm0gYXR0cmlidXRlTmFtZT0idHJhbnNmb3JtIiB0eXBlPSJyb3RhdGUiIHJlcGVhdENvdW50PSJpbmRlZmluaXRlIiBkdXI9IjFzIiB2YWx1ZXM9IjAgNTAgNTA7MzYwIDUwIDUwIiBrZXlUaW1lcz0iMDsxIj48L2FuaW1hdGVUcmFuc2Zvcm0+ICA8L2NpcmNsZT48L3N2Zz4=\\\");\\n  background-size: auto calc(min(50%, 400px));\\n}\",{\"type\":\"object\",\"name\":\"ImportedStyleSheet\",\"id\":\"p1007\",\"attributes\":{\"url\":\"https://cdn.holoviz.org/panel/1.3.8/dist/css/loading.css\"}},{\"type\":\"object\",\"name\":\"ImportedStyleSheet\",\"id\":\"p1067\",\"attributes\":{\"url\":\"https://cdn.holoviz.org/panel/1.3.8/dist/css/listpanel.css\"}},{\"type\":\"object\",\"name\":\"ImportedStyleSheet\",\"id\":\"p1005\",\"attributes\":{\"url\":\"https://cdn.holoviz.org/panel/1.3.8/dist/bundled/theme/default.css\"}},{\"type\":\"object\",\"name\":\"ImportedStyleSheet\",\"id\":\"p1006\",\"attributes\":{\"url\":\"https://cdn.holoviz.org/panel/1.3.8/dist/bundled/theme/native.css\"}}],\"min_width\":700,\"margin\":0,\"sizing_mode\":\"stretch_width\",\"align\":\"start\",\"children\":[{\"type\":\"object\",\"name\":\"Spacer\",\"id\":\"p1008\",\"attributes\":{\"name\":\"HSpacer00916\",\"stylesheets\":[\"\\n:host(.pn-loading.pn-arc):before, .pn-loading.pn-arc:before {\\n  background-image: url(\\\"data:image/svg+xml;base64,PHN2ZyB4bWxucz0iaHR0cDovL3d3dy53My5vcmcvMjAwMC9zdmciIHN0eWxlPSJtYXJnaW46IGF1dG87IGJhY2tncm91bmQ6IG5vbmU7IGRpc3BsYXk6IGJsb2NrOyBzaGFwZS1yZW5kZXJpbmc6IGF1dG87IiB2aWV3Qm94PSIwIDAgMTAwIDEwMCIgcHJlc2VydmVBc3BlY3RSYXRpbz0ieE1pZFlNaWQiPiAgPGNpcmNsZSBjeD0iNTAiIGN5PSI1MCIgZmlsbD0ibm9uZSIgc3Ryb2tlPSIjYzNjM2MzIiBzdHJva2Utd2lkdGg9IjEwIiByPSIzNSIgc3Ryb2tlLWRhc2hhcnJheT0iMTY0LjkzMzYxNDMxMzQ2NDE1IDU2Ljk3Nzg3MTQzNzgyMTM4Ij4gICAgPGFuaW1hdGVUcmFuc2Zvcm0gYXR0cmlidXRlTmFtZT0idHJhbnNmb3JtIiB0eXBlPSJyb3RhdGUiIHJlcGVhdENvdW50PSJpbmRlZmluaXRlIiBkdXI9IjFzIiB2YWx1ZXM9IjAgNTAgNTA7MzYwIDUwIDUwIiBrZXlUaW1lcz0iMDsxIj48L2FuaW1hdGVUcmFuc2Zvcm0+ICA8L2NpcmNsZT48L3N2Zz4=\\\");\\n  background-size: auto calc(min(50%, 400px));\\n}\",{\"id\":\"p1007\"},{\"id\":\"p1005\"},{\"id\":\"p1006\"}],\"margin\":0,\"sizing_mode\":\"stretch_width\",\"align\":\"start\"}},{\"type\":\"object\",\"name\":\"Figure\",\"id\":\"p1016\",\"attributes\":{\"width\":700,\"height\":500,\"margin\":[5,10],\"sizing_mode\":\"fixed\",\"align\":\"start\",\"x_range\":{\"type\":\"object\",\"name\":\"FactorRange\",\"id\":\"p1009\",\"attributes\":{\"tags\":[[[\"columns\",\"columns\",null]],[]],\"factors\":[\"feature_1\",\"feature_2\",\"feature_3\",\"feature_4\",\"feature_5\",\"feature_6\",\"feature_7\",\"feature_8\",\"feature_9\",\"feature_10\"]}},\"y_range\":{\"type\":\"object\",\"name\":\"FactorRange\",\"id\":\"p1010\",\"attributes\":{\"tags\":[[[\"index\",\"index\",null]],{\"type\":\"map\",\"entries\":[[\"invert_yaxis\",false],[\"autorange\",false]]}],\"factors\":[\"PCA1\",\"PCA2\"]}},\"x_scale\":{\"type\":\"object\",\"name\":\"CategoricalScale\",\"id\":\"p1026\"},\"y_scale\":{\"type\":\"object\",\"name\":\"CategoricalScale\",\"id\":\"p1027\"},\"title\":{\"type\":\"object\",\"name\":\"Title\",\"id\":\"p1019\",\"attributes\":{\"text\":\"Weights of Original Features in Principal Components\",\"text_color\":\"black\",\"text_font_size\":\"12pt\"}},\"renderers\":[{\"type\":\"object\",\"name\":\"GlyphRenderer\",\"id\":\"p1058\",\"attributes\":{\"data_source\":{\"type\":\"object\",\"name\":\"ColumnDataSource\",\"id\":\"p1048\",\"attributes\":{\"selected\":{\"type\":\"object\",\"name\":\"Selection\",\"id\":\"p1049\",\"attributes\":{\"indices\":[],\"line_indices\":[]}},\"selection_policy\":{\"type\":\"object\",\"name\":\"UnionRenderers\",\"id\":\"p1050\"},\"data\":{\"type\":\"map\",\"entries\":[[\"columns\",[\"feature_1\",\"feature_1\",\"feature_2\",\"feature_2\",\"feature_3\",\"feature_3\",\"feature_4\",\"feature_4\",\"feature_5\",\"feature_5\",\"feature_6\",\"feature_6\",\"feature_7\",\"feature_7\",\"feature_8\",\"feature_8\",\"feature_9\",\"feature_9\",\"feature_10\",\"feature_10\"]],[\"index\",[\"PCA1\",\"PCA2\",\"PCA1\",\"PCA2\",\"PCA1\",\"PCA2\",\"PCA1\",\"PCA2\",\"PCA1\",\"PCA2\",\"PCA1\",\"PCA2\",\"PCA1\",\"PCA2\",\"PCA1\",\"PCA2\",\"PCA1\",\"PCA2\",\"PCA1\",\"PCA2\"]],[\"zvalues\",{\"type\":\"ndarray\",\"array\":{\"type\":\"bytes\",\"data\":\"edjWao3R1T/hjK9SO5nTP0bfrwRGD9U/9eMegSsQxT+UlCoozvueP14kLj3ENZY/Mm4WV2Cwxz+qhL/BKOi6P5dKvFyPncQ/FjZCib6V1T+JpbIr7ErSP2YFChndLOU/WGzDV66PuD8sjVHmD4nUP7xDdMfQK9I/SJh6tfXnyD+CLBzG0pHnP1OyujUYA8E/DG01L9jCkz/svNUrmGbZPw==\"},\"shape\":[20],\"dtype\":\"float64\",\"order\":\"little\"}],[\"value\",[\"0.34092\",\"0.30623\",\"0.32906\",\"0.16456\",\"0.030257\",\"0.021689\",\"0.18507\",\"0.1051\",\"0.16106\",\"0.33726\",\"0.28582\",\"0.66173\",\"0.095942\",\"0.32087\",\"0.28392\",\"0.19458\",\"0.73655\",\"0.13291\",\"0.019298\",\"0.39689\"]]]}}},\"view\":{\"type\":\"object\",\"name\":\"CDSView\",\"id\":\"p1059\",\"attributes\":{\"filter\":{\"type\":\"object\",\"name\":\"AllIndices\",\"id\":\"p1060\"}}},\"glyph\":{\"type\":\"object\",\"name\":\"Rect\",\"id\":\"p1054\",\"attributes\":{\"tags\":[\"apply_ranges\"],\"x\":{\"type\":\"field\",\"field\":\"columns\"},\"y\":{\"type\":\"field\",\"field\":\"index\"},\"width\":{\"type\":\"value\",\"value\":1},\"height\":{\"type\":\"value\",\"value\":1},\"line_color\":{\"type\":\"value\",\"value\":\"#1f77b4\"},\"line_alpha\":{\"type\":\"value\",\"value\":0},\"fill_color\":{\"type\":\"field\",\"field\":\"zvalues\",\"transform\":{\"type\":\"object\",\"name\":\"LinearColorMapper\",\"id\":\"p1047\",\"attributes\":{\"palette\":[\"#3a4cc0\",\"#3b4dc1\",\"#3c4fc3\",\"#3e51c4\",\"#3f53c6\",\"#4054c7\",\"#4156c9\",\"#4258ca\",\"#435acc\",\"#455bcd\",\"#465dcf\",\"#475fd0\",\"#4860d1\",\"#4962d3\",\"#4b64d4\",\"#4c66d6\",\"#4d67d7\",\"#4e69d8\",\"#506bda\",\"#516cdb\",\"#526edc\",\"#5370dd\",\"#5571de\",\"#5673e0\",\"#5775e1\",\"#5876e2\",\"#5a78e3\",\"#5b79e4\",\"#5c7be5\",\"#5d7de6\",\"#5f7ee7\",\"#6080e8\",\"#6182ea\",\"#6383ea\",\"#6485eb\",\"#6586ec\",\"#6788ed\",\"#6889ee\",\"#698bef\",\"#6b8df0\",\"#6c8ef1\",\"#6d90f1\",\"#6f91f2\",\"#7093f3\",\"#7194f4\",\"#7395f4\",\"#7497f5\",\"#7598f6\",\"#779af6\",\"#789bf7\",\"#7a9df8\",\"#7b9ef8\",\"#7ca0f9\",\"#7ea1f9\",\"#7fa2fa\",\"#80a4fa\",\"#82a5fb\",\"#83a6fb\",\"#85a8fb\",\"#86a9fc\",\"#87aafc\",\"#89acfc\",\"#8aadfd\",\"#8baefd\",\"#8daffd\",\"#8eb1fd\",\"#90b2fe\",\"#91b3fe\",\"#92b4fe\",\"#94b5fe\",\"#95b7fe\",\"#97b8fe\",\"#98b9fe\",\"#99bafe\",\"#9bbbfe\",\"#9cbcfe\",\"#9dbdfe\",\"#9fbefe\",\"#a0bffe\",\"#a2c0fe\",\"#a3c1fe\",\"#a4c2fe\",\"#a6c3fd\",\"#a7c4fd\",\"#a8c5fd\",\"#aac6fd\",\"#abc7fc\",\"#acc8fc\",\"#aec9fc\",\"#afcafb\",\"#b0cbfb\",\"#b2cbfb\",\"#b3ccfa\",\"#b4cdfa\",\"#b6cef9\",\"#b7cff9\",\"#b8cff8\",\"#b9d0f8\",\"#bbd1f7\",\"#bcd1f6\",\"#bdd2f6\",\"#bed3f5\",\"#c0d3f5\",\"#c1d4f4\",\"#c2d4f3\",\"#c3d5f2\",\"#c5d5f2\",\"#c6d6f1\",\"#c7d6f0\",\"#c8d7ef\",\"#c9d7ee\",\"#cad8ee\",\"#ccd8ed\",\"#cdd9ec\",\"#ced9eb\",\"#cfd9ea\",\"#d0dae9\",\"#d1dae8\",\"#d2dae7\",\"#d3dbe6\",\"#d5dbe5\",\"#d6dbe4\",\"#d7dbe2\",\"#d8dbe1\",\"#d9dce0\",\"#dadcdf\",\"#dbdcde\",\"#dcdcdd\",\"#dddcdb\",\"#dedbda\",\"#dfdbd9\",\"#e0dad7\",\"#e1dad6\",\"#e2d9d4\",\"#e3d9d3\",\"#e4d8d1\",\"#e5d8d0\",\"#e6d7cf\",\"#e7d6cd\",\"#e7d6cc\",\"#e8d5ca\",\"#e9d4c9\",\"#ead3c7\",\"#ebd3c6\",\"#ecd2c4\",\"#ecd1c3\",\"#edd0c1\",\"#edcfc0\",\"#eecfbe\",\"#efcebc\",\"#efcdbb\",\"#f0ccb9\",\"#f1cbb8\",\"#f1cab6\",\"#f2c9b5\",\"#f2c8b3\",\"#f2c7b2\",\"#f3c6b0\",\"#f3c5af\",\"#f4c4ad\",\"#f4c3ab\",\"#f4c2aa\",\"#f5c1a8\",\"#f5c0a7\",\"#f5bfa5\",\"#f6bda4\",\"#f6bca2\",\"#f6bba0\",\"#f6ba9f\",\"#f6b99d\",\"#f6b79c\",\"#f6b69a\",\"#f7b598\",\"#f7b397\",\"#f7b295\",\"#f7b194\",\"#f7b092\",\"#f7ae91\",\"#f7ad8f\",\"#f6ab8d\",\"#f6aa8c\",\"#f6a98a\",\"#f6a789\",\"#f6a687\",\"#f6a486\",\"#f6a384\",\"#f5a182\",\"#f5a081\",\"#f59e7f\",\"#f49d7e\",\"#f49b7c\",\"#f49a7b\",\"#f39879\",\"#f39678\",\"#f39576\",\"#f29375\",\"#f29173\",\"#f19072\",\"#f18e70\",\"#f08d6f\",\"#f08b6d\",\"#ef896c\",\"#ee876a\",\"#ee8669\",\"#ed8467\",\"#ec8266\",\"#ec8064\",\"#eb7f63\",\"#ea7d61\",\"#ea7b60\",\"#e9795e\",\"#e8775d\",\"#e7755c\",\"#e6745a\",\"#e67259\",\"#e57057\",\"#e46e56\",\"#e36c54\",\"#e26a53\",\"#e16852\",\"#e06650\",\"#df644f\",\"#de624e\",\"#dd604c\",\"#dc5e4b\",\"#db5c4a\",\"#da5a48\",\"#d95847\",\"#d85646\",\"#d75444\",\"#d65243\",\"#d44f42\",\"#d34d40\",\"#d24b3f\",\"#d1493e\",\"#cf463d\",\"#ce443c\",\"#cd423a\",\"#cc3f39\",\"#ca3d38\",\"#c93b37\",\"#c83835\",\"#c63534\",\"#c53233\",\"#c43032\",\"#c22d31\",\"#c12a30\",\"#bf282e\",\"#be232d\",\"#bc1f2c\",\"#bb1a2b\",\"#b9162a\",\"#b81129\",\"#b60d28\",\"#b50827\",\"#b30326\"],\"nan_color\":\"white\",\"low\":0.019297960168256842,\"high\":0.736550700124454}}}}},\"selection_glyph\":{\"type\":\"object\",\"name\":\"Rect\",\"id\":\"p1056\",\"attributes\":{\"tags\":[\"apply_ranges\"],\"x\":{\"type\":\"field\",\"field\":\"columns\"},\"y\":{\"type\":\"field\",\"field\":\"index\"},\"width\":{\"type\":\"value\",\"value\":1},\"height\":{\"type\":\"value\",\"value\":1},\"line_color\":{\"type\":\"value\",\"value\":\"#1f77b4\"},\"line_alpha\":{\"type\":\"value\",\"value\":0},\"fill_color\":{\"type\":\"field\",\"field\":\"zvalues\",\"transform\":{\"id\":\"p1047\"}}}},\"nonselection_glyph\":{\"type\":\"object\",\"name\":\"Rect\",\"id\":\"p1055\",\"attributes\":{\"tags\":[\"apply_ranges\"],\"x\":{\"type\":\"field\",\"field\":\"columns\"},\"y\":{\"type\":\"field\",\"field\":\"index\"},\"width\":{\"type\":\"value\",\"value\":1},\"height\":{\"type\":\"value\",\"value\":1},\"line_color\":{\"type\":\"value\",\"value\":\"#1f77b4\"},\"line_alpha\":{\"type\":\"value\",\"value\":0},\"fill_color\":{\"type\":\"field\",\"field\":\"zvalues\",\"transform\":{\"id\":\"p1047\"}},\"fill_alpha\":{\"type\":\"value\",\"value\":0.1},\"hatch_alpha\":{\"type\":\"value\",\"value\":0.1}}},\"muted_glyph\":{\"type\":\"object\",\"name\":\"Rect\",\"id\":\"p1057\",\"attributes\":{\"tags\":[\"apply_ranges\"],\"x\":{\"type\":\"field\",\"field\":\"columns\"},\"y\":{\"type\":\"field\",\"field\":\"index\"},\"width\":{\"type\":\"value\",\"value\":1},\"height\":{\"type\":\"value\",\"value\":1},\"line_color\":{\"type\":\"value\",\"value\":\"#1f77b4\"},\"line_alpha\":{\"type\":\"value\",\"value\":0},\"fill_color\":{\"type\":\"field\",\"field\":\"zvalues\",\"transform\":{\"id\":\"p1047\"}},\"fill_alpha\":{\"type\":\"value\",\"value\":0.2},\"hatch_alpha\":{\"type\":\"value\",\"value\":0.2}}}}}],\"toolbar\":{\"type\":\"object\",\"name\":\"Toolbar\",\"id\":\"p1025\",\"attributes\":{\"tools\":[{\"type\":\"object\",\"name\":\"WheelZoomTool\",\"id\":\"p1014\",\"attributes\":{\"tags\":[\"hv_created\"],\"renderers\":\"auto\",\"zoom_together\":\"none\"}},{\"type\":\"object\",\"name\":\"HoverTool\",\"id\":\"p1015\",\"attributes\":{\"tags\":[\"hv_created\"],\"renderers\":[{\"id\":\"p1058\"}],\"tooltips\":[[\"columns\",\"@{columns}\"],[\"index\",\"@{index}\"],[\"value\",\"@{value}\"]]}},{\"type\":\"object\",\"name\":\"SaveTool\",\"id\":\"p1038\"},{\"type\":\"object\",\"name\":\"PanTool\",\"id\":\"p1039\"},{\"type\":\"object\",\"name\":\"BoxZoomTool\",\"id\":\"p1040\",\"attributes\":{\"overlay\":{\"type\":\"object\",\"name\":\"BoxAnnotation\",\"id\":\"p1041\",\"attributes\":{\"syncable\":false,\"level\":\"overlay\",\"visible\":false,\"left\":{\"type\":\"number\",\"value\":\"nan\"},\"right\":{\"type\":\"number\",\"value\":\"nan\"},\"top\":{\"type\":\"number\",\"value\":\"nan\"},\"bottom\":{\"type\":\"number\",\"value\":\"nan\"},\"left_units\":\"canvas\",\"right_units\":\"canvas\",\"top_units\":\"canvas\",\"bottom_units\":\"canvas\",\"line_color\":\"black\",\"line_alpha\":1.0,\"line_width\":2,\"line_dash\":[4,4],\"fill_color\":\"lightgrey\",\"fill_alpha\":0.5}}}},{\"type\":\"object\",\"name\":\"ResetTool\",\"id\":\"p1046\"}],\"active_drag\":{\"id\":\"p1039\"},\"active_scroll\":{\"id\":\"p1014\"}}},\"left\":[{\"type\":\"object\",\"name\":\"CategoricalAxis\",\"id\":\"p1033\",\"attributes\":{\"ticker\":{\"type\":\"object\",\"name\":\"CategoricalTicker\",\"id\":\"p1034\"},\"formatter\":{\"type\":\"object\",\"name\":\"CategoricalTickFormatter\",\"id\":\"p1035\"},\"axis_label\":\"Principal Components\",\"major_label_policy\":{\"type\":\"object\",\"name\":\"AllLabels\",\"id\":\"p1036\"}}}],\"right\":[{\"type\":\"object\",\"name\":\"ColorBar\",\"id\":\"p1062\",\"attributes\":{\"location\":[0,0],\"ticker\":{\"type\":\"object\",\"name\":\"BasicTicker\",\"id\":\"p1061\",\"attributes\":{\"mantissas\":[1,2,5]}},\"major_label_policy\":{\"type\":\"object\",\"name\":\"NoOverlap\",\"id\":\"p1063\"},\"label_standoff\":8,\"major_tick_line_color\":\"black\",\"bar_line_color\":\"black\",\"color_mapper\":{\"id\":\"p1047\"}}}],\"below\":[{\"type\":\"object\",\"name\":\"CategoricalAxis\",\"id\":\"p1028\",\"attributes\":{\"ticker\":{\"type\":\"object\",\"name\":\"CategoricalTicker\",\"id\":\"p1029\"},\"formatter\":{\"type\":\"object\",\"name\":\"CategoricalTickFormatter\",\"id\":\"p1030\"},\"axis_label\":\"Features\",\"major_label_policy\":{\"type\":\"object\",\"name\":\"AllLabels\",\"id\":\"p1031\"}}}],\"center\":[{\"type\":\"object\",\"name\":\"Grid\",\"id\":\"p1032\",\"attributes\":{\"axis\":{\"id\":\"p1028\"},\"grid_line_color\":null}},{\"type\":\"object\",\"name\":\"Grid\",\"id\":\"p1037\",\"attributes\":{\"dimension\":1,\"axis\":{\"id\":\"p1033\"},\"grid_line_color\":null}}],\"min_border_top\":10,\"min_border_bottom\":10,\"min_border_left\":10,\"min_border_right\":10,\"output_backend\":\"webgl\"}},{\"type\":\"object\",\"name\":\"Spacer\",\"id\":\"p1065\",\"attributes\":{\"name\":\"HSpacer00917\",\"stylesheets\":[\"\\n:host(.pn-loading.pn-arc):before, .pn-loading.pn-arc:before {\\n  background-image: url(\\\"data:image/svg+xml;base64,PHN2ZyB4bWxucz0iaHR0cDovL3d3dy53My5vcmcvMjAwMC9zdmciIHN0eWxlPSJtYXJnaW46IGF1dG87IGJhY2tncm91bmQ6IG5vbmU7IGRpc3BsYXk6IGJsb2NrOyBzaGFwZS1yZW5kZXJpbmc6IGF1dG87IiB2aWV3Qm94PSIwIDAgMTAwIDEwMCIgcHJlc2VydmVBc3BlY3RSYXRpbz0ieE1pZFlNaWQiPiAgPGNpcmNsZSBjeD0iNTAiIGN5PSI1MCIgZmlsbD0ibm9uZSIgc3Ryb2tlPSIjYzNjM2MzIiBzdHJva2Utd2lkdGg9IjEwIiByPSIzNSIgc3Ryb2tlLWRhc2hhcnJheT0iMTY0LjkzMzYxNDMxMzQ2NDE1IDU2Ljk3Nzg3MTQzNzgyMTM4Ij4gICAgPGFuaW1hdGVUcmFuc2Zvcm0gYXR0cmlidXRlTmFtZT0idHJhbnNmb3JtIiB0eXBlPSJyb3RhdGUiIHJlcGVhdENvdW50PSJpbmRlZmluaXRlIiBkdXI9IjFzIiB2YWx1ZXM9IjAgNTAgNTA7MzYwIDUwIDUwIiBrZXlUaW1lcz0iMDsxIj48L2FuaW1hdGVUcmFuc2Zvcm0+ICA8L2NpcmNsZT48L3N2Zz4=\\\");\\n  background-size: auto calc(min(50%, 400px));\\n}\",{\"id\":\"p1007\"},{\"id\":\"p1005\"},{\"id\":\"p1006\"}],\"margin\":0,\"sizing_mode\":\"stretch_width\",\"align\":\"start\"}}]}}],\"defs\":[{\"type\":\"model\",\"name\":\"ReactiveHTML1\"},{\"type\":\"model\",\"name\":\"FlexBox1\",\"properties\":[{\"name\":\"align_content\",\"kind\":\"Any\",\"default\":\"flex-start\"},{\"name\":\"align_items\",\"kind\":\"Any\",\"default\":\"flex-start\"},{\"name\":\"flex_direction\",\"kind\":\"Any\",\"default\":\"row\"},{\"name\":\"flex_wrap\",\"kind\":\"Any\",\"default\":\"wrap\"},{\"name\":\"justify_content\",\"kind\":\"Any\",\"default\":\"flex-start\"}]},{\"type\":\"model\",\"name\":\"FloatPanel1\",\"properties\":[{\"name\":\"config\",\"kind\":\"Any\",\"default\":{\"type\":\"map\"}},{\"name\":\"contained\",\"kind\":\"Any\",\"default\":true},{\"name\":\"position\",\"kind\":\"Any\",\"default\":\"right-top\"},{\"name\":\"offsetx\",\"kind\":\"Any\",\"default\":null},{\"name\":\"offsety\",\"kind\":\"Any\",\"default\":null},{\"name\":\"theme\",\"kind\":\"Any\",\"default\":\"primary\"},{\"name\":\"status\",\"kind\":\"Any\",\"default\":\"normalized\"}]},{\"type\":\"model\",\"name\":\"GridStack1\",\"properties\":[{\"name\":\"mode\",\"kind\":\"Any\",\"default\":\"warn\"},{\"name\":\"ncols\",\"kind\":\"Any\",\"default\":null},{\"name\":\"nrows\",\"kind\":\"Any\",\"default\":null},{\"name\":\"allow_resize\",\"kind\":\"Any\",\"default\":true},{\"name\":\"allow_drag\",\"kind\":\"Any\",\"default\":true},{\"name\":\"state\",\"kind\":\"Any\",\"default\":[]}]},{\"type\":\"model\",\"name\":\"drag1\",\"properties\":[{\"name\":\"slider_width\",\"kind\":\"Any\",\"default\":5},{\"name\":\"slider_color\",\"kind\":\"Any\",\"default\":\"black\"},{\"name\":\"value\",\"kind\":\"Any\",\"default\":50}]},{\"type\":\"model\",\"name\":\"click1\",\"properties\":[{\"name\":\"terminal_output\",\"kind\":\"Any\",\"default\":\"\"},{\"name\":\"debug_name\",\"kind\":\"Any\",\"default\":\"\"},{\"name\":\"clears\",\"kind\":\"Any\",\"default\":0}]},{\"type\":\"model\",\"name\":\"copy_to_clipboard1\",\"properties\":[{\"name\":\"fill\",\"kind\":\"Any\",\"default\":\"none\"},{\"name\":\"value\",\"kind\":\"Any\",\"default\":null}]},{\"type\":\"model\",\"name\":\"FastWrapper1\",\"properties\":[{\"name\":\"object\",\"kind\":\"Any\",\"default\":null},{\"name\":\"style\",\"kind\":\"Any\",\"default\":null}]},{\"type\":\"model\",\"name\":\"NotificationAreaBase1\",\"properties\":[{\"name\":\"js_events\",\"kind\":\"Any\",\"default\":{\"type\":\"map\"}},{\"name\":\"position\",\"kind\":\"Any\",\"default\":\"bottom-right\"},{\"name\":\"_clear\",\"kind\":\"Any\",\"default\":0}]},{\"type\":\"model\",\"name\":\"NotificationArea1\",\"properties\":[{\"name\":\"js_events\",\"kind\":\"Any\",\"default\":{\"type\":\"map\"}},{\"name\":\"notifications\",\"kind\":\"Any\",\"default\":[]},{\"name\":\"position\",\"kind\":\"Any\",\"default\":\"bottom-right\"},{\"name\":\"_clear\",\"kind\":\"Any\",\"default\":0},{\"name\":\"types\",\"kind\":\"Any\",\"default\":[{\"type\":\"map\",\"entries\":[[\"type\",\"warning\"],[\"background\",\"#ffc107\"],[\"icon\",{\"type\":\"map\",\"entries\":[[\"className\",\"fas fa-exclamation-triangle\"],[\"tagName\",\"i\"],[\"color\",\"white\"]]}]]},{\"type\":\"map\",\"entries\":[[\"type\",\"info\"],[\"background\",\"#007bff\"],[\"icon\",{\"type\":\"map\",\"entries\":[[\"className\",\"fas fa-info-circle\"],[\"tagName\",\"i\"],[\"color\",\"white\"]]}]]}]}]},{\"type\":\"model\",\"name\":\"Notification\",\"properties\":[{\"name\":\"background\",\"kind\":\"Any\",\"default\":null},{\"name\":\"duration\",\"kind\":\"Any\",\"default\":3000},{\"name\":\"icon\",\"kind\":\"Any\",\"default\":null},{\"name\":\"message\",\"kind\":\"Any\",\"default\":\"\"},{\"name\":\"notification_type\",\"kind\":\"Any\",\"default\":null},{\"name\":\"_destroyed\",\"kind\":\"Any\",\"default\":false}]},{\"type\":\"model\",\"name\":\"TemplateActions1\",\"properties\":[{\"name\":\"open_modal\",\"kind\":\"Any\",\"default\":0},{\"name\":\"close_modal\",\"kind\":\"Any\",\"default\":0}]},{\"type\":\"model\",\"name\":\"BootstrapTemplateActions1\",\"properties\":[{\"name\":\"open_modal\",\"kind\":\"Any\",\"default\":0},{\"name\":\"close_modal\",\"kind\":\"Any\",\"default\":0}]},{\"type\":\"model\",\"name\":\"MaterialTemplateActions1\",\"properties\":[{\"name\":\"open_modal\",\"kind\":\"Any\",\"default\":0},{\"name\":\"close_modal\",\"kind\":\"Any\",\"default\":0}]}]}};\n",
       "  var render_items = [{\"docid\":\"22fe578f-7ba6-45af-ac42-848918bbfde8\",\"roots\":{\"p1004\":\"bcc1be34-d6c4-4373-a9d0-f7a1913ff2cb\"},\"root_ids\":[\"p1004\"]}];\n",
       "  var docs = Object.values(docs_json)\n",
       "  if (!docs) {\n",
       "    return\n",
       "  }\n",
       "  const py_version = docs[0].version.replace('rc', '-rc.').replace('.dev', '-dev.')\n",
       "  function embed_document(root) {\n",
       "    var Bokeh = get_bokeh(root)\n",
       "    Bokeh.embed.embed_items_notebook(docs_json, render_items);\n",
       "    for (const render_item of render_items) {\n",
       "      for (const root_id of render_item.root_ids) {\n",
       "\tconst id_el = document.getElementById(root_id)\n",
       "\tif (id_el.children.length && (id_el.children[0].className === 'bk-root')) {\n",
       "\t  const root_el = id_el.children[0]\n",
       "\t  root_el.id = root_el.id + '-rendered'\n",
       "\t}\n",
       "      }\n",
       "    }\n",
       "  }\n",
       "  function get_bokeh(root) {\n",
       "    if (root.Bokeh === undefined) {\n",
       "      return null\n",
       "    } else if (root.Bokeh.version !== py_version) {\n",
       "      if (root.Bokeh.versions === undefined || !root.Bokeh.versions.has(py_version)) {\n",
       "\treturn null\n",
       "      }\n",
       "      return root.Bokeh.versions.get(py_version);\n",
       "    } else if (root.Bokeh.version === py_version) {\n",
       "      return root.Bokeh\n",
       "    }\n",
       "    return null\n",
       "  }\n",
       "  function is_loaded(root) {\n",
       "    var Bokeh = get_bokeh(root)\n",
       "    return (Bokeh != null && Bokeh.Panel !== undefined)\n",
       "  }\n",
       "  if (is_loaded(root)) {\n",
       "    embed_document(root);\n",
       "  } else {\n",
       "    var attempts = 0;\n",
       "    var timer = setInterval(function(root) {\n",
       "      if (is_loaded(root)) {\n",
       "        clearInterval(timer);\n",
       "        embed_document(root);\n",
       "      } else if (document.readyState == \"complete\") {\n",
       "        attempts++;\n",
       "        if (attempts > 200) {\n",
       "          clearInterval(timer);\n",
       "\t  var Bokeh = get_bokeh(root)\n",
       "\t  if (Bokeh == null || Bokeh.Panel == null) {\n",
       "            console.warn(\"Panel: ERROR: Unable to run Panel code because Bokeh or Panel library is missing\");\n",
       "\t  } else {\n",
       "\t    console.warn(\"Panel: WARNING: Attempting to render but not all required libraries could be resolved.\")\n",
       "\t    embed_document(root)\n",
       "\t  }\n",
       "        }\n",
       "      }\n",
       "    }, 25, root)\n",
       "  }\n",
       "})(window);</script>"
      ],
      "text/plain": [
       ":HeatMap   [columns,index]   (value)"
      ]
     },
     "execution_count": 10,
     "metadata": {
      "application/vnd.holoviews_exec.v0+json": {
       "id": "p1004"
      }
     },
     "output_type": "execute_result"
    }
   ],
   "source": [
    "# Assuming pca_weights_df is your DataFrame containing weights\n",
    "heatmap = pca_weights_df.hvplot.heatmap(\n",
    "    xlabel='Features', \n",
    "    ylabel='Principal Components',\n",
    "    title='Weights of Original Features in Principal Components',\n",
    "    cmap='coolwarm',\n",
    "    width=700,\n",
    "    height=500\n",
    ")\n",
    "\n",
    "heatmap"
   ]
  },
  {
   "cell_type": "code",
   "execution_count": 11,
   "metadata": {},
   "outputs": [
    {
     "data": {
      "image/png": "[encoded data removed]",
      "text/plain": [
       "<Figure size 1200x800 with 2 Axes>"
      ]
     },
     "metadata": {},
     "output_type": "display_data"
    }
   ],
   "source": [
    "import seaborn as sns\n",
    "import matplotlib.pyplot as plt\n",
    "\n",
    "# Set the style of the heatmap\n",
    "# sns.set(style=\"whitegrid\")\n",
    "\n",
    "# Create a heatmap of the PCA weights\n",
    "plt.figure(figsize=(12, 8))\n",
    "sns.heatmap(pca_weights_df, annot=True, cmap=\"coolwarm\", linewidths=.5)\n",
    "plt.title('Weights of Original Features in Principal Components')\n",
    "plt.xlabel('Original Features')\n",
    "plt.ylabel('Principal Components')\n",
    "plt.show()"
   ]
  },
  {
   "cell_type": "markdown",
   "metadata": {},
   "source": [
    "## Part 2: Using the `customers_pca_df` Dataframe, utilize the elbow method to determine the optimal value of k."
   ]
  },
  {
   "cell_type": "code",
   "execution_count": 12,
   "metadata": {},
   "outputs": [],
   "source": [
    "# Create a a list to store inertia values and the values of k\n",
    "inertia = []\n",
    "k = list(range(1, 11))"
   ]
  },
  {
   "cell_type": "code",
   "execution_count": 13,
   "metadata": {},
   "outputs": [],
   "source": [
    "# Create a for-loop where each value of k is evaluated using the K-means algorithm\n",
    "# Fit the model using the service_ratings DataFrame\n",
    "# Append the value of the computed inertia from the `inertia_` attribute of the KMeans model instance\n",
    "for i in k:\n",
    "    k_model = KMeans(n_clusters=i, random_state=0)\n",
    "    k_model.fit(customer_pca_df)\n",
    "    inertia.append(k_model.inertia_)"
   ]
  },
  {
   "cell_type": "code",
   "execution_count": 14,
   "metadata": {},
   "outputs": [
    {
     "data": {
      "text/html": [
       "<div>\n",
       "<style scoped>\n",
       "    .dataframe tbody tr th:only-of-type {\n",
       "        vertical-align: middle;\n",
       "    }\n",
       "\n",
       "    .dataframe tbody tr th {\n",
       "        vertical-align: top;\n",
       "    }\n",
       "\n",
       "    .dataframe thead th {\n",
       "        text-align: right;\n",
       "    }\n",
       "</style>\n",
       "<table border=\"1\" class=\"dataframe\">\n",
       "  <thead>\n",
       "    <tr style=\"text-align: right;\">\n",
       "      <th></th>\n",
       "      <th>k</th>\n",
       "      <th>inertia</th>\n",
       "    </tr>\n",
       "  </thead>\n",
       "  <tbody>\n",
       "    <tr>\n",
       "      <th>0</th>\n",
       "      <td>1</td>\n",
       "      <td>49585.714978</td>\n",
       "    </tr>\n",
       "    <tr>\n",
       "      <th>1</th>\n",
       "      <td>2</td>\n",
       "      <td>23750.955470</td>\n",
       "    </tr>\n",
       "    <tr>\n",
       "      <th>2</th>\n",
       "      <td>3</td>\n",
       "      <td>8773.172935</td>\n",
       "    </tr>\n",
       "    <tr>\n",
       "      <th>3</th>\n",
       "      <td>4</td>\n",
       "      <td>6840.237425</td>\n",
       "    </tr>\n",
       "    <tr>\n",
       "      <th>4</th>\n",
       "      <td>5</td>\n",
       "      <td>5378.897735</td>\n",
       "    </tr>\n",
       "  </tbody>\n",
       "</table>\n",
       "</div>"
      ],
      "text/plain": [
       "   k       inertia\n",
       "0  1  49585.714978\n",
       "1  2  23750.955470\n",
       "2  3   8773.172935\n",
       "3  4   6840.237425\n",
       "4  5   5378.897735"
      ]
     },
     "execution_count": 14,
     "metadata": {},
     "output_type": "execute_result"
    }
   ],
   "source": [
    "# Define a DataFrame to hold the values for k and the corresponding inertia\n",
    "elbow_data = {\"k\": k, \"inertia\": inertia}\n",
    "\n",
    "# Create the DataFrame from the elbow data\n",
    "\n",
    "df_elbow = pd.DataFrame(elbow_data)\n",
    "\n",
    "# Review the DataFrame\n",
    "df_elbow.head()"
   ]
  },
  {
   "cell_type": "code",
   "execution_count": 15,
   "metadata": {},
   "outputs": [
    {
     "data": {},
     "metadata": {},
     "output_type": "display_data"
    },
    {
     "data": {
      "application/vnd.holoviews_exec.v0+json": "",
      "text/html": [
       "<div id='p1070'>\n",
       "  <div id=\"b1c7c858-5889-4867-bee0-37e99e529f0c\" data-root-id=\"p1070\" style=\"display: contents;\"></div>\n",
       "</div>\n",
       "<script type=\"application/javascript\">(function(root) {\n",
       "  var docs_json = {\"ab785730-2e75-4a1c-823b-cbd5a8386f14\":{\"version\":\"3.3.4\",\"title\":\"Bokeh Application\",\"roots\":[{\"type\":\"object\",\"name\":\"Row\",\"id\":\"p1070\",\"attributes\":{\"name\":\"Row01027\",\"tags\":[\"embedded\"],\"stylesheets\":[\"\\n:host(.pn-loading.pn-arc):before, .pn-loading.pn-arc:before {\\n  background-image: url(\\\"data:image/svg+xml;base64,PHN2ZyB4bWxucz0iaHR0cDovL3d3dy53My5vcmcvMjAwMC9zdmciIHN0eWxlPSJtYXJnaW46IGF1dG87IGJhY2tncm91bmQ6IG5vbmU7IGRpc3BsYXk6IGJsb2NrOyBzaGFwZS1yZW5kZXJpbmc6IGF1dG87IiB2aWV3Qm94PSIwIDAgMTAwIDEwMCIgcHJlc2VydmVBc3BlY3RSYXRpbz0ieE1pZFlNaWQiPiAgPGNpcmNsZSBjeD0iNTAiIGN5PSI1MCIgZmlsbD0ibm9uZSIgc3Ryb2tlPSIjYzNjM2MzIiBzdHJva2Utd2lkdGg9IjEwIiByPSIzNSIgc3Ryb2tlLWRhc2hhcnJheT0iMTY0LjkzMzYxNDMxMzQ2NDE1IDU2Ljk3Nzg3MTQzNzgyMTM4Ij4gICAgPGFuaW1hdGVUcmFuc2Zvcm0gYXR0cmlidXRlTmFtZT0idHJhbnNmb3JtIiB0eXBlPSJyb3RhdGUiIHJlcGVhdENvdW50PSJpbmRlZmluaXRlIiBkdXI9IjFzIiB2YWx1ZXM9IjAgNTAgNTA7MzYwIDUwIDUwIiBrZXlUaW1lcz0iMDsxIj48L2FuaW1hdGVUcmFuc2Zvcm0+ICA8L2NpcmNsZT48L3N2Zz4=\\\");\\n  background-size: auto calc(min(50%, 400px));\\n}\",{\"type\":\"object\",\"name\":\"ImportedStyleSheet\",\"id\":\"p1073\",\"attributes\":{\"url\":\"https://cdn.holoviz.org/panel/1.3.8/dist/css/loading.css\"}},{\"type\":\"object\",\"name\":\"ImportedStyleSheet\",\"id\":\"p1130\",\"attributes\":{\"url\":\"https://cdn.holoviz.org/panel/1.3.8/dist/css/listpanel.css\"}},{\"type\":\"object\",\"name\":\"ImportedStyleSheet\",\"id\":\"p1071\",\"attributes\":{\"url\":\"https://cdn.holoviz.org/panel/1.3.8/dist/bundled/theme/default.css\"}},{\"type\":\"object\",\"name\":\"ImportedStyleSheet\",\"id\":\"p1072\",\"attributes\":{\"url\":\"https://cdn.holoviz.org/panel/1.3.8/dist/bundled/theme/native.css\"}}],\"min_width\":700,\"margin\":0,\"sizing_mode\":\"stretch_width\",\"align\":\"start\",\"children\":[{\"type\":\"object\",\"name\":\"Spacer\",\"id\":\"p1074\",\"attributes\":{\"name\":\"HSpacer01034\",\"stylesheets\":[\"\\n:host(.pn-loading.pn-arc):before, .pn-loading.pn-arc:before {\\n  background-image: url(\\\"data:image/svg+xml;base64,PHN2ZyB4bWxucz0iaHR0cDovL3d3dy53My5vcmcvMjAwMC9zdmciIHN0eWxlPSJtYXJnaW46IGF1dG87IGJhY2tncm91bmQ6IG5vbmU7IGRpc3BsYXk6IGJsb2NrOyBzaGFwZS1yZW5kZXJpbmc6IGF1dG87IiB2aWV3Qm94PSIwIDAgMTAwIDEwMCIgcHJlc2VydmVBc3BlY3RSYXRpbz0ieE1pZFlNaWQiPiAgPGNpcmNsZSBjeD0iNTAiIGN5PSI1MCIgZmlsbD0ibm9uZSIgc3Ryb2tlPSIjYzNjM2MzIiBzdHJva2Utd2lkdGg9IjEwIiByPSIzNSIgc3Ryb2tlLWRhc2hhcnJheT0iMTY0LjkzMzYxNDMxMzQ2NDE1IDU2Ljk3Nzg3MTQzNzgyMTM4Ij4gICAgPGFuaW1hdGVUcmFuc2Zvcm0gYXR0cmlidXRlTmFtZT0idHJhbnNmb3JtIiB0eXBlPSJyb3RhdGUiIHJlcGVhdENvdW50PSJpbmRlZmluaXRlIiBkdXI9IjFzIiB2YWx1ZXM9IjAgNTAgNTA7MzYwIDUwIDUwIiBrZXlUaW1lcz0iMDsxIj48L2FuaW1hdGVUcmFuc2Zvcm0+ICA8L2NpcmNsZT48L3N2Zz4=\\\");\\n  background-size: auto calc(min(50%, 400px));\\n}\",{\"id\":\"p1073\"},{\"id\":\"p1071\"},{\"id\":\"p1072\"}],\"margin\":0,\"sizing_mode\":\"stretch_width\",\"align\":\"start\"}},{\"type\":\"object\",\"name\":\"Figure\",\"id\":\"p1082\",\"attributes\":{\"width\":700,\"height\":300,\"margin\":[5,10],\"sizing_mode\":\"fixed\",\"align\":\"start\",\"x_range\":{\"type\":\"object\",\"name\":\"Range1d\",\"id\":\"p1075\",\"attributes\":{\"tags\":[[[\"k\",\"k\",null]],[]],\"start\":1.0,\"end\":10.0,\"reset_start\":1.0,\"reset_end\":10.0}},\"y_range\":{\"type\":\"object\",\"name\":\"Range1d\",\"id\":\"p1076\",\"attributes\":{\"tags\":[[[\"inertia\",\"inertia\",null]],{\"type\":\"map\",\"entries\":[[\"invert_yaxis\",false],[\"autorange\",false]]}],\"start\":-1861.9980163830055,\"end\":54262.77979618126,\"reset_start\":-1861.9980163830055,\"reset_end\":54262.77979618126}},\"x_scale\":{\"type\":\"object\",\"name\":\"LinearScale\",\"id\":\"p1092\"},\"y_scale\":{\"type\":\"object\",\"name\":\"LinearScale\",\"id\":\"p1093\"},\"title\":{\"type\":\"object\",\"name\":\"Title\",\"id\":\"p1085\",\"attributes\":{\"text\":\"Elbow Curve\",\"text_color\":\"black\",\"text_font_size\":\"12pt\"}},\"renderers\":[{\"type\":\"object\",\"name\":\"GlyphRenderer\",\"id\":\"p1122\",\"attributes\":{\"data_source\":{\"type\":\"object\",\"name\":\"ColumnDataSource\",\"id\":\"p1113\",\"attributes\":{\"selected\":{\"type\":\"object\",\"name\":\"Selection\",\"id\":\"p1114\",\"attributes\":{\"indices\":[],\"line_indices\":[]}},\"selection_policy\":{\"type\":\"object\",\"name\":\"UnionRenderers\",\"id\":\"p1115\"},\"data\":{\"type\":\"map\",\"entries\":[[\"k\",{\"type\":\"ndarray\",\"array\":{\"type\":\"bytes\",\"data\":\"AQAAAAIAAAADAAAABAAAAAUAAAAGAAAABwAAAAgAAAAJAAAACgAAAA==\"},\"shape\":[10],\"dtype\":\"int32\",\"order\":\"little\"}],[\"inertia\",{\"type\":\"ndarray\",\"array\":{\"type\":\"bytes\",\"data\":\"8oUa4TY26EC6vmwmvTHXQHlduSKWIsFAWCzoxzy4ukBekvPR5QK1QL4h/1RBy7FAnYhwwDu3rkCE/E3vdtGrQPLk4Bc6A6hAO7XIMyL+pUA=\"},\"shape\":[10],\"dtype\":\"float64\",\"order\":\"little\"}]]}}},\"view\":{\"type\":\"object\",\"name\":\"CDSView\",\"id\":\"p1123\",\"attributes\":{\"filter\":{\"type\":\"object\",\"name\":\"AllIndices\",\"id\":\"p1124\"}}},\"glyph\":{\"type\":\"object\",\"name\":\"Line\",\"id\":\"p1119\",\"attributes\":{\"tags\":[\"apply_ranges\"],\"x\":{\"type\":\"field\",\"field\":\"k\"},\"y\":{\"type\":\"field\",\"field\":\"inertia\"},\"line_color\":\"#30a2da\",\"line_width\":2}},\"selection_glyph\":{\"type\":\"object\",\"name\":\"Line\",\"id\":\"p1125\",\"attributes\":{\"tags\":[\"apply_ranges\"],\"x\":{\"type\":\"field\",\"field\":\"k\"},\"y\":{\"type\":\"field\",\"field\":\"inertia\"},\"line_color\":\"#30a2da\",\"line_width\":2}},\"nonselection_glyph\":{\"type\":\"object\",\"name\":\"Line\",\"id\":\"p1120\",\"attributes\":{\"tags\":[\"apply_ranges\"],\"x\":{\"type\":\"field\",\"field\":\"k\"},\"y\":{\"type\":\"field\",\"field\":\"inertia\"},\"line_color\":\"#30a2da\",\"line_alpha\":0.1,\"line_width\":2}},\"muted_glyph\":{\"type\":\"object\",\"name\":\"Line\",\"id\":\"p1121\",\"attributes\":{\"tags\":[\"apply_ranges\"],\"x\":{\"type\":\"field\",\"field\":\"k\"},\"y\":{\"type\":\"field\",\"field\":\"inertia\"},\"line_color\":\"#30a2da\",\"line_alpha\":0.2,\"line_width\":2}}}}],\"toolbar\":{\"type\":\"object\",\"name\":\"Toolbar\",\"id\":\"p1091\",\"attributes\":{\"tools\":[{\"type\":\"object\",\"name\":\"WheelZoomTool\",\"id\":\"p1080\",\"attributes\":{\"tags\":[\"hv_created\"],\"renderers\":\"auto\",\"zoom_together\":\"none\"}},{\"type\":\"object\",\"name\":\"HoverTool\",\"id\":\"p1081\",\"attributes\":{\"tags\":[\"hv_created\"],\"renderers\":[{\"id\":\"p1122\"}],\"tooltips\":[[\"k\",\"@{k}\"],[\"inertia\",\"@{inertia}\"]]}},{\"type\":\"object\",\"name\":\"SaveTool\",\"id\":\"p1104\"},{\"type\":\"object\",\"name\":\"PanTool\",\"id\":\"p1105\"},{\"type\":\"object\",\"name\":\"BoxZoomTool\",\"id\":\"p1106\",\"attributes\":{\"overlay\":{\"type\":\"object\",\"name\":\"BoxAnnotation\",\"id\":\"p1107\",\"attributes\":{\"syncable\":false,\"level\":\"overlay\",\"visible\":false,\"left\":{\"type\":\"number\",\"value\":\"nan\"},\"right\":{\"type\":\"number\",\"value\":\"nan\"},\"top\":{\"type\":\"number\",\"value\":\"nan\"},\"bottom\":{\"type\":\"number\",\"value\":\"nan\"},\"left_units\":\"canvas\",\"right_units\":\"canvas\",\"top_units\":\"canvas\",\"bottom_units\":\"canvas\",\"line_color\":\"black\",\"line_alpha\":1.0,\"line_width\":2,\"line_dash\":[4,4],\"fill_color\":\"lightgrey\",\"fill_alpha\":0.5}}}},{\"type\":\"object\",\"name\":\"ResetTool\",\"id\":\"p1112\"}],\"active_drag\":{\"id\":\"p1105\"},\"active_scroll\":{\"id\":\"p1080\"}}},\"left\":[{\"type\":\"object\",\"name\":\"LinearAxis\",\"id\":\"p1099\",\"attributes\":{\"ticker\":{\"type\":\"object\",\"name\":\"BasicTicker\",\"id\":\"p1100\",\"attributes\":{\"mantissas\":[1,2,5]}},\"formatter\":{\"type\":\"object\",\"name\":\"BasicTickFormatter\",\"id\":\"p1101\"},\"axis_label\":\"inertia\",\"major_label_policy\":{\"type\":\"object\",\"name\":\"AllLabels\",\"id\":\"p1102\"}}}],\"below\":[{\"type\":\"object\",\"name\":\"LinearAxis\",\"id\":\"p1094\",\"attributes\":{\"ticker\":{\"type\":\"object\",\"name\":\"FixedTicker\",\"id\":\"p1126\",\"attributes\":{\"ticks\":[1,2,3,4,5,6,7,8,9,10],\"minor_ticks\":[]}},\"formatter\":{\"type\":\"object\",\"name\":\"BasicTickFormatter\",\"id\":\"p1096\"},\"axis_label\":\"k\",\"major_label_policy\":{\"type\":\"object\",\"name\":\"AllLabels\",\"id\":\"p1097\"}}}],\"center\":[{\"type\":\"object\",\"name\":\"Grid\",\"id\":\"p1098\",\"attributes\":{\"axis\":{\"id\":\"p1094\"},\"grid_line_color\":null}},{\"type\":\"object\",\"name\":\"Grid\",\"id\":\"p1103\",\"attributes\":{\"dimension\":1,\"axis\":{\"id\":\"p1099\"},\"grid_line_color\":null}}],\"min_border_top\":10,\"min_border_bottom\":10,\"min_border_left\":10,\"min_border_right\":10,\"output_backend\":\"webgl\"}},{\"type\":\"object\",\"name\":\"Spacer\",\"id\":\"p1128\",\"attributes\":{\"name\":\"HSpacer01035\",\"stylesheets\":[\"\\n:host(.pn-loading.pn-arc):before, .pn-loading.pn-arc:before {\\n  background-image: url(\\\"data:image/svg+xml;base64,PHN2ZyB4bWxucz0iaHR0cDovL3d3dy53My5vcmcvMjAwMC9zdmciIHN0eWxlPSJtYXJnaW46IGF1dG87IGJhY2tncm91bmQ6IG5vbmU7IGRpc3BsYXk6IGJsb2NrOyBzaGFwZS1yZW5kZXJpbmc6IGF1dG87IiB2aWV3Qm94PSIwIDAgMTAwIDEwMCIgcHJlc2VydmVBc3BlY3RSYXRpbz0ieE1pZFlNaWQiPiAgPGNpcmNsZSBjeD0iNTAiIGN5PSI1MCIgZmlsbD0ibm9uZSIgc3Ryb2tlPSIjYzNjM2MzIiBzdHJva2Utd2lkdGg9IjEwIiByPSIzNSIgc3Ryb2tlLWRhc2hhcnJheT0iMTY0LjkzMzYxNDMxMzQ2NDE1IDU2Ljk3Nzg3MTQzNzgyMTM4Ij4gICAgPGFuaW1hdGVUcmFuc2Zvcm0gYXR0cmlidXRlTmFtZT0idHJhbnNmb3JtIiB0eXBlPSJyb3RhdGUiIHJlcGVhdENvdW50PSJpbmRlZmluaXRlIiBkdXI9IjFzIiB2YWx1ZXM9IjAgNTAgNTA7MzYwIDUwIDUwIiBrZXlUaW1lcz0iMDsxIj48L2FuaW1hdGVUcmFuc2Zvcm0+ICA8L2NpcmNsZT48L3N2Zz4=\\\");\\n  background-size: auto calc(min(50%, 400px));\\n}\",{\"id\":\"p1073\"},{\"id\":\"p1071\"},{\"id\":\"p1072\"}],\"margin\":0,\"sizing_mode\":\"stretch_width\",\"align\":\"start\"}}]}}],\"defs\":[{\"type\":\"model\",\"name\":\"ReactiveHTML1\"},{\"type\":\"model\",\"name\":\"FlexBox1\",\"properties\":[{\"name\":\"align_content\",\"kind\":\"Any\",\"default\":\"flex-start\"},{\"name\":\"align_items\",\"kind\":\"Any\",\"default\":\"flex-start\"},{\"name\":\"flex_direction\",\"kind\":\"Any\",\"default\":\"row\"},{\"name\":\"flex_wrap\",\"kind\":\"Any\",\"default\":\"wrap\"},{\"name\":\"justify_content\",\"kind\":\"Any\",\"default\":\"flex-start\"}]},{\"type\":\"model\",\"name\":\"FloatPanel1\",\"properties\":[{\"name\":\"config\",\"kind\":\"Any\",\"default\":{\"type\":\"map\"}},{\"name\":\"contained\",\"kind\":\"Any\",\"default\":true},{\"name\":\"position\",\"kind\":\"Any\",\"default\":\"right-top\"},{\"name\":\"offsetx\",\"kind\":\"Any\",\"default\":null},{\"name\":\"offsety\",\"kind\":\"Any\",\"default\":null},{\"name\":\"theme\",\"kind\":\"Any\",\"default\":\"primary\"},{\"name\":\"status\",\"kind\":\"Any\",\"default\":\"normalized\"}]},{\"type\":\"model\",\"name\":\"GridStack1\",\"properties\":[{\"name\":\"mode\",\"kind\":\"Any\",\"default\":\"warn\"},{\"name\":\"ncols\",\"kind\":\"Any\",\"default\":null},{\"name\":\"nrows\",\"kind\":\"Any\",\"default\":null},{\"name\":\"allow_resize\",\"kind\":\"Any\",\"default\":true},{\"name\":\"allow_drag\",\"kind\":\"Any\",\"default\":true},{\"name\":\"state\",\"kind\":\"Any\",\"default\":[]}]},{\"type\":\"model\",\"name\":\"drag1\",\"properties\":[{\"name\":\"slider_width\",\"kind\":\"Any\",\"default\":5},{\"name\":\"slider_color\",\"kind\":\"Any\",\"default\":\"black\"},{\"name\":\"value\",\"kind\":\"Any\",\"default\":50}]},{\"type\":\"model\",\"name\":\"click1\",\"properties\":[{\"name\":\"terminal_output\",\"kind\":\"Any\",\"default\":\"\"},{\"name\":\"debug_name\",\"kind\":\"Any\",\"default\":\"\"},{\"name\":\"clears\",\"kind\":\"Any\",\"default\":0}]},{\"type\":\"model\",\"name\":\"copy_to_clipboard1\",\"properties\":[{\"name\":\"fill\",\"kind\":\"Any\",\"default\":\"none\"},{\"name\":\"value\",\"kind\":\"Any\",\"default\":null}]},{\"type\":\"model\",\"name\":\"FastWrapper1\",\"properties\":[{\"name\":\"object\",\"kind\":\"Any\",\"default\":null},{\"name\":\"style\",\"kind\":\"Any\",\"default\":null}]},{\"type\":\"model\",\"name\":\"NotificationAreaBase1\",\"properties\":[{\"name\":\"js_events\",\"kind\":\"Any\",\"default\":{\"type\":\"map\"}},{\"name\":\"position\",\"kind\":\"Any\",\"default\":\"bottom-right\"},{\"name\":\"_clear\",\"kind\":\"Any\",\"default\":0}]},{\"type\":\"model\",\"name\":\"NotificationArea1\",\"properties\":[{\"name\":\"js_events\",\"kind\":\"Any\",\"default\":{\"type\":\"map\"}},{\"name\":\"notifications\",\"kind\":\"Any\",\"default\":[]},{\"name\":\"position\",\"kind\":\"Any\",\"default\":\"bottom-right\"},{\"name\":\"_clear\",\"kind\":\"Any\",\"default\":0},{\"name\":\"types\",\"kind\":\"Any\",\"default\":[{\"type\":\"map\",\"entries\":[[\"type\",\"warning\"],[\"background\",\"#ffc107\"],[\"icon\",{\"type\":\"map\",\"entries\":[[\"className\",\"fas fa-exclamation-triangle\"],[\"tagName\",\"i\"],[\"color\",\"white\"]]}]]},{\"type\":\"map\",\"entries\":[[\"type\",\"info\"],[\"background\",\"#007bff\"],[\"icon\",{\"type\":\"map\",\"entries\":[[\"className\",\"fas fa-info-circle\"],[\"tagName\",\"i\"],[\"color\",\"white\"]]}]]}]}]},{\"type\":\"model\",\"name\":\"Notification\",\"properties\":[{\"name\":\"background\",\"kind\":\"Any\",\"default\":null},{\"name\":\"duration\",\"kind\":\"Any\",\"default\":3000},{\"name\":\"icon\",\"kind\":\"Any\",\"default\":null},{\"name\":\"message\",\"kind\":\"Any\",\"default\":\"\"},{\"name\":\"notification_type\",\"kind\":\"Any\",\"default\":null},{\"name\":\"_destroyed\",\"kind\":\"Any\",\"default\":false}]},{\"type\":\"model\",\"name\":\"TemplateActions1\",\"properties\":[{\"name\":\"open_modal\",\"kind\":\"Any\",\"default\":0},{\"name\":\"close_modal\",\"kind\":\"Any\",\"default\":0}]},{\"type\":\"model\",\"name\":\"BootstrapTemplateActions1\",\"properties\":[{\"name\":\"open_modal\",\"kind\":\"Any\",\"default\":0},{\"name\":\"close_modal\",\"kind\":\"Any\",\"default\":0}]},{\"type\":\"model\",\"name\":\"MaterialTemplateActions1\",\"properties\":[{\"name\":\"open_modal\",\"kind\":\"Any\",\"default\":0},{\"name\":\"close_modal\",\"kind\":\"Any\",\"default\":0}]}]}};\n",
       "  var render_items = [{\"docid\":\"ab785730-2e75-4a1c-823b-cbd5a8386f14\",\"roots\":{\"p1070\":\"b1c7c858-5889-4867-bee0-37e99e529f0c\"},\"root_ids\":[\"p1070\"]}];\n",
       "  var docs = Object.values(docs_json)\n",
       "  if (!docs) {\n",
       "    return\n",
       "  }\n",
       "  const py_version = docs[0].version.replace('rc', '-rc.').replace('.dev', '-dev.')\n",
       "  function embed_document(root) {\n",
       "    var Bokeh = get_bokeh(root)\n",
       "    Bokeh.embed.embed_items_notebook(docs_json, render_items);\n",
       "    for (const render_item of render_items) {\n",
       "      for (const root_id of render_item.root_ids) {\n",
       "\tconst id_el = document.getElementById(root_id)\n",
       "\tif (id_el.children.length && (id_el.children[0].className === 'bk-root')) {\n",
       "\t  const root_el = id_el.children[0]\n",
       "\t  root_el.id = root_el.id + '-rendered'\n",
       "\t}\n",
       "      }\n",
       "    }\n",
       "  }\n",
       "  function get_bokeh(root) {\n",
       "    if (root.Bokeh === undefined) {\n",
       "      return null\n",
       "    } else if (root.Bokeh.version !== py_version) {\n",
       "      if (root.Bokeh.versions === undefined || !root.Bokeh.versions.has(py_version)) {\n",
       "\treturn null\n",
       "      }\n",
       "      return root.Bokeh.versions.get(py_version);\n",
       "    } else if (root.Bokeh.version === py_version) {\n",
       "      return root.Bokeh\n",
       "    }\n",
       "    return null\n",
       "  }\n",
       "  function is_loaded(root) {\n",
       "    var Bokeh = get_bokeh(root)\n",
       "    return (Bokeh != null && Bokeh.Panel !== undefined)\n",
       "  }\n",
       "  if (is_loaded(root)) {\n",
       "    embed_document(root);\n",
       "  } else {\n",
       "    var attempts = 0;\n",
       "    var timer = setInterval(function(root) {\n",
       "      if (is_loaded(root)) {\n",
       "        clearInterval(timer);\n",
       "        embed_document(root);\n",
       "      } else if (document.readyState == \"complete\") {\n",
       "        attempts++;\n",
       "        if (attempts > 200) {\n",
       "          clearInterval(timer);\n",
       "\t  var Bokeh = get_bokeh(root)\n",
       "\t  if (Bokeh == null || Bokeh.Panel == null) {\n",
       "            console.warn(\"Panel: ERROR: Unable to run Panel code because Bokeh or Panel library is missing\");\n",
       "\t  } else {\n",
       "\t    console.warn(\"Panel: WARNING: Attempting to render but not all required libraries could be resolved.\")\n",
       "\t    embed_document(root)\n",
       "\t  }\n",
       "        }\n",
       "      }\n",
       "    }, 25, root)\n",
       "  }\n",
       "})(window);</script>"
      ],
      "text/plain": [
       ":Curve   [k]   (inertia)"
      ]
     },
     "execution_count": 15,
     "metadata": {
      "application/vnd.holoviews_exec.v0+json": {
       "id": "p1070"
      }
     },
     "output_type": "execute_result"
    }
   ],
   "source": [
    "# Plot the DataFrame\n",
    "df_elbow.hvplot.line(\n",
    "    x=\"k\", \n",
    "    y=\"inertia\", \n",
    "    title=\"Elbow Curve\", \n",
    "    xticks=k\n",
    ")"
   ]
  },
  {
   "cell_type": "markdown",
   "metadata": {},
   "source": [
    "## Part 3: Segment the `customers_pca_df` DataFrame using the K-means algorithm."
   ]
  },
  {
   "cell_type": "code",
   "execution_count": 16,
   "metadata": {},
   "outputs": [],
   "source": [
    "# Define the model Kmeans model using the optimal value of k for the number of clusters.\n",
    "model = KMeans(n_clusters=3, random_state=0)\n",
    "\n",
    "# Fit the model\n",
    "model.fit(customer_pca_df)\n",
    "\n",
    "# Make predictions\n",
    "k_3 = model.predict(customer_pca_df)\n",
    "\n",
    "# Create a copy of the customers_pca_df DataFrame\n",
    "customer_pca_predictions_df = customer_pca_df.copy()\n",
    "\n",
    "# Add a class column with the labels\n",
    "customer_pca_predictions_df[\"customer_segments\"] = k_3"
   ]
  },
  {
   "cell_type": "code",
   "execution_count": 17,
   "metadata": {},
   "outputs": [
    {
     "data": {},
     "metadata": {},
     "output_type": "display_data"
    },
    {
     "data": {
      "application/vnd.holoviews_exec.v0+json": "",
      "text/html": [
       "<div id='p1134'>\n",
       "  <div id=\"d223cb1e-77ad-48fc-a66c-c0662f47b93e\" data-root-id=\"p1134\" style=\"display: contents;\"></div>\n",
       "</div>\n",
       "<script type=\"application/javascript\">(function(root) {\n",
       "  var docs_json = {\"6982fed7-ce93-41b3-b903-615dbb791a5c\":{\"version\":\"3.3.4\",\"title\":\"Bokeh Application\",\"roots\":[{\"type\":\"object\",\"name\":\"Row\",\"id\":\"p1134\",\"attributes\":{\"name\":\"Row01184\",\"tags\":[\"embedded\"],\"stylesheets\":[\"\\n:host(.pn-loading.pn-arc):before, .pn-loading.pn-arc:before {\\n  background-image: url(\\\"data:image/svg+xml;base64,PHN2ZyB4bWxucz0iaHR0cDovL3d3dy53My5vcmcvMjAwMC9zdmciIHN0eWxlPSJtYXJnaW46IGF1dG87IGJhY2tncm91bmQ6IG5vbmU7IGRpc3BsYXk6IGJsb2NrOyBzaGFwZS1yZW5kZXJpbmc6IGF1dG87IiB2aWV3Qm94PSIwIDAgMTAwIDEwMCIgcHJlc2VydmVBc3BlY3RSYXRpbz0ieE1pZFlNaWQiPiAgPGNpcmNsZSBjeD0iNTAiIGN5PSI1MCIgZmlsbD0ibm9uZSIgc3Ryb2tlPSIjYzNjM2MzIiBzdHJva2Utd2lkdGg9IjEwIiByPSIzNSIgc3Ryb2tlLWRhc2hhcnJheT0iMTY0LjkzMzYxNDMxMzQ2NDE1IDU2Ljk3Nzg3MTQzNzgyMTM4Ij4gICAgPGFuaW1hdGVUcmFuc2Zvcm0gYXR0cmlidXRlTmFtZT0idHJhbnNmb3JtIiB0eXBlPSJyb3RhdGUiIHJlcGVhdENvdW50PSJpbmRlZmluaXRlIiBkdXI9IjFzIiB2YWx1ZXM9IjAgNTAgNTA7MzYwIDUwIDUwIiBrZXlUaW1lcz0iMDsxIj48L2FuaW1hdGVUcmFuc2Zvcm0+ICA8L2NpcmNsZT48L3N2Zz4=\\\");\\n  background-size: auto calc(min(50%, 400px));\\n}\",{\"type\":\"object\",\"name\":\"ImportedStyleSheet\",\"id\":\"p1137\",\"attributes\":{\"url\":\"https://cdn.holoviz.org/panel/1.3.8/dist/css/loading.css\"}},{\"type\":\"object\",\"name\":\"ImportedStyleSheet\",\"id\":\"p1229\",\"attributes\":{\"url\":\"https://cdn.holoviz.org/panel/1.3.8/dist/css/listpanel.css\"}},{\"type\":\"object\",\"name\":\"ImportedStyleSheet\",\"id\":\"p1135\",\"attributes\":{\"url\":\"https://cdn.holoviz.org/panel/1.3.8/dist/bundled/theme/default.css\"}},{\"type\":\"object\",\"name\":\"ImportedStyleSheet\",\"id\":\"p1136\",\"attributes\":{\"url\":\"https://cdn.holoviz.org/panel/1.3.8/dist/bundled/theme/native.css\"}}],\"min_width\":700,\"margin\":0,\"sizing_mode\":\"stretch_width\",\"align\":\"start\",\"children\":[{\"type\":\"object\",\"name\":\"Spacer\",\"id\":\"p1138\",\"attributes\":{\"name\":\"HSpacer01191\",\"stylesheets\":[\"\\n:host(.pn-loading.pn-arc):before, .pn-loading.pn-arc:before {\\n  background-image: url(\\\"data:image/svg+xml;base64,PHN2ZyB4bWxucz0iaHR0cDovL3d3dy53My5vcmcvMjAwMC9zdmciIHN0eWxlPSJtYXJnaW46IGF1dG87IGJhY2tncm91bmQ6IG5vbmU7IGRpc3BsYXk6IGJsb2NrOyBzaGFwZS1yZW5kZXJpbmc6IGF1dG87IiB2aWV3Qm94PSIwIDAgMTAwIDEwMCIgcHJlc2VydmVBc3BlY3RSYXRpbz0ieE1pZFlNaWQiPiAgPGNpcmNsZSBjeD0iNTAiIGN5PSI1MCIgZmlsbD0ibm9uZSIgc3Ryb2tlPSIjYzNjM2MzIiBzdHJva2Utd2lkdGg9IjEwIiByPSIzNSIgc3Ryb2tlLWRhc2hhcnJheT0iMTY0LjkzMzYxNDMxMzQ2NDE1IDU2Ljk3Nzg3MTQzNzgyMTM4Ij4gICAgPGFuaW1hdGVUcmFuc2Zvcm0gYXR0cmlidXRlTmFtZT0idHJhbnNmb3JtIiB0eXBlPSJyb3RhdGUiIHJlcGVhdENvdW50PSJpbmRlZmluaXRlIiBkdXI9IjFzIiB2YWx1ZXM9IjAgNTAgNTA7MzYwIDUwIDUwIiBrZXlUaW1lcz0iMDsxIj48L2FuaW1hdGVUcmFuc2Zvcm0+ICA8L2NpcmNsZT48L3N2Zz4=\\\");\\n  background-size: auto calc(min(50%, 400px));\\n}\",{\"id\":\"p1137\"},{\"id\":\"p1135\"},{\"id\":\"p1136\"}],\"margin\":0,\"sizing_mode\":\"stretch_width\",\"align\":\"start\"}},{\"type\":\"object\",\"name\":\"Figure\",\"id\":\"p1152\",\"attributes\":{\"width\":700,\"height\":300,\"margin\":[5,10],\"sizing_mode\":\"fixed\",\"align\":\"start\",\"x_range\":{\"type\":\"object\",\"name\":\"Range1d\",\"id\":\"p1139\",\"attributes\":{\"tags\":[[[\"PCA1\",\"PCA1\",null]],[]],\"start\":-13.081378392319545,\"end\":16.086605552352953,\"reset_start\":-13.081378392319545,\"reset_end\":16.086605552352953}},\"y_range\":{\"type\":\"object\",\"name\":\"Range1d\",\"id\":\"p1140\",\"attributes\":{\"tags\":[[[\"PCA2\",\"PCA2\",null]],{\"type\":\"map\",\"entries\":[[\"invert_yaxis\",false],[\"autorange\",false]]}],\"start\":-9.739914418975097,\"end\":17.874428376631464,\"reset_start\":-9.739914418975097,\"reset_end\":17.874428376631464}},\"x_scale\":{\"type\":\"object\",\"name\":\"LinearScale\",\"id\":\"p1162\"},\"y_scale\":{\"type\":\"object\",\"name\":\"LinearScale\",\"id\":\"p1163\"},\"title\":{\"type\":\"object\",\"name\":\"Title\",\"id\":\"p1155\",\"attributes\":{\"text_color\":\"black\",\"text_font_size\":\"12pt\"}},\"renderers\":[{\"type\":\"object\",\"name\":\"GlyphRenderer\",\"id\":\"p1192\",\"attributes\":{\"name\":\"0\",\"data_source\":{\"type\":\"object\",\"name\":\"ColumnDataSource\",\"id\":\"p1183\",\"attributes\":{\"selected\":{\"type\":\"object\",\"name\":\"Selection\",\"id\":\"p1184\",\"attributes\":{\"indices\":[],\"line_indices\":[]}},\"selection_policy\":{\"type\":\"object\",\"name\":\"UnionRenderers\",\"id\":\"p1185\"},\"data\":{\"type\":\"map\",\"entries\":[[\"PCA1\",{\"type\":\"ndarray\",\"array\":{\"type\":\"bytes\",\"data\":\"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\"},\"shape\":[509],\"dtype\":\"float64\",\"order\":\"little\"}],[\"PCA2\",{\"type\":\"ndarray\",\"array\":{\"type\":\"bytes\",\"data\":\"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\"},\"shape\":[509],\"dtype\":\"float64\",\"order\":\"little\"}],[\"customer_segments\",[0,0,0,0,0,0,0,0,0,0,0,0,0,0,0,0,0,0,0,0,0,0,0,0,0,0,0,0,0,0,0,0,0,0,0,0,0,0,0,0,0,0,0,0,0,0,0,0,0,0,0,0,0,0,0,0,0,0,0,0,0,0,0,0,0,0,0,0,0,0,0,0,0,0,0,0,0,0,0,0,0,0,0,0,0,0,0,0,0,0,0,0,0,0,0,0,0,0,0,0,0,0,0,0,0,0,0,0,0,0,0,0,0,0,0,0,0,0,0,0,0,0,0,0,0,0,0,0,0,0,0,0,0,0,0,0,0,0,0,0,0,0,0,0,0,0,0,0,0,0,0,0,0,0,0,0,0,0,0,0,0,0,0,0,0,0,0,0,0,0,0,0,0,0,0,0,0,0,0,0,0,0,0,0,0,0,0,0,0,0,0,0,0,0,0,0,0,0,0,0,0,0,0,0,0,0,0,0,0,0,0,0,0,0,0,0,0,0,0,0,0,0,0,0,0,0,0,0,0,0,0,0,0,0,0,0,0,0,0,0,0,0,0,0,0,0,0,0,0,0,0,0,0,0,0,0,0,0,0,0,0,0,0,0,0,0,0,0,0,0,0,0,0,0,0,0,0,0,0,0,0,0,0,0,0,0,0,0,0,0,0,0,0,0,0,0,0,0,0,0,0,0,0,0,0,0,0,0,0,0,0,0,0,0,0,0,0,0,0,0,0,0,0,0,0,0,0,0,0,0,0,0,0,0,0,0,0,0,0,0,0,0,0,0,0,0,0,0,0,0,0,0,0,0,0,0,0,0,0,0,0,0,0,0,0,0,0,0,0,0,0,0,0,0,0,0,0,0,0,0,0,0,0,0,0,0,0,0,0,0,0,0,0,0,0,0,0,0,0,0,0,0,0,0,0,0,0,0,0,0,0,0,0,0,0,0,0,0,0,0,0,0,0,0,0,0,0,0,0,0,0,0,0,0,0,0,0,0,0,0,0,0,0,0,0,0,0,0,0,0,0,0,0,0,0,0,0,0,0,0,0,0,0,0,0,0,0,0,0,0,0,0,0,0,0,0,0,0,0,0,0,0,0,0,0,0,0,0,0,0,0,0,0,0,0,0,0,0,0,0,0,0,0,0,0,0,0,0,0]]]}}},\"view\":{\"type\":\"object\",\"name\":\"CDSView\",\"id\":\"p1193\",\"attributes\":{\"filter\":{\"type\":\"object\",\"name\":\"AllIndices\",\"id\":\"p1194\"}}},\"glyph\":{\"type\":\"object\",\"name\":\"Scatter\",\"id\":\"p1189\",\"attributes\":{\"tags\":[\"apply_ranges\"],\"x\":{\"type\":\"field\",\"field\":\"PCA1\"},\"y\":{\"type\":\"field\",\"field\":\"PCA2\"},\"size\":{\"type\":\"value\",\"value\":5.477225575051661},\"line_color\":{\"type\":\"value\",\"value\":\"#30a2da\"},\"fill_color\":{\"type\":\"value\",\"value\":\"#30a2da\"},\"hatch_color\":{\"type\":\"value\",\"value\":\"#30a2da\"}}},\"selection_glyph\":{\"type\":\"object\",\"name\":\"Scatter\",\"id\":\"p1197\",\"attributes\":{\"tags\":[\"apply_ranges\"],\"x\":{\"type\":\"field\",\"field\":\"PCA1\"},\"y\":{\"type\":\"field\",\"field\":\"PCA2\"},\"size\":{\"type\":\"value\",\"value\":5.477225575051661},\"angle\":{\"type\":\"value\",\"value\":0.0},\"line_color\":{\"type\":\"value\",\"value\":\"#30a2da\"},\"line_alpha\":{\"type\":\"value\",\"value\":1.0},\"line_width\":{\"type\":\"value\",\"value\":1},\"line_join\":{\"type\":\"value\",\"value\":\"bevel\"},\"line_cap\":{\"type\":\"value\",\"value\":\"butt\"},\"line_dash\":{\"type\":\"value\",\"value\":[]},\"line_dash_offset\":{\"type\":\"value\",\"value\":0},\"fill_color\":{\"type\":\"value\",\"value\":\"#30a2da\"},\"fill_alpha\":{\"type\":\"value\",\"value\":1.0},\"hatch_color\":{\"type\":\"value\",\"value\":\"#30a2da\"},\"hatch_alpha\":{\"type\":\"value\",\"value\":1.0},\"hatch_scale\":{\"type\":\"value\",\"value\":12.0},\"hatch_pattern\":{\"type\":\"value\",\"value\":null},\"hatch_weight\":{\"type\":\"value\",\"value\":1.0},\"marker\":{\"type\":\"value\",\"value\":\"circle\"}}},\"nonselection_glyph\":{\"type\":\"object\",\"name\":\"Scatter\",\"id\":\"p1190\",\"attributes\":{\"tags\":[\"apply_ranges\"],\"x\":{\"type\":\"field\",\"field\":\"PCA1\"},\"y\":{\"type\":\"field\",\"field\":\"PCA2\"},\"size\":{\"type\":\"value\",\"value\":5.477225575051661},\"line_color\":{\"type\":\"value\",\"value\":\"#30a2da\"},\"line_alpha\":{\"type\":\"value\",\"value\":0.1},\"fill_color\":{\"type\":\"value\",\"value\":\"#30a2da\"},\"fill_alpha\":{\"type\":\"value\",\"value\":0.1},\"hatch_color\":{\"type\":\"value\",\"value\":\"#30a2da\"},\"hatch_alpha\":{\"type\":\"value\",\"value\":0.1}}},\"muted_glyph\":{\"type\":\"object\",\"name\":\"Scatter\",\"id\":\"p1191\",\"attributes\":{\"tags\":[\"apply_ranges\"],\"x\":{\"type\":\"field\",\"field\":\"PCA1\"},\"y\":{\"type\":\"field\",\"field\":\"PCA2\"},\"size\":{\"type\":\"value\",\"value\":5.477225575051661},\"line_color\":{\"type\":\"value\",\"value\":\"#30a2da\"},\"line_alpha\":{\"type\":\"value\",\"value\":0.2},\"fill_color\":{\"type\":\"value\",\"value\":\"#30a2da\"},\"fill_alpha\":{\"type\":\"value\",\"value\":0.2},\"hatch_color\":{\"type\":\"value\",\"value\":\"#30a2da\"},\"hatch_alpha\":{\"type\":\"value\",\"value\":0.2}}}}},{\"type\":\"object\",\"name\":\"GlyphRenderer\",\"id\":\"p1207\",\"attributes\":{\"name\":\"1\",\"data_source\":{\"type\":\"object\",\"name\":\"ColumnDataSource\",\"id\":\"p1198\",\"attributes\":{\"selected\":{\"type\":\"object\",\"name\":\"Selection\",\"id\":\"p1199\",\"attributes\":{\"indices\":[],\"line_indices\":[]}},\"selection_policy\":{\"type\":\"object\",\"name\":\"UnionRenderers\",\"id\":\"p1200\"},\"data\":{\"type\":\"map\",\"entries\":[[\"PCA1\",{\"type\":\"ndarray\",\"array\":{\"type\":\"bytes\",\"data\":\"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\"},\"shape\":[294],\"dtype\":\"float64\",\"order\":\"little\"}],[\"PCA2\",{\"type\":\"ndarray\",\"array\":{\"type\":\"bytes\",\"data\":\"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\"},\"shape\":[294],\"dtype\":\"float64\",\"order\":\"little\"}],[\"customer_segments\",[1,1,1,1,1,1,1,1,1,1,1,1,1,1,1,1,1,1,1,1,1,1,1,1,1,1,1,1,1,1,1,1,1,1,1,1,1,1,1,1,1,1,1,1,1,1,1,1,1,1,1,1,1,1,1,1,1,1,1,1,1,1,1,1,1,1,1,1,1,1,1,1,1,1,1,1,1,1,1,1,1,1,1,1,1,1,1,1,1,1,1,1,1,1,1,1,1,1,1,1,1,1,1,1,1,1,1,1,1,1,1,1,1,1,1,1,1,1,1,1,1,1,1,1,1,1,1,1,1,1,1,1,1,1,1,1,1,1,1,1,1,1,1,1,1,1,1,1,1,1,1,1,1,1,1,1,1,1,1,1,1,1,1,1,1,1,1,1,1,1,1,1,1,1,1,1,1,1,1,1,1,1,1,1,1,1,1,1,1,1,1,1,1,1,1,1,1,1,1,1,1,1,1,1,1,1,1,1,1,1,1,1,1,1,1,1,1,1,1,1,1,1,1,1,1,1,1,1,1,1,1,1,1,1,1,1,1,1,1,1,1,1,1,1,1,1,1,1,1,1,1,1,1,1,1,1,1,1,1,1,1,1,1,1,1,1,1,1,1,1,1,1,1,1,1,1,1,1,1,1,1,1,1,1,1,1,1,1,1,1,1,1,1,1]]]}}},\"view\":{\"type\":\"object\",\"name\":\"CDSView\",\"id\":\"p1208\",\"attributes\":{\"filter\":{\"type\":\"object\",\"name\":\"AllIndices\",\"id\":\"p1209\"}}},\"glyph\":{\"type\":\"object\",\"name\":\"Scatter\",\"id\":\"p1204\",\"attributes\":{\"tags\":[\"apply_ranges\"],\"x\":{\"type\":\"field\",\"field\":\"PCA1\"},\"y\":{\"type\":\"field\",\"field\":\"PCA2\"},\"size\":{\"type\":\"value\",\"value\":5.477225575051661},\"line_color\":{\"type\":\"value\",\"value\":\"#fc4f30\"},\"fill_color\":{\"type\":\"value\",\"value\":\"#fc4f30\"},\"hatch_color\":{\"type\":\"value\",\"value\":\"#fc4f30\"}}},\"selection_glyph\":{\"type\":\"object\",\"name\":\"Scatter\",\"id\":\"p1211\",\"attributes\":{\"tags\":[\"apply_ranges\"],\"x\":{\"type\":\"field\",\"field\":\"PCA1\"},\"y\":{\"type\":\"field\",\"field\":\"PCA2\"},\"size\":{\"type\":\"value\",\"value\":5.477225575051661},\"angle\":{\"type\":\"value\",\"value\":0.0},\"line_color\":{\"type\":\"value\",\"value\":\"#fc4f30\"},\"line_alpha\":{\"type\":\"value\",\"value\":1.0},\"line_width\":{\"type\":\"value\",\"value\":1},\"line_join\":{\"type\":\"value\",\"value\":\"bevel\"},\"line_cap\":{\"type\":\"value\",\"value\":\"butt\"},\"line_dash\":{\"type\":\"value\",\"value\":[]},\"line_dash_offset\":{\"type\":\"value\",\"value\":0},\"fill_color\":{\"type\":\"value\",\"value\":\"#fc4f30\"},\"fill_alpha\":{\"type\":\"value\",\"value\":1.0},\"hatch_color\":{\"type\":\"value\",\"value\":\"#fc4f30\"},\"hatch_alpha\":{\"type\":\"value\",\"value\":1.0},\"hatch_scale\":{\"type\":\"value\",\"value\":12.0},\"hatch_pattern\":{\"type\":\"value\",\"value\":null},\"hatch_weight\":{\"type\":\"value\",\"value\":1.0},\"marker\":{\"type\":\"value\",\"value\":\"circle\"}}},\"nonselection_glyph\":{\"type\":\"object\",\"name\":\"Scatter\",\"id\":\"p1205\",\"attributes\":{\"tags\":[\"apply_ranges\"],\"x\":{\"type\":\"field\",\"field\":\"PCA1\"},\"y\":{\"type\":\"field\",\"field\":\"PCA2\"},\"size\":{\"type\":\"value\",\"value\":5.477225575051661},\"line_color\":{\"type\":\"value\",\"value\":\"#fc4f30\"},\"line_alpha\":{\"type\":\"value\",\"value\":0.1},\"fill_color\":{\"type\":\"value\",\"value\":\"#fc4f30\"},\"fill_alpha\":{\"type\":\"value\",\"value\":0.1},\"hatch_color\":{\"type\":\"value\",\"value\":\"#fc4f30\"},\"hatch_alpha\":{\"type\":\"value\",\"value\":0.1}}},\"muted_glyph\":{\"type\":\"object\",\"name\":\"Scatter\",\"id\":\"p1206\",\"attributes\":{\"tags\":[\"apply_ranges\"],\"x\":{\"type\":\"field\",\"field\":\"PCA1\"},\"y\":{\"type\":\"field\",\"field\":\"PCA2\"},\"size\":{\"type\":\"value\",\"value\":5.477225575051661},\"line_color\":{\"type\":\"value\",\"value\":\"#fc4f30\"},\"line_alpha\":{\"type\":\"value\",\"value\":0.2},\"fill_color\":{\"type\":\"value\",\"value\":\"#fc4f30\"},\"fill_alpha\":{\"type\":\"value\",\"value\":0.2},\"hatch_color\":{\"type\":\"value\",\"value\":\"#fc4f30\"},\"hatch_alpha\":{\"type\":\"value\",\"value\":0.2}}}}},{\"type\":\"object\",\"name\":\"GlyphRenderer\",\"id\":\"p1221\",\"attributes\":{\"name\":\"2\",\"data_source\":{\"type\":\"object\",\"name\":\"ColumnDataSource\",\"id\":\"p1212\",\"attributes\":{\"selected\":{\"type\":\"object\",\"name\":\"Selection\",\"id\":\"p1213\",\"attributes\":{\"indices\":[],\"line_indices\":[]}},\"selection_policy\":{\"type\":\"object\",\"name\":\"UnionRenderers\",\"id\":\"p1214\"},\"data\":{\"type\":\"map\",\"entries\":[[\"PCA1\",{\"type\":\"ndarray\",\"array\":{\"type\":\"bytes\",\"data\":\"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\"},\"shape\":[197],\"dtype\":\"float64\",\"order\":\"little\"}],[\"PCA2\",{\"type\":\"ndarray\",\"array\":{\"type\":\"bytes\",\"data\":\"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\"},\"shape\":[197],\"dtype\":\"float64\",\"order\":\"little\"}],[\"customer_segments\",[2,2,2,2,2,2,2,2,2,2,2,2,2,2,2,2,2,2,2,2,2,2,2,2,2,2,2,2,2,2,2,2,2,2,2,2,2,2,2,2,2,2,2,2,2,2,2,2,2,2,2,2,2,2,2,2,2,2,2,2,2,2,2,2,2,2,2,2,2,2,2,2,2,2,2,2,2,2,2,2,2,2,2,2,2,2,2,2,2,2,2,2,2,2,2,2,2,2,2,2,2,2,2,2,2,2,2,2,2,2,2,2,2,2,2,2,2,2,2,2,2,2,2,2,2,2,2,2,2,2,2,2,2,2,2,2,2,2,2,2,2,2,2,2,2,2,2,2,2,2,2,2,2,2,2,2,2,2,2,2,2,2,2,2,2,2,2,2,2,2,2,2,2,2,2,2,2,2,2,2,2,2,2,2,2,2,2,2,2,2,2,2,2,2,2,2,2]]]}}},\"view\":{\"type\":\"object\",\"name\":\"CDSView\",\"id\":\"p1222\",\"attributes\":{\"filter\":{\"type\":\"object\",\"name\":\"AllIndices\",\"id\":\"p1223\"}}},\"glyph\":{\"type\":\"object\",\"name\":\"Scatter\",\"id\":\"p1218\",\"attributes\":{\"tags\":[\"apply_ranges\"],\"x\":{\"type\":\"field\",\"field\":\"PCA1\"},\"y\":{\"type\":\"field\",\"field\":\"PCA2\"},\"size\":{\"type\":\"value\",\"value\":5.477225575051661},\"line_color\":{\"type\":\"value\",\"value\":\"#e5ae38\"},\"fill_color\":{\"type\":\"value\",\"value\":\"#e5ae38\"},\"hatch_color\":{\"type\":\"value\",\"value\":\"#e5ae38\"}}},\"selection_glyph\":{\"type\":\"object\",\"name\":\"Scatter\",\"id\":\"p1225\",\"attributes\":{\"tags\":[\"apply_ranges\"],\"x\":{\"type\":\"field\",\"field\":\"PCA1\"},\"y\":{\"type\":\"field\",\"field\":\"PCA2\"},\"size\":{\"type\":\"value\",\"value\":5.477225575051661},\"angle\":{\"type\":\"value\",\"value\":0.0},\"line_color\":{\"type\":\"value\",\"value\":\"#e5ae38\"},\"line_alpha\":{\"type\":\"value\",\"value\":1.0},\"line_width\":{\"type\":\"value\",\"value\":1},\"line_join\":{\"type\":\"value\",\"value\":\"bevel\"},\"line_cap\":{\"type\":\"value\",\"value\":\"butt\"},\"line_dash\":{\"type\":\"value\",\"value\":[]},\"line_dash_offset\":{\"type\":\"value\",\"value\":0},\"fill_color\":{\"type\":\"value\",\"value\":\"#e5ae38\"},\"fill_alpha\":{\"type\":\"value\",\"value\":1.0},\"hatch_color\":{\"type\":\"value\",\"value\":\"#e5ae38\"},\"hatch_alpha\":{\"type\":\"value\",\"value\":1.0},\"hatch_scale\":{\"type\":\"value\",\"value\":12.0},\"hatch_pattern\":{\"type\":\"value\",\"value\":null},\"hatch_weight\":{\"type\":\"value\",\"value\":1.0},\"marker\":{\"type\":\"value\",\"value\":\"circle\"}}},\"nonselection_glyph\":{\"type\":\"object\",\"name\":\"Scatter\",\"id\":\"p1219\",\"attributes\":{\"tags\":[\"apply_ranges\"],\"x\":{\"type\":\"field\",\"field\":\"PCA1\"},\"y\":{\"type\":\"field\",\"field\":\"PCA2\"},\"size\":{\"type\":\"value\",\"value\":5.477225575051661},\"line_color\":{\"type\":\"value\",\"value\":\"#e5ae38\"},\"line_alpha\":{\"type\":\"value\",\"value\":0.1},\"fill_color\":{\"type\":\"value\",\"value\":\"#e5ae38\"},\"fill_alpha\":{\"type\":\"value\",\"value\":0.1},\"hatch_color\":{\"type\":\"value\",\"value\":\"#e5ae38\"},\"hatch_alpha\":{\"type\":\"value\",\"value\":0.1}}},\"muted_glyph\":{\"type\":\"object\",\"name\":\"Scatter\",\"id\":\"p1220\",\"attributes\":{\"tags\":[\"apply_ranges\"],\"x\":{\"type\":\"field\",\"field\":\"PCA1\"},\"y\":{\"type\":\"field\",\"field\":\"PCA2\"},\"size\":{\"type\":\"value\",\"value\":5.477225575051661},\"line_color\":{\"type\":\"value\",\"value\":\"#e5ae38\"},\"line_alpha\":{\"type\":\"value\",\"value\":0.2},\"fill_color\":{\"type\":\"value\",\"value\":\"#e5ae38\"},\"fill_alpha\":{\"type\":\"value\",\"value\":0.2},\"hatch_color\":{\"type\":\"value\",\"value\":\"#e5ae38\"},\"hatch_alpha\":{\"type\":\"value\",\"value\":0.2}}}}}],\"toolbar\":{\"type\":\"object\",\"name\":\"Toolbar\",\"id\":\"p1161\",\"attributes\":{\"tools\":[{\"type\":\"object\",\"name\":\"WheelZoomTool\",\"id\":\"p1144\",\"attributes\":{\"tags\":[\"hv_created\"],\"renderers\":\"auto\",\"zoom_together\":\"none\"}},{\"type\":\"object\",\"name\":\"HoverTool\",\"id\":\"p1145\",\"attributes\":{\"tags\":[\"hv_created\"],\"renderers\":[{\"id\":\"p1192\"},{\"id\":\"p1207\"},{\"id\":\"p1221\"}],\"tooltips\":[[\"customer_segments\",\"@{customer_segments}\"],[\"PCA1\",\"@{PCA1}\"],[\"PCA2\",\"@{PCA2}\"]]}},{\"type\":\"object\",\"name\":\"SaveTool\",\"id\":\"p1174\"},{\"type\":\"object\",\"name\":\"PanTool\",\"id\":\"p1175\"},{\"type\":\"object\",\"name\":\"BoxZoomTool\",\"id\":\"p1176\",\"attributes\":{\"overlay\":{\"type\":\"object\",\"name\":\"BoxAnnotation\",\"id\":\"p1177\",\"attributes\":{\"syncable\":false,\"level\":\"overlay\",\"visible\":false,\"left\":{\"type\":\"number\",\"value\":\"nan\"},\"right\":{\"type\":\"number\",\"value\":\"nan\"},\"top\":{\"type\":\"number\",\"value\":\"nan\"},\"bottom\":{\"type\":\"number\",\"value\":\"nan\"},\"left_units\":\"canvas\",\"right_units\":\"canvas\",\"top_units\":\"canvas\",\"bottom_units\":\"canvas\",\"line_color\":\"black\",\"line_alpha\":1.0,\"line_width\":2,\"line_dash\":[4,4],\"fill_color\":\"lightgrey\",\"fill_alpha\":0.5}}}},{\"type\":\"object\",\"name\":\"ResetTool\",\"id\":\"p1182\"}],\"active_drag\":{\"id\":\"p1175\"},\"active_scroll\":{\"id\":\"p1144\"}}},\"left\":[{\"type\":\"object\",\"name\":\"LinearAxis\",\"id\":\"p1169\",\"attributes\":{\"ticker\":{\"type\":\"object\",\"name\":\"BasicTicker\",\"id\":\"p1170\",\"attributes\":{\"mantissas\":[1,2,5]}},\"formatter\":{\"type\":\"object\",\"name\":\"BasicTickFormatter\",\"id\":\"p1171\"},\"axis_label\":\"PCA2\",\"major_label_policy\":{\"type\":\"object\",\"name\":\"AllLabels\",\"id\":\"p1172\"}}}],\"right\":[{\"type\":\"object\",\"name\":\"Legend\",\"id\":\"p1195\",\"attributes\":{\"location\":[0,0],\"title\":\"customer_segments\",\"click_policy\":\"mute\",\"items\":[{\"type\":\"object\",\"name\":\"LegendItem\",\"id\":\"p1196\",\"attributes\":{\"label\":{\"type\":\"value\",\"value\":\"0\"},\"renderers\":[{\"id\":\"p1192\"}]}},{\"type\":\"object\",\"name\":\"LegendItem\",\"id\":\"p1210\",\"attributes\":{\"label\":{\"type\":\"value\",\"value\":\"1\"},\"renderers\":[{\"id\":\"p1207\"}]}},{\"type\":\"object\",\"name\":\"LegendItem\",\"id\":\"p1224\",\"attributes\":{\"label\":{\"type\":\"value\",\"value\":\"2\"},\"renderers\":[{\"id\":\"p1221\"}]}}]}}],\"below\":[{\"type\":\"object\",\"name\":\"LinearAxis\",\"id\":\"p1164\",\"attributes\":{\"ticker\":{\"type\":\"object\",\"name\":\"BasicTicker\",\"id\":\"p1165\",\"attributes\":{\"mantissas\":[1,2,5]}},\"formatter\":{\"type\":\"object\",\"name\":\"BasicTickFormatter\",\"id\":\"p1166\"},\"axis_label\":\"PCA1\",\"major_label_policy\":{\"type\":\"object\",\"name\":\"AllLabels\",\"id\":\"p1167\"}}}],\"center\":[{\"type\":\"object\",\"name\":\"Grid\",\"id\":\"p1168\",\"attributes\":{\"axis\":{\"id\":\"p1164\"},\"grid_line_color\":null}},{\"type\":\"object\",\"name\":\"Grid\",\"id\":\"p1173\",\"attributes\":{\"dimension\":1,\"axis\":{\"id\":\"p1169\"},\"grid_line_color\":null}}],\"min_border_top\":10,\"min_border_bottom\":10,\"min_border_left\":10,\"min_border_right\":10,\"output_backend\":\"webgl\"}},{\"type\":\"object\",\"name\":\"Spacer\",\"id\":\"p1227\",\"attributes\":{\"name\":\"HSpacer01192\",\"stylesheets\":[\"\\n:host(.pn-loading.pn-arc):before, .pn-loading.pn-arc:before {\\n  background-image: url(\\\"data:image/svg+xml;base64,PHN2ZyB4bWxucz0iaHR0cDovL3d3dy53My5vcmcvMjAwMC9zdmciIHN0eWxlPSJtYXJnaW46IGF1dG87IGJhY2tncm91bmQ6IG5vbmU7IGRpc3BsYXk6IGJsb2NrOyBzaGFwZS1yZW5kZXJpbmc6IGF1dG87IiB2aWV3Qm94PSIwIDAgMTAwIDEwMCIgcHJlc2VydmVBc3BlY3RSYXRpbz0ieE1pZFlNaWQiPiAgPGNpcmNsZSBjeD0iNTAiIGN5PSI1MCIgZmlsbD0ibm9uZSIgc3Ryb2tlPSIjYzNjM2MzIiBzdHJva2Utd2lkdGg9IjEwIiByPSIzNSIgc3Ryb2tlLWRhc2hhcnJheT0iMTY0LjkzMzYxNDMxMzQ2NDE1IDU2Ljk3Nzg3MTQzNzgyMTM4Ij4gICAgPGFuaW1hdGVUcmFuc2Zvcm0gYXR0cmlidXRlTmFtZT0idHJhbnNmb3JtIiB0eXBlPSJyb3RhdGUiIHJlcGVhdENvdW50PSJpbmRlZmluaXRlIiBkdXI9IjFzIiB2YWx1ZXM9IjAgNTAgNTA7MzYwIDUwIDUwIiBrZXlUaW1lcz0iMDsxIj48L2FuaW1hdGVUcmFuc2Zvcm0+ICA8L2NpcmNsZT48L3N2Zz4=\\\");\\n  background-size: auto calc(min(50%, 400px));\\n}\",{\"id\":\"p1137\"},{\"id\":\"p1135\"},{\"id\":\"p1136\"}],\"margin\":0,\"sizing_mode\":\"stretch_width\",\"align\":\"start\"}}]}}],\"defs\":[{\"type\":\"model\",\"name\":\"ReactiveHTML1\"},{\"type\":\"model\",\"name\":\"FlexBox1\",\"properties\":[{\"name\":\"align_content\",\"kind\":\"Any\",\"default\":\"flex-start\"},{\"name\":\"align_items\",\"kind\":\"Any\",\"default\":\"flex-start\"},{\"name\":\"flex_direction\",\"kind\":\"Any\",\"default\":\"row\"},{\"name\":\"flex_wrap\",\"kind\":\"Any\",\"default\":\"wrap\"},{\"name\":\"justify_content\",\"kind\":\"Any\",\"default\":\"flex-start\"}]},{\"type\":\"model\",\"name\":\"FloatPanel1\",\"properties\":[{\"name\":\"config\",\"kind\":\"Any\",\"default\":{\"type\":\"map\"}},{\"name\":\"contained\",\"kind\":\"Any\",\"default\":true},{\"name\":\"position\",\"kind\":\"Any\",\"default\":\"right-top\"},{\"name\":\"offsetx\",\"kind\":\"Any\",\"default\":null},{\"name\":\"offsety\",\"kind\":\"Any\",\"default\":null},{\"name\":\"theme\",\"kind\":\"Any\",\"default\":\"primary\"},{\"name\":\"status\",\"kind\":\"Any\",\"default\":\"normalized\"}]},{\"type\":\"model\",\"name\":\"GridStack1\",\"properties\":[{\"name\":\"mode\",\"kind\":\"Any\",\"default\":\"warn\"},{\"name\":\"ncols\",\"kind\":\"Any\",\"default\":null},{\"name\":\"nrows\",\"kind\":\"Any\",\"default\":null},{\"name\":\"allow_resize\",\"kind\":\"Any\",\"default\":true},{\"name\":\"allow_drag\",\"kind\":\"Any\",\"default\":true},{\"name\":\"state\",\"kind\":\"Any\",\"default\":[]}]},{\"type\":\"model\",\"name\":\"drag1\",\"properties\":[{\"name\":\"slider_width\",\"kind\":\"Any\",\"default\":5},{\"name\":\"slider_color\",\"kind\":\"Any\",\"default\":\"black\"},{\"name\":\"value\",\"kind\":\"Any\",\"default\":50}]},{\"type\":\"model\",\"name\":\"click1\",\"properties\":[{\"name\":\"terminal_output\",\"kind\":\"Any\",\"default\":\"\"},{\"name\":\"debug_name\",\"kind\":\"Any\",\"default\":\"\"},{\"name\":\"clears\",\"kind\":\"Any\",\"default\":0}]},{\"type\":\"model\",\"name\":\"copy_to_clipboard1\",\"properties\":[{\"name\":\"fill\",\"kind\":\"Any\",\"default\":\"none\"},{\"name\":\"value\",\"kind\":\"Any\",\"default\":null}]},{\"type\":\"model\",\"name\":\"FastWrapper1\",\"properties\":[{\"name\":\"object\",\"kind\":\"Any\",\"default\":null},{\"name\":\"style\",\"kind\":\"Any\",\"default\":null}]},{\"type\":\"model\",\"name\":\"NotificationAreaBase1\",\"properties\":[{\"name\":\"js_events\",\"kind\":\"Any\",\"default\":{\"type\":\"map\"}},{\"name\":\"position\",\"kind\":\"Any\",\"default\":\"bottom-right\"},{\"name\":\"_clear\",\"kind\":\"Any\",\"default\":0}]},{\"type\":\"model\",\"name\":\"NotificationArea1\",\"properties\":[{\"name\":\"js_events\",\"kind\":\"Any\",\"default\":{\"type\":\"map\"}},{\"name\":\"notifications\",\"kind\":\"Any\",\"default\":[]},{\"name\":\"position\",\"kind\":\"Any\",\"default\":\"bottom-right\"},{\"name\":\"_clear\",\"kind\":\"Any\",\"default\":0},{\"name\":\"types\",\"kind\":\"Any\",\"default\":[{\"type\":\"map\",\"entries\":[[\"type\",\"warning\"],[\"background\",\"#ffc107\"],[\"icon\",{\"type\":\"map\",\"entries\":[[\"className\",\"fas fa-exclamation-triangle\"],[\"tagName\",\"i\"],[\"color\",\"white\"]]}]]},{\"type\":\"map\",\"entries\":[[\"type\",\"info\"],[\"background\",\"#007bff\"],[\"icon\",{\"type\":\"map\",\"entries\":[[\"className\",\"fas fa-info-circle\"],[\"tagName\",\"i\"],[\"color\",\"white\"]]}]]}]}]},{\"type\":\"model\",\"name\":\"Notification\",\"properties\":[{\"name\":\"background\",\"kind\":\"Any\",\"default\":null},{\"name\":\"duration\",\"kind\":\"Any\",\"default\":3000},{\"name\":\"icon\",\"kind\":\"Any\",\"default\":null},{\"name\":\"message\",\"kind\":\"Any\",\"default\":\"\"},{\"name\":\"notification_type\",\"kind\":\"Any\",\"default\":null},{\"name\":\"_destroyed\",\"kind\":\"Any\",\"default\":false}]},{\"type\":\"model\",\"name\":\"TemplateActions1\",\"properties\":[{\"name\":\"open_modal\",\"kind\":\"Any\",\"default\":0},{\"name\":\"close_modal\",\"kind\":\"Any\",\"default\":0}]},{\"type\":\"model\",\"name\":\"BootstrapTemplateActions1\",\"properties\":[{\"name\":\"open_modal\",\"kind\":\"Any\",\"default\":0},{\"name\":\"close_modal\",\"kind\":\"Any\",\"default\":0}]},{\"type\":\"model\",\"name\":\"MaterialTemplateActions1\",\"properties\":[{\"name\":\"open_modal\",\"kind\":\"Any\",\"default\":0},{\"name\":\"close_modal\",\"kind\":\"Any\",\"default\":0}]}]}};\n",
       "  var render_items = [{\"docid\":\"6982fed7-ce93-41b3-b903-615dbb791a5c\",\"roots\":{\"p1134\":\"d223cb1e-77ad-48fc-a66c-c0662f47b93e\"},\"root_ids\":[\"p1134\"]}];\n",
       "  var docs = Object.values(docs_json)\n",
       "  if (!docs) {\n",
       "    return\n",
       "  }\n",
       "  const py_version = docs[0].version.replace('rc', '-rc.').replace('.dev', '-dev.')\n",
       "  function embed_document(root) {\n",
       "    var Bokeh = get_bokeh(root)\n",
       "    Bokeh.embed.embed_items_notebook(docs_json, render_items);\n",
       "    for (const render_item of render_items) {\n",
       "      for (const root_id of render_item.root_ids) {\n",
       "\tconst id_el = document.getElementById(root_id)\n",
       "\tif (id_el.children.length && (id_el.children[0].className === 'bk-root')) {\n",
       "\t  const root_el = id_el.children[0]\n",
       "\t  root_el.id = root_el.id + '-rendered'\n",
       "\t}\n",
       "      }\n",
       "    }\n",
       "  }\n",
       "  function get_bokeh(root) {\n",
       "    if (root.Bokeh === undefined) {\n",
       "      return null\n",
       "    } else if (root.Bokeh.version !== py_version) {\n",
       "      if (root.Bokeh.versions === undefined || !root.Bokeh.versions.has(py_version)) {\n",
       "\treturn null\n",
       "      }\n",
       "      return root.Bokeh.versions.get(py_version);\n",
       "    } else if (root.Bokeh.version === py_version) {\n",
       "      return root.Bokeh\n",
       "    }\n",
       "    return null\n",
       "  }\n",
       "  function is_loaded(root) {\n",
       "    var Bokeh = get_bokeh(root)\n",
       "    return (Bokeh != null && Bokeh.Panel !== undefined)\n",
       "  }\n",
       "  if (is_loaded(root)) {\n",
       "    embed_document(root);\n",
       "  } else {\n",
       "    var attempts = 0;\n",
       "    var timer = setInterval(function(root) {\n",
       "      if (is_loaded(root)) {\n",
       "        clearInterval(timer);\n",
       "        embed_document(root);\n",
       "      } else if (document.readyState == \"complete\") {\n",
       "        attempts++;\n",
       "        if (attempts > 200) {\n",
       "          clearInterval(timer);\n",
       "\t  var Bokeh = get_bokeh(root)\n",
       "\t  if (Bokeh == null || Bokeh.Panel == null) {\n",
       "            console.warn(\"Panel: ERROR: Unable to run Panel code because Bokeh or Panel library is missing\");\n",
       "\t  } else {\n",
       "\t    console.warn(\"Panel: WARNING: Attempting to render but not all required libraries could be resolved.\")\n",
       "\t    embed_document(root)\n",
       "\t  }\n",
       "        }\n",
       "      }\n",
       "    }, 25, root)\n",
       "  }\n",
       "})(window);</script>"
      ],
      "text/plain": [
       ":NdOverlay   [customer_segments]\n",
       "   :Scatter   [PCA1]   (PCA2)"
      ]
     },
     "execution_count": 17,
     "metadata": {
      "application/vnd.holoviews_exec.v0+json": {
       "id": "p1134"
      }
     },
     "output_type": "execute_result"
    }
   ],
   "source": [
    "# Plot the clusters\n",
    "# Plot the clusters\n",
    "customer_pca_predictions_df.hvplot.scatter(\n",
    "    x=\"PCA1\",\n",
    "    y=\"PCA2\",\n",
    "    by=\"customer_segments\"\n",
    ")"
   ]
  },
  {
   "cell_type": "markdown",
   "metadata": {},
   "source": [
    "## Part 4: Segment the `customers_transformed_df` DataFrame with all factors using the K-means algorithm"
   ]
  },
  {
   "cell_type": "code",
   "execution_count": 18,
   "metadata": {},
   "outputs": [],
   "source": [
    "# Define the model Kmeans model using k=3 clusters\n",
    "model = KMeans(n_clusters=3, random_state=0)\n",
    "\n",
    "# Fit the model\n",
    "model.fit(customers_transformed_df)\n",
    "\n",
    "# Make predictions\n",
    "k_3 = model.predict(customers_transformed_df)\n",
    "\n",
    "# Create a copy of the customers_transformed_df DataFrame\n",
    "customers_transformed_predictions_df = customers_transformed_df.copy()\n",
    "\n",
    "# Add a class column with the labels\n",
    "customers_transformed_predictions_df[\"customer_segments\"] = k_3"
   ]
  },
  {
   "cell_type": "code",
   "execution_count": 19,
   "metadata": {},
   "outputs": [
    {
     "data": {},
     "metadata": {},
     "output_type": "display_data"
    },
    {
     "data": {
      "application/vnd.holoviews_exec.v0+json": "",
      "text/html": [
       "<div id='p1237'>\n",
       "  <div id=\"d9851ec5-f840-47a3-884f-9e64d3c6180e\" data-root-id=\"p1237\" style=\"display: contents;\"></div>\n",
       "</div>\n",
       "<script type=\"application/javascript\">(function(root) {\n",
       "  var docs_json = {\"e5301c56-215a-4f55-8f94-265aca1e917c\":{\"version\":\"3.3.4\",\"title\":\"Bokeh Application\",\"roots\":[{\"type\":\"object\",\"name\":\"Row\",\"id\":\"p1237\",\"attributes\":{\"name\":\"Row01382\",\"tags\":[\"embedded\"],\"stylesheets\":[\"\\n:host(.pn-loading.pn-arc):before, .pn-loading.pn-arc:before {\\n  background-image: url(\\\"data:image/svg+xml;base64,PHN2ZyB4bWxucz0iaHR0cDovL3d3dy53My5vcmcvMjAwMC9zdmciIHN0eWxlPSJtYXJnaW46IGF1dG87IGJhY2tncm91bmQ6IG5vbmU7IGRpc3BsYXk6IGJsb2NrOyBzaGFwZS1yZW5kZXJpbmc6IGF1dG87IiB2aWV3Qm94PSIwIDAgMTAwIDEwMCIgcHJlc2VydmVBc3BlY3RSYXRpbz0ieE1pZFlNaWQiPiAgPGNpcmNsZSBjeD0iNTAiIGN5PSI1MCIgZmlsbD0ibm9uZSIgc3Ryb2tlPSIjYzNjM2MzIiBzdHJva2Utd2lkdGg9IjEwIiByPSIzNSIgc3Ryb2tlLWRhc2hhcnJheT0iMTY0LjkzMzYxNDMxMzQ2NDE1IDU2Ljk3Nzg3MTQzNzgyMTM4Ij4gICAgPGFuaW1hdGVUcmFuc2Zvcm0gYXR0cmlidXRlTmFtZT0idHJhbnNmb3JtIiB0eXBlPSJyb3RhdGUiIHJlcGVhdENvdW50PSJpbmRlZmluaXRlIiBkdXI9IjFzIiB2YWx1ZXM9IjAgNTAgNTA7MzYwIDUwIDUwIiBrZXlUaW1lcz0iMDsxIj48L2FuaW1hdGVUcmFuc2Zvcm0+ICA8L2NpcmNsZT48L3N2Zz4=\\\");\\n  background-size: auto calc(min(50%, 400px));\\n}\",{\"type\":\"object\",\"name\":\"ImportedStyleSheet\",\"id\":\"p1240\",\"attributes\":{\"url\":\"https://cdn.holoviz.org/panel/1.3.8/dist/css/loading.css\"}},{\"type\":\"object\",\"name\":\"ImportedStyleSheet\",\"id\":\"p1332\",\"attributes\":{\"url\":\"https://cdn.holoviz.org/panel/1.3.8/dist/css/listpanel.css\"}},{\"type\":\"object\",\"name\":\"ImportedStyleSheet\",\"id\":\"p1238\",\"attributes\":{\"url\":\"https://cdn.holoviz.org/panel/1.3.8/dist/bundled/theme/default.css\"}},{\"type\":\"object\",\"name\":\"ImportedStyleSheet\",\"id\":\"p1239\",\"attributes\":{\"url\":\"https://cdn.holoviz.org/panel/1.3.8/dist/bundled/theme/native.css\"}}],\"min_width\":700,\"margin\":0,\"sizing_mode\":\"stretch_width\",\"align\":\"start\",\"children\":[{\"type\":\"object\",\"name\":\"Spacer\",\"id\":\"p1241\",\"attributes\":{\"name\":\"HSpacer01389\",\"stylesheets\":[\"\\n:host(.pn-loading.pn-arc):before, .pn-loading.pn-arc:before {\\n  background-image: url(\\\"data:image/svg+xml;base64,PHN2ZyB4bWxucz0iaHR0cDovL3d3dy53My5vcmcvMjAwMC9zdmciIHN0eWxlPSJtYXJnaW46IGF1dG87IGJhY2tncm91bmQ6IG5vbmU7IGRpc3BsYXk6IGJsb2NrOyBzaGFwZS1yZW5kZXJpbmc6IGF1dG87IiB2aWV3Qm94PSIwIDAgMTAwIDEwMCIgcHJlc2VydmVBc3BlY3RSYXRpbz0ieE1pZFlNaWQiPiAgPGNpcmNsZSBjeD0iNTAiIGN5PSI1MCIgZmlsbD0ibm9uZSIgc3Ryb2tlPSIjYzNjM2MzIiBzdHJva2Utd2lkdGg9IjEwIiByPSIzNSIgc3Ryb2tlLWRhc2hhcnJheT0iMTY0LjkzMzYxNDMxMzQ2NDE1IDU2Ljk3Nzg3MTQzNzgyMTM4Ij4gICAgPGFuaW1hdGVUcmFuc2Zvcm0gYXR0cmlidXRlTmFtZT0idHJhbnNmb3JtIiB0eXBlPSJyb3RhdGUiIHJlcGVhdENvdW50PSJpbmRlZmluaXRlIiBkdXI9IjFzIiB2YWx1ZXM9IjAgNTAgNTA7MzYwIDUwIDUwIiBrZXlUaW1lcz0iMDsxIj48L2FuaW1hdGVUcmFuc2Zvcm0+ICA8L2NpcmNsZT48L3N2Zz4=\\\");\\n  background-size: auto calc(min(50%, 400px));\\n}\",{\"id\":\"p1240\"},{\"id\":\"p1238\"},{\"id\":\"p1239\"}],\"margin\":0,\"sizing_mode\":\"stretch_width\",\"align\":\"start\"}},{\"type\":\"object\",\"name\":\"Figure\",\"id\":\"p1255\",\"attributes\":{\"width\":700,\"height\":300,\"margin\":[5,10],\"sizing_mode\":\"fixed\",\"align\":\"start\",\"x_range\":{\"type\":\"object\",\"name\":\"Range1d\",\"id\":\"p1242\",\"attributes\":{\"tags\":[[[\"feature_1\",\"feature_1\",null]],[]],\"start\":-6.796693307805908,\"end\":6.812945338442532,\"reset_start\":-6.796693307805908,\"reset_end\":6.812945338442532}},\"y_range\":{\"type\":\"object\",\"name\":\"Range1d\",\"id\":\"p1243\",\"attributes\":{\"tags\":[[[\"feature_2\",\"feature_2\",null]],{\"type\":\"map\",\"entries\":[[\"invert_yaxis\",false],[\"autorange\",false]]}],\"start\":-5.909730475924883,\"end\":9.215602229847773,\"reset_start\":-5.909730475924883,\"reset_end\":9.215602229847773}},\"x_scale\":{\"type\":\"object\",\"name\":\"LinearScale\",\"id\":\"p1265\"},\"y_scale\":{\"type\":\"object\",\"name\":\"LinearScale\",\"id\":\"p1266\"},\"title\":{\"type\":\"object\",\"name\":\"Title\",\"id\":\"p1258\",\"attributes\":{\"text_color\":\"black\",\"text_font_size\":\"12pt\"}},\"renderers\":[{\"type\":\"object\",\"name\":\"GlyphRenderer\",\"id\":\"p1295\",\"attributes\":{\"name\":\"0\",\"data_source\":{\"type\":\"object\",\"name\":\"ColumnDataSource\",\"id\":\"p1286\",\"attributes\":{\"selected\":{\"type\":\"object\",\"name\":\"Selection\",\"id\":\"p1287\",\"attributes\":{\"indices\":[],\"line_indices\":[]}},\"selection_policy\":{\"type\":\"object\",\"name\":\"UnionRenderers\",\"id\":\"p1288\"},\"data\":{\"type\":\"map\",\"entries\":[[\"feature_1\",{\"type\":\"ndarray\",\"array\":{\"type\":\"bytes\",\"data\":\"gy2eG2Vg8j+GbXzT/PYBQJCObNBjG/c/Zcqvn08/9j9GvNcRpTDvPxQ+I0ABdwBA8uG/SBAo9z+kL4DLQyHlP/wDVv2tZuc/gG17IiDs/j8DkGs8NuUGQMca0q5Sgom/8PkLEFOkC0BS7gMRjav0P2dycZyJXfc/uKbIGfAB3z+Lo3Fs3B0BQGonP0ylNQZAecs/Xd8+9T9AdmjfXx4GQKwJowGw4/s/VsksjjaI9z9PitCNCe7PP8jB/rU0MwBAyGK4bQzIBUCoDeLGnU79Pz6C8QTrM/E/nB3YuLeeDUAWIXF9zr0JQPufB8wIZARA1FYu1mbtA0A2xEQKOnERQG5RUxkIPQBAJE+GfSp5/D/o5elUy0oKQJ+a+4ZzcgNAtZ90J5bFA0CRDg5OwX0AQALWrUl47O0/LxM34j4SA0ACvf3pAPLrPwXQbTySaAFAztbH1MkO+T+cyk7gng7yv6BtuGeKrwdAuBySqU4C+T80T+7KF9nbP/W76F4nxwNAsJu0Kt3aA0B4cBTLWpoCQO9ETs4DE/0//mfHyAXt5L+N1OK86awLQJEz87213gJAQs9EUMHn9j9MmTTjxBbrPzTruhfBgNM/nXbH78T8/j+U/+32yiIEQFVcYDaJRgRAZp9TfZU35z+ltGkHzuoAQMtwwHOHpwZAHgH9c4R+AUAyl7JOk14GQCKNkoEEpgdA9pQTjz0/A0A+DqnghjIUQPTzzW5onRZAlNwQBgUJ9j96w7WEi0zgP0rYm+zVZg9Arkiy3vpfCUCGlRrRmgAKQEl7cbwrYP0/JlLJRS5eEED4qi3kxBP3PwJDP+grV+0/qNzuWGX07z9+ikxPkjACQIyDX7fYvfw/gsLrVkTe4z8Y5CSLiHvkP2IGtN8UvQxATPW0Sfk+9D8Fp3ACjRn9Px7KrBWFQv0/dDo2fcIp+j9dVVKVvDoAQG25vsH3h/w/aQ7xhBDb+D+Oq0W/AD/wP1VmG3UguwVAzhgc5liXAUB4DLqrPZwEQFdNg1HAvAhA5umUK8hO9T/Fs2zH9XPxP69C4DcBTcG/8gJTPQouBkAoJ0ZcEz/9PwC8kFL5vPc/uItR+DSu5D9K+I3KgA0FQEDRDMbywPo/dCshAY6wCEBmVmcOivD0P+1J6je6FQNAs3tnmpfa2z85qEUrmGv8P2YVjkigsuU/PtfDPKW/9D86ovqr6dL4P9CoIQ6nUhFAE6XzXWW9EkDcSk/O+1nbPxDwWBtNiBBAl9+ei+isD0A5ekpHELkDQERHKKUXAwRA90Vc6ZPvAUAGS6Pr/6YEQHNtUccvqgRAQm9V0a0ABUDIauxbnisFQHBQaaHKWg9A2RZap8WYCUCARJZLqXEAQCsYrYDzJ90/D2RYE7FD+D+MlBvR+hACQEkW37cnBwdAv99No53a+T+fMTfseK33PxN+oRc9Q/0/knHZpJPuDUAAO7JLOJL5P0dIaCHMU8g/8c9AxeZ88T/pMB6/wZ/8P0sBezN5VARAr3ut2QO10L84Q3/yYzjjPy1tq6mLEwRASriPbPN/DUC8udeQZ6YMQAkspcO4kgFATzukaVibCkAX+BicssvCP1VvlfCAqAZAdJnTgBixBUCOZP5xJyIKQF7YaI2xcwJAClK6q2Ew+T+y7zpwtUGpv6/ft//9XwdArlOz9NC84T+uVOTRsFoLQM5SQpQCoOQ/xJPiK9EiBED2rmGRJjoLQKDy10PRhvM/Jv9goMgcA0AXJWd+QaABQLCr/p3LWPc/1sgGhKJZBkCh0ZaXnJoAQACFbH2/cMG/6w0tIkWvAECAt2oi+iYGQM1DrqmFMANA5AUMtjFY2j+Qx7MbTt7RP8X88zZAcvQ/2r+NOkiRoD9d0namEHQRQARq3CbQZA1AsLUMGC5UAUAMH4gqDvbSP5FbM6FhaAFAK6UwTJzU+z+sd7lXpxMFQNLvlEKfNwlAPoZ5UP/pwj/UmrT/9x8EQCzbNwm+LPU/DmZFWvd/AEA4HznXtGoHQK7EBirVVQFABkQ37Qd/6j+mmWInsa8AQDR+SmCeovw/rdoegdyfzT/tkNVxA2YDQLycsxIcOey/Stb9bv+x4j8avDaARJ0BQHFhXN+8cApA1i1Javk+BUDHq7k9XeT+Pzsk6OsOSJg/55ycMQ1C0b8GPCzxYicLQIErce54AhFAAo78Ao6uAUDuUXg6A0cEQHGLCLXGIQBA3chm34dh+D80tzKeIdj6P1QYhSOtLf4/meQSN8bf/T9+eFh+swwLQERNNopn2t4/uOBwjbkzAEAoYDJG4lAEQGJSLZ+ze/U/5ox3PgJk/z/G0ECW1VkBQKr7r75X6glAonnaNDcVDkA+AAltzzPgP8igDdM7GBNAFDjQQvcSCkBZxA8I05cEQOEgoP1PawVA4M9AZkc+9D+IgARjJj/SP/Q+PMAgseM/AjMPvLwY5j9M1ntBHEYHQNU3cfOPp8E/oU2dBHrnAEBRxO2nW5oLQAamFbUQdAFAYDf+CK2XBkDO46d0/tsGQF+n5phinP4/0OvdZgmtBUCR1RIanWsJQN3jUwd/EwJAwnXHb7OC/T/WcjjHCZj+P6hCknwbMPM/o/PQDBSpAED0pIotgw0TQI7Lq/Sydfo/KI6xmYJh5T+0eoIJCVv5PzZ/mbNsxQJAuJXh4S08/z9daj18Zc8CQHD1vrdL7wVA0FGXnkE51j9pYMwE7kD9P2XLmC01GARAYi/TqSjrBUD1cv/4YR8AQB1ryPJ5cPM/21Xii7NvCEBUDaMDTGzgv9ghRtAH7dg/R+t76D0g3T8MEs2yM4/yP8hA3FzMBApAsjfocat1AkBbq3y7Ee8HQIfBueUQ7gBA5z/UITSe+j+VQ9LeLRr6P4c7fuv9I88/p5zQISN+AkAUSx3+5xXqP+vPhUG1PgBAlnwcd00t+z8Yyk5VQUjlP3QXahq+FgpAh4zcPXBm1z+V7JT4ev3vPzJbziAWlQ9A3P4B6CHt5b+Q7b1QXTHcP9ymWUtnINg/c0mcgsPvBUApWLXm3gsCQLZzRk42IQVA6MkOMgFFA0BqUMT9517oP4nOPIbGYPA/XK2eFW3k3z+o0Lj+1W8GQL4scnUcQgJAVVL5GMJb8z+kEvyDKX3vP8SSqXgI2QtAW0nsMs6x2j8yXt926vvkP69Pvlz36wtAng8Soanw67+aPfioHuATQH8T39C76ABAsAlVWFeFBUBGl2ldh+EOQHP0Z9yCggRA+MmmcQoZ/j8Ngh0/QL4FQKVqBlnAiwhATB+UjEmh8j+8fcW6myERQLB8Cp9ip/o/JsM1FYqg+z9md8M/xBTyPyzr2fMmXuw/2CzjKqG1CkBPA9uuEqrCP/jqHcsgBt2/kJxrHmITAkDejig5cjoQQKmuutNq7AVAdDjpCtDn1D9pWdYqUM8KQHkNX14a3wlATA/sr6HWAUCdxDeTJQj4P/wT1X1ptAZA+evLJsLG/j/QPQmTMYUAQOnp9HTizAtAJGXFW3r7/T8MMLnpPTPgP+2hv3hCqfk/NgUkhw244j9bEFQjXVK9vxrAnjhZ4+M/InxBReADDEAxPvSrIfkDQLfKIzjYR/s/FqHZxYjG+D90I4lQr4AJQARuyPTFKAlApEoLsgSLAUB7ViBywWuYvy7j66gAewJA2iVIs6Yv+T8ikEmm9wUIQEtBoux1i/E/oUFYlYwKAEBWucRFuvcFQNNw+jiT//s/6IcwATQ40j/bzylMM1m7v5rGKrb7nOw/edrELpiw/z98SvRU2M33Px3JAlqM0fw/FyTw4uaTCUAA4t5nRbUBQElWtIVztgFA+saqR7twCUAcLQreT5T/P4dOx1a2ivc/xt63Eto37D/SHksfSfD2PyS1eNH1RwxAT2nGxCoS+z8vS8mlZykEQEifJBZ21N0/agRhMuZ04D+0Ql9fMUnmP6oU+E98CPo/oj8eiufF/j+cR6En8mK9v1zFXtUKcfI/8HCpEC1L17+bF9WwPQYFQIRKc/3/Ifs/m3pYgdJbDUDMAO2onQQNQIBL8EJ+C/w/fg9ijiF8AkDEGZatiY74P0wV0SgYC+q/UEAd+k57BkCt6nac+hz/P5qfqT2WPLg/YGZlHz77xj8n8bDL+GkKQHh9X5exi/A/WU9IvyOz8T9zWKZUQ/AHQNJbhjW4lgFASLaWwbyE9D8bs9/leibSP/ypspWYDgVAKwLLZZgi/D+Fc167HGAAQG3DDzfDrAJAiTVm1vkS/j/tdWY+O1oCQDE1BQY4lfU/awY5EVcaGUCqor3JmdX0P24SJaEDPgJAWCeuN0ZZA0BSIm/s7g8JQArhw1kshwJAhxGjsU7T/j82tHP1RhGrv1HWCVoIUPQ/qxbMdiRMBkCk6KPwlFgDQCo7CLTdAPA/WCMg5zC9A0D4lueW2y4MQOJ6Vij0og5Atzb0whV5D0CBwWI4UqMAQKpxC7fO7fQ/J7G+3L/ZCUCaU43nQAABQJyOUE5HiQFAB2DyA8iHAkC40NQJgA77P768s3/PwQdAycGCPPqwBUDXu0RdVckNQNQUlDcZm/g/MmtQKoK5DkBYDCM65338P5EhltSZ1u8/cAMngSY/BUBQyC/LHwvGP8Z2VyIU+fo/FplIPbUtzL+8eItsx0frP8D/CzeQD/w/vqcOsA1a5D/FDMPwWp4DQKrMUozrnvM/QLEqbZVc9z+T0PBd3wwEQAa8/3KVBQtAhblT1dRTAECfsS41QwUAQPaP21THvPs/sc4/jvbKDED6bAsEA1u3vzhZUE4Ieso/T3FLN91JBUAU3Qoe2N4FQCS+B6Y6U9g/Qw/gI6rYA0DXdNJN5FEIQA3FBO85TQxAOK8Q9aFc8z/yVqYbtCTwvxoYA8u7+gFAS0QDFkqB/T98z/biQ3QFQCmhnZIRvwVADVGFs/C+7z8EI12irtL0PwA86yNPnQRAF9Z/BAze/z/VhGSpf5wBQMr1mtbuzwxAkK1RdtAr6j88rR8ZZ5/uP/SZiBaWxPM/JK/TQLTLCEC0GUazcZkDQFtpd+N9RgpAw2+kUP/9+D/cbwNrB67ovx4IQzZNjvY/NmSmfuWfAEDGLHlaPVIHQJyE/lU59wpA2/z4u3BNAEB9I0+91unyP2p1a+xAo/o/ZGaMI9eX9D9xCLrVZYsCQHaiWtwzYgRAdVrbekfvBUAh0HWtE2XzPygE116XrA5Aloe8dnmu+z9TIHZ/g5AJQOFiZg7s0f0/vFCqfNxx8z/XKalqS9X4P8+8CXn+agBAV/adH9hj8j9D6FTBQLD6P43tcatlrPY/FUyio3nY/D+IpJMO1EX0P6dWFCIqYARABJhrGUZIEUCSWg5D1rDjP1Kz5taDn/o/IN8qiuEoB0BuiBKAVhcRQJsmR/TD5glAeMXGsqORA0B8TgmeUuYMQH4bR7wDtQZAtJza1LjG/j8+vAyk5yT0Pw==\"},\"shape\":[509],\"dtype\":\"float64\",\"order\":\"little\"}],[\"feature_2\",{\"type\":\"ndarray\",\"array\":{\"type\":\"bytes\",\"data\":\"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\"},\"shape\":[509],\"dtype\":\"float64\",\"order\":\"little\"}],[\"customer_segments\",[0,0,0,0,0,0,0,0,0,0,0,0,0,0,0,0,0,0,0,0,0,0,0,0,0,0,0,0,0,0,0,0,0,0,0,0,0,0,0,0,0,0,0,0,0,0,0,0,0,0,0,0,0,0,0,0,0,0,0,0,0,0,0,0,0,0,0,0,0,0,0,0,0,0,0,0,0,0,0,0,0,0,0,0,0,0,0,0,0,0,0,0,0,0,0,0,0,0,0,0,0,0,0,0,0,0,0,0,0,0,0,0,0,0,0,0,0,0,0,0,0,0,0,0,0,0,0,0,0,0,0,0,0,0,0,0,0,0,0,0,0,0,0,0,0,0,0,0,0,0,0,0,0,0,0,0,0,0,0,0,0,0,0,0,0,0,0,0,0,0,0,0,0,0,0,0,0,0,0,0,0,0,0,0,0,0,0,0,0,0,0,0,0,0,0,0,0,0,0,0,0,0,0,0,0,0,0,0,0,0,0,0,0,0,0,0,0,0,0,0,0,0,0,0,0,0,0,0,0,0,0,0,0,0,0,0,0,0,0,0,0,0,0,0,0,0,0,0,0,0,0,0,0,0,0,0,0,0,0,0,0,0,0,0,0,0,0,0,0,0,0,0,0,0,0,0,0,0,0,0,0,0,0,0,0,0,0,0,0,0,0,0,0,0,0,0,0,0,0,0,0,0,0,0,0,0,0,0,0,0,0,0,0,0,0,0,0,0,0,0,0,0,0,0,0,0,0,0,0,0,0,0,0,0,0,0,0,0,0,0,0,0,0,0,0,0,0,0,0,0,0,0,0,0,0,0,0,0,0,0,0,0,0,0,0,0,0,0,0,0,0,0,0,0,0,0,0,0,0,0,0,0,0,0,0,0,0,0,0,0,0,0,0,0,0,0,0,0,0,0,0,0,0,0,0,0,0,0,0,0,0,0,0,0,0,0,0,0,0,0,0,0,0,0,0,0,0,0,0,0,0,0,0,0,0,0,0,0,0,0,0,0,0,0,0,0,0,0,0,0,0,0,0,0,0,0,0,0,0,0,0,0,0,0,0,0,0,0,0,0,0,0,0,0,0,0,0,0,0,0,0,0,0,0,0,0,0,0,0,0,0,0,0,0,0,0,0,0,0,0,0,0,0,0,0,0,0,0,0]]]}}},\"view\":{\"type\":\"object\",\"name\":\"CDSView\",\"id\":\"p1296\",\"attributes\":{\"filter\":{\"type\":\"object\",\"name\":\"AllIndices\",\"id\":\"p1297\"}}},\"glyph\":{\"type\":\"object\",\"name\":\"Scatter\",\"id\":\"p1292\",\"attributes\":{\"tags\":[\"apply_ranges\"],\"x\":{\"type\":\"field\",\"field\":\"feature_1\"},\"y\":{\"type\":\"field\",\"field\":\"feature_2\"},\"size\":{\"type\":\"value\",\"value\":5.477225575051661},\"line_color\":{\"type\":\"value\",\"value\":\"#30a2da\"},\"fill_color\":{\"type\":\"value\",\"value\":\"#30a2da\"},\"hatch_color\":{\"type\":\"value\",\"value\":\"#30a2da\"}}},\"selection_glyph\":{\"type\":\"object\",\"name\":\"Scatter\",\"id\":\"p1300\",\"attributes\":{\"tags\":[\"apply_ranges\"],\"x\":{\"type\":\"field\",\"field\":\"feature_1\"},\"y\":{\"type\":\"field\",\"field\":\"feature_2\"},\"size\":{\"type\":\"value\",\"value\":5.477225575051661},\"angle\":{\"type\":\"value\",\"value\":0.0},\"line_color\":{\"type\":\"value\",\"value\":\"#30a2da\"},\"line_alpha\":{\"type\":\"value\",\"value\":1.0},\"line_width\":{\"type\":\"value\",\"value\":1},\"line_join\":{\"type\":\"value\",\"value\":\"bevel\"},\"line_cap\":{\"type\":\"value\",\"value\":\"butt\"},\"line_dash\":{\"type\":\"value\",\"value\":[]},\"line_dash_offset\":{\"type\":\"value\",\"value\":0},\"fill_color\":{\"type\":\"value\",\"value\":\"#30a2da\"},\"fill_alpha\":{\"type\":\"value\",\"value\":1.0},\"hatch_color\":{\"type\":\"value\",\"value\":\"#30a2da\"},\"hatch_alpha\":{\"type\":\"value\",\"value\":1.0},\"hatch_scale\":{\"type\":\"value\",\"value\":12.0},\"hatch_pattern\":{\"type\":\"value\",\"value\":null},\"hatch_weight\":{\"type\":\"value\",\"value\":1.0},\"marker\":{\"type\":\"value\",\"value\":\"circle\"}}},\"nonselection_glyph\":{\"type\":\"object\",\"name\":\"Scatter\",\"id\":\"p1293\",\"attributes\":{\"tags\":[\"apply_ranges\"],\"x\":{\"type\":\"field\",\"field\":\"feature_1\"},\"y\":{\"type\":\"field\",\"field\":\"feature_2\"},\"size\":{\"type\":\"value\",\"value\":5.477225575051661},\"line_color\":{\"type\":\"value\",\"value\":\"#30a2da\"},\"line_alpha\":{\"type\":\"value\",\"value\":0.1},\"fill_color\":{\"type\":\"value\",\"value\":\"#30a2da\"},\"fill_alpha\":{\"type\":\"value\",\"value\":0.1},\"hatch_color\":{\"type\":\"value\",\"value\":\"#30a2da\"},\"hatch_alpha\":{\"type\":\"value\",\"value\":0.1}}},\"muted_glyph\":{\"type\":\"object\",\"name\":\"Scatter\",\"id\":\"p1294\",\"attributes\":{\"tags\":[\"apply_ranges\"],\"x\":{\"type\":\"field\",\"field\":\"feature_1\"},\"y\":{\"type\":\"field\",\"field\":\"feature_2\"},\"size\":{\"type\":\"value\",\"value\":5.477225575051661},\"line_color\":{\"type\":\"value\",\"value\":\"#30a2da\"},\"line_alpha\":{\"type\":\"value\",\"value\":0.2},\"fill_color\":{\"type\":\"value\",\"value\":\"#30a2da\"},\"fill_alpha\":{\"type\":\"value\",\"value\":0.2},\"hatch_color\":{\"type\":\"value\",\"value\":\"#30a2da\"},\"hatch_alpha\":{\"type\":\"value\",\"value\":0.2}}}}},{\"type\":\"object\",\"name\":\"GlyphRenderer\",\"id\":\"p1310\",\"attributes\":{\"name\":\"1\",\"data_source\":{\"type\":\"object\",\"name\":\"ColumnDataSource\",\"id\":\"p1301\",\"attributes\":{\"selected\":{\"type\":\"object\",\"name\":\"Selection\",\"id\":\"p1302\",\"attributes\":{\"indices\":[],\"line_indices\":[]}},\"selection_policy\":{\"type\":\"object\",\"name\":\"UnionRenderers\",\"id\":\"p1303\"},\"data\":{\"type\":\"map\",\"entries\":[[\"feature_1\",{\"type\":\"ndarray\",\"array\":{\"type\":\"bytes\",\"data\":\"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\"},\"shape\":[294],\"dtype\":\"float64\",\"order\":\"little\"}],[\"feature_2\",{\"type\":\"ndarray\",\"array\":{\"type\":\"bytes\",\"data\":\"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\"},\"shape\":[294],\"dtype\":\"float64\",\"order\":\"little\"}],[\"customer_segments\",[1,1,1,1,1,1,1,1,1,1,1,1,1,1,1,1,1,1,1,1,1,1,1,1,1,1,1,1,1,1,1,1,1,1,1,1,1,1,1,1,1,1,1,1,1,1,1,1,1,1,1,1,1,1,1,1,1,1,1,1,1,1,1,1,1,1,1,1,1,1,1,1,1,1,1,1,1,1,1,1,1,1,1,1,1,1,1,1,1,1,1,1,1,1,1,1,1,1,1,1,1,1,1,1,1,1,1,1,1,1,1,1,1,1,1,1,1,1,1,1,1,1,1,1,1,1,1,1,1,1,1,1,1,1,1,1,1,1,1,1,1,1,1,1,1,1,1,1,1,1,1,1,1,1,1,1,1,1,1,1,1,1,1,1,1,1,1,1,1,1,1,1,1,1,1,1,1,1,1,1,1,1,1,1,1,1,1,1,1,1,1,1,1,1,1,1,1,1,1,1,1,1,1,1,1,1,1,1,1,1,1,1,1,1,1,1,1,1,1,1,1,1,1,1,1,1,1,1,1,1,1,1,1,1,1,1,1,1,1,1,1,1,1,1,1,1,1,1,1,1,1,1,1,1,1,1,1,1,1,1,1,1,1,1,1,1,1,1,1,1,1,1,1,1,1,1,1,1,1,1,1,1,1,1,1,1,1,1,1,1,1,1,1,1]]]}}},\"view\":{\"type\":\"object\",\"name\":\"CDSView\",\"id\":\"p1311\",\"attributes\":{\"filter\":{\"type\":\"object\",\"name\":\"AllIndices\",\"id\":\"p1312\"}}},\"glyph\":{\"type\":\"object\",\"name\":\"Scatter\",\"id\":\"p1307\",\"attributes\":{\"tags\":[\"apply_ranges\"],\"x\":{\"type\":\"field\",\"field\":\"feature_1\"},\"y\":{\"type\":\"field\",\"field\":\"feature_2\"},\"size\":{\"type\":\"value\",\"value\":5.477225575051661},\"line_color\":{\"type\":\"value\",\"value\":\"#fc4f30\"},\"fill_color\":{\"type\":\"value\",\"value\":\"#fc4f30\"},\"hatch_color\":{\"type\":\"value\",\"value\":\"#fc4f30\"}}},\"selection_glyph\":{\"type\":\"object\",\"name\":\"Scatter\",\"id\":\"p1314\",\"attributes\":{\"tags\":[\"apply_ranges\"],\"x\":{\"type\":\"field\",\"field\":\"feature_1\"},\"y\":{\"type\":\"field\",\"field\":\"feature_2\"},\"size\":{\"type\":\"value\",\"value\":5.477225575051661},\"angle\":{\"type\":\"value\",\"value\":0.0},\"line_color\":{\"type\":\"value\",\"value\":\"#fc4f30\"},\"line_alpha\":{\"type\":\"value\",\"value\":1.0},\"line_width\":{\"type\":\"value\",\"value\":1},\"line_join\":{\"type\":\"value\",\"value\":\"bevel\"},\"line_cap\":{\"type\":\"value\",\"value\":\"butt\"},\"line_dash\":{\"type\":\"value\",\"value\":[]},\"line_dash_offset\":{\"type\":\"value\",\"value\":0},\"fill_color\":{\"type\":\"value\",\"value\":\"#fc4f30\"},\"fill_alpha\":{\"type\":\"value\",\"value\":1.0},\"hatch_color\":{\"type\":\"value\",\"value\":\"#fc4f30\"},\"hatch_alpha\":{\"type\":\"value\",\"value\":1.0},\"hatch_scale\":{\"type\":\"value\",\"value\":12.0},\"hatch_pattern\":{\"type\":\"value\",\"value\":null},\"hatch_weight\":{\"type\":\"value\",\"value\":1.0},\"marker\":{\"type\":\"value\",\"value\":\"circle\"}}},\"nonselection_glyph\":{\"type\":\"object\",\"name\":\"Scatter\",\"id\":\"p1308\",\"attributes\":{\"tags\":[\"apply_ranges\"],\"x\":{\"type\":\"field\",\"field\":\"feature_1\"},\"y\":{\"type\":\"field\",\"field\":\"feature_2\"},\"size\":{\"type\":\"value\",\"value\":5.477225575051661},\"line_color\":{\"type\":\"value\",\"value\":\"#fc4f30\"},\"line_alpha\":{\"type\":\"value\",\"value\":0.1},\"fill_color\":{\"type\":\"value\",\"value\":\"#fc4f30\"},\"fill_alpha\":{\"type\":\"value\",\"value\":0.1},\"hatch_color\":{\"type\":\"value\",\"value\":\"#fc4f30\"},\"hatch_alpha\":{\"type\":\"value\",\"value\":0.1}}},\"muted_glyph\":{\"type\":\"object\",\"name\":\"Scatter\",\"id\":\"p1309\",\"attributes\":{\"tags\":[\"apply_ranges\"],\"x\":{\"type\":\"field\",\"field\":\"feature_1\"},\"y\":{\"type\":\"field\",\"field\":\"feature_2\"},\"size\":{\"type\":\"value\",\"value\":5.477225575051661},\"line_color\":{\"type\":\"value\",\"value\":\"#fc4f30\"},\"line_alpha\":{\"type\":\"value\",\"value\":0.2},\"fill_color\":{\"type\":\"value\",\"value\":\"#fc4f30\"},\"fill_alpha\":{\"type\":\"value\",\"value\":0.2},\"hatch_color\":{\"type\":\"value\",\"value\":\"#fc4f30\"},\"hatch_alpha\":{\"type\":\"value\",\"value\":0.2}}}}},{\"type\":\"object\",\"name\":\"GlyphRenderer\",\"id\":\"p1324\",\"attributes\":{\"name\":\"2\",\"data_source\":{\"type\":\"object\",\"name\":\"ColumnDataSource\",\"id\":\"p1315\",\"attributes\":{\"selected\":{\"type\":\"object\",\"name\":\"Selection\",\"id\":\"p1316\",\"attributes\":{\"indices\":[],\"line_indices\":[]}},\"selection_policy\":{\"type\":\"object\",\"name\":\"UnionRenderers\",\"id\":\"p1317\"},\"data\":{\"type\":\"map\",\"entries\":[[\"feature_1\",{\"type\":\"ndarray\",\"array\":{\"type\":\"bytes\",\"data\":\"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\"},\"shape\":[197],\"dtype\":\"float64\",\"order\":\"little\"}],[\"feature_2\",{\"type\":\"ndarray\",\"array\":{\"type\":\"bytes\",\"data\":\"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\"},\"shape\":[197],\"dtype\":\"float64\",\"order\":\"little\"}],[\"customer_segments\",[2,2,2,2,2,2,2,2,2,2,2,2,2,2,2,2,2,2,2,2,2,2,2,2,2,2,2,2,2,2,2,2,2,2,2,2,2,2,2,2,2,2,2,2,2,2,2,2,2,2,2,2,2,2,2,2,2,2,2,2,2,2,2,2,2,2,2,2,2,2,2,2,2,2,2,2,2,2,2,2,2,2,2,2,2,2,2,2,2,2,2,2,2,2,2,2,2,2,2,2,2,2,2,2,2,2,2,2,2,2,2,2,2,2,2,2,2,2,2,2,2,2,2,2,2,2,2,2,2,2,2,2,2,2,2,2,2,2,2,2,2,2,2,2,2,2,2,2,2,2,2,2,2,2,2,2,2,2,2,2,2,2,2,2,2,2,2,2,2,2,2,2,2,2,2,2,2,2,2,2,2,2,2,2,2,2,2,2,2,2,2,2,2,2,2,2,2]]]}}},\"view\":{\"type\":\"object\",\"name\":\"CDSView\",\"id\":\"p1325\",\"attributes\":{\"filter\":{\"type\":\"object\",\"name\":\"AllIndices\",\"id\":\"p1326\"}}},\"glyph\":{\"type\":\"object\",\"name\":\"Scatter\",\"id\":\"p1321\",\"attributes\":{\"tags\":[\"apply_ranges\"],\"x\":{\"type\":\"field\",\"field\":\"feature_1\"},\"y\":{\"type\":\"field\",\"field\":\"feature_2\"},\"size\":{\"type\":\"value\",\"value\":5.477225575051661},\"line_color\":{\"type\":\"value\",\"value\":\"#e5ae38\"},\"fill_color\":{\"type\":\"value\",\"value\":\"#e5ae38\"},\"hatch_color\":{\"type\":\"value\",\"value\":\"#e5ae38\"}}},\"selection_glyph\":{\"type\":\"object\",\"name\":\"Scatter\",\"id\":\"p1328\",\"attributes\":{\"tags\":[\"apply_ranges\"],\"x\":{\"type\":\"field\",\"field\":\"feature_1\"},\"y\":{\"type\":\"field\",\"field\":\"feature_2\"},\"size\":{\"type\":\"value\",\"value\":5.477225575051661},\"angle\":{\"type\":\"value\",\"value\":0.0},\"line_color\":{\"type\":\"value\",\"value\":\"#e5ae38\"},\"line_alpha\":{\"type\":\"value\",\"value\":1.0},\"line_width\":{\"type\":\"value\",\"value\":1},\"line_join\":{\"type\":\"value\",\"value\":\"bevel\"},\"line_cap\":{\"type\":\"value\",\"value\":\"butt\"},\"line_dash\":{\"type\":\"value\",\"value\":[]},\"line_dash_offset\":{\"type\":\"value\",\"value\":0},\"fill_color\":{\"type\":\"value\",\"value\":\"#e5ae38\"},\"fill_alpha\":{\"type\":\"value\",\"value\":1.0},\"hatch_color\":{\"type\":\"value\",\"value\":\"#e5ae38\"},\"hatch_alpha\":{\"type\":\"value\",\"value\":1.0},\"hatch_scale\":{\"type\":\"value\",\"value\":12.0},\"hatch_pattern\":{\"type\":\"value\",\"value\":null},\"hatch_weight\":{\"type\":\"value\",\"value\":1.0},\"marker\":{\"type\":\"value\",\"value\":\"circle\"}}},\"nonselection_glyph\":{\"type\":\"object\",\"name\":\"Scatter\",\"id\":\"p1322\",\"attributes\":{\"tags\":[\"apply_ranges\"],\"x\":{\"type\":\"field\",\"field\":\"feature_1\"},\"y\":{\"type\":\"field\",\"field\":\"feature_2\"},\"size\":{\"type\":\"value\",\"value\":5.477225575051661},\"line_color\":{\"type\":\"value\",\"value\":\"#e5ae38\"},\"line_alpha\":{\"type\":\"value\",\"value\":0.1},\"fill_color\":{\"type\":\"value\",\"value\":\"#e5ae38\"},\"fill_alpha\":{\"type\":\"value\",\"value\":0.1},\"hatch_color\":{\"type\":\"value\",\"value\":\"#e5ae38\"},\"hatch_alpha\":{\"type\":\"value\",\"value\":0.1}}},\"muted_glyph\":{\"type\":\"object\",\"name\":\"Scatter\",\"id\":\"p1323\",\"attributes\":{\"tags\":[\"apply_ranges\"],\"x\":{\"type\":\"field\",\"field\":\"feature_1\"},\"y\":{\"type\":\"field\",\"field\":\"feature_2\"},\"size\":{\"type\":\"value\",\"value\":5.477225575051661},\"line_color\":{\"type\":\"value\",\"value\":\"#e5ae38\"},\"line_alpha\":{\"type\":\"value\",\"value\":0.2},\"fill_color\":{\"type\":\"value\",\"value\":\"#e5ae38\"},\"fill_alpha\":{\"type\":\"value\",\"value\":0.2},\"hatch_color\":{\"type\":\"value\",\"value\":\"#e5ae38\"},\"hatch_alpha\":{\"type\":\"value\",\"value\":0.2}}}}}],\"toolbar\":{\"type\":\"object\",\"name\":\"Toolbar\",\"id\":\"p1264\",\"attributes\":{\"tools\":[{\"type\":\"object\",\"name\":\"WheelZoomTool\",\"id\":\"p1247\",\"attributes\":{\"tags\":[\"hv_created\"],\"renderers\":\"auto\",\"zoom_together\":\"none\"}},{\"type\":\"object\",\"name\":\"HoverTool\",\"id\":\"p1248\",\"attributes\":{\"tags\":[\"hv_created\"],\"renderers\":[{\"id\":\"p1295\"},{\"id\":\"p1310\"},{\"id\":\"p1324\"}],\"tooltips\":[[\"customer_segments\",\"@{customer_segments}\"],[\"feature_1\",\"@{feature_1}\"],[\"feature_2\",\"@{feature_2}\"]]}},{\"type\":\"object\",\"name\":\"SaveTool\",\"id\":\"p1277\"},{\"type\":\"object\",\"name\":\"PanTool\",\"id\":\"p1278\"},{\"type\":\"object\",\"name\":\"BoxZoomTool\",\"id\":\"p1279\",\"attributes\":{\"overlay\":{\"type\":\"object\",\"name\":\"BoxAnnotation\",\"id\":\"p1280\",\"attributes\":{\"syncable\":false,\"level\":\"overlay\",\"visible\":false,\"left\":{\"type\":\"number\",\"value\":\"nan\"},\"right\":{\"type\":\"number\",\"value\":\"nan\"},\"top\":{\"type\":\"number\",\"value\":\"nan\"},\"bottom\":{\"type\":\"number\",\"value\":\"nan\"},\"left_units\":\"canvas\",\"right_units\":\"canvas\",\"top_units\":\"canvas\",\"bottom_units\":\"canvas\",\"line_color\":\"black\",\"line_alpha\":1.0,\"line_width\":2,\"line_dash\":[4,4],\"fill_color\":\"lightgrey\",\"fill_alpha\":0.5}}}},{\"type\":\"object\",\"name\":\"ResetTool\",\"id\":\"p1285\"}],\"active_drag\":{\"id\":\"p1278\"},\"active_scroll\":{\"id\":\"p1247\"}}},\"left\":[{\"type\":\"object\",\"name\":\"LinearAxis\",\"id\":\"p1272\",\"attributes\":{\"ticker\":{\"type\":\"object\",\"name\":\"BasicTicker\",\"id\":\"p1273\",\"attributes\":{\"mantissas\":[1,2,5]}},\"formatter\":{\"type\":\"object\",\"name\":\"BasicTickFormatter\",\"id\":\"p1274\"},\"axis_label\":\"feature_2\",\"major_label_policy\":{\"type\":\"object\",\"name\":\"AllLabels\",\"id\":\"p1275\"}}}],\"right\":[{\"type\":\"object\",\"name\":\"Legend\",\"id\":\"p1298\",\"attributes\":{\"location\":[0,0],\"title\":\"customer_segments\",\"click_policy\":\"mute\",\"items\":[{\"type\":\"object\",\"name\":\"LegendItem\",\"id\":\"p1299\",\"attributes\":{\"label\":{\"type\":\"value\",\"value\":\"0\"},\"renderers\":[{\"id\":\"p1295\"}]}},{\"type\":\"object\",\"name\":\"LegendItem\",\"id\":\"p1313\",\"attributes\":{\"label\":{\"type\":\"value\",\"value\":\"1\"},\"renderers\":[{\"id\":\"p1310\"}]}},{\"type\":\"object\",\"name\":\"LegendItem\",\"id\":\"p1327\",\"attributes\":{\"label\":{\"type\":\"value\",\"value\":\"2\"},\"renderers\":[{\"id\":\"p1324\"}]}}]}}],\"below\":[{\"type\":\"object\",\"name\":\"LinearAxis\",\"id\":\"p1267\",\"attributes\":{\"ticker\":{\"type\":\"object\",\"name\":\"BasicTicker\",\"id\":\"p1268\",\"attributes\":{\"mantissas\":[1,2,5]}},\"formatter\":{\"type\":\"object\",\"name\":\"BasicTickFormatter\",\"id\":\"p1269\"},\"axis_label\":\"feature_1\",\"major_label_policy\":{\"type\":\"object\",\"name\":\"AllLabels\",\"id\":\"p1270\"}}}],\"center\":[{\"type\":\"object\",\"name\":\"Grid\",\"id\":\"p1271\",\"attributes\":{\"axis\":{\"id\":\"p1267\"},\"grid_line_color\":null}},{\"type\":\"object\",\"name\":\"Grid\",\"id\":\"p1276\",\"attributes\":{\"dimension\":1,\"axis\":{\"id\":\"p1272\"},\"grid_line_color\":null}}],\"min_border_top\":10,\"min_border_bottom\":10,\"min_border_left\":10,\"min_border_right\":10,\"output_backend\":\"webgl\"}},{\"type\":\"object\",\"name\":\"Spacer\",\"id\":\"p1330\",\"attributes\":{\"name\":\"HSpacer01390\",\"stylesheets\":[\"\\n:host(.pn-loading.pn-arc):before, .pn-loading.pn-arc:before {\\n  background-image: url(\\\"data:image/svg+xml;base64,PHN2ZyB4bWxucz0iaHR0cDovL3d3dy53My5vcmcvMjAwMC9zdmciIHN0eWxlPSJtYXJnaW46IGF1dG87IGJhY2tncm91bmQ6IG5vbmU7IGRpc3BsYXk6IGJsb2NrOyBzaGFwZS1yZW5kZXJpbmc6IGF1dG87IiB2aWV3Qm94PSIwIDAgMTAwIDEwMCIgcHJlc2VydmVBc3BlY3RSYXRpbz0ieE1pZFlNaWQiPiAgPGNpcmNsZSBjeD0iNTAiIGN5PSI1MCIgZmlsbD0ibm9uZSIgc3Ryb2tlPSIjYzNjM2MzIiBzdHJva2Utd2lkdGg9IjEwIiByPSIzNSIgc3Ryb2tlLWRhc2hhcnJheT0iMTY0LjkzMzYxNDMxMzQ2NDE1IDU2Ljk3Nzg3MTQzNzgyMTM4Ij4gICAgPGFuaW1hdGVUcmFuc2Zvcm0gYXR0cmlidXRlTmFtZT0idHJhbnNmb3JtIiB0eXBlPSJyb3RhdGUiIHJlcGVhdENvdW50PSJpbmRlZmluaXRlIiBkdXI9IjFzIiB2YWx1ZXM9IjAgNTAgNTA7MzYwIDUwIDUwIiBrZXlUaW1lcz0iMDsxIj48L2FuaW1hdGVUcmFuc2Zvcm0+ICA8L2NpcmNsZT48L3N2Zz4=\\\");\\n  background-size: auto calc(min(50%, 400px));\\n}\",{\"id\":\"p1240\"},{\"id\":\"p1238\"},{\"id\":\"p1239\"}],\"margin\":0,\"sizing_mode\":\"stretch_width\",\"align\":\"start\"}}]}}],\"defs\":[{\"type\":\"model\",\"name\":\"ReactiveHTML1\"},{\"type\":\"model\",\"name\":\"FlexBox1\",\"properties\":[{\"name\":\"align_content\",\"kind\":\"Any\",\"default\":\"flex-start\"},{\"name\":\"align_items\",\"kind\":\"Any\",\"default\":\"flex-start\"},{\"name\":\"flex_direction\",\"kind\":\"Any\",\"default\":\"row\"},{\"name\":\"flex_wrap\",\"kind\":\"Any\",\"default\":\"wrap\"},{\"name\":\"justify_content\",\"kind\":\"Any\",\"default\":\"flex-start\"}]},{\"type\":\"model\",\"name\":\"FloatPanel1\",\"properties\":[{\"name\":\"config\",\"kind\":\"Any\",\"default\":{\"type\":\"map\"}},{\"name\":\"contained\",\"kind\":\"Any\",\"default\":true},{\"name\":\"position\",\"kind\":\"Any\",\"default\":\"right-top\"},{\"name\":\"offsetx\",\"kind\":\"Any\",\"default\":null},{\"name\":\"offsety\",\"kind\":\"Any\",\"default\":null},{\"name\":\"theme\",\"kind\":\"Any\",\"default\":\"primary\"},{\"name\":\"status\",\"kind\":\"Any\",\"default\":\"normalized\"}]},{\"type\":\"model\",\"name\":\"GridStack1\",\"properties\":[{\"name\":\"mode\",\"kind\":\"Any\",\"default\":\"warn\"},{\"name\":\"ncols\",\"kind\":\"Any\",\"default\":null},{\"name\":\"nrows\",\"kind\":\"Any\",\"default\":null},{\"name\":\"allow_resize\",\"kind\":\"Any\",\"default\":true},{\"name\":\"allow_drag\",\"kind\":\"Any\",\"default\":true},{\"name\":\"state\",\"kind\":\"Any\",\"default\":[]}]},{\"type\":\"model\",\"name\":\"drag1\",\"properties\":[{\"name\":\"slider_width\",\"kind\":\"Any\",\"default\":5},{\"name\":\"slider_color\",\"kind\":\"Any\",\"default\":\"black\"},{\"name\":\"value\",\"kind\":\"Any\",\"default\":50}]},{\"type\":\"model\",\"name\":\"click1\",\"properties\":[{\"name\":\"terminal_output\",\"kind\":\"Any\",\"default\":\"\"},{\"name\":\"debug_name\",\"kind\":\"Any\",\"default\":\"\"},{\"name\":\"clears\",\"kind\":\"Any\",\"default\":0}]},{\"type\":\"model\",\"name\":\"copy_to_clipboard1\",\"properties\":[{\"name\":\"fill\",\"kind\":\"Any\",\"default\":\"none\"},{\"name\":\"value\",\"kind\":\"Any\",\"default\":null}]},{\"type\":\"model\",\"name\":\"FastWrapper1\",\"properties\":[{\"name\":\"object\",\"kind\":\"Any\",\"default\":null},{\"name\":\"style\",\"kind\":\"Any\",\"default\":null}]},{\"type\":\"model\",\"name\":\"NotificationAreaBase1\",\"properties\":[{\"name\":\"js_events\",\"kind\":\"Any\",\"default\":{\"type\":\"map\"}},{\"name\":\"position\",\"kind\":\"Any\",\"default\":\"bottom-right\"},{\"name\":\"_clear\",\"kind\":\"Any\",\"default\":0}]},{\"type\":\"model\",\"name\":\"NotificationArea1\",\"properties\":[{\"name\":\"js_events\",\"kind\":\"Any\",\"default\":{\"type\":\"map\"}},{\"name\":\"notifications\",\"kind\":\"Any\",\"default\":[]},{\"name\":\"position\",\"kind\":\"Any\",\"default\":\"bottom-right\"},{\"name\":\"_clear\",\"kind\":\"Any\",\"default\":0},{\"name\":\"types\",\"kind\":\"Any\",\"default\":[{\"type\":\"map\",\"entries\":[[\"type\",\"warning\"],[\"background\",\"#ffc107\"],[\"icon\",{\"type\":\"map\",\"entries\":[[\"className\",\"fas fa-exclamation-triangle\"],[\"tagName\",\"i\"],[\"color\",\"white\"]]}]]},{\"type\":\"map\",\"entries\":[[\"type\",\"info\"],[\"background\",\"#007bff\"],[\"icon\",{\"type\":\"map\",\"entries\":[[\"className\",\"fas fa-info-circle\"],[\"tagName\",\"i\"],[\"color\",\"white\"]]}]]}]}]},{\"type\":\"model\",\"name\":\"Notification\",\"properties\":[{\"name\":\"background\",\"kind\":\"Any\",\"default\":null},{\"name\":\"duration\",\"kind\":\"Any\",\"default\":3000},{\"name\":\"icon\",\"kind\":\"Any\",\"default\":null},{\"name\":\"message\",\"kind\":\"Any\",\"default\":\"\"},{\"name\":\"notification_type\",\"kind\":\"Any\",\"default\":null},{\"name\":\"_destroyed\",\"kind\":\"Any\",\"default\":false}]},{\"type\":\"model\",\"name\":\"TemplateActions1\",\"properties\":[{\"name\":\"open_modal\",\"kind\":\"Any\",\"default\":0},{\"name\":\"close_modal\",\"kind\":\"Any\",\"default\":0}]},{\"type\":\"model\",\"name\":\"BootstrapTemplateActions1\",\"properties\":[{\"name\":\"open_modal\",\"kind\":\"Any\",\"default\":0},{\"name\":\"close_modal\",\"kind\":\"Any\",\"default\":0}]},{\"type\":\"model\",\"name\":\"MaterialTemplateActions1\",\"properties\":[{\"name\":\"open_modal\",\"kind\":\"Any\",\"default\":0},{\"name\":\"close_modal\",\"kind\":\"Any\",\"default\":0}]}]}};\n",
       "  var render_items = [{\"docid\":\"e5301c56-215a-4f55-8f94-265aca1e917c\",\"roots\":{\"p1237\":\"d9851ec5-f840-47a3-884f-9e64d3c6180e\"},\"root_ids\":[\"p1237\"]}];\n",
       "  var docs = Object.values(docs_json)\n",
       "  if (!docs) {\n",
       "    return\n",
       "  }\n",
       "  const py_version = docs[0].version.replace('rc', '-rc.').replace('.dev', '-dev.')\n",
       "  function embed_document(root) {\n",
       "    var Bokeh = get_bokeh(root)\n",
       "    Bokeh.embed.embed_items_notebook(docs_json, render_items);\n",
       "    for (const render_item of render_items) {\n",
       "      for (const root_id of render_item.root_ids) {\n",
       "\tconst id_el = document.getElementById(root_id)\n",
       "\tif (id_el.children.length && (id_el.children[0].className === 'bk-root')) {\n",
       "\t  const root_el = id_el.children[0]\n",
       "\t  root_el.id = root_el.id + '-rendered'\n",
       "\t}\n",
       "      }\n",
       "    }\n",
       "  }\n",
       "  function get_bokeh(root) {\n",
       "    if (root.Bokeh === undefined) {\n",
       "      return null\n",
       "    } else if (root.Bokeh.version !== py_version) {\n",
       "      if (root.Bokeh.versions === undefined || !root.Bokeh.versions.has(py_version)) {\n",
       "\treturn null\n",
       "      }\n",
       "      return root.Bokeh.versions.get(py_version);\n",
       "    } else if (root.Bokeh.version === py_version) {\n",
       "      return root.Bokeh\n",
       "    }\n",
       "    return null\n",
       "  }\n",
       "  function is_loaded(root) {\n",
       "    var Bokeh = get_bokeh(root)\n",
       "    return (Bokeh != null && Bokeh.Panel !== undefined)\n",
       "  }\n",
       "  if (is_loaded(root)) {\n",
       "    embed_document(root);\n",
       "  } else {\n",
       "    var attempts = 0;\n",
       "    var timer = setInterval(function(root) {\n",
       "      if (is_loaded(root)) {\n",
       "        clearInterval(timer);\n",
       "        embed_document(root);\n",
       "      } else if (document.readyState == \"complete\") {\n",
       "        attempts++;\n",
       "        if (attempts > 200) {\n",
       "          clearInterval(timer);\n",
       "\t  var Bokeh = get_bokeh(root)\n",
       "\t  if (Bokeh == null || Bokeh.Panel == null) {\n",
       "            console.warn(\"Panel: ERROR: Unable to run Panel code because Bokeh or Panel library is missing\");\n",
       "\t  } else {\n",
       "\t    console.warn(\"Panel: WARNING: Attempting to render but not all required libraries could be resolved.\")\n",
       "\t    embed_document(root)\n",
       "\t  }\n",
       "        }\n",
       "      }\n",
       "    }, 25, root)\n",
       "  }\n",
       "})(window);</script>"
      ],
      "text/plain": [
       ":NdOverlay   [customer_segments]\n",
       "   :Scatter   [feature_1]   (feature_2)"
      ]
     },
     "execution_count": 19,
     "metadata": {
      "application/vnd.holoviews_exec.v0+json": {
       "id": "p1237"
      }
     },
     "output_type": "execute_result"
    }
   ],
   "source": [
    "# Plot the clusters using the age and spending columns\n",
    "customers_transformed_predictions_df.hvplot.scatter(\n",
    "    x=\"feature_1\",\n",
    "    y=\"feature_2\",\n",
    "    by=\"customer_segments\"\n",
    ")"
   ]
  },
  {
   "cell_type": "markdown",
   "metadata": {},
   "source": [
    "## Part 5: Compare the segmentation results between the PCA DataFrame and the full-factored DataFrame"
   ]
  },
  {
   "cell_type": "markdown",
   "metadata": {},
   "source": [
    "**Answer:** YOUR ANSWER HERE"
   ]
  }
 ],
 "metadata": {
  "kernelspec": {
   "display_name": "Python 3 (ipykernel)",
   "language": "python",
   "name": "python3"
  },
  "language_info": {
   "codemirror_mode": {
    "name": "ipython",
    "version": 3
   },
   "file_extension": ".py",
   "mimetype": "text/x-python",
   "name": "python",
   "nbconvert_exporter": "python",
   "pygments_lexer": "ipython3",
   "version": "3.10.13"
  }
 },
 "nbformat": 4,
 "nbformat_minor": 4
}
