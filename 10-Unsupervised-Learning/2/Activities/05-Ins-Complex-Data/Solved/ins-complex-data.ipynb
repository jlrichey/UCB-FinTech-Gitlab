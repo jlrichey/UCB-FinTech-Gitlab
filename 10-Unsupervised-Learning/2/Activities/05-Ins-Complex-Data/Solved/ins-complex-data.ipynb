{
 "cells": [
  {
   "cell_type": "code",
   "execution_count": 1,
   "id": "026ac253",
   "metadata": {},
   "outputs": [
    {
     "data": {
      "application/javascript": "(function(root) {\n  function now() {\n    return new Date();\n  }\n\n  var force = true;\n  var py_version = '3.3.4'.replace('rc', '-rc.').replace('.dev', '-dev.');\n  var reloading = false;\n  var Bokeh = root.Bokeh;\n\n  if (typeof (root._bokeh_timeout) === \"undefined\" || force) {\n    root._bokeh_timeout = Date.now() + 5000;\n    root._bokeh_failed_load = false;\n  }\n\n  function run_callbacks() {\n    try {\n      root._bokeh_onload_callbacks.forEach(function(callback) {\n        if (callback != null)\n          callback();\n      });\n    } finally {\n      delete root._bokeh_onload_callbacks;\n    }\n    console.debug(\"Bokeh: all callbacks have finished\");\n  }\n\n  function load_libs(css_urls, js_urls, js_modules, js_exports, callback) {\n    if (css_urls == null) css_urls = [];\n    if (js_urls == null) js_urls = [];\n    if (js_modules == null) js_modules = [];\n    if (js_exports == null) js_exports = {};\n\n    root._bokeh_onload_callbacks.push(callback);\n\n    if (root._bokeh_is_loading > 0) {\n      console.debug(\"Bokeh: BokehJS is being loaded, scheduling callback at\", now());\n      return null;\n    }\n    if (js_urls.length === 0 && js_modules.length === 0 && Object.keys(js_exports).length === 0) {\n      run_callbacks();\n      return null;\n    }\n    if (!reloading) {\n      console.debug(\"Bokeh: BokehJS not loaded, scheduling load and callback at\", now());\n    }\n\n    function on_load() {\n      root._bokeh_is_loading--;\n      if (root._bokeh_is_loading === 0) {\n        console.debug(\"Bokeh: all BokehJS libraries/stylesheets loaded\");\n        run_callbacks()\n      }\n    }\n    window._bokeh_on_load = on_load\n\n    function on_error() {\n      console.error(\"failed to load \" + url);\n    }\n\n    var skip = [];\n    if (window.requirejs) {\n      window.requirejs.config({'packages': {}, 'paths': {'jspanel': 'https://cdn.jsdelivr.net/npm/jspanel4@4.12.0/dist/jspanel', 'jspanel-modal': 'https://cdn.jsdelivr.net/npm/jspanel4@4.12.0/dist/extensions/modal/jspanel.modal', 'jspanel-tooltip': 'https://cdn.jsdelivr.net/npm/jspanel4@4.12.0/dist/extensions/tooltip/jspanel.tooltip', 'jspanel-hint': 'https://cdn.jsdelivr.net/npm/jspanel4@4.12.0/dist/extensions/hint/jspanel.hint', 'jspanel-layout': 'https://cdn.jsdelivr.net/npm/jspanel4@4.12.0/dist/extensions/layout/jspanel.layout', 'jspanel-contextmenu': 'https://cdn.jsdelivr.net/npm/jspanel4@4.12.0/dist/extensions/contextmenu/jspanel.contextmenu', 'jspanel-dock': 'https://cdn.jsdelivr.net/npm/jspanel4@4.12.0/dist/extensions/dock/jspanel.dock', 'gridstack': 'https://cdn.jsdelivr.net/npm/gridstack@7.2.3/dist/gridstack-all', 'notyf': 'https://cdn.jsdelivr.net/npm/notyf@3/notyf.min'}, 'shim': {'jspanel': {'exports': 'jsPanel'}, 'gridstack': {'exports': 'GridStack'}}});\n      require([\"jspanel\"], function(jsPanel) {\n\twindow.jsPanel = jsPanel\n\ton_load()\n      })\n      require([\"jspanel-modal\"], function() {\n\ton_load()\n      })\n      require([\"jspanel-tooltip\"], function() {\n\ton_load()\n      })\n      require([\"jspanel-hint\"], function() {\n\ton_load()\n      })\n      require([\"jspanel-layout\"], function() {\n\ton_load()\n      })\n      require([\"jspanel-contextmenu\"], function() {\n\ton_load()\n      })\n      require([\"jspanel-dock\"], function() {\n\ton_load()\n      })\n      require([\"gridstack\"], function(GridStack) {\n\twindow.GridStack = GridStack\n\ton_load()\n      })\n      require([\"notyf\"], function() {\n\ton_load()\n      })\n      root._bokeh_is_loading = css_urls.length + 9;\n    } else {\n      root._bokeh_is_loading = css_urls.length + js_urls.length + js_modules.length + Object.keys(js_exports).length;\n    }\n\n    var existing_stylesheets = []\n    var links = document.getElementsByTagName('link')\n    for (var i = 0; i < links.length; i++) {\n      var link = links[i]\n      if (link.href != null) {\n\texisting_stylesheets.push(link.href)\n      }\n    }\n    for (var i = 0; i < css_urls.length; i++) {\n      var url = css_urls[i];\n      if (existing_stylesheets.indexOf(url) !== -1) {\n\ton_load()\n\tcontinue;\n      }\n      const element = document.createElement(\"link\");\n      element.onload = on_load;\n      element.onerror = on_error;\n      element.rel = \"stylesheet\";\n      element.type = \"text/css\";\n      element.href = url;\n      console.debug(\"Bokeh: injecting link tag for BokehJS stylesheet: \", url);\n      document.body.appendChild(element);\n    }    if (((window['jsPanel'] !== undefined) && (!(window['jsPanel'] instanceof HTMLElement))) || window.requirejs) {\n      var urls = ['https://cdn.holoviz.org/panel/1.3.8/dist/bundled/floatpanel/jspanel4@4.12.0/dist/jspanel.js', 'https://cdn.holoviz.org/panel/1.3.8/dist/bundled/floatpanel/jspanel4@4.12.0/dist/extensions/modal/jspanel.modal.js', 'https://cdn.holoviz.org/panel/1.3.8/dist/bundled/floatpanel/jspanel4@4.12.0/dist/extensions/tooltip/jspanel.tooltip.js', 'https://cdn.holoviz.org/panel/1.3.8/dist/bundled/floatpanel/jspanel4@4.12.0/dist/extensions/hint/jspanel.hint.js', 'https://cdn.holoviz.org/panel/1.3.8/dist/bundled/floatpanel/jspanel4@4.12.0/dist/extensions/layout/jspanel.layout.js', 'https://cdn.holoviz.org/panel/1.3.8/dist/bundled/floatpanel/jspanel4@4.12.0/dist/extensions/contextmenu/jspanel.contextmenu.js', 'https://cdn.holoviz.org/panel/1.3.8/dist/bundled/floatpanel/jspanel4@4.12.0/dist/extensions/dock/jspanel.dock.js'];\n      for (var i = 0; i < urls.length; i++) {\n        skip.push(urls[i])\n      }\n    }    if (((window['GridStack'] !== undefined) && (!(window['GridStack'] instanceof HTMLElement))) || window.requirejs) {\n      var urls = ['https://cdn.holoviz.org/panel/1.3.8/dist/bundled/gridstack/gridstack@7.2.3/dist/gridstack-all.js'];\n      for (var i = 0; i < urls.length; i++) {\n        skip.push(urls[i])\n      }\n    }    if (((window['Notyf'] !== undefined) && (!(window['Notyf'] instanceof HTMLElement))) || window.requirejs) {\n      var urls = ['https://cdn.holoviz.org/panel/1.3.8/dist/bundled/notificationarea/notyf@3/notyf.min.js'];\n      for (var i = 0; i < urls.length; i++) {\n        skip.push(urls[i])\n      }\n    }    var existing_scripts = []\n    var scripts = document.getElementsByTagName('script')\n    for (var i = 0; i < scripts.length; i++) {\n      var script = scripts[i]\n      if (script.src != null) {\n\texisting_scripts.push(script.src)\n      }\n    }\n    for (var i = 0; i < js_urls.length; i++) {\n      var url = js_urls[i];\n      if (skip.indexOf(url) !== -1 || existing_scripts.indexOf(url) !== -1) {\n\tif (!window.requirejs) {\n\t  on_load();\n\t}\n\tcontinue;\n      }\n      var element = document.createElement('script');\n      element.onload = on_load;\n      element.onerror = on_error;\n      element.async = false;\n      element.src = url;\n      console.debug(\"Bokeh: injecting script tag for BokehJS library: \", url);\n      document.head.appendChild(element);\n    }\n    for (var i = 0; i < js_modules.length; i++) {\n      var url = js_modules[i];\n      if (skip.indexOf(url) !== -1 || existing_scripts.indexOf(url) !== -1) {\n\tif (!window.requirejs) {\n\t  on_load();\n\t}\n\tcontinue;\n      }\n      var element = document.createElement('script');\n      element.onload = on_load;\n      element.onerror = on_error;\n      element.async = false;\n      element.src = url;\n      element.type = \"module\";\n      console.debug(\"Bokeh: injecting script tag for BokehJS library: \", url);\n      document.head.appendChild(element);\n    }\n    for (const name in js_exports) {\n      var url = js_exports[name];\n      if (skip.indexOf(url) >= 0 || root[name] != null) {\n\tif (!window.requirejs) {\n\t  on_load();\n\t}\n\tcontinue;\n      }\n      var element = document.createElement('script');\n      element.onerror = on_error;\n      element.async = false;\n      element.type = \"module\";\n      console.debug(\"Bokeh: injecting script tag for BokehJS library: \", url);\n      element.textContent = `\n      import ${name} from \"${url}\"\n      window.${name} = ${name}\n      window._bokeh_on_load()\n      `\n      document.head.appendChild(element);\n    }\n    if (!js_urls.length && !js_modules.length) {\n      on_load()\n    }\n  };\n\n  function inject_raw_css(css) {\n    const element = document.createElement(\"style\");\n    element.appendChild(document.createTextNode(css));\n    document.body.appendChild(element);\n  }\n\n  var js_urls = [\"https://cdn.bokeh.org/bokeh/release/bokeh-3.3.4.min.js\", \"https://cdn.bokeh.org/bokeh/release/bokeh-gl-3.3.4.min.js\", \"https://cdn.bokeh.org/bokeh/release/bokeh-widgets-3.3.4.min.js\", \"https://cdn.bokeh.org/bokeh/release/bokeh-tables-3.3.4.min.js\", \"https://cdn.holoviz.org/panel/1.3.8/dist/panel.min.js\"];\n  var js_modules = [];\n  var js_exports = {};\n  var css_urls = [];\n  var inline_js = [    function(Bokeh) {\n      Bokeh.set_log_level(\"info\");\n    },\nfunction(Bokeh) {} // ensure no trailing comma for IE\n  ];\n\n  function run_inline_js() {\n    if ((root.Bokeh !== undefined) || (force === true)) {\n      for (var i = 0; i < inline_js.length; i++) {\n\ttry {\n          inline_js[i].call(root, root.Bokeh);\n\t} catch(e) {\n\t  if (!reloading) {\n\t    throw e;\n\t  }\n\t}\n      }\n      // Cache old bokeh versions\n      if (Bokeh != undefined && !reloading) {\n\tvar NewBokeh = root.Bokeh;\n\tif (Bokeh.versions === undefined) {\n\t  Bokeh.versions = new Map();\n\t}\n\tif (NewBokeh.version !== Bokeh.version) {\n\t  Bokeh.versions.set(NewBokeh.version, NewBokeh)\n\t}\n\troot.Bokeh = Bokeh;\n      }} else if (Date.now() < root._bokeh_timeout) {\n      setTimeout(run_inline_js, 100);\n    } else if (!root._bokeh_failed_load) {\n      console.log(\"Bokeh: BokehJS failed to load within specified timeout.\");\n      root._bokeh_failed_load = true;\n    }\n    root._bokeh_is_initializing = false\n  }\n\n  function load_or_wait() {\n    // Implement a backoff loop that tries to ensure we do not load multiple\n    // versions of Bokeh and its dependencies at the same time.\n    // In recent versions we use the root._bokeh_is_initializing flag\n    // to determine whether there is an ongoing attempt to initialize\n    // bokeh, however for backward compatibility we also try to ensure\n    // that we do not start loading a newer (Panel>=1.0 and Bokeh>3) version\n    // before older versions are fully initialized.\n    if (root._bokeh_is_initializing && Date.now() > root._bokeh_timeout) {\n      root._bokeh_is_initializing = false;\n      root._bokeh_onload_callbacks = undefined;\n      console.log(\"Bokeh: BokehJS was loaded multiple times but one version failed to initialize.\");\n      load_or_wait();\n    } else if (root._bokeh_is_initializing || (typeof root._bokeh_is_initializing === \"undefined\" && root._bokeh_onload_callbacks !== undefined)) {\n      setTimeout(load_or_wait, 100);\n    } else {\n      root._bokeh_is_initializing = true\n      root._bokeh_onload_callbacks = []\n      var bokeh_loaded = Bokeh != null && (Bokeh.version === py_version || (Bokeh.versions !== undefined && Bokeh.versions.has(py_version)));\n      if (!reloading && !bokeh_loaded) {\n\troot.Bokeh = undefined;\n      }\n      load_libs(css_urls, js_urls, js_modules, js_exports, function() {\n\tconsole.debug(\"Bokeh: BokehJS plotting callback run at\", now());\n\trun_inline_js();\n      });\n    }\n  }\n  // Give older versions of the autoload script a head-start to ensure\n  // they initialize before we start loading newer version.\n  setTimeout(load_or_wait, 100)\n}(window));",
      "application/vnd.holoviews_load.v0+json": ""
     },
     "metadata": {},
     "output_type": "display_data"
    },
    {
     "data": {
      "application/javascript": "\nif ((window.PyViz === undefined) || (window.PyViz instanceof HTMLElement)) {\n  window.PyViz = {comms: {}, comm_status:{}, kernels:{}, receivers: {}, plot_index: []}\n}\n\n\n    function JupyterCommManager() {\n    }\n\n    JupyterCommManager.prototype.register_target = function(plot_id, comm_id, msg_handler) {\n      if (window.comm_manager || ((window.Jupyter !== undefined) && (Jupyter.notebook.kernel != null))) {\n        var comm_manager = window.comm_manager || Jupyter.notebook.kernel.comm_manager;\n        comm_manager.register_target(comm_id, function(comm) {\n          comm.on_msg(msg_handler);\n        });\n      } else if ((plot_id in window.PyViz.kernels) && (window.PyViz.kernels[plot_id])) {\n        window.PyViz.kernels[plot_id].registerCommTarget(comm_id, function(comm) {\n          comm.onMsg = msg_handler;\n        });\n      } else if (typeof google != 'undefined' && google.colab.kernel != null) {\n        google.colab.kernel.comms.registerTarget(comm_id, (comm) => {\n          var messages = comm.messages[Symbol.asyncIterator]();\n          function processIteratorResult(result) {\n            var message = result.value;\n            console.log(message)\n            var content = {data: message.data, comm_id};\n            var buffers = []\n            for (var buffer of message.buffers || []) {\n              buffers.push(new DataView(buffer))\n            }\n            var metadata = message.metadata || {};\n            var msg = {content, buffers, metadata}\n            msg_handler(msg);\n            return messages.next().then(processIteratorResult);\n          }\n          return messages.next().then(processIteratorResult);\n        })\n      }\n    }\n\n    JupyterCommManager.prototype.get_client_comm = function(plot_id, comm_id, msg_handler) {\n      if (comm_id in window.PyViz.comms) {\n        return window.PyViz.comms[comm_id];\n      } else if (window.comm_manager || ((window.Jupyter !== undefined) && (Jupyter.notebook.kernel != null))) {\n        var comm_manager = window.comm_manager || Jupyter.notebook.kernel.comm_manager;\n        var comm = comm_manager.new_comm(comm_id, {}, {}, {}, comm_id);\n        if (msg_handler) {\n          comm.on_msg(msg_handler);\n        }\n      } else if ((plot_id in window.PyViz.kernels) && (window.PyViz.kernels[plot_id])) {\n        var comm = window.PyViz.kernels[plot_id].connectToComm(comm_id);\n        comm.open();\n        if (msg_handler) {\n          comm.onMsg = msg_handler;\n        }\n      } else if (typeof google != 'undefined' && google.colab.kernel != null) {\n        var comm_promise = google.colab.kernel.comms.open(comm_id)\n        comm_promise.then((comm) => {\n          window.PyViz.comms[comm_id] = comm;\n          if (msg_handler) {\n            var messages = comm.messages[Symbol.asyncIterator]();\n            function processIteratorResult(result) {\n              var message = result.value;\n              var content = {data: message.data};\n              var metadata = message.metadata || {comm_id};\n              var msg = {content, metadata}\n              msg_handler(msg);\n              return messages.next().then(processIteratorResult);\n            }\n            return messages.next().then(processIteratorResult);\n          }\n        }) \n        var sendClosure = (data, metadata, buffers, disposeOnDone) => {\n          return comm_promise.then((comm) => {\n            comm.send(data, metadata, buffers, disposeOnDone);\n          });\n        };\n        var comm = {\n          send: sendClosure\n        };\n      }\n      window.PyViz.comms[comm_id] = comm;\n      return comm;\n    }\n    window.PyViz.comm_manager = new JupyterCommManager();\n    \n\n\nvar JS_MIME_TYPE = 'application/javascript';\nvar HTML_MIME_TYPE = 'text/html';\nvar EXEC_MIME_TYPE = 'application/vnd.holoviews_exec.v0+json';\nvar CLASS_NAME = 'output';\n\n/**\n * Render data to the DOM node\n */\nfunction render(props, node) {\n  var div = document.createElement(\"div\");\n  var script = document.createElement(\"script\");\n  node.appendChild(div);\n  node.appendChild(script);\n}\n\n/**\n * Handle when a new output is added\n */\nfunction handle_add_output(event, handle) {\n  var output_area = handle.output_area;\n  var output = handle.output;\n  if ((output.data == undefined) || (!output.data.hasOwnProperty(EXEC_MIME_TYPE))) {\n    return\n  }\n  var id = output.metadata[EXEC_MIME_TYPE][\"id\"];\n  var toinsert = output_area.element.find(\".\" + CLASS_NAME.split(' ')[0]);\n  if (id !== undefined) {\n    var nchildren = toinsert.length;\n    var html_node = toinsert[nchildren-1].children[0];\n    html_node.innerHTML = output.data[HTML_MIME_TYPE];\n    var scripts = [];\n    var nodelist = html_node.querySelectorAll(\"script\");\n    for (var i in nodelist) {\n      if (nodelist.hasOwnProperty(i)) {\n        scripts.push(nodelist[i])\n      }\n    }\n\n    scripts.forEach( function (oldScript) {\n      var newScript = document.createElement(\"script\");\n      var attrs = [];\n      var nodemap = oldScript.attributes;\n      for (var j in nodemap) {\n        if (nodemap.hasOwnProperty(j)) {\n          attrs.push(nodemap[j])\n        }\n      }\n      attrs.forEach(function(attr) { newScript.setAttribute(attr.name, attr.value) });\n      newScript.appendChild(document.createTextNode(oldScript.innerHTML));\n      oldScript.parentNode.replaceChild(newScript, oldScript);\n    });\n    if (JS_MIME_TYPE in output.data) {\n      toinsert[nchildren-1].children[1].textContent = output.data[JS_MIME_TYPE];\n    }\n    output_area._hv_plot_id = id;\n    if ((window.Bokeh !== undefined) && (id in Bokeh.index)) {\n      window.PyViz.plot_index[id] = Bokeh.index[id];\n    } else {\n      window.PyViz.plot_index[id] = null;\n    }\n  } else if (output.metadata[EXEC_MIME_TYPE][\"server_id\"] !== undefined) {\n    var bk_div = document.createElement(\"div\");\n    bk_div.innerHTML = output.data[HTML_MIME_TYPE];\n    var script_attrs = bk_div.children[0].attributes;\n    for (var i = 0; i < script_attrs.length; i++) {\n      toinsert[toinsert.length - 1].childNodes[1].setAttribute(script_attrs[i].name, script_attrs[i].value);\n    }\n    // store reference to server id on output_area\n    output_area._bokeh_server_id = output.metadata[EXEC_MIME_TYPE][\"server_id\"];\n  }\n}\n\n/**\n * Handle when an output is cleared or removed\n */\nfunction handle_clear_output(event, handle) {\n  var id = handle.cell.output_area._hv_plot_id;\n  var server_id = handle.cell.output_area._bokeh_server_id;\n  if (((id === undefined) || !(id in PyViz.plot_index)) && (server_id !== undefined)) { return; }\n  var comm = window.PyViz.comm_manager.get_client_comm(\"hv-extension-comm\", \"hv-extension-comm\", function () {});\n  if (server_id !== null) {\n    comm.send({event_type: 'server_delete', 'id': server_id});\n    return;\n  } else if (comm !== null) {\n    comm.send({event_type: 'delete', 'id': id});\n  }\n  delete PyViz.plot_index[id];\n  if ((window.Bokeh !== undefined) & (id in window.Bokeh.index)) {\n    var doc = window.Bokeh.index[id].model.document\n    doc.clear();\n    const i = window.Bokeh.documents.indexOf(doc);\n    if (i > -1) {\n      window.Bokeh.documents.splice(i, 1);\n    }\n  }\n}\n\n/**\n * Handle kernel restart event\n */\nfunction handle_kernel_cleanup(event, handle) {\n  delete PyViz.comms[\"hv-extension-comm\"];\n  window.PyViz.plot_index = {}\n}\n\n/**\n * Handle update_display_data messages\n */\nfunction handle_update_output(event, handle) {\n  handle_clear_output(event, {cell: {output_area: handle.output_area}})\n  handle_add_output(event, handle)\n}\n\nfunction register_renderer(events, OutputArea) {\n  function append_mime(data, metadata, element) {\n    // create a DOM node to render to\n    var toinsert = this.create_output_subarea(\n    metadata,\n    CLASS_NAME,\n    EXEC_MIME_TYPE\n    );\n    this.keyboard_manager.register_events(toinsert);\n    // Render to node\n    var props = {data: data, metadata: metadata[EXEC_MIME_TYPE]};\n    render(props, toinsert[0]);\n    element.append(toinsert);\n    return toinsert\n  }\n\n  events.on('output_added.OutputArea', handle_add_output);\n  events.on('output_updated.OutputArea', handle_update_output);\n  events.on('clear_output.CodeCell', handle_clear_output);\n  events.on('delete.Cell', handle_clear_output);\n  events.on('kernel_ready.Kernel', handle_kernel_cleanup);\n\n  OutputArea.prototype.register_mime_type(EXEC_MIME_TYPE, append_mime, {\n    safe: true,\n    index: 0\n  });\n}\n\nif (window.Jupyter !== undefined) {\n  try {\n    var events = require('base/js/events');\n    var OutputArea = require('notebook/js/outputarea').OutputArea;\n    if (OutputArea.prototype.mime_types().indexOf(EXEC_MIME_TYPE) == -1) {\n      register_renderer(events, OutputArea);\n    }\n  } catch(err) {\n  }\n}\n",
      "application/vnd.holoviews_load.v0+json": ""
     },
     "metadata": {},
     "output_type": "display_data"
    },
    {
     "data": {
      "text/html": [
       "<style>*[data-root-id],\n",
       "*[data-root-id] > * {\n",
       "  box-sizing: border-box;\n",
       "  font-family: var(--jp-ui-font-family);\n",
       "  font-size: var(--jp-ui-font-size1);\n",
       "  color: var(--vscode-editor-foreground, var(--jp-ui-font-color1));\n",
       "}\n",
       "\n",
       "/* Override VSCode background color */\n",
       ".cell-output-ipywidget-background:has(\n",
       "    > .cell-output-ipywidget-background > .lm-Widget > *[data-root-id]\n",
       "  ),\n",
       ".cell-output-ipywidget-background:has(> .lm-Widget > *[data-root-id]) {\n",
       "  background-color: transparent !important;\n",
       "}\n",
       "</style>"
      ]
     },
     "metadata": {},
     "output_type": "display_data"
    },
    {
     "data": {
      "application/vnd.holoviews_exec.v0+json": "",
      "text/html": [
       "<div id='p1002'>\n",
       "  <div id=\"b1d0c8f2-e8a9-40c0-9788-1e0c936279ad\" data-root-id=\"p1002\" style=\"display: contents;\"></div>\n",
       "</div>\n",
       "<script type=\"application/javascript\">(function(root) {\n",
       "  var docs_json = {\"f798c68c-dddb-478a-a690-f5f6d4221486\":{\"version\":\"3.3.4\",\"title\":\"Bokeh Application\",\"roots\":[{\"type\":\"object\",\"name\":\"panel.models.browser.BrowserInfo\",\"id\":\"p1002\"},{\"type\":\"object\",\"name\":\"panel.models.comm_manager.CommManager\",\"id\":\"p1003\",\"attributes\":{\"plot_id\":\"p1002\",\"comm_id\":\"51169a63b1a14f1e9e89631e47a85b1f\",\"client_comm_id\":\"8830c605e52b4c79bff9c239fd6444cd\"}}],\"defs\":[{\"type\":\"model\",\"name\":\"ReactiveHTML1\"},{\"type\":\"model\",\"name\":\"FlexBox1\",\"properties\":[{\"name\":\"align_content\",\"kind\":\"Any\",\"default\":\"flex-start\"},{\"name\":\"align_items\",\"kind\":\"Any\",\"default\":\"flex-start\"},{\"name\":\"flex_direction\",\"kind\":\"Any\",\"default\":\"row\"},{\"name\":\"flex_wrap\",\"kind\":\"Any\",\"default\":\"wrap\"},{\"name\":\"justify_content\",\"kind\":\"Any\",\"default\":\"flex-start\"}]},{\"type\":\"model\",\"name\":\"FloatPanel1\",\"properties\":[{\"name\":\"config\",\"kind\":\"Any\",\"default\":{\"type\":\"map\"}},{\"name\":\"contained\",\"kind\":\"Any\",\"default\":true},{\"name\":\"position\",\"kind\":\"Any\",\"default\":\"right-top\"},{\"name\":\"offsetx\",\"kind\":\"Any\",\"default\":null},{\"name\":\"offsety\",\"kind\":\"Any\",\"default\":null},{\"name\":\"theme\",\"kind\":\"Any\",\"default\":\"primary\"},{\"name\":\"status\",\"kind\":\"Any\",\"default\":\"normalized\"}]},{\"type\":\"model\",\"name\":\"GridStack1\",\"properties\":[{\"name\":\"mode\",\"kind\":\"Any\",\"default\":\"warn\"},{\"name\":\"ncols\",\"kind\":\"Any\",\"default\":null},{\"name\":\"nrows\",\"kind\":\"Any\",\"default\":null},{\"name\":\"allow_resize\",\"kind\":\"Any\",\"default\":true},{\"name\":\"allow_drag\",\"kind\":\"Any\",\"default\":true},{\"name\":\"state\",\"kind\":\"Any\",\"default\":[]}]},{\"type\":\"model\",\"name\":\"drag1\",\"properties\":[{\"name\":\"slider_width\",\"kind\":\"Any\",\"default\":5},{\"name\":\"slider_color\",\"kind\":\"Any\",\"default\":\"black\"},{\"name\":\"value\",\"kind\":\"Any\",\"default\":50}]},{\"type\":\"model\",\"name\":\"click1\",\"properties\":[{\"name\":\"terminal_output\",\"kind\":\"Any\",\"default\":\"\"},{\"name\":\"debug_name\",\"kind\":\"Any\",\"default\":\"\"},{\"name\":\"clears\",\"kind\":\"Any\",\"default\":0}]},{\"type\":\"model\",\"name\":\"copy_to_clipboard1\",\"properties\":[{\"name\":\"fill\",\"kind\":\"Any\",\"default\":\"none\"},{\"name\":\"value\",\"kind\":\"Any\",\"default\":null}]},{\"type\":\"model\",\"name\":\"FastWrapper1\",\"properties\":[{\"name\":\"object\",\"kind\":\"Any\",\"default\":null},{\"name\":\"style\",\"kind\":\"Any\",\"default\":null}]},{\"type\":\"model\",\"name\":\"NotificationAreaBase1\",\"properties\":[{\"name\":\"js_events\",\"kind\":\"Any\",\"default\":{\"type\":\"map\"}},{\"name\":\"position\",\"kind\":\"Any\",\"default\":\"bottom-right\"},{\"name\":\"_clear\",\"kind\":\"Any\",\"default\":0}]},{\"type\":\"model\",\"name\":\"NotificationArea1\",\"properties\":[{\"name\":\"js_events\",\"kind\":\"Any\",\"default\":{\"type\":\"map\"}},{\"name\":\"notifications\",\"kind\":\"Any\",\"default\":[]},{\"name\":\"position\",\"kind\":\"Any\",\"default\":\"bottom-right\"},{\"name\":\"_clear\",\"kind\":\"Any\",\"default\":0},{\"name\":\"types\",\"kind\":\"Any\",\"default\":[{\"type\":\"map\",\"entries\":[[\"type\",\"warning\"],[\"background\",\"#ffc107\"],[\"icon\",{\"type\":\"map\",\"entries\":[[\"className\",\"fas fa-exclamation-triangle\"],[\"tagName\",\"i\"],[\"color\",\"white\"]]}]]},{\"type\":\"map\",\"entries\":[[\"type\",\"info\"],[\"background\",\"#007bff\"],[\"icon\",{\"type\":\"map\",\"entries\":[[\"className\",\"fas fa-info-circle\"],[\"tagName\",\"i\"],[\"color\",\"white\"]]}]]}]}]},{\"type\":\"model\",\"name\":\"Notification\",\"properties\":[{\"name\":\"background\",\"kind\":\"Any\",\"default\":null},{\"name\":\"duration\",\"kind\":\"Any\",\"default\":3000},{\"name\":\"icon\",\"kind\":\"Any\",\"default\":null},{\"name\":\"message\",\"kind\":\"Any\",\"default\":\"\"},{\"name\":\"notification_type\",\"kind\":\"Any\",\"default\":null},{\"name\":\"_destroyed\",\"kind\":\"Any\",\"default\":false}]},{\"type\":\"model\",\"name\":\"TemplateActions1\",\"properties\":[{\"name\":\"open_modal\",\"kind\":\"Any\",\"default\":0},{\"name\":\"close_modal\",\"kind\":\"Any\",\"default\":0}]},{\"type\":\"model\",\"name\":\"BootstrapTemplateActions1\",\"properties\":[{\"name\":\"open_modal\",\"kind\":\"Any\",\"default\":0},{\"name\":\"close_modal\",\"kind\":\"Any\",\"default\":0}]},{\"type\":\"model\",\"name\":\"MaterialTemplateActions1\",\"properties\":[{\"name\":\"open_modal\",\"kind\":\"Any\",\"default\":0},{\"name\":\"close_modal\",\"kind\":\"Any\",\"default\":0}]}]}};\n",
       "  var render_items = [{\"docid\":\"f798c68c-dddb-478a-a690-f5f6d4221486\",\"roots\":{\"p1002\":\"b1d0c8f2-e8a9-40c0-9788-1e0c936279ad\"},\"root_ids\":[\"p1002\"]}];\n",
       "  var docs = Object.values(docs_json)\n",
       "  if (!docs) {\n",
       "    return\n",
       "  }\n",
       "  const py_version = docs[0].version.replace('rc', '-rc.').replace('.dev', '-dev.')\n",
       "  function embed_document(root) {\n",
       "    var Bokeh = get_bokeh(root)\n",
       "    Bokeh.embed.embed_items_notebook(docs_json, render_items);\n",
       "    for (const render_item of render_items) {\n",
       "      for (const root_id of render_item.root_ids) {\n",
       "\tconst id_el = document.getElementById(root_id)\n",
       "\tif (id_el.children.length && (id_el.children[0].className === 'bk-root')) {\n",
       "\t  const root_el = id_el.children[0]\n",
       "\t  root_el.id = root_el.id + '-rendered'\n",
       "\t}\n",
       "      }\n",
       "    }\n",
       "  }\n",
       "  function get_bokeh(root) {\n",
       "    if (root.Bokeh === undefined) {\n",
       "      return null\n",
       "    } else if (root.Bokeh.version !== py_version) {\n",
       "      if (root.Bokeh.versions === undefined || !root.Bokeh.versions.has(py_version)) {\n",
       "\treturn null\n",
       "      }\n",
       "      return root.Bokeh.versions.get(py_version);\n",
       "    } else if (root.Bokeh.version === py_version) {\n",
       "      return root.Bokeh\n",
       "    }\n",
       "    return null\n",
       "  }\n",
       "  function is_loaded(root) {\n",
       "    var Bokeh = get_bokeh(root)\n",
       "    return (Bokeh != null && Bokeh.Panel !== undefined)\n",
       "  }\n",
       "  if (is_loaded(root)) {\n",
       "    embed_document(root);\n",
       "  } else {\n",
       "    var attempts = 0;\n",
       "    var timer = setInterval(function(root) {\n",
       "      if (is_loaded(root)) {\n",
       "        clearInterval(timer);\n",
       "        embed_document(root);\n",
       "      } else if (document.readyState == \"complete\") {\n",
       "        attempts++;\n",
       "        if (attempts > 200) {\n",
       "          clearInterval(timer);\n",
       "\t  var Bokeh = get_bokeh(root)\n",
       "\t  if (Bokeh == null || Bokeh.Panel == null) {\n",
       "            console.warn(\"Panel: ERROR: Unable to run Panel code because Bokeh or Panel library is missing\");\n",
       "\t  } else {\n",
       "\t    console.warn(\"Panel: WARNING: Attempting to render but not all required libraries could be resolved.\")\n",
       "\t    embed_document(root)\n",
       "\t  }\n",
       "        }\n",
       "      }\n",
       "    }, 25, root)\n",
       "  }\n",
       "})(window);</script>"
      ]
     },
     "metadata": {
      "application/vnd.holoviews_exec.v0+json": {
       "id": "p1002"
      }
     },
     "output_type": "display_data"
    }
   ],
   "source": [
    "import numpy as np\n",
    "np.random.seed(0)\n",
    "import pandas as pd\n",
    "import hvplot.pandas\n",
    "from sklearn import datasets"
   ]
  },
  {
   "cell_type": "markdown",
   "id": "3185b3bb",
   "metadata": {},
   "source": [
    "### Build the Dataset"
   ]
  },
  {
   "cell_type": "code",
   "execution_count": 2,
   "id": "643a1bb6",
   "metadata": {},
   "outputs": [
    {
     "data": {
      "text/plain": [
       "array([[ 0.26990344, -0.08961617],\n",
       "       [ 0.65960878, -0.44401893],\n",
       "       [ 0.85049952,  0.56270289],\n",
       "       [ 0.60950684,  0.69134729],\n",
       "       [ 2.00353027,  0.19446353],\n",
       "       [ 1.98790193,  0.40053406],\n",
       "       [ 0.24847592, -0.18050231],\n",
       "       [ 0.94871933,  0.37843451],\n",
       "       [-0.96065183, -0.10227327],\n",
       "       [ 0.44418573,  0.90246804]])"
      ]
     },
     "execution_count": 2,
     "metadata": {},
     "output_type": "execute_result"
    }
   ],
   "source": [
    "X, y = datasets.make_moons(n_samples=(500), noise=0.05, random_state=1)\n",
    "X[0:10]"
   ]
  },
  {
   "cell_type": "markdown",
   "id": "910151f4",
   "metadata": {},
   "source": [
    "### Fit and predict a K-Means Model"
   ]
  },
  {
   "cell_type": "code",
   "execution_count": 3,
   "id": "939a4386",
   "metadata": {},
   "outputs": [],
   "source": [
    "from sklearn.cluster import KMeans, AgglomerativeClustering, Birch\n",
    "k_model = KMeans(n_clusters=3, random_state=0)\n",
    "k_model.fit(X)\n",
    "predictions = k_model.predict(X)"
   ]
  },
  {
   "cell_type": "markdown",
   "id": "8537c2c6",
   "metadata": {},
   "source": [
    "### Fit and Predict Birch and Agglomerative models"
   ]
  },
  {
   "cell_type": "code",
   "execution_count": 4,
   "id": "509a098e",
   "metadata": {},
   "outputs": [],
   "source": [
    "birch_model = Birch(n_clusters=2)\n",
    "birch_model.fit(X)\n",
    "birch_predictions = birch_model.predict(X)"
   ]
  },
  {
   "cell_type": "code",
   "execution_count": 5,
   "id": "af74ac37",
   "metadata": {},
   "outputs": [],
   "source": [
    "agglo_model = AgglomerativeClustering(n_clusters=3)\n",
    "agglo_predictions = agglo_model.fit_predict(X)"
   ]
  },
  {
   "cell_type": "markdown",
   "id": "d010ca94",
   "metadata": {},
   "source": [
    "### Plot Model Predictions for Birch"
   ]
  },
  {
   "cell_type": "code",
   "execution_count": 6,
   "id": "7cdde2e6",
   "metadata": {},
   "outputs": [
    {
     "data": {
      "text/html": [
       "<div>\n",
       "<style scoped>\n",
       "    .dataframe tbody tr th:only-of-type {\n",
       "        vertical-align: middle;\n",
       "    }\n",
       "\n",
       "    .dataframe tbody tr th {\n",
       "        vertical-align: top;\n",
       "    }\n",
       "\n",
       "    .dataframe thead th {\n",
       "        text-align: right;\n",
       "    }\n",
       "</style>\n",
       "<table border=\"1\" class=\"dataframe\">\n",
       "  <thead>\n",
       "    <tr style=\"text-align: right;\">\n",
       "      <th></th>\n",
       "      <th>0</th>\n",
       "      <th>1</th>\n",
       "      <th>birch-labels</th>\n",
       "    </tr>\n",
       "  </thead>\n",
       "  <tbody>\n",
       "    <tr>\n",
       "      <th>0</th>\n",
       "      <td>0.269903</td>\n",
       "      <td>-0.089616</td>\n",
       "      <td>0</td>\n",
       "    </tr>\n",
       "    <tr>\n",
       "      <th>1</th>\n",
       "      <td>0.659609</td>\n",
       "      <td>-0.444019</td>\n",
       "      <td>0</td>\n",
       "    </tr>\n",
       "    <tr>\n",
       "      <th>2</th>\n",
       "      <td>0.850500</td>\n",
       "      <td>0.562703</td>\n",
       "      <td>0</td>\n",
       "    </tr>\n",
       "    <tr>\n",
       "      <th>3</th>\n",
       "      <td>0.609507</td>\n",
       "      <td>0.691347</td>\n",
       "      <td>0</td>\n",
       "    </tr>\n",
       "    <tr>\n",
       "      <th>4</th>\n",
       "      <td>2.003530</td>\n",
       "      <td>0.194464</td>\n",
       "      <td>0</td>\n",
       "    </tr>\n",
       "    <tr>\n",
       "      <th>...</th>\n",
       "      <td>...</td>\n",
       "      <td>...</td>\n",
       "      <td>...</td>\n",
       "    </tr>\n",
       "    <tr>\n",
       "      <th>495</th>\n",
       "      <td>0.024589</td>\n",
       "      <td>0.392571</td>\n",
       "      <td>1</td>\n",
       "    </tr>\n",
       "    <tr>\n",
       "      <th>496</th>\n",
       "      <td>0.673013</td>\n",
       "      <td>0.715418</td>\n",
       "      <td>0</td>\n",
       "    </tr>\n",
       "    <tr>\n",
       "      <th>497</th>\n",
       "      <td>1.277861</td>\n",
       "      <td>-0.457502</td>\n",
       "      <td>0</td>\n",
       "    </tr>\n",
       "    <tr>\n",
       "      <th>498</th>\n",
       "      <td>-0.980544</td>\n",
       "      <td>0.194562</td>\n",
       "      <td>1</td>\n",
       "    </tr>\n",
       "    <tr>\n",
       "      <th>499</th>\n",
       "      <td>0.930210</td>\n",
       "      <td>0.468958</td>\n",
       "      <td>0</td>\n",
       "    </tr>\n",
       "  </tbody>\n",
       "</table>\n",
       "<p>500 rows × 3 columns</p>\n",
       "</div>"
      ],
      "text/plain": [
       "            0         1  birch-labels\n",
       "0    0.269903 -0.089616             0\n",
       "1    0.659609 -0.444019             0\n",
       "2    0.850500  0.562703             0\n",
       "3    0.609507  0.691347             0\n",
       "4    2.003530  0.194464             0\n",
       "..        ...       ...           ...\n",
       "495  0.024589  0.392571             1\n",
       "496  0.673013  0.715418             0\n",
       "497  1.277861 -0.457502             0\n",
       "498 -0.980544  0.194562             1\n",
       "499  0.930210  0.468958             0\n",
       "\n",
       "[500 rows x 3 columns]"
      ]
     },
     "execution_count": 6,
     "metadata": {},
     "output_type": "execute_result"
    }
   ],
   "source": [
    "predictions_df = pd.DataFrame(X)\n",
    "predictions_df['birch-labels'] = birch_predictions\n",
    "predictions_df"
   ]
  },
  {
   "cell_type": "code",
   "execution_count": 7,
   "id": "235676aa",
   "metadata": {},
   "outputs": [
    {
     "data": {},
     "metadata": {},
     "output_type": "display_data"
    },
    {
     "data": {
      "application/vnd.holoviews_exec.v0+json": "",
      "text/html": [
       "<div id='p1004'>\n",
       "  <div id=\"f35af988-5c91-4124-bba0-0bba835857ed\" data-root-id=\"p1004\" style=\"display: contents;\"></div>\n",
       "</div>\n",
       "<script type=\"application/javascript\">(function(root) {\n",
       "  var docs_json = {\"3135f180-4900-4f11-9d30-041edd9dab5a\":{\"version\":\"3.3.4\",\"title\":\"Bokeh Application\",\"roots\":[{\"type\":\"object\",\"name\":\"Row\",\"id\":\"p1004\",\"attributes\":{\"name\":\"Row00968\",\"tags\":[\"embedded\"],\"stylesheets\":[\"\\n:host(.pn-loading.pn-arc):before, .pn-loading.pn-arc:before {\\n  background-image: url(\\\"data:image/svg+xml;base64,PHN2ZyB4bWxucz0iaHR0cDovL3d3dy53My5vcmcvMjAwMC9zdmciIHN0eWxlPSJtYXJnaW46IGF1dG87IGJhY2tncm91bmQ6IG5vbmU7IGRpc3BsYXk6IGJsb2NrOyBzaGFwZS1yZW5kZXJpbmc6IGF1dG87IiB2aWV3Qm94PSIwIDAgMTAwIDEwMCIgcHJlc2VydmVBc3BlY3RSYXRpbz0ieE1pZFlNaWQiPiAgPGNpcmNsZSBjeD0iNTAiIGN5PSI1MCIgZmlsbD0ibm9uZSIgc3Ryb2tlPSIjYzNjM2MzIiBzdHJva2Utd2lkdGg9IjEwIiByPSIzNSIgc3Ryb2tlLWRhc2hhcnJheT0iMTY0LjkzMzYxNDMxMzQ2NDE1IDU2Ljk3Nzg3MTQzNzgyMTM4Ij4gICAgPGFuaW1hdGVUcmFuc2Zvcm0gYXR0cmlidXRlTmFtZT0idHJhbnNmb3JtIiB0eXBlPSJyb3RhdGUiIHJlcGVhdENvdW50PSJpbmRlZmluaXRlIiBkdXI9IjFzIiB2YWx1ZXM9IjAgNTAgNTA7MzYwIDUwIDUwIiBrZXlUaW1lcz0iMDsxIj48L2FuaW1hdGVUcmFuc2Zvcm0+ICA8L2NpcmNsZT48L3N2Zz4=\\\");\\n  background-size: auto calc(min(50%, 400px));\\n}\",{\"type\":\"object\",\"name\":\"ImportedStyleSheet\",\"id\":\"p1007\",\"attributes\":{\"url\":\"https://cdn.holoviz.org/panel/1.3.8/dist/css/loading.css\"}},{\"type\":\"object\",\"name\":\"ImportedStyleSheet\",\"id\":\"p1082\",\"attributes\":{\"url\":\"https://cdn.holoviz.org/panel/1.3.8/dist/css/listpanel.css\"}},{\"type\":\"object\",\"name\":\"ImportedStyleSheet\",\"id\":\"p1005\",\"attributes\":{\"url\":\"https://cdn.holoviz.org/panel/1.3.8/dist/bundled/theme/default.css\"}},{\"type\":\"object\",\"name\":\"ImportedStyleSheet\",\"id\":\"p1006\",\"attributes\":{\"url\":\"https://cdn.holoviz.org/panel/1.3.8/dist/bundled/theme/native.css\"}}],\"min_width\":700,\"margin\":0,\"sizing_mode\":\"stretch_width\",\"align\":\"start\",\"children\":[{\"type\":\"object\",\"name\":\"Spacer\",\"id\":\"p1008\",\"attributes\":{\"name\":\"HSpacer00975\",\"stylesheets\":[\"\\n:host(.pn-loading.pn-arc):before, .pn-loading.pn-arc:before {\\n  background-image: url(\\\"data:image/svg+xml;base64,PHN2ZyB4bWxucz0iaHR0cDovL3d3dy53My5vcmcvMjAwMC9zdmciIHN0eWxlPSJtYXJnaW46IGF1dG87IGJhY2tncm91bmQ6IG5vbmU7IGRpc3BsYXk6IGJsb2NrOyBzaGFwZS1yZW5kZXJpbmc6IGF1dG87IiB2aWV3Qm94PSIwIDAgMTAwIDEwMCIgcHJlc2VydmVBc3BlY3RSYXRpbz0ieE1pZFlNaWQiPiAgPGNpcmNsZSBjeD0iNTAiIGN5PSI1MCIgZmlsbD0ibm9uZSIgc3Ryb2tlPSIjYzNjM2MzIiBzdHJva2Utd2lkdGg9IjEwIiByPSIzNSIgc3Ryb2tlLWRhc2hhcnJheT0iMTY0LjkzMzYxNDMxMzQ2NDE1IDU2Ljk3Nzg3MTQzNzgyMTM4Ij4gICAgPGFuaW1hdGVUcmFuc2Zvcm0gYXR0cmlidXRlTmFtZT0idHJhbnNmb3JtIiB0eXBlPSJyb3RhdGUiIHJlcGVhdENvdW50PSJpbmRlZmluaXRlIiBkdXI9IjFzIiB2YWx1ZXM9IjAgNTAgNTA7MzYwIDUwIDUwIiBrZXlUaW1lcz0iMDsxIj48L2FuaW1hdGVUcmFuc2Zvcm0+ICA8L2NpcmNsZT48L3N2Zz4=\\\");\\n  background-size: auto calc(min(50%, 400px));\\n}\",{\"id\":\"p1007\"},{\"id\":\"p1005\"},{\"id\":\"p1006\"}],\"margin\":0,\"sizing_mode\":\"stretch_width\",\"align\":\"start\"}},{\"type\":\"object\",\"name\":\"Figure\",\"id\":\"p1019\",\"attributes\":{\"width\":700,\"height\":300,\"margin\":[5,10],\"sizing_mode\":\"fixed\",\"align\":\"start\",\"x_range\":{\"type\":\"object\",\"name\":\"Range1d\",\"id\":\"p1009\",\"attributes\":{\"tags\":[[[\"0\",\"0\",null]],[]],\"start\":-1.267548913159999,\"end\":2.2271793146736347,\"reset_start\":-1.267548913159999,\"reset_end\":2.2271793146736347}},\"y_range\":{\"type\":\"object\",\"name\":\"Range1d\",\"id\":\"p1010\",\"attributes\":{\"tags\":[[[\"1\",\"1\",null]],{\"type\":\"map\",\"entries\":[[\"invert_yaxis\",false],[\"autorange\",false]]}],\"start\":-0.7391261487509769,\"end\":1.3132585541817483,\"reset_start\":-0.7391261487509769,\"reset_end\":1.3132585541817483}},\"x_scale\":{\"type\":\"object\",\"name\":\"LinearScale\",\"id\":\"p1029\"},\"y_scale\":{\"type\":\"object\",\"name\":\"LinearScale\",\"id\":\"p1030\"},\"title\":{\"type\":\"object\",\"name\":\"Title\",\"id\":\"p1022\",\"attributes\":{\"text_color\":\"black\",\"text_font_size\":\"12pt\"}},\"renderers\":[{\"type\":\"object\",\"name\":\"GlyphRenderer\",\"id\":\"p1059\",\"attributes\":{\"name\":\"0\",\"data_source\":{\"type\":\"object\",\"name\":\"ColumnDataSource\",\"id\":\"p1050\",\"attributes\":{\"selected\":{\"type\":\"object\",\"name\":\"Selection\",\"id\":\"p1051\",\"attributes\":{\"indices\":[],\"line_indices\":[]}},\"selection_policy\":{\"type\":\"object\",\"name\":\"UnionRenderers\",\"id\":\"p1052\"},\"data\":{\"type\":\"map\",\"entries\":[[\"0\",{\"type\":\"ndarray\",\"array\":{\"type\":\"bytes\",\"data\":\"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\"},\"shape\":[332],\"dtype\":\"float64\",\"order\":\"little\"}],[\"1\",{\"type\":\"ndarray\",\"array\":{\"type\":\"bytes\",\"data\":\"HHcZ1xXxtr/j/6dkzmrcv7H6pH2pAeI/P5rRWIQf5j8YHqtaLuTIP+k7eJhZotk/AF+YIbMax7/be+RcRTjYP8Ml4KcE4ew/xFFHAgOz0L9Y/SOviIzoP3ALKC5Dvbu/lMTItgXtxb86OpvJg96uvxDbeI4hOJy/s3jc5Bruy78/Kp9w+rHSv5xprfB5S9Y/YXcDgOGS5z9O3Dtpr1nhv669CP9WetU/ogMyplK43b9xIoUWkE3Gv3PL6CxkWMG/+OtBhMQ+2L9GKsoLhIPQP9HJIA5jxqY/JqhUGD9Z3L+PKzaAAEXcv8sy5+CvENS/UrzHyVyvyr8OoIntFX6+P65GmMW7/dK//uaQrNYR1b90SiSy4HGTv26d1MfPldG/WoiR5QkQ2b8NyoAEWSrwPy2rDddJOsE/cRWWOhIm1b+/Swius9S8vxoaY5gYduM/hsdf+CKQ1r9E37ygilq7v0OlrnlM29A/Pab+RL4Y3r8mqNQ7eETcv5wRLHYNaew/mUi5B7FF379WZ9DxXl3cv6wkV6HZ8tK/Wa8s5yIQ4b/bK7sM4vrav1/PMg3Bx7I/chxK63Yq1b8Kj68VksPRv41Xbt7l0NM/BHAMOfdFwD/4x1rOXr7eP0/KfWDCn9i/bbw9R2ur1L9IuAVjq1i4v+ECQhd6wK0/uFiFXVDs2z8CAA57Ho/SP33rtTt11co/nh3WD5j0zD+B4xp9baXTvylZFq9oDrE/UbcjEg6/2b/4yd1R13fKP0VUc2aUdu4/wRGATcE20r86qeIpFZXNP1cAkHwMWuY/1rhrOyIz3r/AuMs56D/tP77AysWjCNm/kJuS1aeZ7T/uGo0aldLWv8zpcHmFFty/nBKtJbRS1r+Jviow7rXWPzhQ/1E35sq/Z/s/0Wt4yz+n19zChWPgP2/0AyviydK/2pRFLelCwD+77E5m5rngP4rJXeDdwZE/eKizJwxLnD/mWHW8ZTTgP4KXcRuUTdi/IzV38X2O7D8Y7lhHZXPgP/gHwKXHYr6/CNnSVB0c7j+uLotRIK23v3i3dnL8bu0/ElGNLUJE4b/xIrh+z9LSv8Ilwg9P7ra/19OnKxcLsL/Th2ATkOffv7rSlPJKG6O/7A4PWtFk17+duIcn3GztPyz8TwRQgNA/+q7WVwZywD9asxI5Xg3oPx6X6O1zAcC/d98H33Z04D818IBoZS7Zvz/8qI2YQu0/MukjZyeZlD+E9RoncpTWv5XAwdg0HOG/9d2qvUX+qz/rLZOM4CDSv+BGXoVhQ+o/3FpbU7EMtj86dAD5eavVP1MsMgyAIu0/+TMbNn+O3b/t3fRofUXpP5y1mihdYeo/W3mz2Z/A6z9tDWeWhnTVvzymU5FR+t+/QtFAnJra4L9ST/aoyLfjPxpDZnoaUr8/bYLvjZCF3r/N5RCZVIXePw4EbeDXzs+//bQrrj1j4b8+keBslBPFP9vWkq7n0Nm/y8Yz0JiD3r8I3MfV1+Knv7aE3uIqD9q/lZvLVkqq7D8Ql9iknTvCP/iuREDMYdi//scA1J55yj89MrjmVK3ev49xppB1S+Q/gBomKNKIyT/LiRTLNH/TPx/u+GnSRc0/5i+A/mu51r9jyCORMndCP8SMOqoC0di/DgRypWJwwz8jVzjfJU/Zv/aE0AL/Lss/zJDvJCVh078DWLDJsBXNv/Cw45Gq2+c/S5HL3wuIzb9e4k7eoI7HP5h1pY9gUdG/fB0fWoXE2z8ox3k1MFtiP6AErOgvk7u/Gq6B0l1Lvb9b3Kab9ErEP/xMlmeOp8u/dvGf82ylwz+m9cyCUX3dv6SXDLbqnuC/SmhurlPr2T8gaMfu5pnDv2y1OvujDNE/ECXJ5JTfwb8qE27WO/Hbv6eoxN6caNS/Ocl06Q6b2r/d4y5QrpHgv7bc+Ug4Z88//YepxQpZ7z/4Lu7BMXfav9tVk0w25eI/t3yl8060vz8sQTQdSu/dPyIVb1op6OA/yuCzykUHz7+YwuSL+VTrP8CZAGEyMME/IDEMI5g57T9JiBrm9oq6P2w3u3PGguA/mF4piYzg7T/FaSWbc7fRv6H0KXw1pNi/hYjEmR4h2j9MrDpGpFawP0CoL7Lpxti/Yklu0AOy4z8gjV/Sii7QP0RzipabvtE/+Bk72C7t278Z6dxndwPhPwJJnZXBrME/KssOdXWu2b+oE1GI7traPzUggy8D99M/1Ey3rETP5D+bN6S3Vhbhv3B9CECIh8G/bW6KR+vC0z/sZPCCPkHkP+DGyx2OB8G/0RDfE4yT37/gH9u3uhFZv0yrIrZCAdI/ThOJng/dyr/JzRx2Zv7SP/AXoIuo7IO/hDlqBcwYor99v8OodGzKvxlwZGZcS8E/bAqW7/a85D9uRmmXoZKhP7yR6czJmto/u0vFC31H3r8I2V0lqC/hv6gH8lF+BO4/0CNQco3luz+cHCTcEz/cv2LDBU92/cy/Acnq/XUv5D/kwjAurcfPv5gb42sHgt2/xgGN5u/A2L+e5pdZm1XtP4sfGu+LWOC/l/WfwopQ2r9QL+4Y7NHbvyJkfvFlfOg/KcY0REy57T+0etmde63Xv5sxx7AYWt2/aF2yRUVewj95L78Ok7XvP+fXOPdxxuU/Lfp5wW+Rtb+jQhifj1jev7ujyJwe/OC/WHj+WXmw3D/ur3+vrsnWP8e9PVt/J8w/0ev6d4J4xb8P3G/NMaXav9K2XKQ+6ec/634j6+5E6z+h0QNYolHZP05xp2qwBMm/QqdDlY/ho79lgO0CKjDiP7/j+KHpF6k/h94H2I3i1r+MbEfejF/Zv6IBPMOwz9K/2p9D/JHdrz9s/4JF3PO7v4LlW8kxius/rSsdLePL3b8GJND/l8HTP4J6KWl7zus/1NfIy/3207/3LyKowgexPx6j2ja7b+s/0GSdWEJ8yb82RreIwOXcv25JZlIOXdy/599xd1AxyT/J78TmkIDZP8BVF6bsBuw/ct81qVaMvz/BrMROGXDgv/9ePoEn7Nu/2qsTLj1C1j8gjn2Kf1XkPwhSF7vehcs/qHXKfAfSqj+JE1Ib4cTdv0OdVLfB8e4/okXhvmO+1r9R20w58tmyv7hkS7hAz9s/LFprAWxm6z8ORU0hhdPcP9NJP98GAcE/2f9I/ZH7oD9obWSsruikPxjaOGpTKeI/Yg9W4AbF379dqqg4R3Xhv8GUBHqeTNQ/90rWlDHJ1D/slzjkmkjLv4BLGqFdWG6/HnRuf14kzL8ezGLxMTjcv7NJ4qt02JM/23K/u5UHwr+D61j5hbnOP+lp9t254sy/8miInDmm0r/mySvsVc24Py2ggGhHkdo/WAFMNYu07z8aCkuo0y3iv/0SicD7hOc/78Pz4Qrd4D9ucB0EfEHgv/XWAjCocNq/ThEyDs4p3L9oHcSIsBu9P/WeV44JjNi/WcOnqDOR4L8EnrFgVYTAP1DfaVaXI+G/IKNCvoWC6D9A6SyxUa5iP6EtlZ/xH8W/8zKWZVkN2L+CTfu/4LPXv7PIUoSz5OY/HGZ+N7VH3b9s94p3ZgPePw==\"},\"shape\":[332],\"dtype\":\"float64\",\"order\":\"little\"}],[\"A_0\",{\"type\":\"ndarray\",\"array\":{\"type\":\"bytes\",\"data\":\"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\"},\"shape\":[332],\"dtype\":\"float64\",\"order\":\"little\"}],[\"A_1\",{\"type\":\"ndarray\",\"array\":{\"type\":\"bytes\",\"data\":\"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\"},\"shape\":[332],\"dtype\":\"float64\",\"order\":\"little\"}],[\"birch_hyphen_minus_labels\",[0,0,0,0,0,0,0,0,0,0,0,0,0,0,0,0,0,0,0,0,0,0,0,0,0,0,0,0,0,0,0,0,0,0,0,0,0,0,0,0,0,0,0,0,0,0,0,0,0,0,0,0,0,0,0,0,0,0,0,0,0,0,0,0,0,0,0,0,0,0,0,0,0,0,0,0,0,0,0,0,0,0,0,0,0,0,0,0,0,0,0,0,0,0,0,0,0,0,0,0,0,0,0,0,0,0,0,0,0,0,0,0,0,0,0,0,0,0,0,0,0,0,0,0,0,0,0,0,0,0,0,0,0,0,0,0,0,0,0,0,0,0,0,0,0,0,0,0,0,0,0,0,0,0,0,0,0,0,0,0,0,0,0,0,0,0,0,0,0,0,0,0,0,0,0,0,0,0,0,0,0,0,0,0,0,0,0,0,0,0,0,0,0,0,0,0,0,0,0,0,0,0,0,0,0,0,0,0,0,0,0,0,0,0,0,0,0,0,0,0,0,0,0,0,0,0,0,0,0,0,0,0,0,0,0,0,0,0,0,0,0,0,0,0,0,0,0,0,0,0,0,0,0,0,0,0,0,0,0,0,0,0,0,0,0,0,0,0,0,0,0,0,0,0,0,0,0,0,0,0,0,0,0,0,0,0,0,0,0,0,0,0,0,0,0,0,0,0,0,0,0,0,0,0,0,0,0,0,0,0,0,0,0,0,0,0,0,0,0,0,0,0,0,0,0,0,0,0,0,0,0,0]]]}}},\"view\":{\"type\":\"object\",\"name\":\"CDSView\",\"id\":\"p1060\",\"attributes\":{\"filter\":{\"type\":\"object\",\"name\":\"AllIndices\",\"id\":\"p1061\"}}},\"glyph\":{\"type\":\"object\",\"name\":\"Scatter\",\"id\":\"p1056\",\"attributes\":{\"tags\":[\"apply_ranges\"],\"x\":{\"type\":\"field\",\"field\":\"0\"},\"y\":{\"type\":\"field\",\"field\":\"1\"},\"size\":{\"type\":\"value\",\"value\":5.477225575051661},\"line_color\":{\"type\":\"value\",\"value\":\"#30a2da\"},\"fill_color\":{\"type\":\"value\",\"value\":\"#30a2da\"},\"hatch_color\":{\"type\":\"value\",\"value\":\"#30a2da\"}}},\"selection_glyph\":{\"type\":\"object\",\"name\":\"Scatter\",\"id\":\"p1064\",\"attributes\":{\"tags\":[\"apply_ranges\"],\"x\":{\"type\":\"field\",\"field\":\"0\"},\"y\":{\"type\":\"field\",\"field\":\"1\"},\"size\":{\"type\":\"value\",\"value\":5.477225575051661},\"angle\":{\"type\":\"value\",\"value\":0.0},\"line_color\":{\"type\":\"value\",\"value\":\"#30a2da\"},\"line_alpha\":{\"type\":\"value\",\"value\":1.0},\"line_width\":{\"type\":\"value\",\"value\":1},\"line_join\":{\"type\":\"value\",\"value\":\"bevel\"},\"line_cap\":{\"type\":\"value\",\"value\":\"butt\"},\"line_dash\":{\"type\":\"value\",\"value\":[]},\"line_dash_offset\":{\"type\":\"value\",\"value\":0},\"fill_color\":{\"type\":\"value\",\"value\":\"#30a2da\"},\"fill_alpha\":{\"type\":\"value\",\"value\":1.0},\"hatch_color\":{\"type\":\"value\",\"value\":\"#30a2da\"},\"hatch_alpha\":{\"type\":\"value\",\"value\":1.0},\"hatch_scale\":{\"type\":\"value\",\"value\":12.0},\"hatch_pattern\":{\"type\":\"value\",\"value\":null},\"hatch_weight\":{\"type\":\"value\",\"value\":1.0},\"marker\":{\"type\":\"value\",\"value\":\"circle\"}}},\"nonselection_glyph\":{\"type\":\"object\",\"name\":\"Scatter\",\"id\":\"p1057\",\"attributes\":{\"tags\":[\"apply_ranges\"],\"x\":{\"type\":\"field\",\"field\":\"0\"},\"y\":{\"type\":\"field\",\"field\":\"1\"},\"size\":{\"type\":\"value\",\"value\":5.477225575051661},\"line_color\":{\"type\":\"value\",\"value\":\"#30a2da\"},\"line_alpha\":{\"type\":\"value\",\"value\":0.1},\"fill_color\":{\"type\":\"value\",\"value\":\"#30a2da\"},\"fill_alpha\":{\"type\":\"value\",\"value\":0.1},\"hatch_color\":{\"type\":\"value\",\"value\":\"#30a2da\"},\"hatch_alpha\":{\"type\":\"value\",\"value\":0.1}}},\"muted_glyph\":{\"type\":\"object\",\"name\":\"Scatter\",\"id\":\"p1058\",\"attributes\":{\"tags\":[\"apply_ranges\"],\"x\":{\"type\":\"field\",\"field\":\"0\"},\"y\":{\"type\":\"field\",\"field\":\"1\"},\"size\":{\"type\":\"value\",\"value\":5.477225575051661},\"line_color\":{\"type\":\"value\",\"value\":\"#30a2da\"},\"line_alpha\":{\"type\":\"value\",\"value\":0.2},\"fill_color\":{\"type\":\"value\",\"value\":\"#30a2da\"},\"fill_alpha\":{\"type\":\"value\",\"value\":0.2},\"hatch_color\":{\"type\":\"value\",\"value\":\"#30a2da\"},\"hatch_alpha\":{\"type\":\"value\",\"value\":0.2}}}}},{\"type\":\"object\",\"name\":\"GlyphRenderer\",\"id\":\"p1074\",\"attributes\":{\"name\":\"1\",\"data_source\":{\"type\":\"object\",\"name\":\"ColumnDataSource\",\"id\":\"p1065\",\"attributes\":{\"selected\":{\"type\":\"object\",\"name\":\"Selection\",\"id\":\"p1066\",\"attributes\":{\"indices\":[],\"line_indices\":[]}},\"selection_policy\":{\"type\":\"object\",\"name\":\"UnionRenderers\",\"id\":\"p1067\"},\"data\":{\"type\":\"map\",\"entries\":[[\"0\",{\"type\":\"ndarray\",\"array\":{\"type\":\"bytes\",\"data\":\"EGzi6Ki97r9EcIC6nDXev/uJSprPgcg/ziGUD2g46r9Eic2IkOzQv+nHItK5Nc6/YsMalAFd4r+ekqT/8vjqvxCI2nK6huK/pVSwCSyl7L8qDoDw9AGjP9Aq5NBlRuu//LR8LPFk27/Ft1KhfUTrvztuR2id0pc/NRtow4Ja3b/lQK1bLTXPv7Td0H3l+Mg/Ry/TjJatdL+OAMihrezDv88qIx7R+pO/iLiCLAl9rj/A3jAoNQLpv7F9UvhnL+C/YEdFQOvQ6r8lPRupL2Ppv+Vv05KU3/C/DxXxWrnqyT8RDB2wpmrvv1IIFVc/CPC/swx5scfO57/v7B6CipOoP4EBbk3vYuS/95CvB+Qg1L98lTo7nka1v3hrwV2HP++/RkZFDvu/w78gvATQK6/DPwR8fYUbBe+/NO1qutxv7L+3VOg8AB3qv+MUNGOivqw/k98BKDq7tL/EAjIaATnwv3u5l4AuaeC/2g2ZrKet8L9HsTPWFJ6lPyg8fHDqynm//GLqsE6NkT8E5tr2kF/mv6qu2L51E+G/+2KcnR7V3b+qF+HKPWbsv6/PUXPXx7S/CMEh5hvSp78o0TsLcqDCP5aM0iTy96g/ylwVioUo7r/b7lnNasfwv2ycFn132tC/g6CsMyxg57/RTDsDFMDuvwrDkybYvui/Ww0i1nSesL8n3q0/vGWiP8viRryso+K/3ghwjKUO5L/JJHOF1hLyv46bTtyJjok/4toseoh9xL+T4aUS8VHHP54EbKSEBcQ/dlbEjgD+yT+KsxtKpqLVv2k2vuI+aeC/yU87TutZ3r/bgJDB9nfxvxQxnZq2Cem/nRh1vB7n5r+KlMuDYTzTv1jqsyrFdpY/y5bvsJDB3b9Xle+lF7/jv0SaWsQpr+6/FtODJ3y17r+jUNPA65Puv2BiOiVXENa/2I1jwAgbtb8mDqwFFrnbv8NRkOm43J0/DlTj+4j3qz98eCLtvlfsvzp6inv3lMc/QQzhu6/e4r94+3dj4GXrvwUsfTmgT++/YwMWTGOa4r+294ZrCrTsvx3BITVRFfC/+kpDu4Un6b/LXcPdmxXCv7jf4luXFOS/UMlRABLo7L/QBEKONzDBv3KFJRkvvK0/iSXs7WCB7L9wmkV02rruv+GrtXcxl++/waAzWRw36L9Wsc6co0nCP1QC8JdXELE/Es9Zp/RL379PTMIhX2/hv8ytbnwbt+i/yUZeD9WJ6L+XZRL2kHvkv8KsS04SVPC/3SlaXbCGs78CHno1Xy7pv0IX4tQFacq/qSwgQ8KPyr8bojidMgTqvyYX7HcGlde/SvE+oHBxkT80jQQtI2Ttv++lv0Ra9e6/ACFHfLo37L8cx9lFN3mkP3VEhCCCmNK/hvTGCEdqtL+7C3qc3lB0P2rDqqToPKU/Osgwvr4K5r9K7X99TmTQv+klcB547uW/wghoDINh7796Zy4/FFXvv9RWhHELKNW/S/7Putvpqj/z9oX73M/Iv/VPz6d+FeG/VtyGrNdx2r8AuJjhfYsJP4wDfwJ+Iei/j6jIgXi0ur/5yyPRzAzUv4LqNby15O6/VIu6A+Q86L/YS85wQkp6P15t2/fAnL0/a4AmCLeF7b8OTZ05a+iov/4bEUQZr+y/dimel7Qpx7/d/wGj0/Lwv+R4IcLIIuu//+lHZZYE3L/IxJK3E/KtP1tiqIBfV6G/FMO7OweTlb/c+RPRRSXkv3zFs5Sf2O+/Lp5nMKuRrb8GtcYc0q7Ev5tMADFrcLm//OA3kj266r842LbWxi2ZP0FNfqOeYO+/\"},\"shape\":[168],\"dtype\":\"float64\",\"order\":\"little\"}],[\"1\",{\"type\":\"ndarray\",\"array\":{\"type\":\"bytes\",\"data\":\"x/6Qr5Quur9ZI7UL6SDrPxTo6rfL0fA/8YgOWR864T8W/bohUgnuP5PQDSqbL+8/uhc4rfvU6D9V8hxq5TblP+CZErX08ec/VWZKmajCxz/d5MuZYbvwP/KEQ4WXutk/tynCA74Q7D/3CFWy3ovgP9zVGigthts/Jv6mMcYo7j9Gx0LiCPLuP7OZ4cH84O0/AG4+D5Df4D/7ilr8ZAjvPwkxmXLjcNg/NlPX+2Nz8D9cYDgB4tPpP04mZCm+zOo/10WTlYS30j+wJ3B3r8DjP/rgNT3Iptc/tSdu9J1l7z+zFDVR83WyPzyp1Uh06Yq/bj9CVVhd3z9/Ic9GpcraP/J/Umxvweg/4JX9Gmur6j+7YeVxxdnwP+RKRfS44Nc/vJyBPQUM7j8DEkolAhvwPww/xowPIsk/YZxwhglO4T/FFtOP07riP1z2Zr4BG/A/bMfzVd0g0j8oVt8nsOWev4Ta5ctMUOs/UNM2RA1etz+T7ofYzIXeP6JqKMJ6jPA/n+FWxaIEzz9nSyfsAJjmPxaXkHnUJuk/XF+kYypb6z+hToVzwVDQP2cDgBQ/Eco/oC7kG60k8D9YeUZJn7DSP/Rx8Zj6evA/0qJSSTyk1D/+L5RxS3jGPx7uQWPo2u8/ZODn85gZ5j+KrflVyYfGP9v2CUSwzOA/5l1kVx5t7z/4Z5Pb/6vwP2szYTRoR+o/OpDCPy3E5z//TDZ23Y2jP5CCh7XXyew/RsMLRCsf7j8EocooeljwP0HnM0qPRvI/e+CYAGAm7T9pq+s6UhXvP+YTc1I3y+4/8tfPDLLL6D+wzp1ZqZB6v/QoSWyfid8/sDa1QeIT6D8XqFSEL1DwP5qFfnAslNA/9UnCCX3e6j++bmG1fy/sPzEgu6VSicg/jvKRaYf+wz+M5dyGAjDQP8Yz2d4xEOw/MLMD9A2N3T+sEQhDezjuP86QcDhiKck/GpZKuekR7z+eHIjr+TvfPwYTrlS0ju0/+94nBBde6D9b4EEcf3nXPy04eysqtdA/ISRhevif6T/o5rbhrMfWPymgcTYbTKk/AQjYfaVL4j9FrgtwsNzvPwjG5DktCuc/XjOhErCn4D9hEqYhCLDsPynKHd1RtO0/ghIkkU5I2T8AK95fHf7TP0yyLlMyvtw/61Y05LD56D9Gbs5mK/nwP+GqkA2FGvE/YqtgKE3T6j+7er7yO2fpP9hnKzD8weI/Gc8PefTc4j9+l5kjSvPpP/XSomG1R9Y/oMwi3rSA7j9tf5tbGtrlPwe72MzSae4/T1V+0w+R7T/8NI+lUTLhPxcCaJPFhO0/hr9bVTe3yD9PLRYzx1zaPwiv/c244ME/WqwAFt2+5D8R+vSxQEPQP+25wbZdKe0/E7p8xIzC1j8VfawxYffUP8EbztvRANo/HGZ5DO3U6z8JydP8SgDwPyTHAtI8fec/TFZgXkAkpz99njlGBTC7P1prr6rmO+8/0bI5511i1z+bQjNJT2LvP+xHji1ZpOo/jvwSCXKj7T+fQkEQhmrvP+1TnHUGauU/oezVxpKW0j9Y3nUls5TsP+0Dgn0U99I/rvdu1All4z9iwu8raNvtP8lYsGataew/K8pXIZ3t2T/CQuJhvq/RP7LC5ZAqa90/XWyairCH7z+Va1DgVG7HP+ApO4Hg+do/wCF2GiyK7z/RSPVTr/7ZPzSr+qRmv94/qGAztLAIzj9AuT8tZ9jmP59ZiGQ2Scc/amEuq9cb7z93p4RrU5DtPzBLcDIJjfE/GZ7o24h34j8qTrd34R/ZP3jT7pRq58g/\"},\"shape\":[168],\"dtype\":\"float64\",\"order\":\"little\"}],[\"A_0\",{\"type\":\"ndarray\",\"array\":{\"type\":\"bytes\",\"data\":\"EGzi6Ki97r9EcIC6nDXev/uJSprPgcg/ziGUD2g46r9Eic2IkOzQv+nHItK5Nc6/YsMalAFd4r+ekqT/8vjqvxCI2nK6huK/pVSwCSyl7L8qDoDw9AGjP9Aq5NBlRuu//LR8LPFk27/Ft1KhfUTrvztuR2id0pc/NRtow4Ja3b/lQK1bLTXPv7Td0H3l+Mg/Ry/TjJatdL+OAMihrezDv88qIx7R+pO/iLiCLAl9rj/A3jAoNQLpv7F9UvhnL+C/YEdFQOvQ6r8lPRupL2Ppv+Vv05KU3/C/DxXxWrnqyT8RDB2wpmrvv1IIFVc/CPC/swx5scfO57/v7B6CipOoP4EBbk3vYuS/95CvB+Qg1L98lTo7nka1v3hrwV2HP++/RkZFDvu/w78gvATQK6/DPwR8fYUbBe+/NO1qutxv7L+3VOg8AB3qv+MUNGOivqw/k98BKDq7tL/EAjIaATnwv3u5l4AuaeC/2g2ZrKet8L9HsTPWFJ6lPyg8fHDqynm//GLqsE6NkT8E5tr2kF/mv6qu2L51E+G/+2KcnR7V3b+qF+HKPWbsv6/PUXPXx7S/CMEh5hvSp78o0TsLcqDCP5aM0iTy96g/ylwVioUo7r/b7lnNasfwv2ycFn132tC/g6CsMyxg57/RTDsDFMDuvwrDkybYvui/Ww0i1nSesL8n3q0/vGWiP8viRryso+K/3ghwjKUO5L/JJHOF1hLyv46bTtyJjok/4toseoh9xL+T4aUS8VHHP54EbKSEBcQ/dlbEjgD+yT+KsxtKpqLVv2k2vuI+aeC/yU87TutZ3r/bgJDB9nfxvxQxnZq2Cem/nRh1vB7n5r+KlMuDYTzTv1jqsyrFdpY/y5bvsJDB3b9Xle+lF7/jv0SaWsQpr+6/FtODJ3y17r+jUNPA65Puv2BiOiVXENa/2I1jwAgbtb8mDqwFFrnbv8NRkOm43J0/DlTj+4j3qz98eCLtvlfsvzp6inv3lMc/QQzhu6/e4r94+3dj4GXrvwUsfTmgT++/YwMWTGOa4r+294ZrCrTsvx3BITVRFfC/+kpDu4Un6b/LXcPdmxXCv7jf4luXFOS/UMlRABLo7L/QBEKONzDBv3KFJRkvvK0/iSXs7WCB7L9wmkV02rruv+GrtXcxl++/waAzWRw36L9Wsc6co0nCP1QC8JdXELE/Es9Zp/RL379PTMIhX2/hv8ytbnwbt+i/yUZeD9WJ6L+XZRL2kHvkv8KsS04SVPC/3SlaXbCGs78CHno1Xy7pv0IX4tQFacq/qSwgQ8KPyr8bojidMgTqvyYX7HcGlde/SvE+oHBxkT80jQQtI2Ttv++lv0Ra9e6/ACFHfLo37L8cx9lFN3mkP3VEhCCCmNK/hvTGCEdqtL+7C3qc3lB0P2rDqqToPKU/Osgwvr4K5r9K7X99TmTQv+klcB547uW/wghoDINh7796Zy4/FFXvv9RWhHELKNW/S/7Putvpqj/z9oX73M/Iv/VPz6d+FeG/VtyGrNdx2r8AuJjhfYsJP4wDfwJ+Iei/j6jIgXi0ur/5yyPRzAzUv4LqNby15O6/VIu6A+Q86L/YS85wQkp6P15t2/fAnL0/a4AmCLeF7b8OTZ05a+iov/4bEUQZr+y/dimel7Qpx7/d/wGj0/Lwv+R4IcLIIuu//+lHZZYE3L/IxJK3E/KtP1tiqIBfV6G/FMO7OweTlb/c+RPRRSXkv3zFs5Sf2O+/Lp5nMKuRrb8GtcYc0q7Ev5tMADFrcLm//OA3kj266r842LbWxi2ZP0FNfqOeYO+/\"},\"shape\":[168],\"dtype\":\"float64\",\"order\":\"little\"}],[\"A_1\",{\"type\":\"ndarray\",\"array\":{\"type\":\"bytes\",\"data\":\"x/6Qr5Quur9ZI7UL6SDrPxTo6rfL0fA/8YgOWR864T8W/bohUgnuP5PQDSqbL+8/uhc4rfvU6D9V8hxq5TblP+CZErX08ec/VWZKmajCxz/d5MuZYbvwP/KEQ4WXutk/tynCA74Q7D/3CFWy3ovgP9zVGigthts/Jv6mMcYo7j9Gx0LiCPLuP7OZ4cH84O0/AG4+D5Df4D/7ilr8ZAjvPwkxmXLjcNg/NlPX+2Nz8D9cYDgB4tPpP04mZCm+zOo/10WTlYS30j+wJ3B3r8DjP/rgNT3Iptc/tSdu9J1l7z+zFDVR83WyPzyp1Uh06Yq/bj9CVVhd3z9/Ic9GpcraP/J/Umxvweg/4JX9Gmur6j+7YeVxxdnwP+RKRfS44Nc/vJyBPQUM7j8DEkolAhvwPww/xowPIsk/YZxwhglO4T/FFtOP07riP1z2Zr4BG/A/bMfzVd0g0j8oVt8nsOWev4Ta5ctMUOs/UNM2RA1etz+T7ofYzIXeP6JqKMJ6jPA/n+FWxaIEzz9nSyfsAJjmPxaXkHnUJuk/XF+kYypb6z+hToVzwVDQP2cDgBQ/Eco/oC7kG60k8D9YeUZJn7DSP/Rx8Zj6evA/0qJSSTyk1D/+L5RxS3jGPx7uQWPo2u8/ZODn85gZ5j+KrflVyYfGP9v2CUSwzOA/5l1kVx5t7z/4Z5Pb/6vwP2szYTRoR+o/OpDCPy3E5z//TDZ23Y2jP5CCh7XXyew/RsMLRCsf7j8EocooeljwP0HnM0qPRvI/e+CYAGAm7T9pq+s6UhXvP+YTc1I3y+4/8tfPDLLL6D+wzp1ZqZB6v/QoSWyfid8/sDa1QeIT6D8XqFSEL1DwP5qFfnAslNA/9UnCCX3e6j++bmG1fy/sPzEgu6VSicg/jvKRaYf+wz+M5dyGAjDQP8Yz2d4xEOw/MLMD9A2N3T+sEQhDezjuP86QcDhiKck/GpZKuekR7z+eHIjr+TvfPwYTrlS0ju0/+94nBBde6D9b4EEcf3nXPy04eysqtdA/ISRhevif6T/o5rbhrMfWPymgcTYbTKk/AQjYfaVL4j9FrgtwsNzvPwjG5DktCuc/XjOhErCn4D9hEqYhCLDsPynKHd1RtO0/ghIkkU5I2T8AK95fHf7TP0yyLlMyvtw/61Y05LD56D9Gbs5mK/nwP+GqkA2FGvE/YqtgKE3T6j+7er7yO2fpP9hnKzD8weI/Gc8PefTc4j9+l5kjSvPpP/XSomG1R9Y/oMwi3rSA7j9tf5tbGtrlPwe72MzSae4/T1V+0w+R7T/8NI+lUTLhPxcCaJPFhO0/hr9bVTe3yD9PLRYzx1zaPwiv/c244ME/WqwAFt2+5D8R+vSxQEPQP+25wbZdKe0/E7p8xIzC1j8VfawxYffUP8EbztvRANo/HGZ5DO3U6z8JydP8SgDwPyTHAtI8fec/TFZgXkAkpz99njlGBTC7P1prr6rmO+8/0bI5511i1z+bQjNJT2LvP+xHji1ZpOo/jvwSCXKj7T+fQkEQhmrvP+1TnHUGauU/oezVxpKW0j9Y3nUls5TsP+0Dgn0U99I/rvdu1All4z9iwu8raNvtP8lYsGataew/K8pXIZ3t2T/CQuJhvq/RP7LC5ZAqa90/XWyairCH7z+Va1DgVG7HP+ApO4Hg+do/wCF2GiyK7z/RSPVTr/7ZPzSr+qRmv94/qGAztLAIzj9AuT8tZ9jmP59ZiGQ2Scc/amEuq9cb7z93p4RrU5DtPzBLcDIJjfE/GZ7o24h34j8qTrd34R/ZP3jT7pRq58g/\"},\"shape\":[168],\"dtype\":\"float64\",\"order\":\"little\"}],[\"birch_hyphen_minus_labels\",[1,1,1,1,1,1,1,1,1,1,1,1,1,1,1,1,1,1,1,1,1,1,1,1,1,1,1,1,1,1,1,1,1,1,1,1,1,1,1,1,1,1,1,1,1,1,1,1,1,1,1,1,1,1,1,1,1,1,1,1,1,1,1,1,1,1,1,1,1,1,1,1,1,1,1,1,1,1,1,1,1,1,1,1,1,1,1,1,1,1,1,1,1,1,1,1,1,1,1,1,1,1,1,1,1,1,1,1,1,1,1,1,1,1,1,1,1,1,1,1,1,1,1,1,1,1,1,1,1,1,1,1,1,1,1,1,1,1,1,1,1,1,1,1,1,1,1,1,1,1,1,1,1,1,1,1,1,1,1,1,1,1,1,1,1,1,1,1]]]}}},\"view\":{\"type\":\"object\",\"name\":\"CDSView\",\"id\":\"p1075\",\"attributes\":{\"filter\":{\"type\":\"object\",\"name\":\"AllIndices\",\"id\":\"p1076\"}}},\"glyph\":{\"type\":\"object\",\"name\":\"Scatter\",\"id\":\"p1071\",\"attributes\":{\"tags\":[\"apply_ranges\"],\"x\":{\"type\":\"field\",\"field\":\"0\"},\"y\":{\"type\":\"field\",\"field\":\"1\"},\"size\":{\"type\":\"value\",\"value\":5.477225575051661},\"line_color\":{\"type\":\"value\",\"value\":\"#fc4f30\"},\"fill_color\":{\"type\":\"value\",\"value\":\"#fc4f30\"},\"hatch_color\":{\"type\":\"value\",\"value\":\"#fc4f30\"}}},\"selection_glyph\":{\"type\":\"object\",\"name\":\"Scatter\",\"id\":\"p1078\",\"attributes\":{\"tags\":[\"apply_ranges\"],\"x\":{\"type\":\"field\",\"field\":\"0\"},\"y\":{\"type\":\"field\",\"field\":\"1\"},\"size\":{\"type\":\"value\",\"value\":5.477225575051661},\"angle\":{\"type\":\"value\",\"value\":0.0},\"line_color\":{\"type\":\"value\",\"value\":\"#fc4f30\"},\"line_alpha\":{\"type\":\"value\",\"value\":1.0},\"line_width\":{\"type\":\"value\",\"value\":1},\"line_join\":{\"type\":\"value\",\"value\":\"bevel\"},\"line_cap\":{\"type\":\"value\",\"value\":\"butt\"},\"line_dash\":{\"type\":\"value\",\"value\":[]},\"line_dash_offset\":{\"type\":\"value\",\"value\":0},\"fill_color\":{\"type\":\"value\",\"value\":\"#fc4f30\"},\"fill_alpha\":{\"type\":\"value\",\"value\":1.0},\"hatch_color\":{\"type\":\"value\",\"value\":\"#fc4f30\"},\"hatch_alpha\":{\"type\":\"value\",\"value\":1.0},\"hatch_scale\":{\"type\":\"value\",\"value\":12.0},\"hatch_pattern\":{\"type\":\"value\",\"value\":null},\"hatch_weight\":{\"type\":\"value\",\"value\":1.0},\"marker\":{\"type\":\"value\",\"value\":\"circle\"}}},\"nonselection_glyph\":{\"type\":\"object\",\"name\":\"Scatter\",\"id\":\"p1072\",\"attributes\":{\"tags\":[\"apply_ranges\"],\"x\":{\"type\":\"field\",\"field\":\"0\"},\"y\":{\"type\":\"field\",\"field\":\"1\"},\"size\":{\"type\":\"value\",\"value\":5.477225575051661},\"line_color\":{\"type\":\"value\",\"value\":\"#fc4f30\"},\"line_alpha\":{\"type\":\"value\",\"value\":0.1},\"fill_color\":{\"type\":\"value\",\"value\":\"#fc4f30\"},\"fill_alpha\":{\"type\":\"value\",\"value\":0.1},\"hatch_color\":{\"type\":\"value\",\"value\":\"#fc4f30\"},\"hatch_alpha\":{\"type\":\"value\",\"value\":0.1}}},\"muted_glyph\":{\"type\":\"object\",\"name\":\"Scatter\",\"id\":\"p1073\",\"attributes\":{\"tags\":[\"apply_ranges\"],\"x\":{\"type\":\"field\",\"field\":\"0\"},\"y\":{\"type\":\"field\",\"field\":\"1\"},\"size\":{\"type\":\"value\",\"value\":5.477225575051661},\"line_color\":{\"type\":\"value\",\"value\":\"#fc4f30\"},\"line_alpha\":{\"type\":\"value\",\"value\":0.2},\"fill_color\":{\"type\":\"value\",\"value\":\"#fc4f30\"},\"fill_alpha\":{\"type\":\"value\",\"value\":0.2},\"hatch_color\":{\"type\":\"value\",\"value\":\"#fc4f30\"},\"hatch_alpha\":{\"type\":\"value\",\"value\":0.2}}}}}],\"toolbar\":{\"type\":\"object\",\"name\":\"Toolbar\",\"id\":\"p1028\",\"attributes\":{\"tools\":[{\"type\":\"object\",\"name\":\"WheelZoomTool\",\"id\":\"p1014\",\"attributes\":{\"tags\":[\"hv_created\"],\"renderers\":\"auto\",\"zoom_together\":\"none\"}},{\"type\":\"object\",\"name\":\"HoverTool\",\"id\":\"p1015\",\"attributes\":{\"tags\":[\"hv_created\"],\"renderers\":[{\"id\":\"p1059\"},{\"id\":\"p1074\"}],\"tooltips\":[[\"birch-labels\",\"@{birch_hyphen_minus_labels}\"],[\"0\",\"@{A_0}\"],[\"1\",\"@{A_1}\"]]}},{\"type\":\"object\",\"name\":\"SaveTool\",\"id\":\"p1041\"},{\"type\":\"object\",\"name\":\"PanTool\",\"id\":\"p1042\"},{\"type\":\"object\",\"name\":\"BoxZoomTool\",\"id\":\"p1043\",\"attributes\":{\"overlay\":{\"type\":\"object\",\"name\":\"BoxAnnotation\",\"id\":\"p1044\",\"attributes\":{\"syncable\":false,\"level\":\"overlay\",\"visible\":false,\"left\":{\"type\":\"number\",\"value\":\"nan\"},\"right\":{\"type\":\"number\",\"value\":\"nan\"},\"top\":{\"type\":\"number\",\"value\":\"nan\"},\"bottom\":{\"type\":\"number\",\"value\":\"nan\"},\"left_units\":\"canvas\",\"right_units\":\"canvas\",\"top_units\":\"canvas\",\"bottom_units\":\"canvas\",\"line_color\":\"black\",\"line_alpha\":1.0,\"line_width\":2,\"line_dash\":[4,4],\"fill_color\":\"lightgrey\",\"fill_alpha\":0.5}}}},{\"type\":\"object\",\"name\":\"ResetTool\",\"id\":\"p1049\"}],\"active_drag\":{\"id\":\"p1042\"},\"active_scroll\":{\"id\":\"p1014\"}}},\"left\":[{\"type\":\"object\",\"name\":\"LinearAxis\",\"id\":\"p1036\",\"attributes\":{\"ticker\":{\"type\":\"object\",\"name\":\"BasicTicker\",\"id\":\"p1037\",\"attributes\":{\"mantissas\":[1,2,5]}},\"formatter\":{\"type\":\"object\",\"name\":\"BasicTickFormatter\",\"id\":\"p1038\"},\"axis_label\":\"1\",\"major_label_policy\":{\"type\":\"object\",\"name\":\"AllLabels\",\"id\":\"p1039\"}}}],\"right\":[{\"type\":\"object\",\"name\":\"Legend\",\"id\":\"p1062\",\"attributes\":{\"location\":[0,0],\"title\":\"birch-labels\",\"click_policy\":\"mute\",\"items\":[{\"type\":\"object\",\"name\":\"LegendItem\",\"id\":\"p1063\",\"attributes\":{\"label\":{\"type\":\"value\",\"value\":\"0\"},\"renderers\":[{\"id\":\"p1059\"}]}},{\"type\":\"object\",\"name\":\"LegendItem\",\"id\":\"p1077\",\"attributes\":{\"label\":{\"type\":\"value\",\"value\":\"1\"},\"renderers\":[{\"id\":\"p1074\"}]}}]}}],\"below\":[{\"type\":\"object\",\"name\":\"LinearAxis\",\"id\":\"p1031\",\"attributes\":{\"ticker\":{\"type\":\"object\",\"name\":\"BasicTicker\",\"id\":\"p1032\",\"attributes\":{\"mantissas\":[1,2,5]}},\"formatter\":{\"type\":\"object\",\"name\":\"BasicTickFormatter\",\"id\":\"p1033\"},\"axis_label\":\"0\",\"major_label_policy\":{\"type\":\"object\",\"name\":\"AllLabels\",\"id\":\"p1034\"}}}],\"center\":[{\"type\":\"object\",\"name\":\"Grid\",\"id\":\"p1035\",\"attributes\":{\"axis\":{\"id\":\"p1031\"},\"grid_line_color\":null}},{\"type\":\"object\",\"name\":\"Grid\",\"id\":\"p1040\",\"attributes\":{\"dimension\":1,\"axis\":{\"id\":\"p1036\"},\"grid_line_color\":null}}],\"min_border_top\":10,\"min_border_bottom\":10,\"min_border_left\":10,\"min_border_right\":10,\"output_backend\":\"webgl\"}},{\"type\":\"object\",\"name\":\"Spacer\",\"id\":\"p1080\",\"attributes\":{\"name\":\"HSpacer00976\",\"stylesheets\":[\"\\n:host(.pn-loading.pn-arc):before, .pn-loading.pn-arc:before {\\n  background-image: url(\\\"data:image/svg+xml;base64,PHN2ZyB4bWxucz0iaHR0cDovL3d3dy53My5vcmcvMjAwMC9zdmciIHN0eWxlPSJtYXJnaW46IGF1dG87IGJhY2tncm91bmQ6IG5vbmU7IGRpc3BsYXk6IGJsb2NrOyBzaGFwZS1yZW5kZXJpbmc6IGF1dG87IiB2aWV3Qm94PSIwIDAgMTAwIDEwMCIgcHJlc2VydmVBc3BlY3RSYXRpbz0ieE1pZFlNaWQiPiAgPGNpcmNsZSBjeD0iNTAiIGN5PSI1MCIgZmlsbD0ibm9uZSIgc3Ryb2tlPSIjYzNjM2MzIiBzdHJva2Utd2lkdGg9IjEwIiByPSIzNSIgc3Ryb2tlLWRhc2hhcnJheT0iMTY0LjkzMzYxNDMxMzQ2NDE1IDU2Ljk3Nzg3MTQzNzgyMTM4Ij4gICAgPGFuaW1hdGVUcmFuc2Zvcm0gYXR0cmlidXRlTmFtZT0idHJhbnNmb3JtIiB0eXBlPSJyb3RhdGUiIHJlcGVhdENvdW50PSJpbmRlZmluaXRlIiBkdXI9IjFzIiB2YWx1ZXM9IjAgNTAgNTA7MzYwIDUwIDUwIiBrZXlUaW1lcz0iMDsxIj48L2FuaW1hdGVUcmFuc2Zvcm0+ICA8L2NpcmNsZT48L3N2Zz4=\\\");\\n  background-size: auto calc(min(50%, 400px));\\n}\",{\"id\":\"p1007\"},{\"id\":\"p1005\"},{\"id\":\"p1006\"}],\"margin\":0,\"sizing_mode\":\"stretch_width\",\"align\":\"start\"}}]}}],\"defs\":[{\"type\":\"model\",\"name\":\"ReactiveHTML1\"},{\"type\":\"model\",\"name\":\"FlexBox1\",\"properties\":[{\"name\":\"align_content\",\"kind\":\"Any\",\"default\":\"flex-start\"},{\"name\":\"align_items\",\"kind\":\"Any\",\"default\":\"flex-start\"},{\"name\":\"flex_direction\",\"kind\":\"Any\",\"default\":\"row\"},{\"name\":\"flex_wrap\",\"kind\":\"Any\",\"default\":\"wrap\"},{\"name\":\"justify_content\",\"kind\":\"Any\",\"default\":\"flex-start\"}]},{\"type\":\"model\",\"name\":\"FloatPanel1\",\"properties\":[{\"name\":\"config\",\"kind\":\"Any\",\"default\":{\"type\":\"map\"}},{\"name\":\"contained\",\"kind\":\"Any\",\"default\":true},{\"name\":\"position\",\"kind\":\"Any\",\"default\":\"right-top\"},{\"name\":\"offsetx\",\"kind\":\"Any\",\"default\":null},{\"name\":\"offsety\",\"kind\":\"Any\",\"default\":null},{\"name\":\"theme\",\"kind\":\"Any\",\"default\":\"primary\"},{\"name\":\"status\",\"kind\":\"Any\",\"default\":\"normalized\"}]},{\"type\":\"model\",\"name\":\"GridStack1\",\"properties\":[{\"name\":\"mode\",\"kind\":\"Any\",\"default\":\"warn\"},{\"name\":\"ncols\",\"kind\":\"Any\",\"default\":null},{\"name\":\"nrows\",\"kind\":\"Any\",\"default\":null},{\"name\":\"allow_resize\",\"kind\":\"Any\",\"default\":true},{\"name\":\"allow_drag\",\"kind\":\"Any\",\"default\":true},{\"name\":\"state\",\"kind\":\"Any\",\"default\":[]}]},{\"type\":\"model\",\"name\":\"drag1\",\"properties\":[{\"name\":\"slider_width\",\"kind\":\"Any\",\"default\":5},{\"name\":\"slider_color\",\"kind\":\"Any\",\"default\":\"black\"},{\"name\":\"value\",\"kind\":\"Any\",\"default\":50}]},{\"type\":\"model\",\"name\":\"click1\",\"properties\":[{\"name\":\"terminal_output\",\"kind\":\"Any\",\"default\":\"\"},{\"name\":\"debug_name\",\"kind\":\"Any\",\"default\":\"\"},{\"name\":\"clears\",\"kind\":\"Any\",\"default\":0}]},{\"type\":\"model\",\"name\":\"copy_to_clipboard1\",\"properties\":[{\"name\":\"fill\",\"kind\":\"Any\",\"default\":\"none\"},{\"name\":\"value\",\"kind\":\"Any\",\"default\":null}]},{\"type\":\"model\",\"name\":\"FastWrapper1\",\"properties\":[{\"name\":\"object\",\"kind\":\"Any\",\"default\":null},{\"name\":\"style\",\"kind\":\"Any\",\"default\":null}]},{\"type\":\"model\",\"name\":\"NotificationAreaBase1\",\"properties\":[{\"name\":\"js_events\",\"kind\":\"Any\",\"default\":{\"type\":\"map\"}},{\"name\":\"position\",\"kind\":\"Any\",\"default\":\"bottom-right\"},{\"name\":\"_clear\",\"kind\":\"Any\",\"default\":0}]},{\"type\":\"model\",\"name\":\"NotificationArea1\",\"properties\":[{\"name\":\"js_events\",\"kind\":\"Any\",\"default\":{\"type\":\"map\"}},{\"name\":\"notifications\",\"kind\":\"Any\",\"default\":[]},{\"name\":\"position\",\"kind\":\"Any\",\"default\":\"bottom-right\"},{\"name\":\"_clear\",\"kind\":\"Any\",\"default\":0},{\"name\":\"types\",\"kind\":\"Any\",\"default\":[{\"type\":\"map\",\"entries\":[[\"type\",\"warning\"],[\"background\",\"#ffc107\"],[\"icon\",{\"type\":\"map\",\"entries\":[[\"className\",\"fas fa-exclamation-triangle\"],[\"tagName\",\"i\"],[\"color\",\"white\"]]}]]},{\"type\":\"map\",\"entries\":[[\"type\",\"info\"],[\"background\",\"#007bff\"],[\"icon\",{\"type\":\"map\",\"entries\":[[\"className\",\"fas fa-info-circle\"],[\"tagName\",\"i\"],[\"color\",\"white\"]]}]]}]}]},{\"type\":\"model\",\"name\":\"Notification\",\"properties\":[{\"name\":\"background\",\"kind\":\"Any\",\"default\":null},{\"name\":\"duration\",\"kind\":\"Any\",\"default\":3000},{\"name\":\"icon\",\"kind\":\"Any\",\"default\":null},{\"name\":\"message\",\"kind\":\"Any\",\"default\":\"\"},{\"name\":\"notification_type\",\"kind\":\"Any\",\"default\":null},{\"name\":\"_destroyed\",\"kind\":\"Any\",\"default\":false}]},{\"type\":\"model\",\"name\":\"TemplateActions1\",\"properties\":[{\"name\":\"open_modal\",\"kind\":\"Any\",\"default\":0},{\"name\":\"close_modal\",\"kind\":\"Any\",\"default\":0}]},{\"type\":\"model\",\"name\":\"BootstrapTemplateActions1\",\"properties\":[{\"name\":\"open_modal\",\"kind\":\"Any\",\"default\":0},{\"name\":\"close_modal\",\"kind\":\"Any\",\"default\":0}]},{\"type\":\"model\",\"name\":\"MaterialTemplateActions1\",\"properties\":[{\"name\":\"open_modal\",\"kind\":\"Any\",\"default\":0},{\"name\":\"close_modal\",\"kind\":\"Any\",\"default\":0}]}]}};\n",
       "  var render_items = [{\"docid\":\"3135f180-4900-4f11-9d30-041edd9dab5a\",\"roots\":{\"p1004\":\"f35af988-5c91-4124-bba0-0bba835857ed\"},\"root_ids\":[\"p1004\"]}];\n",
       "  var docs = Object.values(docs_json)\n",
       "  if (!docs) {\n",
       "    return\n",
       "  }\n",
       "  const py_version = docs[0].version.replace('rc', '-rc.').replace('.dev', '-dev.')\n",
       "  function embed_document(root) {\n",
       "    var Bokeh = get_bokeh(root)\n",
       "    Bokeh.embed.embed_items_notebook(docs_json, render_items);\n",
       "    for (const render_item of render_items) {\n",
       "      for (const root_id of render_item.root_ids) {\n",
       "\tconst id_el = document.getElementById(root_id)\n",
       "\tif (id_el.children.length && (id_el.children[0].className === 'bk-root')) {\n",
       "\t  const root_el = id_el.children[0]\n",
       "\t  root_el.id = root_el.id + '-rendered'\n",
       "\t}\n",
       "      }\n",
       "    }\n",
       "  }\n",
       "  function get_bokeh(root) {\n",
       "    if (root.Bokeh === undefined) {\n",
       "      return null\n",
       "    } else if (root.Bokeh.version !== py_version) {\n",
       "      if (root.Bokeh.versions === undefined || !root.Bokeh.versions.has(py_version)) {\n",
       "\treturn null\n",
       "      }\n",
       "      return root.Bokeh.versions.get(py_version);\n",
       "    } else if (root.Bokeh.version === py_version) {\n",
       "      return root.Bokeh\n",
       "    }\n",
       "    return null\n",
       "  }\n",
       "  function is_loaded(root) {\n",
       "    var Bokeh = get_bokeh(root)\n",
       "    return (Bokeh != null && Bokeh.Panel !== undefined)\n",
       "  }\n",
       "  if (is_loaded(root)) {\n",
       "    embed_document(root);\n",
       "  } else {\n",
       "    var attempts = 0;\n",
       "    var timer = setInterval(function(root) {\n",
       "      if (is_loaded(root)) {\n",
       "        clearInterval(timer);\n",
       "        embed_document(root);\n",
       "      } else if (document.readyState == \"complete\") {\n",
       "        attempts++;\n",
       "        if (attempts > 200) {\n",
       "          clearInterval(timer);\n",
       "\t  var Bokeh = get_bokeh(root)\n",
       "\t  if (Bokeh == null || Bokeh.Panel == null) {\n",
       "            console.warn(\"Panel: ERROR: Unable to run Panel code because Bokeh or Panel library is missing\");\n",
       "\t  } else {\n",
       "\t    console.warn(\"Panel: WARNING: Attempting to render but not all required libraries could be resolved.\")\n",
       "\t    embed_document(root)\n",
       "\t  }\n",
       "        }\n",
       "      }\n",
       "    }, 25, root)\n",
       "  }\n",
       "})(window);</script>"
      ],
      "text/plain": [
       ":NdOverlay   [birch-labels]\n",
       "   :Scatter   [0]   (1)"
      ]
     },
     "execution_count": 7,
     "metadata": {
      "application/vnd.holoviews_exec.v0+json": {
       "id": "p1004"
      }
     },
     "output_type": "execute_result"
    }
   ],
   "source": [
    "predictions_df.hvplot.scatter(\n",
    "    x=\"0\",\n",
    "    y=\"1\",\n",
    "    by=\"birch-labels\"\n",
    ")"
   ]
  },
  {
   "cell_type": "markdown",
   "id": "503bbdbd",
   "metadata": {},
   "source": [
    "### Estimate Scores for two Versions of the Birch Model"
   ]
  },
  {
   "cell_type": "code",
   "execution_count": 8,
   "id": "af7b9af0",
   "metadata": {},
   "outputs": [],
   "source": [
    "birch_model_two_clusters = Birch(n_clusters=2)\n",
    "birch_model_two_clusters.fit(X)\n",
    "birch_predictions_2 = birch_model_two_clusters.predict(X)"
   ]
  },
  {
   "cell_type": "code",
   "execution_count": 9,
   "id": "eaa46adf",
   "metadata": {},
   "outputs": [],
   "source": [
    "birch_model_three_clusters = Birch(n_clusters=3)\n",
    "birch_model_three_clusters.fit(X)\n",
    "birch_predictions_3 = birch_model_three_clusters.predict(X)"
   ]
  },
  {
   "cell_type": "code",
   "execution_count": 10,
   "id": "c2ee75a7",
   "metadata": {},
   "outputs": [
    {
     "data": {
      "text/plain": [
       "588.1123857523019"
      ]
     },
     "execution_count": 10,
     "metadata": {},
     "output_type": "execute_result"
    }
   ],
   "source": [
    "from sklearn import metrics\n",
    "labels = birch_model_two_clusters.labels_\n",
    "score = metrics.calinski_harabasz_score(X, labels)  \n",
    "score"
   ]
  },
  {
   "cell_type": "code",
   "execution_count": 11,
   "id": "9c288e1b",
   "metadata": {},
   "outputs": [
    {
     "data": {
      "text/plain": [
       "654.2904571777168"
      ]
     },
     "execution_count": 11,
     "metadata": {},
     "output_type": "execute_result"
    }
   ],
   "source": [
    "from sklearn import metrics\n",
    "labels = birch_model_three_clusters.labels_\n",
    "score = metrics.calinski_harabasz_score(X, labels)  \n",
    "score"
   ]
  }
 ],
 "metadata": {
  "kernelspec": {
   "display_name": "Python 3 (ipykernel)",
   "language": "python",
   "name": "python3"
  },
  "language_info": {
   "codemirror_mode": {
    "name": "ipython",
    "version": 3
   },
   "file_extension": ".py",
   "mimetype": "text/x-python",
   "name": "python",
   "nbconvert_exporter": "python",
   "pygments_lexer": "ipython3",
   "version": "3.10.13"
  }
 },
 "nbformat": 4,
 "nbformat_minor": 5
}
