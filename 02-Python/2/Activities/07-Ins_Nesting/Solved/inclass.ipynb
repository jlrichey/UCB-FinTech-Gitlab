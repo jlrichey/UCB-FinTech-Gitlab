{
 "cells": [
  {
   "cell_type": "code",
   "execution_count": 1,
   "id": "e7c7de56-7ccb-487a-beeb-853d91283502",
   "metadata": {},
   "outputs": [],
   "source": [
    "\n",
    "# List\n",
    "ceo_list = [\"Warren\", \"Jack\", \"Harry\"]\n",
    "\n",
    "# List of Lists\n",
    "ceo_nested_list = [\n",
    "    [\"Warren Buffet\", 88, \"CEO of Berkshire Hathaway\"],\n",
    "    [\"Jeff Bezos\", 55, \"CEO of Amazon\"],\n",
    "    [\"Harry Markowitz\", 91, \"Professor of Finance\"]\n",
    "]\n"
   ]
  },
  {
   "cell_type": "code",
   "execution_count": 9,
   "id": "9aaa5b21-01ac-4e3e-82f6-5d8b809f2e69",
   "metadata": {},
   "outputs": [
    {
     "data": {
      "text/plain": [
       "'E'"
      ]
     },
     "execution_count": 9,
     "metadata": {},
     "output_type": "execute_result"
    }
   ],
   "source": [
    "# Retrieve first entry of ceo_nested_list\n",
    "first_entry = ceo_nested_list[0][2]\n",
    "first_entry"
   ]
  },
  {
   "cell_type": "code",
   "execution_count": 11,
   "id": "51899cdc-5a73-4d2b-9383-0eb7042b3ed4",
   "metadata": {},
   "outputs": [
    {
     "data": {
      "text/plain": [
       "'CEO of Berkshire Hathaway'"
      ]
     },
     "execution_count": 11,
     "metadata": {},
     "output_type": "execute_result"
    }
   ],
   "source": [
    "# Retrieve occupation of first entry\n",
    "first_entry_occupation = ceo_nested_list[0][2]\n",
    "first_entry_occupation"
   ]
  },
  {
   "cell_type": "code",
   "execution_count": 17,
   "id": "9d807b72-ccbc-411b-b62c-9efbf6d39f3b",
   "metadata": {},
   "outputs": [],
   "source": [
    "# List of Dicts\n",
    "ceo_nested_dict = [\n",
    "    {\n",
    "        \"name\": \"Warren Buffet\",\n",
    "        \"age\": 88,\n",
    "        \"occupation\": \"CEO of Berkshire Hathaway\"\n",
    "    },\n",
    "    {\n",
    "        \"name\": \"Jeff Bezos\",\n",
    "        \"age\": 55,\n",
    "        \"occupation\": \"CEO of Amazon\"\n",
    "    },\n",
    "    {\n",
    "        \"name\": \"Harry Markowitz\",\n",
    "        \"age\": 91,\n",
    "        \"occupation\": \"Professor of Finance\"\n",
    "    }\n",
    "]"
   ]
  },
  {
   "cell_type": "code",
   "execution_count": 19,
   "id": "7f44e284-14cb-4c65-a5ea-a86010aeeacd",
   "metadata": {},
   "outputs": [
    {
     "data": {
      "text/plain": [
       "{'name': 'Jeff Bezos', 'age': 55, 'occupation': 'CEO of Amazon'}"
      ]
     },
     "execution_count": 19,
     "metadata": {},
     "output_type": "execute_result"
    }
   ],
   "source": [
    "#second entry of this nested list-dict\n",
    "\n",
    "second_entry = ceo_nested_dict[1]\n",
    "second_entry"
   ]
  },
  {
   "cell_type": "code",
   "execution_count": 20,
   "id": "6dcc3870-a796-432d-b05c-80da42abc2a4",
   "metadata": {},
   "outputs": [
    {
     "data": {
      "text/plain": [
       "'Jeff Bezos'"
      ]
     },
     "execution_count": 20,
     "metadata": {},
     "output_type": "execute_result"
    }
   ],
   "source": [
    "name = ceo_nested_dict[1][\"name\"]\n",
    "name"
   ]
  },
  {
   "cell_type": "code",
   "execution_count": 21,
   "id": "e4ad3caa-4a5b-40e0-87dd-9bc43791bb22",
   "metadata": {},
   "outputs": [],
   "source": [
    "# Dictionary of Lists\n",
    "stocks_nested_list = {\n",
    "    \"APPL\": [\"Apple\", 101.32, \"NASDAQ\", 937.7],\n",
    "    \"MU\": [\"Micron Technology\", 32.12, \"NASDAQ\", 48.03],\n",
    "    \"AMD\": [\"Advanced Micro Devices\", 23.12, \"NASDAQ\", 29.94],\n",
    "    \"TWTR\": [\"Twitter\", 34.40, \"NASDAQ\", 26.42]\n",
    "}\n"
   ]
  },
  {
   "cell_type": "code",
   "execution_count": 23,
   "id": "ab81697e-fb13-4e1a-90a6-92a229d1e7f7",
   "metadata": {},
   "outputs": [
    {
     "data": {
      "text/plain": [
       "101.32"
      ]
     },
     "execution_count": 23,
     "metadata": {},
     "output_type": "execute_result"
    }
   ],
   "source": [
    "#first value of this dictionary\n",
    "\n",
    "first_value = stocks_nested_list[\"APPL\"][1]\n",
    "first_value"
   ]
  },
  {
   "cell_type": "code",
   "execution_count": 24,
   "id": "447853de-c92d-40d4-b767-afd2c04bae88",
   "metadata": {},
   "outputs": [],
   "source": [
    "# Dictionary of Dicts\n",
    "stocks_nested_dict = {\n",
    "    \"APPL\": {\n",
    "        \"name\": \"Apple\",\n",
    "        \"exchange\": \"NASDAQ\",\n",
    "        \"market_cap\": 937.7\n",
    "    },\n",
    "    \"MU\": {\n",
    "        \"name\": \"Micron Technology\",\n",
    "        \"exchange\": \"NASDAQ\",\n",
    "        \"market_cap\": 48.03\n",
    "    },\n",
    "    \"AMD\": {\n",
    "        \"name\": \"Advanced Micro Devices\",\n",
    "        \"exchange\": \"NASDAQ\",\n",
    "        \"market_cap\": 29.94\n",
    "    },\n",
    "    \"TWTR\": {\n",
    "        \"name\": \"Twitter\",\n",
    "        \"exchange\": \"NASDAQ\",\n",
    "        \"market_cap\": 26.42\n",
    "    }\n",
    "}"
   ]
  },
  {
   "cell_type": "code",
   "execution_count": 26,
   "id": "a8bd0f14-12a6-460c-bacf-2dc637c0df91",
   "metadata": {},
   "outputs": [
    {
     "data": {
      "text/plain": [
       "'NASDAQ'"
      ]
     },
     "execution_count": 26,
     "metadata": {},
     "output_type": "execute_result"
    }
   ],
   "source": [
    "# Pull AMD dictionary\n",
    "\n",
    "amd_data = stocks_nested_dict['AMD']['exchange']\n",
    "amd_data"
   ]
  },
  {
   "cell_type": "code",
   "execution_count": null,
   "id": "b83e5335-3133-4873-b9d4-402277116b92",
   "metadata": {},
   "outputs": [],
   "source": []
  }
 ],
 "metadata": {
  "kernelspec": {
   "display_name": "Python 3",
   "language": "python",
   "name": "python3"
  },
  "language_info": {
   "codemirror_mode": {
    "name": "ipython",
    "version": 3
   },
   "file_extension": ".py",
   "mimetype": "text/x-python",
   "name": "python",
   "nbconvert_exporter": "python",
   "pygments_lexer": "ipython3",
   "version": "3.7.10"
  }
 },
 "nbformat": 4,
 "nbformat_minor": 5
}
