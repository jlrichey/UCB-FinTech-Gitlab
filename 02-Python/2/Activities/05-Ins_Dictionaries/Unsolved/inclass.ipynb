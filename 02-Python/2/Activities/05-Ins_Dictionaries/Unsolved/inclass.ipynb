{
 "cells": [
  {
   "cell_type": "code",
   "execution_count": 11,
   "id": "56e91b71-3b6f-44bd-8167-ab713fd8a231",
   "metadata": {},
   "outputs": [],
   "source": [
    "  # Initialize a dictionary containing top traders for each month in 2019\n",
    "top_traders_2019 = {\n",
    "    \"january\" : \"Karen\",\n",
    "    \"february\" : \"Harold\",\n",
    "    \"march\" : \"Sam\"\n",
    "}"
   ]
  },
  {
   "cell_type": "code",
   "execution_count": 12,
   "id": "c248ebba-ea8e-4462-9a66-bee4ec9dc16b",
   "metadata": {},
   "outputs": [
    {
     "name": "stdout",
     "output_type": "stream",
     "text": [
      "\n",
      "Dictionary: {'january': 'Karen', 'february': 'Harold', 'march': 'Sam'}\n",
      "\n"
     ]
    }
   ],
   "source": [
    "top_traders_2019\n",
    "print()\n",
    "print(f\"Dictionary: {top_traders_2019}\")\n",
    "print()"
   ]
  },
  {
   "cell_type": "code",
   "execution_count": 13,
   "id": "ec0a8ba3-dd11-4ff4-845b-04f23c72b93f",
   "metadata": {},
   "outputs": [],
   "source": [
    "# Initialize a dictionary\n",
    "trading_pnl = {\n",
    "    \"title\": \"Trading Log\",\n",
    "    \"03-18-2019\": -224,\n",
    "    \"03-19-2019\": 352,\n",
    "    \"03-20-2019\": 252,\n",
    "    \"03-21-2019\": 354,\n",
    "    \"03-22-2019\": -544,\n",
    "    \"03-23-2019\": -650,\n",
    "    \"03-24-2019\": 56,\n",
    "    \"03-25-2019\": 123,\n",
    "    \"03-26-2019\": -43,\n",
    "    \"03-27-2019\": 254,\n",
    "    \"03-28-2019\": 325,\n",
    "    \"03-29-2019\": -123,\n",
    "    \"03-30-2019\": 47,\n",
    "    \"03-31-2019\": 321,\n",
    "    \"04-01-2019\": 123,\n",
    "    \"04-02-2019\": 133,\n",
    "    \"04-03-2019\": -151,\n",
    "    \"04-04-2019\": 613,\n",
    "    \"04-05-2019\": 232,\n",
    "    \"04-06-2019\": -311\n",
    "}\n"
   ]
  },
  {
   "cell_type": "code",
   "execution_count": 14,
   "id": "2613b2eb-50b7-4697-ad22-a670725bc5d0",
   "metadata": {},
   "outputs": [
    {
     "name": "stdout",
     "output_type": "stream",
     "text": [
      "\n",
      "Dictionary: {'title': 'Trading Log', '03-18-2019': -224, '03-19-2019': 352, '03-20-2019': 252, '03-21-2019': 354, '03-22-2019': -544, '03-23-2019': -650, '03-24-2019': 56, '03-25-2019': 123, '03-26-2019': -43, '03-27-2019': 254, '03-28-2019': 325, '03-29-2019': -123, '03-30-2019': 47, '03-31-2019': 321, '04-01-2019': 123, '04-02-2019': 133, '04-03-2019': -151, '04-04-2019': 613, '04-05-2019': 232, '04-06-2019': -311}\n",
      "\n"
     ]
    }
   ],
   "source": [
    "print()\n",
    "print(f\"Dictionary: {trading_pnl}\")\n",
    "print()"
   ]
  },
  {
   "cell_type": "code",
   "execution_count": 28,
   "id": "a9be589f-2f1f-44ff-a362-e03ccc28aa46",
   "metadata": {},
   "outputs": [
    {
     "name": "stdout",
     "output_type": "stream",
     "text": [
      "04-05-2019 --> 232\n",
      "Yes, we have '03-28-2019'\n",
      "\n",
      "Key:title\n",
      "Key:03-18-2019\n",
      "Key:03-19-2019\n",
      "Key:03-20-2019\n",
      "Key:03-21-2019\n",
      "Key:03-22-2019\n",
      "Key:03-23-2019\n",
      "Key:03-24-2019\n",
      "Key:03-25-2019\n",
      "Key:03-26-2019\n",
      "Key:03-27-2019\n",
      "Key:03-28-2019\n",
      "Key:03-29-2019\n",
      "Key:03-30-2019\n",
      "Key:03-31-2019\n",
      "Key:04-01-2019\n",
      "Key:04-02-2019\n",
      "Key:04-03-2019\n",
      "Key:04-04-2019\n",
      "Key:04-05-2019\n",
      "Key:04-06-2019\n",
      "values:Trading Log\n",
      "values:-224\n",
      "values:352\n",
      "values:252\n",
      "values:354\n",
      "values:-544\n",
      "values:-650\n",
      "values:56\n",
      "values:123\n",
      "values:-43\n",
      "values:254\n",
      "values:325\n",
      "values:-123\n",
      "values:47\n",
      "values:321\n",
      "values:123\n",
      "values:133\n",
      "values:-151\n",
      "values:613\n",
      "values:232\n",
      "values:-311\n",
      "Key: title Value:Trading Log\n",
      "Key: 03-18-2019 Value:-224\n",
      "Key: 03-19-2019 Value:352\n",
      "Key: 03-20-2019 Value:252\n",
      "Key: 03-21-2019 Value:354\n",
      "Key: 03-22-2019 Value:-544\n",
      "Key: 03-23-2019 Value:-650\n",
      "Key: 03-24-2019 Value:56\n",
      "Key: 03-25-2019 Value:123\n",
      "Key: 03-26-2019 Value:-43\n",
      "Key: 03-27-2019 Value:254\n",
      "Key: 03-28-2019 Value:325\n",
      "Key: 03-29-2019 Value:-123\n",
      "Key: 03-30-2019 Value:47\n",
      "Key: 03-31-2019 Value:321\n",
      "Key: 04-01-2019 Value:123\n",
      "Key: 04-02-2019 Value:133\n",
      "Key: 04-03-2019 Value:-151\n",
      "Key: 04-04-2019 Value:613\n",
      "Key: 04-05-2019 Value:232\n",
      "Key: 04-06-2019 Value:-311\n"
     ]
    }
   ],
   "source": [
    "# Print out specific value of a key\n",
    "print(f\"04-05-2019 --> {trading_pnl['04-05-2019']}\")\n",
    "\n",
    "# Add a new key-value pair\n",
    "# trading_pnl[\"04-07-2019\"] = 555\n",
    "# print(trading_pnl)\n",
    "# print()\n",
    "\n",
    "# Delete a key-value pair \n",
    "\n",
    "# del trading_pnl[\"04-07-2019\"]\n",
    "# print(trading_pnl)\n",
    "# print()\n",
    "\n",
    "\n",
    "# Check if key exists\n",
    "if \"03-28-2019\" in trading_pnl:\n",
    "    print(\"Yes, we have '03-28-2019'\")\n",
    "    print()\n",
    "\n",
    "\n",
    "# Print out dict values\n",
    "for key in trading_pnl:\n",
    "    print(f\"Key:{key}\")\n",
    "\n",
    "\n",
    "    \n",
    "#Print the values only\n",
    "\n",
    "# Print out dict values\n",
    "for values in trading_pnl:\n",
    "    print(f\"values:{trading_pnl[values]}\")\n",
    "    \n",
    "    \n",
    "    \n",
    "# Print out dict key-value pairs\n",
    "for key, value in trading_pnl.items():\n",
    "    print(f\"Key: {key} Value:{value}\")\n"
   ]
  },
  {
   "cell_type": "code",
   "execution_count": null,
   "id": "a0ae42e2-627e-4913-a0ac-a3076563ec3b",
   "metadata": {},
   "outputs": [],
   "source": []
  },
  {
   "cell_type": "code",
   "execution_count": null,
   "id": "1b221e56-8977-4bf0-9221-d7a07aad7b6e",
   "metadata": {},
   "outputs": [],
   "source": []
  },
  {
   "cell_type": "code",
   "execution_count": null,
   "id": "dc3f594b-42e0-4f75-85b1-81a1b62b2cad",
   "metadata": {},
   "outputs": [],
   "source": []
  },
  {
   "cell_type": "code",
   "execution_count": null,
   "id": "da475cab-eccd-4a81-8623-81ddf1d0c558",
   "metadata": {},
   "outputs": [],
   "source": []
  }
 ],
 "metadata": {
  "kernelspec": {
   "display_name": "Python 3",
   "language": "python",
   "name": "python3"
  },
  "language_info": {
   "codemirror_mode": {
    "name": "ipython",
    "version": 3
   },
   "file_extension": ".py",
   "mimetype": "text/x-python",
   "name": "python",
   "nbconvert_exporter": "python",
   "pygments_lexer": "ipython3",
   "version": "3.7.10"
  }
 },
 "nbformat": 4,
 "nbformat_minor": 5
}
