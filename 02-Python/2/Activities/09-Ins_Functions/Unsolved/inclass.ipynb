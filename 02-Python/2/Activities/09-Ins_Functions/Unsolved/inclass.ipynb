{
 "cells": [
  {
   "cell_type": "code",
   "execution_count": 1,
   "id": "ffc4aac2-0d72-4a97-8570-5b74b7e7127b",
   "metadata": {},
   "outputs": [],
   "source": [
    "import math"
   ]
  },
  {
   "cell_type": "code",
   "execution_count": 2,
   "id": "ce358578-fa6c-4498-a05b-40aa17f18598",
   "metadata": {},
   "outputs": [
    {
     "name": "stdout",
     "output_type": "stream",
     "text": [
      "pi is--> 3.141592653589793\n"
     ]
    }
   ],
   "source": [
    "print('pi is-->', math.pi)"
   ]
  },
  {
   "cell_type": "code",
   "execution_count": 4,
   "id": "0d8f327e-ff76-40e2-92c4-13543709c0f4",
   "metadata": {},
   "outputs": [],
   "source": [
    "# print()\n",
    "# range()\n",
    "# append()\n"
   ]
  },
  {
   "cell_type": "code",
   "execution_count": 5,
   "id": "cea957ac-fd75-4014-83c2-94d6c80cc388",
   "metadata": {},
   "outputs": [],
   "source": [
    "# Create a function\n",
    "\n",
    "def main():\n",
    "    print(\"Hello World\")"
   ]
  },
  {
   "cell_type": "markdown",
   "id": "1eb156c7-7179-4df5-a110-46f8f5662853",
   "metadata": {
    "tags": []
   },
   "source": [
    "f(x) = a*x + b\n",
    "a = 2\n",
    "b = 4\n",
    "f(2) = 8\n",
    "\n",
    "----------\n",
    "\n",
    "def f():\n",
    "    print(\"hello world\")\n",
    "    \n",
    "\n",
    "def f(x):\n",
    "    a = 2\n",
    "    b = 4\n",
    "    solution = a*x + b "
   ]
  },
  {
   "cell_type": "code",
   "execution_count": 6,
   "id": "a6732fde-fa96-44ae-9992-9cdd74885b8d",
   "metadata": {},
   "outputs": [],
   "source": [
    "def f(x):\n",
    "    a = 2\n",
    "    b = 4\n",
    "    solution = a*x + b \n",
    "    return solution"
   ]
  },
  {
   "cell_type": "code",
   "execution_count": 7,
   "id": "c6f13115-595b-4790-97d1-221f3f8a77ca",
   "metadata": {},
   "outputs": [
    {
     "data": {
      "text/plain": [
       "8"
      ]
     },
     "execution_count": 7,
     "metadata": {},
     "output_type": "execute_result"
    }
   ],
   "source": [
    "f(2)"
   ]
  },
  {
   "cell_type": "code",
   "execution_count": 8,
   "id": "4a395f58-240f-460e-973e-953fd1b91df2",
   "metadata": {},
   "outputs": [
    {
     "data": {
      "text/plain": [
       "14"
      ]
     },
     "execution_count": 8,
     "metadata": {},
     "output_type": "execute_result"
    }
   ],
   "source": [
    "f(5)"
   ]
  },
  {
   "cell_type": "code",
   "execution_count": 9,
   "id": "55de0718-44c4-40f9-a015-7c798380b47e",
   "metadata": {},
   "outputs": [],
   "source": [
    "# Calculate the market cap\n",
    "# market price and we need number of shares\n",
    "\n",
    "def calculate_market_cap(market_price, number_shares):\n",
    "    solution = market_price * number_shares\n",
    "    return solution "
   ]
  },
  {
   "cell_type": "code",
   "execution_count": 12,
   "id": "9144139d-5531-4ea0-b592-c41721e24f8b",
   "metadata": {},
   "outputs": [],
   "source": [
    "stock_ticker = \"SBUX\"\n",
    "market_price_SBUX = 76.06\n",
    "number_of_shares_SBUX = 1243600000"
   ]
  },
  {
   "cell_type": "code",
   "execution_count": 15,
   "id": "3b922fdd-c0d7-45cd-a3de-1f8080fdc987",
   "metadata": {},
   "outputs": [
    {
     "data": {
      "text/plain": [
       "94588216000.0"
      ]
     },
     "execution_count": 15,
     "metadata": {},
     "output_type": "execute_result"
    }
   ],
   "source": [
    "market_cap_SBUX = calculate_market_cap(market_price_SBUX, number_of_shares_SBUX)\n",
    "market_cap_SBUX"
   ]
  },
  {
   "cell_type": "code",
   "execution_count": 16,
   "id": "43a35046-edcb-44b4-bdcb-16ccdb2c8406",
   "metadata": {},
   "outputs": [
    {
     "name": "stdout",
     "output_type": "stream",
     "text": [
      "Market Capitalization: 94588216000.0\n",
      "Data type of market_cap variable is: <class 'float'>\n"
     ]
    }
   ],
   "source": [
    "print(f\"Market Capitalization: {market_cap_SBUX}\")\n",
    "print(f\"Data type of market_cap variable is: {type(market_cap_SBUX)}\")"
   ]
  },
  {
   "cell_type": "code",
   "execution_count": null,
   "id": "2fc7f38f-7721-4ac2-8ccf-fcf38550e2e1",
   "metadata": {},
   "outputs": [],
   "source": []
  }
 ],
 "metadata": {
  "kernelspec": {
   "display_name": "Python 3",
   "language": "python",
   "name": "python3"
  },
  "language_info": {
   "codemirror_mode": {
    "name": "ipython",
    "version": 3
   },
   "file_extension": ".py",
   "mimetype": "text/x-python",
   "name": "python",
   "nbconvert_exporter": "python",
   "pygments_lexer": "ipython3",
   "version": "3.7.10"
  }
 },
 "nbformat": 4,
 "nbformat_minor": 5
}
