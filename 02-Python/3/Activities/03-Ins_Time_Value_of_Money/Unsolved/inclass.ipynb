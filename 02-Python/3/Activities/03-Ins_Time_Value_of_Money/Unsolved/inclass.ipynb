{
 "cells": [
  {
   "cell_type": "code",
   "execution_count": 1,
   "id": "375ee8ca-8ecc-4c6d-840f-01183503325e",
   "metadata": {},
   "outputs": [],
   "source": [
    "#define my function of TVM\n",
    "\n",
    "def calculate_future_value(present_value, interest_rate, compounding_periods, years):\n",
    "    future_value = present_value * ((1 + (interest_rate / compounding_periods))**(compounding_periods * years))\n",
    "    future_value_formatted = round(future_value,2)\n",
    "    return future_value_formatted"
   ]
  },
  {
   "cell_type": "code",
   "execution_count": 4,
   "id": "b4a4a828-f3ab-4dc5-bb16-3a7e8dbac033",
   "metadata": {},
   "outputs": [],
   "source": [
    "# Set the values\n",
    "present_value = 10000\n",
    "interest_rate = .1\n",
    "compounding_periods = 1\n",
    "years = 3"
   ]
  },
  {
   "cell_type": "code",
   "execution_count": 5,
   "id": "a165ae50-6ee9-4c7d-b58f-898c2f9f74b6",
   "metadata": {},
   "outputs": [
    {
     "data": {
      "text/plain": [
       "13310.0"
      ]
     },
     "execution_count": 5,
     "metadata": {},
     "output_type": "execute_result"
    }
   ],
   "source": [
    "future_value = calculate_future_value(present_value, interest_rate, compounding_periods, years)\n",
    "future_value"
   ]
  },
  {
   "cell_type": "code",
   "execution_count": 7,
   "id": "afcfbef8-8438-4c4d-b8b9-2124355b56fe",
   "metadata": {},
   "outputs": [
    {
     "name": "stdout",
     "output_type": "stream",
     "text": [
      "The future value of $10000 at an interest rate of 0.1 compounded 1 time(s) every year over 3 years is $13310.0\n"
     ]
    }
   ],
   "source": [
    "print(f\"The future value of ${present_value} at an interest rate of {interest_rate} compounded {compounding_periods} time(s) every year over {years} years is ${future_value}\")\n"
   ]
  },
  {
   "cell_type": "code",
   "execution_count": null,
   "id": "4798336d-a569-452b-8345-c811def1fcfe",
   "metadata": {},
   "outputs": [],
   "source": []
  }
 ],
 "metadata": {
  "kernelspec": {
   "display_name": "Python 3",
   "language": "python",
   "name": "python3"
  },
  "language_info": {
   "codemirror_mode": {
    "name": "ipython",
    "version": 3
   },
   "file_extension": ".py",
   "mimetype": "text/x-python",
   "name": "python",
   "nbconvert_exporter": "python",
   "pygments_lexer": "ipython3",
   "version": "3.7.10"
  }
 },
 "nbformat": 4,
 "nbformat_minor": 5
}
