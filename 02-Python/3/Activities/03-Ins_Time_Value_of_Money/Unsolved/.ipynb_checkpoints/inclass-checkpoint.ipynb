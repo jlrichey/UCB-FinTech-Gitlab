{
 "cells": [
  {
   "cell_type": "code",
   "execution_count": 1,
   "id": "375ee8ca-8ecc-4c6d-840f-01183503325e",
   "metadata": {},
   "outputs": [],
   "source": [
    "#define my function of TVM\n",
    "\n",
    "def calculate_future_value(present_value, interest_rate, compounding_periods, years):\n",
    "    future_value = present_value * ((1 + (interest_rate / compounding_periods))**(compounding_periods * years))\n",
    "    future_value_formatted = round(future_value,2)\n",
    "    return future_value_formatted"
   ]
  },
  {
   "cell_type": "code",
   "execution_count": null,
   "id": "b4a4a828-f3ab-4dc5-bb16-3a7e8dbac033",
   "metadata": {},
   "outputs": [],
   "source": []
  }
 ],
 "metadata": {
  "kernelspec": {
   "display_name": "Python 3",
   "language": "python",
   "name": "python3"
  },
  "language_info": {
   "codemirror_mode": {
    "name": "ipython",
    "version": 3
   },
   "file_extension": ".py",
   "mimetype": "text/x-python",
   "name": "python",
   "nbconvert_exporter": "python",
   "pygments_lexer": "ipython3",
   "version": "3.7.10"
  }
 },
 "nbformat": 4,
 "nbformat_minor": 5
}
