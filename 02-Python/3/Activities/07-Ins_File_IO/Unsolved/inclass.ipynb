{
 "cells": [
  {
   "cell_type": "code",
   "execution_count": null,
   "id": "8d285435-5b67-45eb-a291-3120423facc5",
   "metadata": {},
   "outputs": [],
   "source": [
    "# Import from the pathlib library, the main class Path\n",
    "from pathlib import Path"
   ]
  },
  {
   "cell_type": "code",
   "execution_count": null,
   "id": "a47db6f8-2202-45a1-8e37-6ac4ffce14af",
   "metadata": {},
   "outputs": [],
   "source": [
    "# Check the current directory where the Python program is executing from\n",
    "print(f\"Current Working Directory: {Path.cwd()}\")"
   ]
  },
  {
   "cell_type": "code",
   "execution_count": null,
   "id": "27aba569-8771-43dd-86aa-09be7820460c",
   "metadata": {},
   "outputs": [],
   "source": [
    "# look for the input file input.txt in Resources folder\n",
    "filepath = Path(\"../Resources/input.txt\")"
   ]
  },
  {
   "cell_type": "code",
   "execution_count": null,
   "id": "2e40bb49-2584-491c-b7ec-efdd540c8589",
   "metadata": {},
   "outputs": [],
   "source": [
    "filepath"
   ]
  },
  {
   "cell_type": "code",
   "execution_count": null,
   "id": "841a0356-7f58-41ba-8481-097fd67dc41b",
   "metadata": {},
   "outputs": [],
   "source": [
    "#open the file in a read mode\n",
    "with open(filepath, 'r') as file:\n",
    "    text = file.read()\n",
    "    print(text)\n",
    "    line_num = 1 \n",
    "    for line in file:\n",
    "        print(f\"line {line_num}: {line}\")\n",
    "        line_num +=1"
   ]
  },
  {
   "cell_type": "code",
   "execution_count": null,
   "id": "b7f7511d-2ae0-45e4-afb3-48508db51f81",
   "metadata": {},
   "outputs": [],
   "source": [
    "# filepath2 = Path(\"input_class.txt\")"
   ]
  },
  {
   "cell_type": "code",
   "execution_count": null,
   "id": "be7a1ec7-c6ba-46fe-a27c-21b04e5c323c",
   "metadata": {},
   "outputs": [],
   "source": [
    "# #open the file in a read mode\n",
    "# with open(filepath2, 'r') as file:\n",
    "#     text = file.read()\n",
    "#     print(text)"
   ]
  },
  {
   "cell_type": "code",
   "execution_count": null,
   "id": "e3e66ece-0fb1-4813-938a-c53def29e176",
   "metadata": {},
   "outputs": [],
   "source": [
    "# Send it to an output file\n",
    "output_path = Path(\"../Resources/output.txt\")\n",
    "\n",
    "# open this output.txt file and write the content above\n",
    "with open(output_path, 'w') as file:\n",
    "    file.write(\"This is the output file executed.\\n\")\n",
    "    file.write(text)"
   ]
  },
  {
   "cell_type": "code",
   "execution_count": 1,
   "id": "3b7db8e9-570a-4569-8821-2e0375329368",
   "metadata": {},
   "outputs": [],
   "source": [
    "# Import the pathlib and csv library\n",
    "from pathlib import Path\n",
    "import csv\n"
   ]
  },
  {
   "cell_type": "code",
   "execution_count": 2,
   "id": "4e0cb507-4356-4022-ae9d-1475d6db73a3",
   "metadata": {},
   "outputs": [],
   "source": [
    "# Set the file path\n",
    "csvpath = Path('../Resources/accounting.csv')"
   ]
  },
  {
   "cell_type": "code",
   "execution_count": 3,
   "id": "9a06b778-e8ea-4352-bc49-aa13ae8baf35",
   "metadata": {},
   "outputs": [],
   "source": [
    "# Initialize line_num variable\n",
    "line_num = 0\n",
    "# Initialize variable to hold salaries\n",
    "salaries = []"
   ]
  },
  {
   "cell_type": "code",
   "execution_count": 4,
   "id": "958afeeb-2b7c-4760-9127-1a4aeaa18c67",
   "metadata": {},
   "outputs": [
    {
     "name": "stdout",
     "output_type": "stream",
     "text": [
      "<class '_io.TextIOWrapper'>\n",
      "['First Name', 'Last Name', 'SSN', 'Salary']<--- HEADER\n"
     ]
    }
   ],
   "source": [
    "with open(csvpath, 'r') as csvfile:\n",
    "    \n",
    "    print(type(csvfile))\n",
    "    csvreader = csv.reader(csvfile, delimiter=',')\n",
    "    header = next(csvreader)\n",
    "    line_num +=1\n",
    "    \n",
    "    print(f\"{header}<--- HEADER\")\n",
    "    \n",
    "    for row in csvreader:\n",
    "#         print(row)\n",
    "        salary = int(row[3])\n",
    "        salaries.append(salary)\n",
    "    "
   ]
  },
  {
   "cell_type": "code",
   "execution_count": 5,
   "id": "b95a233b-bd31-49e2-9422-de947fb8153f",
   "metadata": {},
   "outputs": [
    {
     "data": {
      "text/plain": [
       "[75000,\n",
       " 40000,\n",
       " 120000,\n",
       " 90000,\n",
       " 60000,\n",
       " 35000,\n",
       " 150000,\n",
       " 75000,\n",
       " 50000,\n",
       " 65000,\n",
       " 40000,\n",
       " 90000]"
      ]
     },
     "execution_count": 5,
     "metadata": {},
     "output_type": "execute_result"
    }
   ],
   "source": [
    "salaries"
   ]
  },
  {
   "cell_type": "code",
   "execution_count": 6,
   "id": "e821ce8a-83a4-433e-b962-f989a931ef34",
   "metadata": {},
   "outputs": [],
   "source": [
    "# Initialize metric variables\n",
    "max_salary = 0\n",
    "min_salary = 0\n",
    "avg_salary = 0\n",
    "total_salary = 0\n",
    "count_salary = 0\n"
   ]
  },
  {
   "cell_type": "code",
   "execution_count": 7,
   "id": "462f2faf-930d-4565-a589-76a1c10b57e9",
   "metadata": {},
   "outputs": [],
   "source": [
    "# Calculate the max, mean, and average of the list of salaries\n",
    "for salary in salaries:\n",
    "\n",
    "    # Sum the total and count variables\n",
    "    total_salary += salary\n",
    "    count_salary += 1\n",
    "    # Logic to determine min and max salaries\n",
    "    if min_salary == 0:\n",
    "        min_salary = salary\n",
    "    elif salary > max_salary:\n",
    "        max_salary = salary\n",
    "    elif salary < min_salary:\n",
    "        min_salary = salary"
   ]
  },
  {
   "cell_type": "code",
   "execution_count": 8,
   "id": "7d7e958f-0c3e-4903-88be-66ef6c2b847f",
   "metadata": {},
   "outputs": [
    {
     "name": "stdout",
     "output_type": "stream",
     "text": [
      "150000 35000 74166.67\n"
     ]
    }
   ],
   "source": [
    "# Calculate the average salary, round to the nearest 2 decimal places\n",
    "avg_salary = round(total_salary / count_salary, 2)\n",
    "\n",
    "# Print the metrics\n",
    "print(max_salary, min_salary, avg_salary)"
   ]
  },
  {
   "cell_type": "code",
   "execution_count": 9,
   "id": "9ac853a4-8c9e-4049-bf2d-c0128f0180ad",
   "metadata": {},
   "outputs": [],
   "source": [
    "# Set the output header\n",
    "header = [\"Max_Salary\", \"Min_Salary\", \"Avg_Salary\"]\n",
    "\n",
    "# Create a list of metrics\n",
    "metrics = [max_salary, min_salary, avg_salary]"
   ]
  },
  {
   "cell_type": "code",
   "execution_count": 10,
   "id": "212e8691-6ce5-441e-851e-79b5da7ce33f",
   "metadata": {},
   "outputs": [
    {
     "data": {
      "text/plain": [
       "[150000, 35000, 74166.67]"
      ]
     },
     "execution_count": 10,
     "metadata": {},
     "output_type": "execute_result"
    }
   ],
   "source": [
    "metrics"
   ]
  },
  {
   "cell_type": "code",
   "execution_count": 11,
   "id": "1e58a99b-65d6-4397-ac72-af36e62cf806",
   "metadata": {},
   "outputs": [],
   "source": [
    "output_path = Path('output.csv')"
   ]
  },
  {
   "cell_type": "code",
   "execution_count": 12,
   "id": "5a7ead81-cf6b-49aa-bfe2-b4c6e309f677",
   "metadata": {},
   "outputs": [],
   "source": [
    "with open(output_path, 'w')as csvfile:\n",
    "    csvwriter = csv.writer(csvfile,delimiter=',')\n",
    "    csvwriter.writerow(header)\n",
    "    csvwriter.writerow(metrics)"
   ]
  },
  {
   "cell_type": "code",
   "execution_count": null,
   "id": "f8d0e99e-f10f-4d31-ac9b-feaf22fc54f6",
   "metadata": {},
   "outputs": [],
   "source": []
  }
 ],
 "metadata": {
  "kernelspec": {
   "display_name": "Python 3",
   "language": "python",
   "name": "python3"
  },
  "language_info": {
   "codemirror_mode": {
    "name": "ipython",
    "version": 3
   },
   "file_extension": ".py",
   "mimetype": "text/x-python",
   "name": "python",
   "nbconvert_exporter": "python",
   "pygments_lexer": "ipython3",
   "version": "3.7.10"
  }
 },
 "nbformat": 4,
 "nbformat_minor": 5
}
